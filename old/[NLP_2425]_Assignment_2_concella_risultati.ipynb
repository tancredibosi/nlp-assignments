{
  "cells": [
    {
      "cell_type": "markdown",
      "metadata": {
        "id": "-WeCeITXoxLf"
      },
      "source": [
        "# Assignment 2\n",
        "\n",
        "**Credits**: Federico Ruggeri, Eleonora Mancini, Paolo Torroni\n",
        "\n",
        "**Keywords**: Sexism Detection, Multi-class Classification, LLMs, Prompting"
      ]
    },
    {
      "cell_type": "markdown",
      "metadata": {
        "id": "vFN9Q2rGLJnc"
      },
      "source": [
        "\n",
        "# Contact\n",
        "\n",
        "For any doubt, question, issue or help, you can always contact us at the following email addresses:\n",
        "\n",
        "Teaching Assistants:\n",
        "\n",
        "* Federico Ruggeri -> federico.ruggeri6@unibo.it\n",
        "* Eleonora Mancini -> e.mancini@unibo.it\n",
        "\n",
        "Professor:\n",
        "\n",
        "* Paolo Torroni -> p.torroni@unibo.it"
      ]
    },
    {
      "cell_type": "markdown",
      "metadata": {
        "id": "bN4nmQacznGV"
      },
      "source": [
        "# Relevant Material\n",
        "\n",
        "- Tutorial 3\n",
        "- Huggingface documentation\n",
        "- Huggingface hub"
      ]
    },
    {
      "cell_type": "markdown",
      "metadata": {
        "id": "Ck47wFhrLJnc"
      },
      "source": [
        "# Introduction\n",
        "\n",
        "You are tasked to address the [EDOS Task A](https://github.com/rewire-online/edos) on sexism detection."
      ]
    },
    {
      "cell_type": "markdown",
      "metadata": {
        "id": "5mtjp0cGLJnc"
      },
      "source": [
        "## Problem definition\n",
        "\n",
        "Given an input text sentence, the task is to label the sentence as sexist or not sexist (binary classification).\n",
        "\n",
        "### Examples:\n",
        "\n",
        "**Text**: *``Schedule a date with her, then don't show up. Then text her \"GOTCHA B___H\".''*\n",
        "\n",
        "**Label**: Sexist\n",
        "\n",
        "**Text**: *``That’s completely ridiculous a woman flashing her boobs is not sexual assault in the slightest.''*\n",
        "\n",
        "**Label**: Not sexist\n",
        "\n"
      ]
    },
    {
      "cell_type": "markdown",
      "metadata": {
        "id": "3dqwRZx-QNGX"
      },
      "source": [
        "## Approach\n",
        "\n",
        "We will tackle the binary classification task with LLMs.\n",
        "\n",
        "In particular, we'll consider zero-/few-shot prompting approaches to assess the capability of some popular open-source LLMs on this task."
      ]
    },
    {
      "cell_type": "markdown",
      "metadata": {
        "id": "PS3igwXpQcAY"
      },
      "source": [
        "## Preliminaries\n",
        "\n",
        "We are going to download LLMs from [Huggingface](https://huggingface.co/).\n",
        "\n",
        "Many of these open-source LLMs require you to accept their \"Community License Agreement\" to download them.\n",
        "\n",
        "In summary:\n",
        "\n",
        "- If not already, create an account of Huggingface (~2 mins)\n",
        "- Check a LLM model card page (e.g., [Mistral v3](https://huggingface.co/mistralai/Mistral-7B-Instruct-v0.3)) and accept its \"Community License Agreement\".\n",
        "- Go to your account -> Settings -> Access Tokens -> Create new token -> \"Repositories permissions\" -> add the LLM model card you want to use.\n",
        "- Save the token (we'll need it later)"
      ]
    },
    {
      "cell_type": "code",
      "source": [
        "!pip install -U bitsandbytes\n",
        "!pip install -U transformers torch"
      ],
      "metadata": {
        "id": "8rpsGuESSVuP",
        "colab": {
          "base_uri": "https://localhost:8080/"
        },
        "outputId": "2be9b09e-c85e-40b1-a897-b6f439a6057c"
      },
      "execution_count": null,
      "outputs": [
        {
          "output_type": "stream",
          "name": "stdout",
          "text": [
            "Collecting bitsandbytes\n",
            "  Downloading bitsandbytes-0.45.0-py3-none-manylinux_2_24_x86_64.whl.metadata (2.9 kB)\n",
            "Requirement already satisfied: torch in /usr/local/lib/python3.10/dist-packages (from bitsandbytes) (2.5.1+cu121)\n",
            "Requirement already satisfied: numpy in /usr/local/lib/python3.10/dist-packages (from bitsandbytes) (1.26.4)\n",
            "Requirement already satisfied: typing_extensions>=4.8.0 in /usr/local/lib/python3.10/dist-packages (from bitsandbytes) (4.12.2)\n",
            "Requirement already satisfied: filelock in /usr/local/lib/python3.10/dist-packages (from torch->bitsandbytes) (3.16.1)\n",
            "Requirement already satisfied: networkx in /usr/local/lib/python3.10/dist-packages (from torch->bitsandbytes) (3.4.2)\n",
            "Requirement already satisfied: jinja2 in /usr/local/lib/python3.10/dist-packages (from torch->bitsandbytes) (3.1.4)\n",
            "Requirement already satisfied: fsspec in /usr/local/lib/python3.10/dist-packages (from torch->bitsandbytes) (2024.10.0)\n",
            "Requirement already satisfied: sympy==1.13.1 in /usr/local/lib/python3.10/dist-packages (from torch->bitsandbytes) (1.13.1)\n",
            "Requirement already satisfied: mpmath<1.4,>=1.1.0 in /usr/local/lib/python3.10/dist-packages (from sympy==1.13.1->torch->bitsandbytes) (1.3.0)\n",
            "Requirement already satisfied: MarkupSafe>=2.0 in /usr/local/lib/python3.10/dist-packages (from jinja2->torch->bitsandbytes) (3.0.2)\n",
            "Downloading bitsandbytes-0.45.0-py3-none-manylinux_2_24_x86_64.whl (69.1 MB)\n",
            "\u001b[2K   \u001b[90m━━━━━━━━━━━━━━━━━━━━━━━━━━━━━━━━━━━━━━━━\u001b[0m \u001b[32m69.1/69.1 MB\u001b[0m \u001b[31m12.1 MB/s\u001b[0m eta \u001b[36m0:00:00\u001b[0m\n",
            "\u001b[?25hInstalling collected packages: bitsandbytes\n",
            "Successfully installed bitsandbytes-0.45.0\n",
            "Requirement already satisfied: transformers in /usr/local/lib/python3.10/dist-packages (4.47.1)\n",
            "Requirement already satisfied: torch in /usr/local/lib/python3.10/dist-packages (2.5.1+cu121)\n",
            "Requirement already satisfied: filelock in /usr/local/lib/python3.10/dist-packages (from transformers) (3.16.1)\n",
            "Requirement already satisfied: huggingface-hub<1.0,>=0.24.0 in /usr/local/lib/python3.10/dist-packages (from transformers) (0.27.0)\n",
            "Requirement already satisfied: numpy>=1.17 in /usr/local/lib/python3.10/dist-packages (from transformers) (1.26.4)\n",
            "Requirement already satisfied: packaging>=20.0 in /usr/local/lib/python3.10/dist-packages (from transformers) (24.2)\n",
            "Requirement already satisfied: pyyaml>=5.1 in /usr/local/lib/python3.10/dist-packages (from transformers) (6.0.2)\n",
            "Requirement already satisfied: regex!=2019.12.17 in /usr/local/lib/python3.10/dist-packages (from transformers) (2024.11.6)\n",
            "Requirement already satisfied: requests in /usr/local/lib/python3.10/dist-packages (from transformers) (2.32.3)\n",
            "Requirement already satisfied: tokenizers<0.22,>=0.21 in /usr/local/lib/python3.10/dist-packages (from transformers) (0.21.0)\n",
            "Requirement already satisfied: safetensors>=0.4.1 in /usr/local/lib/python3.10/dist-packages (from transformers) (0.4.5)\n",
            "Requirement already satisfied: tqdm>=4.27 in /usr/local/lib/python3.10/dist-packages (from transformers) (4.67.1)\n",
            "Requirement already satisfied: typing-extensions>=4.8.0 in /usr/local/lib/python3.10/dist-packages (from torch) (4.12.2)\n",
            "Requirement already satisfied: networkx in /usr/local/lib/python3.10/dist-packages (from torch) (3.4.2)\n",
            "Requirement already satisfied: jinja2 in /usr/local/lib/python3.10/dist-packages (from torch) (3.1.4)\n",
            "Requirement already satisfied: fsspec in /usr/local/lib/python3.10/dist-packages (from torch) (2024.10.0)\n",
            "Requirement already satisfied: sympy==1.13.1 in /usr/local/lib/python3.10/dist-packages (from torch) (1.13.1)\n",
            "Requirement already satisfied: mpmath<1.4,>=1.1.0 in /usr/local/lib/python3.10/dist-packages (from sympy==1.13.1->torch) (1.3.0)\n",
            "Requirement already satisfied: MarkupSafe>=2.0 in /usr/local/lib/python3.10/dist-packages (from jinja2->torch) (3.0.2)\n",
            "Requirement already satisfied: charset-normalizer<4,>=2 in /usr/local/lib/python3.10/dist-packages (from requests->transformers) (3.4.0)\n",
            "Requirement already satisfied: idna<4,>=2.5 in /usr/local/lib/python3.10/dist-packages (from requests->transformers) (3.10)\n",
            "Requirement already satisfied: urllib3<3,>=1.21.1 in /usr/local/lib/python3.10/dist-packages (from requests->transformers) (2.2.3)\n",
            "Requirement already satisfied: certifi>=2017.4.17 in /usr/local/lib/python3.10/dist-packages (from requests->transformers) (2024.12.14)\n"
          ]
        }
      ]
    },
    {
      "cell_type": "markdown",
      "metadata": {
        "id": "xqEsPH_JSxw6"
      },
      "source": [
        "### Huggingface Login\n",
        "\n",
        "Once we have created an account and an access token, we need to login to Huggingface via code.\n",
        "\n",
        "- Type your token and press Enter\n",
        "- You can say No to Github linking"
      ]
    },
    {
      "cell_type": "code",
      "execution_count": null,
      "metadata": {
        "id": "_uWEUjs0THxP",
        "colab": {
          "base_uri": "https://localhost:8080/"
        },
        "outputId": "e430bfd0-2332-4f3c-f323-15fef37df8f2"
      },
      "outputs": [
        {
          "output_type": "stream",
          "name": "stdout",
          "text": [
            "\n",
            "    _|    _|  _|    _|    _|_|_|    _|_|_|  _|_|_|  _|      _|    _|_|_|      _|_|_|_|    _|_|      _|_|_|  _|_|_|_|\n",
            "    _|    _|  _|    _|  _|        _|          _|    _|_|    _|  _|            _|        _|    _|  _|        _|\n",
            "    _|_|_|_|  _|    _|  _|  _|_|  _|  _|_|    _|    _|  _|  _|  _|  _|_|      _|_|_|    _|_|_|_|  _|        _|_|_|\n",
            "    _|    _|  _|    _|  _|    _|  _|    _|    _|    _|    _|_|  _|    _|      _|        _|    _|  _|        _|\n",
            "    _|    _|    _|_|      _|_|_|    _|_|_|  _|_|_|  _|      _|    _|_|_|      _|        _|    _|    _|_|_|  _|_|_|_|\n",
            "\n",
            "    To log in, `huggingface_hub` requires a token generated from https://huggingface.co/settings/tokens .\n",
            "Enter your token (input will not be visible): \n",
            "Add token as git credential? (Y/n) n\n",
            "Token is valid (permission: fineGrained).\n",
            "The token `mistral-token` has been saved to /root/.cache/huggingface/stored_tokens\n",
            "Your token has been saved to /root/.cache/huggingface/token\n",
            "Login successful.\n",
            "The current active token is: `mistral-token`\n"
          ]
        }
      ],
      "source": [
        "!huggingface-cli login"
      ]
    },
    {
      "cell_type": "markdown",
      "metadata": {
        "id": "MLxSrY-4e_0J"
      },
      "source": [
        "After login, you can download all models associated with your access token in addition to those that are not protected by an access token."
      ]
    },
    {
      "cell_type": "markdown",
      "metadata": {
        "id": "pEYMBnAQLJnc"
      },
      "source": [
        "### Data Loading\n",
        "\n",
        "Since we are only interested in prompting, we do not require a train dataset.\n",
        "\n",
        "We have preparared a small test set version of EDOS in our dedicated [Github repository](https://github.com/lt-nlp-lab-unibo/nlp-course-material).\n",
        "\n",
        "Check the ``Assignment 2/data`` folder.\n",
        "It contains:\n",
        "\n",
        "- ``a2_test.csv`` → a small test set of 300 samples.\n",
        "- ``demonstrations.csv`` -> a batch of 1000 samples for few-shot prompting.\n",
        "\n",
        "Both datasets contain a balanced number of sexist and not sexist samples.\n"
      ]
    },
    {
      "cell_type": "markdown",
      "metadata": {
        "id": "B5XyOcFGLJnd"
      },
      "source": [
        "### Instructions\n",
        "\n",
        "We require you to:\n",
        "\n",
        "* **Download** the ``A2/data`` folder.\n",
        "* **Encode** ``a2_test.csv`` into a ``pandas.DataFrame`` object."
      ]
    },
    {
      "cell_type": "code",
      "source": [
        "import os\n",
        "import requests\n",
        "from pathlib import Path\n",
        "import pandas as pd\n",
        "import matplotlib.pyplot as plt\n",
        "import seaborn as sns\n",
        "import json\n",
        "import zipfile\n",
        "import numpy as np\n",
        "from tqdm import tqdm\n",
        "import re\n",
        "import string\n",
        "import nltk\n",
        "from nltk.corpus import stopwords\n",
        "from nltk.tokenize import word_tokenize\n",
        "from nltk.stem import WordNetLemmatizer\n",
        "from sklearn.metrics import precision_score, recall_score, f1_score, confusion_matrix, precision_recall_curve, PrecisionRecallDisplay, classification_report\n",
        "from IPython.display import display, HTML\n",
        "from wordcloud import WordCloud\n",
        "from collections import Counter\n",
        "from pathlib import Path\n",
        "from transformers import pipeline, AutoModelForCausalLM, AutoTokenizer\n",
        "from transformers import BitsAndBytesConfig\n",
        "import torch\n",
        "from tabulate import tabulate\n",
        "import warnings\n",
        "\n",
        "warnings.filterwarnings(\"ignore\", category=FutureWarning)"
      ],
      "metadata": {
        "id": "LZam9B88dCwt"
      },
      "execution_count": null,
      "outputs": []
    },
    {
      "cell_type": "code",
      "source": [
        "base_url = \"https://raw.githubusercontent.com/nlp-unibo/nlp-course-material/refs/heads/main/2024-2025/Assignment%202/data/\"\n",
        "json_files = [\"a2_test.csv\", \"demonstrations.csv\"]\n",
        "local_dir = Path(\"Assignment2/data\")\n",
        "local_dir.mkdir(parents=True, exist_ok=True)\n",
        "\n",
        "# Download each file\n",
        "for file_name in json_files:\n",
        "    url = base_url + file_name\n",
        "    response = requests.get(url)\n",
        "    if response.status_code == 200:\n",
        "        with open(local_dir / file_name, \"wb\") as file:\n",
        "            file.write(response.content)\n",
        "        print(f\"Downloaded {file_name}\")\n",
        "    else:\n",
        "        print(f\"Failed to download {file_name}\")\n",
        "\n",
        "# Load JSON files into pandas DataFrames\n",
        "dataframes = {}\n",
        "for file_name in json_files:\n",
        "    with open(local_dir / file_name, \"r\") as file:\n",
        "        dataframes[file_name] = pd.read_csv(file)"
      ],
      "metadata": {
        "colab": {
          "base_uri": "https://localhost:8080/"
        },
        "id": "t3ShNUijc8-5",
        "outputId": "05417c2b-2eda-45c7-e15c-d442713cd4df"
      },
      "execution_count": null,
      "outputs": [
        {
          "output_type": "stream",
          "name": "stdout",
          "text": [
            "Downloaded a2_test.csv\n",
            "Downloaded demonstrations.csv\n"
          ]
        }
      ]
    },
    {
      "cell_type": "code",
      "source": [
        "test_data = dataframes['a2_test.csv']"
      ],
      "metadata": {
        "id": "90Eypeakeg1e"
      },
      "execution_count": null,
      "outputs": []
    },
    {
      "cell_type": "code",
      "source": [
        "test_data.head()"
      ],
      "metadata": {
        "colab": {
          "base_uri": "https://localhost:8080/",
          "height": 206
        },
        "id": "-vSsWEIZeooP",
        "outputId": "e4104232-81f1-4e10-b724-ce505ce2c215"
      },
      "execution_count": null,
      "outputs": [
        {
          "output_type": "execute_result",
          "data": {
            "text/plain": [
              "                  rewire_id  \\\n",
              "0  sexism2022_english-17133   \n",
              "1  sexism2022_english-14197   \n",
              "2   sexism2022_english-3018   \n",
              "3   sexism2022_english-5301   \n",
              "4  sexism2022_english-17796   \n",
              "\n",
              "                                                text label_sexist  \n",
              "0  The boys must be gaming because there goes the...   not sexist  \n",
              "1  Look at those eyes. Either someone unexpectedl...       sexist  \n",
              "2                  Old man mogs everyone in this sub   not sexist  \n",
              "3  Excellent, I was just looking at another post ...   not sexist  \n",
              "4  So you run back to daddy whenever you need hel...       sexist  "
            ],
            "text/html": [
              "\n",
              "  <div id=\"df-f1d89d41-e62d-476f-bbcc-37ab9aad0473\" class=\"colab-df-container\">\n",
              "    <div>\n",
              "<style scoped>\n",
              "    .dataframe tbody tr th:only-of-type {\n",
              "        vertical-align: middle;\n",
              "    }\n",
              "\n",
              "    .dataframe tbody tr th {\n",
              "        vertical-align: top;\n",
              "    }\n",
              "\n",
              "    .dataframe thead th {\n",
              "        text-align: right;\n",
              "    }\n",
              "</style>\n",
              "<table border=\"1\" class=\"dataframe\">\n",
              "  <thead>\n",
              "    <tr style=\"text-align: right;\">\n",
              "      <th></th>\n",
              "      <th>rewire_id</th>\n",
              "      <th>text</th>\n",
              "      <th>label_sexist</th>\n",
              "    </tr>\n",
              "  </thead>\n",
              "  <tbody>\n",
              "    <tr>\n",
              "      <th>0</th>\n",
              "      <td>sexism2022_english-17133</td>\n",
              "      <td>The boys must be gaming because there goes the...</td>\n",
              "      <td>not sexist</td>\n",
              "    </tr>\n",
              "    <tr>\n",
              "      <th>1</th>\n",
              "      <td>sexism2022_english-14197</td>\n",
              "      <td>Look at those eyes. Either someone unexpectedl...</td>\n",
              "      <td>sexist</td>\n",
              "    </tr>\n",
              "    <tr>\n",
              "      <th>2</th>\n",
              "      <td>sexism2022_english-3018</td>\n",
              "      <td>Old man mogs everyone in this sub</td>\n",
              "      <td>not sexist</td>\n",
              "    </tr>\n",
              "    <tr>\n",
              "      <th>3</th>\n",
              "      <td>sexism2022_english-5301</td>\n",
              "      <td>Excellent, I was just looking at another post ...</td>\n",
              "      <td>not sexist</td>\n",
              "    </tr>\n",
              "    <tr>\n",
              "      <th>4</th>\n",
              "      <td>sexism2022_english-17796</td>\n",
              "      <td>So you run back to daddy whenever you need hel...</td>\n",
              "      <td>sexist</td>\n",
              "    </tr>\n",
              "  </tbody>\n",
              "</table>\n",
              "</div>\n",
              "    <div class=\"colab-df-buttons\">\n",
              "\n",
              "  <div class=\"colab-df-container\">\n",
              "    <button class=\"colab-df-convert\" onclick=\"convertToInteractive('df-f1d89d41-e62d-476f-bbcc-37ab9aad0473')\"\n",
              "            title=\"Convert this dataframe to an interactive table.\"\n",
              "            style=\"display:none;\">\n",
              "\n",
              "  <svg xmlns=\"http://www.w3.org/2000/svg\" height=\"24px\" viewBox=\"0 -960 960 960\">\n",
              "    <path d=\"M120-120v-720h720v720H120Zm60-500h600v-160H180v160Zm220 220h160v-160H400v160Zm0 220h160v-160H400v160ZM180-400h160v-160H180v160Zm440 0h160v-160H620v160ZM180-180h160v-160H180v160Zm440 0h160v-160H620v160Z\"/>\n",
              "  </svg>\n",
              "    </button>\n",
              "\n",
              "  <style>\n",
              "    .colab-df-container {\n",
              "      display:flex;\n",
              "      gap: 12px;\n",
              "    }\n",
              "\n",
              "    .colab-df-convert {\n",
              "      background-color: #E8F0FE;\n",
              "      border: none;\n",
              "      border-radius: 50%;\n",
              "      cursor: pointer;\n",
              "      display: none;\n",
              "      fill: #1967D2;\n",
              "      height: 32px;\n",
              "      padding: 0 0 0 0;\n",
              "      width: 32px;\n",
              "    }\n",
              "\n",
              "    .colab-df-convert:hover {\n",
              "      background-color: #E2EBFA;\n",
              "      box-shadow: 0px 1px 2px rgba(60, 64, 67, 0.3), 0px 1px 3px 1px rgba(60, 64, 67, 0.15);\n",
              "      fill: #174EA6;\n",
              "    }\n",
              "\n",
              "    .colab-df-buttons div {\n",
              "      margin-bottom: 4px;\n",
              "    }\n",
              "\n",
              "    [theme=dark] .colab-df-convert {\n",
              "      background-color: #3B4455;\n",
              "      fill: #D2E3FC;\n",
              "    }\n",
              "\n",
              "    [theme=dark] .colab-df-convert:hover {\n",
              "      background-color: #434B5C;\n",
              "      box-shadow: 0px 1px 3px 1px rgba(0, 0, 0, 0.15);\n",
              "      filter: drop-shadow(0px 1px 2px rgba(0, 0, 0, 0.3));\n",
              "      fill: #FFFFFF;\n",
              "    }\n",
              "  </style>\n",
              "\n",
              "    <script>\n",
              "      const buttonEl =\n",
              "        document.querySelector('#df-f1d89d41-e62d-476f-bbcc-37ab9aad0473 button.colab-df-convert');\n",
              "      buttonEl.style.display =\n",
              "        google.colab.kernel.accessAllowed ? 'block' : 'none';\n",
              "\n",
              "      async function convertToInteractive(key) {\n",
              "        const element = document.querySelector('#df-f1d89d41-e62d-476f-bbcc-37ab9aad0473');\n",
              "        const dataTable =\n",
              "          await google.colab.kernel.invokeFunction('convertToInteractive',\n",
              "                                                    [key], {});\n",
              "        if (!dataTable) return;\n",
              "\n",
              "        const docLinkHtml = 'Like what you see? Visit the ' +\n",
              "          '<a target=\"_blank\" href=https://colab.research.google.com/notebooks/data_table.ipynb>data table notebook</a>'\n",
              "          + ' to learn more about interactive tables.';\n",
              "        element.innerHTML = '';\n",
              "        dataTable['output_type'] = 'display_data';\n",
              "        await google.colab.output.renderOutput(dataTable, element);\n",
              "        const docLink = document.createElement('div');\n",
              "        docLink.innerHTML = docLinkHtml;\n",
              "        element.appendChild(docLink);\n",
              "      }\n",
              "    </script>\n",
              "  </div>\n",
              "\n",
              "\n",
              "<div id=\"df-ea9761ea-665e-4da2-9e83-31295051a693\">\n",
              "  <button class=\"colab-df-quickchart\" onclick=\"quickchart('df-ea9761ea-665e-4da2-9e83-31295051a693')\"\n",
              "            title=\"Suggest charts\"\n",
              "            style=\"display:none;\">\n",
              "\n",
              "<svg xmlns=\"http://www.w3.org/2000/svg\" height=\"24px\"viewBox=\"0 0 24 24\"\n",
              "     width=\"24px\">\n",
              "    <g>\n",
              "        <path d=\"M19 3H5c-1.1 0-2 .9-2 2v14c0 1.1.9 2 2 2h14c1.1 0 2-.9 2-2V5c0-1.1-.9-2-2-2zM9 17H7v-7h2v7zm4 0h-2V7h2v10zm4 0h-2v-4h2v4z\"/>\n",
              "    </g>\n",
              "</svg>\n",
              "  </button>\n",
              "\n",
              "<style>\n",
              "  .colab-df-quickchart {\n",
              "      --bg-color: #E8F0FE;\n",
              "      --fill-color: #1967D2;\n",
              "      --hover-bg-color: #E2EBFA;\n",
              "      --hover-fill-color: #174EA6;\n",
              "      --disabled-fill-color: #AAA;\n",
              "      --disabled-bg-color: #DDD;\n",
              "  }\n",
              "\n",
              "  [theme=dark] .colab-df-quickchart {\n",
              "      --bg-color: #3B4455;\n",
              "      --fill-color: #D2E3FC;\n",
              "      --hover-bg-color: #434B5C;\n",
              "      --hover-fill-color: #FFFFFF;\n",
              "      --disabled-bg-color: #3B4455;\n",
              "      --disabled-fill-color: #666;\n",
              "  }\n",
              "\n",
              "  .colab-df-quickchart {\n",
              "    background-color: var(--bg-color);\n",
              "    border: none;\n",
              "    border-radius: 50%;\n",
              "    cursor: pointer;\n",
              "    display: none;\n",
              "    fill: var(--fill-color);\n",
              "    height: 32px;\n",
              "    padding: 0;\n",
              "    width: 32px;\n",
              "  }\n",
              "\n",
              "  .colab-df-quickchart:hover {\n",
              "    background-color: var(--hover-bg-color);\n",
              "    box-shadow: 0 1px 2px rgba(60, 64, 67, 0.3), 0 1px 3px 1px rgba(60, 64, 67, 0.15);\n",
              "    fill: var(--button-hover-fill-color);\n",
              "  }\n",
              "\n",
              "  .colab-df-quickchart-complete:disabled,\n",
              "  .colab-df-quickchart-complete:disabled:hover {\n",
              "    background-color: var(--disabled-bg-color);\n",
              "    fill: var(--disabled-fill-color);\n",
              "    box-shadow: none;\n",
              "  }\n",
              "\n",
              "  .colab-df-spinner {\n",
              "    border: 2px solid var(--fill-color);\n",
              "    border-color: transparent;\n",
              "    border-bottom-color: var(--fill-color);\n",
              "    animation:\n",
              "      spin 1s steps(1) infinite;\n",
              "  }\n",
              "\n",
              "  @keyframes spin {\n",
              "    0% {\n",
              "      border-color: transparent;\n",
              "      border-bottom-color: var(--fill-color);\n",
              "      border-left-color: var(--fill-color);\n",
              "    }\n",
              "    20% {\n",
              "      border-color: transparent;\n",
              "      border-left-color: var(--fill-color);\n",
              "      border-top-color: var(--fill-color);\n",
              "    }\n",
              "    30% {\n",
              "      border-color: transparent;\n",
              "      border-left-color: var(--fill-color);\n",
              "      border-top-color: var(--fill-color);\n",
              "      border-right-color: var(--fill-color);\n",
              "    }\n",
              "    40% {\n",
              "      border-color: transparent;\n",
              "      border-right-color: var(--fill-color);\n",
              "      border-top-color: var(--fill-color);\n",
              "    }\n",
              "    60% {\n",
              "      border-color: transparent;\n",
              "      border-right-color: var(--fill-color);\n",
              "    }\n",
              "    80% {\n",
              "      border-color: transparent;\n",
              "      border-right-color: var(--fill-color);\n",
              "      border-bottom-color: var(--fill-color);\n",
              "    }\n",
              "    90% {\n",
              "      border-color: transparent;\n",
              "      border-bottom-color: var(--fill-color);\n",
              "    }\n",
              "  }\n",
              "</style>\n",
              "\n",
              "  <script>\n",
              "    async function quickchart(key) {\n",
              "      const quickchartButtonEl =\n",
              "        document.querySelector('#' + key + ' button');\n",
              "      quickchartButtonEl.disabled = true;  // To prevent multiple clicks.\n",
              "      quickchartButtonEl.classList.add('colab-df-spinner');\n",
              "      try {\n",
              "        const charts = await google.colab.kernel.invokeFunction(\n",
              "            'suggestCharts', [key], {});\n",
              "      } catch (error) {\n",
              "        console.error('Error during call to suggestCharts:', error);\n",
              "      }\n",
              "      quickchartButtonEl.classList.remove('colab-df-spinner');\n",
              "      quickchartButtonEl.classList.add('colab-df-quickchart-complete');\n",
              "    }\n",
              "    (() => {\n",
              "      let quickchartButtonEl =\n",
              "        document.querySelector('#df-ea9761ea-665e-4da2-9e83-31295051a693 button');\n",
              "      quickchartButtonEl.style.display =\n",
              "        google.colab.kernel.accessAllowed ? 'block' : 'none';\n",
              "    })();\n",
              "  </script>\n",
              "</div>\n",
              "\n",
              "    </div>\n",
              "  </div>\n"
            ],
            "application/vnd.google.colaboratory.intrinsic+json": {
              "type": "dataframe",
              "variable_name": "test_data",
              "summary": "{\n  \"name\": \"test_data\",\n  \"rows\": 300,\n  \"fields\": [\n    {\n      \"column\": \"rewire_id\",\n      \"properties\": {\n        \"dtype\": \"string\",\n        \"num_unique_values\": 300,\n        \"samples\": [\n          \"sexism2022_english-7642\",\n          \"sexism2022_english-15192\",\n          \"sexism2022_english-18390\"\n        ],\n        \"semantic_type\": \"\",\n        \"description\": \"\"\n      }\n    },\n    {\n      \"column\": \"text\",\n      \"properties\": {\n        \"dtype\": \"string\",\n        \"num_unique_values\": 300,\n        \"samples\": [\n          \"what do you think about that ? Should i pay her ? Pay whatever she's minimally entitled to legally but kick her ass to the curb.\",\n          \"and whats new about this. a woman can be total garbage, but as long as she is fuckable she gets something.\",\n          \"Full on crotch grab from Biden. Even the baby's mom isn't holding him that way.\"\n        ],\n        \"semantic_type\": \"\",\n        \"description\": \"\"\n      }\n    },\n    {\n      \"column\": \"label_sexist\",\n      \"properties\": {\n        \"dtype\": \"category\",\n        \"num_unique_values\": 2,\n        \"samples\": [\n          \"sexist\",\n          \"not sexist\"\n        ],\n        \"semantic_type\": \"\",\n        \"description\": \"\"\n      }\n    }\n  ]\n}"
            }
          },
          "metadata": {},
          "execution_count": 8
        }
      ]
    },
    {
      "cell_type": "markdown",
      "metadata": {
        "id": "HJp08l4yLJnd"
      },
      "source": [
        "# [Task 1 - 0.5 points] Model setup\n",
        "\n",
        "Once the test data has been loaded, we have to setup the model pipeline for inference.\n",
        "\n",
        "In particular, we have to:\n",
        "- Load the model weights from Huggingface\n",
        "- Quantize the model to fit into a single-GPU limited hardware"
      ]
    },
    {
      "cell_type": "markdown",
      "metadata": {
        "id": "ptffotFIjq89"
      },
      "source": [
        "## Which LLMs?\n",
        "\n",
        "The pool of LLMs is ever increasing and it's impossible to keep track of all new entries.\n",
        "\n",
        "We focus on popular open-source models.\n",
        "\n",
        "- [Mistral v2](mistralai/Mistral-7B-Instruct-v0.2)\n",
        "- [Mistral v3](mistralai/Mistral-7B-Instruct-v0.3)\n",
        "- [Llama v3.1](https://huggingface.co/meta-llama/Llama-3.1-8B-Instruct)\n",
        "- [Phi3-mini](https://huggingface.co/microsoft/Phi-3-mini-4k-instruct)\n",
        "\n",
        "Other open-source models are more than welcome!"
      ]
    },
    {
      "cell_type": "markdown",
      "metadata": {
        "id": "uH1YShLfLJnd"
      },
      "source": [
        "### Instructions\n",
        "\n",
        "In order to get Task 1 points, we require you to:\n",
        "\n",
        "* Pick 2 model cards from the provided list.\n",
        "* For each model:\n",
        "  - Define a separate section of your notebook for the model.\n",
        "  - Setup a quantization configuration for the model.\n",
        "  - Load the model via HuggingFace APIs.\n"
      ]
    },
    {
      "cell_type": "markdown",
      "metadata": {
        "id": "Y8ORld7klCfG"
      },
      "source": [
        "### Notes\n",
        "\n",
        "1. There's a popular library integrated with Huggingface's ``transformers`` to perform quantization.\n",
        "\n",
        "2. Define two separate sections of your notebook to show that you have implemented the prompting pipeline for each selected model card."
      ]
    },
    {
      "cell_type": "markdown",
      "source": [
        "### Mistral"
      ],
      "metadata": {
        "id": "GficSiCPehFK"
      }
    },
    {
      "cell_type": "code",
      "source": [
        "model_card = \"mistralai/Mistral-7B-Instruct-v0.3\"\n",
        "\n",
        "tokenizer_mistral = AutoTokenizer.from_pretrained(model_card)\n",
        "tokenizer_mistral.pad_token = tokenizer_mistral.eos_token\n",
        "\n",
        "terminators = [\n",
        "    tokenizer_mistral.eos_token_id,\n",
        "    tokenizer_mistral.convert_tokens_to_ids(\"<|eot_id|>\")]"
      ],
      "metadata": {
        "id": "5of_7Z3ve1Wc"
      },
      "execution_count": 43,
      "outputs": []
    },
    {
      "cell_type": "code",
      "source": [
        "bnb_config = BitsAndBytesConfig(\n",
        "    load_in_4bit=True,\n",
        "    bnb_4bit_use_double_quant=True,\n",
        "    bnb_4bit_quant_type=\"nf4\",\n",
        "    bnb_4bit_compute_dtype=torch.bfloat16,\n",
        ")"
      ],
      "metadata": {
        "id": "1nQ1GU7SArDp"
      },
      "execution_count": 44,
      "outputs": []
    },
    {
      "cell_type": "code",
      "source": [
        "model_mistral = AutoModelForCausalLM.from_pretrained(\n",
        "    model_card,\n",
        "    return_dict=True,\n",
        "    quantization_config=bnb_config,\n",
        "    device_map='auto'\n",
        ")"
      ],
      "metadata": {
        "id": "QDU63YWcfmxm",
        "colab": {
          "base_uri": "https://localhost:8080/",
          "height": 209,
          "referenced_widgets": [
            "f9651fd56c954180965de9b9731962a5",
            "0c2690209da44c78afe9b7c11bdfee2c",
            "2ee2d14ab75f4703aabe5df7032e0bfa",
            "15a18ab7995d41fb8c6d3753bacb33ca",
            "d930fc4b1d51497d9440afeb344618b6",
            "3f66790d73cf4c46b836526bc5aa9cc8",
            "0768b3a45e494f8d9661873679cc8fc0",
            "07f622dceb36489eb647e421b9a93212",
            "f9d134b631414d18848ddd1d0b9b2970",
            "116b3dd9cd9d48d2a45a0402d17091c9",
            "8b6af7f1faa24757aaee44d06fc43160",
            "c783322a8ec6438685d7e9d3ae235e91",
            "788f2021c31040d997609fa299465281",
            "1e86289a9fb143bfa2b0c78e31407b28",
            "e2b4d9575c4248f2abcecd122d094df2",
            "3b0e982076804711a231df60f874e388",
            "0943f9631ca74d30924b4411442c5b5d",
            "cdf2bfede2b048148d20c357c0c34306",
            "15ae74527e364914963726881baceec5",
            "a911c346f7b54689b5eb26c63b284e79",
            "801c70d800224308b25fe7b8ee9eca96",
            "dcc38b51280a40fabad2e12e7573f354",
            "355e32cf5e694c1eb80c395a06a0814d",
            "eb310b45da144e43afed686e3b21960b",
            "d7bd989777c0411da7153a4f3761855a",
            "16ddfdd2044b42029c064e4936e00f9b",
            "54e5fdf3e0cc4a29a1413735383323ed",
            "eede28911781440ea00acd3354e60c26",
            "9af0106a62804046816fe9165752fe9d",
            "361cc2eaecdb4d4a846a21ee43f5d0a6",
            "826aebb611a74eca8eceb4052ada10a0",
            "9209370c8cc74ad4913a3bacab26a55b",
            "bbf0ffec3ee74c62a6b66593efcc9393",
            "b715c86abf4647b0b123206bbb6584ab",
            "81b11ad665c64100aa8405c9e2e33e38",
            "f3331af67d5e4621ac614cad5f75e476",
            "2e1bc9de07ec49ea8c21ed09d9c153e8",
            "a6f96e108ae8459a8299f5ef297dcad5",
            "181d9f0627f1423790e144f02f10c7bd",
            "a514522fab694ca2be10ad0ab8a7a5bc",
            "0d5650b9aa094142b274481c39ebace3",
            "3a8b964da4344890aaa8d213c4326412",
            "0251e4deaffd436087d2a83a1c8fe385",
            "f64609d566704cfab0e54ffc18cfcbba",
            "96f195ff42f945a9beb5654a0aece336",
            "5d2e6b6055c84e26867c89c11ed1f34c",
            "635c7de638684fcf8ae84f3473e16d5d",
            "cd0aa2c35a214997a5bb052aa332b3ad",
            "8e93e441a20e45df8abdcadd78e424bf",
            "70413395b15d4f6c9885df35b382a2cc",
            "224f3ec984044afdbdc366b562a0af00",
            "3e7c1bbf708642498454ad5bbba54309",
            "fa6fb55769c44f569a9b1906e9ce8e70",
            "d553bfe6b05d458a9213f72e4878f172",
            "ab2328e2b86c4ec9a6bdbc84214aa750",
            "fc6e8237733a48cf9a2b34bc8c1af883",
            "153518fbf7014fd2a6ca3add10ff92ec",
            "0f531d4320834dd497adc51d211f1f03",
            "6bd6f4880cdb446caebb388d737ede5e",
            "ba0d42cd8b4b4a85a7a3fc9ac5f83fbf",
            "dd7985e168784c98826b3bfc093a68c4",
            "54e5617990e644ce836a851e4f14acfc",
            "90090997853b470b95fb848334a90648",
            "c22065fd3db74568b75c4d761bda0724",
            "e9a3eae4812543f0b774cc97bc4b7b1b",
            "1c5cd894f7794e7f8e1b4ba8dba082c9"
          ]
        },
        "outputId": "fcaaadc8-ee7c-4e80-e2bd-78d47a5aee89"
      },
      "execution_count": 45,
      "outputs": [
        {
          "output_type": "display_data",
          "data": {
            "text/plain": [
              "Downloading shards:   0%|          | 0/3 [00:00<?, ?it/s]"
            ],
            "application/vnd.jupyter.widget-view+json": {
              "version_major": 2,
              "version_minor": 0,
              "model_id": "f9651fd56c954180965de9b9731962a5"
            }
          },
          "metadata": {}
        },
        {
          "output_type": "display_data",
          "data": {
            "text/plain": [
              "model-00001-of-00003.safetensors:  39%|###8      | 1.93G/4.95G [00:00<?, ?B/s]"
            ],
            "application/vnd.jupyter.widget-view+json": {
              "version_major": 2,
              "version_minor": 0,
              "model_id": "c783322a8ec6438685d7e9d3ae235e91"
            }
          },
          "metadata": {}
        },
        {
          "output_type": "display_data",
          "data": {
            "text/plain": [
              "model-00002-of-00003.safetensors:   0%|          | 0.00/5.00G [00:00<?, ?B/s]"
            ],
            "application/vnd.jupyter.widget-view+json": {
              "version_major": 2,
              "version_minor": 0,
              "model_id": "355e32cf5e694c1eb80c395a06a0814d"
            }
          },
          "metadata": {}
        },
        {
          "output_type": "display_data",
          "data": {
            "text/plain": [
              "model-00003-of-00003.safetensors:   0%|          | 0.00/4.55G [00:00<?, ?B/s]"
            ],
            "application/vnd.jupyter.widget-view+json": {
              "version_major": 2,
              "version_minor": 0,
              "model_id": "b715c86abf4647b0b123206bbb6584ab"
            }
          },
          "metadata": {}
        },
        {
          "output_type": "display_data",
          "data": {
            "text/plain": [
              "Loading checkpoint shards:   0%|          | 0/3 [00:00<?, ?it/s]"
            ],
            "application/vnd.jupyter.widget-view+json": {
              "version_major": 2,
              "version_minor": 0,
              "model_id": "96f195ff42f945a9beb5654a0aece336"
            }
          },
          "metadata": {}
        },
        {
          "output_type": "display_data",
          "data": {
            "text/plain": [
              "generation_config.json:   0%|          | 0.00/116 [00:00<?, ?B/s]"
            ],
            "application/vnd.jupyter.widget-view+json": {
              "version_major": 2,
              "version_minor": 0,
              "model_id": "fc6e8237733a48cf9a2b34bc8c1af883"
            }
          },
          "metadata": {}
        }
      ]
    },
    {
      "cell_type": "markdown",
      "source": [
        "### Llama"
      ],
      "metadata": {
        "id": "jI7zc5fCekQ6"
      }
    },
    {
      "cell_type": "code",
      "source": [
        "model_card2 = \"meta-llama/Meta-Llama-3.1-8B-Instruct\"\n",
        "\n",
        "tokenizer_llama = AutoTokenizer.from_pretrained(model_card2)\n",
        "tokenizer_llama.pad_token = tokenizer_llama.eos_token\n",
        "\n",
        "terminators_llama = [\n",
        "    tokenizer_llama.eos_token_id,\n",
        "    tokenizer_llama.convert_tokens_to_ids(\"<|eot_id|>\")]"
      ],
      "metadata": {
        "colab": {
          "base_uri": "https://localhost:8080/",
          "height": 113,
          "referenced_widgets": [
            "4d13f4c970134f459b0f1f3a630e881b",
            "16662fc71e544677b11db472aed1335d",
            "98c1f837cd1f46c598ed450540881b4a",
            "11462f9de1454bf0b9c23091ab1b6ce9",
            "4ebe90433cd04e489f530680cd1e8493",
            "7ab008be3ad64a31b49bc2bd09ccbfa5",
            "93b4e4c41c994107a9848f3166779575",
            "561b3c179e9343999abfe513f5d17f7c",
            "b2a897a351e3453abc12c7d4be021f79",
            "e64048a04b27464fbedda3b9fcc661df",
            "32edbb9381464808b3682d9372f3f3eb",
            "b7e1ae8c6e9a407ea9d8b0873311b5dd",
            "aa23f6fbe55243059b6c29129a948a8a",
            "416df65b61d540dda3d4fb31cbb2f2d9",
            "5328e86fed8e4774b8e1198e4a847aef",
            "8b912d72b6494484b0dcdc4505d8d4fe",
            "a7095bccfe074d5781677775ae118f4d",
            "e678d5bbbef34ad4a15ffeff36cff5c8",
            "0d31f4d871bd46538cedf95d177255bc",
            "90e71a893b3049839211f8e715b9299f",
            "e2cd78f2d69c41b0b58a536b3dc6f56e",
            "d13d10c91e9e4006a04a25434dbd3c78",
            "9883e3747727473fa13cd0d7381aff22",
            "87b23da46f9345608c3257e4ce2609ac",
            "1009c4411da04aaa943f02f245ad79a2",
            "65de80371dd84bf591a2a2cbdd21ba2f",
            "2d0abd632dc54418b2a5cb8f66d471b3",
            "9c9cfc4f6eb041dab7cf144145ccd183",
            "dbbabfd354ac49d49f61f48eb68a169b",
            "d8b793f35a8a40dd8b91f0fd06af9d33",
            "a3679208545e4d8db18d34f6e872f4d3",
            "474cfc449bf44e039c2329e0ff1909ae",
            "b26051995bc84d4d94fa4cfb4fea2a61"
          ]
        },
        "outputId": "fc97ae6d-90c1-496a-f947-a977577e6bab",
        "id": "13tluXkCembz"
      },
      "execution_count": null,
      "outputs": [
        {
          "output_type": "display_data",
          "data": {
            "text/plain": [
              "tokenizer_config.json:   0%|          | 0.00/55.4k [00:00<?, ?B/s]"
            ],
            "application/vnd.jupyter.widget-view+json": {
              "version_major": 2,
              "version_minor": 0,
              "model_id": "4d13f4c970134f459b0f1f3a630e881b"
            }
          },
          "metadata": {}
        },
        {
          "output_type": "display_data",
          "data": {
            "text/plain": [
              "tokenizer.json:   0%|          | 0.00/9.09M [00:00<?, ?B/s]"
            ],
            "application/vnd.jupyter.widget-view+json": {
              "version_major": 2,
              "version_minor": 0,
              "model_id": "b7e1ae8c6e9a407ea9d8b0873311b5dd"
            }
          },
          "metadata": {}
        },
        {
          "output_type": "display_data",
          "data": {
            "text/plain": [
              "special_tokens_map.json:   0%|          | 0.00/296 [00:00<?, ?B/s]"
            ],
            "application/vnd.jupyter.widget-view+json": {
              "version_major": 2,
              "version_minor": 0,
              "model_id": "9883e3747727473fa13cd0d7381aff22"
            }
          },
          "metadata": {}
        }
      ]
    },
    {
      "cell_type": "code",
      "source": [
        "model_llama = AutoModelForCausalLM.from_pretrained(\n",
        "    model_card2,\n",
        "    return_dict=True,\n",
        "    quantization_config=bnb_config,\n",
        "    device_map='auto'\n",
        ")"
      ],
      "metadata": {
        "colab": {
          "base_uri": "https://localhost:8080/",
          "height": 305,
          "referenced_widgets": [
            "5c9c0e4297024c96997322361e11c960",
            "3bdac0a2af8e48cba005f89176358991",
            "803d57daf20a445385a3057ef2ee1798",
            "20ac7dc8fe9f420ab1f795c63e2106cb",
            "77358f19c15e4942a939d13410220075",
            "4fc5cc4effdd486bb23872829a09e19d",
            "f20e335b0cd349b5a85971f3b56417de",
            "c87b32d598e24af89cfd6fbce70ec6c1",
            "2a2224540b094a0d894382c75b18aa0e",
            "55018e0036aa4ac4aca71e834c2b80a5",
            "4ce5cea57fc44c23a326ec019fb76b70",
            "07eaa45cc9b34d759fc25122f4493f76",
            "db0b4738220b491cb78dc9f4721d67c9",
            "0cb0930eff374400af83e0c4276dce18",
            "c5c53843eaac401a91f201c65fa8138d",
            "a756684d170e49d5891e40422d66dadf",
            "c83fae5fe78b4b5fb24f1bfe0fc42117",
            "16e43b55cf564187994aacca1ee812ff",
            "3523b8aee0f7490faa6cad38274b5a22",
            "7876e0ba54804fd58f58747eb24a4fc4",
            "e753317ac290462da6df469d71484f8d",
            "836bdf67ad0d4c7894f3340c946e9303",
            "8bd6c0deb2fc45d2bc456b5f53726797",
            "8f03c3fa1df44ebebbfae326930e3f5d",
            "a044db3f8a844ee9a154464a8323014d",
            "293455913d1e4045b4c6d552656fc4db",
            "4a841cbf954e44bb905c6e3b1534cb33",
            "5657c2919f524807808e22f0fd6b7784",
            "24a81f0786bf4ef19a29940f08d088dd",
            "91292559442e4c75a105fa87a032bdcc",
            "dd56f98c9df548e7ae70292b0ebf6ba2",
            "bd80fea639b74154b97648c55fcf459a",
            "fc7965a9644d4ebd80752697d2413cc2",
            "765fe7690d5e4ffe81496d639d787ba1",
            "4e7de5770aeb442e93a2a2b1220519ce",
            "21583e42082048cb8309a2164462f5dc",
            "0d46d787bad5469a9d8832bc7152b986",
            "c11d9cbd80004ac3ac6da2fc5437667a",
            "d899a9a36a644c5eacaeb37a49220410",
            "f01735d8ea6a41a690f756adec24fd18",
            "979c059b6c424711804356d071dc7ece",
            "1083d0d7c84e440da249abdcfb93a7ba",
            "8bdf11d5d86c40c88ffc3c6dd0447c8c",
            "e14256daea2e4868bbaeef6b465e9f9b",
            "7783937e06f048e7a0316fe940e4198b",
            "d81a867bac604597bcff563aebbf4731",
            "de12aeaafa9b486cb0f187db2cf46355",
            "f2fdbaa34bfa457a8a2067599dcea6bf",
            "457991e289444814975fc13938f16f4a",
            "06867d6eea46439da849bf9d77414185",
            "3a418a02edc5421eb7ac9d3303dc18eb",
            "b4c60a99b4804fd2a970266829643eed",
            "79e180596570403586df44f4fed4a9f8",
            "e3775f067d084d259534253b9f064388",
            "9a3e52a3448946b4a9f9f4e9062409ac",
            "b4f4632d08a5493fb8ee60aa2b710f76",
            "08bade2e7e4d4607aca4a71b504ee4ae",
            "5f8ef56e7ba84b2781d7126a038fa909",
            "1a9cb7c73029429aa4186baf89d66349",
            "47bb260ffc0c47fa86d2537f633cd98d",
            "58d0562f29f745418ed331647b3d1aad",
            "6d1481378cd346e3ab97f5cb5575a317",
            "a49ad19b8ef84ef3832e18b8b750433c",
            "2b15d4c57a84447e900d3f6c71e66a93",
            "af454031aead48e9ad32221eebf315bc",
            "c77a5d1b9bff4328bb39fd871a640f9b",
            "a64be029765d423aa5e1c975e5bc9ad3",
            "020cb6006d184ba5ace5d5286bc60004",
            "84462ed4bb8349bdaf4b15a830cdbc29",
            "1fe08cebd29d4fdd8cb06f5cc0c11f42",
            "835a4b6a62914f5b9a3d772b567cb908",
            "28eff3f4aac644bda2999b26239991c7",
            "054e6670f06746499d22e34a832a3e60",
            "9345dd7fb94e48068e59d9d8742275b2",
            "1d5d69f162e848d4af50d9b1a79fc7d5",
            "026bd95b730d4d72ab4aa28ae61c9f49",
            "0fbddb44df8b4bbfae767730846e8309",
            "0d7a8826aec142ccabed5c137b1bc5eb",
            "47fec19e067d41c68e5a4f95ffcf7ffe",
            "a6b83f1831e04be8b48a2ba18f7d867d",
            "6b653ebc67384e5ca5f82aaea14dd9ac",
            "474a98f3ae394e21ae9da9818c4abc1f",
            "f835ce9d256a4274a4fc10f05475c4e9",
            "bf7e4a5ffa734a39988a5c13651aff6a",
            "409231485fa745bd9799951ff54a917a",
            "0c5c7e47a26447b9981466e2d7290d99",
            "190e5d7fed8d48cebe5f668b28dbca27",
            "dd6c521f078a4dde8a8aedd962f67fbb",
            "c13b456c92e84c81bd09c8e5a515cc45",
            "c2bbd77d577047d486fdf50b750ade94",
            "5cfe504ccce74fb6ae175e132f27438d",
            "d1c41aa4059f4b9ba80688f5298b5f31",
            "fb2f97381ac1469da2f487680bfcd24a",
            "fff8c56748234d7bb753a6c0d6e5f2c6",
            "d2bf248318db4e5fb3b1c7477f7e0f7b",
            "85bf2c0c13364394953ec5b38e1fc778",
            "766ccf4ee9ee42b4ac6f569c597e7478",
            "b55f0e9bb5824194a78405d0270411fc",
            "3b312403d5fd4d30b6337aa1364049df"
          ]
        },
        "outputId": "644128fc-a2da-4a78-b449-08f4c02e14e4",
        "id": "Q2urZLVeenAQ"
      },
      "execution_count": null,
      "outputs": [
        {
          "output_type": "display_data",
          "data": {
            "text/plain": [
              "config.json:   0%|          | 0.00/855 [00:00<?, ?B/s]"
            ],
            "application/vnd.jupyter.widget-view+json": {
              "version_major": 2,
              "version_minor": 0,
              "model_id": "5c9c0e4297024c96997322361e11c960"
            }
          },
          "metadata": {}
        },
        {
          "output_type": "display_data",
          "data": {
            "text/plain": [
              "model.safetensors.index.json:   0%|          | 0.00/23.9k [00:00<?, ?B/s]"
            ],
            "application/vnd.jupyter.widget-view+json": {
              "version_major": 2,
              "version_minor": 0,
              "model_id": "07eaa45cc9b34d759fc25122f4493f76"
            }
          },
          "metadata": {}
        },
        {
          "output_type": "display_data",
          "data": {
            "text/plain": [
              "Downloading shards:   0%|          | 0/4 [00:00<?, ?it/s]"
            ],
            "application/vnd.jupyter.widget-view+json": {
              "version_major": 2,
              "version_minor": 0,
              "model_id": "8bd6c0deb2fc45d2bc456b5f53726797"
            }
          },
          "metadata": {}
        },
        {
          "output_type": "display_data",
          "data": {
            "text/plain": [
              "model-00001-of-00004.safetensors:   0%|          | 0.00/4.98G [00:00<?, ?B/s]"
            ],
            "application/vnd.jupyter.widget-view+json": {
              "version_major": 2,
              "version_minor": 0,
              "model_id": "765fe7690d5e4ffe81496d639d787ba1"
            }
          },
          "metadata": {}
        },
        {
          "output_type": "display_data",
          "data": {
            "text/plain": [
              "model-00002-of-00004.safetensors:   0%|          | 0.00/5.00G [00:00<?, ?B/s]"
            ],
            "application/vnd.jupyter.widget-view+json": {
              "version_major": 2,
              "version_minor": 0,
              "model_id": "7783937e06f048e7a0316fe940e4198b"
            }
          },
          "metadata": {}
        },
        {
          "output_type": "display_data",
          "data": {
            "text/plain": [
              "model-00003-of-00004.safetensors:   0%|          | 0.00/4.92G [00:00<?, ?B/s]"
            ],
            "application/vnd.jupyter.widget-view+json": {
              "version_major": 2,
              "version_minor": 0,
              "model_id": "b4f4632d08a5493fb8ee60aa2b710f76"
            }
          },
          "metadata": {}
        },
        {
          "output_type": "display_data",
          "data": {
            "text/plain": [
              "model-00004-of-00004.safetensors:   0%|          | 0.00/1.17G [00:00<?, ?B/s]"
            ],
            "application/vnd.jupyter.widget-view+json": {
              "version_major": 2,
              "version_minor": 0,
              "model_id": "a64be029765d423aa5e1c975e5bc9ad3"
            }
          },
          "metadata": {}
        },
        {
          "output_type": "display_data",
          "data": {
            "text/plain": [
              "Loading checkpoint shards:   0%|          | 0/4 [00:00<?, ?it/s]"
            ],
            "application/vnd.jupyter.widget-view+json": {
              "version_major": 2,
              "version_minor": 0,
              "model_id": "0d7a8826aec142ccabed5c137b1bc5eb"
            }
          },
          "metadata": {}
        },
        {
          "output_type": "display_data",
          "data": {
            "text/plain": [
              "generation_config.json:   0%|          | 0.00/184 [00:00<?, ?B/s]"
            ],
            "application/vnd.jupyter.widget-view+json": {
              "version_major": 2,
              "version_minor": 0,
              "model_id": "c13b456c92e84c81bd09c8e5a515cc45"
            }
          },
          "metadata": {}
        }
      ]
    },
    {
      "cell_type": "markdown",
      "metadata": {
        "id": "TzNNzb1VLJnd"
      },
      "source": [
        "# [Task 2 - 1.0 points] Prompt setup\n",
        "\n",
        "Prompting requires an input pre-processing phase where we convert each input example into a specific instruction prompt.\n"
      ]
    },
    {
      "cell_type": "markdown",
      "metadata": {
        "id": "9GaBtKXomY_m"
      },
      "source": [
        "## Prompt Template\n",
        "\n",
        "Use the following prompt template to process input texts."
      ]
    },
    {
      "cell_type": "code",
      "execution_count": null,
      "metadata": {
        "id": "7e8P-Kk8me6q"
      },
      "outputs": [],
      "source": [
        "prompt = [\n",
        "    {\n",
        "        'role': 'system',\n",
        "        'content': 'You are an annotator for sexism detection.'\n",
        "    },\n",
        "    {\n",
        "        'role': 'user',\n",
        "        'content': \"\"\"Your task is to classify input text as containing sexism or not. Respond only YES or NO.\n",
        "\n",
        "        TEXT:\n",
        "        {text}\n",
        "\n",
        "        ANSWER:\n",
        "        \"\"\"\n",
        "    }\n",
        "]"
      ]
    },
    {
      "cell_type": "markdown",
      "metadata": {
        "id": "VHeoEN7MLJnd"
      },
      "source": [
        "### Instructions\n",
        "\n",
        "In order to get Task 2 points, we require you to:\n",
        "\n",
        "* Write a ``prepare_prompts`` function as the one reported below."
      ]
    },
    {
      "cell_type": "code",
      "execution_count": null,
      "metadata": {
        "id": "PUjRVMtMm9CE"
      },
      "outputs": [],
      "source": [
        "def prepare_prompts(texts, prompt_template, tokenizer, max_length=512):\n",
        "    \"\"\"\n",
        "      This function format input text samples into instructions prompts.\n",
        "\n",
        "      Inputs:\n",
        "        texts: input texts to classify via prompting\n",
        "        prompt_template: the prompt template provided in this assignment\n",
        "        tokenizer: the transformers Tokenizer object instance associated with the chosen model card\n",
        "\n",
        "      Outputs:\n",
        "        input texts to classify in the form of instruction prompts\n",
        "    \"\"\"\n",
        "    # Create prompts by filling the text in the 'user' part of the template\n",
        "    prompts = []\n",
        "    for text in texts:\n",
        "        # Copy the template to avoid modifying the original\n",
        "        current_prompt = [\n",
        "            {\n",
        "                'role': entry['role'],\n",
        "                'content': entry['content'].format(text=text) if '{text}' in entry['content'] else entry['content']\n",
        "            }\n",
        "            for entry in prompt_template\n",
        "        ]\n",
        "        prompts.append(current_prompt)\n",
        "\n",
        "    print('Prompt[0]:', prompts[0])\n",
        "\n",
        "    # Tokenize the prompts (flattened into strings for tokenizer compatibility)\n",
        "    tokenized_outputs = tokenizer(\n",
        "        [f\"{entry['role']}: {entry['content']}\" for prompt in prompts for entry in prompt],\n",
        "        padding=True,\n",
        "        truncation=True,\n",
        "        max_length=max_length,\n",
        "        return_tensors=\"pt\"\n",
        "    )\n",
        "\n",
        "    return tokenized_outputs, prompts"
      ]
    },
    {
      "cell_type": "markdown",
      "metadata": {
        "id": "BOCRgGf7mifk"
      },
      "source": [
        "### Notes\n",
        "\n",
        "1. You are free to modify the prompt format (**not its content**) as you like depending on your code implementation.\n",
        "\n",
        "2. Note that the provided prompt has placeholders. You need to format the string to replace placeholders. Huggingface might have dedicated APIs for this."
      ]
    },
    {
      "cell_type": "markdown",
      "source": [
        "### Mistral"
      ],
      "metadata": {
        "id": "9_GNBaZcjJA9"
      }
    },
    {
      "cell_type": "code",
      "source": [
        "prepared_prompts_tokenized_zero_shot_mistral, prepared_prompts_zero_shot_mistral = prepare_prompts(test_data['text'], prompt, tokenizer_mistral)"
      ],
      "metadata": {
        "colab": {
          "base_uri": "https://localhost:8080/"
        },
        "outputId": "4b22ff33-81a4-4705-966d-928f3d5461fd",
        "id": "u7ui90oJx893"
      },
      "execution_count": null,
      "outputs": [
        {
          "output_type": "stream",
          "name": "stdout",
          "text": [
            "Prompt[0]: [{'role': 'system', 'content': 'You are an annotator for sexism detection.'}, {'role': 'user', 'content': 'Your task is to classify input text as containing sexism or not. Respond only YES or NO.\\n\\n        TEXT:\\n        The boys must be gaming because there goes the wifi.\\n\\n        ANSWER:\\n        '}]\n"
          ]
        }
      ]
    },
    {
      "cell_type": "markdown",
      "source": [
        "### Llama"
      ],
      "metadata": {
        "id": "UueO1oY6jLP7"
      }
    },
    {
      "cell_type": "code",
      "source": [
        "prepared_prompts_tokenized_zero_shot_llama, prepared_prompts_zero_shot_llama = prepare_prompts(test_data['text'], prompt, tokenizer_llama)"
      ],
      "metadata": {
        "colab": {
          "base_uri": "https://localhost:8080/"
        },
        "id": "sjUGCeQpkG_R",
        "outputId": "4b22ff33-81a4-4705-966d-928f3d5461fd"
      },
      "execution_count": null,
      "outputs": [
        {
          "output_type": "stream",
          "name": "stdout",
          "text": [
            "Prompt[0]: [{'role': 'system', 'content': 'You are an annotator for sexism detection.'}, {'role': 'user', 'content': 'Your task is to classify input text as containing sexism or not. Respond only YES or NO.\\n\\n        TEXT:\\n        The boys must be gaming because there goes the wifi.\\n\\n        ANSWER:\\n        '}]\n"
          ]
        }
      ]
    },
    {
      "cell_type": "markdown",
      "metadata": {
        "id": "lgBhkBwuLJnd"
      },
      "source": [
        "# [Task 3 - 1.0 points] Inference\n",
        "\n",
        "We are now ready to define the inference loop where we prompt the model with each pre-processed sample."
      ]
    },
    {
      "cell_type": "markdown",
      "metadata": {
        "id": "7WsrQSvcLJnd"
      },
      "source": [
        "### Instructions\n",
        "\n",
        "In order to get Task 3 points, we require you to:\n",
        "\n",
        "* Write a ``generate_responses`` function as the one reported below.\n",
        "* Write a ``process_response`` function as the one reported below."
      ]
    },
    {
      "cell_type": "code",
      "execution_count": null,
      "metadata": {
        "id": "bG3CDXNlyD5k"
      },
      "outputs": [],
      "source": [
        "def generate_responses(model, prompt_examples, tok):\n",
        "  \"\"\"\n",
        "    This function implements the inference loop for a LLM model.\n",
        "    Given a set of examples, the model is tasked to generate a response.\n",
        "\n",
        "    Inputs:\n",
        "      model: LLM model instance for prompting\n",
        "      prompt_examples: pre-processed text samples\n",
        "\n",
        "    Outputs:\n",
        "      generated responses\n",
        "  \"\"\"\n",
        "\n",
        "  pipe = pipeline(\n",
        "      \"text-generation\",\n",
        "      model=model,\n",
        "      tokenizer=tok,\n",
        "      torch_dtype=torch.bfloat16,\n",
        "      device_map=\"auto\",\n",
        "  )\n",
        "\n",
        "  sequences = pipe(\n",
        "      prompt_examples,\n",
        "      max_new_tokens=10,\n",
        "  )\n",
        "\n",
        "  return sequences"
      ]
    },
    {
      "cell_type": "code",
      "execution_count": null,
      "metadata": {
        "id": "uiCoMrutyXTU"
      },
      "outputs": [],
      "source": [
        "def process_response(response):\n",
        "  \"\"\"\n",
        "    This function takes a textual response generated by the LLM\n",
        "    and processes it to map the response to a binary label.\n",
        "\n",
        "    Inputs:\n",
        "      response: generated response from LLM\n",
        "\n",
        "    Outputs:\n",
        "      parsed binary response: return 1 if YES and 0 if NO\n",
        "  \"\"\"\n",
        "\n",
        "  response = response[0]['generated_text'][-1]['content']\n",
        "  normalized_response = response.strip().upper()\n",
        "\n",
        "  fail_count = 0\n",
        "\n",
        "  # Map the response to binary labels\n",
        "  if (normalized_response == \"YES\") or (\"YES\" in normalized_response[:3]):\n",
        "      return 1, fail_count\n",
        "  elif (normalized_response == \"NO\") or (\"NO\" in normalized_response[:2]):\n",
        "      return 0, fail_count\n",
        "  else:\n",
        "      fail_count = 1\n",
        "      return 0, fail_count"
      ]
    },
    {
      "cell_type": "markdown",
      "source": [
        "### Mistral"
      ],
      "metadata": {
        "id": "BdzeVkplf4mF"
      }
    },
    {
      "cell_type": "code",
      "source": [
        "responses_zero_shot_mistral = generate_responses(model_mistral, prepared_prompts_zero_shot_mistral, tokenizer_mistral)"
      ],
      "metadata": {
        "id": "Qw5CdAl4Llvv",
        "colab": {
          "base_uri": "https://localhost:8080/"
        },
        "outputId": "64ab6857-2900-48b3-a34f-17c620dbc337"
      },
      "execution_count": null,
      "outputs": [
        {
          "output_type": "stream",
          "name": "stderr",
          "text": [
            "Device set to use cuda:0\n"
          ]
        }
      ]
    },
    {
      "cell_type": "markdown",
      "source": [
        "### Llama"
      ],
      "metadata": {
        "id": "F_jjlkzRf7uJ"
      }
    },
    {
      "cell_type": "code",
      "source": [
        "responses_zero_shot_llama = generate_responses(model_llama, prepared_prompts_zero_shot_llama, tokenizer_llama)"
      ],
      "metadata": {
        "id": "i0IgdOryf9WE",
        "colab": {
          "base_uri": "https://localhost:8080/"
        },
        "outputId": "5d9eeab1-2d53-456e-c609-56cfaa733819"
      },
      "execution_count": null,
      "outputs": [
        {
          "output_type": "stream",
          "name": "stderr",
          "text": [
            "Device set to use cuda:0\n"
          ]
        }
      ]
    },
    {
      "cell_type": "markdown",
      "metadata": {
        "id": "VKcQ0ZfO2Fya"
      },
      "source": [
        "## Notes\n",
        "\n",
        "1. According to our tests, it should take you ~10 mins to perform full inference on 300 samples."
      ]
    },
    {
      "cell_type": "markdown",
      "metadata": {
        "id": "KyZ8WU09zz-a"
      },
      "source": [
        "# [Task 4 - 0.5 points] Metrics\n",
        "\n",
        "In order to evaluate selected LLMs, we need to compute performance metrics.\n",
        "\n",
        "In particular, we are interested in computing **accuracy** since the provided data is balanced with respect to classification classes.\n",
        "\n",
        "Moreover, we want to compute the ratio of failed responses generated by models.\n",
        "\n",
        "That is, how frequent the LLM fails to follow instructions and provides incorrect responses that do not address the classification task.\n",
        "\n",
        "We denote this metric as **fail-ratio**.\n",
        "\n",
        "In summary, we parse generated responses as follows:\n",
        "- 1 if the model says YES\n",
        "- 0 if the model says NO\n",
        "- 0 if the model does not answer in either way"
      ]
    },
    {
      "cell_type": "markdown",
      "metadata": {
        "id": "y6lu64o80iX4"
      },
      "source": [
        "### Instructions\n",
        "\n",
        "In order to get Task 4 points, we require you to:\n",
        "\n",
        "* Write a ``compute_metrics`` function as the one reported below.\n",
        "* Compute metrics for the two selected LLMs."
      ]
    },
    {
      "cell_type": "code",
      "execution_count": null,
      "metadata": {
        "id": "9Fmcw_9v0k9D"
      },
      "outputs": [],
      "source": [
        "def compute_metrics(responses, y_true):\n",
        "  \"\"\"\n",
        "    This function takes predicted and ground-truth labels and compute metrics.\n",
        "    In particular, this function compute accuracy and fail-ratio metrics.\n",
        "    This function internally invokes `process_response` to compute metrics.\n",
        "\n",
        "    Inputs:\n",
        "      responses: generated LLM responses\n",
        "      y_true: ground-truth binary labels\n",
        "\n",
        "    Outputs:\n",
        "      dictionary containing desired metrics\n",
        "  \"\"\"\n",
        "  # Ensure responses and y_true are of the same length\n",
        "  if len(responses) != len(y_true):\n",
        "      raise ValueError(\"The number of responses must match the number of ground-truth labels.\")\n",
        "\n",
        "  # Process responses to convert them into binary predictions\n",
        "  y_pred, fails = zip(*[process_response(response) for response in responses])\n",
        "\n",
        "  # Compute metrics\n",
        "  total_samples = len(y_true)\n",
        "  correct_predictions = sum([1 for pred, true in zip(y_pred, y_true) if pred == true])\n",
        "  total_failures = sum(fails)\n",
        "  # total_failures = sum([1 for pred, true in zip(y_pred, y_true) if pred != true])\n",
        "\n",
        "  accuracy = correct_predictions / total_samples\n",
        "  fail_ratio = total_failures / total_samples\n",
        "\n",
        "  return {\n",
        "      \"predictions\": list(y_pred),\n",
        "      \"accuracy\": accuracy,\n",
        "      \"fail_ratio\": fail_ratio,\n",
        "  }"
      ]
    },
    {
      "cell_type": "code",
      "source": [
        "test_data['label_sexist'] = test_data['label_sexist'].apply(lambda x: 1 if x == 'sexist' else 0)"
      ],
      "metadata": {
        "id": "1BZ6avB2aEk7"
      },
      "execution_count": null,
      "outputs": []
    },
    {
      "cell_type": "markdown",
      "source": [
        "### Mistral"
      ],
      "metadata": {
        "id": "ZYC0dO-bkaN6"
      }
    },
    {
      "cell_type": "code",
      "source": [
        "metrics_dict_zero_shot_mistral = compute_metrics(responses_zero_shot_mistral, test_data['label_sexist'])\n",
        "print(f\"Accuracy: {metrics_dict_zero_shot_mistral['accuracy']}, Fail ratio: {metrics_dict_zero_shot_mistral['fail_ratio']}\")"
      ],
      "metadata": {
        "id": "dnwznXQ3ackK",
        "colab": {
          "base_uri": "https://localhost:8080/"
        },
        "outputId": "599d1d68-5b42-40ca-dd82-aa2b1172213c"
      },
      "execution_count": null,
      "outputs": [
        {
          "output_type": "stream",
          "name": "stdout",
          "text": [
            "Accuracy: 0.5933333333333334, Fail ratio: 0.0\n"
          ]
        }
      ]
    },
    {
      "cell_type": "markdown",
      "source": [
        "### Llama"
      ],
      "metadata": {
        "id": "ogx_e-v6kcWa"
      }
    },
    {
      "cell_type": "code",
      "source": [
        "metrics_dict_zero_shot_llama = compute_metrics(responses_zero_shot_llama, test_data['label_sexist'])\n",
        "print(f\"Accuracy: {metrics_dict_zero_shot_llama['accuracy']}, Fail ratio: {metrics_dict_zero_shot_llama['fail_ratio']}\")"
      ],
      "metadata": {
        "id": "lBB5KN4WkiQb",
        "colab": {
          "base_uri": "https://localhost:8080/"
        },
        "outputId": "77777603-c51a-4281-d255-b96cfc636c3e"
      },
      "execution_count": null,
      "outputs": [
        {
          "output_type": "stream",
          "name": "stdout",
          "text": [
            "Accuracy: 0.65, Fail ratio: 0.0\n"
          ]
        }
      ]
    },
    {
      "cell_type": "markdown",
      "metadata": {
        "id": "nHyvV4QD2vZS"
      },
      "source": [
        "# [Task 5 - 1.0 points] Few-shot Inference\n",
        "\n",
        "So far, we have tested models in a zero-shot fashion: we provide the input text to classify and instruct the model to generate a response.\n",
        "\n",
        "We are now interested in performing few-shot prompting to see the impact of providing demonstration examples.\n",
        "\n",
        "To do so, we slightly change the prompt template as follows."
      ]
    },
    {
      "cell_type": "code",
      "execution_count": null,
      "metadata": {
        "id": "pEqsOHz63ReW"
      },
      "outputs": [],
      "source": [
        "prompt_example = [\n",
        "    {\n",
        "        'role': 'system',\n",
        "        'content': 'You are an annotator for sexism detection.'\n",
        "    },\n",
        "    {\n",
        "        'role': 'user',\n",
        "        'content': \"\"\"Your task is to classify input text as containing sexism or not. Respond only YES or NO.\n",
        "\n",
        "        EXAMPLES:\n",
        "        {examples}\n",
        "\n",
        "        TEXT:\n",
        "        {text}\n",
        "\n",
        "        ANSWER:\n",
        "        \"\"\"\n",
        "    }\n",
        "]"
      ]
    },
    {
      "cell_type": "markdown",
      "metadata": {
        "id": "_SnaxuwN3ySF"
      },
      "source": [
        "The new prompt template reports some demonstration examples to instruct the model.\n",
        "\n",
        "Generally, we provide an equal number of demonstrations per class as shown in the example below."
      ]
    },
    {
      "cell_type": "code",
      "execution_count": null,
      "metadata": {
        "id": "8mNmRMQs4VCn"
      },
      "outputs": [],
      "source": [
        "prompt_example = [\n",
        "    {\n",
        "        'role': 'system',\n",
        "        'content': 'You are an annotator for sexism detection.'\n",
        "    },\n",
        "    {\n",
        "        'role': 'user',\n",
        "        'content': \"\"\"Your task is to classify input text as containing sexism or not. Respond only YES or NO.\n",
        "\n",
        "        EXAMPLES:\n",
        "        TEXT: **example 1**\n",
        "        ANSWER: YES\n",
        "        TEXT: **example 2**\n",
        "        ANSWER: NO\n",
        "\n",
        "        TEXT:\n",
        "        {text}\n",
        "\n",
        "        ANSWER:\n",
        "        \"\"\"\n",
        "    }\n",
        "]"
      ]
    },
    {
      "cell_type": "markdown",
      "metadata": {
        "id": "OE0XnaVr3CZz"
      },
      "source": [
        "## Instructions\n",
        "\n",
        "In order to get Task 5 points, we require you to:\n",
        "\n",
        "- Load ``demonstrations.csv`` and encode it into a ``pandas.DataFrame`` object.\n",
        "- Define a ``build_few_shot_demonstrations`` function as the one reported below.\n",
        "- Perform few-shot inference as in Task 3.\n",
        "- Compute metrics as in Task 4."
      ]
    },
    {
      "cell_type": "code",
      "source": [
        "demonstrations = dataframes['demonstrations.csv']"
      ],
      "metadata": {
        "id": "B70y2KpCTHCi"
      },
      "execution_count": null,
      "outputs": []
    },
    {
      "cell_type": "code",
      "source": [
        "demonstrations.head()"
      ],
      "metadata": {
        "colab": {
          "base_uri": "https://localhost:8080/",
          "height": 206
        },
        "id": "Jx1Zpht9Tbm6",
        "outputId": "7b2ac682-6c0a-4619-f07f-ceba23721fd7"
      },
      "execution_count": null,
      "outputs": [
        {
          "output_type": "execute_result",
          "data": {
            "text/plain": [
              "                  rewire_id  \\\n",
              "0  sexism2022_english-10348   \n",
              "1   sexism2022_english-7950   \n",
              "2   sexism2022_english-7742   \n",
              "3  sexism2022_english-16170   \n",
              "4   sexism2022_english-9857   \n",
              "\n",
              "                                                text label_sexist  \n",
              "0  I would never have my kid go to a daycare with...   not sexist  \n",
              "1           Democrat women are so butt fucking ugly.       sexist  \n",
              "2  If you really wanted to twist the knife you’d ...   not sexist  \n",
              "3  Those women are pro-rape. They didn’t care abo...       sexist  \n",
              "4  Married a bitch... Is it the standard scenario...       sexist  "
            ],
            "text/html": [
              "\n",
              "  <div id=\"df-09a13c63-eb57-4582-9de1-2e375cdb8061\" class=\"colab-df-container\">\n",
              "    <div>\n",
              "<style scoped>\n",
              "    .dataframe tbody tr th:only-of-type {\n",
              "        vertical-align: middle;\n",
              "    }\n",
              "\n",
              "    .dataframe tbody tr th {\n",
              "        vertical-align: top;\n",
              "    }\n",
              "\n",
              "    .dataframe thead th {\n",
              "        text-align: right;\n",
              "    }\n",
              "</style>\n",
              "<table border=\"1\" class=\"dataframe\">\n",
              "  <thead>\n",
              "    <tr style=\"text-align: right;\">\n",
              "      <th></th>\n",
              "      <th>rewire_id</th>\n",
              "      <th>text</th>\n",
              "      <th>label_sexist</th>\n",
              "    </tr>\n",
              "  </thead>\n",
              "  <tbody>\n",
              "    <tr>\n",
              "      <th>0</th>\n",
              "      <td>sexism2022_english-10348</td>\n",
              "      <td>I would never have my kid go to a daycare with...</td>\n",
              "      <td>not sexist</td>\n",
              "    </tr>\n",
              "    <tr>\n",
              "      <th>1</th>\n",
              "      <td>sexism2022_english-7950</td>\n",
              "      <td>Democrat women are so butt fucking ugly.</td>\n",
              "      <td>sexist</td>\n",
              "    </tr>\n",
              "    <tr>\n",
              "      <th>2</th>\n",
              "      <td>sexism2022_english-7742</td>\n",
              "      <td>If you really wanted to twist the knife you’d ...</td>\n",
              "      <td>not sexist</td>\n",
              "    </tr>\n",
              "    <tr>\n",
              "      <th>3</th>\n",
              "      <td>sexism2022_english-16170</td>\n",
              "      <td>Those women are pro-rape. They didn’t care abo...</td>\n",
              "      <td>sexist</td>\n",
              "    </tr>\n",
              "    <tr>\n",
              "      <th>4</th>\n",
              "      <td>sexism2022_english-9857</td>\n",
              "      <td>Married a bitch... Is it the standard scenario...</td>\n",
              "      <td>sexist</td>\n",
              "    </tr>\n",
              "  </tbody>\n",
              "</table>\n",
              "</div>\n",
              "    <div class=\"colab-df-buttons\">\n",
              "\n",
              "  <div class=\"colab-df-container\">\n",
              "    <button class=\"colab-df-convert\" onclick=\"convertToInteractive('df-09a13c63-eb57-4582-9de1-2e375cdb8061')\"\n",
              "            title=\"Convert this dataframe to an interactive table.\"\n",
              "            style=\"display:none;\">\n",
              "\n",
              "  <svg xmlns=\"http://www.w3.org/2000/svg\" height=\"24px\" viewBox=\"0 -960 960 960\">\n",
              "    <path d=\"M120-120v-720h720v720H120Zm60-500h600v-160H180v160Zm220 220h160v-160H400v160Zm0 220h160v-160H400v160ZM180-400h160v-160H180v160Zm440 0h160v-160H620v160ZM180-180h160v-160H180v160Zm440 0h160v-160H620v160Z\"/>\n",
              "  </svg>\n",
              "    </button>\n",
              "\n",
              "  <style>\n",
              "    .colab-df-container {\n",
              "      display:flex;\n",
              "      gap: 12px;\n",
              "    }\n",
              "\n",
              "    .colab-df-convert {\n",
              "      background-color: #E8F0FE;\n",
              "      border: none;\n",
              "      border-radius: 50%;\n",
              "      cursor: pointer;\n",
              "      display: none;\n",
              "      fill: #1967D2;\n",
              "      height: 32px;\n",
              "      padding: 0 0 0 0;\n",
              "      width: 32px;\n",
              "    }\n",
              "\n",
              "    .colab-df-convert:hover {\n",
              "      background-color: #E2EBFA;\n",
              "      box-shadow: 0px 1px 2px rgba(60, 64, 67, 0.3), 0px 1px 3px 1px rgba(60, 64, 67, 0.15);\n",
              "      fill: #174EA6;\n",
              "    }\n",
              "\n",
              "    .colab-df-buttons div {\n",
              "      margin-bottom: 4px;\n",
              "    }\n",
              "\n",
              "    [theme=dark] .colab-df-convert {\n",
              "      background-color: #3B4455;\n",
              "      fill: #D2E3FC;\n",
              "    }\n",
              "\n",
              "    [theme=dark] .colab-df-convert:hover {\n",
              "      background-color: #434B5C;\n",
              "      box-shadow: 0px 1px 3px 1px rgba(0, 0, 0, 0.15);\n",
              "      filter: drop-shadow(0px 1px 2px rgba(0, 0, 0, 0.3));\n",
              "      fill: #FFFFFF;\n",
              "    }\n",
              "  </style>\n",
              "\n",
              "    <script>\n",
              "      const buttonEl =\n",
              "        document.querySelector('#df-09a13c63-eb57-4582-9de1-2e375cdb8061 button.colab-df-convert');\n",
              "      buttonEl.style.display =\n",
              "        google.colab.kernel.accessAllowed ? 'block' : 'none';\n",
              "\n",
              "      async function convertToInteractive(key) {\n",
              "        const element = document.querySelector('#df-09a13c63-eb57-4582-9de1-2e375cdb8061');\n",
              "        const dataTable =\n",
              "          await google.colab.kernel.invokeFunction('convertToInteractive',\n",
              "                                                    [key], {});\n",
              "        if (!dataTable) return;\n",
              "\n",
              "        const docLinkHtml = 'Like what you see? Visit the ' +\n",
              "          '<a target=\"_blank\" href=https://colab.research.google.com/notebooks/data_table.ipynb>data table notebook</a>'\n",
              "          + ' to learn more about interactive tables.';\n",
              "        element.innerHTML = '';\n",
              "        dataTable['output_type'] = 'display_data';\n",
              "        await google.colab.output.renderOutput(dataTable, element);\n",
              "        const docLink = document.createElement('div');\n",
              "        docLink.innerHTML = docLinkHtml;\n",
              "        element.appendChild(docLink);\n",
              "      }\n",
              "    </script>\n",
              "  </div>\n",
              "\n",
              "\n",
              "<div id=\"df-7a5ced77-08be-4758-aba2-fe0755b6669e\">\n",
              "  <button class=\"colab-df-quickchart\" onclick=\"quickchart('df-7a5ced77-08be-4758-aba2-fe0755b6669e')\"\n",
              "            title=\"Suggest charts\"\n",
              "            style=\"display:none;\">\n",
              "\n",
              "<svg xmlns=\"http://www.w3.org/2000/svg\" height=\"24px\"viewBox=\"0 0 24 24\"\n",
              "     width=\"24px\">\n",
              "    <g>\n",
              "        <path d=\"M19 3H5c-1.1 0-2 .9-2 2v14c0 1.1.9 2 2 2h14c1.1 0 2-.9 2-2V5c0-1.1-.9-2-2-2zM9 17H7v-7h2v7zm4 0h-2V7h2v10zm4 0h-2v-4h2v4z\"/>\n",
              "    </g>\n",
              "</svg>\n",
              "  </button>\n",
              "\n",
              "<style>\n",
              "  .colab-df-quickchart {\n",
              "      --bg-color: #E8F0FE;\n",
              "      --fill-color: #1967D2;\n",
              "      --hover-bg-color: #E2EBFA;\n",
              "      --hover-fill-color: #174EA6;\n",
              "      --disabled-fill-color: #AAA;\n",
              "      --disabled-bg-color: #DDD;\n",
              "  }\n",
              "\n",
              "  [theme=dark] .colab-df-quickchart {\n",
              "      --bg-color: #3B4455;\n",
              "      --fill-color: #D2E3FC;\n",
              "      --hover-bg-color: #434B5C;\n",
              "      --hover-fill-color: #FFFFFF;\n",
              "      --disabled-bg-color: #3B4455;\n",
              "      --disabled-fill-color: #666;\n",
              "  }\n",
              "\n",
              "  .colab-df-quickchart {\n",
              "    background-color: var(--bg-color);\n",
              "    border: none;\n",
              "    border-radius: 50%;\n",
              "    cursor: pointer;\n",
              "    display: none;\n",
              "    fill: var(--fill-color);\n",
              "    height: 32px;\n",
              "    padding: 0;\n",
              "    width: 32px;\n",
              "  }\n",
              "\n",
              "  .colab-df-quickchart:hover {\n",
              "    background-color: var(--hover-bg-color);\n",
              "    box-shadow: 0 1px 2px rgba(60, 64, 67, 0.3), 0 1px 3px 1px rgba(60, 64, 67, 0.15);\n",
              "    fill: var(--button-hover-fill-color);\n",
              "  }\n",
              "\n",
              "  .colab-df-quickchart-complete:disabled,\n",
              "  .colab-df-quickchart-complete:disabled:hover {\n",
              "    background-color: var(--disabled-bg-color);\n",
              "    fill: var(--disabled-fill-color);\n",
              "    box-shadow: none;\n",
              "  }\n",
              "\n",
              "  .colab-df-spinner {\n",
              "    border: 2px solid var(--fill-color);\n",
              "    border-color: transparent;\n",
              "    border-bottom-color: var(--fill-color);\n",
              "    animation:\n",
              "      spin 1s steps(1) infinite;\n",
              "  }\n",
              "\n",
              "  @keyframes spin {\n",
              "    0% {\n",
              "      border-color: transparent;\n",
              "      border-bottom-color: var(--fill-color);\n",
              "      border-left-color: var(--fill-color);\n",
              "    }\n",
              "    20% {\n",
              "      border-color: transparent;\n",
              "      border-left-color: var(--fill-color);\n",
              "      border-top-color: var(--fill-color);\n",
              "    }\n",
              "    30% {\n",
              "      border-color: transparent;\n",
              "      border-left-color: var(--fill-color);\n",
              "      border-top-color: var(--fill-color);\n",
              "      border-right-color: var(--fill-color);\n",
              "    }\n",
              "    40% {\n",
              "      border-color: transparent;\n",
              "      border-right-color: var(--fill-color);\n",
              "      border-top-color: var(--fill-color);\n",
              "    }\n",
              "    60% {\n",
              "      border-color: transparent;\n",
              "      border-right-color: var(--fill-color);\n",
              "    }\n",
              "    80% {\n",
              "      border-color: transparent;\n",
              "      border-right-color: var(--fill-color);\n",
              "      border-bottom-color: var(--fill-color);\n",
              "    }\n",
              "    90% {\n",
              "      border-color: transparent;\n",
              "      border-bottom-color: var(--fill-color);\n",
              "    }\n",
              "  }\n",
              "</style>\n",
              "\n",
              "  <script>\n",
              "    async function quickchart(key) {\n",
              "      const quickchartButtonEl =\n",
              "        document.querySelector('#' + key + ' button');\n",
              "      quickchartButtonEl.disabled = true;  // To prevent multiple clicks.\n",
              "      quickchartButtonEl.classList.add('colab-df-spinner');\n",
              "      try {\n",
              "        const charts = await google.colab.kernel.invokeFunction(\n",
              "            'suggestCharts', [key], {});\n",
              "      } catch (error) {\n",
              "        console.error('Error during call to suggestCharts:', error);\n",
              "      }\n",
              "      quickchartButtonEl.classList.remove('colab-df-spinner');\n",
              "      quickchartButtonEl.classList.add('colab-df-quickchart-complete');\n",
              "    }\n",
              "    (() => {\n",
              "      let quickchartButtonEl =\n",
              "        document.querySelector('#df-7a5ced77-08be-4758-aba2-fe0755b6669e button');\n",
              "      quickchartButtonEl.style.display =\n",
              "        google.colab.kernel.accessAllowed ? 'block' : 'none';\n",
              "    })();\n",
              "  </script>\n",
              "</div>\n",
              "\n",
              "    </div>\n",
              "  </div>\n"
            ],
            "application/vnd.google.colaboratory.intrinsic+json": {
              "type": "dataframe",
              "variable_name": "demonstrations",
              "summary": "{\n  \"name\": \"demonstrations\",\n  \"rows\": 1000,\n  \"fields\": [\n    {\n      \"column\": \"rewire_id\",\n      \"properties\": {\n        \"dtype\": \"string\",\n        \"num_unique_values\": 1000,\n        \"samples\": [\n          \"sexism2022_english-1375\",\n          \"sexism2022_english-278\",\n          \"sexism2022_english-7964\"\n        ],\n        \"semantic_type\": \"\",\n        \"description\": \"\"\n      }\n    },\n    {\n      \"column\": \"text\",\n      \"properties\": {\n        \"dtype\": \"string\",\n        \"num_unique_values\": 1000,\n        \"samples\": [\n          \"untouched Not after 6 years, especially not if she went to college\",\n          \"I understand. We will purge hidden eurofag scum from Holy City of Miami, burn down their illegal particle accelerator labs stretching underneath the capital!\",\n          \"A Mississippi state senator hits the DC women protesters with a serious burn.\"\n        ],\n        \"semantic_type\": \"\",\n        \"description\": \"\"\n      }\n    },\n    {\n      \"column\": \"label_sexist\",\n      \"properties\": {\n        \"dtype\": \"category\",\n        \"num_unique_values\": 2,\n        \"samples\": [\n          \"sexist\",\n          \"not sexist\"\n        ],\n        \"semantic_type\": \"\",\n        \"description\": \"\"\n      }\n    }\n  ]\n}"
            }
          },
          "metadata": {},
          "execution_count": 24
        }
      ]
    },
    {
      "cell_type": "code",
      "execution_count": null,
      "metadata": {
        "id": "6oyxypUG3ltH"
      },
      "outputs": [],
      "source": [
        "def build_few_shot_demonstrations(demonstrations, num_per_class=2):\n",
        "    \"\"\"\n",
        "        Inputs:\n",
        "        demonstrations: the pandas.DataFrame object wrapping demonstrations.csv\n",
        "        num_per_class: number of demonstrations per class\n",
        "\n",
        "\n",
        "        Outputs:\n",
        "        a list of textual demonstrations to inject into the prompt template.\n",
        "    \"\"\"\n",
        "    # Group by class and sample demonstrations\n",
        "    few_shot_examples = []\n",
        "    grouped = demonstrations.groupby(\"label_sexist\")\n",
        "    for _ in range(len(test_data)):\n",
        "        examples = []\n",
        "        for label, group in grouped:\n",
        "            sampled = group.sample(n=min(num_per_class, len(group)))\n",
        "            examples.extend(sampled[\"text\"].tolist())\n",
        "\n",
        "        example_str = ''\n",
        "        for i in range(len(examples)):\n",
        "            example_str += '\\nTEXT: ' + examples[i] + '\\nANSWER: ' + ('NO' if i < num_per_class else 'YES')\n",
        "\n",
        "        few_shot_examples.append(example_str)\n",
        "\n",
        "    return few_shot_examples\n"
      ]
    },
    {
      "cell_type": "markdown",
      "source": [
        "This fuction generate different examples for each element that we be will using in the response generation, in this way we are utilizing all the demonstration dataset (or at least most of it) and since some demonstration may be very clear and explicative while some other may be not very clear on the reason why it is or it is not sexist, by changing the demostration each time we reduce the possibility that the quality of the demonstration may influence the final performance."
      ],
      "metadata": {
        "id": "4j4xQodgdO7h"
      }
    },
    {
      "cell_type": "code",
      "source": [
        "num_per_class = 2\n",
        "few_shot_examples = build_few_shot_demonstrations(demonstrations, num_per_class)"
      ],
      "metadata": {
        "id": "_vs451z1aZh7"
      },
      "execution_count": null,
      "outputs": []
    },
    {
      "cell_type": "code",
      "source": [
        "prompt_few_shot = [\n",
        "    {\n",
        "        'role': 'system',\n",
        "        'content': 'You are an annotator for sexism detection.'\n",
        "    },\n",
        "    {\n",
        "        'role': 'user',\n",
        "        'content': \"\"\"Your task is to classify input text as containing sexism or not. Respond only YES or NO.\n",
        "\n",
        "        EXAMPLES:\n",
        "        {examples}\n",
        "\n",
        "        TEXT:\n",
        "        {text}\n",
        "\n",
        "        ANSWER:\n",
        "        \"\"\"\n",
        "    }\n",
        "]"
      ],
      "metadata": {
        "id": "9WIBESGOW0wz"
      },
      "execution_count": null,
      "outputs": []
    },
    {
      "cell_type": "code",
      "source": [
        "def prepare_prompts_few_shot(texts, prompt_template, tokenizer, examples, max_length=512, num_per_class=2):\n",
        "    \"\"\"\n",
        "    Prepares prompts with few-shot examples and tokenizes them.\n",
        "\n",
        "    Args:\n",
        "        texts: List of input texts for the prompts.\n",
        "        prompt_template: Template for the prompts, a list of role-content dictionaries.\n",
        "        tokenizer: Tokenizer to use for encoding the prompts.\n",
        "        examples: List of few-shot examples to insert where `{examples}` is encountered.\n",
        "        max_length: Maximum length for tokenized outputs.\n",
        "        num_per_class: Number of examples to include per class in `{examples}`.\n",
        "\n",
        "    Returns:\n",
        "        Tokenized outputs and prepared prompts.\n",
        "    \"\"\"\n",
        "    prompts = []\n",
        "    for i, text in enumerate(texts):\n",
        "        example = examples[i]\n",
        "        # Create the prompt and insert examples where `{examples}` is found\n",
        "        current_prompt = [\n",
        "            {\n",
        "                'role': entry['role'],\n",
        "                'content': entry['content']\n",
        "                .replace(\"{text}\", text)\n",
        "                .replace(\"{examples}\", example) if '{examples}' in entry['content'] else entry['content']\n",
        "            }\n",
        "            for entry in prompt_template\n",
        "        ]\n",
        "        prompts.append(current_prompt)\n",
        "\n",
        "    print('Prompt[0]:', prompts[0])\n",
        "\n",
        "    # Tokenize the prompts (flattened into strings for tokenizer compatibility)\n",
        "    tokenized_outputs = tokenizer(\n",
        "        [f\"{entry['role']}: {entry['content']}\" for prompt in prompts for entry in prompt],\n",
        "        padding=True,\n",
        "        truncation=True,\n",
        "        max_length=max_length,\n",
        "        return_tensors=\"pt\"\n",
        "    )\n",
        "\n",
        "    return tokenized_outputs, prompts"
      ],
      "metadata": {
        "id": "wkn8Dx9mXmN4"
      },
      "execution_count": null,
      "outputs": []
    },
    {
      "cell_type": "markdown",
      "source": [
        "### Mistral"
      ],
      "metadata": {
        "id": "TQh-ZjItmDul"
      }
    },
    {
      "cell_type": "code",
      "source": [
        "tokenized_prompts_few_shot_mistral, prompts_few_shot_mistral = prepare_prompts_few_shot(test_data['text'], prompt_few_shot, tokenizer_mistral, few_shot_examples, num_per_class)"
      ],
      "metadata": {
        "colab": {
          "base_uri": "https://localhost:8080/"
        },
        "id": "tmK1vJ9PZXa-",
        "outputId": "3dd82917-f69d-4fff-b729-726dcb18d4ca"
      },
      "execution_count": null,
      "outputs": [
        {
          "output_type": "stream",
          "name": "stdout",
          "text": [
            "Prompt[0]: [{'role': 'system', 'content': 'You are an annotator for sexism detection.'}, {'role': 'user', 'content': \"Your task is to classify input text as containing sexism or not. Respond only YES or NO.\\n\\n        EXAMPLES:\\n        \\nTEXT: Girls who pick fights knowing they're not wearing a bra are another kind of crazy\\nANSWER: NO\\nTEXT: Is she never going to the gym again? You'll definitely see her again man don't beat yourself up\\nANSWER: NO\\nTEXT: Josepth levitt gordon: He seems like a natural charmer, he laughs a lot, tells good stories, the kind of dude that goes after the chick Ryan Goslings: The total opposite of Joseph, but he gets the bitches chasing him so thats good too.\\nANSWER: YES\\nTEXT: Isn't the IQ the same, but the variation is higher? Resulting in less stupid women, but less smart ones as well?\\nANSWER: YES\\n\\n        TEXT:\\n        The boys must be gaming because there goes the wifi.\\n\\n        ANSWER:\\n        \"}]\n"
          ]
        }
      ]
    },
    {
      "cell_type": "code",
      "source": [
        "responses_few_shot_mistral = generate_responses(model_mistral, prompts_few_shot_mistral, tokenizer_mistral)"
      ],
      "metadata": {
        "id": "ETLLnfP-aF3V",
        "colab": {
          "base_uri": "https://localhost:8080/"
        },
        "outputId": "c86a26eb-199f-4423-8bf5-e5e869c2706d"
      },
      "execution_count": null,
      "outputs": [
        {
          "output_type": "stream",
          "name": "stderr",
          "text": [
            "Device set to use cuda:0\n"
          ]
        }
      ]
    },
    {
      "cell_type": "code",
      "source": [
        "metrics_dict_few_shot_mistral = compute_metrics(responses_few_shot_mistral, test_data['label_sexist'])\n",
        "print(f\"Accuracy: {metrics_dict_few_shot_mistral['accuracy']}, Fail ratio: {metrics_dict_few_shot_mistral['fail_ratio']}\")"
      ],
      "metadata": {
        "id": "85pnMGSiaNSX",
        "colab": {
          "base_uri": "https://localhost:8080/"
        },
        "outputId": "6736bb17-c56f-464a-d2ee-760ce045da8a"
      },
      "execution_count": null,
      "outputs": [
        {
          "output_type": "stream",
          "name": "stdout",
          "text": [
            "Accuracy: 0.7366666666666667, Fail ratio: 0.0\n"
          ]
        }
      ]
    },
    {
      "cell_type": "markdown",
      "source": [
        "### Llama"
      ],
      "metadata": {
        "id": "XFtKvVBQmGHn"
      }
    },
    {
      "cell_type": "code",
      "source": [
        "tokenized_prompts_few_shot_llama, prompts_few_shot_llama = prepare_prompts_few_shot(test_data['text'], prompt_few_shot, tokenizer_llama, few_shot_examples, num_per_class)"
      ],
      "metadata": {
        "id": "Xnk0R_0RmHmx",
        "colab": {
          "base_uri": "https://localhost:8080/"
        },
        "outputId": "d35311e4-5091-4e87-c6d3-eea04460bc4d"
      },
      "execution_count": null,
      "outputs": [
        {
          "output_type": "stream",
          "name": "stdout",
          "text": [
            "Prompt[0]: [{'role': 'system', 'content': 'You are an annotator for sexism detection.'}, {'role': 'user', 'content': 'Your task is to classify input text as containing sexism or not. Respond only YES or NO.\\n\\n        EXAMPLES:\\n        \\nTEXT: Bush daughter headlines Planned Parenthood fundraiser [URL]\\nANSWER: NO\\nTEXT: Fuck everything effects ,minorities and women more than white males. Fuck that. Fuck off!\\nANSWER: NO\\nTEXT: So she tried to save herself with a preemptive strike, eh? What a conniving bitch.\\nANSWER: YES\\nTEXT: No female wants this. They may say/think they do but they just want this guy to pay the bills while they fuck someone “exciting” which would be a the exact opposite of this person\\nANSWER: YES\\n\\n        TEXT:\\n        The boys must be gaming because there goes the wifi.\\n\\n        ANSWER:\\n        '}]\n"
          ]
        }
      ]
    },
    {
      "cell_type": "code",
      "source": [
        "responses_few_shot_llama = generate_responses(model_llama, prompts_few_shot_llama, tokenizer_llama)"
      ],
      "metadata": {
        "id": "OoWAE52WmUxX",
        "colab": {
          "base_uri": "https://localhost:8080/"
        },
        "outputId": "3380041c-1c8a-4dc2-ac5e-af38662f0bbd"
      },
      "execution_count": null,
      "outputs": [
        {
          "output_type": "stream",
          "name": "stderr",
          "text": [
            "Device set to use cuda:0\n"
          ]
        }
      ]
    },
    {
      "cell_type": "code",
      "source": [
        "metrics_dict_few_shot_llama = compute_metrics(responses_few_shot_llama, test_data['label_sexist'])\n",
        "print(f\"Accuracy: {metrics_dict_few_shot_llama['accuracy']}, Fail ratio: {metrics_dict_few_shot_llama['fail_ratio']}\")"
      ],
      "metadata": {
        "id": "-VYp3vbVmce_",
        "colab": {
          "base_uri": "https://localhost:8080/"
        },
        "outputId": "ca8f9e7e-4aca-4f0f-c816-847c67995b8a"
      },
      "execution_count": null,
      "outputs": [
        {
          "output_type": "stream",
          "name": "stdout",
          "text": [
            "Accuracy: 0.64, Fail ratio: 0.0\n"
          ]
        }
      ]
    },
    {
      "cell_type": "markdown",
      "metadata": {
        "id": "dGpZWQb45XXK"
      },
      "source": [
        "## Notes\n",
        "\n",
        "1. You are free to pick any value for ``num_per_class``.\n",
        "\n",
        "2. According to our tests, few-shot prompting increases inference time by some minutes (we experimented with ``num_per_class`` $\\in [2, 4]$)."
      ]
    },
    {
      "cell_type": "markdown",
      "metadata": {
        "id": "XHuT1a1GLJnd"
      },
      "source": [
        "# [Task 6 - 1.0 points] Error Analysis\n",
        "\n",
        "We are now interested in evaluating model responses and comparing their performance.\n",
        "\n",
        "This analysis helps us in understanding\n",
        "\n",
        "- Classification task performance gap: are the models good at this task?\n",
        "- Generation quality: which kind of responses do models generate?\n",
        "- Errors: which kind of mistakes do models do?"
      ]
    },
    {
      "cell_type": "markdown",
      "metadata": {
        "id": "7kjEAHD4LJne"
      },
      "source": [
        "### Instructions\n",
        "\n",
        "In order to get Task 6 points, we require you to:\n",
        "\n",
        "* Compare classification performance of selected LLMs in a Table.\n",
        "* Compute confusion matrices for selected LLMs.\n",
        "* Briefly summarize your observations on generated responses."
      ]
    },
    {
      "cell_type": "markdown",
      "source": [
        "## Classification performance comparison"
      ],
      "metadata": {
        "id": "Ya8vHkqrwB7M"
      }
    },
    {
      "cell_type": "markdown",
      "source": [
        "Compare the results obtained by the two analyzed models: Mistral and Llama."
      ],
      "metadata": {
        "id": "KljmzfQoBUo2"
      }
    },
    {
      "cell_type": "code",
      "source": [
        "print(metrics_dict_zero_shot_llama['predictions'])"
      ],
      "metadata": {
        "colab": {
          "base_uri": "https://localhost:8080/"
        },
        "id": "O8Tv7mXkgNjl",
        "outputId": "d8e326ce-dd8c-47e1-bb4e-c373f8a4504b"
      },
      "execution_count": null,
      "outputs": [
        {
          "output_type": "stream",
          "name": "stdout",
          "text": [
            "[0, 1, 0, 1, 1, 1, 1, 0, 0, 1, 1, 1, 1, 1, 0, 0, 0, 0, 1, 1, 1, 1, 1, 0, 0, 0, 0, 1, 0, 0, 1, 1, 1, 1, 1, 1, 1, 1, 1, 1, 0, 1, 1, 1, 1, 1, 1, 0, 1, 1, 1, 0, 1, 1, 1, 1, 0, 0, 1, 0, 1, 1, 1, 1, 1, 0, 1, 1, 1, 1, 1, 0, 0, 1, 1, 0, 1, 1, 1, 1, 1, 0, 1, 1, 0, 1, 1, 1, 1, 1, 1, 1, 1, 1, 1, 1, 0, 0, 1, 1, 0, 1, 1, 1, 0, 1, 0, 1, 1, 1, 1, 0, 1, 1, 0, 0, 1, 0, 1, 0, 1, 1, 1, 1, 1, 0, 1, 1, 1, 1, 1, 1, 1, 1, 1, 0, 0, 1, 1, 1, 1, 1, 1, 1, 0, 1, 1, 1, 1, 1, 1, 1, 1, 1, 1, 0, 1, 1, 1, 1, 1, 0, 0, 1, 0, 1, 1, 1, 1, 1, 0, 1, 0, 1, 1, 1, 0, 1, 1, 1, 1, 0, 1, 1, 1, 0, 0, 0, 0, 0, 1, 0, 1, 1, 1, 0, 0, 1, 1, 0, 1, 1, 0, 1, 1, 1, 1, 0, 1, 0, 0, 1, 0, 1, 1, 1, 0, 1, 1, 1, 0, 1, 0, 1, 1, 1, 1, 1, 1, 1, 1, 1, 1, 0, 1, 0, 1, 1, 1, 1, 1, 1, 1, 1, 1, 0, 1, 1, 1, 1, 1, 1, 0, 1, 1, 1, 1, 1, 1, 1, 1, 1, 1, 1, 0, 1, 1, 1, 1, 0, 1, 1, 1, 1, 0, 1, 1, 1, 0, 1, 1, 0, 0, 0, 0, 1, 0, 1, 0, 1, 1, 1, 1, 1, 1, 1, 0, 1, 0, 1]\n"
          ]
        }
      ]
    },
    {
      "cell_type": "code",
      "source": [
        "print(metrics_dict_few_shot_llama['predictions'])"
      ],
      "metadata": {
        "colab": {
          "base_uri": "https://localhost:8080/"
        },
        "id": "_Ir96RPqnXGd",
        "outputId": "40d3978e-9678-4858-8c41-81564d22823b"
      },
      "execution_count": null,
      "outputs": [
        {
          "output_type": "stream",
          "name": "stdout",
          "text": [
            "[0, 1, 1, 1, 1, 1, 1, 0, 0, 1, 1, 1, 1, 1, 1, 0, 1, 1, 1, 1, 1, 1, 1, 0, 0, 1, 1, 1, 1, 1, 1, 1, 0, 1, 1, 1, 1, 1, 0, 0, 1, 1, 1, 1, 1, 1, 1, 1, 1, 1, 1, 0, 1, 1, 1, 1, 0, 0, 1, 0, 0, 1, 1, 1, 1, 0, 1, 1, 1, 1, 1, 1, 1, 1, 1, 1, 1, 1, 1, 1, 1, 0, 1, 1, 0, 1, 1, 1, 1, 1, 1, 1, 1, 0, 1, 1, 1, 1, 1, 1, 0, 0, 1, 1, 0, 1, 0, 1, 1, 1, 1, 0, 1, 1, 1, 0, 1, 1, 1, 0, 1, 1, 1, 1, 1, 0, 1, 1, 1, 1, 0, 1, 1, 1, 1, 0, 0, 1, 1, 1, 0, 1, 1, 0, 1, 1, 1, 1, 1, 1, 1, 1, 1, 1, 1, 0, 1, 1, 1, 1, 1, 1, 1, 1, 0, 1, 1, 1, 1, 1, 0, 1, 0, 1, 1, 1, 0, 1, 1, 1, 1, 0, 1, 1, 1, 0, 1, 1, 0, 1, 1, 1, 1, 1, 1, 1, 1, 1, 1, 0, 1, 1, 1, 1, 1, 0, 1, 0, 1, 1, 1, 1, 1, 1, 1, 1, 0, 1, 1, 1, 0, 1, 0, 1, 1, 1, 1, 1, 1, 1, 1, 1, 1, 1, 1, 0, 1, 1, 1, 1, 1, 1, 1, 1, 1, 0, 0, 1, 0, 0, 1, 1, 1, 1, 1, 1, 1, 1, 1, 1, 1, 1, 1, 1, 1, 1, 1, 1, 1, 1, 0, 0, 1, 1, 1, 1, 1, 0, 1, 1, 1, 0, 1, 0, 1, 0, 0, 1, 0, 0, 1, 1, 0, 1, 1, 1, 1, 1, 1, 1]\n"
          ]
        }
      ]
    },
    {
      "cell_type": "code",
      "source": [
        "'''\n",
        "CELLA PER NON DOVER RUNNARE TUTTO, DA TOGLIERE POI\n",
        "'''\n",
        "\n",
        "metrics_dict_zero_shot_mistral = {'accuracy': 0.5933333333333334, 'fail_ratio': 0.0}\n",
        "metrics_dict_zero_shot_mistral['predictions'] = [1, 1, 1, 1, 1, 1, 1, 0, 0, 1, 1, 1, 1, 1, 0, 1, 1, 1, 1, 1, 1, 1, 1, 0, 0, 1, 1, 1, 1, 0, 1, 1, 1, 1, 1, 1, 1, 1, 1, 0, 1, 1, 1, 1, 1, 1, 1, 1, 1, 1, 1, 0, 1, 1, 1, 1, 0, 1, 1, 1, 1, 1, 0, 1, 1, 1, 1, 1, 1, 1, 1, 1, 1, 1, 1, 1, 1, 1, 1, 1, 0, 1, 1, 1, 0, 1, 1, 1, 1, 1, 1, 1, 1, 0, 1, 1, 0, 1, 1, 1, 1, 1, 1, 1, 0, 1, 0, 1, 1, 1, 1, 0, 1, 1, 1, 1, 1, 1, 1, 1, 1, 1, 1, 1, 1, 1, 1, 1, 1, 1, 1, 1, 1, 1, 1, 1, 1, 1, 1, 1, 0, 1, 1, 1, 1, 1, 1, 1, 1, 1, 1, 1, 1, 1, 1, 0, 1, 1, 1, 1, 1, 1, 1, 1, 1, 0, 1, 1, 1, 1, 0, 1, 1, 0, 1, 1, 0, 1, 1, 1, 1, 0, 1, 1, 1, 0, 1, 1, 0, 1, 1, 1, 1, 1, 1, 1, 1, 1, 1, 1, 1, 1, 1, 1, 1, 0, 1, 0, 1, 1, 1, 1, 0, 1, 1, 1, 0, 1, 1, 1, 1, 1, 0, 1, 1, 1, 1, 1, 1, 1, 1, 1, 1, 1, 1, 1, 1, 1, 1, 1, 1, 1, 0, 1, 1, 1, 1, 1, 1, 1, 1, 1, 1, 1, 1, 1, 1, 1, 1, 1, 1, 1, 1, 1, 1, 1, 1, 1, 1, 1, 1, 1, 1, 1, 1, 1, 0, 1, 1, 1, 1, 0, 1, 1, 1, 0, 1, 1, 0, 1, 1, 1, 1, 1, 1, 1, 1, 1, 1, 1]\n",
        "metrics_dict_zero_shot_llama = {'accuracy': 0.65, 'fail_ratio': 0.00}\n",
        "metrics_dict_zero_shot_llama['predictions'] = [0, 1, 0, 1, 1, 1, 1, 0, 0, 1, 1, 1, 1, 1, 0, 0, 0, 0, 1, 1, 1, 1, 1, 0, 0, 0, 0, 1, 0, 0, 1, 1, 1, 1, 1, 1, 1, 1, 1, 1, 0, 1, 1, 1, 1, 1, 1, 0, 1, 1, 1, 0, 1, 1, 1, 1, 0, 0, 1, 0, 1, 1, 1, 1, 1, 0, 1, 1, 1, 1, 1, 0, 0, 1, 1, 0, 1, 1, 1, 1, 1, 0, 1, 1, 0, 1, 1, 1, 1, 1, 1, 1, 1, 1, 1, 1, 0, 0, 1, 1, 0, 1, 1, 1, 0, 1, 0, 1, 1, 1, 1, 0, 1, 1, 0, 0, 1, 0, 1, 0, 1, 1, 1, 1, 1, 0, 1, 1, 1, 1, 1, 1, 1, 1, 1, 0, 0, 1, 1, 1, 1, 1, 1, 1, 0, 1, 1, 1, 1, 1, 1, 1, 1, 1, 1, 0, 1, 1, 1, 1, 1, 0, 0, 1, 0, 1, 1, 1, 1, 1, 0, 1, 0, 1, 1, 1, 0, 1, 1, 1, 1, 0, 1, 1, 1, 0, 0, 0, 0, 0, 1, 0, 1, 1, 1, 0, 0, 1, 1, 0, 1, 1, 0, 1, 1, 1, 1, 0, 1, 0, 0, 1, 0, 1, 1, 1, 0, 1, 1, 1, 0, 1, 0, 1, 1, 1, 1, 1, 1, 1, 1, 1, 1, 0, 1, 0, 1, 1, 1, 1, 1, 1, 1, 1, 1, 0, 1, 1, 1, 1, 1, 1, 0, 1, 1, 1, 1, 1, 1, 1, 1, 1, 1, 1, 0, 1, 1, 1, 1, 0, 1, 1, 1, 1, 0, 1, 1, 1, 0, 1, 1, 0, 0, 0, 0, 1, 0, 1, 0, 1, 1, 1, 1, 1, 1, 1, 0, 1, 0, 1]\n",
        "\n",
        "metrics_dict_few_shot_mistral = {'accuracy': 0.7333333333333333, 'fail_ratio': 0.0}\n",
        "metrics_dict_few_shot_mistral['predictions'] = [0, 1, 0, 1, 1, 0, 1, 0, 0, 1, 1, 1, 0, 1, 0, 0, 0, 0, 0, 1, 1, 1, 1, 0, 0, 1, 1, 0, 1, 0, 0, 1, 0, 0, 0, 1, 1, 0, 0, 0, 1, 1, 1, 0, 1, 1, 0, 0, 1, 1, 0, 0, 1, 0, 1, 1, 0, 0, 1, 0, 0, 1, 0, 1, 0, 0, 1, 0, 1, 1, 1, 1, 0, 1, 0, 1, 1, 1, 0, 1, 0, 0, 1, 0, 0, 0, 1, 1, 1, 0, 0, 1, 1, 0, 1, 1, 0, 0, 1, 1, 0, 0, 1, 1, 0, 1, 0, 1, 0, 1, 1, 0, 1, 1, 1, 0, 1, 1, 1, 0, 1, 0, 1, 1, 1, 0, 0, 1, 1, 1, 0, 1, 1, 0, 1, 0, 0, 1, 0, 1, 0, 1, 1, 1, 1, 1, 1, 0, 1, 0, 1, 1, 0, 1, 0, 0, 1, 1, 1, 1, 1, 0, 0, 1, 0, 0, 1, 0, 1, 1, 0, 1, 0, 0, 1, 0, 0, 1, 0, 0, 1, 0, 1, 1, 1, 0, 0, 1, 0, 0, 0, 0, 1, 0, 1, 0, 0, 1, 1, 0, 0, 1, 1, 0, 1, 0, 1, 0, 1, 0, 1, 1, 0, 1, 1, 1, 0, 1, 1, 1, 0, 1, 0, 0, 1, 1, 0, 1, 1, 0, 1, 1, 1, 0, 0, 0, 0, 1, 1, 1, 1, 1, 0, 1, 1, 0, 0, 0, 0, 0, 1, 1, 0, 1, 0, 0, 1, 1, 1, 0, 1, 1, 1, 0, 0, 1, 1, 1, 1, 0, 0, 0, 1, 1, 1, 1, 0, 1, 1, 1, 1, 0, 0, 0, 0, 0, 0, 1, 0, 1, 1, 0, 0, 1, 0, 1, 0, 0, 0, 1]\n",
        "metrics_dict_few_shot_llama = {'accuracy': 0.64, 'fail_ratio': 0.0}\n",
        "metrics_dict_few_shot_llama['predictions'] = [0, 1, 1, 1, 1, 1, 1, 0, 0, 1, 1, 1, 1, 1, 1, 0, 1, 1, 1, 1, 1, 1, 1, 0, 0, 1, 1, 1, 1, 1, 1, 1, 0, 1, 1, 1, 1, 1, 0, 0, 1, 1, 1, 1, 1, 1, 1, 1, 1, 1, 1, 0, 1, 1, 1, 1, 0, 0, 1, 0, 0, 1, 1, 1, 1, 0, 1, 1, 1, 1, 1, 1, 1, 1, 1, 1, 1, 1, 1, 1, 1, 0, 1, 1, 0, 1, 1, 1, 1, 1, 1, 1, 1, 0, 1, 1, 1, 1, 1, 1, 0, 0, 1, 1, 0, 1, 0, 1, 1, 1, 1, 0, 1, 1, 1, 0, 1, 1, 1, 0, 1, 1, 1, 1, 1, 0, 1, 1, 1, 1, 0, 1, 1, 1, 1, 0, 0, 1, 1, 1, 0, 1, 1, 0, 1, 1, 1, 1, 1, 1, 1, 1, 1, 1, 1, 0, 1, 1, 1, 1, 1, 1, 1, 1, 0, 1, 1, 1, 1, 1, 0, 1, 0, 1, 1, 1, 0, 1, 1, 1, 1, 0, 1, 1, 1, 0, 1, 1, 0, 1, 1, 1, 1, 1, 1, 1, 1, 1, 1, 0, 1, 1, 1, 1, 1, 0, 1, 0, 1, 1, 1, 1, 1, 1, 1, 1, 0, 1, 1, 1, 0, 1, 0, 1, 1, 1, 1, 1, 1, 1, 1, 1, 1, 1, 1, 0, 1, 1, 1, 1, 1, 1, 1, 1, 1, 0, 0, 1, 0, 0, 1, 1, 1, 1, 1, 1, 1, 1, 1, 1, 1, 1, 1, 1, 1, 1, 1, 1, 1, 1, 0, 0, 1, 1, 1, 1, 1, 0, 1, 1, 1, 0, 1, 0, 1, 0, 0, 1, 0, 0, 1, 1, 0, 1, 1, 1, 1, 1, 1, 1]"
      ],
      "metadata": {
        "id": "Y_tnfJBzwTUG"
      },
      "execution_count": null,
      "outputs": []
    },
    {
      "cell_type": "code",
      "source": [
        "def display_metrics_table(metrics_dict_zero_shot_1, metrics_dict_zero_shot_2,\n",
        "                          metrics_dict_few_shot_1, metrics_dict_few_shot_2, labels):\n",
        "    \"\"\"\n",
        "    Takes four dictionaries of metrics and displays them as a formatted table.\n",
        "    \"\"\"\n",
        "    # Extract data\n",
        "    data = {\n",
        "        'Model': [f'Zero-shot {labels[0]}', f'Zero-shot {labels[1]}', f'Few-shot {labels[0]}', f'Few-shot {labels[1]}'],\n",
        "        'Accuracy': [\n",
        "            metrics_dict_zero_shot_1.get('accuracy', 0),\n",
        "            metrics_dict_zero_shot_2.get('accuracy', 0),\n",
        "            metrics_dict_few_shot_1.get('accuracy', 0),\n",
        "            metrics_dict_few_shot_2.get('accuracy', 0),\n",
        "        ],\n",
        "        'Fail Ratio': [\n",
        "            metrics_dict_zero_shot_1.get('fail_ratio', 0),\n",
        "            metrics_dict_zero_shot_2.get('fail_ratio', 0),\n",
        "            metrics_dict_few_shot_1.get('fail_ratio', 0),\n",
        "            metrics_dict_few_shot_2.get('fail_ratio', 0),\n",
        "        ],\n",
        "    }\n",
        "\n",
        "    # Create a DataFrame\n",
        "    df = pd.DataFrame(data)\n",
        "\n",
        "    # Use tabulate to format the table nicely\n",
        "    print(tabulate(df, headers='keys', tablefmt='fancy_grid', showindex=False))\n",
        "\n",
        "display_metrics_table(metrics_dict_zero_shot_mistral, metrics_dict_zero_shot_llama,\n",
        "                                metrics_dict_few_shot_mistral, metrics_dict_few_shot_llama,\n",
        "                                labels=['MISTRAL', 'LLAMA'])"
      ],
      "metadata": {
        "colab": {
          "base_uri": "https://localhost:8080/"
        },
        "id": "k7JqtkhSoULR",
        "outputId": "c955c51d-f3d0-4476-bbe8-746562b248b4"
      },
      "execution_count": null,
      "outputs": [
        {
          "output_type": "stream",
          "name": "stdout",
          "text": [
            "╒═══════════════════╤════════════╤══════════════╕\n",
            "│ Model             │   Accuracy │   Fail Ratio │\n",
            "╞═══════════════════╪════════════╪══════════════╡\n",
            "│ Zero-shot MISTRAL │   0.593333 │            0 │\n",
            "├───────────────────┼────────────┼──────────────┤\n",
            "│ Zero-shot LLAMA   │   0.65     │            0 │\n",
            "├───────────────────┼────────────┼──────────────┤\n",
            "│ Few-shot MISTRAL  │   0.733333 │            0 │\n",
            "├───────────────────┼────────────┼──────────────┤\n",
            "│ Few-shot LLAMA    │   0.64     │            0 │\n",
            "╘═══════════════════╧════════════╧══════════════╛\n"
          ]
        }
      ]
    },
    {
      "cell_type": "code",
      "source": [
        "def plot_llm_performance_comparison(metrics_dict_zero_shot_1, metrics_dict_zero_shot_2,\n",
        "                                     metrics_dict_few_shot_1, metrics_dict_few_shot_2, labels=[\"LLM1\", \"LLM2\"]):\n",
        "    \"\"\"\n",
        "    Generate performance comparison bar plots for two LLMs in zero-shot and few-shot scenarios.\n",
        "    \"\"\"\n",
        "    scenarios = [\"Zero-shot\", \"Few-shot\"]\n",
        "\n",
        "    data = {\n",
        "        \"Model\": [labels[0], labels[1], labels[0], labels[1]],\n",
        "        \"Scenario\": [\"Zero-shot\", \"Zero-shot\", \"Few-shot\", \"Few-shot\"],\n",
        "        \"Accuracy\": [\n",
        "            metrics_dict_zero_shot_1[\"accuracy\"], metrics_dict_zero_shot_2[\"accuracy\"],\n",
        "            metrics_dict_few_shot_1[\"accuracy\"], metrics_dict_few_shot_2[\"accuracy\"]\n",
        "        ],\n",
        "        \"Fail Ratio\": [\n",
        "            metrics_dict_zero_shot_1[\"fail_ratio\"], metrics_dict_zero_shot_2[\"fail_ratio\"],\n",
        "            metrics_dict_few_shot_1[\"fail_ratio\"], metrics_dict_few_shot_2[\"fail_ratio\"]\n",
        "        ]\n",
        "    }\n",
        "\n",
        "    df = pd.DataFrame(data)\n",
        "\n",
        "    fig, axes = plt.subplots(1, 1, figsize=(10, 6))\n",
        "    sns.set(style=\"whitegrid\")\n",
        "\n",
        "    for i, metric in enumerate([\"Accuracy\"]):\n",
        "        sns.barplot(\n",
        "            data=df, x=\"Model\", y=metric, hue=\"Scenario\", ax=axes, palette='pastel'\n",
        "        )\n",
        "        axes.set_title(f\"{metric} Comparison\")\n",
        "        axes.set_ylabel(metric)\n",
        "        axes.set_xlabel(\"Model\")\n",
        "        axes.legend(title=\"Scenario\")\n",
        "\n",
        "    plt.tight_layout()\n",
        "    plt.show()\n",
        "\n",
        "plot_llm_performance_comparison(metrics_dict_zero_shot_mistral, metrics_dict_zero_shot_llama,\n",
        "                                metrics_dict_few_shot_mistral, metrics_dict_few_shot_llama,\n",
        "                                labels=['MISTRAL', 'LLAMA'])"
      ],
      "metadata": {
        "colab": {
          "base_uri": "https://localhost:8080/",
          "height": 601
        },
        "id": "NKoV4naDxqGi",
        "outputId": "25d3032c-16ec-40a1-9bcf-9c6f00bb23b0"
      },
      "execution_count": null,
      "outputs": [
        {
          "output_type": "display_data",
          "data": {
            "text/plain": [
              "<Figure size 1000x600 with 1 Axes>"
            ],
            "image/png": "[encoded data removed]"
          },
          "metadata": {}
        }
      ]
    },
    {
      "cell_type": "markdown",
      "source": [
        "The plots of the evaluated metrics show that:\n",
        " * Accuracy plot\n",
        "  * MISTRAL: The Mistral model shows an higher accuracy in the few-shot scenario compared to the zero-shot scenario, which aligns with expectations since few-shot inference benefits from additional demonstration examples. The improvement is substantial when using few-shot inference, from 59% to 73%.\n",
        "  * LLAMA: In the zero-shot configuration, the Llama model outperforms the Mistral model by a significant margin, indicating better generalization without prior examples. The interesting part is that using the few-shot scenario, the Llama performances slightly decrease. This may be due to the fact that increasing the context could confuse the model's \"reasoning\", making the task harder to solve. <br>\n",
        "  This can also be seen in the two examples below, taken from [first image](https://www.determined.ai/blog/llama_vs_mistral) and [second image](https://context.ai/compare/llama3-1-8b-instruct-v1/mistral-8x7b-instruct), both examples use a slightly different model from our case, but it is still an useful resource.\n",
        "\n",
        "  \n",
        " * Fail-ratio: Since in all the cases the fail ratio is 0%, we decided to not plot it.\n",
        " This is expected since the instruction to answer only \"yes\" or \"no\" is relatively easy to follow for a modern LLM but this does not means that the answer will be correct."
      ],
      "metadata": {
        "id": "TruGa66-Bhus"
      }
    },
    {
      "cell_type": "markdown",
      "source": [
        "![immagine.png](data:image/png;base64,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)\n",
        "\n"
      ],
      "metadata": {
        "id": "oEoppFDLkIeO"
      }
    },
    {
      "cell_type": "markdown",
      "source": [
        "![immagine (1).png](data:image/png;base64,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)"
      ],
      "metadata": {
        "id": "zYVsiKZ1kV4_"
      }
    },
    {
      "cell_type": "markdown",
      "source": [
        "### Confusion Matrix comparison"
      ],
      "metadata": {
        "id": "b2FnvC7wq2pM"
      }
    },
    {
      "cell_type": "code",
      "source": [
        "def plot_confusion_and_classification_report(y_pred, y_test):\n",
        "    \"\"\"\n",
        "    Given binary labels (y_test) and binary predictions (y_pred),\n",
        "    this function plots the confusion matrix as a heatmap and the classification report as a styled table.\n",
        "    \"\"\"\n",
        "    # Compute confusion matrix\n",
        "    conf_matrix = confusion_matrix(y_test, y_pred)\n",
        "\n",
        "    # Create a figure with two subplots\n",
        "    fig, (ax1, ax2) = plt.subplots(1, 2, figsize=(12, 6))\n",
        "\n",
        "    # Confusion Matrix Heatmap\n",
        "    sns.heatmap(conf_matrix, annot=True, fmt=\"d\", cmap=\"Blues\",\n",
        "                xticklabels=[\"Negative\", \"Positive\"],\n",
        "                yticklabels=[\"Negative\", \"Positive\"], ax=ax1)\n",
        "    ax1.set_title(\"Confusion Matrix\", fontsize=14)\n",
        "    ax1.set_xlabel(\"Predicted\", fontsize=12)\n",
        "    ax1.set_ylabel(\"Actual\", fontsize=12)\n",
        "\n",
        "    # Classification Report Table\n",
        "    report = classification_report(y_test, y_pred, output_dict=True)\n",
        "    report_df = pd.DataFrame(report).transpose()\n",
        "\n",
        "    # Round numeric values to 2 decimal places\n",
        "    report_df.iloc[:, :-1] = report_df.iloc[:, :-1].round(2)\n",
        "    report_df.loc[\"accuracy\", [\"precision\", \"recall\"]] = None\n",
        "    report_df.loc[\"accuracy\", \"support\"] = 300\n",
        "\n",
        "    # Create a styled table with nicer formatting\n",
        "    ax2.axis(\"off\")\n",
        "    table_data = report_df.reset_index()\n",
        "    table = ax2.table(cellText=table_data.values, colLabels=table_data.columns,\n",
        "                      cellLoc=\"center\", loc=\"center\", bbox=[0, 0, 1, 1])\n",
        "\n",
        "    # Style the table\n",
        "    table.auto_set_font_size(False)\n",
        "    table.set_fontsize(10)\n",
        "    table.auto_set_column_width(col=list(range(len(table_data.columns))))\n",
        "\n",
        "    # Apply styles to headers and rows\n",
        "    for (row, col), cell in table.get_celld().items():\n",
        "        cell.set_edgecolor(\"black\")\n",
        "        if row == 0:  # Header row\n",
        "            cell.set_text_props(weight=\"bold\")\n",
        "            cell.set_facecolor(\"#f4f4f4\")\n",
        "        elif col == 0:  # First column (index)\n",
        "            cell.set_text_props(weight=\"bold\")\n",
        "            cell.set_facecolor(\"#f4f4f4\")  # Light grey for readability\n",
        "        else:  # All other cells\n",
        "            value = table_data.values[row - 1, col] if row > 0 else table_data.columns[col]  # Adjust index for header\n",
        "            if pd.isna(value):\n",
        "                cell.get_text().set_text(\"\")\n",
        "            cell.set_facecolor(\"white\")\n",
        "            cell.set_alpha(0.9)\n",
        "\n",
        "    ax2.set_title(\"Classification Report\", fontsize=14)\n",
        "\n",
        "    plt.tight_layout()\n",
        "    plt.show()"
      ],
      "metadata": {
        "id": "aM4rDaFIprBY"
      },
      "execution_count": null,
      "outputs": []
    },
    {
      "cell_type": "markdown",
      "source": [
        "#### Minstral"
      ],
      "metadata": {
        "id": "kVpukfyuq9pH"
      }
    },
    {
      "cell_type": "code",
      "source": [
        "plot_confusion_and_classification_report(metrics_dict_zero_shot_mistral['predictions'], test_data['label_sexist'])"
      ],
      "metadata": {
        "colab": {
          "base_uri": "https://localhost:8080/",
          "height": 600
        },
        "id": "RjuY4kuUqxcc",
        "outputId": "53bd3e68-0455-444e-c5e0-636cfc6bd4fb"
      },
      "execution_count": null,
      "outputs": [
        {
          "output_type": "display_data",
          "data": {
            "text/plain": [
              "<Figure size 1200x600 with 3 Axes>"
            ],
            "image/png": "[encoded data removed]"
          },
          "metadata": {}
        }
      ]
    },
    {
      "cell_type": "code",
      "source": [
        "plot_confusion_and_classification_report(metrics_dict_few_shot_mistral['predictions'], test_data['label_sexist'])"
      ],
      "metadata": {
        "colab": {
          "base_uri": "https://localhost:8080/",
          "height": 600
        },
        "id": "D9LIPInrpuhE",
        "outputId": "c6b0c704-1348-49d9-88ff-943ea463c972"
      },
      "execution_count": null,
      "outputs": [
        {
          "output_type": "display_data",
          "data": {
            "text/plain": [
              "<Figure size 1200x600 with 3 Axes>"
            ],
            "image/png": "[encoded data removed]"
          },
          "metadata": {}
        }
      ]
    },
    {
      "cell_type": "markdown",
      "source": [
        "The zero-shot model demonstrates a strong bias towards the positive class, resulting in high recall for positive tweets (0.97) but at the expense of significant false positives (118). This leads to poor performance in identifying negative tweets, with a recall of just 0.21. While its precision for negative tweets is high (0.89), the overall accuracy is only 0.59, reflecting an imbalanced performance.\n",
        "\n",
        "In contrast, the few-shot model shows a more balanced approach. By using task-specific examples in the prompt, it reduces false positives (from 118 to 57) and improves recall for the negative class (from 0.21 to 0.62). This results in better precision and recall across both classes, achieving an overall accuracy of 0.74 and a macro-average F1-score of 0.73, compared to 0.59 for the zero-shot model. The trade-off is a slight decrease in recall for the positive class (from 0.97 to 0.85) as the model now prioritizes balanced performance.\n",
        "\n",
        "The improvement in the few-shot setup can be attributed to the task-specific examples provided, which help the model better understand the distinctions between the two classes. While the zero-shot model might suffice when detecting the positive class is critical, the few-shot model is a more reliable choice for real-world applications requiring overall accuracy and balanced performance."
      ],
      "metadata": {
        "id": "wpglJSWnckXX"
      }
    },
    {
      "cell_type": "markdown",
      "source": [
        "#### LLama"
      ],
      "metadata": {
        "id": "LgQVfpeprB_t"
      }
    },
    {
      "cell_type": "code",
      "source": [
        "plot_confusion_and_classification_report(metrics_dict_zero_shot_llama['predictions'], test_data['label_sexist'])"
      ],
      "metadata": {
        "colab": {
          "base_uri": "https://localhost:8080/",
          "height": 600
        },
        "id": "4-UQ2XuArDwl",
        "outputId": "53c4eeee-d24b-41a4-8f2f-eebc6108581c"
      },
      "execution_count": null,
      "outputs": [
        {
          "output_type": "display_data",
          "data": {
            "text/plain": [
              "<Figure size 1200x600 with 3 Axes>"
            ],
            "image/png": "[encoded data removed]"
          },
          "metadata": {}
        }
      ]
    },
    {
      "cell_type": "code",
      "source": [
        "plot_confusion_and_classification_report(metrics_dict_few_shot_llama['predictions'], test_data['label_sexist'])"
      ],
      "metadata": {
        "colab": {
          "base_uri": "https://localhost:8080/",
          "height": 600
        },
        "id": "JKd2C9fsrFqr",
        "outputId": "5c18c8eb-b3f4-473e-e916-9bb6000ff1e6"
      },
      "execution_count": null,
      "outputs": [
        {
          "output_type": "display_data",
          "data": {
            "text/plain": [
              "<Figure size 1200x600 with 3 Axes>"
            ],
            "image/png": "[encoded data removed]"
          },
          "metadata": {}
        }
      ]
    },
    {
      "cell_type": "markdown",
      "source": [
        "The zero-shot model has a similar overall accuracy (0.65) compared to the few-shot model (0.64). The zero-shot model performs better at recalling positive tweets (0.88) but struggles with identifying negative ones (recall: 0.42). In contrast, the few-shot model improves the precision for negative tweets (0.85) and performs better in the recall of positive tweets at the expenses of a lower recall of negative tweets. <br>\n",
        "So, the few-shot scenario make the model predict more positive labels than the zero-shot configuration."
      ],
      "metadata": {
        "id": "3BP4peuAdEcC"
      }
    },
    {
      "cell_type": "markdown",
      "source": [
        "#### Model Comparison\n",
        "\n",
        "In comparing the two LLMs, LLama performs better in zero-shot prompting by achieving higher accuracy and a more balanced macro F1-score, as it handles both classes more effectively. In contrast, Mistral struggles in this setting, showing a strong bias toward predicting the positive class, which results in poor recall for the negative class.<br>\n",
        "However, in the few-shot prompting scenario, Mistral outperforms LLama by achieving higher accuracy and improved recall for the negative class, demonstrating its ability to better adapt when examples are provided.<br>\n",
        "Meanwhile, LLama continues to prioritize the positive class, maintaining the same performance but with slightly lower overall balance.<br>\n",
        "Overall, LLama excels in generalization during zero-shot prompting, while Mistral demonstrates greater improvement with the additional context provided by few-shot prompting."
      ],
      "metadata": {
        "id": "C5WwmFukejYl"
      }
    },
    {
      "cell_type": "markdown",
      "source": [
        "![immagine (2).png](data:image/png;base64,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)"
      ],
      "metadata": {
        "id": "gp9wKZ_dr46Q"
      }
    },
    {
      "cell_type": "markdown",
      "source": [
        "### Text generation analysis\n",
        "\n",
        "Let's modify the process_response function to visualize what happens when the model fails to generate a response that is exaclty only \"YES\" or \"NO\"\n"
      ],
      "metadata": {
        "id": "pFuAXFv10XGS"
      }
    },
    {
      "cell_type": "code",
      "source": [
        "def process_response(response):\n",
        "  \"\"\"\n",
        "    This function takes a textual response generated by the LLM\n",
        "    and processes it to map the response to a binary label.\n",
        "\n",
        "    Inputs:\n",
        "      response: generated response from LLM\n",
        "\n",
        "    Outputs:\n",
        "      parsed binary response: return 1 if YES and 0 if NO\n",
        "  \"\"\"\n",
        "\n",
        "  response = response[0]['generated_text'][-1]['content']\n",
        "  normalized_response = response.strip().upper()\n",
        "\n",
        "  fail_count = 0\n",
        "\n",
        "  # Map the response to binary labels\n",
        "  if normalized_response == \"YES\":\n",
        "      return 1, fail_count\n",
        "  else:\n",
        "      if normalized_response != \"NO\":\n",
        "          print(normalized_response)\n",
        "          fail_count = 1\n",
        "      return 0, fail_count"
      ],
      "metadata": {
        "id": "f6jVBvZf0aMf"
      },
      "execution_count": null,
      "outputs": []
    },
    {
      "cell_type": "code",
      "source": [
        "metrics_dict_zero_shot_mistral = compute_metrics(responses_zero_shot_mistral, test_data['label_sexist'])\n",
        "print(f\"Accuracy: {metrics_dict_zero_shot_mistral['accuracy']}, Fail ratio: {metrics_dict_zero_shot_mistral['fail_ratio']}\")"
      ],
      "metadata": {
        "colab": {
          "base_uri": "https://localhost:8080/"
        },
        "id": "RHnXmsZ50mTO",
        "outputId": "b2f27fed-e819-48fe-9a51-6aee3b252f46"
      },
      "execution_count": null,
      "outputs": [
        {
          "output_type": "stream",
          "name": "stdout",
          "text": [
            "NO (THE TEXT DOES NOT CONTAIN SEXISM.\n",
            "NO (THE TEXT DOES NOT CONTAIN SEXISM.\n",
            "NO (THE TEXT DOES NOT CONTAIN SEXISM.\n",
            "NO (THE TEXT DOES NOT CONTAIN SEXISM.\n",
            "Accuracy: 0.5933333333333334, Fail ratio: 0.013333333333333334\n"
          ]
        }
      ]
    },
    {
      "cell_type": "code",
      "source": [
        "metrics_dict_few_shot_mistral = compute_metrics(responses_few_shot_mistral, test_data['label_sexist'])\n",
        "print(f\"Accuracy: {metrics_dict_few_shot_mistral['accuracy']}, Fail ratio: {metrics_dict_few_shot_mistral['fail_ratio']}\")"
      ],
      "metadata": {
        "colab": {
          "base_uri": "https://localhost:8080/"
        },
        "id": "c5PerJde1pm3",
        "outputId": "954c6b93-5812-48dd-d325-aa07076aedb3"
      },
      "execution_count": null,
      "outputs": [
        {
          "output_type": "stream",
          "name": "stdout",
          "text": [
            "NO (THE TEXT IS NOT DIRECTLY SEXIST,\n",
            "YES (THIS TEXT CONTAINS NOT ONLY SEXISM\n",
            "NO (THE TEXT DOES NOT CONTAIN SEXISM,\n",
            "NO (THE TEXT DOES NOT CONTAIN SEXISM,\n",
            "NO (THIS TEXT DOES NOT CONTAIN ANY EXPLICIT SEX\n",
            "NO (THERE IS NO SEXIST LANGUAGE IN THE\n",
            "YES (THE USE OF THE TERM \"M\n",
            "NO (THE TEXT DOES NOT CONTAIN SEXISM,\n",
            "NO (THE TEXT DOES NOT CONTAIN SEXISM,\n",
            "NO (THE TEXT DOES NOT CONTAIN SEXISM.\n",
            "NO (THE TEXT DOES NOT CONTAIN SEXISM AS\n",
            "NO (THE TEXT DOES NOT CONTAIN SEXISM)\n",
            "NO (THE TEXT DOES NOT CONTAIN SEXISM)\n",
            "NO (ANGELA MERKEL IS A POLITICAL FIGURE\n",
            "NO (THE TEXT PROVIDED IS A TITLE OF A\n",
            "NO (THE TEXT DOES NOT CONTAIN ANY EXPLICIT OR\n",
            "NO (THE TEXT DOES NOT EXPLICITLY TARGET A SPECIFIC\n",
            "YES (THIS STATEMENT, WHILE NOT DIRECTLY TARGET\n",
            "NO (THE TEXT DOES NOT EXPLICITLY CONTAIN SEXIST\n",
            "NO (THE TEXT DOES NOT CONTAIN A CLEAR INSTANCE\n",
            "NO (THE TEXT DOES NOT CONTAIN SEXISM.\n",
            "NO (THE TEXT DOES NOT DIRECTLY CONTAIN SEXIST\n",
            "NO (THE TEXT DOES NOT EXPLICITLY SHOW SEXISM\n",
            "NO (THE TEXT DOES NOT EXPLICITLY EXPRESS SEXISM\n",
            "NO (THE TEXT DOES NOT CONTAIN SEXISM.\n",
            "Accuracy: 0.74, Fail ratio: 0.08333333333333333\n"
          ]
        }
      ]
    },
    {
      "cell_type": "markdown",
      "source": [
        "\n",
        "We can observe several issues:\n",
        "\n",
        "First, the model provides responses that are coherent and follow instructions, but it often includes an unnecessary explanation of why it judged the response a certain way.\n",
        "\n",
        "The few-shot model has a higher failure rate (when cheking for exactly \"YES\" or \"NO\"), specifically, it tends to add explanations more frequently. This could be because providing examples creates a longer prompt, which may lead to reduced attention to the initial instructions (e.g., to respond with \"yes\" or \"no\" only)."
      ],
      "metadata": {
        "id": "01A_l2pD2fDq"
      }
    },
    {
      "cell_type": "markdown",
      "source": [
        "## A1 Dataset comparison\n",
        "We want to apply the same data cleaning and preparation to the A1 dataset that was applied to the A2 dataset, from the paper (https://arxiv.org/pdf/2303.04222) where the A2 dataset came from we can read:\n",
        "1. Replacing URLs and usernames with generic tokens;\n",
        "2. Dropping empty entries;\n",
        "3. Dropping entries that only contain URLs or emoji;\n",
        "4. Dropping non-English language entries; and\n",
        "5. Dropping duplicates.\n",
        "\n",
        "In the A1 dataset we don't have duplicate and neither empty or only url and mention entries, also the tweet are already divided into english and spanish so we just need to change the urls and users with generic tokens and drop the spanish ones.\n",
        "\n",
        "We will use *test.csv* to test the performance of the LLM on the classification task and *validation.csv* to generate few shot examples."
      ],
      "metadata": {
        "id": "5CCeadOq6hdl"
      }
    },
    {
      "cell_type": "code",
      "source": [
        "base_url = \"https://raw.githubusercontent.com/nlp-unibo/nlp-course-material/refs/heads/main/2024-2025/Assignment%201/data/\"\n",
        "json_files = [\"test.json\", \"validation.json\"]\n",
        "local_dir = Path(\"Assignment%201/data\")\n",
        "local_dir.mkdir(parents=True, exist_ok=True)\n",
        "\n",
        "# Download each file\n",
        "for file_name in json_files:\n",
        "    url = base_url + file_name\n",
        "    response = requests.get(url)\n",
        "    if response.status_code == 200:\n",
        "        with open(local_dir / file_name, \"wb\") as file:\n",
        "            file.write(response.content)\n",
        "        print(f\"Downloaded {file_name}\")\n",
        "    else:\n",
        "        print(f\"Failed to download {file_name}\")\n",
        "\n",
        "# Load JSON files into pandas DataFrames\n",
        "dataframes = {}\n",
        "for file_name in json_files:\n",
        "    with open(local_dir / file_name, \"r\") as file:\n",
        "        data = json.load(file)\n",
        "        dataframes[file_name] = pd.DataFrame(data)\n",
        "\n",
        "\n",
        "def determine_majority(response_list):\n",
        "    yes_count = response_list.count(\"YES\")\n",
        "    no_count = response_list.count(\"NO\")\n",
        "\n",
        "    if yes_count > no_count:\n",
        "        return 1\n",
        "    elif no_count > yes_count:\n",
        "        return 0\n",
        "    else:\n",
        "        return 2\n",
        "\n",
        "\n",
        "def transform_df(df):\n",
        "    # Swap row and col\n",
        "    df = df.T\n",
        "    # Apply majority voting to task 1\n",
        "    df['hard_label_task1'] = df['labels_task1'].apply(determine_majority)\n",
        "    # Keep only row that has en as lang and does not have a draw in voting\n",
        "    df = df[df['lang'] == 'en']\n",
        "    df = df[df['hard_label_task1'] != 2]\n",
        "    # Drop unecessary columns\n",
        "    df = df[['id_EXIST', 'lang', 'tweet', 'hard_label_task1']]\n",
        "    df = df.rename(columns={\"tweet\":\"text\", \"hard_label_task1\": \"label_sexist\"})\n",
        "\n",
        "    return df\n",
        "\n",
        "\n",
        "def clean_tweet(tweet):\n",
        "    \"\"\"\n",
        "    Cleans a tweet by SUBSITUTING URLs and users with generic tokens [URL] and [USER]\n",
        "    \"\"\"\n",
        "    # Remove mentions\n",
        "    tweet = re.sub(r'@\\w+', '[USER]', tweet)\n",
        "    # Remove URLs\n",
        "    tweet = re.sub(r'http\\S+|www\\S+', '[URL]', tweet)\n",
        "\n",
        "    return tweet\n",
        "\n",
        "\n",
        "# Load the original datasets from the specified JSON files into separate DataFrames\n",
        "demonstrations = transform_df(dataframes['validation.json'])\n",
        "test_data = transform_df(dataframes['test.json'])\n",
        "\n",
        "# Substitute URLs and mentions with placeholders\n",
        "test_data['text'] = test_data['text'].apply(clean_tweet)\n",
        "demonstrations['text'] = demonstrations['text'].apply(clean_tweet)"
      ],
      "metadata": {
        "colab": {
          "base_uri": "https://localhost:8080/"
        },
        "id": "bxPWeb8S6kju",
        "outputId": "4bcf8fa1-d890-4516-b51e-6067f7be6f0b"
      },
      "execution_count": null,
      "outputs": [
        {
          "output_type": "stream",
          "name": "stdout",
          "text": [
            "Downloaded test.json\n",
            "Downloaded validation.json\n"
          ]
        }
      ]
    },
    {
      "cell_type": "markdown",
      "source": [
        "Get rid of emoji, change urls with [URL] and [USER]"
      ],
      "metadata": {
        "id": "LVbP_UfNdDiE"
      }
    },
    {
      "cell_type": "code",
      "source": [
        "# Mistral\n",
        "prepared_prompts_tokenized_zero_shot_mistral, prepared_prompts_zero_shot_mistral = prepare_prompts(test_data['text'], prompt, tokenizer_mistral)\n",
        "# LLama\n",
        "prepared_prompts_tokenized_zero_shot_llama, prepared_prompts_zero_shot2 = prepare_prompts(test_data['text'], prompt, tokenizer_llama)"
      ],
      "metadata": {
        "colab": {
          "base_uri": "https://localhost:8080/"
        },
        "id": "AUEfCy1j88fC",
        "outputId": "3892b9e4-05c9-4074-8e3b-48d9725660c3"
      },
      "execution_count": null,
      "outputs": [
        {
          "output_type": "stream",
          "name": "stdout",
          "text": [
            "Prompt[0]: [{'role': 'system', 'content': 'You are an annotator for sexism detection.'}, {'role': 'user', 'content': 'Your task is to classify input text as containing sexism or not. Respond only YES or NO.\\n\\n        TEXT:\\n        1st day at the pool on a beautiful Sunday in NY! Too bad few dared to go in due to the frigid water temp (we lasted 45 min and figured we proved our point) 😆 [URL]\\n\\n        ANSWER:\\n        '}]\n",
            "Prompt[0]: [{'role': 'system', 'content': 'You are an annotator for sexism detection.'}, {'role': 'user', 'content': 'Your task is to classify input text as containing sexism or not. Respond only YES or NO.\\n\\n        TEXT:\\n        1st day at the pool on a beautiful Sunday in NY! Too bad few dared to go in due to the frigid water temp (we lasted 45 min and figured we proved our point) 😆 [URL]\\n\\n        ANSWER:\\n        '}]\n"
          ]
        }
      ]
    },
    {
      "cell_type": "code",
      "source": [
        "# Mistral\n",
        "responses_zero_shot_mistral = generate_responses(model_mistral, prepared_prompts_zero_shot_mistral, tokenizer_mistral)\n",
        "# LLama\n",
        "responses_zero_shot_llama = generate_responses(model_llama, prepared_prompts_zero_shot2, tokenizer_llama)"
      ],
      "metadata": {
        "id": "i7VFJAWE9VB7",
        "colab": {
          "base_uri": "https://localhost:8080/"
        },
        "outputId": "f2b0373a-9870-4c69-e1ea-fa25ba52c741"
      },
      "execution_count": null,
      "outputs": [
        {
          "output_type": "stream",
          "name": "stderr",
          "text": [
            "Device set to use cuda:0\n",
            "Device set to use cuda:0\n"
          ]
        }
      ]
    },
    {
      "cell_type": "code",
      "source": [
        "# Mistral\n",
        "metrics_dict_zero_shot_mistral = compute_metrics(responses_zero_shot_mistral, test_data['label_sexist'])\n",
        "print(f\"MISTRAL -> Accuracy: {metrics_dict_zero_shot_mistral['accuracy']}, Fail ratio: {metrics_dict_zero_shot_mistral['fail_ratio']}\")\n",
        "# LLama\n",
        "metrics_dict_zero_shot_llama = compute_metrics(responses_zero_shot_llama, test_data['label_sexist'])\n",
        "print(f\"LLAMA -> Accuracy: {metrics_dict_zero_shot_llama['accuracy']}, Fail ratio: {metrics_dict_zero_shot_llama['fail_ratio']}\")"
      ],
      "metadata": {
        "id": "tAJoJeux9cSk",
        "colab": {
          "base_uri": "https://localhost:8080/"
        },
        "outputId": "79aab3c0-ff9d-4f93-ce3a-0608dac1f1c1"
      },
      "execution_count": null,
      "outputs": [
        {
          "output_type": "stream",
          "name": "stdout",
          "text": [
            "MISTRAL -> Accuracy: 0.7657342657342657, Fail ratio: 0.0\n",
            "LLAMA -> Accuracy: 0.7622377622377622, Fail ratio: 0.0\n"
          ]
        }
      ]
    },
    {
      "cell_type": "code",
      "source": [
        "num_per_class = 2\n",
        "few_shot_examples = build_few_shot_demonstrations(demonstrations, num_per_class)"
      ],
      "metadata": {
        "id": "rATloQDiNCbB"
      },
      "execution_count": null,
      "outputs": []
    },
    {
      "cell_type": "code",
      "source": [
        "print(few_shot_examples[0])"
      ],
      "metadata": {
        "colab": {
          "base_uri": "https://localhost:8080/"
        },
        "id": "CuPzT8Wfe6YT",
        "outputId": "0764d0db-41fc-452f-f358-d91161b4279e"
      },
      "execution_count": null,
      "outputs": [
        {
          "output_type": "stream",
          "name": "stdout",
          "text": [
            "\n",
            "TEXT: Matt would pick every popular meme song, especially CPR just to make his brother embarrassed I haven’t thought of anyone else but most of my wols would participate in karaoke it’s sooooo cute [URL]\n",
            "ANSWER: NO\n",
            "TEXT: [USER] Boss, pls pay him no attention ejoo!\n",
            "ANSWER: NO\n",
            "TEXT: It is is impossible for a man to become a woman or a for a woman to become a man.  For this reason, it is irresponsible and downright wrong (actually evil), to teach children that some cosmetic changes to their appearance can change their biological sex. [URL]\n",
            "ANSWER: YES\n",
            "TEXT: [USER] [USER] What is 'difference feminism'?? Never heard of this before.\n",
            "ANSWER: YES\n"
          ]
        }
      ]
    },
    {
      "cell_type": "code",
      "source": [
        "# Mistral\n",
        "tokenized_prompts_few_shot_mistral, prompts_few_shot_mistral = prepare_prompts_few_shot(test_data['text'], prompt_few_shot, tokenizer_mistral, few_shot_examples, num_per_class)\n",
        "responses_few_shot_mistral = generate_responses(model_mistral, prompts_few_shot_mistral, tokenizer_mistral)\n",
        "metrics_dict_few_shot_mistral = compute_metrics(responses_few_shot_mistral, test_data['label_sexist'])\n",
        "print(f\"Accuracy: {metrics_dict_few_shot_mistral['accuracy']}, Fail ratio: {metrics_dict_few_shot_mistral['fail_ratio']}\")"
      ],
      "metadata": {
        "id": "FxMBXVsp9pCj",
        "colab": {
          "base_uri": "https://localhost:8080/"
        },
        "outputId": "a3588b25-f541-4bff-a715-5d0a75b31811"
      },
      "execution_count": null,
      "outputs": [
        {
          "output_type": "stream",
          "name": "stdout",
          "text": [
            "Prompt[0]: [{'role': 'system', 'content': 'You are an annotator for sexism detection.'}, {'role': 'user', 'content': \"Your task is to classify input text as containing sexism or not. Respond only YES or NO.\\n\\n        EXAMPLES:\\n        \\nTEXT: Matt would pick every popular meme song, especially CPR just to make his brother embarrassed I haven’t thought of anyone else but most of my wols would participate in karaoke it’s sooooo cute [URL]\\nANSWER: NO\\nTEXT: [USER] Boss, pls pay him no attention ejoo!\\nANSWER: NO\\nTEXT: It is is impossible for a man to become a woman or a for a woman to become a man.  For this reason, it is irresponsible and downright wrong (actually evil), to teach children that some cosmetic changes to their appearance can change their biological sex. [URL]\\nANSWER: YES\\nTEXT: [USER] [USER] What is 'difference feminism'?? Never heard of this before.\\nANSWER: YES\\n\\n        TEXT:\\n        1st day at the pool on a beautiful Sunday in NY! Too bad few dared to go in due to the frigid water temp (we lasted 45 min and figured we proved our point) 😆 [URL]\\n\\n        ANSWER:\\n        \"}]\n"
          ]
        },
        {
          "output_type": "stream",
          "name": "stderr",
          "text": [
            "Device set to use cuda:0\n"
          ]
        },
        {
          "output_type": "stream",
          "name": "stdout",
          "text": [
            "NO (THE TEXT DOES NOT CONTAIN EXPLICIT SEXISM\n",
            "NO (THE TEXT DOES NOT CONTAIN SEXISM,\n",
            "NO (THE TEXT DOES NOT CONTAIN SEXISM.\n",
            "NO (THE TEXT DOES NOT CONTAIN SEXISM.\n",
            "NO (THE TEXT DOES NOT CONTAIN SEXISM.\n",
            "NO (THE TEXT DOES NOT CONTAIN SEXISM.\n",
            "NO (THE TEXT DOES NOT CONTAIN SEXISM AS\n",
            "NO (THE TEXT DOES NOT CONTAIN SEXISM,\n",
            "NO (THE TEXT DOES NOT CONTAIN SEXISM,\n",
            "NO (THE TEXT DOES NOT CONTAIN SEXISM,\n",
            "Accuracy: 0.8111888111888111, Fail ratio: 0.03496503496503497\n"
          ]
        }
      ]
    },
    {
      "cell_type": "code",
      "source": [
        "# LLama\n",
        "tokenized_prompts_few_shot2, prompts_few_shot2 = prepare_prompts_few_shot(test_data['text'], prompt_few_shot, tokenizer_llama, few_shot_examples, num_per_class)\n",
        "responses_few_shot_llama = generate_responses(model_llama, prompts_few_shot2, tokenizer_llama)\n",
        "metrics_dict_few_shot_llama = compute_metrics(responses_few_shot_llama, test_data['label_sexist'])\n",
        "print(f\"Accuracy: {metrics_dict_few_shot_llama['accuracy']}, Fail ratio: {metrics_dict_few_shot_llama['fail_ratio']}\")"
      ],
      "metadata": {
        "id": "eidG3gGj91C_",
        "colab": {
          "base_uri": "https://localhost:8080/"
        },
        "outputId": "5ee1391d-d4e7-45b6-b9c5-cf772ff93a84"
      },
      "execution_count": null,
      "outputs": [
        {
          "output_type": "stream",
          "name": "stdout",
          "text": [
            "Prompt[0]: [{'role': 'system', 'content': 'You are an annotator for sexism detection.'}, {'role': 'user', 'content': \"Your task is to classify input text as containing sexism or not. Respond only YES or NO.\\n\\n        EXAMPLES:\\n        \\nTEXT: Matt would pick every popular meme song, especially CPR just to make his brother embarrassed I haven’t thought of anyone else but most of my wols would participate in karaoke it’s sooooo cute [URL]\\nANSWER: NO\\nTEXT: [USER] Boss, pls pay him no attention ejoo!\\nANSWER: NO\\nTEXT: It is is impossible for a man to become a woman or a for a woman to become a man.  For this reason, it is irresponsible and downright wrong (actually evil), to teach children that some cosmetic changes to their appearance can change their biological sex. [URL]\\nANSWER: YES\\nTEXT: [USER] [USER] What is 'difference feminism'?? Never heard of this before.\\nANSWER: YES\\n\\n        TEXT:\\n        1st day at the pool on a beautiful Sunday in NY! Too bad few dared to go in due to the frigid water temp (we lasted 45 min and figured we proved our point) 😆 [URL]\\n\\n        ANSWER:\\n        \"}]\n"
          ]
        },
        {
          "output_type": "stream",
          "name": "stderr",
          "text": [
            "Device set to use cuda:0\n"
          ]
        },
        {
          "output_type": "stream",
          "name": "stdout",
          "text": [
            "Accuracy: 0.7272727272727273, Fail ratio: 0.0\n"
          ]
        }
      ]
    },
    {
      "cell_type": "markdown",
      "source": [
        "Given the used models and the ones used in A1, we can see that the zero-shot configuration of Mistral and Llama perform similarly to the baseline and model 1 (only 0.01/0.02 accuracy improvement).<br>\n",
        "Accordingly to what we have seen during A2 we can see that Llama performs worse in the few-shot scenario, while the Mistral model increases its performances to 0.81.\n",
        "\n",
        "Overall, the transformer model outperforms all the other models (all configurations) showing that a model trained on the specific task of sexist tweets classification reaches better results with respect to bigger language models (Mistral and Llama).\n",
        "\n",
        "It is possible that fine-tuning an LLM on this specific task, may achieve even better results with respect to the transformer."
      ],
      "metadata": {
        "id": "ce18BQn2upbA"
      }
    },
    {
      "cell_type": "markdown",
      "metadata": {
        "id": "8QWlVXJgLJne"
      },
      "source": [
        "# [Task 7 - 1.0 points] Report\n",
        "\n",
        "Wrap up your experiment in a short report (up to 2 pages)."
      ]
    },
    {
      "cell_type": "markdown",
      "metadata": {
        "id": "_fsdV99TLJne"
      },
      "source": [
        "### Instructions\n",
        "\n",
        "* Use the NLP course report template.\n",
        "* Summarize each task in the report following the provided template."
      ]
    },
    {
      "cell_type": "markdown",
      "metadata": {
        "id": "z-hUXYaLLJne"
      },
      "source": [
        "### Recommendations\n",
        "\n",
        "The report is not a copy-paste of graphs, tables, and command outputs.\n",
        "\n",
        "* Summarize classification performance in Table format.\n",
        "* **Do not** report command outputs or screenshots.\n",
        "* Report learning curves in Figure format.\n",
        "* The error analysis section should summarize your findings."
      ]
    },
    {
      "cell_type": "markdown",
      "metadata": {
        "id": "fURV8zfPLJne"
      },
      "source": [
        "# Submission\n",
        "\n",
        "* **Submit** your report in PDF format.\n",
        "* **Submit** your python notebook.\n",
        "* Make sure your notebook is **well organized**, with no temporary code, commented sections, tests, etc..."
      ]
    },
    {
      "cell_type": "markdown",
      "metadata": {
        "id": "zn1tUeYzLJne"
      },
      "source": [
        "# FAQ\n",
        "\n",
        "Please check this frequently asked questions before contacting us."
      ]
    },
    {
      "cell_type": "markdown",
      "metadata": {
        "id": "FYAOVGvKhtTQ"
      },
      "source": [
        "### Model cards\n",
        "\n",
        "You can pick any open-source model card you like.\n",
        "\n",
        "We recommend starting from those reported in this assignment."
      ]
    },
    {
      "cell_type": "markdown",
      "metadata": {
        "id": "PWG72N-LLJne"
      },
      "source": [
        "### Implementation\n",
        "\n",
        "Everything can be done via ``transformers`` APIs.\n",
        "\n",
        "However, you are free to test frameworks, such as [LangChain](https://www.langchain.com/), [LlamaIndex](https://www.llamaindex.ai/) [LitParrot](https://github.com/awesome-software/lit-parrot), provided that you correctly address task instructions."
      ]
    },
    {
      "cell_type": "markdown",
      "metadata": {
        "id": "9cplnq3dLJne"
      },
      "source": [
        "### Bonus Points\n",
        "\n",
        "0.5 bonus points are arbitrarily assigned based on significant contributions such as:\n",
        "\n",
        "- Outstanding error analysis\n",
        "- Masterclass code organization\n",
        "- Suitable extensions\n",
        "- Evaluate A1 dataset and perform comparison\n",
        "\n",
        "Note that bonus points are only assigned if all task points are attributed (i.e., 6/6)."
      ]
    },
    {
      "cell_type": "markdown",
      "metadata": {
        "id": "coy_pJ40LJne"
      },
      "source": [
        "### Prompt Template\n",
        "\n",
        "Do not change the provided prompt template.\n",
        "\n",
        "You are only allowed to change it in case of a possible extension."
      ]
    },
    {
      "cell_type": "markdown",
      "metadata": {
        "id": "aSiH0Xqj79wc"
      },
      "source": [
        "### Optimizations\n",
        "\n",
        "Any kind of code optimization (e.g., speedup model inference or reduce computational cost) is more than welcome!"
      ]
    },
    {
      "cell_type": "markdown",
      "metadata": {
        "id": "Jpr-LSK7LJnh"
      },
      "source": [
        "# The End"
      ]
    }
  ],
  "metadata": {
    "celltoolbar": "Slideshow",
    "colab": {
      "provenance": [],
      "gpuType": "T4",
      "toc_visible": true
    },
    "kernelspec": {
      "display_name": "Python 3",
      "name": "python3"
    },
    "language_info": {
      "codemirror_mode": {
        "name": "ipython",
        "version": 3
      },
      "file_extension": ".py",
      "mimetype": "text/x-python",
      "name": "python",
      "nbconvert_exporter": "python",
      "pygments_lexer": "ipython3",
      "version": "3.10.12"
    },
    "accelerator": "GPU",
    "widgets": {
      "application/vnd.jupyter.widget-state+json": {
        "4d13f4c970134f459b0f1f3a630e881b": {
          "model_module": "@jupyter-widgets/controls",
          "model_name": "HBoxModel",
          "model_module_version": "1.5.0",
          "state": {
            "_dom_classes": [],
            "_model_module": "@jupyter-widgets/controls",
            "_model_module_version": "1.5.0",
            "_model_name": "HBoxModel",
            "_view_count": null,
            "_view_module": "@jupyter-widgets/controls",
            "_view_module_version": "1.5.0",
            "_view_name": "HBoxView",
            "box_style": "",
            "children": [
              "IPY_MODEL_16662fc71e544677b11db472aed1335d",
              "IPY_MODEL_98c1f837cd1f46c598ed450540881b4a",
              "IPY_MODEL_11462f9de1454bf0b9c23091ab1b6ce9"
            ],
            "layout": "IPY_MODEL_4ebe90433cd04e489f530680cd1e8493"
          }
        },
        "16662fc71e544677b11db472aed1335d": {
          "model_module": "@jupyter-widgets/controls",
          "model_name": "HTMLModel",
          "model_module_version": "1.5.0",
          "state": {
            "_dom_classes": [],
            "_model_module": "@jupyter-widgets/controls",
            "_model_module_version": "1.5.0",
            "_model_name": "HTMLModel",
            "_view_count": null,
            "_view_module": "@jupyter-widgets/controls",
            "_view_module_version": "1.5.0",
            "_view_name": "HTMLView",
            "description": "",
            "description_tooltip": null,
            "layout": "IPY_MODEL_7ab008be3ad64a31b49bc2bd09ccbfa5",
            "placeholder": "​",
            "style": "IPY_MODEL_93b4e4c41c994107a9848f3166779575",
            "value": "tokenizer_config.json: 100%"
          }
        },
        "98c1f837cd1f46c598ed450540881b4a": {
          "model_module": "@jupyter-widgets/controls",
          "model_name": "FloatProgressModel",
          "model_module_version": "1.5.0",
          "state": {
            "_dom_classes": [],
            "_model_module": "@jupyter-widgets/controls",
            "_model_module_version": "1.5.0",
            "_model_name": "FloatProgressModel",
            "_view_count": null,
            "_view_module": "@jupyter-widgets/controls",
            "_view_module_version": "1.5.0",
            "_view_name": "ProgressView",
            "bar_style": "success",
            "description": "",
            "description_tooltip": null,
            "layout": "IPY_MODEL_561b3c179e9343999abfe513f5d17f7c",
            "max": 55351,
            "min": 0,
            "orientation": "horizontal",
            "style": "IPY_MODEL_b2a897a351e3453abc12c7d4be021f79",
            "value": 55351
          }
        },
        "11462f9de1454bf0b9c23091ab1b6ce9": {
          "model_module": "@jupyter-widgets/controls",
          "model_name": "HTMLModel",
          "model_module_version": "1.5.0",
          "state": {
            "_dom_classes": [],
            "_model_module": "@jupyter-widgets/controls",
            "_model_module_version": "1.5.0",
            "_model_name": "HTMLModel",
            "_view_count": null,
            "_view_module": "@jupyter-widgets/controls",
            "_view_module_version": "1.5.0",
            "_view_name": "HTMLView",
            "description": "",
            "description_tooltip": null,
            "layout": "IPY_MODEL_e64048a04b27464fbedda3b9fcc661df",
            "placeholder": "​",
            "style": "IPY_MODEL_32edbb9381464808b3682d9372f3f3eb",
            "value": " 55.4k/55.4k [00:00&lt;00:00, 2.22MB/s]"
          }
        },
        "4ebe90433cd04e489f530680cd1e8493": {
          "model_module": "@jupyter-widgets/base",
          "model_name": "LayoutModel",
          "model_module_version": "1.2.0",
          "state": {
            "_model_module": "@jupyter-widgets/base",
            "_model_module_version": "1.2.0",
            "_model_name": "LayoutModel",
            "_view_count": null,
            "_view_module": "@jupyter-widgets/base",
            "_view_module_version": "1.2.0",
            "_view_name": "LayoutView",
            "align_content": null,
            "align_items": null,
            "align_self": null,
            "border": null,
            "bottom": null,
            "display": null,
            "flex": null,
            "flex_flow": null,
            "grid_area": null,
            "grid_auto_columns": null,
            "grid_auto_flow": null,
            "grid_auto_rows": null,
            "grid_column": null,
            "grid_gap": null,
            "grid_row": null,
            "grid_template_areas": null,
            "grid_template_columns": null,
            "grid_template_rows": null,
            "height": null,
            "justify_content": null,
            "justify_items": null,
            "left": null,
            "margin": null,
            "max_height": null,
            "max_width": null,
            "min_height": null,
            "min_width": null,
            "object_fit": null,
            "object_position": null,
            "order": null,
            "overflow": null,
            "overflow_x": null,
            "overflow_y": null,
            "padding": null,
            "right": null,
            "top": null,
            "visibility": null,
            "width": null
          }
        },
        "7ab008be3ad64a31b49bc2bd09ccbfa5": {
          "model_module": "@jupyter-widgets/base",
          "model_name": "LayoutModel",
          "model_module_version": "1.2.0",
          "state": {
            "_model_module": "@jupyter-widgets/base",
            "_model_module_version": "1.2.0",
            "_model_name": "LayoutModel",
            "_view_count": null,
            "_view_module": "@jupyter-widgets/base",
            "_view_module_version": "1.2.0",
            "_view_name": "LayoutView",
            "align_content": null,
            "align_items": null,
            "align_self": null,
            "border": null,
            "bottom": null,
            "display": null,
            "flex": null,
            "flex_flow": null,
            "grid_area": null,
            "grid_auto_columns": null,
            "grid_auto_flow": null,
            "grid_auto_rows": null,
            "grid_column": null,
            "grid_gap": null,
            "grid_row": null,
            "grid_template_areas": null,
            "grid_template_columns": null,
            "grid_template_rows": null,
            "height": null,
            "justify_content": null,
            "justify_items": null,
            "left": null,
            "margin": null,
            "max_height": null,
            "max_width": null,
            "min_height": null,
            "min_width": null,
            "object_fit": null,
            "object_position": null,
            "order": null,
            "overflow": null,
            "overflow_x": null,
            "overflow_y": null,
            "padding": null,
            "right": null,
            "top": null,
            "visibility": null,
            "width": null
          }
        },
        "93b4e4c41c994107a9848f3166779575": {
          "model_module": "@jupyter-widgets/controls",
          "model_name": "DescriptionStyleModel",
          "model_module_version": "1.5.0",
          "state": {
            "_model_module": "@jupyter-widgets/controls",
            "_model_module_version": "1.5.0",
            "_model_name": "DescriptionStyleModel",
            "_view_count": null,
            "_view_module": "@jupyter-widgets/base",
            "_view_module_version": "1.2.0",
            "_view_name": "StyleView",
            "description_width": ""
          }
        },
        "561b3c179e9343999abfe513f5d17f7c": {
          "model_module": "@jupyter-widgets/base",
          "model_name": "LayoutModel",
          "model_module_version": "1.2.0",
          "state": {
            "_model_module": "@jupyter-widgets/base",
            "_model_module_version": "1.2.0",
            "_model_name": "LayoutModel",
            "_view_count": null,
            "_view_module": "@jupyter-widgets/base",
            "_view_module_version": "1.2.0",
            "_view_name": "LayoutView",
            "align_content": null,
            "align_items": null,
            "align_self": null,
            "border": null,
            "bottom": null,
            "display": null,
            "flex": null,
            "flex_flow": null,
            "grid_area": null,
            "grid_auto_columns": null,
            "grid_auto_flow": null,
            "grid_auto_rows": null,
            "grid_column": null,
            "grid_gap": null,
            "grid_row": null,
            "grid_template_areas": null,
            "grid_template_columns": null,
            "grid_template_rows": null,
            "height": null,
            "justify_content": null,
            "justify_items": null,
            "left": null,
            "margin": null,
            "max_height": null,
            "max_width": null,
            "min_height": null,
            "min_width": null,
            "object_fit": null,
            "object_position": null,
            "order": null,
            "overflow": null,
            "overflow_x": null,
            "overflow_y": null,
            "padding": null,
            "right": null,
            "top": null,
            "visibility": null,
            "width": null
          }
        },
        "b2a897a351e3453abc12c7d4be021f79": {
          "model_module": "@jupyter-widgets/controls",
          "model_name": "ProgressStyleModel",
          "model_module_version": "1.5.0",
          "state": {
            "_model_module": "@jupyter-widgets/controls",
            "_model_module_version": "1.5.0",
            "_model_name": "ProgressStyleModel",
            "_view_count": null,
            "_view_module": "@jupyter-widgets/base",
            "_view_module_version": "1.2.0",
            "_view_name": "StyleView",
            "bar_color": null,
            "description_width": ""
          }
        },
        "e64048a04b27464fbedda3b9fcc661df": {
          "model_module": "@jupyter-widgets/base",
          "model_name": "LayoutModel",
          "model_module_version": "1.2.0",
          "state": {
            "_model_module": "@jupyter-widgets/base",
            "_model_module_version": "1.2.0",
            "_model_name": "LayoutModel",
            "_view_count": null,
            "_view_module": "@jupyter-widgets/base",
            "_view_module_version": "1.2.0",
            "_view_name": "LayoutView",
            "align_content": null,
            "align_items": null,
            "align_self": null,
            "border": null,
            "bottom": null,
            "display": null,
            "flex": null,
            "flex_flow": null,
            "grid_area": null,
            "grid_auto_columns": null,
            "grid_auto_flow": null,
            "grid_auto_rows": null,
            "grid_column": null,
            "grid_gap": null,
            "grid_row": null,
            "grid_template_areas": null,
            "grid_template_columns": null,
            "grid_template_rows": null,
            "height": null,
            "justify_content": null,
            "justify_items": null,
            "left": null,
            "margin": null,
            "max_height": null,
            "max_width": null,
            "min_height": null,
            "min_width": null,
            "object_fit": null,
            "object_position": null,
            "order": null,
            "overflow": null,
            "overflow_x": null,
            "overflow_y": null,
            "padding": null,
            "right": null,
            "top": null,
            "visibility": null,
            "width": null
          }
        },
        "32edbb9381464808b3682d9372f3f3eb": {
          "model_module": "@jupyter-widgets/controls",
          "model_name": "DescriptionStyleModel",
          "model_module_version": "1.5.0",
          "state": {
            "_model_module": "@jupyter-widgets/controls",
            "_model_module_version": "1.5.0",
            "_model_name": "DescriptionStyleModel",
            "_view_count": null,
            "_view_module": "@jupyter-widgets/base",
            "_view_module_version": "1.2.0",
            "_view_name": "StyleView",
            "description_width": ""
          }
        },
        "b7e1ae8c6e9a407ea9d8b0873311b5dd": {
          "model_module": "@jupyter-widgets/controls",
          "model_name": "HBoxModel",
          "model_module_version": "1.5.0",
          "state": {
            "_dom_classes": [],
            "_model_module": "@jupyter-widgets/controls",
            "_model_module_version": "1.5.0",
            "_model_name": "HBoxModel",
            "_view_count": null,
            "_view_module": "@jupyter-widgets/controls",
            "_view_module_version": "1.5.0",
            "_view_name": "HBoxView",
            "box_style": "",
            "children": [
              "IPY_MODEL_aa23f6fbe55243059b6c29129a948a8a",
              "IPY_MODEL_416df65b61d540dda3d4fb31cbb2f2d9",
              "IPY_MODEL_5328e86fed8e4774b8e1198e4a847aef"
            ],
            "layout": "IPY_MODEL_8b912d72b6494484b0dcdc4505d8d4fe"
          }
        },
        "aa23f6fbe55243059b6c29129a948a8a": {
          "model_module": "@jupyter-widgets/controls",
          "model_name": "HTMLModel",
          "model_module_version": "1.5.0",
          "state": {
            "_dom_classes": [],
            "_model_module": "@jupyter-widgets/controls",
            "_model_module_version": "1.5.0",
            "_model_name": "HTMLModel",
            "_view_count": null,
            "_view_module": "@jupyter-widgets/controls",
            "_view_module_version": "1.5.0",
            "_view_name": "HTMLView",
            "description": "",
            "description_tooltip": null,
            "layout": "IPY_MODEL_a7095bccfe074d5781677775ae118f4d",
            "placeholder": "​",
            "style": "IPY_MODEL_e678d5bbbef34ad4a15ffeff36cff5c8",
            "value": "tokenizer.json: 100%"
          }
        },
        "416df65b61d540dda3d4fb31cbb2f2d9": {
          "model_module": "@jupyter-widgets/controls",
          "model_name": "FloatProgressModel",
          "model_module_version": "1.5.0",
          "state": {
            "_dom_classes": [],
            "_model_module": "@jupyter-widgets/controls",
            "_model_module_version": "1.5.0",
            "_model_name": "FloatProgressModel",
            "_view_count": null,
            "_view_module": "@jupyter-widgets/controls",
            "_view_module_version": "1.5.0",
            "_view_name": "ProgressView",
            "bar_style": "success",
            "description": "",
            "description_tooltip": null,
            "layout": "IPY_MODEL_0d31f4d871bd46538cedf95d177255bc",
            "max": 9085657,
            "min": 0,
            "orientation": "horizontal",
            "style": "IPY_MODEL_90e71a893b3049839211f8e715b9299f",
            "value": 9085657
          }
        },
        "5328e86fed8e4774b8e1198e4a847aef": {
          "model_module": "@jupyter-widgets/controls",
          "model_name": "HTMLModel",
          "model_module_version": "1.5.0",
          "state": {
            "_dom_classes": [],
            "_model_module": "@jupyter-widgets/controls",
            "_model_module_version": "1.5.0",
            "_model_name": "HTMLModel",
            "_view_count": null,
            "_view_module": "@jupyter-widgets/controls",
            "_view_module_version": "1.5.0",
            "_view_name": "HTMLView",
            "description": "",
            "description_tooltip": null,
            "layout": "IPY_MODEL_e2cd78f2d69c41b0b58a536b3dc6f56e",
            "placeholder": "​",
            "style": "IPY_MODEL_d13d10c91e9e4006a04a25434dbd3c78",
            "value": " 9.09M/9.09M [00:00&lt;00:00, 18.0MB/s]"
          }
        },
        "8b912d72b6494484b0dcdc4505d8d4fe": {
          "model_module": "@jupyter-widgets/base",
          "model_name": "LayoutModel",
          "model_module_version": "1.2.0",
          "state": {
            "_model_module": "@jupyter-widgets/base",
            "_model_module_version": "1.2.0",
            "_model_name": "LayoutModel",
            "_view_count": null,
            "_view_module": "@jupyter-widgets/base",
            "_view_module_version": "1.2.0",
            "_view_name": "LayoutView",
            "align_content": null,
            "align_items": null,
            "align_self": null,
            "border": null,
            "bottom": null,
            "display": null,
            "flex": null,
            "flex_flow": null,
            "grid_area": null,
            "grid_auto_columns": null,
            "grid_auto_flow": null,
            "grid_auto_rows": null,
            "grid_column": null,
            "grid_gap": null,
            "grid_row": null,
            "grid_template_areas": null,
            "grid_template_columns": null,
            "grid_template_rows": null,
            "height": null,
            "justify_content": null,
            "justify_items": null,
            "left": null,
            "margin": null,
            "max_height": null,
            "max_width": null,
            "min_height": null,
            "min_width": null,
            "object_fit": null,
            "object_position": null,
            "order": null,
            "overflow": null,
            "overflow_x": null,
            "overflow_y": null,
            "padding": null,
            "right": null,
            "top": null,
            "visibility": null,
            "width": null
          }
        },
        "a7095bccfe074d5781677775ae118f4d": {
          "model_module": "@jupyter-widgets/base",
          "model_name": "LayoutModel",
          "model_module_version": "1.2.0",
          "state": {
            "_model_module": "@jupyter-widgets/base",
            "_model_module_version": "1.2.0",
            "_model_name": "LayoutModel",
            "_view_count": null,
            "_view_module": "@jupyter-widgets/base",
            "_view_module_version": "1.2.0",
            "_view_name": "LayoutView",
            "align_content": null,
            "align_items": null,
            "align_self": null,
            "border": null,
            "bottom": null,
            "display": null,
            "flex": null,
            "flex_flow": null,
            "grid_area": null,
            "grid_auto_columns": null,
            "grid_auto_flow": null,
            "grid_auto_rows": null,
            "grid_column": null,
            "grid_gap": null,
            "grid_row": null,
            "grid_template_areas": null,
            "grid_template_columns": null,
            "grid_template_rows": null,
            "height": null,
            "justify_content": null,
            "justify_items": null,
            "left": null,
            "margin": null,
            "max_height": null,
            "max_width": null,
            "min_height": null,
            "min_width": null,
            "object_fit": null,
            "object_position": null,
            "order": null,
            "overflow": null,
            "overflow_x": null,
            "overflow_y": null,
            "padding": null,
            "right": null,
            "top": null,
            "visibility": null,
            "width": null
          }
        },
        "e678d5bbbef34ad4a15ffeff36cff5c8": {
          "model_module": "@jupyter-widgets/controls",
          "model_name": "DescriptionStyleModel",
          "model_module_version": "1.5.0",
          "state": {
            "_model_module": "@jupyter-widgets/controls",
            "_model_module_version": "1.5.0",
            "_model_name": "DescriptionStyleModel",
            "_view_count": null,
            "_view_module": "@jupyter-widgets/base",
            "_view_module_version": "1.2.0",
            "_view_name": "StyleView",
            "description_width": ""
          }
        },
        "0d31f4d871bd46538cedf95d177255bc": {
          "model_module": "@jupyter-widgets/base",
          "model_name": "LayoutModel",
          "model_module_version": "1.2.0",
          "state": {
            "_model_module": "@jupyter-widgets/base",
            "_model_module_version": "1.2.0",
            "_model_name": "LayoutModel",
            "_view_count": null,
            "_view_module": "@jupyter-widgets/base",
            "_view_module_version": "1.2.0",
            "_view_name": "LayoutView",
            "align_content": null,
            "align_items": null,
            "align_self": null,
            "border": null,
            "bottom": null,
            "display": null,
            "flex": null,
            "flex_flow": null,
            "grid_area": null,
            "grid_auto_columns": null,
            "grid_auto_flow": null,
            "grid_auto_rows": null,
            "grid_column": null,
            "grid_gap": null,
            "grid_row": null,
            "grid_template_areas": null,
            "grid_template_columns": null,
            "grid_template_rows": null,
            "height": null,
            "justify_content": null,
            "justify_items": null,
            "left": null,
            "margin": null,
            "max_height": null,
            "max_width": null,
            "min_height": null,
            "min_width": null,
            "object_fit": null,
            "object_position": null,
            "order": null,
            "overflow": null,
            "overflow_x": null,
            "overflow_y": null,
            "padding": null,
            "right": null,
            "top": null,
            "visibility": null,
            "width": null
          }
        },
        "90e71a893b3049839211f8e715b9299f": {
          "model_module": "@jupyter-widgets/controls",
          "model_name": "ProgressStyleModel",
          "model_module_version": "1.5.0",
          "state": {
            "_model_module": "@jupyter-widgets/controls",
            "_model_module_version": "1.5.0",
            "_model_name": "ProgressStyleModel",
            "_view_count": null,
            "_view_module": "@jupyter-widgets/base",
            "_view_module_version": "1.2.0",
            "_view_name": "StyleView",
            "bar_color": null,
            "description_width": ""
          }
        },
        "e2cd78f2d69c41b0b58a536b3dc6f56e": {
          "model_module": "@jupyter-widgets/base",
          "model_name": "LayoutModel",
          "model_module_version": "1.2.0",
          "state": {
            "_model_module": "@jupyter-widgets/base",
            "_model_module_version": "1.2.0",
            "_model_name": "LayoutModel",
            "_view_count": null,
            "_view_module": "@jupyter-widgets/base",
            "_view_module_version": "1.2.0",
            "_view_name": "LayoutView",
            "align_content": null,
            "align_items": null,
            "align_self": null,
            "border": null,
            "bottom": null,
            "display": null,
            "flex": null,
            "flex_flow": null,
            "grid_area": null,
            "grid_auto_columns": null,
            "grid_auto_flow": null,
            "grid_auto_rows": null,
            "grid_column": null,
            "grid_gap": null,
            "grid_row": null,
            "grid_template_areas": null,
            "grid_template_columns": null,
            "grid_template_rows": null,
            "height": null,
            "justify_content": null,
            "justify_items": null,
            "left": null,
            "margin": null,
            "max_height": null,
            "max_width": null,
            "min_height": null,
            "min_width": null,
            "object_fit": null,
            "object_position": null,
            "order": null,
            "overflow": null,
            "overflow_x": null,
            "overflow_y": null,
            "padding": null,
            "right": null,
            "top": null,
            "visibility": null,
            "width": null
          }
        },
        "d13d10c91e9e4006a04a25434dbd3c78": {
          "model_module": "@jupyter-widgets/controls",
          "model_name": "DescriptionStyleModel",
          "model_module_version": "1.5.0",
          "state": {
            "_model_module": "@jupyter-widgets/controls",
            "_model_module_version": "1.5.0",
            "_model_name": "DescriptionStyleModel",
            "_view_count": null,
            "_view_module": "@jupyter-widgets/base",
            "_view_module_version": "1.2.0",
            "_view_name": "StyleView",
            "description_width": ""
          }
        },
        "9883e3747727473fa13cd0d7381aff22": {
          "model_module": "@jupyter-widgets/controls",
          "model_name": "HBoxModel",
          "model_module_version": "1.5.0",
          "state": {
            "_dom_classes": [],
            "_model_module": "@jupyter-widgets/controls",
            "_model_module_version": "1.5.0",
            "_model_name": "HBoxModel",
            "_view_count": null,
            "_view_module": "@jupyter-widgets/controls",
            "_view_module_version": "1.5.0",
            "_view_name": "HBoxView",
            "box_style": "",
            "children": [
              "IPY_MODEL_87b23da46f9345608c3257e4ce2609ac",
              "IPY_MODEL_1009c4411da04aaa943f02f245ad79a2",
              "IPY_MODEL_65de80371dd84bf591a2a2cbdd21ba2f"
            ],
            "layout": "IPY_MODEL_2d0abd632dc54418b2a5cb8f66d471b3"
          }
        },
        "87b23da46f9345608c3257e4ce2609ac": {
          "model_module": "@jupyter-widgets/controls",
          "model_name": "HTMLModel",
          "model_module_version": "1.5.0",
          "state": {
            "_dom_classes": [],
            "_model_module": "@jupyter-widgets/controls",
            "_model_module_version": "1.5.0",
            "_model_name": "HTMLModel",
            "_view_count": null,
            "_view_module": "@jupyter-widgets/controls",
            "_view_module_version": "1.5.0",
            "_view_name": "HTMLView",
            "description": "",
            "description_tooltip": null,
            "layout": "IPY_MODEL_9c9cfc4f6eb041dab7cf144145ccd183",
            "placeholder": "​",
            "style": "IPY_MODEL_dbbabfd354ac49d49f61f48eb68a169b",
            "value": "special_tokens_map.json: 100%"
          }
        },
        "1009c4411da04aaa943f02f245ad79a2": {
          "model_module": "@jupyter-widgets/controls",
          "model_name": "FloatProgressModel",
          "model_module_version": "1.5.0",
          "state": {
            "_dom_classes": [],
            "_model_module": "@jupyter-widgets/controls",
            "_model_module_version": "1.5.0",
            "_model_name": "FloatProgressModel",
            "_view_count": null,
            "_view_module": "@jupyter-widgets/controls",
            "_view_module_version": "1.5.0",
            "_view_name": "ProgressView",
            "bar_style": "success",
            "description": "",
            "description_tooltip": null,
            "layout": "IPY_MODEL_d8b793f35a8a40dd8b91f0fd06af9d33",
            "max": 296,
            "min": 0,
            "orientation": "horizontal",
            "style": "IPY_MODEL_a3679208545e4d8db18d34f6e872f4d3",
            "value": 296
          }
        },
        "65de80371dd84bf591a2a2cbdd21ba2f": {
          "model_module": "@jupyter-widgets/controls",
          "model_name": "HTMLModel",
          "model_module_version": "1.5.0",
          "state": {
            "_dom_classes": [],
            "_model_module": "@jupyter-widgets/controls",
            "_model_module_version": "1.5.0",
            "_model_name": "HTMLModel",
            "_view_count": null,
            "_view_module": "@jupyter-widgets/controls",
            "_view_module_version": "1.5.0",
            "_view_name": "HTMLView",
            "description": "",
            "description_tooltip": null,
            "layout": "IPY_MODEL_474cfc449bf44e039c2329e0ff1909ae",
            "placeholder": "​",
            "style": "IPY_MODEL_b26051995bc84d4d94fa4cfb4fea2a61",
            "value": " 296/296 [00:00&lt;00:00, 24.0kB/s]"
          }
        },
        "2d0abd632dc54418b2a5cb8f66d471b3": {
          "model_module": "@jupyter-widgets/base",
          "model_name": "LayoutModel",
          "model_module_version": "1.2.0",
          "state": {
            "_model_module": "@jupyter-widgets/base",
            "_model_module_version": "1.2.0",
            "_model_name": "LayoutModel",
            "_view_count": null,
            "_view_module": "@jupyter-widgets/base",
            "_view_module_version": "1.2.0",
            "_view_name": "LayoutView",
            "align_content": null,
            "align_items": null,
            "align_self": null,
            "border": null,
            "bottom": null,
            "display": null,
            "flex": null,
            "flex_flow": null,
            "grid_area": null,
            "grid_auto_columns": null,
            "grid_auto_flow": null,
            "grid_auto_rows": null,
            "grid_column": null,
            "grid_gap": null,
            "grid_row": null,
            "grid_template_areas": null,
            "grid_template_columns": null,
            "grid_template_rows": null,
            "height": null,
            "justify_content": null,
            "justify_items": null,
            "left": null,
            "margin": null,
            "max_height": null,
            "max_width": null,
            "min_height": null,
            "min_width": null,
            "object_fit": null,
            "object_position": null,
            "order": null,
            "overflow": null,
            "overflow_x": null,
            "overflow_y": null,
            "padding": null,
            "right": null,
            "top": null,
            "visibility": null,
            "width": null
          }
        },
        "9c9cfc4f6eb041dab7cf144145ccd183": {
          "model_module": "@jupyter-widgets/base",
          "model_name": "LayoutModel",
          "model_module_version": "1.2.0",
          "state": {
            "_model_module": "@jupyter-widgets/base",
            "_model_module_version": "1.2.0",
            "_model_name": "LayoutModel",
            "_view_count": null,
            "_view_module": "@jupyter-widgets/base",
            "_view_module_version": "1.2.0",
            "_view_name": "LayoutView",
            "align_content": null,
            "align_items": null,
            "align_self": null,
            "border": null,
            "bottom": null,
            "display": null,
            "flex": null,
            "flex_flow": null,
            "grid_area": null,
            "grid_auto_columns": null,
            "grid_auto_flow": null,
            "grid_auto_rows": null,
            "grid_column": null,
            "grid_gap": null,
            "grid_row": null,
            "grid_template_areas": null,
            "grid_template_columns": null,
            "grid_template_rows": null,
            "height": null,
            "justify_content": null,
            "justify_items": null,
            "left": null,
            "margin": null,
            "max_height": null,
            "max_width": null,
            "min_height": null,
            "min_width": null,
            "object_fit": null,
            "object_position": null,
            "order": null,
            "overflow": null,
            "overflow_x": null,
            "overflow_y": null,
            "padding": null,
            "right": null,
            "top": null,
            "visibility": null,
            "width": null
          }
        },
        "dbbabfd354ac49d49f61f48eb68a169b": {
          "model_module": "@jupyter-widgets/controls",
          "model_name": "DescriptionStyleModel",
          "model_module_version": "1.5.0",
          "state": {
            "_model_module": "@jupyter-widgets/controls",
            "_model_module_version": "1.5.0",
            "_model_name": "DescriptionStyleModel",
            "_view_count": null,
            "_view_module": "@jupyter-widgets/base",
            "_view_module_version": "1.2.0",
            "_view_name": "StyleView",
            "description_width": ""
          }
        },
        "d8b793f35a8a40dd8b91f0fd06af9d33": {
          "model_module": "@jupyter-widgets/base",
          "model_name": "LayoutModel",
          "model_module_version": "1.2.0",
          "state": {
            "_model_module": "@jupyter-widgets/base",
            "_model_module_version": "1.2.0",
            "_model_name": "LayoutModel",
            "_view_count": null,
            "_view_module": "@jupyter-widgets/base",
            "_view_module_version": "1.2.0",
            "_view_name": "LayoutView",
            "align_content": null,
            "align_items": null,
            "align_self": null,
            "border": null,
            "bottom": null,
            "display": null,
            "flex": null,
            "flex_flow": null,
            "grid_area": null,
            "grid_auto_columns": null,
            "grid_auto_flow": null,
            "grid_auto_rows": null,
            "grid_column": null,
            "grid_gap": null,
            "grid_row": null,
            "grid_template_areas": null,
            "grid_template_columns": null,
            "grid_template_rows": null,
            "height": null,
            "justify_content": null,
            "justify_items": null,
            "left": null,
            "margin": null,
            "max_height": null,
            "max_width": null,
            "min_height": null,
            "min_width": null,
            "object_fit": null,
            "object_position": null,
            "order": null,
            "overflow": null,
            "overflow_x": null,
            "overflow_y": null,
            "padding": null,
            "right": null,
            "top": null,
            "visibility": null,
            "width": null
          }
        },
        "a3679208545e4d8db18d34f6e872f4d3": {
          "model_module": "@jupyter-widgets/controls",
          "model_name": "ProgressStyleModel",
          "model_module_version": "1.5.0",
          "state": {
            "_model_module": "@jupyter-widgets/controls",
            "_model_module_version": "1.5.0",
            "_model_name": "ProgressStyleModel",
            "_view_count": null,
            "_view_module": "@jupyter-widgets/base",
            "_view_module_version": "1.2.0",
            "_view_name": "StyleView",
            "bar_color": null,
            "description_width": ""
          }
        },
        "474cfc449bf44e039c2329e0ff1909ae": {
          "model_module": "@jupyter-widgets/base",
          "model_name": "LayoutModel",
          "model_module_version": "1.2.0",
          "state": {
            "_model_module": "@jupyter-widgets/base",
            "_model_module_version": "1.2.0",
            "_model_name": "LayoutModel",
            "_view_count": null,
            "_view_module": "@jupyter-widgets/base",
            "_view_module_version": "1.2.0",
            "_view_name": "LayoutView",
            "align_content": null,
            "align_items": null,
            "align_self": null,
            "border": null,
            "bottom": null,
            "display": null,
            "flex": null,
            "flex_flow": null,
            "grid_area": null,
            "grid_auto_columns": null,
            "grid_auto_flow": null,
            "grid_auto_rows": null,
            "grid_column": null,
            "grid_gap": null,
            "grid_row": null,
            "grid_template_areas": null,
            "grid_template_columns": null,
            "grid_template_rows": null,
            "height": null,
            "justify_content": null,
            "justify_items": null,
            "left": null,
            "margin": null,
            "max_height": null,
            "max_width": null,
            "min_height": null,
            "min_width": null,
            "object_fit": null,
            "object_position": null,
            "order": null,
            "overflow": null,
            "overflow_x": null,
            "overflow_y": null,
            "padding": null,
            "right": null,
            "top": null,
            "visibility": null,
            "width": null
          }
        },
        "b26051995bc84d4d94fa4cfb4fea2a61": {
          "model_module": "@jupyter-widgets/controls",
          "model_name": "DescriptionStyleModel",
          "model_module_version": "1.5.0",
          "state": {
            "_model_module": "@jupyter-widgets/controls",
            "_model_module_version": "1.5.0",
            "_model_name": "DescriptionStyleModel",
            "_view_count": null,
            "_view_module": "@jupyter-widgets/base",
            "_view_module_version": "1.2.0",
            "_view_name": "StyleView",
            "description_width": ""
          }
        },
        "5c9c0e4297024c96997322361e11c960": {
          "model_module": "@jupyter-widgets/controls",
          "model_name": "HBoxModel",
          "model_module_version": "1.5.0",
          "state": {
            "_dom_classes": [],
            "_model_module": "@jupyter-widgets/controls",
            "_model_module_version": "1.5.0",
            "_model_name": "HBoxModel",
            "_view_count": null,
            "_view_module": "@jupyter-widgets/controls",
            "_view_module_version": "1.5.0",
            "_view_name": "HBoxView",
            "box_style": "",
            "children": [
              "IPY_MODEL_3bdac0a2af8e48cba005f89176358991",
              "IPY_MODEL_803d57daf20a445385a3057ef2ee1798",
              "IPY_MODEL_20ac7dc8fe9f420ab1f795c63e2106cb"
            ],
            "layout": "IPY_MODEL_77358f19c15e4942a939d13410220075"
          }
        },
        "3bdac0a2af8e48cba005f89176358991": {
          "model_module": "@jupyter-widgets/controls",
          "model_name": "HTMLModel",
          "model_module_version": "1.5.0",
          "state": {
            "_dom_classes": [],
            "_model_module": "@jupyter-widgets/controls",
            "_model_module_version": "1.5.0",
            "_model_name": "HTMLModel",
            "_view_count": null,
            "_view_module": "@jupyter-widgets/controls",
            "_view_module_version": "1.5.0",
            "_view_name": "HTMLView",
            "description": "",
            "description_tooltip": null,
            "layout": "IPY_MODEL_4fc5cc4effdd486bb23872829a09e19d",
            "placeholder": "​",
            "style": "IPY_MODEL_f20e335b0cd349b5a85971f3b56417de",
            "value": "config.json: 100%"
          }
        },
        "803d57daf20a445385a3057ef2ee1798": {
          "model_module": "@jupyter-widgets/controls",
          "model_name": "FloatProgressModel",
          "model_module_version": "1.5.0",
          "state": {
            "_dom_classes": [],
            "_model_module": "@jupyter-widgets/controls",
            "_model_module_version": "1.5.0",
            "_model_name": "FloatProgressModel",
            "_view_count": null,
            "_view_module": "@jupyter-widgets/controls",
            "_view_module_version": "1.5.0",
            "_view_name": "ProgressView",
            "bar_style": "success",
            "description": "",
            "description_tooltip": null,
            "layout": "IPY_MODEL_c87b32d598e24af89cfd6fbce70ec6c1",
            "max": 855,
            "min": 0,
            "orientation": "horizontal",
            "style": "IPY_MODEL_2a2224540b094a0d894382c75b18aa0e",
            "value": 855
          }
        },
        "20ac7dc8fe9f420ab1f795c63e2106cb": {
          "model_module": "@jupyter-widgets/controls",
          "model_name": "HTMLModel",
          "model_module_version": "1.5.0",
          "state": {
            "_dom_classes": [],
            "_model_module": "@jupyter-widgets/controls",
            "_model_module_version": "1.5.0",
            "_model_name": "HTMLModel",
            "_view_count": null,
            "_view_module": "@jupyter-widgets/controls",
            "_view_module_version": "1.5.0",
            "_view_name": "HTMLView",
            "description": "",
            "description_tooltip": null,
            "layout": "IPY_MODEL_55018e0036aa4ac4aca71e834c2b80a5",
            "placeholder": "​",
            "style": "IPY_MODEL_4ce5cea57fc44c23a326ec019fb76b70",
            "value": " 855/855 [00:00&lt;00:00, 57.0kB/s]"
          }
        },
        "77358f19c15e4942a939d13410220075": {
          "model_module": "@jupyter-widgets/base",
          "model_name": "LayoutModel",
          "model_module_version": "1.2.0",
          "state": {
            "_model_module": "@jupyter-widgets/base",
            "_model_module_version": "1.2.0",
            "_model_name": "LayoutModel",
            "_view_count": null,
            "_view_module": "@jupyter-widgets/base",
            "_view_module_version": "1.2.0",
            "_view_name": "LayoutView",
            "align_content": null,
            "align_items": null,
            "align_self": null,
            "border": null,
            "bottom": null,
            "display": null,
            "flex": null,
            "flex_flow": null,
            "grid_area": null,
            "grid_auto_columns": null,
            "grid_auto_flow": null,
            "grid_auto_rows": null,
            "grid_column": null,
            "grid_gap": null,
            "grid_row": null,
            "grid_template_areas": null,
            "grid_template_columns": null,
            "grid_template_rows": null,
            "height": null,
            "justify_content": null,
            "justify_items": null,
            "left": null,
            "margin": null,
            "max_height": null,
            "max_width": null,
            "min_height": null,
            "min_width": null,
            "object_fit": null,
            "object_position": null,
            "order": null,
            "overflow": null,
            "overflow_x": null,
            "overflow_y": null,
            "padding": null,
            "right": null,
            "top": null,
            "visibility": null,
            "width": null
          }
        },
        "4fc5cc4effdd486bb23872829a09e19d": {
          "model_module": "@jupyter-widgets/base",
          "model_name": "LayoutModel",
          "model_module_version": "1.2.0",
          "state": {
            "_model_module": "@jupyter-widgets/base",
            "_model_module_version": "1.2.0",
            "_model_name": "LayoutModel",
            "_view_count": null,
            "_view_module": "@jupyter-widgets/base",
            "_view_module_version": "1.2.0",
            "_view_name": "LayoutView",
            "align_content": null,
            "align_items": null,
            "align_self": null,
            "border": null,
            "bottom": null,
            "display": null,
            "flex": null,
            "flex_flow": null,
            "grid_area": null,
            "grid_auto_columns": null,
            "grid_auto_flow": null,
            "grid_auto_rows": null,
            "grid_column": null,
            "grid_gap": null,
            "grid_row": null,
            "grid_template_areas": null,
            "grid_template_columns": null,
            "grid_template_rows": null,
            "height": null,
            "justify_content": null,
            "justify_items": null,
            "left": null,
            "margin": null,
            "max_height": null,
            "max_width": null,
            "min_height": null,
            "min_width": null,
            "object_fit": null,
            "object_position": null,
            "order": null,
            "overflow": null,
            "overflow_x": null,
            "overflow_y": null,
            "padding": null,
            "right": null,
            "top": null,
            "visibility": null,
            "width": null
          }
        },
        "f20e335b0cd349b5a85971f3b56417de": {
          "model_module": "@jupyter-widgets/controls",
          "model_name": "DescriptionStyleModel",
          "model_module_version": "1.5.0",
          "state": {
            "_model_module": "@jupyter-widgets/controls",
            "_model_module_version": "1.5.0",
            "_model_name": "DescriptionStyleModel",
            "_view_count": null,
            "_view_module": "@jupyter-widgets/base",
            "_view_module_version": "1.2.0",
            "_view_name": "StyleView",
            "description_width": ""
          }
        },
        "c87b32d598e24af89cfd6fbce70ec6c1": {
          "model_module": "@jupyter-widgets/base",
          "model_name": "LayoutModel",
          "model_module_version": "1.2.0",
          "state": {
            "_model_module": "@jupyter-widgets/base",
            "_model_module_version": "1.2.0",
            "_model_name": "LayoutModel",
            "_view_count": null,
            "_view_module": "@jupyter-widgets/base",
            "_view_module_version": "1.2.0",
            "_view_name": "LayoutView",
            "align_content": null,
            "align_items": null,
            "align_self": null,
            "border": null,
            "bottom": null,
            "display": null,
            "flex": null,
            "flex_flow": null,
            "grid_area": null,
            "grid_auto_columns": null,
            "grid_auto_flow": null,
            "grid_auto_rows": null,
            "grid_column": null,
            "grid_gap": null,
            "grid_row": null,
            "grid_template_areas": null,
            "grid_template_columns": null,
            "grid_template_rows": null,
            "height": null,
            "justify_content": null,
            "justify_items": null,
            "left": null,
            "margin": null,
            "max_height": null,
            "max_width": null,
            "min_height": null,
            "min_width": null,
            "object_fit": null,
            "object_position": null,
            "order": null,
            "overflow": null,
            "overflow_x": null,
            "overflow_y": null,
            "padding": null,
            "right": null,
            "top": null,
            "visibility": null,
            "width": null
          }
        },
        "2a2224540b094a0d894382c75b18aa0e": {
          "model_module": "@jupyter-widgets/controls",
          "model_name": "ProgressStyleModel",
          "model_module_version": "1.5.0",
          "state": {
            "_model_module": "@jupyter-widgets/controls",
            "_model_module_version": "1.5.0",
            "_model_name": "ProgressStyleModel",
            "_view_count": null,
            "_view_module": "@jupyter-widgets/base",
            "_view_module_version": "1.2.0",
            "_view_name": "StyleView",
            "bar_color": null,
            "description_width": ""
          }
        },
        "55018e0036aa4ac4aca71e834c2b80a5": {
          "model_module": "@jupyter-widgets/base",
          "model_name": "LayoutModel",
          "model_module_version": "1.2.0",
          "state": {
            "_model_module": "@jupyter-widgets/base",
            "_model_module_version": "1.2.0",
            "_model_name": "LayoutModel",
            "_view_count": null,
            "_view_module": "@jupyter-widgets/base",
            "_view_module_version": "1.2.0",
            "_view_name": "LayoutView",
            "align_content": null,
            "align_items": null,
            "align_self": null,
            "border": null,
            "bottom": null,
            "display": null,
            "flex": null,
            "flex_flow": null,
            "grid_area": null,
            "grid_auto_columns": null,
            "grid_auto_flow": null,
            "grid_auto_rows": null,
            "grid_column": null,
            "grid_gap": null,
            "grid_row": null,
            "grid_template_areas": null,
            "grid_template_columns": null,
            "grid_template_rows": null,
            "height": null,
            "justify_content": null,
            "justify_items": null,
            "left": null,
            "margin": null,
            "max_height": null,
            "max_width": null,
            "min_height": null,
            "min_width": null,
            "object_fit": null,
            "object_position": null,
            "order": null,
            "overflow": null,
            "overflow_x": null,
            "overflow_y": null,
            "padding": null,
            "right": null,
            "top": null,
            "visibility": null,
            "width": null
          }
        },
        "4ce5cea57fc44c23a326ec019fb76b70": {
          "model_module": "@jupyter-widgets/controls",
          "model_name": "DescriptionStyleModel",
          "model_module_version": "1.5.0",
          "state": {
            "_model_module": "@jupyter-widgets/controls",
            "_model_module_version": "1.5.0",
            "_model_name": "DescriptionStyleModel",
            "_view_count": null,
            "_view_module": "@jupyter-widgets/base",
            "_view_module_version": "1.2.0",
            "_view_name": "StyleView",
            "description_width": ""
          }
        },
        "07eaa45cc9b34d759fc25122f4493f76": {
          "model_module": "@jupyter-widgets/controls",
          "model_name": "HBoxModel",
          "model_module_version": "1.5.0",
          "state": {
            "_dom_classes": [],
            "_model_module": "@jupyter-widgets/controls",
            "_model_module_version": "1.5.0",
            "_model_name": "HBoxModel",
            "_view_count": null,
            "_view_module": "@jupyter-widgets/controls",
            "_view_module_version": "1.5.0",
            "_view_name": "HBoxView",
            "box_style": "",
            "children": [
              "IPY_MODEL_db0b4738220b491cb78dc9f4721d67c9",
              "IPY_MODEL_0cb0930eff374400af83e0c4276dce18",
              "IPY_MODEL_c5c53843eaac401a91f201c65fa8138d"
            ],
            "layout": "IPY_MODEL_a756684d170e49d5891e40422d66dadf"
          }
        },
        "db0b4738220b491cb78dc9f4721d67c9": {
          "model_module": "@jupyter-widgets/controls",
          "model_name": "HTMLModel",
          "model_module_version": "1.5.0",
          "state": {
            "_dom_classes": [],
            "_model_module": "@jupyter-widgets/controls",
            "_model_module_version": "1.5.0",
            "_model_name": "HTMLModel",
            "_view_count": null,
            "_view_module": "@jupyter-widgets/controls",
            "_view_module_version": "1.5.0",
            "_view_name": "HTMLView",
            "description": "",
            "description_tooltip": null,
            "layout": "IPY_MODEL_c83fae5fe78b4b5fb24f1bfe0fc42117",
            "placeholder": "​",
            "style": "IPY_MODEL_16e43b55cf564187994aacca1ee812ff",
            "value": "model.safetensors.index.json: 100%"
          }
        },
        "0cb0930eff374400af83e0c4276dce18": {
          "model_module": "@jupyter-widgets/controls",
          "model_name": "FloatProgressModel",
          "model_module_version": "1.5.0",
          "state": {
            "_dom_classes": [],
            "_model_module": "@jupyter-widgets/controls",
            "_model_module_version": "1.5.0",
            "_model_name": "FloatProgressModel",
            "_view_count": null,
            "_view_module": "@jupyter-widgets/controls",
            "_view_module_version": "1.5.0",
            "_view_name": "ProgressView",
            "bar_style": "success",
            "description": "",
            "description_tooltip": null,
            "layout": "IPY_MODEL_3523b8aee0f7490faa6cad38274b5a22",
            "max": 23950,
            "min": 0,
            "orientation": "horizontal",
            "style": "IPY_MODEL_7876e0ba54804fd58f58747eb24a4fc4",
            "value": 23950
          }
        },
        "c5c53843eaac401a91f201c65fa8138d": {
          "model_module": "@jupyter-widgets/controls",
          "model_name": "HTMLModel",
          "model_module_version": "1.5.0",
          "state": {
            "_dom_classes": [],
            "_model_module": "@jupyter-widgets/controls",
            "_model_module_version": "1.5.0",
            "_model_name": "HTMLModel",
            "_view_count": null,
            "_view_module": "@jupyter-widgets/controls",
            "_view_module_version": "1.5.0",
            "_view_name": "HTMLView",
            "description": "",
            "description_tooltip": null,
            "layout": "IPY_MODEL_e753317ac290462da6df469d71484f8d",
            "placeholder": "​",
            "style": "IPY_MODEL_836bdf67ad0d4c7894f3340c946e9303",
            "value": " 23.9k/23.9k [00:00&lt;00:00, 1.60MB/s]"
          }
        },
        "a756684d170e49d5891e40422d66dadf": {
          "model_module": "@jupyter-widgets/base",
          "model_name": "LayoutModel",
          "model_module_version": "1.2.0",
          "state": {
            "_model_module": "@jupyter-widgets/base",
            "_model_module_version": "1.2.0",
            "_model_name": "LayoutModel",
            "_view_count": null,
            "_view_module": "@jupyter-widgets/base",
            "_view_module_version": "1.2.0",
            "_view_name": "LayoutView",
            "align_content": null,
            "align_items": null,
            "align_self": null,
            "border": null,
            "bottom": null,
            "display": null,
            "flex": null,
            "flex_flow": null,
            "grid_area": null,
            "grid_auto_columns": null,
            "grid_auto_flow": null,
            "grid_auto_rows": null,
            "grid_column": null,
            "grid_gap": null,
            "grid_row": null,
            "grid_template_areas": null,
            "grid_template_columns": null,
            "grid_template_rows": null,
            "height": null,
            "justify_content": null,
            "justify_items": null,
            "left": null,
            "margin": null,
            "max_height": null,
            "max_width": null,
            "min_height": null,
            "min_width": null,
            "object_fit": null,
            "object_position": null,
            "order": null,
            "overflow": null,
            "overflow_x": null,
            "overflow_y": null,
            "padding": null,
            "right": null,
            "top": null,
            "visibility": null,
            "width": null
          }
        },
        "c83fae5fe78b4b5fb24f1bfe0fc42117": {
          "model_module": "@jupyter-widgets/base",
          "model_name": "LayoutModel",
          "model_module_version": "1.2.0",
          "state": {
            "_model_module": "@jupyter-widgets/base",
            "_model_module_version": "1.2.0",
            "_model_name": "LayoutModel",
            "_view_count": null,
            "_view_module": "@jupyter-widgets/base",
            "_view_module_version": "1.2.0",
            "_view_name": "LayoutView",
            "align_content": null,
            "align_items": null,
            "align_self": null,
            "border": null,
            "bottom": null,
            "display": null,
            "flex": null,
            "flex_flow": null,
            "grid_area": null,
            "grid_auto_columns": null,
            "grid_auto_flow": null,
            "grid_auto_rows": null,
            "grid_column": null,
            "grid_gap": null,
            "grid_row": null,
            "grid_template_areas": null,
            "grid_template_columns": null,
            "grid_template_rows": null,
            "height": null,
            "justify_content": null,
            "justify_items": null,
            "left": null,
            "margin": null,
            "max_height": null,
            "max_width": null,
            "min_height": null,
            "min_width": null,
            "object_fit": null,
            "object_position": null,
            "order": null,
            "overflow": null,
            "overflow_x": null,
            "overflow_y": null,
            "padding": null,
            "right": null,
            "top": null,
            "visibility": null,
            "width": null
          }
        },
        "16e43b55cf564187994aacca1ee812ff": {
          "model_module": "@jupyter-widgets/controls",
          "model_name": "DescriptionStyleModel",
          "model_module_version": "1.5.0",
          "state": {
            "_model_module": "@jupyter-widgets/controls",
            "_model_module_version": "1.5.0",
            "_model_name": "DescriptionStyleModel",
            "_view_count": null,
            "_view_module": "@jupyter-widgets/base",
            "_view_module_version": "1.2.0",
            "_view_name": "StyleView",
            "description_width": ""
          }
        },
        "3523b8aee0f7490faa6cad38274b5a22": {
          "model_module": "@jupyter-widgets/base",
          "model_name": "LayoutModel",
          "model_module_version": "1.2.0",
          "state": {
            "_model_module": "@jupyter-widgets/base",
            "_model_module_version": "1.2.0",
            "_model_name": "LayoutModel",
            "_view_count": null,
            "_view_module": "@jupyter-widgets/base",
            "_view_module_version": "1.2.0",
            "_view_name": "LayoutView",
            "align_content": null,
            "align_items": null,
            "align_self": null,
            "border": null,
            "bottom": null,
            "display": null,
            "flex": null,
            "flex_flow": null,
            "grid_area": null,
            "grid_auto_columns": null,
            "grid_auto_flow": null,
            "grid_auto_rows": null,
            "grid_column": null,
            "grid_gap": null,
            "grid_row": null,
            "grid_template_areas": null,
            "grid_template_columns": null,
            "grid_template_rows": null,
            "height": null,
            "justify_content": null,
            "justify_items": null,
            "left": null,
            "margin": null,
            "max_height": null,
            "max_width": null,
            "min_height": null,
            "min_width": null,
            "object_fit": null,
            "object_position": null,
            "order": null,
            "overflow": null,
            "overflow_x": null,
            "overflow_y": null,
            "padding": null,
            "right": null,
            "top": null,
            "visibility": null,
            "width": null
          }
        },
        "7876e0ba54804fd58f58747eb24a4fc4": {
          "model_module": "@jupyter-widgets/controls",
          "model_name": "ProgressStyleModel",
          "model_module_version": "1.5.0",
          "state": {
            "_model_module": "@jupyter-widgets/controls",
            "_model_module_version": "1.5.0",
            "_model_name": "ProgressStyleModel",
            "_view_count": null,
            "_view_module": "@jupyter-widgets/base",
            "_view_module_version": "1.2.0",
            "_view_name": "StyleView",
            "bar_color": null,
            "description_width": ""
          }
        },
        "e753317ac290462da6df469d71484f8d": {
          "model_module": "@jupyter-widgets/base",
          "model_name": "LayoutModel",
          "model_module_version": "1.2.0",
          "state": {
            "_model_module": "@jupyter-widgets/base",
            "_model_module_version": "1.2.0",
            "_model_name": "LayoutModel",
            "_view_count": null,
            "_view_module": "@jupyter-widgets/base",
            "_view_module_version": "1.2.0",
            "_view_name": "LayoutView",
            "align_content": null,
            "align_items": null,
            "align_self": null,
            "border": null,
            "bottom": null,
            "display": null,
            "flex": null,
            "flex_flow": null,
            "grid_area": null,
            "grid_auto_columns": null,
            "grid_auto_flow": null,
            "grid_auto_rows": null,
            "grid_column": null,
            "grid_gap": null,
            "grid_row": null,
            "grid_template_areas": null,
            "grid_template_columns": null,
            "grid_template_rows": null,
            "height": null,
            "justify_content": null,
            "justify_items": null,
            "left": null,
            "margin": null,
            "max_height": null,
            "max_width": null,
            "min_height": null,
            "min_width": null,
            "object_fit": null,
            "object_position": null,
            "order": null,
            "overflow": null,
            "overflow_x": null,
            "overflow_y": null,
            "padding": null,
            "right": null,
            "top": null,
            "visibility": null,
            "width": null
          }
        },
        "836bdf67ad0d4c7894f3340c946e9303": {
          "model_module": "@jupyter-widgets/controls",
          "model_name": "DescriptionStyleModel",
          "model_module_version": "1.5.0",
          "state": {
            "_model_module": "@jupyter-widgets/controls",
            "_model_module_version": "1.5.0",
            "_model_name": "DescriptionStyleModel",
            "_view_count": null,
            "_view_module": "@jupyter-widgets/base",
            "_view_module_version": "1.2.0",
            "_view_name": "StyleView",
            "description_width": ""
          }
        },
        "8bd6c0deb2fc45d2bc456b5f53726797": {
          "model_module": "@jupyter-widgets/controls",
          "model_name": "HBoxModel",
          "model_module_version": "1.5.0",
          "state": {
            "_dom_classes": [],
            "_model_module": "@jupyter-widgets/controls",
            "_model_module_version": "1.5.0",
            "_model_name": "HBoxModel",
            "_view_count": null,
            "_view_module": "@jupyter-widgets/controls",
            "_view_module_version": "1.5.0",
            "_view_name": "HBoxView",
            "box_style": "",
            "children": [
              "IPY_MODEL_8f03c3fa1df44ebebbfae326930e3f5d",
              "IPY_MODEL_a044db3f8a844ee9a154464a8323014d",
              "IPY_MODEL_293455913d1e4045b4c6d552656fc4db"
            ],
            "layout": "IPY_MODEL_4a841cbf954e44bb905c6e3b1534cb33"
          }
        },
        "8f03c3fa1df44ebebbfae326930e3f5d": {
          "model_module": "@jupyter-widgets/controls",
          "model_name": "HTMLModel",
          "model_module_version": "1.5.0",
          "state": {
            "_dom_classes": [],
            "_model_module": "@jupyter-widgets/controls",
            "_model_module_version": "1.5.0",
            "_model_name": "HTMLModel",
            "_view_count": null,
            "_view_module": "@jupyter-widgets/controls",
            "_view_module_version": "1.5.0",
            "_view_name": "HTMLView",
            "description": "",
            "description_tooltip": null,
            "layout": "IPY_MODEL_5657c2919f524807808e22f0fd6b7784",
            "placeholder": "​",
            "style": "IPY_MODEL_24a81f0786bf4ef19a29940f08d088dd",
            "value": "Downloading shards: 100%"
          }
        },
        "a044db3f8a844ee9a154464a8323014d": {
          "model_module": "@jupyter-widgets/controls",
          "model_name": "FloatProgressModel",
          "model_module_version": "1.5.0",
          "state": {
            "_dom_classes": [],
            "_model_module": "@jupyter-widgets/controls",
            "_model_module_version": "1.5.0",
            "_model_name": "FloatProgressModel",
            "_view_count": null,
            "_view_module": "@jupyter-widgets/controls",
            "_view_module_version": "1.5.0",
            "_view_name": "ProgressView",
            "bar_style": "success",
            "description": "",
            "description_tooltip": null,
            "layout": "IPY_MODEL_91292559442e4c75a105fa87a032bdcc",
            "max": 4,
            "min": 0,
            "orientation": "horizontal",
            "style": "IPY_MODEL_dd56f98c9df548e7ae70292b0ebf6ba2",
            "value": 4
          }
        },
        "293455913d1e4045b4c6d552656fc4db": {
          "model_module": "@jupyter-widgets/controls",
          "model_name": "HTMLModel",
          "model_module_version": "1.5.0",
          "state": {
            "_dom_classes": [],
            "_model_module": "@jupyter-widgets/controls",
            "_model_module_version": "1.5.0",
            "_model_name": "HTMLModel",
            "_view_count": null,
            "_view_module": "@jupyter-widgets/controls",
            "_view_module_version": "1.5.0",
            "_view_name": "HTMLView",
            "description": "",
            "description_tooltip": null,
            "layout": "IPY_MODEL_bd80fea639b74154b97648c55fcf459a",
            "placeholder": "​",
            "style": "IPY_MODEL_fc7965a9644d4ebd80752697d2413cc2",
            "value": " 4/4 [06:21&lt;00:00, 82.22s/it]"
          }
        },
        "4a841cbf954e44bb905c6e3b1534cb33": {
          "model_module": "@jupyter-widgets/base",
          "model_name": "LayoutModel",
          "model_module_version": "1.2.0",
          "state": {
            "_model_module": "@jupyter-widgets/base",
            "_model_module_version": "1.2.0",
            "_model_name": "LayoutModel",
            "_view_count": null,
            "_view_module": "@jupyter-widgets/base",
            "_view_module_version": "1.2.0",
            "_view_name": "LayoutView",
            "align_content": null,
            "align_items": null,
            "align_self": null,
            "border": null,
            "bottom": null,
            "display": null,
            "flex": null,
            "flex_flow": null,
            "grid_area": null,
            "grid_auto_columns": null,
            "grid_auto_flow": null,
            "grid_auto_rows": null,
            "grid_column": null,
            "grid_gap": null,
            "grid_row": null,
            "grid_template_areas": null,
            "grid_template_columns": null,
            "grid_template_rows": null,
            "height": null,
            "justify_content": null,
            "justify_items": null,
            "left": null,
            "margin": null,
            "max_height": null,
            "max_width": null,
            "min_height": null,
            "min_width": null,
            "object_fit": null,
            "object_position": null,
            "order": null,
            "overflow": null,
            "overflow_x": null,
            "overflow_y": null,
            "padding": null,
            "right": null,
            "top": null,
            "visibility": null,
            "width": null
          }
        },
        "5657c2919f524807808e22f0fd6b7784": {
          "model_module": "@jupyter-widgets/base",
          "model_name": "LayoutModel",
          "model_module_version": "1.2.0",
          "state": {
            "_model_module": "@jupyter-widgets/base",
            "_model_module_version": "1.2.0",
            "_model_name": "LayoutModel",
            "_view_count": null,
            "_view_module": "@jupyter-widgets/base",
            "_view_module_version": "1.2.0",
            "_view_name": "LayoutView",
            "align_content": null,
            "align_items": null,
            "align_self": null,
            "border": null,
            "bottom": null,
            "display": null,
            "flex": null,
            "flex_flow": null,
            "grid_area": null,
            "grid_auto_columns": null,
            "grid_auto_flow": null,
            "grid_auto_rows": null,
            "grid_column": null,
            "grid_gap": null,
            "grid_row": null,
            "grid_template_areas": null,
            "grid_template_columns": null,
            "grid_template_rows": null,
            "height": null,
            "justify_content": null,
            "justify_items": null,
            "left": null,
            "margin": null,
            "max_height": null,
            "max_width": null,
            "min_height": null,
            "min_width": null,
            "object_fit": null,
            "object_position": null,
            "order": null,
            "overflow": null,
            "overflow_x": null,
            "overflow_y": null,
            "padding": null,
            "right": null,
            "top": null,
            "visibility": null,
            "width": null
          }
        },
        "24a81f0786bf4ef19a29940f08d088dd": {
          "model_module": "@jupyter-widgets/controls",
          "model_name": "DescriptionStyleModel",
          "model_module_version": "1.5.0",
          "state": {
            "_model_module": "@jupyter-widgets/controls",
            "_model_module_version": "1.5.0",
            "_model_name": "DescriptionStyleModel",
            "_view_count": null,
            "_view_module": "@jupyter-widgets/base",
            "_view_module_version": "1.2.0",
            "_view_name": "StyleView",
            "description_width": ""
          }
        },
        "91292559442e4c75a105fa87a032bdcc": {
          "model_module": "@jupyter-widgets/base",
          "model_name": "LayoutModel",
          "model_module_version": "1.2.0",
          "state": {
            "_model_module": "@jupyter-widgets/base",
            "_model_module_version": "1.2.0",
            "_model_name": "LayoutModel",
            "_view_count": null,
            "_view_module": "@jupyter-widgets/base",
            "_view_module_version": "1.2.0",
            "_view_name": "LayoutView",
            "align_content": null,
            "align_items": null,
            "align_self": null,
            "border": null,
            "bottom": null,
            "display": null,
            "flex": null,
            "flex_flow": null,
            "grid_area": null,
            "grid_auto_columns": null,
            "grid_auto_flow": null,
            "grid_auto_rows": null,
            "grid_column": null,
            "grid_gap": null,
            "grid_row": null,
            "grid_template_areas": null,
            "grid_template_columns": null,
            "grid_template_rows": null,
            "height": null,
            "justify_content": null,
            "justify_items": null,
            "left": null,
            "margin": null,
            "max_height": null,
            "max_width": null,
            "min_height": null,
            "min_width": null,
            "object_fit": null,
            "object_position": null,
            "order": null,
            "overflow": null,
            "overflow_x": null,
            "overflow_y": null,
            "padding": null,
            "right": null,
            "top": null,
            "visibility": null,
            "width": null
          }
        },
        "dd56f98c9df548e7ae70292b0ebf6ba2": {
          "model_module": "@jupyter-widgets/controls",
          "model_name": "ProgressStyleModel",
          "model_module_version": "1.5.0",
          "state": {
            "_model_module": "@jupyter-widgets/controls",
            "_model_module_version": "1.5.0",
            "_model_name": "ProgressStyleModel",
            "_view_count": null,
            "_view_module": "@jupyter-widgets/base",
            "_view_module_version": "1.2.0",
            "_view_name": "StyleView",
            "bar_color": null,
            "description_width": ""
          }
        },
        "bd80fea639b74154b97648c55fcf459a": {
          "model_module": "@jupyter-widgets/base",
          "model_name": "LayoutModel",
          "model_module_version": "1.2.0",
          "state": {
            "_model_module": "@jupyter-widgets/base",
            "_model_module_version": "1.2.0",
            "_model_name": "LayoutModel",
            "_view_count": null,
            "_view_module": "@jupyter-widgets/base",
            "_view_module_version": "1.2.0",
            "_view_name": "LayoutView",
            "align_content": null,
            "align_items": null,
            "align_self": null,
            "border": null,
            "bottom": null,
            "display": null,
            "flex": null,
            "flex_flow": null,
            "grid_area": null,
            "grid_auto_columns": null,
            "grid_auto_flow": null,
            "grid_auto_rows": null,
            "grid_column": null,
            "grid_gap": null,
            "grid_row": null,
            "grid_template_areas": null,
            "grid_template_columns": null,
            "grid_template_rows": null,
            "height": null,
            "justify_content": null,
            "justify_items": null,
            "left": null,
            "margin": null,
            "max_height": null,
            "max_width": null,
            "min_height": null,
            "min_width": null,
            "object_fit": null,
            "object_position": null,
            "order": null,
            "overflow": null,
            "overflow_x": null,
            "overflow_y": null,
            "padding": null,
            "right": null,
            "top": null,
            "visibility": null,
            "width": null
          }
        },
        "fc7965a9644d4ebd80752697d2413cc2": {
          "model_module": "@jupyter-widgets/controls",
          "model_name": "DescriptionStyleModel",
          "model_module_version": "1.5.0",
          "state": {
            "_model_module": "@jupyter-widgets/controls",
            "_model_module_version": "1.5.0",
            "_model_name": "DescriptionStyleModel",
            "_view_count": null,
            "_view_module": "@jupyter-widgets/base",
            "_view_module_version": "1.2.0",
            "_view_name": "StyleView",
            "description_width": ""
          }
        },
        "765fe7690d5e4ffe81496d639d787ba1": {
          "model_module": "@jupyter-widgets/controls",
          "model_name": "HBoxModel",
          "model_module_version": "1.5.0",
          "state": {
            "_dom_classes": [],
            "_model_module": "@jupyter-widgets/controls",
            "_model_module_version": "1.5.0",
            "_model_name": "HBoxModel",
            "_view_count": null,
            "_view_module": "@jupyter-widgets/controls",
            "_view_module_version": "1.5.0",
            "_view_name": "HBoxView",
            "box_style": "",
            "children": [
              "IPY_MODEL_4e7de5770aeb442e93a2a2b1220519ce",
              "IPY_MODEL_21583e42082048cb8309a2164462f5dc",
              "IPY_MODEL_0d46d787bad5469a9d8832bc7152b986"
            ],
            "layout": "IPY_MODEL_c11d9cbd80004ac3ac6da2fc5437667a"
          }
        },
        "4e7de5770aeb442e93a2a2b1220519ce": {
          "model_module": "@jupyter-widgets/controls",
          "model_name": "HTMLModel",
          "model_module_version": "1.5.0",
          "state": {
            "_dom_classes": [],
            "_model_module": "@jupyter-widgets/controls",
            "_model_module_version": "1.5.0",
            "_model_name": "HTMLModel",
            "_view_count": null,
            "_view_module": "@jupyter-widgets/controls",
            "_view_module_version": "1.5.0",
            "_view_name": "HTMLView",
            "description": "",
            "description_tooltip": null,
            "layout": "IPY_MODEL_d899a9a36a644c5eacaeb37a49220410",
            "placeholder": "​",
            "style": "IPY_MODEL_f01735d8ea6a41a690f756adec24fd18",
            "value": "model-00001-of-00004.safetensors: 100%"
          }
        },
        "21583e42082048cb8309a2164462f5dc": {
          "model_module": "@jupyter-widgets/controls",
          "model_name": "FloatProgressModel",
          "model_module_version": "1.5.0",
          "state": {
            "_dom_classes": [],
            "_model_module": "@jupyter-widgets/controls",
            "_model_module_version": "1.5.0",
            "_model_name": "FloatProgressModel",
            "_view_count": null,
            "_view_module": "@jupyter-widgets/controls",
            "_view_module_version": "1.5.0",
            "_view_name": "ProgressView",
            "bar_style": "success",
            "description": "",
            "description_tooltip": null,
            "layout": "IPY_MODEL_979c059b6c424711804356d071dc7ece",
            "max": 4976698672,
            "min": 0,
            "orientation": "horizontal",
            "style": "IPY_MODEL_1083d0d7c84e440da249abdcfb93a7ba",
            "value": 4976698672
          }
        },
        "0d46d787bad5469a9d8832bc7152b986": {
          "model_module": "@jupyter-widgets/controls",
          "model_name": "HTMLModel",
          "model_module_version": "1.5.0",
          "state": {
            "_dom_classes": [],
            "_model_module": "@jupyter-widgets/controls",
            "_model_module_version": "1.5.0",
            "_model_name": "HTMLModel",
            "_view_count": null,
            "_view_module": "@jupyter-widgets/controls",
            "_view_module_version": "1.5.0",
            "_view_name": "HTMLView",
            "description": "",
            "description_tooltip": null,
            "layout": "IPY_MODEL_8bdf11d5d86c40c88ffc3c6dd0447c8c",
            "placeholder": "​",
            "style": "IPY_MODEL_e14256daea2e4868bbaeef6b465e9f9b",
            "value": " 4.98G/4.98G [01:58&lt;00:00, 42.4MB/s]"
          }
        },
        "c11d9cbd80004ac3ac6da2fc5437667a": {
          "model_module": "@jupyter-widgets/base",
          "model_name": "LayoutModel",
          "model_module_version": "1.2.0",
          "state": {
            "_model_module": "@jupyter-widgets/base",
            "_model_module_version": "1.2.0",
            "_model_name": "LayoutModel",
            "_view_count": null,
            "_view_module": "@jupyter-widgets/base",
            "_view_module_version": "1.2.0",
            "_view_name": "LayoutView",
            "align_content": null,
            "align_items": null,
            "align_self": null,
            "border": null,
            "bottom": null,
            "display": null,
            "flex": null,
            "flex_flow": null,
            "grid_area": null,
            "grid_auto_columns": null,
            "grid_auto_flow": null,
            "grid_auto_rows": null,
            "grid_column": null,
            "grid_gap": null,
            "grid_row": null,
            "grid_template_areas": null,
            "grid_template_columns": null,
            "grid_template_rows": null,
            "height": null,
            "justify_content": null,
            "justify_items": null,
            "left": null,
            "margin": null,
            "max_height": null,
            "max_width": null,
            "min_height": null,
            "min_width": null,
            "object_fit": null,
            "object_position": null,
            "order": null,
            "overflow": null,
            "overflow_x": null,
            "overflow_y": null,
            "padding": null,
            "right": null,
            "top": null,
            "visibility": null,
            "width": null
          }
        },
        "d899a9a36a644c5eacaeb37a49220410": {
          "model_module": "@jupyter-widgets/base",
          "model_name": "LayoutModel",
          "model_module_version": "1.2.0",
          "state": {
            "_model_module": "@jupyter-widgets/base",
            "_model_module_version": "1.2.0",
            "_model_name": "LayoutModel",
            "_view_count": null,
            "_view_module": "@jupyter-widgets/base",
            "_view_module_version": "1.2.0",
            "_view_name": "LayoutView",
            "align_content": null,
            "align_items": null,
            "align_self": null,
            "border": null,
            "bottom": null,
            "display": null,
            "flex": null,
            "flex_flow": null,
            "grid_area": null,
            "grid_auto_columns": null,
            "grid_auto_flow": null,
            "grid_auto_rows": null,
            "grid_column": null,
            "grid_gap": null,
            "grid_row": null,
            "grid_template_areas": null,
            "grid_template_columns": null,
            "grid_template_rows": null,
            "height": null,
            "justify_content": null,
            "justify_items": null,
            "left": null,
            "margin": null,
            "max_height": null,
            "max_width": null,
            "min_height": null,
            "min_width": null,
            "object_fit": null,
            "object_position": null,
            "order": null,
            "overflow": null,
            "overflow_x": null,
            "overflow_y": null,
            "padding": null,
            "right": null,
            "top": null,
            "visibility": null,
            "width": null
          }
        },
        "f01735d8ea6a41a690f756adec24fd18": {
          "model_module": "@jupyter-widgets/controls",
          "model_name": "DescriptionStyleModel",
          "model_module_version": "1.5.0",
          "state": {
            "_model_module": "@jupyter-widgets/controls",
            "_model_module_version": "1.5.0",
            "_model_name": "DescriptionStyleModel",
            "_view_count": null,
            "_view_module": "@jupyter-widgets/base",
            "_view_module_version": "1.2.0",
            "_view_name": "StyleView",
            "description_width": ""
          }
        },
        "979c059b6c424711804356d071dc7ece": {
          "model_module": "@jupyter-widgets/base",
          "model_name": "LayoutModel",
          "model_module_version": "1.2.0",
          "state": {
            "_model_module": "@jupyter-widgets/base",
            "_model_module_version": "1.2.0",
            "_model_name": "LayoutModel",
            "_view_count": null,
            "_view_module": "@jupyter-widgets/base",
            "_view_module_version": "1.2.0",
            "_view_name": "LayoutView",
            "align_content": null,
            "align_items": null,
            "align_self": null,
            "border": null,
            "bottom": null,
            "display": null,
            "flex": null,
            "flex_flow": null,
            "grid_area": null,
            "grid_auto_columns": null,
            "grid_auto_flow": null,
            "grid_auto_rows": null,
            "grid_column": null,
            "grid_gap": null,
            "grid_row": null,
            "grid_template_areas": null,
            "grid_template_columns": null,
            "grid_template_rows": null,
            "height": null,
            "justify_content": null,
            "justify_items": null,
            "left": null,
            "margin": null,
            "max_height": null,
            "max_width": null,
            "min_height": null,
            "min_width": null,
            "object_fit": null,
            "object_position": null,
            "order": null,
            "overflow": null,
            "overflow_x": null,
            "overflow_y": null,
            "padding": null,
            "right": null,
            "top": null,
            "visibility": null,
            "width": null
          }
        },
        "1083d0d7c84e440da249abdcfb93a7ba": {
          "model_module": "@jupyter-widgets/controls",
          "model_name": "ProgressStyleModel",
          "model_module_version": "1.5.0",
          "state": {
            "_model_module": "@jupyter-widgets/controls",
            "_model_module_version": "1.5.0",
            "_model_name": "ProgressStyleModel",
            "_view_count": null,
            "_view_module": "@jupyter-widgets/base",
            "_view_module_version": "1.2.0",
            "_view_name": "StyleView",
            "bar_color": null,
            "description_width": ""
          }
        },
        "8bdf11d5d86c40c88ffc3c6dd0447c8c": {
          "model_module": "@jupyter-widgets/base",
          "model_name": "LayoutModel",
          "model_module_version": "1.2.0",
          "state": {
            "_model_module": "@jupyter-widgets/base",
            "_model_module_version": "1.2.0",
            "_model_name": "LayoutModel",
            "_view_count": null,
            "_view_module": "@jupyter-widgets/base",
            "_view_module_version": "1.2.0",
            "_view_name": "LayoutView",
            "align_content": null,
            "align_items": null,
            "align_self": null,
            "border": null,
            "bottom": null,
            "display": null,
            "flex": null,
            "flex_flow": null,
            "grid_area": null,
            "grid_auto_columns": null,
            "grid_auto_flow": null,
            "grid_auto_rows": null,
            "grid_column": null,
            "grid_gap": null,
            "grid_row": null,
            "grid_template_areas": null,
            "grid_template_columns": null,
            "grid_template_rows": null,
            "height": null,
            "justify_content": null,
            "justify_items": null,
            "left": null,
            "margin": null,
            "max_height": null,
            "max_width": null,
            "min_height": null,
            "min_width": null,
            "object_fit": null,
            "object_position": null,
            "order": null,
            "overflow": null,
            "overflow_x": null,
            "overflow_y": null,
            "padding": null,
            "right": null,
            "top": null,
            "visibility": null,
            "width": null
          }
        },
        "e14256daea2e4868bbaeef6b465e9f9b": {
          "model_module": "@jupyter-widgets/controls",
          "model_name": "DescriptionStyleModel",
          "model_module_version": "1.5.0",
          "state": {
            "_model_module": "@jupyter-widgets/controls",
            "_model_module_version": "1.5.0",
            "_model_name": "DescriptionStyleModel",
            "_view_count": null,
            "_view_module": "@jupyter-widgets/base",
            "_view_module_version": "1.2.0",
            "_view_name": "StyleView",
            "description_width": ""
          }
        },
        "7783937e06f048e7a0316fe940e4198b": {
          "model_module": "@jupyter-widgets/controls",
          "model_name": "HBoxModel",
          "model_module_version": "1.5.0",
          "state": {
            "_dom_classes": [],
            "_model_module": "@jupyter-widgets/controls",
            "_model_module_version": "1.5.0",
            "_model_name": "HBoxModel",
            "_view_count": null,
            "_view_module": "@jupyter-widgets/controls",
            "_view_module_version": "1.5.0",
            "_view_name": "HBoxView",
            "box_style": "",
            "children": [
              "IPY_MODEL_d81a867bac604597bcff563aebbf4731",
              "IPY_MODEL_de12aeaafa9b486cb0f187db2cf46355",
              "IPY_MODEL_f2fdbaa34bfa457a8a2067599dcea6bf"
            ],
            "layout": "IPY_MODEL_457991e289444814975fc13938f16f4a"
          }
        },
        "d81a867bac604597bcff563aebbf4731": {
          "model_module": "@jupyter-widgets/controls",
          "model_name": "HTMLModel",
          "model_module_version": "1.5.0",
          "state": {
            "_dom_classes": [],
            "_model_module": "@jupyter-widgets/controls",
            "_model_module_version": "1.5.0",
            "_model_name": "HTMLModel",
            "_view_count": null,
            "_view_module": "@jupyter-widgets/controls",
            "_view_module_version": "1.5.0",
            "_view_name": "HTMLView",
            "description": "",
            "description_tooltip": null,
            "layout": "IPY_MODEL_06867d6eea46439da849bf9d77414185",
            "placeholder": "​",
            "style": "IPY_MODEL_3a418a02edc5421eb7ac9d3303dc18eb",
            "value": "model-00002-of-00004.safetensors: 100%"
          }
        },
        "de12aeaafa9b486cb0f187db2cf46355": {
          "model_module": "@jupyter-widgets/controls",
          "model_name": "FloatProgressModel",
          "model_module_version": "1.5.0",
          "state": {
            "_dom_classes": [],
            "_model_module": "@jupyter-widgets/controls",
            "_model_module_version": "1.5.0",
            "_model_name": "FloatProgressModel",
            "_view_count": null,
            "_view_module": "@jupyter-widgets/controls",
            "_view_module_version": "1.5.0",
            "_view_name": "ProgressView",
            "bar_style": "success",
            "description": "",
            "description_tooltip": null,
            "layout": "IPY_MODEL_b4c60a99b4804fd2a970266829643eed",
            "max": 4999802720,
            "min": 0,
            "orientation": "horizontal",
            "style": "IPY_MODEL_79e180596570403586df44f4fed4a9f8",
            "value": 4999802720
          }
        },
        "f2fdbaa34bfa457a8a2067599dcea6bf": {
          "model_module": "@jupyter-widgets/controls",
          "model_name": "HTMLModel",
          "model_module_version": "1.5.0",
          "state": {
            "_dom_classes": [],
            "_model_module": "@jupyter-widgets/controls",
            "_model_module_version": "1.5.0",
            "_model_name": "HTMLModel",
            "_view_count": null,
            "_view_module": "@jupyter-widgets/controls",
            "_view_module_version": "1.5.0",
            "_view_name": "HTMLView",
            "description": "",
            "description_tooltip": null,
            "layout": "IPY_MODEL_e3775f067d084d259534253b9f064388",
            "placeholder": "​",
            "style": "IPY_MODEL_9a3e52a3448946b4a9f9f4e9062409ac",
            "value": " 5.00G/5.00G [01:58&lt;00:00, 41.7MB/s]"
          }
        },
        "457991e289444814975fc13938f16f4a": {
          "model_module": "@jupyter-widgets/base",
          "model_name": "LayoutModel",
          "model_module_version": "1.2.0",
          "state": {
            "_model_module": "@jupyter-widgets/base",
            "_model_module_version": "1.2.0",
            "_model_name": "LayoutModel",
            "_view_count": null,
            "_view_module": "@jupyter-widgets/base",
            "_view_module_version": "1.2.0",
            "_view_name": "LayoutView",
            "align_content": null,
            "align_items": null,
            "align_self": null,
            "border": null,
            "bottom": null,
            "display": null,
            "flex": null,
            "flex_flow": null,
            "grid_area": null,
            "grid_auto_columns": null,
            "grid_auto_flow": null,
            "grid_auto_rows": null,
            "grid_column": null,
            "grid_gap": null,
            "grid_row": null,
            "grid_template_areas": null,
            "grid_template_columns": null,
            "grid_template_rows": null,
            "height": null,
            "justify_content": null,
            "justify_items": null,
            "left": null,
            "margin": null,
            "max_height": null,
            "max_width": null,
            "min_height": null,
            "min_width": null,
            "object_fit": null,
            "object_position": null,
            "order": null,
            "overflow": null,
            "overflow_x": null,
            "overflow_y": null,
            "padding": null,
            "right": null,
            "top": null,
            "visibility": null,
            "width": null
          }
        },
        "06867d6eea46439da849bf9d77414185": {
          "model_module": "@jupyter-widgets/base",
          "model_name": "LayoutModel",
          "model_module_version": "1.2.0",
          "state": {
            "_model_module": "@jupyter-widgets/base",
            "_model_module_version": "1.2.0",
            "_model_name": "LayoutModel",
            "_view_count": null,
            "_view_module": "@jupyter-widgets/base",
            "_view_module_version": "1.2.0",
            "_view_name": "LayoutView",
            "align_content": null,
            "align_items": null,
            "align_self": null,
            "border": null,
            "bottom": null,
            "display": null,
            "flex": null,
            "flex_flow": null,
            "grid_area": null,
            "grid_auto_columns": null,
            "grid_auto_flow": null,
            "grid_auto_rows": null,
            "grid_column": null,
            "grid_gap": null,
            "grid_row": null,
            "grid_template_areas": null,
            "grid_template_columns": null,
            "grid_template_rows": null,
            "height": null,
            "justify_content": null,
            "justify_items": null,
            "left": null,
            "margin": null,
            "max_height": null,
            "max_width": null,
            "min_height": null,
            "min_width": null,
            "object_fit": null,
            "object_position": null,
            "order": null,
            "overflow": null,
            "overflow_x": null,
            "overflow_y": null,
            "padding": null,
            "right": null,
            "top": null,
            "visibility": null,
            "width": null
          }
        },
        "3a418a02edc5421eb7ac9d3303dc18eb": {
          "model_module": "@jupyter-widgets/controls",
          "model_name": "DescriptionStyleModel",
          "model_module_version": "1.5.0",
          "state": {
            "_model_module": "@jupyter-widgets/controls",
            "_model_module_version": "1.5.0",
            "_model_name": "DescriptionStyleModel",
            "_view_count": null,
            "_view_module": "@jupyter-widgets/base",
            "_view_module_version": "1.2.0",
            "_view_name": "StyleView",
            "description_width": ""
          }
        },
        "b4c60a99b4804fd2a970266829643eed": {
          "model_module": "@jupyter-widgets/base",
          "model_name": "LayoutModel",
          "model_module_version": "1.2.0",
          "state": {
            "_model_module": "@jupyter-widgets/base",
            "_model_module_version": "1.2.0",
            "_model_name": "LayoutModel",
            "_view_count": null,
            "_view_module": "@jupyter-widgets/base",
            "_view_module_version": "1.2.0",
            "_view_name": "LayoutView",
            "align_content": null,
            "align_items": null,
            "align_self": null,
            "border": null,
            "bottom": null,
            "display": null,
            "flex": null,
            "flex_flow": null,
            "grid_area": null,
            "grid_auto_columns": null,
            "grid_auto_flow": null,
            "grid_auto_rows": null,
            "grid_column": null,
            "grid_gap": null,
            "grid_row": null,
            "grid_template_areas": null,
            "grid_template_columns": null,
            "grid_template_rows": null,
            "height": null,
            "justify_content": null,
            "justify_items": null,
            "left": null,
            "margin": null,
            "max_height": null,
            "max_width": null,
            "min_height": null,
            "min_width": null,
            "object_fit": null,
            "object_position": null,
            "order": null,
            "overflow": null,
            "overflow_x": null,
            "overflow_y": null,
            "padding": null,
            "right": null,
            "top": null,
            "visibility": null,
            "width": null
          }
        },
        "79e180596570403586df44f4fed4a9f8": {
          "model_module": "@jupyter-widgets/controls",
          "model_name": "ProgressStyleModel",
          "model_module_version": "1.5.0",
          "state": {
            "_model_module": "@jupyter-widgets/controls",
            "_model_module_version": "1.5.0",
            "_model_name": "ProgressStyleModel",
            "_view_count": null,
            "_view_module": "@jupyter-widgets/base",
            "_view_module_version": "1.2.0",
            "_view_name": "StyleView",
            "bar_color": null,
            "description_width": ""
          }
        },
        "e3775f067d084d259534253b9f064388": {
          "model_module": "@jupyter-widgets/base",
          "model_name": "LayoutModel",
          "model_module_version": "1.2.0",
          "state": {
            "_model_module": "@jupyter-widgets/base",
            "_model_module_version": "1.2.0",
            "_model_name": "LayoutModel",
            "_view_count": null,
            "_view_module": "@jupyter-widgets/base",
            "_view_module_version": "1.2.0",
            "_view_name": "LayoutView",
            "align_content": null,
            "align_items": null,
            "align_self": null,
            "border": null,
            "bottom": null,
            "display": null,
            "flex": null,
            "flex_flow": null,
            "grid_area": null,
            "grid_auto_columns": null,
            "grid_auto_flow": null,
            "grid_auto_rows": null,
            "grid_column": null,
            "grid_gap": null,
            "grid_row": null,
            "grid_template_areas": null,
            "grid_template_columns": null,
            "grid_template_rows": null,
            "height": null,
            "justify_content": null,
            "justify_items": null,
            "left": null,
            "margin": null,
            "max_height": null,
            "max_width": null,
            "min_height": null,
            "min_width": null,
            "object_fit": null,
            "object_position": null,
            "order": null,
            "overflow": null,
            "overflow_x": null,
            "overflow_y": null,
            "padding": null,
            "right": null,
            "top": null,
            "visibility": null,
            "width": null
          }
        },
        "9a3e52a3448946b4a9f9f4e9062409ac": {
          "model_module": "@jupyter-widgets/controls",
          "model_name": "DescriptionStyleModel",
          "model_module_version": "1.5.0",
          "state": {
            "_model_module": "@jupyter-widgets/controls",
            "_model_module_version": "1.5.0",
            "_model_name": "DescriptionStyleModel",
            "_view_count": null,
            "_view_module": "@jupyter-widgets/base",
            "_view_module_version": "1.2.0",
            "_view_name": "StyleView",
            "description_width": ""
          }
        },
        "b4f4632d08a5493fb8ee60aa2b710f76": {
          "model_module": "@jupyter-widgets/controls",
          "model_name": "HBoxModel",
          "model_module_version": "1.5.0",
          "state": {
            "_dom_classes": [],
            "_model_module": "@jupyter-widgets/controls",
            "_model_module_version": "1.5.0",
            "_model_name": "HBoxModel",
            "_view_count": null,
            "_view_module": "@jupyter-widgets/controls",
            "_view_module_version": "1.5.0",
            "_view_name": "HBoxView",
            "box_style": "",
            "children": [
              "IPY_MODEL_08bade2e7e4d4607aca4a71b504ee4ae",
              "IPY_MODEL_5f8ef56e7ba84b2781d7126a038fa909",
              "IPY_MODEL_1a9cb7c73029429aa4186baf89d66349"
            ],
            "layout": "IPY_MODEL_47bb260ffc0c47fa86d2537f633cd98d"
          }
        },
        "08bade2e7e4d4607aca4a71b504ee4ae": {
          "model_module": "@jupyter-widgets/controls",
          "model_name": "HTMLModel",
          "model_module_version": "1.5.0",
          "state": {
            "_dom_classes": [],
            "_model_module": "@jupyter-widgets/controls",
            "_model_module_version": "1.5.0",
            "_model_name": "HTMLModel",
            "_view_count": null,
            "_view_module": "@jupyter-widgets/controls",
            "_view_module_version": "1.5.0",
            "_view_name": "HTMLView",
            "description": "",
            "description_tooltip": null,
            "layout": "IPY_MODEL_58d0562f29f745418ed331647b3d1aad",
            "placeholder": "​",
            "style": "IPY_MODEL_6d1481378cd346e3ab97f5cb5575a317",
            "value": "model-00003-of-00004.safetensors: 100%"
          }
        },
        "5f8ef56e7ba84b2781d7126a038fa909": {
          "model_module": "@jupyter-widgets/controls",
          "model_name": "FloatProgressModel",
          "model_module_version": "1.5.0",
          "state": {
            "_dom_classes": [],
            "_model_module": "@jupyter-widgets/controls",
            "_model_module_version": "1.5.0",
            "_model_name": "FloatProgressModel",
            "_view_count": null,
            "_view_module": "@jupyter-widgets/controls",
            "_view_module_version": "1.5.0",
            "_view_name": "ProgressView",
            "bar_style": "success",
            "description": "",
            "description_tooltip": null,
            "layout": "IPY_MODEL_a49ad19b8ef84ef3832e18b8b750433c",
            "max": 4915916176,
            "min": 0,
            "orientation": "horizontal",
            "style": "IPY_MODEL_2b15d4c57a84447e900d3f6c71e66a93",
            "value": 4915916176
          }
        },
        "1a9cb7c73029429aa4186baf89d66349": {
          "model_module": "@jupyter-widgets/controls",
          "model_name": "HTMLModel",
          "model_module_version": "1.5.0",
          "state": {
            "_dom_classes": [],
            "_model_module": "@jupyter-widgets/controls",
            "_model_module_version": "1.5.0",
            "_model_name": "HTMLModel",
            "_view_count": null,
            "_view_module": "@jupyter-widgets/controls",
            "_view_module_version": "1.5.0",
            "_view_name": "HTMLView",
            "description": "",
            "description_tooltip": null,
            "layout": "IPY_MODEL_af454031aead48e9ad32221eebf315bc",
            "placeholder": "​",
            "style": "IPY_MODEL_c77a5d1b9bff4328bb39fd871a640f9b",
            "value": " 4.92G/4.92G [01:56&lt;00:00, 42.5MB/s]"
          }
        },
        "47bb260ffc0c47fa86d2537f633cd98d": {
          "model_module": "@jupyter-widgets/base",
          "model_name": "LayoutModel",
          "model_module_version": "1.2.0",
          "state": {
            "_model_module": "@jupyter-widgets/base",
            "_model_module_version": "1.2.0",
            "_model_name": "LayoutModel",
            "_view_count": null,
            "_view_module": "@jupyter-widgets/base",
            "_view_module_version": "1.2.0",
            "_view_name": "LayoutView",
            "align_content": null,
            "align_items": null,
            "align_self": null,
            "border": null,
            "bottom": null,
            "display": null,
            "flex": null,
            "flex_flow": null,
            "grid_area": null,
            "grid_auto_columns": null,
            "grid_auto_flow": null,
            "grid_auto_rows": null,
            "grid_column": null,
            "grid_gap": null,
            "grid_row": null,
            "grid_template_areas": null,
            "grid_template_columns": null,
            "grid_template_rows": null,
            "height": null,
            "justify_content": null,
            "justify_items": null,
            "left": null,
            "margin": null,
            "max_height": null,
            "max_width": null,
            "min_height": null,
            "min_width": null,
            "object_fit": null,
            "object_position": null,
            "order": null,
            "overflow": null,
            "overflow_x": null,
            "overflow_y": null,
            "padding": null,
            "right": null,
            "top": null,
            "visibility": null,
            "width": null
          }
        },
        "58d0562f29f745418ed331647b3d1aad": {
          "model_module": "@jupyter-widgets/base",
          "model_name": "LayoutModel",
          "model_module_version": "1.2.0",
          "state": {
            "_model_module": "@jupyter-widgets/base",
            "_model_module_version": "1.2.0",
            "_model_name": "LayoutModel",
            "_view_count": null,
            "_view_module": "@jupyter-widgets/base",
            "_view_module_version": "1.2.0",
            "_view_name": "LayoutView",
            "align_content": null,
            "align_items": null,
            "align_self": null,
            "border": null,
            "bottom": null,
            "display": null,
            "flex": null,
            "flex_flow": null,
            "grid_area": null,
            "grid_auto_columns": null,
            "grid_auto_flow": null,
            "grid_auto_rows": null,
            "grid_column": null,
            "grid_gap": null,
            "grid_row": null,
            "grid_template_areas": null,
            "grid_template_columns": null,
            "grid_template_rows": null,
            "height": null,
            "justify_content": null,
            "justify_items": null,
            "left": null,
            "margin": null,
            "max_height": null,
            "max_width": null,
            "min_height": null,
            "min_width": null,
            "object_fit": null,
            "object_position": null,
            "order": null,
            "overflow": null,
            "overflow_x": null,
            "overflow_y": null,
            "padding": null,
            "right": null,
            "top": null,
            "visibility": null,
            "width": null
          }
        },
        "6d1481378cd346e3ab97f5cb5575a317": {
          "model_module": "@jupyter-widgets/controls",
          "model_name": "DescriptionStyleModel",
          "model_module_version": "1.5.0",
          "state": {
            "_model_module": "@jupyter-widgets/controls",
            "_model_module_version": "1.5.0",
            "_model_name": "DescriptionStyleModel",
            "_view_count": null,
            "_view_module": "@jupyter-widgets/base",
            "_view_module_version": "1.2.0",
            "_view_name": "StyleView",
            "description_width": ""
          }
        },
        "a49ad19b8ef84ef3832e18b8b750433c": {
          "model_module": "@jupyter-widgets/base",
          "model_name": "LayoutModel",
          "model_module_version": "1.2.0",
          "state": {
            "_model_module": "@jupyter-widgets/base",
            "_model_module_version": "1.2.0",
            "_model_name": "LayoutModel",
            "_view_count": null,
            "_view_module": "@jupyter-widgets/base",
            "_view_module_version": "1.2.0",
            "_view_name": "LayoutView",
            "align_content": null,
            "align_items": null,
            "align_self": null,
            "border": null,
            "bottom": null,
            "display": null,
            "flex": null,
            "flex_flow": null,
            "grid_area": null,
            "grid_auto_columns": null,
            "grid_auto_flow": null,
            "grid_auto_rows": null,
            "grid_column": null,
            "grid_gap": null,
            "grid_row": null,
            "grid_template_areas": null,
            "grid_template_columns": null,
            "grid_template_rows": null,
            "height": null,
            "justify_content": null,
            "justify_items": null,
            "left": null,
            "margin": null,
            "max_height": null,
            "max_width": null,
            "min_height": null,
            "min_width": null,
            "object_fit": null,
            "object_position": null,
            "order": null,
            "overflow": null,
            "overflow_x": null,
            "overflow_y": null,
            "padding": null,
            "right": null,
            "top": null,
            "visibility": null,
            "width": null
          }
        },
        "2b15d4c57a84447e900d3f6c71e66a93": {
          "model_module": "@jupyter-widgets/controls",
          "model_name": "ProgressStyleModel",
          "model_module_version": "1.5.0",
          "state": {
            "_model_module": "@jupyter-widgets/controls",
            "_model_module_version": "1.5.0",
            "_model_name": "ProgressStyleModel",
            "_view_count": null,
            "_view_module": "@jupyter-widgets/base",
            "_view_module_version": "1.2.0",
            "_view_name": "StyleView",
            "bar_color": null,
            "description_width": ""
          }
        },
        "af454031aead48e9ad32221eebf315bc": {
          "model_module": "@jupyter-widgets/base",
          "model_name": "LayoutModel",
          "model_module_version": "1.2.0",
          "state": {
            "_model_module": "@jupyter-widgets/base",
            "_model_module_version": "1.2.0",
            "_model_name": "LayoutModel",
            "_view_count": null,
            "_view_module": "@jupyter-widgets/base",
            "_view_module_version": "1.2.0",
            "_view_name": "LayoutView",
            "align_content": null,
            "align_items": null,
            "align_self": null,
            "border": null,
            "bottom": null,
            "display": null,
            "flex": null,
            "flex_flow": null,
            "grid_area": null,
            "grid_auto_columns": null,
            "grid_auto_flow": null,
            "grid_auto_rows": null,
            "grid_column": null,
            "grid_gap": null,
            "grid_row": null,
            "grid_template_areas": null,
            "grid_template_columns": null,
            "grid_template_rows": null,
            "height": null,
            "justify_content": null,
            "justify_items": null,
            "left": null,
            "margin": null,
            "max_height": null,
            "max_width": null,
            "min_height": null,
            "min_width": null,
            "object_fit": null,
            "object_position": null,
            "order": null,
            "overflow": null,
            "overflow_x": null,
            "overflow_y": null,
            "padding": null,
            "right": null,
            "top": null,
            "visibility": null,
            "width": null
          }
        },
        "c77a5d1b9bff4328bb39fd871a640f9b": {
          "model_module": "@jupyter-widgets/controls",
          "model_name": "DescriptionStyleModel",
          "model_module_version": "1.5.0",
          "state": {
            "_model_module": "@jupyter-widgets/controls",
            "_model_module_version": "1.5.0",
            "_model_name": "DescriptionStyleModel",
            "_view_count": null,
            "_view_module": "@jupyter-widgets/base",
            "_view_module_version": "1.2.0",
            "_view_name": "StyleView",
            "description_width": ""
          }
        },
        "a64be029765d423aa5e1c975e5bc9ad3": {
          "model_module": "@jupyter-widgets/controls",
          "model_name": "HBoxModel",
          "model_module_version": "1.5.0",
          "state": {
            "_dom_classes": [],
            "_model_module": "@jupyter-widgets/controls",
            "_model_module_version": "1.5.0",
            "_model_name": "HBoxModel",
            "_view_count": null,
            "_view_module": "@jupyter-widgets/controls",
            "_view_module_version": "1.5.0",
            "_view_name": "HBoxView",
            "box_style": "",
            "children": [
              "IPY_MODEL_020cb6006d184ba5ace5d5286bc60004",
              "IPY_MODEL_84462ed4bb8349bdaf4b15a830cdbc29",
              "IPY_MODEL_1fe08cebd29d4fdd8cb06f5cc0c11f42"
            ],
            "layout": "IPY_MODEL_835a4b6a62914f5b9a3d772b567cb908"
          }
        },
        "020cb6006d184ba5ace5d5286bc60004": {
          "model_module": "@jupyter-widgets/controls",
          "model_name": "HTMLModel",
          "model_module_version": "1.5.0",
          "state": {
            "_dom_classes": [],
            "_model_module": "@jupyter-widgets/controls",
            "_model_module_version": "1.5.0",
            "_model_name": "HTMLModel",
            "_view_count": null,
            "_view_module": "@jupyter-widgets/controls",
            "_view_module_version": "1.5.0",
            "_view_name": "HTMLView",
            "description": "",
            "description_tooltip": null,
            "layout": "IPY_MODEL_28eff3f4aac644bda2999b26239991c7",
            "placeholder": "​",
            "style": "IPY_MODEL_054e6670f06746499d22e34a832a3e60",
            "value": "model-00004-of-00004.safetensors: 100%"
          }
        },
        "84462ed4bb8349bdaf4b15a830cdbc29": {
          "model_module": "@jupyter-widgets/controls",
          "model_name": "FloatProgressModel",
          "model_module_version": "1.5.0",
          "state": {
            "_dom_classes": [],
            "_model_module": "@jupyter-widgets/controls",
            "_model_module_version": "1.5.0",
            "_model_name": "FloatProgressModel",
            "_view_count": null,
            "_view_module": "@jupyter-widgets/controls",
            "_view_module_version": "1.5.0",
            "_view_name": "ProgressView",
            "bar_style": "success",
            "description": "",
            "description_tooltip": null,
            "layout": "IPY_MODEL_9345dd7fb94e48068e59d9d8742275b2",
            "max": 1168138808,
            "min": 0,
            "orientation": "horizontal",
            "style": "IPY_MODEL_1d5d69f162e848d4af50d9b1a79fc7d5",
            "value": 1168138808
          }
        },
        "1fe08cebd29d4fdd8cb06f5cc0c11f42": {
          "model_module": "@jupyter-widgets/controls",
          "model_name": "HTMLModel",
          "model_module_version": "1.5.0",
          "state": {
            "_dom_classes": [],
            "_model_module": "@jupyter-widgets/controls",
            "_model_module_version": "1.5.0",
            "_model_name": "HTMLModel",
            "_view_count": null,
            "_view_module": "@jupyter-widgets/controls",
            "_view_module_version": "1.5.0",
            "_view_name": "HTMLView",
            "description": "",
            "description_tooltip": null,
            "layout": "IPY_MODEL_026bd95b730d4d72ab4aa28ae61c9f49",
            "placeholder": "​",
            "style": "IPY_MODEL_0fbddb44df8b4bbfae767730846e8309",
            "value": " 1.17G/1.17G [00:27&lt;00:00, 42.5MB/s]"
          }
        },
        "835a4b6a62914f5b9a3d772b567cb908": {
          "model_module": "@jupyter-widgets/base",
          "model_name": "LayoutModel",
          "model_module_version": "1.2.0",
          "state": {
            "_model_module": "@jupyter-widgets/base",
            "_model_module_version": "1.2.0",
            "_model_name": "LayoutModel",
            "_view_count": null,
            "_view_module": "@jupyter-widgets/base",
            "_view_module_version": "1.2.0",
            "_view_name": "LayoutView",
            "align_content": null,
            "align_items": null,
            "align_self": null,
            "border": null,
            "bottom": null,
            "display": null,
            "flex": null,
            "flex_flow": null,
            "grid_area": null,
            "grid_auto_columns": null,
            "grid_auto_flow": null,
            "grid_auto_rows": null,
            "grid_column": null,
            "grid_gap": null,
            "grid_row": null,
            "grid_template_areas": null,
            "grid_template_columns": null,
            "grid_template_rows": null,
            "height": null,
            "justify_content": null,
            "justify_items": null,
            "left": null,
            "margin": null,
            "max_height": null,
            "max_width": null,
            "min_height": null,
            "min_width": null,
            "object_fit": null,
            "object_position": null,
            "order": null,
            "overflow": null,
            "overflow_x": null,
            "overflow_y": null,
            "padding": null,
            "right": null,
            "top": null,
            "visibility": null,
            "width": null
          }
        },
        "28eff3f4aac644bda2999b26239991c7": {
          "model_module": "@jupyter-widgets/base",
          "model_name": "LayoutModel",
          "model_module_version": "1.2.0",
          "state": {
            "_model_module": "@jupyter-widgets/base",
            "_model_module_version": "1.2.0",
            "_model_name": "LayoutModel",
            "_view_count": null,
            "_view_module": "@jupyter-widgets/base",
            "_view_module_version": "1.2.0",
            "_view_name": "LayoutView",
            "align_content": null,
            "align_items": null,
            "align_self": null,
            "border": null,
            "bottom": null,
            "display": null,
            "flex": null,
            "flex_flow": null,
            "grid_area": null,
            "grid_auto_columns": null,
            "grid_auto_flow": null,
            "grid_auto_rows": null,
            "grid_column": null,
            "grid_gap": null,
            "grid_row": null,
            "grid_template_areas": null,
            "grid_template_columns": null,
            "grid_template_rows": null,
            "height": null,
            "justify_content": null,
            "justify_items": null,
            "left": null,
            "margin": null,
            "max_height": null,
            "max_width": null,
            "min_height": null,
            "min_width": null,
            "object_fit": null,
            "object_position": null,
            "order": null,
            "overflow": null,
            "overflow_x": null,
            "overflow_y": null,
            "padding": null,
            "right": null,
            "top": null,
            "visibility": null,
            "width": null
          }
        },
        "054e6670f06746499d22e34a832a3e60": {
          "model_module": "@jupyter-widgets/controls",
          "model_name": "DescriptionStyleModel",
          "model_module_version": "1.5.0",
          "state": {
            "_model_module": "@jupyter-widgets/controls",
            "_model_module_version": "1.5.0",
            "_model_name": "DescriptionStyleModel",
            "_view_count": null,
            "_view_module": "@jupyter-widgets/base",
            "_view_module_version": "1.2.0",
            "_view_name": "StyleView",
            "description_width": ""
          }
        },
        "9345dd7fb94e48068e59d9d8742275b2": {
          "model_module": "@jupyter-widgets/base",
          "model_name": "LayoutModel",
          "model_module_version": "1.2.0",
          "state": {
            "_model_module": "@jupyter-widgets/base",
            "_model_module_version": "1.2.0",
            "_model_name": "LayoutModel",
            "_view_count": null,
            "_view_module": "@jupyter-widgets/base",
            "_view_module_version": "1.2.0",
            "_view_name": "LayoutView",
            "align_content": null,
            "align_items": null,
            "align_self": null,
            "border": null,
            "bottom": null,
            "display": null,
            "flex": null,
            "flex_flow": null,
            "grid_area": null,
            "grid_auto_columns": null,
            "grid_auto_flow": null,
            "grid_auto_rows": null,
            "grid_column": null,
            "grid_gap": null,
            "grid_row": null,
            "grid_template_areas": null,
            "grid_template_columns": null,
            "grid_template_rows": null,
            "height": null,
            "justify_content": null,
            "justify_items": null,
            "left": null,
            "margin": null,
            "max_height": null,
            "max_width": null,
            "min_height": null,
            "min_width": null,
            "object_fit": null,
            "object_position": null,
            "order": null,
            "overflow": null,
            "overflow_x": null,
            "overflow_y": null,
            "padding": null,
            "right": null,
            "top": null,
            "visibility": null,
            "width": null
          }
        },
        "1d5d69f162e848d4af50d9b1a79fc7d5": {
          "model_module": "@jupyter-widgets/controls",
          "model_name": "ProgressStyleModel",
          "model_module_version": "1.5.0",
          "state": {
            "_model_module": "@jupyter-widgets/controls",
            "_model_module_version": "1.5.0",
            "_model_name": "ProgressStyleModel",
            "_view_count": null,
            "_view_module": "@jupyter-widgets/base",
            "_view_module_version": "1.2.0",
            "_view_name": "StyleView",
            "bar_color": null,
            "description_width": ""
          }
        },
        "026bd95b730d4d72ab4aa28ae61c9f49": {
          "model_module": "@jupyter-widgets/base",
          "model_name": "LayoutModel",
          "model_module_version": "1.2.0",
          "state": {
            "_model_module": "@jupyter-widgets/base",
            "_model_module_version": "1.2.0",
            "_model_name": "LayoutModel",
            "_view_count": null,
            "_view_module": "@jupyter-widgets/base",
            "_view_module_version": "1.2.0",
            "_view_name": "LayoutView",
            "align_content": null,
            "align_items": null,
            "align_self": null,
            "border": null,
            "bottom": null,
            "display": null,
            "flex": null,
            "flex_flow": null,
            "grid_area": null,
            "grid_auto_columns": null,
            "grid_auto_flow": null,
            "grid_auto_rows": null,
            "grid_column": null,
            "grid_gap": null,
            "grid_row": null,
            "grid_template_areas": null,
            "grid_template_columns": null,
            "grid_template_rows": null,
            "height": null,
            "justify_content": null,
            "justify_items": null,
            "left": null,
            "margin": null,
            "max_height": null,
            "max_width": null,
            "min_height": null,
            "min_width": null,
            "object_fit": null,
            "object_position": null,
            "order": null,
            "overflow": null,
            "overflow_x": null,
            "overflow_y": null,
            "padding": null,
            "right": null,
            "top": null,
            "visibility": null,
            "width": null
          }
        },
        "0fbddb44df8b4bbfae767730846e8309": {
          "model_module": "@jupyter-widgets/controls",
          "model_name": "DescriptionStyleModel",
          "model_module_version": "1.5.0",
          "state": {
            "_model_module": "@jupyter-widgets/controls",
            "_model_module_version": "1.5.0",
            "_model_name": "DescriptionStyleModel",
            "_view_count": null,
            "_view_module": "@jupyter-widgets/base",
            "_view_module_version": "1.2.0",
            "_view_name": "StyleView",
            "description_width": ""
          }
        },
        "0d7a8826aec142ccabed5c137b1bc5eb": {
          "model_module": "@jupyter-widgets/controls",
          "model_name": "HBoxModel",
          "model_module_version": "1.5.0",
          "state": {
            "_dom_classes": [],
            "_model_module": "@jupyter-widgets/controls",
            "_model_module_version": "1.5.0",
            "_model_name": "HBoxModel",
            "_view_count": null,
            "_view_module": "@jupyter-widgets/controls",
            "_view_module_version": "1.5.0",
            "_view_name": "HBoxView",
            "box_style": "",
            "children": [
              "IPY_MODEL_47fec19e067d41c68e5a4f95ffcf7ffe",
              "IPY_MODEL_a6b83f1831e04be8b48a2ba18f7d867d",
              "IPY_MODEL_6b653ebc67384e5ca5f82aaea14dd9ac"
            ],
            "layout": "IPY_MODEL_474a98f3ae394e21ae9da9818c4abc1f"
          }
        },
        "47fec19e067d41c68e5a4f95ffcf7ffe": {
          "model_module": "@jupyter-widgets/controls",
          "model_name": "HTMLModel",
          "model_module_version": "1.5.0",
          "state": {
            "_dom_classes": [],
            "_model_module": "@jupyter-widgets/controls",
            "_model_module_version": "1.5.0",
            "_model_name": "HTMLModel",
            "_view_count": null,
            "_view_module": "@jupyter-widgets/controls",
            "_view_module_version": "1.5.0",
            "_view_name": "HTMLView",
            "description": "",
            "description_tooltip": null,
            "layout": "IPY_MODEL_f835ce9d256a4274a4fc10f05475c4e9",
            "placeholder": "​",
            "style": "IPY_MODEL_bf7e4a5ffa734a39988a5c13651aff6a",
            "value": "Loading checkpoint shards: 100%"
          }
        },
        "a6b83f1831e04be8b48a2ba18f7d867d": {
          "model_module": "@jupyter-widgets/controls",
          "model_name": "FloatProgressModel",
          "model_module_version": "1.5.0",
          "state": {
            "_dom_classes": [],
            "_model_module": "@jupyter-widgets/controls",
            "_model_module_version": "1.5.0",
            "_model_name": "FloatProgressModel",
            "_view_count": null,
            "_view_module": "@jupyter-widgets/controls",
            "_view_module_version": "1.5.0",
            "_view_name": "ProgressView",
            "bar_style": "success",
            "description": "",
            "description_tooltip": null,
            "layout": "IPY_MODEL_409231485fa745bd9799951ff54a917a",
            "max": 4,
            "min": 0,
            "orientation": "horizontal",
            "style": "IPY_MODEL_0c5c7e47a26447b9981466e2d7290d99",
            "value": 4
          }
        },
        "6b653ebc67384e5ca5f82aaea14dd9ac": {
          "model_module": "@jupyter-widgets/controls",
          "model_name": "HTMLModel",
          "model_module_version": "1.5.0",
          "state": {
            "_dom_classes": [],
            "_model_module": "@jupyter-widgets/controls",
            "_model_module_version": "1.5.0",
            "_model_name": "HTMLModel",
            "_view_count": null,
            "_view_module": "@jupyter-widgets/controls",
            "_view_module_version": "1.5.0",
            "_view_name": "HTMLView",
            "description": "",
            "description_tooltip": null,
            "layout": "IPY_MODEL_190e5d7fed8d48cebe5f668b28dbca27",
            "placeholder": "​",
            "style": "IPY_MODEL_dd6c521f078a4dde8a8aedd962f67fbb",
            "value": " 4/4 [01:17&lt;00:00, 17.03s/it]"
          }
        },
        "474a98f3ae394e21ae9da9818c4abc1f": {
          "model_module": "@jupyter-widgets/base",
          "model_name": "LayoutModel",
          "model_module_version": "1.2.0",
          "state": {
            "_model_module": "@jupyter-widgets/base",
            "_model_module_version": "1.2.0",
            "_model_name": "LayoutModel",
            "_view_count": null,
            "_view_module": "@jupyter-widgets/base",
            "_view_module_version": "1.2.0",
            "_view_name": "LayoutView",
            "align_content": null,
            "align_items": null,
            "align_self": null,
            "border": null,
            "bottom": null,
            "display": null,
            "flex": null,
            "flex_flow": null,
            "grid_area": null,
            "grid_auto_columns": null,
            "grid_auto_flow": null,
            "grid_auto_rows": null,
            "grid_column": null,
            "grid_gap": null,
            "grid_row": null,
            "grid_template_areas": null,
            "grid_template_columns": null,
            "grid_template_rows": null,
            "height": null,
            "justify_content": null,
            "justify_items": null,
            "left": null,
            "margin": null,
            "max_height": null,
            "max_width": null,
            "min_height": null,
            "min_width": null,
            "object_fit": null,
            "object_position": null,
            "order": null,
            "overflow": null,
            "overflow_x": null,
            "overflow_y": null,
            "padding": null,
            "right": null,
            "top": null,
            "visibility": null,
            "width": null
          }
        },
        "f835ce9d256a4274a4fc10f05475c4e9": {
          "model_module": "@jupyter-widgets/base",
          "model_name": "LayoutModel",
          "model_module_version": "1.2.0",
          "state": {
            "_model_module": "@jupyter-widgets/base",
            "_model_module_version": "1.2.0",
            "_model_name": "LayoutModel",
            "_view_count": null,
            "_view_module": "@jupyter-widgets/base",
            "_view_module_version": "1.2.0",
            "_view_name": "LayoutView",
            "align_content": null,
            "align_items": null,
            "align_self": null,
            "border": null,
            "bottom": null,
            "display": null,
            "flex": null,
            "flex_flow": null,
            "grid_area": null,
            "grid_auto_columns": null,
            "grid_auto_flow": null,
            "grid_auto_rows": null,
            "grid_column": null,
            "grid_gap": null,
            "grid_row": null,
            "grid_template_areas": null,
            "grid_template_columns": null,
            "grid_template_rows": null,
            "height": null,
            "justify_content": null,
            "justify_items": null,
            "left": null,
            "margin": null,
            "max_height": null,
            "max_width": null,
            "min_height": null,
            "min_width": null,
            "object_fit": null,
            "object_position": null,
            "order": null,
            "overflow": null,
            "overflow_x": null,
            "overflow_y": null,
            "padding": null,
            "right": null,
            "top": null,
            "visibility": null,
            "width": null
          }
        },
        "bf7e4a5ffa734a39988a5c13651aff6a": {
          "model_module": "@jupyter-widgets/controls",
          "model_name": "DescriptionStyleModel",
          "model_module_version": "1.5.0",
          "state": {
            "_model_module": "@jupyter-widgets/controls",
            "_model_module_version": "1.5.0",
            "_model_name": "DescriptionStyleModel",
            "_view_count": null,
            "_view_module": "@jupyter-widgets/base",
            "_view_module_version": "1.2.0",
            "_view_name": "StyleView",
            "description_width": ""
          }
        },
        "409231485fa745bd9799951ff54a917a": {
          "model_module": "@jupyter-widgets/base",
          "model_name": "LayoutModel",
          "model_module_version": "1.2.0",
          "state": {
            "_model_module": "@jupyter-widgets/base",
            "_model_module_version": "1.2.0",
            "_model_name": "LayoutModel",
            "_view_count": null,
            "_view_module": "@jupyter-widgets/base",
            "_view_module_version": "1.2.0",
            "_view_name": "LayoutView",
            "align_content": null,
            "align_items": null,
            "align_self": null,
            "border": null,
            "bottom": null,
            "display": null,
            "flex": null,
            "flex_flow": null,
            "grid_area": null,
            "grid_auto_columns": null,
            "grid_auto_flow": null,
            "grid_auto_rows": null,
            "grid_column": null,
            "grid_gap": null,
            "grid_row": null,
            "grid_template_areas": null,
            "grid_template_columns": null,
            "grid_template_rows": null,
            "height": null,
            "justify_content": null,
            "justify_items": null,
            "left": null,
            "margin": null,
            "max_height": null,
            "max_width": null,
            "min_height": null,
            "min_width": null,
            "object_fit": null,
            "object_position": null,
            "order": null,
            "overflow": null,
            "overflow_x": null,
            "overflow_y": null,
            "padding": null,
            "right": null,
            "top": null,
            "visibility": null,
            "width": null
          }
        },
        "0c5c7e47a26447b9981466e2d7290d99": {
          "model_module": "@jupyter-widgets/controls",
          "model_name": "ProgressStyleModel",
          "model_module_version": "1.5.0",
          "state": {
            "_model_module": "@jupyter-widgets/controls",
            "_model_module_version": "1.5.0",
            "_model_name": "ProgressStyleModel",
            "_view_count": null,
            "_view_module": "@jupyter-widgets/base",
            "_view_module_version": "1.2.0",
            "_view_name": "StyleView",
            "bar_color": null,
            "description_width": ""
          }
        },
        "190e5d7fed8d48cebe5f668b28dbca27": {
          "model_module": "@jupyter-widgets/base",
          "model_name": "LayoutModel",
          "model_module_version": "1.2.0",
          "state": {
            "_model_module": "@jupyter-widgets/base",
            "_model_module_version": "1.2.0",
            "_model_name": "LayoutModel",
            "_view_count": null,
            "_view_module": "@jupyter-widgets/base",
            "_view_module_version": "1.2.0",
            "_view_name": "LayoutView",
            "align_content": null,
            "align_items": null,
            "align_self": null,
            "border": null,
            "bottom": null,
            "display": null,
            "flex": null,
            "flex_flow": null,
            "grid_area": null,
            "grid_auto_columns": null,
            "grid_auto_flow": null,
            "grid_auto_rows": null,
            "grid_column": null,
            "grid_gap": null,
            "grid_row": null,
            "grid_template_areas": null,
            "grid_template_columns": null,
            "grid_template_rows": null,
            "height": null,
            "justify_content": null,
            "justify_items": null,
            "left": null,
            "margin": null,
            "max_height": null,
            "max_width": null,
            "min_height": null,
            "min_width": null,
            "object_fit": null,
            "object_position": null,
            "order": null,
            "overflow": null,
            "overflow_x": null,
            "overflow_y": null,
            "padding": null,
            "right": null,
            "top": null,
            "visibility": null,
            "width": null
          }
        },
        "dd6c521f078a4dde8a8aedd962f67fbb": {
          "model_module": "@jupyter-widgets/controls",
          "model_name": "DescriptionStyleModel",
          "model_module_version": "1.5.0",
          "state": {
            "_model_module": "@jupyter-widgets/controls",
            "_model_module_version": "1.5.0",
            "_model_name": "DescriptionStyleModel",
            "_view_count": null,
            "_view_module": "@jupyter-widgets/base",
            "_view_module_version": "1.2.0",
            "_view_name": "StyleView",
            "description_width": ""
          }
        },
        "c13b456c92e84c81bd09c8e5a515cc45": {
          "model_module": "@jupyter-widgets/controls",
          "model_name": "HBoxModel",
          "model_module_version": "1.5.0",
          "state": {
            "_dom_classes": [],
            "_model_module": "@jupyter-widgets/controls",
            "_model_module_version": "1.5.0",
            "_model_name": "HBoxModel",
            "_view_count": null,
            "_view_module": "@jupyter-widgets/controls",
            "_view_module_version": "1.5.0",
            "_view_name": "HBoxView",
            "box_style": "",
            "children": [
              "IPY_MODEL_c2bbd77d577047d486fdf50b750ade94",
              "IPY_MODEL_5cfe504ccce74fb6ae175e132f27438d",
              "IPY_MODEL_d1c41aa4059f4b9ba80688f5298b5f31"
            ],
            "layout": "IPY_MODEL_fb2f97381ac1469da2f487680bfcd24a"
          }
        },
        "c2bbd77d577047d486fdf50b750ade94": {
          "model_module": "@jupyter-widgets/controls",
          "model_name": "HTMLModel",
          "model_module_version": "1.5.0",
          "state": {
            "_dom_classes": [],
            "_model_module": "@jupyter-widgets/controls",
            "_model_module_version": "1.5.0",
            "_model_name": "HTMLModel",
            "_view_count": null,
            "_view_module": "@jupyter-widgets/controls",
            "_view_module_version": "1.5.0",
            "_view_name": "HTMLView",
            "description": "",
            "description_tooltip": null,
            "layout": "IPY_MODEL_fff8c56748234d7bb753a6c0d6e5f2c6",
            "placeholder": "​",
            "style": "IPY_MODEL_d2bf248318db4e5fb3b1c7477f7e0f7b",
            "value": "generation_config.json: 100%"
          }
        },
        "5cfe504ccce74fb6ae175e132f27438d": {
          "model_module": "@jupyter-widgets/controls",
          "model_name": "FloatProgressModel",
          "model_module_version": "1.5.0",
          "state": {
            "_dom_classes": [],
            "_model_module": "@jupyter-widgets/controls",
            "_model_module_version": "1.5.0",
            "_model_name": "FloatProgressModel",
            "_view_count": null,
            "_view_module": "@jupyter-widgets/controls",
            "_view_module_version": "1.5.0",
            "_view_name": "ProgressView",
            "bar_style": "success",
            "description": "",
            "description_tooltip": null,
            "layout": "IPY_MODEL_85bf2c0c13364394953ec5b38e1fc778",
            "max": 184,
            "min": 0,
            "orientation": "horizontal",
            "style": "IPY_MODEL_766ccf4ee9ee42b4ac6f569c597e7478",
            "value": 184
          }
        },
        "d1c41aa4059f4b9ba80688f5298b5f31": {
          "model_module": "@jupyter-widgets/controls",
          "model_name": "HTMLModel",
          "model_module_version": "1.5.0",
          "state": {
            "_dom_classes": [],
            "_model_module": "@jupyter-widgets/controls",
            "_model_module_version": "1.5.0",
            "_model_name": "HTMLModel",
            "_view_count": null,
            "_view_module": "@jupyter-widgets/controls",
            "_view_module_version": "1.5.0",
            "_view_name": "HTMLView",
            "description": "",
            "description_tooltip": null,
            "layout": "IPY_MODEL_b55f0e9bb5824194a78405d0270411fc",
            "placeholder": "​",
            "style": "IPY_MODEL_3b312403d5fd4d30b6337aa1364049df",
            "value": " 184/184 [00:00&lt;00:00, 7.53kB/s]"
          }
        },
        "fb2f97381ac1469da2f487680bfcd24a": {
          "model_module": "@jupyter-widgets/base",
          "model_name": "LayoutModel",
          "model_module_version": "1.2.0",
          "state": {
            "_model_module": "@jupyter-widgets/base",
            "_model_module_version": "1.2.0",
            "_model_name": "LayoutModel",
            "_view_count": null,
            "_view_module": "@jupyter-widgets/base",
            "_view_module_version": "1.2.0",
            "_view_name": "LayoutView",
            "align_content": null,
            "align_items": null,
            "align_self": null,
            "border": null,
            "bottom": null,
            "display": null,
            "flex": null,
            "flex_flow": null,
            "grid_area": null,
            "grid_auto_columns": null,
            "grid_auto_flow": null,
            "grid_auto_rows": null,
            "grid_column": null,
            "grid_gap": null,
            "grid_row": null,
            "grid_template_areas": null,
            "grid_template_columns": null,
            "grid_template_rows": null,
            "height": null,
            "justify_content": null,
            "justify_items": null,
            "left": null,
            "margin": null,
            "max_height": null,
            "max_width": null,
            "min_height": null,
            "min_width": null,
            "object_fit": null,
            "object_position": null,
            "order": null,
            "overflow": null,
            "overflow_x": null,
            "overflow_y": null,
            "padding": null,
            "right": null,
            "top": null,
            "visibility": null,
            "width": null
          }
        },
        "fff8c56748234d7bb753a6c0d6e5f2c6": {
          "model_module": "@jupyter-widgets/base",
          "model_name": "LayoutModel",
          "model_module_version": "1.2.0",
          "state": {
            "_model_module": "@jupyter-widgets/base",
            "_model_module_version": "1.2.0",
            "_model_name": "LayoutModel",
            "_view_count": null,
            "_view_module": "@jupyter-widgets/base",
            "_view_module_version": "1.2.0",
            "_view_name": "LayoutView",
            "align_content": null,
            "align_items": null,
            "align_self": null,
            "border": null,
            "bottom": null,
            "display": null,
            "flex": null,
            "flex_flow": null,
            "grid_area": null,
            "grid_auto_columns": null,
            "grid_auto_flow": null,
            "grid_auto_rows": null,
            "grid_column": null,
            "grid_gap": null,
            "grid_row": null,
            "grid_template_areas": null,
            "grid_template_columns": null,
            "grid_template_rows": null,
            "height": null,
            "justify_content": null,
            "justify_items": null,
            "left": null,
            "margin": null,
            "max_height": null,
            "max_width": null,
            "min_height": null,
            "min_width": null,
            "object_fit": null,
            "object_position": null,
            "order": null,
            "overflow": null,
            "overflow_x": null,
            "overflow_y": null,
            "padding": null,
            "right": null,
            "top": null,
            "visibility": null,
            "width": null
          }
        },
        "d2bf248318db4e5fb3b1c7477f7e0f7b": {
          "model_module": "@jupyter-widgets/controls",
          "model_name": "DescriptionStyleModel",
          "model_module_version": "1.5.0",
          "state": {
            "_model_module": "@jupyter-widgets/controls",
            "_model_module_version": "1.5.0",
            "_model_name": "DescriptionStyleModel",
            "_view_count": null,
            "_view_module": "@jupyter-widgets/base",
            "_view_module_version": "1.2.0",
            "_view_name": "StyleView",
            "description_width": ""
          }
        },
        "85bf2c0c13364394953ec5b38e1fc778": {
          "model_module": "@jupyter-widgets/base",
          "model_name": "LayoutModel",
          "model_module_version": "1.2.0",
          "state": {
            "_model_module": "@jupyter-widgets/base",
            "_model_module_version": "1.2.0",
            "_model_name": "LayoutModel",
            "_view_count": null,
            "_view_module": "@jupyter-widgets/base",
            "_view_module_version": "1.2.0",
            "_view_name": "LayoutView",
            "align_content": null,
            "align_items": null,
            "align_self": null,
            "border": null,
            "bottom": null,
            "display": null,
            "flex": null,
            "flex_flow": null,
            "grid_area": null,
            "grid_auto_columns": null,
            "grid_auto_flow": null,
            "grid_auto_rows": null,
            "grid_column": null,
            "grid_gap": null,
            "grid_row": null,
            "grid_template_areas": null,
            "grid_template_columns": null,
            "grid_template_rows": null,
            "height": null,
            "justify_content": null,
            "justify_items": null,
            "left": null,
            "margin": null,
            "max_height": null,
            "max_width": null,
            "min_height": null,
            "min_width": null,
            "object_fit": null,
            "object_position": null,
            "order": null,
            "overflow": null,
            "overflow_x": null,
            "overflow_y": null,
            "padding": null,
            "right": null,
            "top": null,
            "visibility": null,
            "width": null
          }
        },
        "766ccf4ee9ee42b4ac6f569c597e7478": {
          "model_module": "@jupyter-widgets/controls",
          "model_name": "ProgressStyleModel",
          "model_module_version": "1.5.0",
          "state": {
            "_model_module": "@jupyter-widgets/controls",
            "_model_module_version": "1.5.0",
            "_model_name": "ProgressStyleModel",
            "_view_count": null,
            "_view_module": "@jupyter-widgets/base",
            "_view_module_version": "1.2.0",
            "_view_name": "StyleView",
            "bar_color": null,
            "description_width": ""
          }
        },
        "b55f0e9bb5824194a78405d0270411fc": {
          "model_module": "@jupyter-widgets/base",
          "model_name": "LayoutModel",
          "model_module_version": "1.2.0",
          "state": {
            "_model_module": "@jupyter-widgets/base",
            "_model_module_version": "1.2.0",
            "_model_name": "LayoutModel",
            "_view_count": null,
            "_view_module": "@jupyter-widgets/base",
            "_view_module_version": "1.2.0",
            "_view_name": "LayoutView",
            "align_content": null,
            "align_items": null,
            "align_self": null,
            "border": null,
            "bottom": null,
            "display": null,
            "flex": null,
            "flex_flow": null,
            "grid_area": null,
            "grid_auto_columns": null,
            "grid_auto_flow": null,
            "grid_auto_rows": null,
            "grid_column": null,
            "grid_gap": null,
            "grid_row": null,
            "grid_template_areas": null,
            "grid_template_columns": null,
            "grid_template_rows": null,
            "height": null,
            "justify_content": null,
            "justify_items": null,
            "left": null,
            "margin": null,
            "max_height": null,
            "max_width": null,
            "min_height": null,
            "min_width": null,
            "object_fit": null,
            "object_position": null,
            "order": null,
            "overflow": null,
            "overflow_x": null,
            "overflow_y": null,
            "padding": null,
            "right": null,
            "top": null,
            "visibility": null,
            "width": null
          }
        },
        "3b312403d5fd4d30b6337aa1364049df": {
          "model_module": "@jupyter-widgets/controls",
          "model_name": "DescriptionStyleModel",
          "model_module_version": "1.5.0",
          "state": {
            "_model_module": "@jupyter-widgets/controls",
            "_model_module_version": "1.5.0",
            "_model_name": "DescriptionStyleModel",
            "_view_count": null,
            "_view_module": "@jupyter-widgets/base",
            "_view_module_version": "1.2.0",
            "_view_name": "StyleView",
            "description_width": ""
          }
        },
        "f9651fd56c954180965de9b9731962a5": {
          "model_module": "@jupyter-widgets/controls",
          "model_name": "HBoxModel",
          "model_module_version": "1.5.0",
          "state": {
            "_dom_classes": [],
            "_model_module": "@jupyter-widgets/controls",
            "_model_module_version": "1.5.0",
            "_model_name": "HBoxModel",
            "_view_count": null,
            "_view_module": "@jupyter-widgets/controls",
            "_view_module_version": "1.5.0",
            "_view_name": "HBoxView",
            "box_style": "",
            "children": [
              "IPY_MODEL_0c2690209da44c78afe9b7c11bdfee2c",
              "IPY_MODEL_2ee2d14ab75f4703aabe5df7032e0bfa",
              "IPY_MODEL_15a18ab7995d41fb8c6d3753bacb33ca"
            ],
            "layout": "IPY_MODEL_d930fc4b1d51497d9440afeb344618b6"
          }
        },
        "0c2690209da44c78afe9b7c11bdfee2c": {
          "model_module": "@jupyter-widgets/controls",
          "model_name": "HTMLModel",
          "model_module_version": "1.5.0",
          "state": {
            "_dom_classes": [],
            "_model_module": "@jupyter-widgets/controls",
            "_model_module_version": "1.5.0",
            "_model_name": "HTMLModel",
            "_view_count": null,
            "_view_module": "@jupyter-widgets/controls",
            "_view_module_version": "1.5.0",
            "_view_name": "HTMLView",
            "description": "",
            "description_tooltip": null,
            "layout": "IPY_MODEL_3f66790d73cf4c46b836526bc5aa9cc8",
            "placeholder": "​",
            "style": "IPY_MODEL_0768b3a45e494f8d9661873679cc8fc0",
            "value": "Downloading shards: 100%"
          }
        },
        "2ee2d14ab75f4703aabe5df7032e0bfa": {
          "model_module": "@jupyter-widgets/controls",
          "model_name": "FloatProgressModel",
          "model_module_version": "1.5.0",
          "state": {
            "_dom_classes": [],
            "_model_module": "@jupyter-widgets/controls",
            "_model_module_version": "1.5.0",
            "_model_name": "FloatProgressModel",
            "_view_count": null,
            "_view_module": "@jupyter-widgets/controls",
            "_view_module_version": "1.5.0",
            "_view_name": "ProgressView",
            "bar_style": "success",
            "description": "",
            "description_tooltip": null,
            "layout": "IPY_MODEL_07f622dceb36489eb647e421b9a93212",
            "max": 3,
            "min": 0,
            "orientation": "horizontal",
            "style": "IPY_MODEL_f9d134b631414d18848ddd1d0b9b2970",
            "value": 3
          }
        },
        "15a18ab7995d41fb8c6d3753bacb33ca": {
          "model_module": "@jupyter-widgets/controls",
          "model_name": "HTMLModel",
          "model_module_version": "1.5.0",
          "state": {
            "_dom_classes": [],
            "_model_module": "@jupyter-widgets/controls",
            "_model_module_version": "1.5.0",
            "_model_name": "HTMLModel",
            "_view_count": null,
            "_view_module": "@jupyter-widgets/controls",
            "_view_module_version": "1.5.0",
            "_view_name": "HTMLView",
            "description": "",
            "description_tooltip": null,
            "layout": "IPY_MODEL_116b3dd9cd9d48d2a45a0402d17091c9",
            "placeholder": "​",
            "style": "IPY_MODEL_8b6af7f1faa24757aaee44d06fc43160",
            "value": " 3/3 [05:06&lt;00:00, 105.80s/it]"
          }
        },
        "d930fc4b1d51497d9440afeb344618b6": {
          "model_module": "@jupyter-widgets/base",
          "model_name": "LayoutModel",
          "model_module_version": "1.2.0",
          "state": {
            "_model_module": "@jupyter-widgets/base",
            "_model_module_version": "1.2.0",
            "_model_name": "LayoutModel",
            "_view_count": null,
            "_view_module": "@jupyter-widgets/base",
            "_view_module_version": "1.2.0",
            "_view_name": "LayoutView",
            "align_content": null,
            "align_items": null,
            "align_self": null,
            "border": null,
            "bottom": null,
            "display": null,
            "flex": null,
            "flex_flow": null,
            "grid_area": null,
            "grid_auto_columns": null,
            "grid_auto_flow": null,
            "grid_auto_rows": null,
            "grid_column": null,
            "grid_gap": null,
            "grid_row": null,
            "grid_template_areas": null,
            "grid_template_columns": null,
            "grid_template_rows": null,
            "height": null,
            "justify_content": null,
            "justify_items": null,
            "left": null,
            "margin": null,
            "max_height": null,
            "max_width": null,
            "min_height": null,
            "min_width": null,
            "object_fit": null,
            "object_position": null,
            "order": null,
            "overflow": null,
            "overflow_x": null,
            "overflow_y": null,
            "padding": null,
            "right": null,
            "top": null,
            "visibility": null,
            "width": null
          }
        },
        "3f66790d73cf4c46b836526bc5aa9cc8": {
          "model_module": "@jupyter-widgets/base",
          "model_name": "LayoutModel",
          "model_module_version": "1.2.0",
          "state": {
            "_model_module": "@jupyter-widgets/base",
            "_model_module_version": "1.2.0",
            "_model_name": "LayoutModel",
            "_view_count": null,
            "_view_module": "@jupyter-widgets/base",
            "_view_module_version": "1.2.0",
            "_view_name": "LayoutView",
            "align_content": null,
            "align_items": null,
            "align_self": null,
            "border": null,
            "bottom": null,
            "display": null,
            "flex": null,
            "flex_flow": null,
            "grid_area": null,
            "grid_auto_columns": null,
            "grid_auto_flow": null,
            "grid_auto_rows": null,
            "grid_column": null,
            "grid_gap": null,
            "grid_row": null,
            "grid_template_areas": null,
            "grid_template_columns": null,
            "grid_template_rows": null,
            "height": null,
            "justify_content": null,
            "justify_items": null,
            "left": null,
            "margin": null,
            "max_height": null,
            "max_width": null,
            "min_height": null,
            "min_width": null,
            "object_fit": null,
            "object_position": null,
            "order": null,
            "overflow": null,
            "overflow_x": null,
            "overflow_y": null,
            "padding": null,
            "right": null,
            "top": null,
            "visibility": null,
            "width": null
          }
        },
        "0768b3a45e494f8d9661873679cc8fc0": {
          "model_module": "@jupyter-widgets/controls",
          "model_name": "DescriptionStyleModel",
          "model_module_version": "1.5.0",
          "state": {
            "_model_module": "@jupyter-widgets/controls",
            "_model_module_version": "1.5.0",
            "_model_name": "DescriptionStyleModel",
            "_view_count": null,
            "_view_module": "@jupyter-widgets/base",
            "_view_module_version": "1.2.0",
            "_view_name": "StyleView",
            "description_width": ""
          }
        },
        "07f622dceb36489eb647e421b9a93212": {
          "model_module": "@jupyter-widgets/base",
          "model_name": "LayoutModel",
          "model_module_version": "1.2.0",
          "state": {
            "_model_module": "@jupyter-widgets/base",
            "_model_module_version": "1.2.0",
            "_model_name": "LayoutModel",
            "_view_count": null,
            "_view_module": "@jupyter-widgets/base",
            "_view_module_version": "1.2.0",
            "_view_name": "LayoutView",
            "align_content": null,
            "align_items": null,
            "align_self": null,
            "border": null,
            "bottom": null,
            "display": null,
            "flex": null,
            "flex_flow": null,
            "grid_area": null,
            "grid_auto_columns": null,
            "grid_auto_flow": null,
            "grid_auto_rows": null,
            "grid_column": null,
            "grid_gap": null,
            "grid_row": null,
            "grid_template_areas": null,
            "grid_template_columns": null,
            "grid_template_rows": null,
            "height": null,
            "justify_content": null,
            "justify_items": null,
            "left": null,
            "margin": null,
            "max_height": null,
            "max_width": null,
            "min_height": null,
            "min_width": null,
            "object_fit": null,
            "object_position": null,
            "order": null,
            "overflow": null,
            "overflow_x": null,
            "overflow_y": null,
            "padding": null,
            "right": null,
            "top": null,
            "visibility": null,
            "width": null
          }
        },
        "f9d134b631414d18848ddd1d0b9b2970": {
          "model_module": "@jupyter-widgets/controls",
          "model_name": "ProgressStyleModel",
          "model_module_version": "1.5.0",
          "state": {
            "_model_module": "@jupyter-widgets/controls",
            "_model_module_version": "1.5.0",
            "_model_name": "ProgressStyleModel",
            "_view_count": null,
            "_view_module": "@jupyter-widgets/base",
            "_view_module_version": "1.2.0",
            "_view_name": "StyleView",
            "bar_color": null,
            "description_width": ""
          }
        },
        "116b3dd9cd9d48d2a45a0402d17091c9": {
          "model_module": "@jupyter-widgets/base",
          "model_name": "LayoutModel",
          "model_module_version": "1.2.0",
          "state": {
            "_model_module": "@jupyter-widgets/base",
            "_model_module_version": "1.2.0",
            "_model_name": "LayoutModel",
            "_view_count": null,
            "_view_module": "@jupyter-widgets/base",
            "_view_module_version": "1.2.0",
            "_view_name": "LayoutView",
            "align_content": null,
            "align_items": null,
            "align_self": null,
            "border": null,
            "bottom": null,
            "display": null,
            "flex": null,
            "flex_flow": null,
            "grid_area": null,
            "grid_auto_columns": null,
            "grid_auto_flow": null,
            "grid_auto_rows": null,
            "grid_column": null,
            "grid_gap": null,
            "grid_row": null,
            "grid_template_areas": null,
            "grid_template_columns": null,
            "grid_template_rows": null,
            "height": null,
            "justify_content": null,
            "justify_items": null,
            "left": null,
            "margin": null,
            "max_height": null,
            "max_width": null,
            "min_height": null,
            "min_width": null,
            "object_fit": null,
            "object_position": null,
            "order": null,
            "overflow": null,
            "overflow_x": null,
            "overflow_y": null,
            "padding": null,
            "right": null,
            "top": null,
            "visibility": null,
            "width": null
          }
        },
        "8b6af7f1faa24757aaee44d06fc43160": {
          "model_module": "@jupyter-widgets/controls",
          "model_name": "DescriptionStyleModel",
          "model_module_version": "1.5.0",
          "state": {
            "_model_module": "@jupyter-widgets/controls",
            "_model_module_version": "1.5.0",
            "_model_name": "DescriptionStyleModel",
            "_view_count": null,
            "_view_module": "@jupyter-widgets/base",
            "_view_module_version": "1.2.0",
            "_view_name": "StyleView",
            "description_width": ""
          }
        },
        "c783322a8ec6438685d7e9d3ae235e91": {
          "model_module": "@jupyter-widgets/controls",
          "model_name": "HBoxModel",
          "model_module_version": "1.5.0",
          "state": {
            "_dom_classes": [],
            "_model_module": "@jupyter-widgets/controls",
            "_model_module_version": "1.5.0",
            "_model_name": "HBoxModel",
            "_view_count": null,
            "_view_module": "@jupyter-widgets/controls",
            "_view_module_version": "1.5.0",
            "_view_name": "HBoxView",
            "box_style": "",
            "children": [
              "IPY_MODEL_788f2021c31040d997609fa299465281",
              "IPY_MODEL_1e86289a9fb143bfa2b0c78e31407b28",
              "IPY_MODEL_e2b4d9575c4248f2abcecd122d094df2"
            ],
            "layout": "IPY_MODEL_3b0e982076804711a231df60f874e388"
          }
        },
        "788f2021c31040d997609fa299465281": {
          "model_module": "@jupyter-widgets/controls",
          "model_name": "HTMLModel",
          "model_module_version": "1.5.0",
          "state": {
            "_dom_classes": [],
            "_model_module": "@jupyter-widgets/controls",
            "_model_module_version": "1.5.0",
            "_model_name": "HTMLModel",
            "_view_count": null,
            "_view_module": "@jupyter-widgets/controls",
            "_view_module_version": "1.5.0",
            "_view_name": "HTMLView",
            "description": "",
            "description_tooltip": null,
            "layout": "IPY_MODEL_0943f9631ca74d30924b4411442c5b5d",
            "placeholder": "​",
            "style": "IPY_MODEL_cdf2bfede2b048148d20c357c0c34306",
            "value": "model-00001-of-00003.safetensors: 100%"
          }
        },
        "1e86289a9fb143bfa2b0c78e31407b28": {
          "model_module": "@jupyter-widgets/controls",
          "model_name": "FloatProgressModel",
          "model_module_version": "1.5.0",
          "state": {
            "_dom_classes": [],
            "_model_module": "@jupyter-widgets/controls",
            "_model_module_version": "1.5.0",
            "_model_name": "FloatProgressModel",
            "_view_count": null,
            "_view_module": "@jupyter-widgets/controls",
            "_view_module_version": "1.5.0",
            "_view_name": "ProgressView",
            "bar_style": "success",
            "description": "",
            "description_tooltip": null,
            "layout": "IPY_MODEL_15ae74527e364914963726881baceec5",
            "max": 4949453792,
            "min": 0,
            "orientation": "horizontal",
            "style": "IPY_MODEL_a911c346f7b54689b5eb26c63b284e79",
            "value": 4949453792
          }
        },
        "e2b4d9575c4248f2abcecd122d094df2": {
          "model_module": "@jupyter-widgets/controls",
          "model_name": "HTMLModel",
          "model_module_version": "1.5.0",
          "state": {
            "_dom_classes": [],
            "_model_module": "@jupyter-widgets/controls",
            "_model_module_version": "1.5.0",
            "_model_name": "HTMLModel",
            "_view_count": null,
            "_view_module": "@jupyter-widgets/controls",
            "_view_module_version": "1.5.0",
            "_view_name": "HTMLView",
            "description": "",
            "description_tooltip": null,
            "layout": "IPY_MODEL_801c70d800224308b25fe7b8ee9eca96",
            "placeholder": "​",
            "style": "IPY_MODEL_dcc38b51280a40fabad2e12e7573f354",
            "value": " 4.95G/4.95G [01:12&lt;00:00, 42.3MB/s]"
          }
        },
        "3b0e982076804711a231df60f874e388": {
          "model_module": "@jupyter-widgets/base",
          "model_name": "LayoutModel",
          "model_module_version": "1.2.0",
          "state": {
            "_model_module": "@jupyter-widgets/base",
            "_model_module_version": "1.2.0",
            "_model_name": "LayoutModel",
            "_view_count": null,
            "_view_module": "@jupyter-widgets/base",
            "_view_module_version": "1.2.0",
            "_view_name": "LayoutView",
            "align_content": null,
            "align_items": null,
            "align_self": null,
            "border": null,
            "bottom": null,
            "display": null,
            "flex": null,
            "flex_flow": null,
            "grid_area": null,
            "grid_auto_columns": null,
            "grid_auto_flow": null,
            "grid_auto_rows": null,
            "grid_column": null,
            "grid_gap": null,
            "grid_row": null,
            "grid_template_areas": null,
            "grid_template_columns": null,
            "grid_template_rows": null,
            "height": null,
            "justify_content": null,
            "justify_items": null,
            "left": null,
            "margin": null,
            "max_height": null,
            "max_width": null,
            "min_height": null,
            "min_width": null,
            "object_fit": null,
            "object_position": null,
            "order": null,
            "overflow": null,
            "overflow_x": null,
            "overflow_y": null,
            "padding": null,
            "right": null,
            "top": null,
            "visibility": null,
            "width": null
          }
        },
        "0943f9631ca74d30924b4411442c5b5d": {
          "model_module": "@jupyter-widgets/base",
          "model_name": "LayoutModel",
          "model_module_version": "1.2.0",
          "state": {
            "_model_module": "@jupyter-widgets/base",
            "_model_module_version": "1.2.0",
            "_model_name": "LayoutModel",
            "_view_count": null,
            "_view_module": "@jupyter-widgets/base",
            "_view_module_version": "1.2.0",
            "_view_name": "LayoutView",
            "align_content": null,
            "align_items": null,
            "align_self": null,
            "border": null,
            "bottom": null,
            "display": null,
            "flex": null,
            "flex_flow": null,
            "grid_area": null,
            "grid_auto_columns": null,
            "grid_auto_flow": null,
            "grid_auto_rows": null,
            "grid_column": null,
            "grid_gap": null,
            "grid_row": null,
            "grid_template_areas": null,
            "grid_template_columns": null,
            "grid_template_rows": null,
            "height": null,
            "justify_content": null,
            "justify_items": null,
            "left": null,
            "margin": null,
            "max_height": null,
            "max_width": null,
            "min_height": null,
            "min_width": null,
            "object_fit": null,
            "object_position": null,
            "order": null,
            "overflow": null,
            "overflow_x": null,
            "overflow_y": null,
            "padding": null,
            "right": null,
            "top": null,
            "visibility": null,
            "width": null
          }
        },
        "cdf2bfede2b048148d20c357c0c34306": {
          "model_module": "@jupyter-widgets/controls",
          "model_name": "DescriptionStyleModel",
          "model_module_version": "1.5.0",
          "state": {
            "_model_module": "@jupyter-widgets/controls",
            "_model_module_version": "1.5.0",
            "_model_name": "DescriptionStyleModel",
            "_view_count": null,
            "_view_module": "@jupyter-widgets/base",
            "_view_module_version": "1.2.0",
            "_view_name": "StyleView",
            "description_width": ""
          }
        },
        "15ae74527e364914963726881baceec5": {
          "model_module": "@jupyter-widgets/base",
          "model_name": "LayoutModel",
          "model_module_version": "1.2.0",
          "state": {
            "_model_module": "@jupyter-widgets/base",
            "_model_module_version": "1.2.0",
            "_model_name": "LayoutModel",
            "_view_count": null,
            "_view_module": "@jupyter-widgets/base",
            "_view_module_version": "1.2.0",
            "_view_name": "LayoutView",
            "align_content": null,
            "align_items": null,
            "align_self": null,
            "border": null,
            "bottom": null,
            "display": null,
            "flex": null,
            "flex_flow": null,
            "grid_area": null,
            "grid_auto_columns": null,
            "grid_auto_flow": null,
            "grid_auto_rows": null,
            "grid_column": null,
            "grid_gap": null,
            "grid_row": null,
            "grid_template_areas": null,
            "grid_template_columns": null,
            "grid_template_rows": null,
            "height": null,
            "justify_content": null,
            "justify_items": null,
            "left": null,
            "margin": null,
            "max_height": null,
            "max_width": null,
            "min_height": null,
            "min_width": null,
            "object_fit": null,
            "object_position": null,
            "order": null,
            "overflow": null,
            "overflow_x": null,
            "overflow_y": null,
            "padding": null,
            "right": null,
            "top": null,
            "visibility": null,
            "width": null
          }
        },
        "a911c346f7b54689b5eb26c63b284e79": {
          "model_module": "@jupyter-widgets/controls",
          "model_name": "ProgressStyleModel",
          "model_module_version": "1.5.0",
          "state": {
            "_model_module": "@jupyter-widgets/controls",
            "_model_module_version": "1.5.0",
            "_model_name": "ProgressStyleModel",
            "_view_count": null,
            "_view_module": "@jupyter-widgets/base",
            "_view_module_version": "1.2.0",
            "_view_name": "StyleView",
            "bar_color": null,
            "description_width": ""
          }
        },
        "801c70d800224308b25fe7b8ee9eca96": {
          "model_module": "@jupyter-widgets/base",
          "model_name": "LayoutModel",
          "model_module_version": "1.2.0",
          "state": {
            "_model_module": "@jupyter-widgets/base",
            "_model_module_version": "1.2.0",
            "_model_name": "LayoutModel",
            "_view_count": null,
            "_view_module": "@jupyter-widgets/base",
            "_view_module_version": "1.2.0",
            "_view_name": "LayoutView",
            "align_content": null,
            "align_items": null,
            "align_self": null,
            "border": null,
            "bottom": null,
            "display": null,
            "flex": null,
            "flex_flow": null,
            "grid_area": null,
            "grid_auto_columns": null,
            "grid_auto_flow": null,
            "grid_auto_rows": null,
            "grid_column": null,
            "grid_gap": null,
            "grid_row": null,
            "grid_template_areas": null,
            "grid_template_columns": null,
            "grid_template_rows": null,
            "height": null,
            "justify_content": null,
            "justify_items": null,
            "left": null,
            "margin": null,
            "max_height": null,
            "max_width": null,
            "min_height": null,
            "min_width": null,
            "object_fit": null,
            "object_position": null,
            "order": null,
            "overflow": null,
            "overflow_x": null,
            "overflow_y": null,
            "padding": null,
            "right": null,
            "top": null,
            "visibility": null,
            "width": null
          }
        },
        "dcc38b51280a40fabad2e12e7573f354": {
          "model_module": "@jupyter-widgets/controls",
          "model_name": "DescriptionStyleModel",
          "model_module_version": "1.5.0",
          "state": {
            "_model_module": "@jupyter-widgets/controls",
            "_model_module_version": "1.5.0",
            "_model_name": "DescriptionStyleModel",
            "_view_count": null,
            "_view_module": "@jupyter-widgets/base",
            "_view_module_version": "1.2.0",
            "_view_name": "StyleView",
            "description_width": ""
          }
        },
        "355e32cf5e694c1eb80c395a06a0814d": {
          "model_module": "@jupyter-widgets/controls",
          "model_name": "HBoxModel",
          "model_module_version": "1.5.0",
          "state": {
            "_dom_classes": [],
            "_model_module": "@jupyter-widgets/controls",
            "_model_module_version": "1.5.0",
            "_model_name": "HBoxModel",
            "_view_count": null,
            "_view_module": "@jupyter-widgets/controls",
            "_view_module_version": "1.5.0",
            "_view_name": "HBoxView",
            "box_style": "",
            "children": [
              "IPY_MODEL_eb310b45da144e43afed686e3b21960b",
              "IPY_MODEL_d7bd989777c0411da7153a4f3761855a",
              "IPY_MODEL_16ddfdd2044b42029c064e4936e00f9b"
            ],
            "layout": "IPY_MODEL_54e5fdf3e0cc4a29a1413735383323ed"
          }
        },
        "eb310b45da144e43afed686e3b21960b": {
          "model_module": "@jupyter-widgets/controls",
          "model_name": "HTMLModel",
          "model_module_version": "1.5.0",
          "state": {
            "_dom_classes": [],
            "_model_module": "@jupyter-widgets/controls",
            "_model_module_version": "1.5.0",
            "_model_name": "HTMLModel",
            "_view_count": null,
            "_view_module": "@jupyter-widgets/controls",
            "_view_module_version": "1.5.0",
            "_view_name": "HTMLView",
            "description": "",
            "description_tooltip": null,
            "layout": "IPY_MODEL_eede28911781440ea00acd3354e60c26",
            "placeholder": "​",
            "style": "IPY_MODEL_9af0106a62804046816fe9165752fe9d",
            "value": "model-00002-of-00003.safetensors: 100%"
          }
        },
        "d7bd989777c0411da7153a4f3761855a": {
          "model_module": "@jupyter-widgets/controls",
          "model_name": "FloatProgressModel",
          "model_module_version": "1.5.0",
          "state": {
            "_dom_classes": [],
            "_model_module": "@jupyter-widgets/controls",
            "_model_module_version": "1.5.0",
            "_model_name": "FloatProgressModel",
            "_view_count": null,
            "_view_module": "@jupyter-widgets/controls",
            "_view_module_version": "1.5.0",
            "_view_name": "ProgressView",
            "bar_style": "success",
            "description": "",
            "description_tooltip": null,
            "layout": "IPY_MODEL_361cc2eaecdb4d4a846a21ee43f5d0a6",
            "max": 4999819336,
            "min": 0,
            "orientation": "horizontal",
            "style": "IPY_MODEL_826aebb611a74eca8eceb4052ada10a0",
            "value": 4999819336
          }
        },
        "16ddfdd2044b42029c064e4936e00f9b": {
          "model_module": "@jupyter-widgets/controls",
          "model_name": "HTMLModel",
          "model_module_version": "1.5.0",
          "state": {
            "_dom_classes": [],
            "_model_module": "@jupyter-widgets/controls",
            "_model_module_version": "1.5.0",
            "_model_name": "HTMLModel",
            "_view_count": null,
            "_view_module": "@jupyter-widgets/controls",
            "_view_module_version": "1.5.0",
            "_view_name": "HTMLView",
            "description": "",
            "description_tooltip": null,
            "layout": "IPY_MODEL_9209370c8cc74ad4913a3bacab26a55b",
            "placeholder": "​",
            "style": "IPY_MODEL_bbf0ffec3ee74c62a6b66593efcc9393",
            "value": " 5.00G/5.00G [02:05&lt;00:00, 25.3MB/s]"
          }
        },
        "54e5fdf3e0cc4a29a1413735383323ed": {
          "model_module": "@jupyter-widgets/base",
          "model_name": "LayoutModel",
          "model_module_version": "1.2.0",
          "state": {
            "_model_module": "@jupyter-widgets/base",
            "_model_module_version": "1.2.0",
            "_model_name": "LayoutModel",
            "_view_count": null,
            "_view_module": "@jupyter-widgets/base",
            "_view_module_version": "1.2.0",
            "_view_name": "LayoutView",
            "align_content": null,
            "align_items": null,
            "align_self": null,
            "border": null,
            "bottom": null,
            "display": null,
            "flex": null,
            "flex_flow": null,
            "grid_area": null,
            "grid_auto_columns": null,
            "grid_auto_flow": null,
            "grid_auto_rows": null,
            "grid_column": null,
            "grid_gap": null,
            "grid_row": null,
            "grid_template_areas": null,
            "grid_template_columns": null,
            "grid_template_rows": null,
            "height": null,
            "justify_content": null,
            "justify_items": null,
            "left": null,
            "margin": null,
            "max_height": null,
            "max_width": null,
            "min_height": null,
            "min_width": null,
            "object_fit": null,
            "object_position": null,
            "order": null,
            "overflow": null,
            "overflow_x": null,
            "overflow_y": null,
            "padding": null,
            "right": null,
            "top": null,
            "visibility": null,
            "width": null
          }
        },
        "eede28911781440ea00acd3354e60c26": {
          "model_module": "@jupyter-widgets/base",
          "model_name": "LayoutModel",
          "model_module_version": "1.2.0",
          "state": {
            "_model_module": "@jupyter-widgets/base",
            "_model_module_version": "1.2.0",
            "_model_name": "LayoutModel",
            "_view_count": null,
            "_view_module": "@jupyter-widgets/base",
            "_view_module_version": "1.2.0",
            "_view_name": "LayoutView",
            "align_content": null,
            "align_items": null,
            "align_self": null,
            "border": null,
            "bottom": null,
            "display": null,
            "flex": null,
            "flex_flow": null,
            "grid_area": null,
            "grid_auto_columns": null,
            "grid_auto_flow": null,
            "grid_auto_rows": null,
            "grid_column": null,
            "grid_gap": null,
            "grid_row": null,
            "grid_template_areas": null,
            "grid_template_columns": null,
            "grid_template_rows": null,
            "height": null,
            "justify_content": null,
            "justify_items": null,
            "left": null,
            "margin": null,
            "max_height": null,
            "max_width": null,
            "min_height": null,
            "min_width": null,
            "object_fit": null,
            "object_position": null,
            "order": null,
            "overflow": null,
            "overflow_x": null,
            "overflow_y": null,
            "padding": null,
            "right": null,
            "top": null,
            "visibility": null,
            "width": null
          }
        },
        "9af0106a62804046816fe9165752fe9d": {
          "model_module": "@jupyter-widgets/controls",
          "model_name": "DescriptionStyleModel",
          "model_module_version": "1.5.0",
          "state": {
            "_model_module": "@jupyter-widgets/controls",
            "_model_module_version": "1.5.0",
            "_model_name": "DescriptionStyleModel",
            "_view_count": null,
            "_view_module": "@jupyter-widgets/base",
            "_view_module_version": "1.2.0",
            "_view_name": "StyleView",
            "description_width": ""
          }
        },
        "361cc2eaecdb4d4a846a21ee43f5d0a6": {
          "model_module": "@jupyter-widgets/base",
          "model_name": "LayoutModel",
          "model_module_version": "1.2.0",
          "state": {
            "_model_module": "@jupyter-widgets/base",
            "_model_module_version": "1.2.0",
            "_model_name": "LayoutModel",
            "_view_count": null,
            "_view_module": "@jupyter-widgets/base",
            "_view_module_version": "1.2.0",
            "_view_name": "LayoutView",
            "align_content": null,
            "align_items": null,
            "align_self": null,
            "border": null,
            "bottom": null,
            "display": null,
            "flex": null,
            "flex_flow": null,
            "grid_area": null,
            "grid_auto_columns": null,
            "grid_auto_flow": null,
            "grid_auto_rows": null,
            "grid_column": null,
            "grid_gap": null,
            "grid_row": null,
            "grid_template_areas": null,
            "grid_template_columns": null,
            "grid_template_rows": null,
            "height": null,
            "justify_content": null,
            "justify_items": null,
            "left": null,
            "margin": null,
            "max_height": null,
            "max_width": null,
            "min_height": null,
            "min_width": null,
            "object_fit": null,
            "object_position": null,
            "order": null,
            "overflow": null,
            "overflow_x": null,
            "overflow_y": null,
            "padding": null,
            "right": null,
            "top": null,
            "visibility": null,
            "width": null
          }
        },
        "826aebb611a74eca8eceb4052ada10a0": {
          "model_module": "@jupyter-widgets/controls",
          "model_name": "ProgressStyleModel",
          "model_module_version": "1.5.0",
          "state": {
            "_model_module": "@jupyter-widgets/controls",
            "_model_module_version": "1.5.0",
            "_model_name": "ProgressStyleModel",
            "_view_count": null,
            "_view_module": "@jupyter-widgets/base",
            "_view_module_version": "1.2.0",
            "_view_name": "StyleView",
            "bar_color": null,
            "description_width": ""
          }
        },
        "9209370c8cc74ad4913a3bacab26a55b": {
          "model_module": "@jupyter-widgets/base",
          "model_name": "LayoutModel",
          "model_module_version": "1.2.0",
          "state": {
            "_model_module": "@jupyter-widgets/base",
            "_model_module_version": "1.2.0",
            "_model_name": "LayoutModel",
            "_view_count": null,
            "_view_module": "@jupyter-widgets/base",
            "_view_module_version": "1.2.0",
            "_view_name": "LayoutView",
            "align_content": null,
            "align_items": null,
            "align_self": null,
            "border": null,
            "bottom": null,
            "display": null,
            "flex": null,
            "flex_flow": null,
            "grid_area": null,
            "grid_auto_columns": null,
            "grid_auto_flow": null,
            "grid_auto_rows": null,
            "grid_column": null,
            "grid_gap": null,
            "grid_row": null,
            "grid_template_areas": null,
            "grid_template_columns": null,
            "grid_template_rows": null,
            "height": null,
            "justify_content": null,
            "justify_items": null,
            "left": null,
            "margin": null,
            "max_height": null,
            "max_width": null,
            "min_height": null,
            "min_width": null,
            "object_fit": null,
            "object_position": null,
            "order": null,
            "overflow": null,
            "overflow_x": null,
            "overflow_y": null,
            "padding": null,
            "right": null,
            "top": null,
            "visibility": null,
            "width": null
          }
        },
        "bbf0ffec3ee74c62a6b66593efcc9393": {
          "model_module": "@jupyter-widgets/controls",
          "model_name": "DescriptionStyleModel",
          "model_module_version": "1.5.0",
          "state": {
            "_model_module": "@jupyter-widgets/controls",
            "_model_module_version": "1.5.0",
            "_model_name": "DescriptionStyleModel",
            "_view_count": null,
            "_view_module": "@jupyter-widgets/base",
            "_view_module_version": "1.2.0",
            "_view_name": "StyleView",
            "description_width": ""
          }
        },
        "b715c86abf4647b0b123206bbb6584ab": {
          "model_module": "@jupyter-widgets/controls",
          "model_name": "HBoxModel",
          "model_module_version": "1.5.0",
          "state": {
            "_dom_classes": [],
            "_model_module": "@jupyter-widgets/controls",
            "_model_module_version": "1.5.0",
            "_model_name": "HBoxModel",
            "_view_count": null,
            "_view_module": "@jupyter-widgets/controls",
            "_view_module_version": "1.5.0",
            "_view_name": "HBoxView",
            "box_style": "",
            "children": [
              "IPY_MODEL_81b11ad665c64100aa8405c9e2e33e38",
              "IPY_MODEL_f3331af67d5e4621ac614cad5f75e476",
              "IPY_MODEL_2e1bc9de07ec49ea8c21ed09d9c153e8"
            ],
            "layout": "IPY_MODEL_a6f96e108ae8459a8299f5ef297dcad5"
          }
        },
        "81b11ad665c64100aa8405c9e2e33e38": {
          "model_module": "@jupyter-widgets/controls",
          "model_name": "HTMLModel",
          "model_module_version": "1.5.0",
          "state": {
            "_dom_classes": [],
            "_model_module": "@jupyter-widgets/controls",
            "_model_module_version": "1.5.0",
            "_model_name": "HTMLModel",
            "_view_count": null,
            "_view_module": "@jupyter-widgets/controls",
            "_view_module_version": "1.5.0",
            "_view_name": "HTMLView",
            "description": "",
            "description_tooltip": null,
            "layout": "IPY_MODEL_181d9f0627f1423790e144f02f10c7bd",
            "placeholder": "​",
            "style": "IPY_MODEL_a514522fab694ca2be10ad0ab8a7a5bc",
            "value": "model-00003-of-00003.safetensors: 100%"
          }
        },
        "f3331af67d5e4621ac614cad5f75e476": {
          "model_module": "@jupyter-widgets/controls",
          "model_name": "FloatProgressModel",
          "model_module_version": "1.5.0",
          "state": {
            "_dom_classes": [],
            "_model_module": "@jupyter-widgets/controls",
            "_model_module_version": "1.5.0",
            "_model_name": "FloatProgressModel",
            "_view_count": null,
            "_view_module": "@jupyter-widgets/controls",
            "_view_module_version": "1.5.0",
            "_view_name": "ProgressView",
            "bar_style": "success",
            "description": "",
            "description_tooltip": null,
            "layout": "IPY_MODEL_0d5650b9aa094142b274481c39ebace3",
            "max": 4546807800,
            "min": 0,
            "orientation": "horizontal",
            "style": "IPY_MODEL_3a8b964da4344890aaa8d213c4326412",
            "value": 4546807800
          }
        },
        "2e1bc9de07ec49ea8c21ed09d9c153e8": {
          "model_module": "@jupyter-widgets/controls",
          "model_name": "HTMLModel",
          "model_module_version": "1.5.0",
          "state": {
            "_dom_classes": [],
            "_model_module": "@jupyter-widgets/controls",
            "_model_module_version": "1.5.0",
            "_model_name": "HTMLModel",
            "_view_count": null,
            "_view_module": "@jupyter-widgets/controls",
            "_view_module_version": "1.5.0",
            "_view_name": "HTMLView",
            "description": "",
            "description_tooltip": null,
            "layout": "IPY_MODEL_0251e4deaffd436087d2a83a1c8fe385",
            "placeholder": "​",
            "style": "IPY_MODEL_f64609d566704cfab0e54ffc18cfcbba",
            "value": " 4.55G/4.55G [01:48&lt;00:00, 42.2MB/s]"
          }
        },
        "a6f96e108ae8459a8299f5ef297dcad5": {
          "model_module": "@jupyter-widgets/base",
          "model_name": "LayoutModel",
          "model_module_version": "1.2.0",
          "state": {
            "_model_module": "@jupyter-widgets/base",
            "_model_module_version": "1.2.0",
            "_model_name": "LayoutModel",
            "_view_count": null,
            "_view_module": "@jupyter-widgets/base",
            "_view_module_version": "1.2.0",
            "_view_name": "LayoutView",
            "align_content": null,
            "align_items": null,
            "align_self": null,
            "border": null,
            "bottom": null,
            "display": null,
            "flex": null,
            "flex_flow": null,
            "grid_area": null,
            "grid_auto_columns": null,
            "grid_auto_flow": null,
            "grid_auto_rows": null,
            "grid_column": null,
            "grid_gap": null,
            "grid_row": null,
            "grid_template_areas": null,
            "grid_template_columns": null,
            "grid_template_rows": null,
            "height": null,
            "justify_content": null,
            "justify_items": null,
            "left": null,
            "margin": null,
            "max_height": null,
            "max_width": null,
            "min_height": null,
            "min_width": null,
            "object_fit": null,
            "object_position": null,
            "order": null,
            "overflow": null,
            "overflow_x": null,
            "overflow_y": null,
            "padding": null,
            "right": null,
            "top": null,
            "visibility": null,
            "width": null
          }
        },
        "181d9f0627f1423790e144f02f10c7bd": {
          "model_module": "@jupyter-widgets/base",
          "model_name": "LayoutModel",
          "model_module_version": "1.2.0",
          "state": {
            "_model_module": "@jupyter-widgets/base",
            "_model_module_version": "1.2.0",
            "_model_name": "LayoutModel",
            "_view_count": null,
            "_view_module": "@jupyter-widgets/base",
            "_view_module_version": "1.2.0",
            "_view_name": "LayoutView",
            "align_content": null,
            "align_items": null,
            "align_self": null,
            "border": null,
            "bottom": null,
            "display": null,
            "flex": null,
            "flex_flow": null,
            "grid_area": null,
            "grid_auto_columns": null,
            "grid_auto_flow": null,
            "grid_auto_rows": null,
            "grid_column": null,
            "grid_gap": null,
            "grid_row": null,
            "grid_template_areas": null,
            "grid_template_columns": null,
            "grid_template_rows": null,
            "height": null,
            "justify_content": null,
            "justify_items": null,
            "left": null,
            "margin": null,
            "max_height": null,
            "max_width": null,
            "min_height": null,
            "min_width": null,
            "object_fit": null,
            "object_position": null,
            "order": null,
            "overflow": null,
            "overflow_x": null,
            "overflow_y": null,
            "padding": null,
            "right": null,
            "top": null,
            "visibility": null,
            "width": null
          }
        },
        "a514522fab694ca2be10ad0ab8a7a5bc": {
          "model_module": "@jupyter-widgets/controls",
          "model_name": "DescriptionStyleModel",
          "model_module_version": "1.5.0",
          "state": {
            "_model_module": "@jupyter-widgets/controls",
            "_model_module_version": "1.5.0",
            "_model_name": "DescriptionStyleModel",
            "_view_count": null,
            "_view_module": "@jupyter-widgets/base",
            "_view_module_version": "1.2.0",
            "_view_name": "StyleView",
            "description_width": ""
          }
        },
        "0d5650b9aa094142b274481c39ebace3": {
          "model_module": "@jupyter-widgets/base",
          "model_name": "LayoutModel",
          "model_module_version": "1.2.0",
          "state": {
            "_model_module": "@jupyter-widgets/base",
            "_model_module_version": "1.2.0",
            "_model_name": "LayoutModel",
            "_view_count": null,
            "_view_module": "@jupyter-widgets/base",
            "_view_module_version": "1.2.0",
            "_view_name": "LayoutView",
            "align_content": null,
            "align_items": null,
            "align_self": null,
            "border": null,
            "bottom": null,
            "display": null,
            "flex": null,
            "flex_flow": null,
            "grid_area": null,
            "grid_auto_columns": null,
            "grid_auto_flow": null,
            "grid_auto_rows": null,
            "grid_column": null,
            "grid_gap": null,
            "grid_row": null,
            "grid_template_areas": null,
            "grid_template_columns": null,
            "grid_template_rows": null,
            "height": null,
            "justify_content": null,
            "justify_items": null,
            "left": null,
            "margin": null,
            "max_height": null,
            "max_width": null,
            "min_height": null,
            "min_width": null,
            "object_fit": null,
            "object_position": null,
            "order": null,
            "overflow": null,
            "overflow_x": null,
            "overflow_y": null,
            "padding": null,
            "right": null,
            "top": null,
            "visibility": null,
            "width": null
          }
        },
        "3a8b964da4344890aaa8d213c4326412": {
          "model_module": "@jupyter-widgets/controls",
          "model_name": "ProgressStyleModel",
          "model_module_version": "1.5.0",
          "state": {
            "_model_module": "@jupyter-widgets/controls",
            "_model_module_version": "1.5.0",
            "_model_name": "ProgressStyleModel",
            "_view_count": null,
            "_view_module": "@jupyter-widgets/base",
            "_view_module_version": "1.2.0",
            "_view_name": "StyleView",
            "bar_color": null,
            "description_width": ""
          }
        },
        "0251e4deaffd436087d2a83a1c8fe385": {
          "model_module": "@jupyter-widgets/base",
          "model_name": "LayoutModel",
          "model_module_version": "1.2.0",
          "state": {
            "_model_module": "@jupyter-widgets/base",
            "_model_module_version": "1.2.0",
            "_model_name": "LayoutModel",
            "_view_count": null,
            "_view_module": "@jupyter-widgets/base",
            "_view_module_version": "1.2.0",
            "_view_name": "LayoutView",
            "align_content": null,
            "align_items": null,
            "align_self": null,
            "border": null,
            "bottom": null,
            "display": null,
            "flex": null,
            "flex_flow": null,
            "grid_area": null,
            "grid_auto_columns": null,
            "grid_auto_flow": null,
            "grid_auto_rows": null,
            "grid_column": null,
            "grid_gap": null,
            "grid_row": null,
            "grid_template_areas": null,
            "grid_template_columns": null,
            "grid_template_rows": null,
            "height": null,
            "justify_content": null,
            "justify_items": null,
            "left": null,
            "margin": null,
            "max_height": null,
            "max_width": null,
            "min_height": null,
            "min_width": null,
            "object_fit": null,
            "object_position": null,
            "order": null,
            "overflow": null,
            "overflow_x": null,
            "overflow_y": null,
            "padding": null,
            "right": null,
            "top": null,
            "visibility": null,
            "width": null
          }
        },
        "f64609d566704cfab0e54ffc18cfcbba": {
          "model_module": "@jupyter-widgets/controls",
          "model_name": "DescriptionStyleModel",
          "model_module_version": "1.5.0",
          "state": {
            "_model_module": "@jupyter-widgets/controls",
            "_model_module_version": "1.5.0",
            "_model_name": "DescriptionStyleModel",
            "_view_count": null,
            "_view_module": "@jupyter-widgets/base",
            "_view_module_version": "1.2.0",
            "_view_name": "StyleView",
            "description_width": ""
          }
        },
        "96f195ff42f945a9beb5654a0aece336": {
          "model_module": "@jupyter-widgets/controls",
          "model_name": "HBoxModel",
          "model_module_version": "1.5.0",
          "state": {
            "_dom_classes": [],
            "_model_module": "@jupyter-widgets/controls",
            "_model_module_version": "1.5.0",
            "_model_name": "HBoxModel",
            "_view_count": null,
            "_view_module": "@jupyter-widgets/controls",
            "_view_module_version": "1.5.0",
            "_view_name": "HBoxView",
            "box_style": "",
            "children": [
              "IPY_MODEL_5d2e6b6055c84e26867c89c11ed1f34c",
              "IPY_MODEL_635c7de638684fcf8ae84f3473e16d5d",
              "IPY_MODEL_cd0aa2c35a214997a5bb052aa332b3ad"
            ],
            "layout": "IPY_MODEL_8e93e441a20e45df8abdcadd78e424bf"
          }
        },
        "5d2e6b6055c84e26867c89c11ed1f34c": {
          "model_module": "@jupyter-widgets/controls",
          "model_name": "HTMLModel",
          "model_module_version": "1.5.0",
          "state": {
            "_dom_classes": [],
            "_model_module": "@jupyter-widgets/controls",
            "_model_module_version": "1.5.0",
            "_model_name": "HTMLModel",
            "_view_count": null,
            "_view_module": "@jupyter-widgets/controls",
            "_view_module_version": "1.5.0",
            "_view_name": "HTMLView",
            "description": "",
            "description_tooltip": null,
            "layout": "IPY_MODEL_70413395b15d4f6c9885df35b382a2cc",
            "placeholder": "​",
            "style": "IPY_MODEL_224f3ec984044afdbdc366b562a0af00",
            "value": "Loading checkpoint shards: 100%"
          }
        },
        "635c7de638684fcf8ae84f3473e16d5d": {
          "model_module": "@jupyter-widgets/controls",
          "model_name": "FloatProgressModel",
          "model_module_version": "1.5.0",
          "state": {
            "_dom_classes": [],
            "_model_module": "@jupyter-widgets/controls",
            "_model_module_version": "1.5.0",
            "_model_name": "FloatProgressModel",
            "_view_count": null,
            "_view_module": "@jupyter-widgets/controls",
            "_view_module_version": "1.5.0",
            "_view_name": "ProgressView",
            "bar_style": "success",
            "description": "",
            "description_tooltip": null,
            "layout": "IPY_MODEL_3e7c1bbf708642498454ad5bbba54309",
            "max": 3,
            "min": 0,
            "orientation": "horizontal",
            "style": "IPY_MODEL_fa6fb55769c44f569a9b1906e9ce8e70",
            "value": 3
          }
        },
        "cd0aa2c35a214997a5bb052aa332b3ad": {
          "model_module": "@jupyter-widgets/controls",
          "model_name": "HTMLModel",
          "model_module_version": "1.5.0",
          "state": {
            "_dom_classes": [],
            "_model_module": "@jupyter-widgets/controls",
            "_model_module_version": "1.5.0",
            "_model_name": "HTMLModel",
            "_view_count": null,
            "_view_module": "@jupyter-widgets/controls",
            "_view_module_version": "1.5.0",
            "_view_name": "HTMLView",
            "description": "",
            "description_tooltip": null,
            "layout": "IPY_MODEL_d553bfe6b05d458a9213f72e4878f172",
            "placeholder": "​",
            "style": "IPY_MODEL_ab2328e2b86c4ec9a6bdbc84214aa750",
            "value": " 3/3 [01:06&lt;00:00, 21.52s/it]"
          }
        },
        "8e93e441a20e45df8abdcadd78e424bf": {
          "model_module": "@jupyter-widgets/base",
          "model_name": "LayoutModel",
          "model_module_version": "1.2.0",
          "state": {
            "_model_module": "@jupyter-widgets/base",
            "_model_module_version": "1.2.0",
            "_model_name": "LayoutModel",
            "_view_count": null,
            "_view_module": "@jupyter-widgets/base",
            "_view_module_version": "1.2.0",
            "_view_name": "LayoutView",
            "align_content": null,
            "align_items": null,
            "align_self": null,
            "border": null,
            "bottom": null,
            "display": null,
            "flex": null,
            "flex_flow": null,
            "grid_area": null,
            "grid_auto_columns": null,
            "grid_auto_flow": null,
            "grid_auto_rows": null,
            "grid_column": null,
            "grid_gap": null,
            "grid_row": null,
            "grid_template_areas": null,
            "grid_template_columns": null,
            "grid_template_rows": null,
            "height": null,
            "justify_content": null,
            "justify_items": null,
            "left": null,
            "margin": null,
            "max_height": null,
            "max_width": null,
            "min_height": null,
            "min_width": null,
            "object_fit": null,
            "object_position": null,
            "order": null,
            "overflow": null,
            "overflow_x": null,
            "overflow_y": null,
            "padding": null,
            "right": null,
            "top": null,
            "visibility": null,
            "width": null
          }
        },
        "70413395b15d4f6c9885df35b382a2cc": {
          "model_module": "@jupyter-widgets/base",
          "model_name": "LayoutModel",
          "model_module_version": "1.2.0",
          "state": {
            "_model_module": "@jupyter-widgets/base",
            "_model_module_version": "1.2.0",
            "_model_name": "LayoutModel",
            "_view_count": null,
            "_view_module": "@jupyter-widgets/base",
            "_view_module_version": "1.2.0",
            "_view_name": "LayoutView",
            "align_content": null,
            "align_items": null,
            "align_self": null,
            "border": null,
            "bottom": null,
            "display": null,
            "flex": null,
            "flex_flow": null,
            "grid_area": null,
            "grid_auto_columns": null,
            "grid_auto_flow": null,
            "grid_auto_rows": null,
            "grid_column": null,
            "grid_gap": null,
            "grid_row": null,
            "grid_template_areas": null,
            "grid_template_columns": null,
            "grid_template_rows": null,
            "height": null,
            "justify_content": null,
            "justify_items": null,
            "left": null,
            "margin": null,
            "max_height": null,
            "max_width": null,
            "min_height": null,
            "min_width": null,
            "object_fit": null,
            "object_position": null,
            "order": null,
            "overflow": null,
            "overflow_x": null,
            "overflow_y": null,
            "padding": null,
            "right": null,
            "top": null,
            "visibility": null,
            "width": null
          }
        },
        "224f3ec984044afdbdc366b562a0af00": {
          "model_module": "@jupyter-widgets/controls",
          "model_name": "DescriptionStyleModel",
          "model_module_version": "1.5.0",
          "state": {
            "_model_module": "@jupyter-widgets/controls",
            "_model_module_version": "1.5.0",
            "_model_name": "DescriptionStyleModel",
            "_view_count": null,
            "_view_module": "@jupyter-widgets/base",
            "_view_module_version": "1.2.0",
            "_view_name": "StyleView",
            "description_width": ""
          }
        },
        "3e7c1bbf708642498454ad5bbba54309": {
          "model_module": "@jupyter-widgets/base",
          "model_name": "LayoutModel",
          "model_module_version": "1.2.0",
          "state": {
            "_model_module": "@jupyter-widgets/base",
            "_model_module_version": "1.2.0",
            "_model_name": "LayoutModel",
            "_view_count": null,
            "_view_module": "@jupyter-widgets/base",
            "_view_module_version": "1.2.0",
            "_view_name": "LayoutView",
            "align_content": null,
            "align_items": null,
            "align_self": null,
            "border": null,
            "bottom": null,
            "display": null,
            "flex": null,
            "flex_flow": null,
            "grid_area": null,
            "grid_auto_columns": null,
            "grid_auto_flow": null,
            "grid_auto_rows": null,
            "grid_column": null,
            "grid_gap": null,
            "grid_row": null,
            "grid_template_areas": null,
            "grid_template_columns": null,
            "grid_template_rows": null,
            "height": null,
            "justify_content": null,
            "justify_items": null,
            "left": null,
            "margin": null,
            "max_height": null,
            "max_width": null,
            "min_height": null,
            "min_width": null,
            "object_fit": null,
            "object_position": null,
            "order": null,
            "overflow": null,
            "overflow_x": null,
            "overflow_y": null,
            "padding": null,
            "right": null,
            "top": null,
            "visibility": null,
            "width": null
          }
        },
        "fa6fb55769c44f569a9b1906e9ce8e70": {
          "model_module": "@jupyter-widgets/controls",
          "model_name": "ProgressStyleModel",
          "model_module_version": "1.5.0",
          "state": {
            "_model_module": "@jupyter-widgets/controls",
            "_model_module_version": "1.5.0",
            "_model_name": "ProgressStyleModel",
            "_view_count": null,
            "_view_module": "@jupyter-widgets/base",
            "_view_module_version": "1.2.0",
            "_view_name": "StyleView",
            "bar_color": null,
            "description_width": ""
          }
        },
        "d553bfe6b05d458a9213f72e4878f172": {
          "model_module": "@jupyter-widgets/base",
          "model_name": "LayoutModel",
          "model_module_version": "1.2.0",
          "state": {
            "_model_module": "@jupyter-widgets/base",
            "_model_module_version": "1.2.0",
            "_model_name": "LayoutModel",
            "_view_count": null,
            "_view_module": "@jupyter-widgets/base",
            "_view_module_version": "1.2.0",
            "_view_name": "LayoutView",
            "align_content": null,
            "align_items": null,
            "align_self": null,
            "border": null,
            "bottom": null,
            "display": null,
            "flex": null,
            "flex_flow": null,
            "grid_area": null,
            "grid_auto_columns": null,
            "grid_auto_flow": null,
            "grid_auto_rows": null,
            "grid_column": null,
            "grid_gap": null,
            "grid_row": null,
            "grid_template_areas": null,
            "grid_template_columns": null,
            "grid_template_rows": null,
            "height": null,
            "justify_content": null,
            "justify_items": null,
            "left": null,
            "margin": null,
            "max_height": null,
            "max_width": null,
            "min_height": null,
            "min_width": null,
            "object_fit": null,
            "object_position": null,
            "order": null,
            "overflow": null,
            "overflow_x": null,
            "overflow_y": null,
            "padding": null,
            "right": null,
            "top": null,
            "visibility": null,
            "width": null
          }
        },
        "ab2328e2b86c4ec9a6bdbc84214aa750": {
          "model_module": "@jupyter-widgets/controls",
          "model_name": "DescriptionStyleModel",
          "model_module_version": "1.5.0",
          "state": {
            "_model_module": "@jupyter-widgets/controls",
            "_model_module_version": "1.5.0",
            "_model_name": "DescriptionStyleModel",
            "_view_count": null,
            "_view_module": "@jupyter-widgets/base",
            "_view_module_version": "1.2.0",
            "_view_name": "StyleView",
            "description_width": ""
          }
        },
        "fc6e8237733a48cf9a2b34bc8c1af883": {
          "model_module": "@jupyter-widgets/controls",
          "model_name": "HBoxModel",
          "model_module_version": "1.5.0",
          "state": {
            "_dom_classes": [],
            "_model_module": "@jupyter-widgets/controls",
            "_model_module_version": "1.5.0",
            "_model_name": "HBoxModel",
            "_view_count": null,
            "_view_module": "@jupyter-widgets/controls",
            "_view_module_version": "1.5.0",
            "_view_name": "HBoxView",
            "box_style": "",
            "children": [
              "IPY_MODEL_153518fbf7014fd2a6ca3add10ff92ec",
              "IPY_MODEL_0f531d4320834dd497adc51d211f1f03",
              "IPY_MODEL_6bd6f4880cdb446caebb388d737ede5e"
            ],
            "layout": "IPY_MODEL_ba0d42cd8b4b4a85a7a3fc9ac5f83fbf"
          }
        },
        "153518fbf7014fd2a6ca3add10ff92ec": {
          "model_module": "@jupyter-widgets/controls",
          "model_name": "HTMLModel",
          "model_module_version": "1.5.0",
          "state": {
            "_dom_classes": [],
            "_model_module": "@jupyter-widgets/controls",
            "_model_module_version": "1.5.0",
            "_model_name": "HTMLModel",
            "_view_count": null,
            "_view_module": "@jupyter-widgets/controls",
            "_view_module_version": "1.5.0",
            "_view_name": "HTMLView",
            "description": "",
            "description_tooltip": null,
            "layout": "IPY_MODEL_dd7985e168784c98826b3bfc093a68c4",
            "placeholder": "​",
            "style": "IPY_MODEL_54e5617990e644ce836a851e4f14acfc",
            "value": "generation_config.json: 100%"
          }
        },
        "0f531d4320834dd497adc51d211f1f03": {
          "model_module": "@jupyter-widgets/controls",
          "model_name": "FloatProgressModel",
          "model_module_version": "1.5.0",
          "state": {
            "_dom_classes": [],
            "_model_module": "@jupyter-widgets/controls",
            "_model_module_version": "1.5.0",
            "_model_name": "FloatProgressModel",
            "_view_count": null,
            "_view_module": "@jupyter-widgets/controls",
            "_view_module_version": "1.5.0",
            "_view_name": "ProgressView",
            "bar_style": "success",
            "description": "",
            "description_tooltip": null,
            "layout": "IPY_MODEL_90090997853b470b95fb848334a90648",
            "max": 116,
            "min": 0,
            "orientation": "horizontal",
            "style": "IPY_MODEL_c22065fd3db74568b75c4d761bda0724",
            "value": 116
          }
        },
        "6bd6f4880cdb446caebb388d737ede5e": {
          "model_module": "@jupyter-widgets/controls",
          "model_name": "HTMLModel",
          "model_module_version": "1.5.0",
          "state": {
            "_dom_classes": [],
            "_model_module": "@jupyter-widgets/controls",
            "_model_module_version": "1.5.0",
            "_model_name": "HTMLModel",
            "_view_count": null,
            "_view_module": "@jupyter-widgets/controls",
            "_view_module_version": "1.5.0",
            "_view_name": "HTMLView",
            "description": "",
            "description_tooltip": null,
            "layout": "IPY_MODEL_e9a3eae4812543f0b774cc97bc4b7b1b",
            "placeholder": "​",
            "style": "IPY_MODEL_1c5cd894f7794e7f8e1b4ba8dba082c9",
            "value": " 116/116 [00:00&lt;00:00, 7.89kB/s]"
          }
        },
        "ba0d42cd8b4b4a85a7a3fc9ac5f83fbf": {
          "model_module": "@jupyter-widgets/base",
          "model_name": "LayoutModel",
          "model_module_version": "1.2.0",
          "state": {
            "_model_module": "@jupyter-widgets/base",
            "_model_module_version": "1.2.0",
            "_model_name": "LayoutModel",
            "_view_count": null,
            "_view_module": "@jupyter-widgets/base",
            "_view_module_version": "1.2.0",
            "_view_name": "LayoutView",
            "align_content": null,
            "align_items": null,
            "align_self": null,
            "border": null,
            "bottom": null,
            "display": null,
            "flex": null,
            "flex_flow": null,
            "grid_area": null,
            "grid_auto_columns": null,
            "grid_auto_flow": null,
            "grid_auto_rows": null,
            "grid_column": null,
            "grid_gap": null,
            "grid_row": null,
            "grid_template_areas": null,
            "grid_template_columns": null,
            "grid_template_rows": null,
            "height": null,
            "justify_content": null,
            "justify_items": null,
            "left": null,
            "margin": null,
            "max_height": null,
            "max_width": null,
            "min_height": null,
            "min_width": null,
            "object_fit": null,
            "object_position": null,
            "order": null,
            "overflow": null,
            "overflow_x": null,
            "overflow_y": null,
            "padding": null,
            "right": null,
            "top": null,
            "visibility": null,
            "width": null
          }
        },
        "dd7985e168784c98826b3bfc093a68c4": {
          "model_module": "@jupyter-widgets/base",
          "model_name": "LayoutModel",
          "model_module_version": "1.2.0",
          "state": {
            "_model_module": "@jupyter-widgets/base",
            "_model_module_version": "1.2.0",
            "_model_name": "LayoutModel",
            "_view_count": null,
            "_view_module": "@jupyter-widgets/base",
            "_view_module_version": "1.2.0",
            "_view_name": "LayoutView",
            "align_content": null,
            "align_items": null,
            "align_self": null,
            "border": null,
            "bottom": null,
            "display": null,
            "flex": null,
            "flex_flow": null,
            "grid_area": null,
            "grid_auto_columns": null,
            "grid_auto_flow": null,
            "grid_auto_rows": null,
            "grid_column": null,
            "grid_gap": null,
            "grid_row": null,
            "grid_template_areas": null,
            "grid_template_columns": null,
            "grid_template_rows": null,
            "height": null,
            "justify_content": null,
            "justify_items": null,
            "left": null,
            "margin": null,
            "max_height": null,
            "max_width": null,
            "min_height": null,
            "min_width": null,
            "object_fit": null,
            "object_position": null,
            "order": null,
            "overflow": null,
            "overflow_x": null,
            "overflow_y": null,
            "padding": null,
            "right": null,
            "top": null,
            "visibility": null,
            "width": null
          }
        },
        "54e5617990e644ce836a851e4f14acfc": {
          "model_module": "@jupyter-widgets/controls",
          "model_name": "DescriptionStyleModel",
          "model_module_version": "1.5.0",
          "state": {
            "_model_module": "@jupyter-widgets/controls",
            "_model_module_version": "1.5.0",
            "_model_name": "DescriptionStyleModel",
            "_view_count": null,
            "_view_module": "@jupyter-widgets/base",
            "_view_module_version": "1.2.0",
            "_view_name": "StyleView",
            "description_width": ""
          }
        },
        "90090997853b470b95fb848334a90648": {
          "model_module": "@jupyter-widgets/base",
          "model_name": "LayoutModel",
          "model_module_version": "1.2.0",
          "state": {
            "_model_module": "@jupyter-widgets/base",
            "_model_module_version": "1.2.0",
            "_model_name": "LayoutModel",
            "_view_count": null,
            "_view_module": "@jupyter-widgets/base",
            "_view_module_version": "1.2.0",
            "_view_name": "LayoutView",
            "align_content": null,
            "align_items": null,
            "align_self": null,
            "border": null,
            "bottom": null,
            "display": null,
            "flex": null,
            "flex_flow": null,
            "grid_area": null,
            "grid_auto_columns": null,
            "grid_auto_flow": null,
            "grid_auto_rows": null,
            "grid_column": null,
            "grid_gap": null,
            "grid_row": null,
            "grid_template_areas": null,
            "grid_template_columns": null,
            "grid_template_rows": null,
            "height": null,
            "justify_content": null,
            "justify_items": null,
            "left": null,
            "margin": null,
            "max_height": null,
            "max_width": null,
            "min_height": null,
            "min_width": null,
            "object_fit": null,
            "object_position": null,
            "order": null,
            "overflow": null,
            "overflow_x": null,
            "overflow_y": null,
            "padding": null,
            "right": null,
            "top": null,
            "visibility": null,
            "width": null
          }
        },
        "c22065fd3db74568b75c4d761bda0724": {
          "model_module": "@jupyter-widgets/controls",
          "model_name": "ProgressStyleModel",
          "model_module_version": "1.5.0",
          "state": {
            "_model_module": "@jupyter-widgets/controls",
            "_model_module_version": "1.5.0",
            "_model_name": "ProgressStyleModel",
            "_view_count": null,
            "_view_module": "@jupyter-widgets/base",
            "_view_module_version": "1.2.0",
            "_view_name": "StyleView",
            "bar_color": null,
            "description_width": ""
          }
        },
        "e9a3eae4812543f0b774cc97bc4b7b1b": {
          "model_module": "@jupyter-widgets/base",
          "model_name": "LayoutModel",
          "model_module_version": "1.2.0",
          "state": {
            "_model_module": "@jupyter-widgets/base",
            "_model_module_version": "1.2.0",
            "_model_name": "LayoutModel",
            "_view_count": null,
            "_view_module": "@jupyter-widgets/base",
            "_view_module_version": "1.2.0",
            "_view_name": "LayoutView",
            "align_content": null,
            "align_items": null,
            "align_self": null,
            "border": null,
            "bottom": null,
            "display": null,
            "flex": null,
            "flex_flow": null,
            "grid_area": null,
            "grid_auto_columns": null,
            "grid_auto_flow": null,
            "grid_auto_rows": null,
            "grid_column": null,
            "grid_gap": null,
            "grid_row": null,
            "grid_template_areas": null,
            "grid_template_columns": null,
            "grid_template_rows": null,
            "height": null,
            "justify_content": null,
            "justify_items": null,
            "left": null,
            "margin": null,
            "max_height": null,
            "max_width": null,
            "min_height": null,
            "min_width": null,
            "object_fit": null,
            "object_position": null,
            "order": null,
            "overflow": null,
            "overflow_x": null,
            "overflow_y": null,
            "padding": null,
            "right": null,
            "top": null,
            "visibility": null,
            "width": null
          }
        },
        "1c5cd894f7794e7f8e1b4ba8dba082c9": {
          "model_module": "@jupyter-widgets/controls",
          "model_name": "DescriptionStyleModel",
          "model_module_version": "1.5.0",
          "state": {
            "_model_module": "@jupyter-widgets/controls",
            "_model_module_version": "1.5.0",
            "_model_name": "DescriptionStyleModel",
            "_view_count": null,
            "_view_module": "@jupyter-widgets/base",
            "_view_module_version": "1.2.0",
            "_view_name": "StyleView",
            "description_width": ""
          }
        }
      }
    }
  },
  "nbformat": 4,
  "nbformat_minor": 0
}