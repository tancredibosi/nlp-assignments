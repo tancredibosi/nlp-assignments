{
  "cells": [
    {
      "cell_type": "markdown",
      "metadata": {
        "id": "qE4WC2_4wygJ"
      },
      "source": [
        "# Assignment 1\n",
        "**Credits**: Federico Ruggeri, Eleonora Mancini, Paolo Torroni\n",
        "\n",
        "**Keywords**: Sexism Detection, Multi-class Classification, RNNs, Transformers, Huggingface\n",
        "\n"
      ]
    },
    {
      "cell_type": "markdown",
      "metadata": {
        "id": "fL69zGpmx01k"
      },
      "source": [
        "# Contact\n",
        "For any doubt, question, issue or help, you can always contact us at the following email addresses:\n",
        "\n",
        "Teaching Assistants:\n",
        "\n",
        "- Federico Ruggeri -> federico.ruggeri6@unibo.it\n",
        "- Eleonora Mancini -> e.mancini@unibo.it\n",
        "\n",
        "Professor:\n",
        "- Paolo Torroni -> p.torroni@unibo.it"
      ]
    },
    {
      "cell_type": "markdown",
      "metadata": {
        "id": "55jnW-xKxi-2"
      },
      "source": [
        "# Introduction\n",
        "You are asked to address the [EXIST 2023 Task 1](https://clef2023.clef-initiative.eu/index.php?page=Pages/labs.html#EXIST) on sexism detection."
      ]
    },
    {
      "cell_type": "markdown",
      "metadata": {
        "id": "9HWp5bGwySsb"
      },
      "source": [
        "## Problem Definition\n",
        "The systems have to decide whether or not a given tweet contains or describes sexist expressions or behaviors (i.e., it is sexist itself, describes a sexist situation or criticizes a sexist behavior).\n",
        "\n",
        "### Examples:\n",
        "\n",
        "**Text**: *Can’t go a day without women womening*\n",
        "\n",
        "**Label**: Sexist\n",
        "\n",
        "**Text**: *''Society's set norms! Happy men's day though!#weareequal''*\n",
        "\n",
        "**Label**: Not sexist"
      ]
    },
    {
      "cell_type": "markdown",
      "metadata": {
        "id": "2iu1X4I98M8B"
      },
      "source": [
        "#[Task 1 - 1.0 points] Corpus\n",
        "\n",
        "We have preparared a small version of EXIST dataset in our dedicated [Github repository](https://github.com/lt-nlp-lab-unibo/nlp-course-material/tree/main/2024-2025/Assignment%201/data).\n",
        "\n",
        "Check the `A1/data` folder. It contains 3 `.json` files representing `training`, `validation` and `test` sets.\n",
        "\n",
        "The three sets are slightly unbalanced, with a bias toward the `Non-sexist` class.\n",
        "\n"
      ]
    },
    {
      "cell_type": "markdown",
      "metadata": {
        "id": "AASoMV9XN5l6"
      },
      "source": [
        "### Dataset Description\n",
        "- The dataset contains tweets in both English and Spanish.\n",
        "- There are labels for multiple tasks, but we are focusing on **Task 1**.\n",
        "- For Task 1, soft labels are assigned by six annotators.\n",
        "- The labels for Task 1 represent whether the tweet is sexist (\"YES\") or not (\"NO\").\n",
        "\n",
        "\n",
        "\n",
        "\n"
      ]
    },
    {
      "cell_type": "markdown",
      "metadata": {
        "id": "OFjwB_lCOQKj"
      },
      "source": [
        "\n",
        "### Example\n",
        "\n",
        "\n",
        "    \"203260\": {\n",
        "        \"id_EXIST\": \"203260\",\n",
        "        \"lang\": \"en\",\n",
        "        \"tweet\": \"ik when mandy says “you look like a whore” i look cute as FUCK\",\n",
        "        \"number_annotators\": 6,\n",
        "        \"annotators\": [\"Annotator_473\", \"Annotator_474\", \"Annotator_475\", \"Annotator_476\", \"Annotator_477\", \"Annotator_27\"],\n",
        "        \"gender_annotators\": [\"F\", \"F\", \"M\", \"M\", \"M\", \"F\"],\n",
        "        \"age_annotators\": [\"18-22\", \"23-45\", \"18-22\", \"23-45\", \"46+\", \"46+\"],\n",
        "        \"labels_task1\": [\"YES\", \"YES\", \"YES\", \"NO\", \"YES\", \"YES\"],\n",
        "        \"labels_task2\": [\"DIRECT\", \"DIRECT\", \"REPORTED\", \"-\", \"JUDGEMENTAL\", \"REPORTED\"],\n",
        "        \"labels_task3\": [\n",
        "          [\"STEREOTYPING-DOMINANCE\"],\n",
        "          [\"OBJECTIFICATION\"],\n",
        "          [\"SEXUAL-VIOLENCE\"],\n",
        "          [\"-\"],\n",
        "          [\"STEREOTYPING-DOMINANCE\", \"OBJECTIFICATION\"],\n",
        "          [\"OBJECTIFICATION\"]\n",
        "        ],\n",
        "        \"split\": \"TRAIN_EN\"\n",
        "      }\n",
        "    }"
      ]
    },
    {
      "cell_type": "markdown",
      "metadata": {
        "id": "BJ45bvuOOJ7I"
      },
      "source": [
        "### Instructions\n",
        "1. **Download** the `A1/data` folder.\n",
        "2. **Load** the three JSON files and encode them as pandas dataframes.\n",
        "3. **Generate hard labels** for Task 1 using majority voting and store them in a new dataframe column called `hard_label_task1`. Items without a clear majority will be removed from the dataset.\n",
        "4. **Filter the DataFrame** to keep only rows where the `lang` column is `'en'`.\n",
        "5. **Remove unwanted columns**: Keep only `id_EXIST`, `lang`, `tweet`, and `hard_label_task1`.\n",
        "6. **Encode the `hard_label_task1` column**: Use 1 to represent \"YES\" and 0 to represent \"NO\"."
      ]
    },
    {
      "cell_type": "markdown",
      "source": [
        "### Import useful libraries"
      ],
      "metadata": {
        "id": "lgUwXU4uhyQY"
      }
    },
    {
      "cell_type": "code",
      "source": [
        "!pip install datasets"
      ],
      "metadata": {
        "colab": {
          "base_uri": "https://localhost:8080/"
        },
        "id": "gODGLvxqJZlX",
        "outputId": "5155313a-a5f8-4817-d831-caea80083dca"
      },
      "execution_count": 4,
      "outputs": [
        {
          "output_type": "stream",
          "name": "stdout",
          "text": [
            "Collecting datasets\n",
            "  Using cached datasets-3.1.0-py3-none-any.whl.metadata (20 kB)\n",
            "Requirement already satisfied: filelock in /usr/local/lib/python3.10/dist-packages (from datasets) (3.16.1)\n",
            "Requirement already satisfied: numpy>=1.17 in /usr/local/lib/python3.10/dist-packages (from datasets) (1.26.4)\n",
            "Requirement already satisfied: pyarrow>=15.0.0 in /usr/local/lib/python3.10/dist-packages (from datasets) (17.0.0)\n",
            "Collecting dill<0.3.9,>=0.3.0 (from datasets)\n",
            "  Using cached dill-0.3.8-py3-none-any.whl.metadata (10 kB)\n",
            "Requirement already satisfied: pandas in /usr/local/lib/python3.10/dist-packages (from datasets) (2.2.2)\n",
            "Requirement already satisfied: requests>=2.32.2 in /usr/local/lib/python3.10/dist-packages (from datasets) (2.32.3)\n",
            "Requirement already satisfied: tqdm>=4.66.3 in /usr/local/lib/python3.10/dist-packages (from datasets) (4.66.6)\n",
            "Collecting xxhash (from datasets)\n",
            "  Using cached xxhash-3.5.0-cp310-cp310-manylinux_2_17_x86_64.manylinux2014_x86_64.whl.metadata (12 kB)\n",
            "Collecting multiprocess<0.70.17 (from datasets)\n",
            "  Using cached multiprocess-0.70.16-py310-none-any.whl.metadata (7.2 kB)\n",
            "Collecting fsspec<=2024.9.0,>=2023.1.0 (from fsspec[http]<=2024.9.0,>=2023.1.0->datasets)\n",
            "  Using cached fsspec-2024.9.0-py3-none-any.whl.metadata (11 kB)\n",
            "Requirement already satisfied: aiohttp in /usr/local/lib/python3.10/dist-packages (from datasets) (3.11.2)\n",
            "Requirement already satisfied: huggingface-hub>=0.23.0 in /usr/local/lib/python3.10/dist-packages (from datasets) (0.26.2)\n",
            "Requirement already satisfied: packaging in /usr/local/lib/python3.10/dist-packages (from datasets) (24.2)\n",
            "Requirement already satisfied: pyyaml>=5.1 in /usr/local/lib/python3.10/dist-packages (from datasets) (6.0.2)\n",
            "Requirement already satisfied: aiohappyeyeballs>=2.3.0 in /usr/local/lib/python3.10/dist-packages (from aiohttp->datasets) (2.4.3)\n",
            "Requirement already satisfied: aiosignal>=1.1.2 in /usr/local/lib/python3.10/dist-packages (from aiohttp->datasets) (1.3.1)\n",
            "Requirement already satisfied: attrs>=17.3.0 in /usr/local/lib/python3.10/dist-packages (from aiohttp->datasets) (24.2.0)\n",
            "Requirement already satisfied: frozenlist>=1.1.1 in /usr/local/lib/python3.10/dist-packages (from aiohttp->datasets) (1.5.0)\n",
            "Requirement already satisfied: multidict<7.0,>=4.5 in /usr/local/lib/python3.10/dist-packages (from aiohttp->datasets) (6.1.0)\n",
            "Requirement already satisfied: propcache>=0.2.0 in /usr/local/lib/python3.10/dist-packages (from aiohttp->datasets) (0.2.0)\n",
            "Requirement already satisfied: yarl<2.0,>=1.17.0 in /usr/local/lib/python3.10/dist-packages (from aiohttp->datasets) (1.17.2)\n",
            "Requirement already satisfied: async-timeout<6.0,>=4.0 in /usr/local/lib/python3.10/dist-packages (from aiohttp->datasets) (4.0.3)\n",
            "Requirement already satisfied: typing-extensions>=3.7.4.3 in /usr/local/lib/python3.10/dist-packages (from huggingface-hub>=0.23.0->datasets) (4.12.2)\n",
            "Requirement already satisfied: charset-normalizer<4,>=2 in /usr/local/lib/python3.10/dist-packages (from requests>=2.32.2->datasets) (3.4.0)\n",
            "Requirement already satisfied: idna<4,>=2.5 in /usr/local/lib/python3.10/dist-packages (from requests>=2.32.2->datasets) (3.10)\n",
            "Requirement already satisfied: urllib3<3,>=1.21.1 in /usr/local/lib/python3.10/dist-packages (from requests>=2.32.2->datasets) (2.2.3)\n",
            "Requirement already satisfied: certifi>=2017.4.17 in /usr/local/lib/python3.10/dist-packages (from requests>=2.32.2->datasets) (2024.8.30)\n",
            "Requirement already satisfied: python-dateutil>=2.8.2 in /usr/local/lib/python3.10/dist-packages (from pandas->datasets) (2.8.2)\n",
            "Requirement already satisfied: pytz>=2020.1 in /usr/local/lib/python3.10/dist-packages (from pandas->datasets) (2024.2)\n",
            "Requirement already satisfied: tzdata>=2022.7 in /usr/local/lib/python3.10/dist-packages (from pandas->datasets) (2024.2)\n",
            "Requirement already satisfied: six>=1.5 in /usr/local/lib/python3.10/dist-packages (from python-dateutil>=2.8.2->pandas->datasets) (1.16.0)\n",
            "Using cached datasets-3.1.0-py3-none-any.whl (480 kB)\n",
            "Using cached dill-0.3.8-py3-none-any.whl (116 kB)\n",
            "Using cached fsspec-2024.9.0-py3-none-any.whl (179 kB)\n",
            "Using cached multiprocess-0.70.16-py310-none-any.whl (134 kB)\n",
            "Using cached xxhash-3.5.0-cp310-cp310-manylinux_2_17_x86_64.manylinux2014_x86_64.whl (194 kB)\n",
            "Installing collected packages: xxhash, fsspec, dill, multiprocess, datasets\n",
            "  Attempting uninstall: fsspec\n",
            "    Found existing installation: fsspec 2024.10.0\n",
            "    Uninstalling fsspec-2024.10.0:\n",
            "      Successfully uninstalled fsspec-2024.10.0\n",
            "\u001b[31mERROR: pip's dependency resolver does not currently take into account all the packages that are installed. This behaviour is the source of the following dependency conflicts.\n",
            "gcsfs 2024.10.0 requires fsspec==2024.10.0, but you have fsspec 2024.9.0 which is incompatible.\u001b[0m\u001b[31m\n",
            "\u001b[0mSuccessfully installed datasets-3.1.0 dill-0.3.8 fsspec-2024.9.0 multiprocess-0.70.16 xxhash-3.5.0\n"
          ]
        }
      ]
    },
    {
      "cell_type": "code",
      "execution_count": 5,
      "metadata": {
        "id": "fhhV827nxpUo"
      },
      "outputs": [],
      "source": [
        "import os\n",
        "import requests\n",
        "from pathlib import Path\n",
        "import pandas as pd\n",
        "import matplotlib.pyplot as plt\n",
        "import seaborn as sns\n",
        "import json\n",
        "import zipfile\n",
        "import numpy as np\n",
        "from tqdm import tqdm\n",
        "import random\n",
        "import copy\n",
        "import re\n",
        "import string\n",
        "import nltk\n",
        "from nltk.corpus import stopwords\n",
        "from nltk.tokenize import word_tokenize\n",
        "from nltk.stem import WordNetLemmatizer\n",
        "from sklearn.metrics import precision_score, recall_score, f1_score, accuracy_score, confusion_matrix, precision_recall_curve, PrecisionRecallDisplay, classification_report\n",
        "from IPython.display import display, HTML\n",
        "from wordcloud import WordCloud\n",
        "from collections import Counter\n",
        "import torch\n",
        "import torch.nn as nn\n",
        "import torch.optim as optim\n",
        "from torch.utils.data import DataLoader, TensorDataset\n",
        "\n",
        "from transformers import AutoModelForSequenceClassification\n",
        "from transformers import TFAutoModelForSequenceClassification\n",
        "from transformers import AutoTokenizer\n",
        "from scipy.special import softmax\n",
        "import csv\n",
        "import urllib.request\n",
        "from datasets import Dataset\n",
        "from transformers import TrainingArguments\n",
        "from transformers import DataCollatorWithPadding\n",
        "from transformers import Trainer\n",
        "\n",
        "import warnings\n",
        "\n",
        "warnings.filterwarnings(\"ignore\", category=FutureWarning)"
      ]
    },
    {
      "cell_type": "markdown",
      "source": [
        "### Create train, validation and test DataFrames\n",
        " * Download json files *test.json*, *training.json* and *validation.json* from [here](https://raw.githubusercontent.com/nlp-unibo/nlp-course-material/refs/heads/main/2024-2025/Assignment%201/data/).\n",
        " * Load the json files into pandas DataFrames"
      ],
      "metadata": {
        "id": "IPrSa-NCh2Fm"
      }
    },
    {
      "cell_type": "code",
      "execution_count": 6,
      "metadata": {
        "colab": {
          "base_uri": "https://localhost:8080/"
        },
        "id": "2PLUT2sRlktM",
        "outputId": "01a2f904-397c-43a1-f21c-f14f5432ed75"
      },
      "outputs": [
        {
          "output_type": "stream",
          "name": "stdout",
          "text": [
            "Downloaded test.json\n",
            "Downloaded training.json\n",
            "Downloaded validation.json\n"
          ]
        }
      ],
      "source": [
        "base_url = \"https://raw.githubusercontent.com/nlp-unibo/nlp-course-material/refs/heads/main/2024-2025/Assignment%201/data/\"\n",
        "json_files = [\"test.json\", \"training.json\", \"validation.json\"]\n",
        "local_dir = Path(\"Assignment%201/data\")\n",
        "local_dir.mkdir(parents=True, exist_ok=True)\n",
        "\n",
        "# Download each file\n",
        "for file_name in json_files:\n",
        "    url = base_url + file_name\n",
        "    response = requests.get(url)\n",
        "    if response.status_code == 200:\n",
        "        with open(local_dir / file_name, \"wb\") as file:\n",
        "            file.write(response.content)\n",
        "        print(f\"Downloaded {file_name}\")\n",
        "    else:\n",
        "        print(f\"Failed to download {file_name}\")\n",
        "\n",
        "# Load JSON files into pandas DataFrames\n",
        "dataframes = {}\n",
        "for file_name in json_files:\n",
        "    with open(local_dir / file_name, \"r\") as file:\n",
        "        data = json.load(file)\n",
        "        dataframes[file_name] = pd.DataFrame(data)\n",
        "\n",
        "original_train_df = dataframes['training.json']\n",
        "original_validation_df = dataframes['validation.json']\n",
        "original_test_df = dataframes['test.json']"
      ]
    },
    {
      "cell_type": "markdown",
      "source": [
        "### Transform the DataFrames as requested"
      ],
      "metadata": {
        "id": "GX5l8UYxjBhI"
      }
    },
    {
      "cell_type": "code",
      "execution_count": 7,
      "metadata": {
        "id": "051WwmQmvFdm"
      },
      "outputs": [],
      "source": [
        "def determine_majority(response_list):\n",
        "    yes_count = response_list.count(\"YES\")\n",
        "    no_count = response_list.count(\"NO\")\n",
        "    if yes_count > no_count:\n",
        "        return 1\n",
        "    elif no_count > yes_count:\n",
        "        return 0\n",
        "    else:\n",
        "        return 2\n",
        "\n",
        "def transform_df(df):\n",
        "    df = df.T\n",
        "    df['hard_label_task1'] = df['labels_task1'].apply(determine_majority)\n",
        "    df = df[df['lang'] == 'en']\n",
        "    df = df[df['hard_label_task1'] != 2]\n",
        "    df = df[['id_EXIST', 'lang', 'tweet', 'hard_label_task1']]\n",
        "\n",
        "    return df"
      ]
    },
    {
      "cell_type": "code",
      "execution_count": 8,
      "metadata": {
        "colab": {
          "base_uri": "https://localhost:8080/",
          "height": 424
        },
        "id": "AEAflhr1vtX5",
        "outputId": "f05c84dd-6405-40b2-aa45-7e6da262828f"
      },
      "outputs": [
        {
          "output_type": "execute_result",
          "data": {
            "text/plain": [
              "       id_EXIST lang                                              tweet  \\\n",
              "200002   200002   en  Writing a uni essay in my local pub with a cof...   \n",
              "200003   200003   en  @UniversalORL it is 2021 not 1921. I dont appr...   \n",
              "200006   200006   en  According to a customer I have plenty of time ...   \n",
              "200007   200007   en  So only 'blokes' drink beer? Sorry, but if you...   \n",
              "200008   200008   en  New to the shelves this week - looking forward...   \n",
              "...         ...  ...                                                ...   \n",
              "203256   203256   en  idk why y’all bitches think having half your a...   \n",
              "203257   203257   en  This has been a part of an experiment with @Wo...   \n",
              "203258   203258   en  \"Take me already\" \"Not yet. You gotta be ready...   \n",
              "203259   203259   en  @clintneedcoffee why do you look like a whore?...   \n",
              "203260   203260   en  ik when mandy says “you look like a whore” i l...   \n",
              "\n",
              "        hard_label_task1  \n",
              "200002                 1  \n",
              "200003                 1  \n",
              "200006                 1  \n",
              "200007                 1  \n",
              "200008                 0  \n",
              "...                  ...  \n",
              "203256                 1  \n",
              "203257                 1  \n",
              "203258                 1  \n",
              "203259                 1  \n",
              "203260                 1  \n",
              "\n",
              "[2870 rows x 4 columns]"
            ],
            "text/html": [
              "\n",
              "  <div id=\"df-086b521d-5fa2-43fa-99aa-88c722987dad\" class=\"colab-df-container\">\n",
              "    <div>\n",
              "<style scoped>\n",
              "    .dataframe tbody tr th:only-of-type {\n",
              "        vertical-align: middle;\n",
              "    }\n",
              "\n",
              "    .dataframe tbody tr th {\n",
              "        vertical-align: top;\n",
              "    }\n",
              "\n",
              "    .dataframe thead th {\n",
              "        text-align: right;\n",
              "    }\n",
              "</style>\n",
              "<table border=\"1\" class=\"dataframe\">\n",
              "  <thead>\n",
              "    <tr style=\"text-align: right;\">\n",
              "      <th></th>\n",
              "      <th>id_EXIST</th>\n",
              "      <th>lang</th>\n",
              "      <th>tweet</th>\n",
              "      <th>hard_label_task1</th>\n",
              "    </tr>\n",
              "  </thead>\n",
              "  <tbody>\n",
              "    <tr>\n",
              "      <th>200002</th>\n",
              "      <td>200002</td>\n",
              "      <td>en</td>\n",
              "      <td>Writing a uni essay in my local pub with a cof...</td>\n",
              "      <td>1</td>\n",
              "    </tr>\n",
              "    <tr>\n",
              "      <th>200003</th>\n",
              "      <td>200003</td>\n",
              "      <td>en</td>\n",
              "      <td>@UniversalORL it is 2021 not 1921. I dont appr...</td>\n",
              "      <td>1</td>\n",
              "    </tr>\n",
              "    <tr>\n",
              "      <th>200006</th>\n",
              "      <td>200006</td>\n",
              "      <td>en</td>\n",
              "      <td>According to a customer I have plenty of time ...</td>\n",
              "      <td>1</td>\n",
              "    </tr>\n",
              "    <tr>\n",
              "      <th>200007</th>\n",
              "      <td>200007</td>\n",
              "      <td>en</td>\n",
              "      <td>So only 'blokes' drink beer? Sorry, but if you...</td>\n",
              "      <td>1</td>\n",
              "    </tr>\n",
              "    <tr>\n",
              "      <th>200008</th>\n",
              "      <td>200008</td>\n",
              "      <td>en</td>\n",
              "      <td>New to the shelves this week - looking forward...</td>\n",
              "      <td>0</td>\n",
              "    </tr>\n",
              "    <tr>\n",
              "      <th>...</th>\n",
              "      <td>...</td>\n",
              "      <td>...</td>\n",
              "      <td>...</td>\n",
              "      <td>...</td>\n",
              "    </tr>\n",
              "    <tr>\n",
              "      <th>203256</th>\n",
              "      <td>203256</td>\n",
              "      <td>en</td>\n",
              "      <td>idk why y’all bitches think having half your a...</td>\n",
              "      <td>1</td>\n",
              "    </tr>\n",
              "    <tr>\n",
              "      <th>203257</th>\n",
              "      <td>203257</td>\n",
              "      <td>en</td>\n",
              "      <td>This has been a part of an experiment with @Wo...</td>\n",
              "      <td>1</td>\n",
              "    </tr>\n",
              "    <tr>\n",
              "      <th>203258</th>\n",
              "      <td>203258</td>\n",
              "      <td>en</td>\n",
              "      <td>\"Take me already\" \"Not yet. You gotta be ready...</td>\n",
              "      <td>1</td>\n",
              "    </tr>\n",
              "    <tr>\n",
              "      <th>203259</th>\n",
              "      <td>203259</td>\n",
              "      <td>en</td>\n",
              "      <td>@clintneedcoffee why do you look like a whore?...</td>\n",
              "      <td>1</td>\n",
              "    </tr>\n",
              "    <tr>\n",
              "      <th>203260</th>\n",
              "      <td>203260</td>\n",
              "      <td>en</td>\n",
              "      <td>ik when mandy says “you look like a whore” i l...</td>\n",
              "      <td>1</td>\n",
              "    </tr>\n",
              "  </tbody>\n",
              "</table>\n",
              "<p>2870 rows × 4 columns</p>\n",
              "</div>\n",
              "    <div class=\"colab-df-buttons\">\n",
              "\n",
              "  <div class=\"colab-df-container\">\n",
              "    <button class=\"colab-df-convert\" onclick=\"convertToInteractive('df-086b521d-5fa2-43fa-99aa-88c722987dad')\"\n",
              "            title=\"Convert this dataframe to an interactive table.\"\n",
              "            style=\"display:none;\">\n",
              "\n",
              "  <svg xmlns=\"http://www.w3.org/2000/svg\" height=\"24px\" viewBox=\"0 -960 960 960\">\n",
              "    <path d=\"M120-120v-720h720v720H120Zm60-500h600v-160H180v160Zm220 220h160v-160H400v160Zm0 220h160v-160H400v160ZM180-400h160v-160H180v160Zm440 0h160v-160H620v160ZM180-180h160v-160H180v160Zm440 0h160v-160H620v160Z\"/>\n",
              "  </svg>\n",
              "    </button>\n",
              "\n",
              "  <style>\n",
              "    .colab-df-container {\n",
              "      display:flex;\n",
              "      gap: 12px;\n",
              "    }\n",
              "\n",
              "    .colab-df-convert {\n",
              "      background-color: #E8F0FE;\n",
              "      border: none;\n",
              "      border-radius: 50%;\n",
              "      cursor: pointer;\n",
              "      display: none;\n",
              "      fill: #1967D2;\n",
              "      height: 32px;\n",
              "      padding: 0 0 0 0;\n",
              "      width: 32px;\n",
              "    }\n",
              "\n",
              "    .colab-df-convert:hover {\n",
              "      background-color: #E2EBFA;\n",
              "      box-shadow: 0px 1px 2px rgba(60, 64, 67, 0.3), 0px 1px 3px 1px rgba(60, 64, 67, 0.15);\n",
              "      fill: #174EA6;\n",
              "    }\n",
              "\n",
              "    .colab-df-buttons div {\n",
              "      margin-bottom: 4px;\n",
              "    }\n",
              "\n",
              "    [theme=dark] .colab-df-convert {\n",
              "      background-color: #3B4455;\n",
              "      fill: #D2E3FC;\n",
              "    }\n",
              "\n",
              "    [theme=dark] .colab-df-convert:hover {\n",
              "      background-color: #434B5C;\n",
              "      box-shadow: 0px 1px 3px 1px rgba(0, 0, 0, 0.15);\n",
              "      filter: drop-shadow(0px 1px 2px rgba(0, 0, 0, 0.3));\n",
              "      fill: #FFFFFF;\n",
              "    }\n",
              "  </style>\n",
              "\n",
              "    <script>\n",
              "      const buttonEl =\n",
              "        document.querySelector('#df-086b521d-5fa2-43fa-99aa-88c722987dad button.colab-df-convert');\n",
              "      buttonEl.style.display =\n",
              "        google.colab.kernel.accessAllowed ? 'block' : 'none';\n",
              "\n",
              "      async function convertToInteractive(key) {\n",
              "        const element = document.querySelector('#df-086b521d-5fa2-43fa-99aa-88c722987dad');\n",
              "        const dataTable =\n",
              "          await google.colab.kernel.invokeFunction('convertToInteractive',\n",
              "                                                    [key], {});\n",
              "        if (!dataTable) return;\n",
              "\n",
              "        const docLinkHtml = 'Like what you see? Visit the ' +\n",
              "          '<a target=\"_blank\" href=https://colab.research.google.com/notebooks/data_table.ipynb>data table notebook</a>'\n",
              "          + ' to learn more about interactive tables.';\n",
              "        element.innerHTML = '';\n",
              "        dataTable['output_type'] = 'display_data';\n",
              "        await google.colab.output.renderOutput(dataTable, element);\n",
              "        const docLink = document.createElement('div');\n",
              "        docLink.innerHTML = docLinkHtml;\n",
              "        element.appendChild(docLink);\n",
              "      }\n",
              "    </script>\n",
              "  </div>\n",
              "\n",
              "\n",
              "<div id=\"df-de1dc9f5-68d5-4ac7-8dae-5693bb9f6527\">\n",
              "  <button class=\"colab-df-quickchart\" onclick=\"quickchart('df-de1dc9f5-68d5-4ac7-8dae-5693bb9f6527')\"\n",
              "            title=\"Suggest charts\"\n",
              "            style=\"display:none;\">\n",
              "\n",
              "<svg xmlns=\"http://www.w3.org/2000/svg\" height=\"24px\"viewBox=\"0 0 24 24\"\n",
              "     width=\"24px\">\n",
              "    <g>\n",
              "        <path d=\"M19 3H5c-1.1 0-2 .9-2 2v14c0 1.1.9 2 2 2h14c1.1 0 2-.9 2-2V5c0-1.1-.9-2-2-2zM9 17H7v-7h2v7zm4 0h-2V7h2v10zm4 0h-2v-4h2v4z\"/>\n",
              "    </g>\n",
              "</svg>\n",
              "  </button>\n",
              "\n",
              "<style>\n",
              "  .colab-df-quickchart {\n",
              "      --bg-color: #E8F0FE;\n",
              "      --fill-color: #1967D2;\n",
              "      --hover-bg-color: #E2EBFA;\n",
              "      --hover-fill-color: #174EA6;\n",
              "      --disabled-fill-color: #AAA;\n",
              "      --disabled-bg-color: #DDD;\n",
              "  }\n",
              "\n",
              "  [theme=dark] .colab-df-quickchart {\n",
              "      --bg-color: #3B4455;\n",
              "      --fill-color: #D2E3FC;\n",
              "      --hover-bg-color: #434B5C;\n",
              "      --hover-fill-color: #FFFFFF;\n",
              "      --disabled-bg-color: #3B4455;\n",
              "      --disabled-fill-color: #666;\n",
              "  }\n",
              "\n",
              "  .colab-df-quickchart {\n",
              "    background-color: var(--bg-color);\n",
              "    border: none;\n",
              "    border-radius: 50%;\n",
              "    cursor: pointer;\n",
              "    display: none;\n",
              "    fill: var(--fill-color);\n",
              "    height: 32px;\n",
              "    padding: 0;\n",
              "    width: 32px;\n",
              "  }\n",
              "\n",
              "  .colab-df-quickchart:hover {\n",
              "    background-color: var(--hover-bg-color);\n",
              "    box-shadow: 0 1px 2px rgba(60, 64, 67, 0.3), 0 1px 3px 1px rgba(60, 64, 67, 0.15);\n",
              "    fill: var(--button-hover-fill-color);\n",
              "  }\n",
              "\n",
              "  .colab-df-quickchart-complete:disabled,\n",
              "  .colab-df-quickchart-complete:disabled:hover {\n",
              "    background-color: var(--disabled-bg-color);\n",
              "    fill: var(--disabled-fill-color);\n",
              "    box-shadow: none;\n",
              "  }\n",
              "\n",
              "  .colab-df-spinner {\n",
              "    border: 2px solid var(--fill-color);\n",
              "    border-color: transparent;\n",
              "    border-bottom-color: var(--fill-color);\n",
              "    animation:\n",
              "      spin 1s steps(1) infinite;\n",
              "  }\n",
              "\n",
              "  @keyframes spin {\n",
              "    0% {\n",
              "      border-color: transparent;\n",
              "      border-bottom-color: var(--fill-color);\n",
              "      border-left-color: var(--fill-color);\n",
              "    }\n",
              "    20% {\n",
              "      border-color: transparent;\n",
              "      border-left-color: var(--fill-color);\n",
              "      border-top-color: var(--fill-color);\n",
              "    }\n",
              "    30% {\n",
              "      border-color: transparent;\n",
              "      border-left-color: var(--fill-color);\n",
              "      border-top-color: var(--fill-color);\n",
              "      border-right-color: var(--fill-color);\n",
              "    }\n",
              "    40% {\n",
              "      border-color: transparent;\n",
              "      border-right-color: var(--fill-color);\n",
              "      border-top-color: var(--fill-color);\n",
              "    }\n",
              "    60% {\n",
              "      border-color: transparent;\n",
              "      border-right-color: var(--fill-color);\n",
              "    }\n",
              "    80% {\n",
              "      border-color: transparent;\n",
              "      border-right-color: var(--fill-color);\n",
              "      border-bottom-color: var(--fill-color);\n",
              "    }\n",
              "    90% {\n",
              "      border-color: transparent;\n",
              "      border-bottom-color: var(--fill-color);\n",
              "    }\n",
              "  }\n",
              "</style>\n",
              "\n",
              "  <script>\n",
              "    async function quickchart(key) {\n",
              "      const quickchartButtonEl =\n",
              "        document.querySelector('#' + key + ' button');\n",
              "      quickchartButtonEl.disabled = true;  // To prevent multiple clicks.\n",
              "      quickchartButtonEl.classList.add('colab-df-spinner');\n",
              "      try {\n",
              "        const charts = await google.colab.kernel.invokeFunction(\n",
              "            'suggestCharts', [key], {});\n",
              "      } catch (error) {\n",
              "        console.error('Error during call to suggestCharts:', error);\n",
              "      }\n",
              "      quickchartButtonEl.classList.remove('colab-df-spinner');\n",
              "      quickchartButtonEl.classList.add('colab-df-quickchart-complete');\n",
              "    }\n",
              "    (() => {\n",
              "      let quickchartButtonEl =\n",
              "        document.querySelector('#df-de1dc9f5-68d5-4ac7-8dae-5693bb9f6527 button');\n",
              "      quickchartButtonEl.style.display =\n",
              "        google.colab.kernel.accessAllowed ? 'block' : 'none';\n",
              "    })();\n",
              "  </script>\n",
              "</div>\n",
              "\n",
              "  <div id=\"id_ce9c60a1-87f7-4b9b-a2ba-6b37351299b0\">\n",
              "    <style>\n",
              "      .colab-df-generate {\n",
              "        background-color: #E8F0FE;\n",
              "        border: none;\n",
              "        border-radius: 50%;\n",
              "        cursor: pointer;\n",
              "        display: none;\n",
              "        fill: #1967D2;\n",
              "        height: 32px;\n",
              "        padding: 0 0 0 0;\n",
              "        width: 32px;\n",
              "      }\n",
              "\n",
              "      .colab-df-generate:hover {\n",
              "        background-color: #E2EBFA;\n",
              "        box-shadow: 0px 1px 2px rgba(60, 64, 67, 0.3), 0px 1px 3px 1px rgba(60, 64, 67, 0.15);\n",
              "        fill: #174EA6;\n",
              "      }\n",
              "\n",
              "      [theme=dark] .colab-df-generate {\n",
              "        background-color: #3B4455;\n",
              "        fill: #D2E3FC;\n",
              "      }\n",
              "\n",
              "      [theme=dark] .colab-df-generate:hover {\n",
              "        background-color: #434B5C;\n",
              "        box-shadow: 0px 1px 3px 1px rgba(0, 0, 0, 0.15);\n",
              "        filter: drop-shadow(0px 1px 2px rgba(0, 0, 0, 0.3));\n",
              "        fill: #FFFFFF;\n",
              "      }\n",
              "    </style>\n",
              "    <button class=\"colab-df-generate\" onclick=\"generateWithVariable('original_train_df')\"\n",
              "            title=\"Generate code using this dataframe.\"\n",
              "            style=\"display:none;\">\n",
              "\n",
              "  <svg xmlns=\"http://www.w3.org/2000/svg\" height=\"24px\"viewBox=\"0 0 24 24\"\n",
              "       width=\"24px\">\n",
              "    <path d=\"M7,19H8.4L18.45,9,17,7.55,7,17.6ZM5,21V16.75L18.45,3.32a2,2,0,0,1,2.83,0l1.4,1.43a1.91,1.91,0,0,1,.58,1.4,1.91,1.91,0,0,1-.58,1.4L9.25,21ZM18.45,9,17,7.55Zm-12,3A5.31,5.31,0,0,0,4.9,8.1,5.31,5.31,0,0,0,1,6.5,5.31,5.31,0,0,0,4.9,4.9,5.31,5.31,0,0,0,6.5,1,5.31,5.31,0,0,0,8.1,4.9,5.31,5.31,0,0,0,12,6.5,5.46,5.46,0,0,0,6.5,12Z\"/>\n",
              "  </svg>\n",
              "    </button>\n",
              "    <script>\n",
              "      (() => {\n",
              "      const buttonEl =\n",
              "        document.querySelector('#id_ce9c60a1-87f7-4b9b-a2ba-6b37351299b0 button.colab-df-generate');\n",
              "      buttonEl.style.display =\n",
              "        google.colab.kernel.accessAllowed ? 'block' : 'none';\n",
              "\n",
              "      buttonEl.onclick = () => {\n",
              "        google.colab.notebook.generateWithVariable('original_train_df');\n",
              "      }\n",
              "      })();\n",
              "    </script>\n",
              "  </div>\n",
              "\n",
              "    </div>\n",
              "  </div>\n"
            ],
            "application/vnd.google.colaboratory.intrinsic+json": {
              "type": "dataframe",
              "variable_name": "original_train_df",
              "summary": "{\n  \"name\": \"original_train_df\",\n  \"rows\": 2870,\n  \"fields\": [\n    {\n      \"column\": \"id_EXIST\",\n      \"properties\": {\n        \"dtype\": \"string\",\n        \"num_unique_values\": 2870,\n        \"samples\": [\n          \"200504\",\n          \"202694\",\n          \"200852\"\n        ],\n        \"semantic_type\": \"\",\n        \"description\": \"\"\n      }\n    },\n    {\n      \"column\": \"lang\",\n      \"properties\": {\n        \"dtype\": \"category\",\n        \"num_unique_values\": 1,\n        \"samples\": [\n          \"en\"\n        ],\n        \"semantic_type\": \"\",\n        \"description\": \"\"\n      }\n    },\n    {\n      \"column\": \"tweet\",\n      \"properties\": {\n        \"dtype\": \"string\",\n        \"num_unique_values\": 2870,\n        \"samples\": [\n          \"Call me sexist but it just feels wrong that women are reffing the NBA like go ref the WNBA\\ud83d\\ude2c\"\n        ],\n        \"semantic_type\": \"\",\n        \"description\": \"\"\n      }\n    },\n    {\n      \"column\": \"hard_label_task1\",\n      \"properties\": {\n        \"dtype\": \"number\",\n        \"std\": 0,\n        \"min\": 0,\n        \"max\": 1,\n        \"num_unique_values\": 2,\n        \"samples\": [\n          0\n        ],\n        \"semantic_type\": \"\",\n        \"description\": \"\"\n      }\n    }\n  ]\n}"
            }
          },
          "metadata": {},
          "execution_count": 8
        }
      ],
      "source": [
        "original_train_df = transform_df(original_train_df)\n",
        "original_validation_df = transform_df(original_validation_df)\n",
        "original_test_df = transform_df(original_test_df)\n",
        "original_train_df"
      ]
    },
    {
      "cell_type": "markdown",
      "metadata": {
        "collapsed": false,
        "id": "wevQMsUKlktO"
      },
      "source": [
        "# [Task2 - 0.5 points] Data Cleaning\n",
        "In the context of tweets, we have noisy and informal data that often includes unnecessary elements like emojis, hashtags, mentions, and URLs. These elements may interfere with the text analysis.\n"
      ]
    },
    {
      "cell_type": "markdown",
      "metadata": {
        "collapsed": false,
        "id": "WSQLx9lKlktO"
      },
      "source": [
        "\n",
        "### Instructions\n",
        "- **Remove emojis** from the tweets.\n",
        "- **Remove hashtags** (e.g., `#example`).\n",
        "- **Remove mentions** such as `@user`.\n",
        "- **Remove URLs** from the tweets.\n",
        "- **Remove special characters and symbols**.\n",
        "- **Remove specific quote characters** (e.g., curly quotes).\n",
        "- **Perform lemmatization** to reduce words to their base form."
      ]
    },
    {
      "cell_type": "code",
      "source": [
        "train_df = original_train_df.copy()\n",
        "validation_df = original_validation_df.copy()\n",
        "test_df = original_test_df.copy()"
      ],
      "metadata": {
        "id": "KVVn2iTSzXtZ"
      },
      "execution_count": 9,
      "outputs": []
    },
    {
      "cell_type": "code",
      "source": [
        "nltk.download('punkt')\n",
        "nltk.download('punkt_tab')\n",
        "nltk.download('wordnet')\n",
        "nltk.download('stopwords')"
      ],
      "metadata": {
        "colab": {
          "base_uri": "https://localhost:8080/"
        },
        "id": "p7t9Elrmjl1z",
        "outputId": "be0007be-4071-4355-e4f7-2acfead69fcb"
      },
      "execution_count": 10,
      "outputs": [
        {
          "output_type": "stream",
          "name": "stderr",
          "text": [
            "[nltk_data] Downloading package punkt to /root/nltk_data...\n",
            "[nltk_data]   Unzipping tokenizers/punkt.zip.\n",
            "[nltk_data] Downloading package punkt_tab to /root/nltk_data...\n",
            "[nltk_data]   Unzipping tokenizers/punkt_tab.zip.\n",
            "[nltk_data] Downloading package wordnet to /root/nltk_data...\n",
            "[nltk_data] Downloading package stopwords to /root/nltk_data...\n",
            "[nltk_data]   Unzipping corpora/stopwords.zip.\n"
          ]
        },
        {
          "output_type": "execute_result",
          "data": {
            "text/plain": [
              "True"
            ]
          },
          "metadata": {},
          "execution_count": 10
        }
      ]
    },
    {
      "cell_type": "markdown",
      "source": [
        "### Perform Data Cleaning\n",
        " * Remove emojis\n",
        " * Remove hashtags\n",
        " * Remove mentions\n",
        " * Remove URLs\n",
        " * Remove special characters and symbols\n",
        " * Remove specific quote characters\n",
        " * Convert to lowercase\n",
        " * Tokenize the tweet\n",
        " * Remove stopwords\n",
        " * Lemmatize the word\n"
      ],
      "metadata": {
        "id": "uRvnjYgRkTEy"
      }
    },
    {
      "cell_type": "code",
      "execution_count": 11,
      "metadata": {
        "id": "TMbneneslktO"
      },
      "outputs": [],
      "source": [
        "lemmatizer = WordNetLemmatizer()\n",
        "\n",
        "def clean_tweet(tweet):\n",
        "    tweet = re.sub(r'[^\\x00-\\x7F]+', '', tweet)\n",
        "    tweet = re.sub(r'#\\w+', '', tweet)\n",
        "    tweet = re.sub(r'@\\w+', '', tweet)\n",
        "    tweet = re.sub(r'http\\S+|www\\S+', '', tweet)\n",
        "    tweet = re.sub(r'[^a-zA-Z0-9\\s]', '', tweet)\n",
        "    tweet = tweet.replace('“', '').replace('”', '').replace('‘', '').replace('’', '')\n",
        "    tweet = tweet.lower()\n",
        "    words = word_tokenize(tweet)\n",
        "    stop_words = set(stopwords.words('english'))\n",
        "    words = [lemmatizer.lemmatize(word) for word in words if word not in stop_words]\n",
        "\n",
        "    cleaned_tweet = ' '.join(words)\n",
        "\n",
        "    return cleaned_tweet\n",
        "\n",
        "train_df['tweet'] = train_df['tweet'].apply(clean_tweet)\n",
        "validation_df['tweet'] = validation_df['tweet'].apply(clean_tweet)\n",
        "test_df['tweet'] = test_df['tweet'].apply(clean_tweet)"
      ]
    },
    {
      "cell_type": "code",
      "execution_count": 12,
      "metadata": {
        "colab": {
          "base_uri": "https://localhost:8080/",
          "height": 206
        },
        "id": "mqLmJiyylxDu",
        "outputId": "4feeda53-775e-4a83-c95e-913de1627124"
      },
      "outputs": [
        {
          "output_type": "execute_result",
          "data": {
            "text/plain": [
              "       id_EXIST lang                                              tweet  \\\n",
              "200002   200002   en  writing uni essay local pub coffee random old ...   \n",
              "200003   200003   en  2021 1921 dont appreciate two ride team member...   \n",
              "200006   200006   en  according customer plenty time go spent stirli...   \n",
              "200007   200007   en  bloke drink beer sorry arent bloke drink wine ...   \n",
              "200008   200008   en        new shelf week looking forward reading book   \n",
              "\n",
              "        hard_label_task1  \n",
              "200002                 1  \n",
              "200003                 1  \n",
              "200006                 1  \n",
              "200007                 1  \n",
              "200008                 0  "
            ],
            "text/html": [
              "\n",
              "  <div id=\"df-5aa1d43a-3ed8-4806-a5b3-7ed7f75e28be\" class=\"colab-df-container\">\n",
              "    <div>\n",
              "<style scoped>\n",
              "    .dataframe tbody tr th:only-of-type {\n",
              "        vertical-align: middle;\n",
              "    }\n",
              "\n",
              "    .dataframe tbody tr th {\n",
              "        vertical-align: top;\n",
              "    }\n",
              "\n",
              "    .dataframe thead th {\n",
              "        text-align: right;\n",
              "    }\n",
              "</style>\n",
              "<table border=\"1\" class=\"dataframe\">\n",
              "  <thead>\n",
              "    <tr style=\"text-align: right;\">\n",
              "      <th></th>\n",
              "      <th>id_EXIST</th>\n",
              "      <th>lang</th>\n",
              "      <th>tweet</th>\n",
              "      <th>hard_label_task1</th>\n",
              "    </tr>\n",
              "  </thead>\n",
              "  <tbody>\n",
              "    <tr>\n",
              "      <th>200002</th>\n",
              "      <td>200002</td>\n",
              "      <td>en</td>\n",
              "      <td>writing uni essay local pub coffee random old ...</td>\n",
              "      <td>1</td>\n",
              "    </tr>\n",
              "    <tr>\n",
              "      <th>200003</th>\n",
              "      <td>200003</td>\n",
              "      <td>en</td>\n",
              "      <td>2021 1921 dont appreciate two ride team member...</td>\n",
              "      <td>1</td>\n",
              "    </tr>\n",
              "    <tr>\n",
              "      <th>200006</th>\n",
              "      <td>200006</td>\n",
              "      <td>en</td>\n",
              "      <td>according customer plenty time go spent stirli...</td>\n",
              "      <td>1</td>\n",
              "    </tr>\n",
              "    <tr>\n",
              "      <th>200007</th>\n",
              "      <td>200007</td>\n",
              "      <td>en</td>\n",
              "      <td>bloke drink beer sorry arent bloke drink wine ...</td>\n",
              "      <td>1</td>\n",
              "    </tr>\n",
              "    <tr>\n",
              "      <th>200008</th>\n",
              "      <td>200008</td>\n",
              "      <td>en</td>\n",
              "      <td>new shelf week looking forward reading book</td>\n",
              "      <td>0</td>\n",
              "    </tr>\n",
              "  </tbody>\n",
              "</table>\n",
              "</div>\n",
              "    <div class=\"colab-df-buttons\">\n",
              "\n",
              "  <div class=\"colab-df-container\">\n",
              "    <button class=\"colab-df-convert\" onclick=\"convertToInteractive('df-5aa1d43a-3ed8-4806-a5b3-7ed7f75e28be')\"\n",
              "            title=\"Convert this dataframe to an interactive table.\"\n",
              "            style=\"display:none;\">\n",
              "\n",
              "  <svg xmlns=\"http://www.w3.org/2000/svg\" height=\"24px\" viewBox=\"0 -960 960 960\">\n",
              "    <path d=\"M120-120v-720h720v720H120Zm60-500h600v-160H180v160Zm220 220h160v-160H400v160Zm0 220h160v-160H400v160ZM180-400h160v-160H180v160Zm440 0h160v-160H620v160ZM180-180h160v-160H180v160Zm440 0h160v-160H620v160Z\"/>\n",
              "  </svg>\n",
              "    </button>\n",
              "\n",
              "  <style>\n",
              "    .colab-df-container {\n",
              "      display:flex;\n",
              "      gap: 12px;\n",
              "    }\n",
              "\n",
              "    .colab-df-convert {\n",
              "      background-color: #E8F0FE;\n",
              "      border: none;\n",
              "      border-radius: 50%;\n",
              "      cursor: pointer;\n",
              "      display: none;\n",
              "      fill: #1967D2;\n",
              "      height: 32px;\n",
              "      padding: 0 0 0 0;\n",
              "      width: 32px;\n",
              "    }\n",
              "\n",
              "    .colab-df-convert:hover {\n",
              "      background-color: #E2EBFA;\n",
              "      box-shadow: 0px 1px 2px rgba(60, 64, 67, 0.3), 0px 1px 3px 1px rgba(60, 64, 67, 0.15);\n",
              "      fill: #174EA6;\n",
              "    }\n",
              "\n",
              "    .colab-df-buttons div {\n",
              "      margin-bottom: 4px;\n",
              "    }\n",
              "\n",
              "    [theme=dark] .colab-df-convert {\n",
              "      background-color: #3B4455;\n",
              "      fill: #D2E3FC;\n",
              "    }\n",
              "\n",
              "    [theme=dark] .colab-df-convert:hover {\n",
              "      background-color: #434B5C;\n",
              "      box-shadow: 0px 1px 3px 1px rgba(0, 0, 0, 0.15);\n",
              "      filter: drop-shadow(0px 1px 2px rgba(0, 0, 0, 0.3));\n",
              "      fill: #FFFFFF;\n",
              "    }\n",
              "  </style>\n",
              "\n",
              "    <script>\n",
              "      const buttonEl =\n",
              "        document.querySelector('#df-5aa1d43a-3ed8-4806-a5b3-7ed7f75e28be button.colab-df-convert');\n",
              "      buttonEl.style.display =\n",
              "        google.colab.kernel.accessAllowed ? 'block' : 'none';\n",
              "\n",
              "      async function convertToInteractive(key) {\n",
              "        const element = document.querySelector('#df-5aa1d43a-3ed8-4806-a5b3-7ed7f75e28be');\n",
              "        const dataTable =\n",
              "          await google.colab.kernel.invokeFunction('convertToInteractive',\n",
              "                                                    [key], {});\n",
              "        if (!dataTable) return;\n",
              "\n",
              "        const docLinkHtml = 'Like what you see? Visit the ' +\n",
              "          '<a target=\"_blank\" href=https://colab.research.google.com/notebooks/data_table.ipynb>data table notebook</a>'\n",
              "          + ' to learn more about interactive tables.';\n",
              "        element.innerHTML = '';\n",
              "        dataTable['output_type'] = 'display_data';\n",
              "        await google.colab.output.renderOutput(dataTable, element);\n",
              "        const docLink = document.createElement('div');\n",
              "        docLink.innerHTML = docLinkHtml;\n",
              "        element.appendChild(docLink);\n",
              "      }\n",
              "    </script>\n",
              "  </div>\n",
              "\n",
              "\n",
              "<div id=\"df-f9b39b51-80fd-4c27-8603-883a43e30492\">\n",
              "  <button class=\"colab-df-quickchart\" onclick=\"quickchart('df-f9b39b51-80fd-4c27-8603-883a43e30492')\"\n",
              "            title=\"Suggest charts\"\n",
              "            style=\"display:none;\">\n",
              "\n",
              "<svg xmlns=\"http://www.w3.org/2000/svg\" height=\"24px\"viewBox=\"0 0 24 24\"\n",
              "     width=\"24px\">\n",
              "    <g>\n",
              "        <path d=\"M19 3H5c-1.1 0-2 .9-2 2v14c0 1.1.9 2 2 2h14c1.1 0 2-.9 2-2V5c0-1.1-.9-2-2-2zM9 17H7v-7h2v7zm4 0h-2V7h2v10zm4 0h-2v-4h2v4z\"/>\n",
              "    </g>\n",
              "</svg>\n",
              "  </button>\n",
              "\n",
              "<style>\n",
              "  .colab-df-quickchart {\n",
              "      --bg-color: #E8F0FE;\n",
              "      --fill-color: #1967D2;\n",
              "      --hover-bg-color: #E2EBFA;\n",
              "      --hover-fill-color: #174EA6;\n",
              "      --disabled-fill-color: #AAA;\n",
              "      --disabled-bg-color: #DDD;\n",
              "  }\n",
              "\n",
              "  [theme=dark] .colab-df-quickchart {\n",
              "      --bg-color: #3B4455;\n",
              "      --fill-color: #D2E3FC;\n",
              "      --hover-bg-color: #434B5C;\n",
              "      --hover-fill-color: #FFFFFF;\n",
              "      --disabled-bg-color: #3B4455;\n",
              "      --disabled-fill-color: #666;\n",
              "  }\n",
              "\n",
              "  .colab-df-quickchart {\n",
              "    background-color: var(--bg-color);\n",
              "    border: none;\n",
              "    border-radius: 50%;\n",
              "    cursor: pointer;\n",
              "    display: none;\n",
              "    fill: var(--fill-color);\n",
              "    height: 32px;\n",
              "    padding: 0;\n",
              "    width: 32px;\n",
              "  }\n",
              "\n",
              "  .colab-df-quickchart:hover {\n",
              "    background-color: var(--hover-bg-color);\n",
              "    box-shadow: 0 1px 2px rgba(60, 64, 67, 0.3), 0 1px 3px 1px rgba(60, 64, 67, 0.15);\n",
              "    fill: var(--button-hover-fill-color);\n",
              "  }\n",
              "\n",
              "  .colab-df-quickchart-complete:disabled,\n",
              "  .colab-df-quickchart-complete:disabled:hover {\n",
              "    background-color: var(--disabled-bg-color);\n",
              "    fill: var(--disabled-fill-color);\n",
              "    box-shadow: none;\n",
              "  }\n",
              "\n",
              "  .colab-df-spinner {\n",
              "    border: 2px solid var(--fill-color);\n",
              "    border-color: transparent;\n",
              "    border-bottom-color: var(--fill-color);\n",
              "    animation:\n",
              "      spin 1s steps(1) infinite;\n",
              "  }\n",
              "\n",
              "  @keyframes spin {\n",
              "    0% {\n",
              "      border-color: transparent;\n",
              "      border-bottom-color: var(--fill-color);\n",
              "      border-left-color: var(--fill-color);\n",
              "    }\n",
              "    20% {\n",
              "      border-color: transparent;\n",
              "      border-left-color: var(--fill-color);\n",
              "      border-top-color: var(--fill-color);\n",
              "    }\n",
              "    30% {\n",
              "      border-color: transparent;\n",
              "      border-left-color: var(--fill-color);\n",
              "      border-top-color: var(--fill-color);\n",
              "      border-right-color: var(--fill-color);\n",
              "    }\n",
              "    40% {\n",
              "      border-color: transparent;\n",
              "      border-right-color: var(--fill-color);\n",
              "      border-top-color: var(--fill-color);\n",
              "    }\n",
              "    60% {\n",
              "      border-color: transparent;\n",
              "      border-right-color: var(--fill-color);\n",
              "    }\n",
              "    80% {\n",
              "      border-color: transparent;\n",
              "      border-right-color: var(--fill-color);\n",
              "      border-bottom-color: var(--fill-color);\n",
              "    }\n",
              "    90% {\n",
              "      border-color: transparent;\n",
              "      border-bottom-color: var(--fill-color);\n",
              "    }\n",
              "  }\n",
              "</style>\n",
              "\n",
              "  <script>\n",
              "    async function quickchart(key) {\n",
              "      const quickchartButtonEl =\n",
              "        document.querySelector('#' + key + ' button');\n",
              "      quickchartButtonEl.disabled = true;  // To prevent multiple clicks.\n",
              "      quickchartButtonEl.classList.add('colab-df-spinner');\n",
              "      try {\n",
              "        const charts = await google.colab.kernel.invokeFunction(\n",
              "            'suggestCharts', [key], {});\n",
              "      } catch (error) {\n",
              "        console.error('Error during call to suggestCharts:', error);\n",
              "      }\n",
              "      quickchartButtonEl.classList.remove('colab-df-spinner');\n",
              "      quickchartButtonEl.classList.add('colab-df-quickchart-complete');\n",
              "    }\n",
              "    (() => {\n",
              "      let quickchartButtonEl =\n",
              "        document.querySelector('#df-f9b39b51-80fd-4c27-8603-883a43e30492 button');\n",
              "      quickchartButtonEl.style.display =\n",
              "        google.colab.kernel.accessAllowed ? 'block' : 'none';\n",
              "    })();\n",
              "  </script>\n",
              "</div>\n",
              "\n",
              "    </div>\n",
              "  </div>\n"
            ],
            "application/vnd.google.colaboratory.intrinsic+json": {
              "type": "dataframe",
              "variable_name": "train_df",
              "summary": "{\n  \"name\": \"train_df\",\n  \"rows\": 2870,\n  \"fields\": [\n    {\n      \"column\": \"id_EXIST\",\n      \"properties\": {\n        \"dtype\": \"string\",\n        \"num_unique_values\": 2870,\n        \"samples\": [\n          \"200504\",\n          \"202694\",\n          \"200852\"\n        ],\n        \"semantic_type\": \"\",\n        \"description\": \"\"\n      }\n    },\n    {\n      \"column\": \"lang\",\n      \"properties\": {\n        \"dtype\": \"category\",\n        \"num_unique_values\": 1,\n        \"samples\": [\n          \"en\"\n        ],\n        \"semantic_type\": \"\",\n        \"description\": \"\"\n      }\n    },\n    {\n      \"column\": \"tweet\",\n      \"properties\": {\n        \"dtype\": \"string\",\n        \"num_unique_values\": 2867,\n        \"samples\": [\n          \"call sexist feel wrong woman reffing nba like go ref wnba\"\n        ],\n        \"semantic_type\": \"\",\n        \"description\": \"\"\n      }\n    },\n    {\n      \"column\": \"hard_label_task1\",\n      \"properties\": {\n        \"dtype\": \"number\",\n        \"std\": 0,\n        \"min\": 0,\n        \"max\": 1,\n        \"num_unique_values\": 2,\n        \"samples\": [\n          0\n        ],\n        \"semantic_type\": \"\",\n        \"description\": \"\"\n      }\n    }\n  ]\n}"
            }
          },
          "metadata": {},
          "execution_count": 12
        }
      ],
      "source": [
        "train_df.head()"
      ]
    },
    {
      "cell_type": "markdown",
      "metadata": {
        "id": "s3KylLHNl0bE"
      },
      "source": [
        "# [Task 3 - 0.5 points] Text Encoding\n",
        "To train a neural sexism classifier, you first need to encode text into numerical format.\n",
        "\n",
        "\n"
      ]
    },
    {
      "cell_type": "markdown",
      "metadata": {
        "id": "hr1lTHUVOXff"
      },
      "source": [
        "### Instructions\n",
        "\n",
        "* Embed words using **GloVe embeddings**.\n",
        "* You are **free** to pick any embedding dimension.\n",
        "\n",
        "\n",
        "\n"
      ]
    },
    {
      "cell_type": "markdown",
      "metadata": {
        "id": "r6NNMEjWOZQr"
      },
      "source": [
        "### Note : What about OOV tokens?\n",
        "   * All the tokens in the **training** set that are not in GloVe **must** be added to the vocabulary.\n",
        "   * For the remaining tokens (i.e., OOV in the validation and test sets), you have to assign them a **special token** (e.g., [UNK]) and a **static** embedding.\n",
        "   * You are **free** to define the static embedding using any strategy (e.g., random, neighbourhood, etc...)\n",
        "\n"
      ]
    },
    {
      "cell_type": "markdown",
      "metadata": {
        "id": "90UztlGUObXk"
      },
      "source": [
        "### More about OOV\n",
        "\n",
        "For a given token:\n",
        "\n",
        "* **If in train set**: add to vocabulary and assign an embedding (use GloVe if token in GloVe, custom embedding otherwise).\n",
        "* **If in val/test set**: assign special token if not in vocabulary and assign custom embedding.\n",
        "\n",
        "Your vocabulary **should**:\n",
        "\n",
        "* Contain all tokens in train set; or\n",
        "* Union of tokens in train set and in GloVe $\\rightarrow$ we make use of existing knowledge!"
      ]
    },
    {
      "cell_type": "markdown",
      "source": [
        "### Download and extract GloVe embeddings with dimension of 100."
      ],
      "metadata": {
        "id": "0g2qlqfT1RY1"
      }
    },
    {
      "cell_type": "code",
      "execution_count": 13,
      "metadata": {
        "colab": {
          "base_uri": "https://localhost:8080/"
        },
        "id": "1VLqSp6Burjp",
        "outputId": "06db40ff-18fd-494c-984e-6eb263375426"
      },
      "outputs": [
        {
          "output_type": "stream",
          "name": "stdout",
          "text": [
            "Downloading GloVe embeddings...\n"
          ]
        },
        {
          "output_type": "stream",
          "name": "stderr",
          "text": [
            "Downloading: 100%|██████████| 822M/822M [02:38<00:00, 5.44MB/s]\n"
          ]
        },
        {
          "output_type": "stream",
          "name": "stdout",
          "text": [
            "Extracting GloVe embeddings...\n",
            "Download and extraction complete.\n",
            "Loaded GloVe embeddings with dimension: 100\n"
          ]
        }
      ],
      "source": [
        "def download_glove_embeddings(glove_url, save_path='glove.zip', extract_path='glove'):\n",
        "    if not os.path.exists(extract_path):\n",
        "        print(\"Downloading GloVe embeddings...\")\n",
        "\n",
        "        # download with a progress bar\n",
        "        response = requests.get(glove_url, stream=True)\n",
        "        total_size = int(response.headers.get('content-length', 0))\n",
        "\n",
        "        with open(save_path, 'wb') as f, tqdm(\n",
        "            desc=\"Downloading\",\n",
        "            total=total_size,\n",
        "            unit='B',\n",
        "            unit_scale=True,\n",
        "            unit_divisor=1024,\n",
        "        ) as bar:\n",
        "            for data in response.iter_content(chunk_size=1024):\n",
        "                f.write(data)\n",
        "                bar.update(len(data))\n",
        "\n",
        "        print(\"Extracting GloVe embeddings...\")\n",
        "        with zipfile.ZipFile(save_path, 'r') as zip_ref:\n",
        "            zip_ref.extractall(extract_path)\n",
        "\n",
        "        # Remove the zip file\n",
        "        os.remove(save_path)\n",
        "        print(\"Download and extraction complete.\")\n",
        "    else:\n",
        "        print(\"GloVe embeddings already downloaded.\")\n",
        "\n",
        "\n",
        "# Load the GloVe embeddings\n",
        "def load_glove_embeddings(filepath, embedding_dim=100):\n",
        "    embeddings = {}\n",
        "    with open(filepath, 'r', encoding=\"utf-8\") as f:\n",
        "        for line in f:\n",
        "            values = line.split()\n",
        "            word = values[0]\n",
        "            vector = np.asarray(values[1:], dtype='float32')\n",
        "            embeddings[word] = vector\n",
        "    return embeddings\n",
        "\n",
        "glove_url = \"http://nlp.stanford.edu/data/glove.6B.zip\"\n",
        "download_path = 'glove.6B.zip'\n",
        "extract_path = 'glove'\n",
        "\n",
        "# download and extract GloVe embeddings\n",
        "download_glove_embeddings(glove_url, download_path, extract_path)\n",
        "\n",
        "# embedding dimension\n",
        "embedding_dim = 100\n",
        "glove_filepath = os.path.join(extract_path, f'glove.6B.{embedding_dim}d.txt')\n",
        "\n",
        "glove_embeddings = load_glove_embeddings(glove_filepath, embedding_dim)\n",
        "print(\"Loaded GloVe embeddings with dimension:\", embedding_dim)"
      ]
    },
    {
      "cell_type": "markdown",
      "source": [
        "### Pad the tweets to have them of the same lenght."
      ],
      "metadata": {
        "id": "7gEXOo3H3-h8"
      }
    },
    {
      "cell_type": "code",
      "execution_count": 14,
      "metadata": {
        "colab": {
          "base_uri": "https://localhost:8080/"
        },
        "id": "6qsodZNQE1KI",
        "outputId": "141854d3-e08c-4b12-c8d6-fbea54e5bedc"
      },
      "outputs": [
        {
          "output_type": "stream",
          "name": "stdout",
          "text": [
            "Max lenght found: 36\n",
            "['writing', 'uni', 'essay', 'local', 'pub', 'coffee', 'random', 'old', 'man', 'keep', 'asking', 'drunk', 'question', 'im', 'trying', 'concentrate', 'amp', 'end', 'good', 'luck', 'youll', 'end', 'getting', 'married', 'use', 'anyway', 'alive', 'well', '<PAD>', '<PAD>', '<PAD>', '<PAD>', '<PAD>', '<PAD>', '<PAD>', '<PAD>']\n"
          ]
        }
      ],
      "source": [
        "def find_series_max_len(series_list):\n",
        "    all_text = pd.concat(series_list, ignore_index=True)\n",
        "    word_count = all_text.apply(lambda x: len(str(x).split()))\n",
        "    max_word_count = word_count.max()\n",
        "    return max_word_count\n",
        "\n",
        "def pad_text_column(df, column_name, max_len, pad_token=\"<PAD>\"):\n",
        "    df['padded_' + column_name] = df[column_name].apply(lambda x: x if isinstance(x, list) else x.split())  # Tokenize if not already\n",
        "    df['padded_' + column_name] = df['padded_' + column_name].apply(\n",
        "        lambda x: x[:max_len] + [pad_token] * (max_len - len(x)) if len(x) < max_len else x[:max_len]\n",
        "    )\n",
        "    return df\n",
        "\n",
        "# find the maximum lenght of a tweet\n",
        "MAX_LEN = find_series_max_len([train_df['tweet'], validation_df['tweet'], test_df['tweet']])\n",
        "print(f\"Max lenght found: {MAX_LEN}\")\n",
        "\n",
        "# pad the tweets\n",
        "train_df = pad_text_column(train_df, 'tweet', MAX_LEN)\n",
        "validation_df = pad_text_column(validation_df, 'tweet', MAX_LEN)\n",
        "test_df = pad_text_column(test_df, 'tweet', MAX_LEN)\n",
        "\n",
        "print(train_df['padded_tweet'].iloc[0])"
      ]
    },
    {
      "cell_type": "markdown",
      "source": [
        "### Build the vocabulary and the embeddings on the train set."
      ],
      "metadata": {
        "id": "UQdtiUyF4KjC"
      }
    },
    {
      "cell_type": "code",
      "execution_count": 15,
      "metadata": {
        "id": "0BQRxBLMKsIl"
      },
      "outputs": [],
      "source": [
        "# Tokenize tweets and build vocabulary\n",
        "def build_vocab_and_embeddings(data, embeddings_index, embedding_dim):\n",
        "    vocab = {}\n",
        "    word_embeddings = []\n",
        "    for tweet in data['padded_tweet']:\n",
        "        for token in tweet:\n",
        "            if token not in vocab:\n",
        "                if token in embeddings_index:\n",
        "                    # Use GloVe embedding\n",
        "                    vocab[token] = len(vocab)\n",
        "                    word_embeddings.append(embeddings_index[token])\n",
        "                else:\n",
        "                    # Generate a random embedding for OOV tokens in the training set\n",
        "                    vocab[token] = len(vocab)\n",
        "                    word_embeddings.append(np.random.uniform(-0.1, 0.1, embedding_dim))\n",
        "    return vocab, word_embeddings\n",
        "\n",
        "# Build vocabulary and embeddings for the training set\n",
        "vocab, word_embeddings = build_vocab_and_embeddings(train_df, glove_embeddings, embedding_dim)"
      ]
    },
    {
      "cell_type": "markdown",
      "source": [
        "### Set the embedding for the Unknown words."
      ],
      "metadata": {
        "id": "P5XWaMYN4WC6"
      }
    },
    {
      "cell_type": "code",
      "execution_count": 16,
      "metadata": {
        "id": "r1OsvOYxLxoT"
      },
      "outputs": [],
      "source": [
        "unk_token = '[UNK]'\n",
        "vocab[unk_token] = len(vocab)\n",
        "\n",
        "# embedding for '[UNK]': mean of GloVe embeddings\n",
        "unk_embedding = np.mean(word_embeddings, axis=0)\n",
        "word_embeddings = np.vstack([word_embeddings, unk_embedding])"
      ]
    },
    {
      "cell_type": "markdown",
      "source": [
        "### Embed train, validation and test sets."
      ],
      "metadata": {
        "id": "X5v4fuVo6QhM"
      }
    },
    {
      "cell_type": "code",
      "execution_count": 17,
      "metadata": {
        "colab": {
          "base_uri": "https://localhost:8080/",
          "height": 206
        },
        "id": "ceDEh72NNfEd",
        "outputId": "62db3e99-6a52-4c77-8157-b23bf1ff6202"
      },
      "outputs": [
        {
          "output_type": "execute_result",
          "data": {
            "text/plain": [
              "       id_EXIST lang                                              tweet  \\\n",
              "200002   200002   en  writing uni essay local pub coffee random old ...   \n",
              "200003   200003   en  2021 1921 dont appreciate two ride team member...   \n",
              "200006   200006   en  according customer plenty time go spent stirli...   \n",
              "200007   200007   en  bloke drink beer sorry arent bloke drink wine ...   \n",
              "200008   200008   en        new shelf week looking forward reading book   \n",
              "\n",
              "        hard_label_task1                                       padded_tweet  \n",
              "200002                 1  [[0.17459000647068024, 0.2806999981403351, -0....  \n",
              "200003                 1  [[0.4375700056552887, 0.5958300232887268, 0.52...  \n",
              "200006                 1  [[-0.06825800240039825, -0.04764899984002113, ...  \n",
              "200007                 1  [[0.1125900000333786, 0.4171999990940094, 0.62...  \n",
              "200008                 0  [[-0.04395899921655655, 0.18935999274253845, 0...  "
            ],
            "text/html": [
              "\n",
              "  <div id=\"df-f6dbe54e-bcf3-48d1-80e4-c1aeb5a0d7af\" class=\"colab-df-container\">\n",
              "    <div>\n",
              "<style scoped>\n",
              "    .dataframe tbody tr th:only-of-type {\n",
              "        vertical-align: middle;\n",
              "    }\n",
              "\n",
              "    .dataframe tbody tr th {\n",
              "        vertical-align: top;\n",
              "    }\n",
              "\n",
              "    .dataframe thead th {\n",
              "        text-align: right;\n",
              "    }\n",
              "</style>\n",
              "<table border=\"1\" class=\"dataframe\">\n",
              "  <thead>\n",
              "    <tr style=\"text-align: right;\">\n",
              "      <th></th>\n",
              "      <th>id_EXIST</th>\n",
              "      <th>lang</th>\n",
              "      <th>tweet</th>\n",
              "      <th>hard_label_task1</th>\n",
              "      <th>padded_tweet</th>\n",
              "    </tr>\n",
              "  </thead>\n",
              "  <tbody>\n",
              "    <tr>\n",
              "      <th>200002</th>\n",
              "      <td>200002</td>\n",
              "      <td>en</td>\n",
              "      <td>writing uni essay local pub coffee random old ...</td>\n",
              "      <td>1</td>\n",
              "      <td>[[0.17459000647068024, 0.2806999981403351, -0....</td>\n",
              "    </tr>\n",
              "    <tr>\n",
              "      <th>200003</th>\n",
              "      <td>200003</td>\n",
              "      <td>en</td>\n",
              "      <td>2021 1921 dont appreciate two ride team member...</td>\n",
              "      <td>1</td>\n",
              "      <td>[[0.4375700056552887, 0.5958300232887268, 0.52...</td>\n",
              "    </tr>\n",
              "    <tr>\n",
              "      <th>200006</th>\n",
              "      <td>200006</td>\n",
              "      <td>en</td>\n",
              "      <td>according customer plenty time go spent stirli...</td>\n",
              "      <td>1</td>\n",
              "      <td>[[-0.06825800240039825, -0.04764899984002113, ...</td>\n",
              "    </tr>\n",
              "    <tr>\n",
              "      <th>200007</th>\n",
              "      <td>200007</td>\n",
              "      <td>en</td>\n",
              "      <td>bloke drink beer sorry arent bloke drink wine ...</td>\n",
              "      <td>1</td>\n",
              "      <td>[[0.1125900000333786, 0.4171999990940094, 0.62...</td>\n",
              "    </tr>\n",
              "    <tr>\n",
              "      <th>200008</th>\n",
              "      <td>200008</td>\n",
              "      <td>en</td>\n",
              "      <td>new shelf week looking forward reading book</td>\n",
              "      <td>0</td>\n",
              "      <td>[[-0.04395899921655655, 0.18935999274253845, 0...</td>\n",
              "    </tr>\n",
              "  </tbody>\n",
              "</table>\n",
              "</div>\n",
              "    <div class=\"colab-df-buttons\">\n",
              "\n",
              "  <div class=\"colab-df-container\">\n",
              "    <button class=\"colab-df-convert\" onclick=\"convertToInteractive('df-f6dbe54e-bcf3-48d1-80e4-c1aeb5a0d7af')\"\n",
              "            title=\"Convert this dataframe to an interactive table.\"\n",
              "            style=\"display:none;\">\n",
              "\n",
              "  <svg xmlns=\"http://www.w3.org/2000/svg\" height=\"24px\" viewBox=\"0 -960 960 960\">\n",
              "    <path d=\"M120-120v-720h720v720H120Zm60-500h600v-160H180v160Zm220 220h160v-160H400v160Zm0 220h160v-160H400v160ZM180-400h160v-160H180v160Zm440 0h160v-160H620v160ZM180-180h160v-160H180v160Zm440 0h160v-160H620v160Z\"/>\n",
              "  </svg>\n",
              "    </button>\n",
              "\n",
              "  <style>\n",
              "    .colab-df-container {\n",
              "      display:flex;\n",
              "      gap: 12px;\n",
              "    }\n",
              "\n",
              "    .colab-df-convert {\n",
              "      background-color: #E8F0FE;\n",
              "      border: none;\n",
              "      border-radius: 50%;\n",
              "      cursor: pointer;\n",
              "      display: none;\n",
              "      fill: #1967D2;\n",
              "      height: 32px;\n",
              "      padding: 0 0 0 0;\n",
              "      width: 32px;\n",
              "    }\n",
              "\n",
              "    .colab-df-convert:hover {\n",
              "      background-color: #E2EBFA;\n",
              "      box-shadow: 0px 1px 2px rgba(60, 64, 67, 0.3), 0px 1px 3px 1px rgba(60, 64, 67, 0.15);\n",
              "      fill: #174EA6;\n",
              "    }\n",
              "\n",
              "    .colab-df-buttons div {\n",
              "      margin-bottom: 4px;\n",
              "    }\n",
              "\n",
              "    [theme=dark] .colab-df-convert {\n",
              "      background-color: #3B4455;\n",
              "      fill: #D2E3FC;\n",
              "    }\n",
              "\n",
              "    [theme=dark] .colab-df-convert:hover {\n",
              "      background-color: #434B5C;\n",
              "      box-shadow: 0px 1px 3px 1px rgba(0, 0, 0, 0.15);\n",
              "      filter: drop-shadow(0px 1px 2px rgba(0, 0, 0, 0.3));\n",
              "      fill: #FFFFFF;\n",
              "    }\n",
              "  </style>\n",
              "\n",
              "    <script>\n",
              "      const buttonEl =\n",
              "        document.querySelector('#df-f6dbe54e-bcf3-48d1-80e4-c1aeb5a0d7af button.colab-df-convert');\n",
              "      buttonEl.style.display =\n",
              "        google.colab.kernel.accessAllowed ? 'block' : 'none';\n",
              "\n",
              "      async function convertToInteractive(key) {\n",
              "        const element = document.querySelector('#df-f6dbe54e-bcf3-48d1-80e4-c1aeb5a0d7af');\n",
              "        const dataTable =\n",
              "          await google.colab.kernel.invokeFunction('convertToInteractive',\n",
              "                                                    [key], {});\n",
              "        if (!dataTable) return;\n",
              "\n",
              "        const docLinkHtml = 'Like what you see? Visit the ' +\n",
              "          '<a target=\"_blank\" href=https://colab.research.google.com/notebooks/data_table.ipynb>data table notebook</a>'\n",
              "          + ' to learn more about interactive tables.';\n",
              "        element.innerHTML = '';\n",
              "        dataTable['output_type'] = 'display_data';\n",
              "        await google.colab.output.renderOutput(dataTable, element);\n",
              "        const docLink = document.createElement('div');\n",
              "        docLink.innerHTML = docLinkHtml;\n",
              "        element.appendChild(docLink);\n",
              "      }\n",
              "    </script>\n",
              "  </div>\n",
              "\n",
              "\n",
              "<div id=\"df-6940abbe-369c-40e5-ba92-e69471ee2c7d\">\n",
              "  <button class=\"colab-df-quickchart\" onclick=\"quickchart('df-6940abbe-369c-40e5-ba92-e69471ee2c7d')\"\n",
              "            title=\"Suggest charts\"\n",
              "            style=\"display:none;\">\n",
              "\n",
              "<svg xmlns=\"http://www.w3.org/2000/svg\" height=\"24px\"viewBox=\"0 0 24 24\"\n",
              "     width=\"24px\">\n",
              "    <g>\n",
              "        <path d=\"M19 3H5c-1.1 0-2 .9-2 2v14c0 1.1.9 2 2 2h14c1.1 0 2-.9 2-2V5c0-1.1-.9-2-2-2zM9 17H7v-7h2v7zm4 0h-2V7h2v10zm4 0h-2v-4h2v4z\"/>\n",
              "    </g>\n",
              "</svg>\n",
              "  </button>\n",
              "\n",
              "<style>\n",
              "  .colab-df-quickchart {\n",
              "      --bg-color: #E8F0FE;\n",
              "      --fill-color: #1967D2;\n",
              "      --hover-bg-color: #E2EBFA;\n",
              "      --hover-fill-color: #174EA6;\n",
              "      --disabled-fill-color: #AAA;\n",
              "      --disabled-bg-color: #DDD;\n",
              "  }\n",
              "\n",
              "  [theme=dark] .colab-df-quickchart {\n",
              "      --bg-color: #3B4455;\n",
              "      --fill-color: #D2E3FC;\n",
              "      --hover-bg-color: #434B5C;\n",
              "      --hover-fill-color: #FFFFFF;\n",
              "      --disabled-bg-color: #3B4455;\n",
              "      --disabled-fill-color: #666;\n",
              "  }\n",
              "\n",
              "  .colab-df-quickchart {\n",
              "    background-color: var(--bg-color);\n",
              "    border: none;\n",
              "    border-radius: 50%;\n",
              "    cursor: pointer;\n",
              "    display: none;\n",
              "    fill: var(--fill-color);\n",
              "    height: 32px;\n",
              "    padding: 0;\n",
              "    width: 32px;\n",
              "  }\n",
              "\n",
              "  .colab-df-quickchart:hover {\n",
              "    background-color: var(--hover-bg-color);\n",
              "    box-shadow: 0 1px 2px rgba(60, 64, 67, 0.3), 0 1px 3px 1px rgba(60, 64, 67, 0.15);\n",
              "    fill: var(--button-hover-fill-color);\n",
              "  }\n",
              "\n",
              "  .colab-df-quickchart-complete:disabled,\n",
              "  .colab-df-quickchart-complete:disabled:hover {\n",
              "    background-color: var(--disabled-bg-color);\n",
              "    fill: var(--disabled-fill-color);\n",
              "    box-shadow: none;\n",
              "  }\n",
              "\n",
              "  .colab-df-spinner {\n",
              "    border: 2px solid var(--fill-color);\n",
              "    border-color: transparent;\n",
              "    border-bottom-color: var(--fill-color);\n",
              "    animation:\n",
              "      spin 1s steps(1) infinite;\n",
              "  }\n",
              "\n",
              "  @keyframes spin {\n",
              "    0% {\n",
              "      border-color: transparent;\n",
              "      border-bottom-color: var(--fill-color);\n",
              "      border-left-color: var(--fill-color);\n",
              "    }\n",
              "    20% {\n",
              "      border-color: transparent;\n",
              "      border-left-color: var(--fill-color);\n",
              "      border-top-color: var(--fill-color);\n",
              "    }\n",
              "    30% {\n",
              "      border-color: transparent;\n",
              "      border-left-color: var(--fill-color);\n",
              "      border-top-color: var(--fill-color);\n",
              "      border-right-color: var(--fill-color);\n",
              "    }\n",
              "    40% {\n",
              "      border-color: transparent;\n",
              "      border-right-color: var(--fill-color);\n",
              "      border-top-color: var(--fill-color);\n",
              "    }\n",
              "    60% {\n",
              "      border-color: transparent;\n",
              "      border-right-color: var(--fill-color);\n",
              "    }\n",
              "    80% {\n",
              "      border-color: transparent;\n",
              "      border-right-color: var(--fill-color);\n",
              "      border-bottom-color: var(--fill-color);\n",
              "    }\n",
              "    90% {\n",
              "      border-color: transparent;\n",
              "      border-bottom-color: var(--fill-color);\n",
              "    }\n",
              "  }\n",
              "</style>\n",
              "\n",
              "  <script>\n",
              "    async function quickchart(key) {\n",
              "      const quickchartButtonEl =\n",
              "        document.querySelector('#' + key + ' button');\n",
              "      quickchartButtonEl.disabled = true;  // To prevent multiple clicks.\n",
              "      quickchartButtonEl.classList.add('colab-df-spinner');\n",
              "      try {\n",
              "        const charts = await google.colab.kernel.invokeFunction(\n",
              "            'suggestCharts', [key], {});\n",
              "      } catch (error) {\n",
              "        console.error('Error during call to suggestCharts:', error);\n",
              "      }\n",
              "      quickchartButtonEl.classList.remove('colab-df-spinner');\n",
              "      quickchartButtonEl.classList.add('colab-df-quickchart-complete');\n",
              "    }\n",
              "    (() => {\n",
              "      let quickchartButtonEl =\n",
              "        document.querySelector('#df-6940abbe-369c-40e5-ba92-e69471ee2c7d button');\n",
              "      quickchartButtonEl.style.display =\n",
              "        google.colab.kernel.accessAllowed ? 'block' : 'none';\n",
              "    })();\n",
              "  </script>\n",
              "</div>\n",
              "\n",
              "    </div>\n",
              "  </div>\n"
            ],
            "application/vnd.google.colaboratory.intrinsic+json": {
              "type": "dataframe",
              "variable_name": "train_df_embedded",
              "summary": "{\n  \"name\": \"train_df_embedded\",\n  \"rows\": 2870,\n  \"fields\": [\n    {\n      \"column\": \"id_EXIST\",\n      \"properties\": {\n        \"dtype\": \"string\",\n        \"num_unique_values\": 2870,\n        \"samples\": [\n          \"200504\",\n          \"202694\",\n          \"200852\"\n        ],\n        \"semantic_type\": \"\",\n        \"description\": \"\"\n      }\n    },\n    {\n      \"column\": \"lang\",\n      \"properties\": {\n        \"dtype\": \"category\",\n        \"num_unique_values\": 1,\n        \"samples\": [\n          \"en\"\n        ],\n        \"semantic_type\": \"\",\n        \"description\": \"\"\n      }\n    },\n    {\n      \"column\": \"tweet\",\n      \"properties\": {\n        \"dtype\": \"string\",\n        \"num_unique_values\": 2867,\n        \"samples\": [\n          \"call sexist feel wrong woman reffing nba like go ref wnba\"\n        ],\n        \"semantic_type\": \"\",\n        \"description\": \"\"\n      }\n    },\n    {\n      \"column\": \"hard_label_task1\",\n      \"properties\": {\n        \"dtype\": \"number\",\n        \"std\": 0,\n        \"min\": 0,\n        \"max\": 1,\n        \"num_unique_values\": 2,\n        \"samples\": [\n          0\n        ],\n        \"semantic_type\": \"\",\n        \"description\": \"\"\n      }\n    },\n    {\n      \"column\": \"padded_tweet\",\n      \"properties\": {\n        \"dtype\": \"object\",\n        \"semantic_type\": \"\",\n        \"description\": \"\"\n      }\n    }\n  ]\n}"
            }
          },
          "metadata": {},
          "execution_count": 17
        }
      ],
      "source": [
        "def embed_tweet(df, vocab, word_embeddings):\n",
        "    data = df.copy()\n",
        "    new_tweet = []\n",
        "    for tweet in data['padded_tweet']:\n",
        "        embedded_tweet = []\n",
        "        for token in tweet:\n",
        "            if token not in vocab:\n",
        "                # token is OOV so considered UNK\n",
        "                embedded_tweet.append(word_embeddings[vocab['[UNK]']])\n",
        "            else:\n",
        "                embedded_tweet.append(word_embeddings[vocab[token]])\n",
        "        new_tweet.append(embedded_tweet)\n",
        "    data['padded_tweet'] = new_tweet\n",
        "    return data\n",
        "\n",
        "# Embed all the df with our extended GloVe embeddings\n",
        "train_df_embedded = embed_tweet(train_df, vocab, word_embeddings)\n",
        "validation_df_embedded = embed_tweet(validation_df, vocab, word_embeddings)\n",
        "test_df_embedded = embed_tweet(test_df, vocab, word_embeddings)\n",
        "train_df_embedded.head()"
      ]
    },
    {
      "cell_type": "markdown",
      "metadata": {
        "id": "6JLnuLGHGAUT"
      },
      "source": [
        "# [Task 4 - 1.0 points] Model definition\n",
        "\n",
        "You are now tasked to define your sexism classifier.\n",
        "\n",
        "\n"
      ]
    },
    {
      "cell_type": "markdown",
      "metadata": {
        "id": "iQFI9J-JOfXD"
      },
      "source": [
        "### Instructions\n",
        "\n",
        "* **Baseline**: implement a Bidirectional LSTM with a Dense layer on top.\n",
        "* You are **free** to experiment with hyper-parameters to define the baseline model.\n",
        "\n",
        "* **Model 1**: add an additional LSTM layer to the Baseline model."
      ]
    },
    {
      "cell_type": "markdown",
      "metadata": {
        "id": "4jALc_qYGS2E"
      },
      "source": [
        "### Token to embedding mapping\n",
        "\n",
        "You can follow two approaches for encoding tokens in your classifier.\n",
        "\n",
        "### Work directly with embeddings\n",
        "\n",
        "- Compute the embedding of each input token\n",
        "- Feed the mini-batches of shape (batch_size, # tokens, embedding_dim) to your model\n",
        "\n",
        "### Work with Embedding layer\n",
        "\n",
        "- Encode input tokens to token ids\n",
        "- Define a Embedding layer as the first layer of your model\n",
        "- Compute the embedding matrix of all known tokens (i.e., tokens in your vocabulary)\n",
        "- Initialize the Embedding layer with the computed embedding matrix\n",
        "- You are **free** to set the Embedding layer trainable or not"
      ]
    },
    {
      "cell_type": "markdown",
      "source": [
        "### Bidirectional LSTM with a Dense layer on top.\n",
        "In the code: lstm_out has shape `[batch, seq_len, hidden_size * 2]`.<br>\n",
        "Being bidirectional, the hidden state is the concatenation of the last forward and backward hidden states."
      ],
      "metadata": {
        "id": "TRJUyNon6v19"
      }
    },
    {
      "cell_type": "code",
      "execution_count": 18,
      "metadata": {
        "id": "omGCTGKdT2-J"
      },
      "outputs": [],
      "source": [
        "class BiLSTMModel(nn.Module):\n",
        "    def __init__(self, input_size, hidden_size, num_layers, output_size, bidirectional=True):\n",
        "        super(BiLSTMModel, self).__init__()\n",
        "\n",
        "        self.lstm = nn.LSTM(input_size=input_size,\n",
        "                            hidden_size=hidden_size,\n",
        "                            num_layers=num_layers,\n",
        "                            bidirectional=bidirectional,\n",
        "                            batch_first=True)\n",
        "\n",
        "        self.fc = nn.Linear(hidden_size * 2 if bidirectional else hidden_size, output_size)\n",
        "\n",
        "    def forward(self, x):\n",
        "        # for bidirectional: lstm_out has shape [batch, seq_len, hidden_size * 2]\n",
        "        lstm_out, (hidden, cell) = self.lstm(x)\n",
        "\n",
        "        if self.lstm.bidirectional:\n",
        "            # concatenate the last forward and backward hidden states\n",
        "            hidden = torch.cat((hidden[-2,:,:], hidden[-1,:,:]), dim=1)\n",
        "        else:\n",
        "            hidden = hidden[-1,:,:]\n",
        "\n",
        "        out = self.fc(hidden)\n",
        "        return out.view(-1)"
      ]
    },
    {
      "cell_type": "markdown",
      "source": [
        "### Initialize the baseline model"
      ],
      "metadata": {
        "id": "DKfCaLto8pBV"
      }
    },
    {
      "cell_type": "code",
      "execution_count": 19,
      "metadata": {
        "id": "dc2WoUzYCdox"
      },
      "outputs": [],
      "source": [
        "input_size = 100\n",
        "hidden_size = 128\n",
        "num_layers = 1\n",
        "output_size = 1\n",
        "\n",
        "baseline_model = BiLSTMModel(input_size, hidden_size, num_layers, output_size)"
      ]
    },
    {
      "cell_type": "markdown",
      "source": [
        "### Initialize Model 1\n",
        "Being the baseline model with an additional LSTM layer, we have to specify only that `num_layers` has to be 2.\n",
        "\n"
      ],
      "metadata": {
        "id": "fdGaewjx8QCX"
      }
    },
    {
      "cell_type": "code",
      "execution_count": 20,
      "metadata": {
        "id": "TQaECfFmCllk"
      },
      "outputs": [],
      "source": [
        "num_layers = 2\n",
        "\n",
        "model_1 = BiLSTMModel(input_size, hidden_size, num_layers, output_size)"
      ]
    },
    {
      "cell_type": "markdown",
      "metadata": {
        "id": "GEQTPu6eGgGv"
      },
      "source": [
        "### Padding\n",
        "\n",
        "Pay attention to padding tokens!\n",
        "\n",
        "Your model **should not** be penalized on those tokens.\n",
        "\n",
        "#### How to?\n",
        "\n",
        "There are two main ways.\n",
        "\n",
        "However, their implementation depends on the neural library you are using.\n",
        "\n",
        "- Embedding layer\n",
        "- Custom loss to compute average cross-entropy on non-padding tokens only\n",
        "\n",
        "**Note**: This is a **recommendation**, but we **do not penalize** for missing workarounds."
      ]
    },
    {
      "cell_type": "markdown",
      "metadata": {
        "id": "EFjBgdiRG3wD"
      },
      "source": [
        "# [Task 5 - 1.0 points] Training and Evaluation\n",
        "\n",
        "You are now tasked to train and evaluate the Baseline and Model 1.\n"
      ]
    },
    {
      "cell_type": "markdown",
      "metadata": {
        "id": "TWPK4umGOjtT"
      },
      "source": [
        "\n",
        "### Instructions\n",
        "\n",
        "* Train **all** models on the train set.\n",
        "* Evaluate **all** models on the validation set.\n",
        "* Compute metrics on the validation set.\n",
        "* Pick **at least** three seeds for robust estimation.\n",
        "* Pick the **best** performing model according to the observed validation set performance.\n",
        "* Evaluate your models using macro F1-score."
      ]
    },
    {
      "cell_type": "markdown",
      "source": [
        "### Definition of a `CustomTrainer`\n",
        "The trainer trains the given model on the different seeds given in input and plots the learning curve across the seeds. <br>\n",
        "The `get_error()` function creates a DataFrame with the errors done on the dataset given in input."
      ],
      "metadata": {
        "id": "Pl9ak1I3_g70"
      }
    },
    {
      "cell_type": "code",
      "execution_count": 23,
      "metadata": {
        "id": "SfElUVIBAfF7"
      },
      "outputs": [],
      "source": [
        "class CustomTrainer:\n",
        "    def __init__(self, model, output_size=5, learning_rate=0.001, num_epochs=20, batch_size=32, seed=42):\n",
        "        self.set_seed(seed)\n",
        "\n",
        "        self.device = torch.device(\"cuda\" if torch.cuda.is_available() else \"cpu\")\n",
        "        print(f\"Using device: {self.device}\", end='\\n\\n')\n",
        "\n",
        "        self.model = model.to(self.device)\n",
        "        self.output_size = output_size\n",
        "        self.learning_rate = learning_rate\n",
        "        self.num_epochs = num_epochs\n",
        "        self.batch_size = batch_size\n",
        "        self.criterion = nn.BCEWithLogitsLoss()\n",
        "        self.optimizer = optim.Adam(model.parameters(), lr=learning_rate)\n",
        "\n",
        "    def set_seed(self, seed):\n",
        "        \"\"\"Set the seed for reproducibility.\"\"\"\n",
        "\n",
        "        random.seed(seed)\n",
        "        np.random.seed(seed)\n",
        "        # PyTorch CPU\n",
        "        torch.manual_seed(seed)\n",
        "        # PyTorch GPU (or GPUs)\n",
        "        torch.cuda.manual_seed(seed)\n",
        "        torch.cuda.manual_seed_all(seed)\n",
        "        torch.backends.cudnn.deterministic = True\n",
        "        # disable the auto-tuner to avoid randomness\n",
        "        torch.backends.cudnn.benchmark = False\n",
        "        self.seed = seed\n",
        "\n",
        "\n",
        "    def train(self, train_df):\n",
        "        \"\"\"Train the model on the training data.\"\"\"\n",
        "\n",
        "        self.x_train = torch.tensor(train_df['padded_tweet'], dtype=torch.float32).to(self.device)\n",
        "        self.y_train = torch.tensor(train_df['hard_label_task1'], dtype=torch.float32).to(self.device)\n",
        "        self.train_dataset = TensorDataset(self.x_train, self.y_train)\n",
        "        self.train_loader = DataLoader(self.train_dataset, batch_size=self.batch_size, shuffle=True)\n",
        "\n",
        "        losses = []\n",
        "        for epoch in tqdm(range(self.num_epochs), desc=f'Training with seed {self.seed}'):\n",
        "            self.model.train()\n",
        "            running_loss = 0.0\n",
        "\n",
        "            for batch_idx, (inputs, labels) in enumerate(self.train_loader):\n",
        "                self.optimizer.zero_grad()\n",
        "\n",
        "                # forward pass\n",
        "                outputs = self.model(inputs)\n",
        "                loss = self.criterion(outputs, labels)\n",
        "\n",
        "                # backward pass\n",
        "                loss.backward()\n",
        "                # optimization\n",
        "                self.optimizer.step()\n",
        "\n",
        "                running_loss += loss.item()\n",
        "\n",
        "            avg_loss = running_loss / len(self.train_loader)\n",
        "            losses.append(avg_loss)\n",
        "        return losses\n",
        "\n",
        "    def test(self, test_df):\n",
        "        \"\"\"Evaluate the model on the test data.\"\"\"\n",
        "\n",
        "        x_test = torch.tensor(test_df['padded_tweet'], dtype=torch.float32).to(self.device)\n",
        "        y_test = torch.tensor(test_df['hard_label_task1'], dtype=torch.float32).to(self.device)\n",
        "        test_dataset = TensorDataset(x_test, y_test)\n",
        "        test_loader = DataLoader(test_dataset, batch_size=self.batch_size, shuffle=False)\n",
        "\n",
        "        self.model.eval()\n",
        "\n",
        "        all_preds = []\n",
        "        all_labels = []\n",
        "\n",
        "        with torch.no_grad():\n",
        "            for inputs, labels in test_loader:\n",
        "                outputs = self.model(inputs)\n",
        "                predicted = torch.round(torch.sigmoid(outputs))\n",
        "\n",
        "                all_preds.append(predicted.cpu().numpy())\n",
        "                all_labels.append(labels.cpu().numpy())\n",
        "\n",
        "        # flatten the lists\n",
        "        all_preds = np.concatenate(all_preds, axis=0)\n",
        "        all_labels = np.concatenate(all_labels, axis=0)\n",
        "\n",
        "        # calculate f1-score and accuracy\n",
        "        f1 = f1_score(all_labels, all_preds, average='macro')\n",
        "        accuracy = (all_preds == all_labels).mean()\n",
        "\n",
        "        return accuracy, f1, all_preds, all_labels\n",
        "\n",
        "\n",
        "    def train_and_evaluate_multiple_seeds(self, train_df, test_df, num_seeds=5):\n",
        "        \"\"\"Train and evaluate the model multiple times with different seeds.\"\"\"\n",
        "        all_losses = []\n",
        "        all_accuracies = []\n",
        "\n",
        "        untrained_model = copy.deepcopy(self.model.state_dict())\n",
        "\n",
        "        print(f\"### Start training and testing with {num_seeds} seeds ###\")\n",
        "        # loop through multiple seeds\n",
        "        for seed in range(num_seeds):\n",
        "            self.set_seed(seed)\n",
        "\n",
        "            # train and evaluate the model\n",
        "            epoch_losses = self.train(train_df)\n",
        "            accuracy, f1, _, _ = self.test(test_df)\n",
        "\n",
        "            self.model.load_state_dict(untrained_model)\n",
        "\n",
        "            print(f\"Accuracy on val: {accuracy:.4f}, f1-score on val: {f1:.4f}\", end=\"\\n\\n\")\n",
        "            all_losses.append(epoch_losses)\n",
        "            all_accuracies.append(accuracy)\n",
        "\n",
        "        all_losses = np.array(all_losses)\n",
        "        all_accuracies = np.array(all_accuracies)\n",
        "\n",
        "        # plot the learning curves: max, min, avg loss across all seeds\n",
        "        self.plot_learning_curve(all_losses, all_accuracies)\n",
        "\n",
        "\n",
        "    def plot_learning_curve(self, all_losses, all_accuracies):\n",
        "        \"\"\"Plot the learning curve across all seeds.\"\"\"\n",
        "        plt.figure(figsize=(12, 6))\n",
        "\n",
        "        plt.subplot(1, 2, 1)\n",
        "        plt.plot(all_losses.mean(axis=0), label='Avg Loss', color='blue')\n",
        "        plt.fill_between(range(len(all_losses[0])), all_losses.min(axis=0), all_losses.max(axis=0), color='blue', alpha=0.2)\n",
        "        plt.title('Learning Curve (Loss)')\n",
        "        plt.xlabel('Epochs')\n",
        "        plt.ylabel('Loss')\n",
        "        plt.legend()\n",
        "\n",
        "        plt.tight_layout()\n",
        "        plt.show()\n",
        "\n",
        "    def get_errors(self, test_df):\n",
        "        \"\"\"Create a DataFrame with the errors of the model on the given dataset.\"\"\"\n",
        "\n",
        "        x_test = torch.tensor(test_df['padded_tweet'], dtype=torch.float32).to(self.device)\n",
        "        y_test = torch.tensor(test_df['hard_label_task1'], dtype=torch.float32).to(self.device)\n",
        "        texts = test_df['tweet']\n",
        "\n",
        "        test_dataset = TensorDataset(x_test, y_test)\n",
        "        test_loader = DataLoader(test_dataset, batch_size=self.batch_size, shuffle=False)\n",
        "\n",
        "        self.model.eval()\n",
        "\n",
        "        all_preds = []\n",
        "        all_labels = []\n",
        "        error_texts = []\n",
        "        error_labels = []\n",
        "\n",
        "        with torch.no_grad():\n",
        "            for idx, (inputs, labels) in enumerate(test_loader):\n",
        "                outputs = self.model(inputs)\n",
        "                predicted = torch.round(torch.sigmoid(outputs))\n",
        "                for i, (pred, label) in enumerate(zip(predicted.cpu().numpy(), labels.cpu().numpy())):\n",
        "                    if not np.array_equal(pred, label):\n",
        "                        error_texts.append(texts.iloc[idx * self.batch_size + i])\n",
        "                        error_labels.append(label)\n",
        "\n",
        "        errors_df = pd.DataFrame({\n",
        "            'tweet': error_texts,\n",
        "            'label': error_labels\n",
        "            })\n",
        "\n",
        "        return errors_df"
      ]
    },
    {
      "cell_type": "markdown",
      "source": [
        "### Train and evaluate the baseline model."
      ],
      "metadata": {
        "id": "gUVfZzaWAQKh"
      }
    },
    {
      "cell_type": "code",
      "source": [
        "baseline_trainer = CustomTrainer(model=baseline_model, num_epochs=30, batch_size=32, learning_rate=0.001)\n",
        "\n",
        "baseline_trainer.train_and_evaluate_multiple_seeds(train_df_embedded, validation_df_embedded, num_seeds=3)\n",
        "\n",
        "baseline_accuracy, baseline_f1, baseline_preds, baseline_labels = baseline_trainer.test(test_df_embedded)\n",
        "print('\\n\\nBASELINE MODEL:')\n",
        "print(f\"Accuracy on test: {baseline_accuracy:.4f}, f1-score on test: {baseline_f1:.4f}\", end=\"\\n\\n\")"
      ],
      "metadata": {
        "colab": {
          "base_uri": "https://localhost:8080/",
          "height": 902
        },
        "id": "hOCwOBuMQ5nV",
        "outputId": "40873d5d-a436-426e-e665-f8963b1d93b2"
      },
      "execution_count": 24,
      "outputs": [
        {
          "output_type": "stream",
          "name": "stdout",
          "text": [
            "Using device: cuda\n",
            "\n",
            "### Start training and testing with 3 seeds ###\n"
          ]
        },
        {
          "output_type": "stream",
          "name": "stderr",
          "text": [
            "Training with seed 0: 100%|██████████| 30/30 [00:10<00:00,  2.89it/s]\n"
          ]
        },
        {
          "output_type": "stream",
          "name": "stdout",
          "text": [
            "Accuracy on val: 0.7785, f1-score on val: 0.7671\n",
            "\n"
          ]
        },
        {
          "output_type": "stream",
          "name": "stderr",
          "text": [
            "Training with seed 1: 100%|██████████| 30/30 [00:07<00:00,  3.76it/s]\n"
          ]
        },
        {
          "output_type": "stream",
          "name": "stdout",
          "text": [
            "Accuracy on val: 0.7848, f1-score on val: 0.7716\n",
            "\n"
          ]
        },
        {
          "output_type": "stream",
          "name": "stderr",
          "text": [
            "Training with seed 2: 100%|██████████| 30/30 [00:11<00:00,  2.71it/s]\n"
          ]
        },
        {
          "output_type": "stream",
          "name": "stdout",
          "text": [
            "Accuracy on val: 0.7848, f1-score on val: 0.7744\n",
            "\n"
          ]
        },
        {
          "output_type": "display_data",
          "data": {
            "text/plain": [
              "<Figure size 1200x600 with 1 Axes>"
            ],
            "image/png": "[encoded data removed]"
          },
          "metadata": {}
        },
        {
          "output_type": "stream",
          "name": "stdout",
          "text": [
            "\n",
            "\n",
            "BASELINE MODEL:\n",
            "Accuracy on test: 0.7098, f1-score on test: 0.7059\n",
            "\n"
          ]
        }
      ]
    },
    {
      "cell_type": "markdown",
      "source": [
        "### Get the error DataFrame for the baseline model."
      ],
      "metadata": {
        "id": "Qk2lhjsRApIO"
      }
    },
    {
      "cell_type": "code",
      "source": [
        "baseline_error_df = baseline_trainer.get_errors(test_df_embedded)"
      ],
      "metadata": {
        "id": "Htqoge713Ocu"
      },
      "execution_count": 25,
      "outputs": []
    },
    {
      "cell_type": "markdown",
      "source": [
        "### Train and evaluate Model 1."
      ],
      "metadata": {
        "id": "dsgpyS1OAzDM"
      }
    },
    {
      "cell_type": "code",
      "source": [
        "model_1_trainer = CustomTrainer(model=model_1, num_epochs=30, batch_size=32, learning_rate=0.001)\n",
        "\n",
        "model_1_trainer.train_and_evaluate_multiple_seeds(train_df_embedded, validation_df_embedded, num_seeds=3)\n",
        "model_1_accuracy, model_1_f1, model_1_preds, model_1_labels = model_1_trainer.test(test_df_embedded)\n",
        "print('\\n\\MODEL 1:')\n",
        "print(f\"Accuracy on test: {model_1_accuracy:.4f}, f1-score on test: {model_1_f1:.4f}\", end=\"\\n\\n\")"
      ],
      "metadata": {
        "id": "xxMIRVPAT_tB",
        "colab": {
          "base_uri": "https://localhost:8080/",
          "height": 885
        },
        "outputId": "45ae8775-d398-45b1-a0b7-b94c1ba16f34"
      },
      "execution_count": 26,
      "outputs": [
        {
          "output_type": "stream",
          "name": "stdout",
          "text": [
            "Using device: cuda\n",
            "\n",
            "### Start training and testing with 3 seeds ###\n"
          ]
        },
        {
          "output_type": "stream",
          "name": "stderr",
          "text": [
            "Training with seed 0: 100%|██████████| 30/30 [00:11<00:00,  2.60it/s]\n"
          ]
        },
        {
          "output_type": "stream",
          "name": "stdout",
          "text": [
            "Accuracy on val: 0.8165, f1-score on val: 0.8058\n",
            "\n"
          ]
        },
        {
          "output_type": "stream",
          "name": "stderr",
          "text": [
            "Training with seed 1: 100%|██████████| 30/30 [00:11<00:00,  2.68it/s]\n"
          ]
        },
        {
          "output_type": "stream",
          "name": "stdout",
          "text": [
            "Accuracy on val: 0.8481, f1-score on val: 0.8398\n",
            "\n"
          ]
        },
        {
          "output_type": "stream",
          "name": "stderr",
          "text": [
            "Training with seed 2: 100%|██████████| 30/30 [00:13<00:00,  2.25it/s]\n"
          ]
        },
        {
          "output_type": "stream",
          "name": "stdout",
          "text": [
            "Accuracy on val: 0.7658, f1-score on val: 0.7452\n",
            "\n"
          ]
        },
        {
          "output_type": "display_data",
          "data": {
            "text/plain": [
              "<Figure size 1200x600 with 1 Axes>"
            ],
            "image/png": "[encoded data removed]"
          },
          "metadata": {}
        },
        {
          "output_type": "stream",
          "name": "stdout",
          "text": [
            "\n",
            "\\MODEL 1:\n",
            "Accuracy on test: 0.5594, f1-score on test: 0.3587\n",
            "\n"
          ]
        }
      ]
    },
    {
      "cell_type": "markdown",
      "source": [
        "### Get the error DataFrame for model 1."
      ],
      "metadata": {
        "id": "zclYp_guBCq7"
      }
    },
    {
      "cell_type": "code",
      "source": [
        "model_1_error_df = model_1_trainer.get_errors(test_df_embedded)"
      ],
      "metadata": {
        "id": "ah0RnUbOMRFO"
      },
      "execution_count": 27,
      "outputs": []
    },
    {
      "cell_type": "markdown",
      "metadata": {
        "id": "CSy9sPwYHUoD"
      },
      "source": [
        "# [Task 6 - 1.0 points] Transformers\n",
        "\n",
        "In this section, you will use a transformer model specifically trained for hate speech detection, namely [Twitter-roBERTa-base for Hate Speech Detection](https://huggingface.co/cardiffnlp/twitter-roberta-base-hate).\n",
        "\n",
        "\n"
      ]
    },
    {
      "cell_type": "markdown",
      "metadata": {
        "collapsed": false,
        "id": "kn1wVAIflktP"
      },
      "source": [
        "### Relevant Material\n",
        "- Tutorial 3"
      ]
    },
    {
      "cell_type": "markdown",
      "metadata": {
        "collapsed": false,
        "id": "fpizAvvMlktP"
      },
      "source": [
        "### Instructions\n",
        "1. **Load the Tokenizer and Model**\n",
        "\n",
        "2. **Preprocess the Dataset**:\n",
        "   You will need to preprocess your dataset to prepare it for input into the model. Tokenize your text data using the appropriate tokenizer and ensure it is formatted correctly.\n",
        "\n",
        "   **Note**: You have to use the plain text of the dataset and not the version that you tokenized before, as you need to tokenize the cleaned text obtained after the initial cleaning process.\n",
        "\n",
        "3. **Train the Model**:\n",
        "   Use the `Trainer` to train the model on your training data.\n",
        "\n",
        "4. **Evaluate the Model on the Test Set** using F1-macro."
      ]
    },
    {
      "cell_type": "code",
      "source": [
        "train_df = original_train_df.copy()\n",
        "validation_df = original_validation_df.copy()\n",
        "test_df = original_test_df.copy()"
      ],
      "metadata": {
        "id": "exLCL9oSzzbJ"
      },
      "execution_count": 28,
      "outputs": []
    },
    {
      "cell_type": "markdown",
      "source": [
        "### Preprocess the tweets\n",
        "Replace the usernames with *user* and the links with *http*"
      ],
      "metadata": {
        "id": "yLNT8-ZRCCm7"
      }
    },
    {
      "cell_type": "code",
      "source": [
        "def preprocess(text):\n",
        "    new_text = []\n",
        "    for t in text.split(\" \"):\n",
        "        t = '@user' if t.startswith('@') and len(t) > 1 else t\n",
        "        t = 'http' if t.startswith('http') else t\n",
        "        new_text.append(t)\n",
        "    return \" \".join(new_text)\n",
        "\n",
        "train_df['tweet'] = train_df['tweet'].apply(preprocess)\n",
        "validation_df['tweet'] = validation_df['tweet'].apply(preprocess)\n",
        "test_df['tweet'] = test_df['tweet'].apply(preprocess)\n",
        "train_df.head()"
      ],
      "metadata": {
        "colab": {
          "base_uri": "https://localhost:8080/",
          "height": 206
        },
        "id": "a8S0jzleyHcB",
        "outputId": "a063c57c-1dcc-48e9-9813-b1325b55f1c8"
      },
      "execution_count": 29,
      "outputs": [
        {
          "output_type": "execute_result",
          "data": {
            "text/plain": [
              "       id_EXIST lang                                              tweet  \\\n",
              "200002   200002   en  Writing a uni essay in my local pub with a cof...   \n",
              "200003   200003   en  @user it is 2021 not 1921. I dont appreciate t...   \n",
              "200006   200006   en  According to a customer I have plenty of time ...   \n",
              "200007   200007   en  So only 'blokes' drink beer? Sorry, but if you...   \n",
              "200008   200008   en  New to the shelves this week - looking forward...   \n",
              "\n",
              "        hard_label_task1  \n",
              "200002                 1  \n",
              "200003                 1  \n",
              "200006                 1  \n",
              "200007                 1  \n",
              "200008                 0  "
            ],
            "text/html": [
              "\n",
              "  <div id=\"df-10e86b85-b34f-49c8-9881-e28e0e9d8e14\" class=\"colab-df-container\">\n",
              "    <div>\n",
              "<style scoped>\n",
              "    .dataframe tbody tr th:only-of-type {\n",
              "        vertical-align: middle;\n",
              "    }\n",
              "\n",
              "    .dataframe tbody tr th {\n",
              "        vertical-align: top;\n",
              "    }\n",
              "\n",
              "    .dataframe thead th {\n",
              "        text-align: right;\n",
              "    }\n",
              "</style>\n",
              "<table border=\"1\" class=\"dataframe\">\n",
              "  <thead>\n",
              "    <tr style=\"text-align: right;\">\n",
              "      <th></th>\n",
              "      <th>id_EXIST</th>\n",
              "      <th>lang</th>\n",
              "      <th>tweet</th>\n",
              "      <th>hard_label_task1</th>\n",
              "    </tr>\n",
              "  </thead>\n",
              "  <tbody>\n",
              "    <tr>\n",
              "      <th>200002</th>\n",
              "      <td>200002</td>\n",
              "      <td>en</td>\n",
              "      <td>Writing a uni essay in my local pub with a cof...</td>\n",
              "      <td>1</td>\n",
              "    </tr>\n",
              "    <tr>\n",
              "      <th>200003</th>\n",
              "      <td>200003</td>\n",
              "      <td>en</td>\n",
              "      <td>@user it is 2021 not 1921. I dont appreciate t...</td>\n",
              "      <td>1</td>\n",
              "    </tr>\n",
              "    <tr>\n",
              "      <th>200006</th>\n",
              "      <td>200006</td>\n",
              "      <td>en</td>\n",
              "      <td>According to a customer I have plenty of time ...</td>\n",
              "      <td>1</td>\n",
              "    </tr>\n",
              "    <tr>\n",
              "      <th>200007</th>\n",
              "      <td>200007</td>\n",
              "      <td>en</td>\n",
              "      <td>So only 'blokes' drink beer? Sorry, but if you...</td>\n",
              "      <td>1</td>\n",
              "    </tr>\n",
              "    <tr>\n",
              "      <th>200008</th>\n",
              "      <td>200008</td>\n",
              "      <td>en</td>\n",
              "      <td>New to the shelves this week - looking forward...</td>\n",
              "      <td>0</td>\n",
              "    </tr>\n",
              "  </tbody>\n",
              "</table>\n",
              "</div>\n",
              "    <div class=\"colab-df-buttons\">\n",
              "\n",
              "  <div class=\"colab-df-container\">\n",
              "    <button class=\"colab-df-convert\" onclick=\"convertToInteractive('df-10e86b85-b34f-49c8-9881-e28e0e9d8e14')\"\n",
              "            title=\"Convert this dataframe to an interactive table.\"\n",
              "            style=\"display:none;\">\n",
              "\n",
              "  <svg xmlns=\"http://www.w3.org/2000/svg\" height=\"24px\" viewBox=\"0 -960 960 960\">\n",
              "    <path d=\"M120-120v-720h720v720H120Zm60-500h600v-160H180v160Zm220 220h160v-160H400v160Zm0 220h160v-160H400v160ZM180-400h160v-160H180v160Zm440 0h160v-160H620v160ZM180-180h160v-160H180v160Zm440 0h160v-160H620v160Z\"/>\n",
              "  </svg>\n",
              "    </button>\n",
              "\n",
              "  <style>\n",
              "    .colab-df-container {\n",
              "      display:flex;\n",
              "      gap: 12px;\n",
              "    }\n",
              "\n",
              "    .colab-df-convert {\n",
              "      background-color: #E8F0FE;\n",
              "      border: none;\n",
              "      border-radius: 50%;\n",
              "      cursor: pointer;\n",
              "      display: none;\n",
              "      fill: #1967D2;\n",
              "      height: 32px;\n",
              "      padding: 0 0 0 0;\n",
              "      width: 32px;\n",
              "    }\n",
              "\n",
              "    .colab-df-convert:hover {\n",
              "      background-color: #E2EBFA;\n",
              "      box-shadow: 0px 1px 2px rgba(60, 64, 67, 0.3), 0px 1px 3px 1px rgba(60, 64, 67, 0.15);\n",
              "      fill: #174EA6;\n",
              "    }\n",
              "\n",
              "    .colab-df-buttons div {\n",
              "      margin-bottom: 4px;\n",
              "    }\n",
              "\n",
              "    [theme=dark] .colab-df-convert {\n",
              "      background-color: #3B4455;\n",
              "      fill: #D2E3FC;\n",
              "    }\n",
              "\n",
              "    [theme=dark] .colab-df-convert:hover {\n",
              "      background-color: #434B5C;\n",
              "      box-shadow: 0px 1px 3px 1px rgba(0, 0, 0, 0.15);\n",
              "      filter: drop-shadow(0px 1px 2px rgba(0, 0, 0, 0.3));\n",
              "      fill: #FFFFFF;\n",
              "    }\n",
              "  </style>\n",
              "\n",
              "    <script>\n",
              "      const buttonEl =\n",
              "        document.querySelector('#df-10e86b85-b34f-49c8-9881-e28e0e9d8e14 button.colab-df-convert');\n",
              "      buttonEl.style.display =\n",
              "        google.colab.kernel.accessAllowed ? 'block' : 'none';\n",
              "\n",
              "      async function convertToInteractive(key) {\n",
              "        const element = document.querySelector('#df-10e86b85-b34f-49c8-9881-e28e0e9d8e14');\n",
              "        const dataTable =\n",
              "          await google.colab.kernel.invokeFunction('convertToInteractive',\n",
              "                                                    [key], {});\n",
              "        if (!dataTable) return;\n",
              "\n",
              "        const docLinkHtml = 'Like what you see? Visit the ' +\n",
              "          '<a target=\"_blank\" href=https://colab.research.google.com/notebooks/data_table.ipynb>data table notebook</a>'\n",
              "          + ' to learn more about interactive tables.';\n",
              "        element.innerHTML = '';\n",
              "        dataTable['output_type'] = 'display_data';\n",
              "        await google.colab.output.renderOutput(dataTable, element);\n",
              "        const docLink = document.createElement('div');\n",
              "        docLink.innerHTML = docLinkHtml;\n",
              "        element.appendChild(docLink);\n",
              "      }\n",
              "    </script>\n",
              "  </div>\n",
              "\n",
              "\n",
              "<div id=\"df-9441e586-2160-4fac-ae61-714d6dbad4c0\">\n",
              "  <button class=\"colab-df-quickchart\" onclick=\"quickchart('df-9441e586-2160-4fac-ae61-714d6dbad4c0')\"\n",
              "            title=\"Suggest charts\"\n",
              "            style=\"display:none;\">\n",
              "\n",
              "<svg xmlns=\"http://www.w3.org/2000/svg\" height=\"24px\"viewBox=\"0 0 24 24\"\n",
              "     width=\"24px\">\n",
              "    <g>\n",
              "        <path d=\"M19 3H5c-1.1 0-2 .9-2 2v14c0 1.1.9 2 2 2h14c1.1 0 2-.9 2-2V5c0-1.1-.9-2-2-2zM9 17H7v-7h2v7zm4 0h-2V7h2v10zm4 0h-2v-4h2v4z\"/>\n",
              "    </g>\n",
              "</svg>\n",
              "  </button>\n",
              "\n",
              "<style>\n",
              "  .colab-df-quickchart {\n",
              "      --bg-color: #E8F0FE;\n",
              "      --fill-color: #1967D2;\n",
              "      --hover-bg-color: #E2EBFA;\n",
              "      --hover-fill-color: #174EA6;\n",
              "      --disabled-fill-color: #AAA;\n",
              "      --disabled-bg-color: #DDD;\n",
              "  }\n",
              "\n",
              "  [theme=dark] .colab-df-quickchart {\n",
              "      --bg-color: #3B4455;\n",
              "      --fill-color: #D2E3FC;\n",
              "      --hover-bg-color: #434B5C;\n",
              "      --hover-fill-color: #FFFFFF;\n",
              "      --disabled-bg-color: #3B4455;\n",
              "      --disabled-fill-color: #666;\n",
              "  }\n",
              "\n",
              "  .colab-df-quickchart {\n",
              "    background-color: var(--bg-color);\n",
              "    border: none;\n",
              "    border-radius: 50%;\n",
              "    cursor: pointer;\n",
              "    display: none;\n",
              "    fill: var(--fill-color);\n",
              "    height: 32px;\n",
              "    padding: 0;\n",
              "    width: 32px;\n",
              "  }\n",
              "\n",
              "  .colab-df-quickchart:hover {\n",
              "    background-color: var(--hover-bg-color);\n",
              "    box-shadow: 0 1px 2px rgba(60, 64, 67, 0.3), 0 1px 3px 1px rgba(60, 64, 67, 0.15);\n",
              "    fill: var(--button-hover-fill-color);\n",
              "  }\n",
              "\n",
              "  .colab-df-quickchart-complete:disabled,\n",
              "  .colab-df-quickchart-complete:disabled:hover {\n",
              "    background-color: var(--disabled-bg-color);\n",
              "    fill: var(--disabled-fill-color);\n",
              "    box-shadow: none;\n",
              "  }\n",
              "\n",
              "  .colab-df-spinner {\n",
              "    border: 2px solid var(--fill-color);\n",
              "    border-color: transparent;\n",
              "    border-bottom-color: var(--fill-color);\n",
              "    animation:\n",
              "      spin 1s steps(1) infinite;\n",
              "  }\n",
              "\n",
              "  @keyframes spin {\n",
              "    0% {\n",
              "      border-color: transparent;\n",
              "      border-bottom-color: var(--fill-color);\n",
              "      border-left-color: var(--fill-color);\n",
              "    }\n",
              "    20% {\n",
              "      border-color: transparent;\n",
              "      border-left-color: var(--fill-color);\n",
              "      border-top-color: var(--fill-color);\n",
              "    }\n",
              "    30% {\n",
              "      border-color: transparent;\n",
              "      border-left-color: var(--fill-color);\n",
              "      border-top-color: var(--fill-color);\n",
              "      border-right-color: var(--fill-color);\n",
              "    }\n",
              "    40% {\n",
              "      border-color: transparent;\n",
              "      border-right-color: var(--fill-color);\n",
              "      border-top-color: var(--fill-color);\n",
              "    }\n",
              "    60% {\n",
              "      border-color: transparent;\n",
              "      border-right-color: var(--fill-color);\n",
              "    }\n",
              "    80% {\n",
              "      border-color: transparent;\n",
              "      border-right-color: var(--fill-color);\n",
              "      border-bottom-color: var(--fill-color);\n",
              "    }\n",
              "    90% {\n",
              "      border-color: transparent;\n",
              "      border-bottom-color: var(--fill-color);\n",
              "    }\n",
              "  }\n",
              "</style>\n",
              "\n",
              "  <script>\n",
              "    async function quickchart(key) {\n",
              "      const quickchartButtonEl =\n",
              "        document.querySelector('#' + key + ' button');\n",
              "      quickchartButtonEl.disabled = true;  // To prevent multiple clicks.\n",
              "      quickchartButtonEl.classList.add('colab-df-spinner');\n",
              "      try {\n",
              "        const charts = await google.colab.kernel.invokeFunction(\n",
              "            'suggestCharts', [key], {});\n",
              "      } catch (error) {\n",
              "        console.error('Error during call to suggestCharts:', error);\n",
              "      }\n",
              "      quickchartButtonEl.classList.remove('colab-df-spinner');\n",
              "      quickchartButtonEl.classList.add('colab-df-quickchart-complete');\n",
              "    }\n",
              "    (() => {\n",
              "      let quickchartButtonEl =\n",
              "        document.querySelector('#df-9441e586-2160-4fac-ae61-714d6dbad4c0 button');\n",
              "      quickchartButtonEl.style.display =\n",
              "        google.colab.kernel.accessAllowed ? 'block' : 'none';\n",
              "    })();\n",
              "  </script>\n",
              "</div>\n",
              "\n",
              "    </div>\n",
              "  </div>\n"
            ],
            "application/vnd.google.colaboratory.intrinsic+json": {
              "type": "dataframe",
              "variable_name": "train_df",
              "summary": "{\n  \"name\": \"train_df\",\n  \"rows\": 2870,\n  \"fields\": [\n    {\n      \"column\": \"id_EXIST\",\n      \"properties\": {\n        \"dtype\": \"string\",\n        \"num_unique_values\": 2870,\n        \"samples\": [\n          \"200504\",\n          \"202694\",\n          \"200852\"\n        ],\n        \"semantic_type\": \"\",\n        \"description\": \"\"\n      }\n    },\n    {\n      \"column\": \"lang\",\n      \"properties\": {\n        \"dtype\": \"category\",\n        \"num_unique_values\": 1,\n        \"samples\": [\n          \"en\"\n        ],\n        \"semantic_type\": \"\",\n        \"description\": \"\"\n      }\n    },\n    {\n      \"column\": \"tweet\",\n      \"properties\": {\n        \"dtype\": \"string\",\n        \"num_unique_values\": 2868,\n        \"samples\": [\n          \"Call me sexist but it just feels wrong that women are reffing the NBA like go ref the WNBA\\ud83d\\ude2c\"\n        ],\n        \"semantic_type\": \"\",\n        \"description\": \"\"\n      }\n    },\n    {\n      \"column\": \"hard_label_task1\",\n      \"properties\": {\n        \"dtype\": \"number\",\n        \"std\": 0,\n        \"min\": 0,\n        \"max\": 1,\n        \"num_unique_values\": 2,\n        \"samples\": [\n          0\n        ],\n        \"semantic_type\": \"\",\n        \"description\": \"\"\n      }\n    }\n  ]\n}"
            }
          },
          "metadata": {},
          "execution_count": 29
        }
      ]
    },
    {
      "cell_type": "markdown",
      "source": [
        "### Define the model and the tokenizer\n",
        "Use the Twitter-roBERTa-base for Hate Speech Detection model as requested."
      ],
      "metadata": {
        "id": "RVpRxS4EDkQm"
      }
    },
    {
      "cell_type": "code",
      "source": [
        "task='hate'\n",
        "MODEL = f\"cardiffnlp/twitter-roberta-base-{task}\"\n",
        "\n",
        "tokenizer = AutoTokenizer.from_pretrained(MODEL)\n",
        "\n",
        "transformer_model = AutoModelForSequenceClassification.from_pretrained(MODEL)\n",
        "transformer_model.save_pretrained(MODEL)"
      ],
      "metadata": {
        "id": "0hOhmU-B4pLZ",
        "colab": {
          "base_uri": "https://localhost:8080/",
          "height": 281,
          "referenced_widgets": [
            "c6b2b624bb944956952dc91c5dd525c2",
            "0aa63709e331412eafd3d00a8ba23c1c",
            "ee5e4ace45674748b04d2f1a51753113",
            "111494ae26834a6b91aacd8dd67db0d9",
            "6a0d22ab6d334406bbd438e2b3042b51",
            "b688cce457924ce597236f1dc7fab0bb",
            "db9a70c4ae8e45bca16308c79cecefc9",
            "5a81bbc713f84d34b3f9f54affab0d27",
            "ee69222927ad41a8acec462805b87e4c",
            "c4daf39e156548f5b348825690e8c0c3",
            "5de077fdf5c548bd952e3c6b97823ef3",
            "730682efc83b471c94bd9d93cc0716d1",
            "c1ad6574e2f34c03a702f45aace4e884",
            "f6183e5ab542417ab5a84957abafc1ba",
            "14f0725c69964460b024efa2308bde0f",
            "7a4cbfb685c94a1cbca939d44480fdb8",
            "d5407d2159d24126a9f5a5f0ecf66fb0",
            "02542f1418e148ebb7cb5d18eaf12be8",
            "6aa990f75ea246b7a440bc08720f6826",
            "f5e3141f268c48e7b989bc2261424bc5",
            "3fcad427497d4438a9dfcfe3984a0268",
            "53848044601e4a85b9b76486d3549202",
            "7553153b112240af99b99c99bb354a2b",
            "5d64588db28f450598996925065abe90",
            "e79d5b57b49a4936a720e42218a085da",
            "ce076b2d95094ba888a3250cac9d0e00",
            "b2671436612e4da69beb6e6c94c936e4",
            "b934044a62bc49a584dfc32f7c1a1f39",
            "02d51895ff894a48907e757e7a9d9813",
            "adf24279b4bc497daa3d3f0ba633e025",
            "3a1f6bfbe7344d299297256ca0188b7b",
            "012b5fcb146c40bcafe0ef535af2c296",
            "5f13b37adfae406ea3dcb9e5e27565d8",
            "95dd0778a67a4d61962aea36ff89406b",
            "a8a7abb10aab44b6a0e3db24e7d25c2b",
            "0292c24ed3664207b1866b2cb3a6aadf",
            "de832fb7a43d4b1bb1c449ec68074b61",
            "1f5bbea13bc049679a85235578402a71",
            "a3ba5ec726644e24ba2cfaa59e662aff",
            "77476cfad79f43bfb5c0e857a05aad6c",
            "9fbe61ce30e647f48db66f3a0aee2808",
            "fbb537ce357d4f95a5b9aada7134a96c",
            "88dc39e4a63a4c45982ef80fec56a8be",
            "7c7acad96c0a4e8fa6d4aadd7be60e65",
            "1adb28c116d84a9292fcd3fe29bb7107",
            "3e339be04602459bb1b8fd1bb66ee79d",
            "2b1360aba82c405ca7c52d4735839778",
            "cdb58665698242a4a14f7cd1fa7d23bc",
            "81d94fe9ca2b4f7a873d0a2a98567188",
            "4608baafacb84cf1aec692a7098f319c",
            "a3dfbb3172b7400fb48e66d7457d3c44",
            "3b36f371b0514b0288069055d591bf53",
            "83d3484c60784f74a05b22730bbdaf8a",
            "ba82e2bda9244e1f95e967099ca79345",
            "68d9da6300e4474884639ece6c06db4b"
          ]
        },
        "outputId": "49bfabce-fe97-4939-8994-4453840cbb63"
      },
      "execution_count": 30,
      "outputs": [
        {
          "output_type": "stream",
          "name": "stderr",
          "text": [
            "/usr/local/lib/python3.10/dist-packages/huggingface_hub/utils/_auth.py:94: UserWarning: \n",
            "The secret `HF_TOKEN` does not exist in your Colab secrets.\n",
            "To authenticate with the Hugging Face Hub, create a token in your settings tab (https://huggingface.co/settings/tokens), set it as secret in your Google Colab and restart your session.\n",
            "You will be able to reuse this secret in all of your notebooks.\n",
            "Please note that authentication is recommended but still optional to access public models or datasets.\n",
            "  warnings.warn(\n"
          ]
        },
        {
          "output_type": "display_data",
          "data": {
            "text/plain": [
              "config.json:   0%|          | 0.00/700 [00:00<?, ?B/s]"
            ],
            "application/vnd.jupyter.widget-view+json": {
              "version_major": 2,
              "version_minor": 0,
              "model_id": "c6b2b624bb944956952dc91c5dd525c2"
            }
          },
          "metadata": {}
        },
        {
          "output_type": "display_data",
          "data": {
            "text/plain": [
              "vocab.json:   0%|          | 0.00/899k [00:00<?, ?B/s]"
            ],
            "application/vnd.jupyter.widget-view+json": {
              "version_major": 2,
              "version_minor": 0,
              "model_id": "730682efc83b471c94bd9d93cc0716d1"
            }
          },
          "metadata": {}
        },
        {
          "output_type": "display_data",
          "data": {
            "text/plain": [
              "merges.txt:   0%|          | 0.00/456k [00:00<?, ?B/s]"
            ],
            "application/vnd.jupyter.widget-view+json": {
              "version_major": 2,
              "version_minor": 0,
              "model_id": "7553153b112240af99b99c99bb354a2b"
            }
          },
          "metadata": {}
        },
        {
          "output_type": "display_data",
          "data": {
            "text/plain": [
              "special_tokens_map.json:   0%|          | 0.00/150 [00:00<?, ?B/s]"
            ],
            "application/vnd.jupyter.widget-view+json": {
              "version_major": 2,
              "version_minor": 0,
              "model_id": "95dd0778a67a4d61962aea36ff89406b"
            }
          },
          "metadata": {}
        },
        {
          "output_type": "display_data",
          "data": {
            "text/plain": [
              "pytorch_model.bin:   0%|          | 0.00/499M [00:00<?, ?B/s]"
            ],
            "application/vnd.jupyter.widget-view+json": {
              "version_major": 2,
              "version_minor": 0,
              "model_id": "1adb28c116d84a9292fcd3fe29bb7107"
            }
          },
          "metadata": {}
        }
      ]
    },
    {
      "cell_type": "markdown",
      "source": [
        "### Tokenize the tweets."
      ],
      "metadata": {
        "id": "QGuVeQz6D0Ax"
      }
    },
    {
      "cell_type": "code",
      "source": [
        "def preprocess_text(texts):\n",
        "    return tokenizer(texts['tweet'], truncation=True)\n",
        "\n",
        "train_data = Dataset.from_pandas(train_df)\n",
        "validation_data = Dataset.from_pandas(validation_df)\n",
        "test_data = Dataset.from_pandas(test_df)\n",
        "\n",
        "train_data = train_data.map(preprocess_text, batched=True)\n",
        "validation_data = validation_data.map(preprocess_text, batched=True)\n",
        "test_data = test_data.map(preprocess_text, batched=True)\n",
        "train_data"
      ],
      "metadata": {
        "colab": {
          "base_uri": "https://localhost:8080/",
          "height": 200,
          "referenced_widgets": [
            "14bd9bfc76af4d4fa0108e3014524646",
            "dbb6cb4269c64109a17b5f39e3e1aa01",
            "3fa5e42d95e64751ad6d4c9bed0bfb65",
            "1594282922804fe6b185825678689ad8",
            "96679fef69754dc4a1cf8617077171f3",
            "d872c28053ae4a3d84e6e32477039c0f",
            "212706d2930141b1ab1309efd2da7e44",
            "8c6fd7298b4a4025adbfbb2cfdb13470",
            "aecfc38d2a724e73a922aa292a6c6628",
            "686f1b99aa6149c8b4d1df74567d7dbe",
            "d1ee6a94844b4936a759cca78f8630fc",
            "fd9057b2f89349d089c82c5a4912455f",
            "3c292a1c04314490b5cd89f411c29ff8",
            "7bd122141d2f44ba91bf100b512b86ad",
            "697275a4ed084d53a1101d484abb813b",
            "da7d5ff083fd43a798f1038c0fcd7c71",
            "df54301518984da2b60104d4ba1387ab",
            "5dbfc5e2b065479b986ed2a2e1768043",
            "2dffb3c5d2aa49d7bf45863c0c4e61f9",
            "858193581e6542189a6083449fe82b1d",
            "59fafb16ec3f49a3972b2cf919b8588c",
            "c3895293a3b04bb9b12f1f86ee132684",
            "658cfd75f92c4b7baad515309f45bfb9",
            "0c23884ad81b49b7a44c625ba62d912c",
            "1df2560b915e422694f087d0086a253e",
            "370a883e6d97437ebdfa41f870454748",
            "2afdd5dbb32f47b7ae02d5166633df76",
            "d4ea2dcbd8984dcdb75cfcbe2ed7532e",
            "9ef464fb059548a48cbddb8a2940ad71",
            "0a7a2407a5ca4c7c9d4724ebd565ab99",
            "5ac1212abeb84da2b64185d955bbf967",
            "73caceba16c14d15b93a03cab71c0ea8",
            "679bbd91f6804c93b5e934cb77074099"
          ]
        },
        "id": "oJjElDxO1MPf",
        "outputId": "9c70467d-ed7a-44ac-f98f-02d37a67dd8b"
      },
      "execution_count": 31,
      "outputs": [
        {
          "output_type": "display_data",
          "data": {
            "text/plain": [
              "Map:   0%|          | 0/2870 [00:00<?, ? examples/s]"
            ],
            "application/vnd.jupyter.widget-view+json": {
              "version_major": 2,
              "version_minor": 0,
              "model_id": "14bd9bfc76af4d4fa0108e3014524646"
            }
          },
          "metadata": {}
        },
        {
          "output_type": "stream",
          "name": "stderr",
          "text": [
            "Asking to truncate to max_length but no maximum length is provided and the model has no predefined maximum length. Default to no truncation.\n"
          ]
        },
        {
          "output_type": "display_data",
          "data": {
            "text/plain": [
              "Map:   0%|          | 0/158 [00:00<?, ? examples/s]"
            ],
            "application/vnd.jupyter.widget-view+json": {
              "version_major": 2,
              "version_minor": 0,
              "model_id": "fd9057b2f89349d089c82c5a4912455f"
            }
          },
          "metadata": {}
        },
        {
          "output_type": "display_data",
          "data": {
            "text/plain": [
              "Map:   0%|          | 0/286 [00:00<?, ? examples/s]"
            ],
            "application/vnd.jupyter.widget-view+json": {
              "version_major": 2,
              "version_minor": 0,
              "model_id": "658cfd75f92c4b7baad515309f45bfb9"
            }
          },
          "metadata": {}
        },
        {
          "output_type": "execute_result",
          "data": {
            "text/plain": [
              "Dataset({\n",
              "    features: ['id_EXIST', 'lang', 'tweet', 'hard_label_task1', '__index_level_0__', 'input_ids', 'attention_mask'],\n",
              "    num_rows: 2870\n",
              "})"
            ]
          },
          "metadata": {},
          "execution_count": 31
        }
      ]
    },
    {
      "cell_type": "code",
      "source": [
        "train_data = train_data.rename_column('hard_label_task1', 'label')\n",
        "validation_data = validation_data.rename_column('hard_label_task1', 'label')\n",
        "test_data = test_data.rename_column('hard_label_task1', 'label')"
      ],
      "metadata": {
        "id": "HL8Yo5GWpDx1"
      },
      "execution_count": 32,
      "outputs": []
    },
    {
      "cell_type": "code",
      "source": [
        "data_collator = DataCollatorWithPadding(tokenizer=tokenizer)"
      ],
      "metadata": {
        "id": "8BgIGHgpn8UK"
      },
      "execution_count": 33,
      "outputs": []
    },
    {
      "cell_type": "markdown",
      "source": [
        "### Define the traning arguments."
      ],
      "metadata": {
        "id": "gTy9iyDTEPWq"
      }
    },
    {
      "cell_type": "code",
      "source": [
        "transformer_training_args = TrainingArguments(\n",
        "    output_dir=\"test_dir\",\n",
        "    learning_rate=1e-6,\n",
        "    per_device_train_batch_size=4,\n",
        "    per_device_eval_batch_size=8,\n",
        "    num_train_epochs=4,\n",
        "    weight_decay=0.2,\n",
        "    evaluation_strategy=\"epoch\",\n",
        "    save_strategy=\"epoch\",\n",
        "    load_best_model_at_end=True,\n",
        "    report_to='none'\n",
        ")"
      ],
      "metadata": {
        "id": "mMZgRRsxodiB"
      },
      "execution_count": 34,
      "outputs": []
    },
    {
      "cell_type": "code",
      "source": [
        "def compute_metrics(output_info):\n",
        "    predictions, labels = output_info\n",
        "    predictions = np.argmax(predictions, axis=-1)\n",
        "\n",
        "    f1 = f1_score(y_pred=predictions, y_true=labels, average='macro')\n",
        "    acc = accuracy_score(y_pred=predictions, y_true=labels)\n",
        "    return {'f1': f1, 'acc': acc}"
      ],
      "metadata": {
        "id": "SyN7m0aCouDW"
      },
      "execution_count": 35,
      "outputs": []
    },
    {
      "cell_type": "code",
      "source": [
        "transformer_trainer = Trainer(\n",
        "    model=transformer_model,\n",
        "    args=transformer_training_args,\n",
        "    train_dataset=train_data,\n",
        "    eval_dataset=validation_data,\n",
        "    tokenizer=tokenizer,\n",
        "    data_collator=data_collator,\n",
        "    compute_metrics=compute_metrics,\n",
        ")"
      ],
      "metadata": {
        "id": "1TXImfWfofVM"
      },
      "execution_count": 36,
      "outputs": []
    },
    {
      "cell_type": "markdown",
      "source": [
        "### Train the transformer model."
      ],
      "metadata": {
        "id": "l4laWsd-EUT2"
      }
    },
    {
      "cell_type": "code",
      "source": [
        "transformer_trainer.train()"
      ],
      "metadata": {
        "id": "BYxC-Oxj6usD",
        "colab": {
          "base_uri": "https://localhost:8080/",
          "height": 218
        },
        "outputId": "392f2142-2f10-41cf-e9c5-86c6842af8d4"
      },
      "execution_count": 37,
      "outputs": [
        {
          "output_type": "display_data",
          "data": {
            "text/plain": [
              "<IPython.core.display.HTML object>"
            ],
            "text/html": [
              "\n",
              "    <div>\n",
              "      \n",
              "      <progress value='2872' max='2872' style='width:300px; height:20px; vertical-align: middle;'></progress>\n",
              "      [2872/2872 06:42, Epoch 4/4]\n",
              "    </div>\n",
              "    <table border=\"1\" class=\"dataframe\">\n",
              "  <thead>\n",
              " <tr style=\"text-align: left;\">\n",
              "      <th>Epoch</th>\n",
              "      <th>Training Loss</th>\n",
              "      <th>Validation Loss</th>\n",
              "      <th>F1</th>\n",
              "      <th>Acc</th>\n",
              "    </tr>\n",
              "  </thead>\n",
              "  <tbody>\n",
              "    <tr>\n",
              "      <td>1</td>\n",
              "      <td>0.445800</td>\n",
              "      <td>0.414833</td>\n",
              "      <td>0.835437</td>\n",
              "      <td>0.841772</td>\n",
              "    </tr>\n",
              "    <tr>\n",
              "      <td>2</td>\n",
              "      <td>0.413100</td>\n",
              "      <td>0.457808</td>\n",
              "      <td>0.842420</td>\n",
              "      <td>0.848101</td>\n",
              "    </tr>\n",
              "    <tr>\n",
              "      <td>3</td>\n",
              "      <td>0.435000</td>\n",
              "      <td>0.501009</td>\n",
              "      <td>0.855552</td>\n",
              "      <td>0.860759</td>\n",
              "    </tr>\n",
              "    <tr>\n",
              "      <td>4</td>\n",
              "      <td>0.422000</td>\n",
              "      <td>0.521328</td>\n",
              "      <td>0.861767</td>\n",
              "      <td>0.867089</td>\n",
              "    </tr>\n",
              "  </tbody>\n",
              "</table><p>"
            ]
          },
          "metadata": {}
        },
        {
          "output_type": "execute_result",
          "data": {
            "text/plain": [
              "TrainOutput(global_step=2872, training_loss=0.44071622545672656, metrics={'train_runtime': 404.1429, 'train_samples_per_second': 28.406, 'train_steps_per_second': 7.106, 'total_flos': 382640557810440.0, 'train_loss': 0.44071622545672656, 'epoch': 4.0})"
            ]
          },
          "metadata": {},
          "execution_count": 37
        }
      ]
    },
    {
      "cell_type": "markdown",
      "source": [
        "### Compute f1-score and accuracy on the test set."
      ],
      "metadata": {
        "id": "6YFUGV54F7Ga"
      }
    },
    {
      "cell_type": "code",
      "source": [
        "transformer_test_prediction_info = transformer_trainer.predict(test_data)\n",
        "transformer_test_predictions, transformer_test_labels = transformer_test_prediction_info.predictions, transformer_test_prediction_info.label_ids"
      ],
      "metadata": {
        "colab": {
          "base_uri": "https://localhost:8080/",
          "height": 17
        },
        "id": "IttiBDUOqCOf",
        "outputId": "ce973d88-87f7-40be-999b-1cf5cfc7da6f"
      },
      "execution_count": 38,
      "outputs": [
        {
          "output_type": "display_data",
          "data": {
            "text/plain": [
              "<IPython.core.display.HTML object>"
            ],
            "text/html": []
          },
          "metadata": {}
        }
      ]
    },
    {
      "cell_type": "code",
      "source": [
        "transformer_test_metrics = compute_metrics([transformer_test_predictions, transformer_test_labels])\n",
        "transformer_f1 = transformer_test_metrics['f1']\n",
        "transformer_accuracy = transformer_test_metrics['acc']\n",
        "print(f\"Accuracy on test: {transformer_accuracy:.4f}\\nf1-score on test: {transformer_f1:.4f}\", end=\"\\n\\n\")"
      ],
      "metadata": {
        "colab": {
          "base_uri": "https://localhost:8080/"
        },
        "id": "ZWGVCWBIqGrG",
        "outputId": "21cc547b-997d-4eeb-d8c3-07ee82993bb4"
      },
      "execution_count": 39,
      "outputs": [
        {
          "output_type": "stream",
          "name": "stdout",
          "text": [
            "Accuracy on test: 0.8042\n",
            "f1-score on test: 0.8026\n",
            "\n"
          ]
        }
      ]
    },
    {
      "cell_type": "markdown",
      "source": [
        "# COSE DA FARE"
      ],
      "metadata": {
        "id": "HxgQ8lX2HHsg"
      }
    },
    {
      "cell_type": "markdown",
      "source": [
        " ### ERROR ANALYSIS\n",
        " FAQ: <br>\n",
        " Some topics for discussion include:\n",
        "   * Precision/Recall curves.\n",
        "   * Confusion matrices.\n",
        "   * Specific misclassified samples.\n",
        "\n",
        "NOSTRE: <br>\n",
        " * Nelle frasi sbagliate, printare la frase con i token che non sono nel vocabolario colorati di rosso.\n",
        " * Controllo delle distribuzioni del dataset (bilanciato?)\n",
        " * Discutere gli errori comuni e le performance\n",
        "\n",
        "\n",
        " ### IDEE EXTRA\n",
        "  * Usare embedding trainabili invece di globe\n",
        "  * Mantenere le emojy e hashtag nel testo dei tweet\n",
        "  * Usare tokenizer nel primo task\n"
      ],
      "metadata": {
        "id": "FzZoydiDFX2V"
      }
    },
    {
      "cell_type": "markdown",
      "metadata": {
        "id": "3gtiG2mAL3HM"
      },
      "source": [
        "# [Task 7 - 0.5 points] Error Analysis\n",
        "\n",
        "### Instructions\n",
        "\n",
        "After evaluating the model, perform a brief error analysis:\n",
        "\n",
        " - Review the results and identify common errors.\n",
        "\n",
        " - Summarize your findings regarding the errors and their impact on performance (e.g. but not limited to Out-of-Vocabulary (OOV) words, data imbalance, and performance differences between the custom model and the transformer...)\n",
        " - Suggest possible solutions to address the identified errors.\n",
        "\n"
      ]
    },
    {
      "cell_type": "markdown",
      "source": [
        "#### Start with an analysis of the dataset to see the data"
      ],
      "metadata": {
        "id": "f67A2JytIxfl"
      }
    },
    {
      "cell_type": "code",
      "source": [
        "data_train = train_df\n",
        "data_val = validation_df\n",
        "data_test = test_df\n",
        "data_train = data_train.rename(columns={'hard_label_task1': 'label'})\n",
        "data_val = data_val.rename(columns={'hard_label_task1': 'label'})\n",
        "data_test = data_test.rename(columns={'hard_label_task1': 'label'})"
      ],
      "metadata": {
        "id": "a6yrItmqMXuf"
      },
      "execution_count": 40,
      "outputs": []
    },
    {
      "cell_type": "markdown",
      "source": [
        "Plot the distribution of the labels in the train, validation and test sets."
      ],
      "metadata": {
        "id": "JIZXspFBTjYT"
      }
    },
    {
      "cell_type": "code",
      "source": [
        "def plot_label_distribution(data_list, labels):\n",
        "    for i in range(len(data_list)):\n",
        "        data = data_list[i]\n",
        "        print(labels[i])\n",
        "\n",
        "        # Basic Statistics\n",
        "        print(\"Label Distribution\")\n",
        "        print(data['label'].value_counts())\n",
        "\n",
        "        # Label Distribution\n",
        "        plt.figure(figsize=(8, 6))\n",
        "        sns.countplot(data=data, x='label', palette='coolwarm')\n",
        "        plt.title('Distribution of Labels')\n",
        "        plt.xlabel('Label')\n",
        "        plt.ylabel('Count')\n",
        "        plt.show()\n",
        "\n",
        "        print('\\n\\n')\n",
        "\n",
        "plot_label_distribution([data_train, data_val, data_test], labels=['Training Set', 'Validation Set', 'Test Set'])"
      ],
      "metadata": {
        "colab": {
          "base_uri": "https://localhost:8080/",
          "height": 1000
        },
        "id": "2mqLZpR8TfZ-",
        "outputId": "2525861f-486c-47a6-cb68-6ab006ad7b35"
      },
      "execution_count": 41,
      "outputs": [
        {
          "output_type": "stream",
          "name": "stdout",
          "text": [
            "Training Set\n",
            "Label Distribution\n",
            "label\n",
            "0    1733\n",
            "1    1137\n",
            "Name: count, dtype: int64\n"
          ]
        },
        {
          "output_type": "display_data",
          "data": {
            "text/plain": [
              "<Figure size 800x600 with 1 Axes>"
            ],
            "image/png": "[encoded data removed]"
          },
          "metadata": {}
        },
        {
          "output_type": "stream",
          "name": "stdout",
          "text": [
            "\n",
            "\n",
            "\n",
            "Validation Set\n",
            "Label Distribution\n",
            "label\n",
            "0    90\n",
            "1    68\n",
            "Name: count, dtype: int64\n"
          ]
        },
        {
          "output_type": "display_data",
          "data": {
            "text/plain": [
              "<Figure size 800x600 with 1 Axes>"
            ],
            "image/png": "[encoded data removed]"
          },
          "metadata": {}
        },
        {
          "output_type": "stream",
          "name": "stdout",
          "text": [
            "\n",
            "\n",
            "\n",
            "Test Set\n",
            "Label Distribution\n",
            "label\n",
            "0    160\n",
            "1    126\n",
            "Name: count, dtype: int64\n"
          ]
        },
        {
          "output_type": "display_data",
          "data": {
            "text/plain": [
              "<Figure size 800x600 with 1 Axes>"
            ],
            "image/png": "[encoded data removed]"
          },
          "metadata": {}
        },
        {
          "output_type": "stream",
          "name": "stdout",
          "text": [
            "\n",
            "\n",
            "\n"
          ]
        }
      ]
    },
    {
      "cell_type": "markdown",
      "source": [
        "Plot the train, validation and test set distribution of the tweet lenght."
      ],
      "metadata": {
        "id": "6t3zIb49TsEg"
      }
    },
    {
      "cell_type": "code",
      "source": [
        "def plot_distr_tweet_len(data_list_or, labels):\n",
        "    data_list = []\n",
        "    for data_or in data_list_or:\n",
        "        data = data_or.copy()\n",
        "        data['tweet_length'] = data['tweet'].apply(len)\n",
        "        data_list.append(data)\n",
        "\n",
        "    # Determine global x and y axis limits\n",
        "    all_lengths = pd.concat([data['tweet_length'] for data in data_list])\n",
        "    x_min, x_max = all_lengths.min(), all_lengths.max()\n",
        "\n",
        "    # Plot each dataset with consistent axes\n",
        "    for i, data in enumerate(data_list):\n",
        "        plt.figure(figsize=(10, 6))\n",
        "        sns.histplot(data, x='tweet_length', hue='label', bins=30, kde=True, palette='coolwarm')\n",
        "        plt.title(f'Distribution of Tweet Lengths - {labels[i]}')\n",
        "        plt.xlabel('Tweet Length')\n",
        "        plt.ylabel('Frequency')\n",
        "        plt.xlim(x_min, x_max)\n",
        "        plt.show()\n",
        "\n",
        "plot_distr_tweet_len([data_train, data_val, data_test], labels=['Training Set', 'Validation Set', 'Test Set'])\n"
      ],
      "metadata": {
        "colab": {
          "base_uri": "https://localhost:8080/",
          "height": 1000
        },
        "id": "hpW5LynsMiBz",
        "outputId": "dfae34f4-1b0d-4b50-bf1a-8bbf76cc9a01"
      },
      "execution_count": 42,
      "outputs": [
        {
          "output_type": "display_data",
          "data": {
            "text/plain": [
              "<Figure size 1000x600 with 1 Axes>"
            ],
            "image/png": "[encoded data removed]"
          },
          "metadata": {}
        },
        {
          "output_type": "display_data",
          "data": {
            "text/plain": [
              "<Figure size 1000x600 with 1 Axes>"
            ],
            "image/png": "[encoded data removed]"
          },
          "metadata": {}
        },
        {
          "output_type": "display_data",
          "data": {
            "text/plain": [
              "<Figure size 1000x600 with 1 Axes>"
            ],
            "image/png": "[encoded data removed]"
          },
          "metadata": {}
        }
      ]
    },
    {
      "cell_type": "markdown",
      "source": [
        "Plot the most frequent words for each label"
      ],
      "metadata": {
        "id": "f9sicR52V1xV"
      }
    },
    {
      "cell_type": "code",
      "source": [
        "def analyze_top_words_by_label(data, text_column='tweet', label_column='label', n_top_words=20, exluded_words={}):\n",
        "    # Ensure the input data has the required columns\n",
        "    if text_column not in data.columns or label_column not in data.columns:\n",
        "        raise ValueError(f\"Dataframe must contain '{text_column}' and '{label_column}' columns.\")\n",
        "\n",
        "    # Define stop words\n",
        "    stop_words = set(stopwords.words('english') + list(string.punctuation) + list(exluded_words))\n",
        "\n",
        "    # Preprocessing function\n",
        "    def preprocess_text(text):\n",
        "        tokens = word_tokenize(text.lower())\n",
        "        filtered_words = [word for word in tokens if word not in stop_words and word.isalnum()]\n",
        "        return ' '.join(filtered_words)\n",
        "\n",
        "    # Apply preprocessing to the text column\n",
        "    data['cleaned_text'] = data[text_column].apply(preprocess_text)\n",
        "\n",
        "    # Function to get top words\n",
        "    def get_top_words(texts, n=20):\n",
        "        all_words = ' '.join(texts).split()\n",
        "        most_common = Counter(all_words).most_common(n)\n",
        "        return pd.DataFrame(most_common, columns=['word', 'count'])\n",
        "\n",
        "    # Find top words for each label and determine max count for consistent plotting\n",
        "    max_count = 0\n",
        "    label_top_words = {}\n",
        "    for label in data[label_column].unique():\n",
        "        subset = data[data[label_column] == label]\n",
        "        top_words = get_top_words(subset['cleaned_text'], n=n_top_words)\n",
        "        top_words = top_words[~top_words['word'].isin(exluded_words)]\n",
        "        label_top_words[label] = top_words\n",
        "        if not top_words.empty:\n",
        "            max_count = max(max_count, top_words['count'].max())\n",
        "\n",
        "    # Plot the results\n",
        "    for label, top_words in label_top_words.items():\n",
        "        if not top_words.empty:\n",
        "            plt.figure(figsize=(12, 6))\n",
        "            sns.barplot(data=top_words, x='count', y='word', palette='coolwarm')\n",
        "            plt.title(f\"Top Words for Label: {label}\")\n",
        "            plt.xlabel('Count')\n",
        "            plt.ylabel('Word')\n",
        "            plt.xlim(0, max_count + 5)  # Adding a small margin for better visuals\n",
        "            plt.show()"
      ],
      "metadata": {
        "id": "lUbn1RgLveCO"
      },
      "execution_count": 43,
      "outputs": []
    },
    {
      "cell_type": "code",
      "source": [
        "analyze_top_words_by_label(data_train, text_column='tweet', label_column='label', n_top_words=20)"
      ],
      "metadata": {
        "colab": {
          "base_uri": "https://localhost:8080/",
          "height": 1000
        },
        "id": "Qj0fvpkzvmBv",
        "outputId": "cdc14a05-937e-42c3-a3e6-5570162850c8"
      },
      "execution_count": 44,
      "outputs": [
        {
          "output_type": "display_data",
          "data": {
            "text/plain": [
              "<Figure size 1200x600 with 1 Axes>"
            ],
            "image/png": "[encoded data removed]"
          },
          "metadata": {}
        },
        {
          "output_type": "display_data",
          "data": {
            "text/plain": [
              "<Figure size 1200x600 with 1 Axes>"
            ],
            "image/png": "[encoded data removed]"
          },
          "metadata": {}
        }
      ]
    },
    {
      "cell_type": "markdown",
      "source": [
        "Exclude some of the common words between the two labels to have a better understanding of the situation."
      ],
      "metadata": {
        "id": "jshA7efaWCsd"
      }
    },
    {
      "cell_type": "code",
      "source": [
        "excluded_words = {'user', 'http', 'amp', 'like', 'get', 'know', 'would', 'even'}\n",
        "analyze_top_words_by_label(data_train, text_column='tweet', label_column='label', n_top_words=20, exluded_words=excluded_words)"
      ],
      "metadata": {
        "colab": {
          "base_uri": "https://localhost:8080/",
          "height": 1000
        },
        "id": "lrYPeEUHwV5Y",
        "outputId": "f9889a88-965d-409c-d1c4-0f0188973fc0"
      },
      "execution_count": 45,
      "outputs": [
        {
          "output_type": "display_data",
          "data": {
            "text/plain": [
              "<Figure size 1200x600 with 1 Axes>"
            ],
            "image/png": "[encoded data removed]"
          },
          "metadata": {}
        },
        {
          "output_type": "display_data",
          "data": {
            "text/plain": [
              "<Figure size 1200x600 with 1 Axes>"
            ],
            "image/png": "[encoded data removed]"
          },
          "metadata": {}
        }
      ]
    },
    {
      "cell_type": "markdown",
      "source": [
        "#### Confusion matrix and Precision-Recall curve\n"
      ],
      "metadata": {
        "id": "fceDGW-np8LN"
      }
    },
    {
      "cell_type": "code",
      "source": [
        "def plot_cf_and_PRcurve(y_test, y_prob):\n",
        "    y_pred = np.argmax(y_prob, axis=-1)\n",
        "\n",
        "    conf_matrix = confusion_matrix(y_test, y_pred)\n",
        "\n",
        "    # Confusion Matrix\n",
        "    plt.figure(figsize=(6, 5))\n",
        "    sns.heatmap(conf_matrix, annot=True, fmt=\"d\", cmap=\"Blues\", xticklabels=[\"Negative\", \"Positive\"], yticklabels=[\"Negative\", \"Positive\"])\n",
        "    plt.title(\"Confusion Matrix\")\n",
        "    plt.xlabel(\"Predicted\")\n",
        "    plt.ylabel(\"Actual\")\n",
        "    plt.show()\n",
        "\n",
        "    precision, recall, thresholds = precision_recall_curve(y_test, y_prob[:, 1])\n",
        "\n",
        "    # Precision-Recall curve\n",
        "    plt.figure(figsize=(8, 6))\n",
        "    plt.plot(recall, precision, color=\"b\", label=\"Precision-Recall Curve\")\n",
        "    plt.fill_between(recall, precision, color=\"skyblue\", alpha=0.4)\n",
        "    plt.title(\"Precision-Recall Curve\")\n",
        "    plt.xlabel(\"Recall\")\n",
        "    plt.ylabel(\"Precision\")\n",
        "    plt.legend(loc=\"lower left\")\n",
        "    plt.show()\n",
        "\n",
        "    print(\"\\nClassification Report:\")\n",
        "    print(classification_report(y_test, y_pred))"
      ],
      "metadata": {
        "id": "4n0awo0xjFF1"
      },
      "execution_count": 46,
      "outputs": []
    },
    {
      "cell_type": "markdown",
      "source": [
        "Baseline model"
      ],
      "metadata": {
        "id": "Jve3--W7IMNM"
      }
    },
    {
      "cell_type": "markdown",
      "source": [
        "DA METTERE A POSTO"
      ],
      "metadata": {
        "id": "_vzxojUvPE2E"
      }
    },
    {
      "cell_type": "code",
      "source": [
        "plot_cf_and_PRcurve(baseline_labels, baseline_preds)"
      ],
      "metadata": {
        "colab": {
          "base_uri": "https://localhost:8080/",
          "height": 287
        },
        "id": "TyTimD_cIw4H",
        "outputId": "7beca8c0-52ea-45d2-b7b4-0b7f11dcc9ba"
      },
      "execution_count": 47,
      "outputs": [
        {
          "output_type": "error",
          "ename": "InvalidParameterError",
          "evalue": "The 'y_pred' parameter of confusion_matrix must be an array-like. Got 1 instead.",
          "traceback": [
            "\u001b[0;31m---------------------------------------------------------------------------\u001b[0m",
            "\u001b[0;31mInvalidParameterError\u001b[0m                     Traceback (most recent call last)",
            "\u001b[0;32m<ipython-input-47-8be0af75ec6e>\u001b[0m in \u001b[0;36m<cell line: 1>\u001b[0;34m()\u001b[0m\n\u001b[0;32m----> 1\u001b[0;31m \u001b[0mplot_cf_and_PRcurve\u001b[0m\u001b[0;34m(\u001b[0m\u001b[0mbaseline_labels\u001b[0m\u001b[0;34m,\u001b[0m \u001b[0mbaseline_preds\u001b[0m\u001b[0;34m)\u001b[0m\u001b[0;34m\u001b[0m\u001b[0;34m\u001b[0m\u001b[0m\n\u001b[0m",
            "\u001b[0;32m<ipython-input-46-47cb7097f30a>\u001b[0m in \u001b[0;36mplot_cf_and_PRcurve\u001b[0;34m(y_test, y_prob)\u001b[0m\n\u001b[1;32m      2\u001b[0m     \u001b[0my_pred\u001b[0m \u001b[0;34m=\u001b[0m \u001b[0mnp\u001b[0m\u001b[0;34m.\u001b[0m\u001b[0margmax\u001b[0m\u001b[0;34m(\u001b[0m\u001b[0my_prob\u001b[0m\u001b[0;34m,\u001b[0m \u001b[0maxis\u001b[0m\u001b[0;34m=\u001b[0m\u001b[0;34m-\u001b[0m\u001b[0;36m1\u001b[0m\u001b[0;34m)\u001b[0m\u001b[0;34m\u001b[0m\u001b[0;34m\u001b[0m\u001b[0m\n\u001b[1;32m      3\u001b[0m \u001b[0;34m\u001b[0m\u001b[0m\n\u001b[0;32m----> 4\u001b[0;31m     \u001b[0mconf_matrix\u001b[0m \u001b[0;34m=\u001b[0m \u001b[0mconfusion_matrix\u001b[0m\u001b[0;34m(\u001b[0m\u001b[0my_test\u001b[0m\u001b[0;34m,\u001b[0m \u001b[0my_pred\u001b[0m\u001b[0;34m)\u001b[0m\u001b[0;34m\u001b[0m\u001b[0;34m\u001b[0m\u001b[0m\n\u001b[0m\u001b[1;32m      5\u001b[0m \u001b[0;34m\u001b[0m\u001b[0m\n\u001b[1;32m      6\u001b[0m     \u001b[0;31m# Confusion Matrix\u001b[0m\u001b[0;34m\u001b[0m\u001b[0;34m\u001b[0m\u001b[0m\n",
            "\u001b[0;32m/usr/local/lib/python3.10/dist-packages/sklearn/utils/_param_validation.py\u001b[0m in \u001b[0;36mwrapper\u001b[0;34m(*args, **kwargs)\u001b[0m\n\u001b[1;32m    201\u001b[0m             \u001b[0mparams\u001b[0m \u001b[0;34m=\u001b[0m \u001b[0;34m{\u001b[0m\u001b[0mk\u001b[0m\u001b[0;34m:\u001b[0m \u001b[0mv\u001b[0m \u001b[0;32mfor\u001b[0m \u001b[0mk\u001b[0m\u001b[0;34m,\u001b[0m \u001b[0mv\u001b[0m \u001b[0;32min\u001b[0m \u001b[0mparams\u001b[0m\u001b[0;34m.\u001b[0m\u001b[0marguments\u001b[0m\u001b[0;34m.\u001b[0m\u001b[0mitems\u001b[0m\u001b[0;34m(\u001b[0m\u001b[0;34m)\u001b[0m \u001b[0;32mif\u001b[0m \u001b[0mk\u001b[0m \u001b[0;32mnot\u001b[0m \u001b[0;32min\u001b[0m \u001b[0mto_ignore\u001b[0m\u001b[0;34m}\u001b[0m\u001b[0;34m\u001b[0m\u001b[0;34m\u001b[0m\u001b[0m\n\u001b[1;32m    202\u001b[0m \u001b[0;34m\u001b[0m\u001b[0m\n\u001b[0;32m--> 203\u001b[0;31m             validate_parameter_constraints(\n\u001b[0m\u001b[1;32m    204\u001b[0m                 \u001b[0mparameter_constraints\u001b[0m\u001b[0;34m,\u001b[0m \u001b[0mparams\u001b[0m\u001b[0;34m,\u001b[0m \u001b[0mcaller_name\u001b[0m\u001b[0;34m=\u001b[0m\u001b[0mfunc\u001b[0m\u001b[0;34m.\u001b[0m\u001b[0m__qualname__\u001b[0m\u001b[0;34m\u001b[0m\u001b[0;34m\u001b[0m\u001b[0m\n\u001b[1;32m    205\u001b[0m             )\n",
            "\u001b[0;32m/usr/local/lib/python3.10/dist-packages/sklearn/utils/_param_validation.py\u001b[0m in \u001b[0;36mvalidate_parameter_constraints\u001b[0;34m(parameter_constraints, params, caller_name)\u001b[0m\n\u001b[1;32m     93\u001b[0m                 )\n\u001b[1;32m     94\u001b[0m \u001b[0;34m\u001b[0m\u001b[0m\n\u001b[0;32m---> 95\u001b[0;31m             raise InvalidParameterError(\n\u001b[0m\u001b[1;32m     96\u001b[0m                 \u001b[0;34mf\"The {param_name!r} parameter of {caller_name} must be\"\u001b[0m\u001b[0;34m\u001b[0m\u001b[0;34m\u001b[0m\u001b[0m\n\u001b[1;32m     97\u001b[0m                 \u001b[0;34mf\" {constraints_str}. Got {param_val!r} instead.\"\u001b[0m\u001b[0;34m\u001b[0m\u001b[0;34m\u001b[0m\u001b[0m\n",
            "\u001b[0;31mInvalidParameterError\u001b[0m: The 'y_pred' parameter of confusion_matrix must be an array-like. Got 1 instead."
          ]
        }
      ]
    },
    {
      "cell_type": "markdown",
      "source": [
        "Model 1"
      ],
      "metadata": {
        "id": "iSH6Ktf4IPgQ"
      }
    },
    {
      "cell_type": "markdown",
      "source": [
        "DA METTERE A POSTO"
      ],
      "metadata": {
        "id": "-te_PX8KPH65"
      }
    },
    {
      "cell_type": "code",
      "source": [
        "plot_cf_and_PRcurve(model_1_labels, model_1_preds)"
      ],
      "metadata": {
        "id": "jfx4ekngI7qY"
      },
      "execution_count": null,
      "outputs": []
    },
    {
      "cell_type": "markdown",
      "source": [
        "Transformer model"
      ],
      "metadata": {
        "id": "JCv5QiOfWti6"
      }
    },
    {
      "cell_type": "code",
      "source": [
        "plot_cf_and_PRcurve(transformer_test_labels, transformer_test_predictions)"
      ],
      "metadata": {
        "colab": {
          "base_uri": "https://localhost:8080/",
          "height": 1000
        },
        "id": "OiehN41CWqYt",
        "outputId": "ecfc474e-ca7d-454e-ed97-b693e056f1ed"
      },
      "execution_count": 48,
      "outputs": [
        {
          "output_type": "display_data",
          "data": {
            "text/plain": [
              "<Figure size 600x500 with 2 Axes>"
            ],
            "image/png": "[encoded data removed]"
          },
          "metadata": {}
        },
        {
          "output_type": "display_data",
          "data": {
            "text/plain": [
              "<Figure size 800x600 with 1 Axes>"
            ],
            "image/png": "[encoded data removed]"
          },
          "metadata": {}
        },
        {
          "output_type": "stream",
          "name": "stdout",
          "text": [
            "\n",
            "Classification Report:\n",
            "              precision    recall  f1-score   support\n",
            "\n",
            "           0       0.84      0.80      0.82       160\n",
            "           1       0.76      0.81      0.78       126\n",
            "\n",
            "    accuracy                           0.80       286\n",
            "   macro avg       0.80      0.80      0.80       286\n",
            "weighted avg       0.81      0.80      0.80       286\n",
            "\n"
          ]
        }
      ]
    },
    {
      "cell_type": "markdown",
      "source": [
        "#### Specific misclassified samples"
      ],
      "metadata": {
        "id": "4WLyLDXVsrkG"
      }
    },
    {
      "cell_type": "code",
      "source": [
        "def analyze_errors(text, pred, label, tokenizer):\n",
        "    # Check if pred and label are of the same length\n",
        "    if len(pred) != len(label):\n",
        "        raise ValueError(\"The length of prediction and label lists must be the same.\")\n",
        "\n",
        "    # Initialize a list to store the results of incorrect predictions\n",
        "    incorrect_preds = []\n",
        "    output_list = []\n",
        "\n",
        "    pred = np.argmax(pred, axis=-1)\n",
        "    # Iterate through each token in the prediction and label\n",
        "    for i in range(len(pred)):\n",
        "        # If the prediction is incorrect, we'll process this token\n",
        "        if pred[i] != label[i]:\n",
        "            incorrect_preds.append((text[i], i))\n",
        "            output_list.append((text[i], pred[i]))\n",
        "\n",
        "    print(f\"Number of incorrect prediction: {len(incorrect_preds)}\")\n",
        "    print()\n",
        "    print(\"First dot reprsent label, second represent prediction, red means sexist\")\n",
        "    # If there are incorrect predictions, print them and color OOV tokens\n",
        "    for err, idx in incorrect_preds:\n",
        "        if label[idx] == 1:\n",
        "            print(\"🔴\", end=\" \")\n",
        "        else:\n",
        "            print(\"🟢\", end=\" \")\n",
        "        if pred[idx] == 1:\n",
        "            print(\"🔴\", end=\" \")\n",
        "        else:\n",
        "            print(\"🟢\", end=\" \")\n",
        "        print(err)\n",
        "\n",
        "    return output_list\n",
        "\n",
        "incpreds = analyze_errors(data_test['tweet'], transformer_test_labels, transformer_test_labels, tokenizer)"
      ],
      "metadata": {
        "colab": {
          "base_uri": "https://localhost:8080/",
          "height": 297
        },
        "id": "JV249l1T3UOz",
        "outputId": "75162e25-9f9e-4f2d-bd91-ae8742be05de"
      },
      "execution_count": 50,
      "outputs": [
        {
          "output_type": "error",
          "ename": "TypeError",
          "evalue": "object of type 'numpy.int64' has no len()",
          "traceback": [
            "\u001b[0;31m---------------------------------------------------------------------------\u001b[0m",
            "\u001b[0;31mTypeError\u001b[0m                                 Traceback (most recent call last)",
            "\u001b[0;32m<ipython-input-50-ca0344c1e5d0>\u001b[0m in \u001b[0;36m<cell line: 35>\u001b[0;34m()\u001b[0m\n\u001b[1;32m     33\u001b[0m     \u001b[0;32mreturn\u001b[0m \u001b[0moutput_list\u001b[0m\u001b[0;34m\u001b[0m\u001b[0;34m\u001b[0m\u001b[0m\n\u001b[1;32m     34\u001b[0m \u001b[0;34m\u001b[0m\u001b[0m\n\u001b[0;32m---> 35\u001b[0;31m \u001b[0mincpreds\u001b[0m \u001b[0;34m=\u001b[0m \u001b[0manalyze_errors\u001b[0m\u001b[0;34m(\u001b[0m\u001b[0mdata_test\u001b[0m\u001b[0;34m[\u001b[0m\u001b[0;34m'tweet'\u001b[0m\u001b[0;34m]\u001b[0m\u001b[0;34m,\u001b[0m \u001b[0mtransformer_test_labels\u001b[0m\u001b[0;34m,\u001b[0m \u001b[0mtransformer_test_labels\u001b[0m\u001b[0;34m,\u001b[0m \u001b[0mtokenizer\u001b[0m\u001b[0;34m)\u001b[0m\u001b[0;34m\u001b[0m\u001b[0;34m\u001b[0m\u001b[0m\n\u001b[0m",
            "\u001b[0;32m<ipython-input-50-ca0344c1e5d0>\u001b[0m in \u001b[0;36manalyze_errors\u001b[0;34m(text, pred, label, tokenizer)\u001b[0m\n\u001b[1;32m     10\u001b[0m     \u001b[0mpred\u001b[0m \u001b[0;34m=\u001b[0m \u001b[0mnp\u001b[0m\u001b[0;34m.\u001b[0m\u001b[0margmax\u001b[0m\u001b[0;34m(\u001b[0m\u001b[0mpred\u001b[0m\u001b[0;34m,\u001b[0m \u001b[0maxis\u001b[0m\u001b[0;34m=\u001b[0m\u001b[0;34m-\u001b[0m\u001b[0;36m1\u001b[0m\u001b[0;34m)\u001b[0m\u001b[0;34m\u001b[0m\u001b[0;34m\u001b[0m\u001b[0m\n\u001b[1;32m     11\u001b[0m     \u001b[0;31m# Iterate through each token in the prediction and label\u001b[0m\u001b[0;34m\u001b[0m\u001b[0;34m\u001b[0m\u001b[0m\n\u001b[0;32m---> 12\u001b[0;31m     \u001b[0;32mfor\u001b[0m \u001b[0mi\u001b[0m \u001b[0;32min\u001b[0m \u001b[0mrange\u001b[0m\u001b[0;34m(\u001b[0m\u001b[0mlen\u001b[0m\u001b[0;34m(\u001b[0m\u001b[0mpred\u001b[0m\u001b[0;34m)\u001b[0m\u001b[0;34m)\u001b[0m\u001b[0;34m:\u001b[0m\u001b[0;34m\u001b[0m\u001b[0;34m\u001b[0m\u001b[0m\n\u001b[0m\u001b[1;32m     13\u001b[0m         \u001b[0;31m# If the prediction is incorrect, we'll process this token\u001b[0m\u001b[0;34m\u001b[0m\u001b[0;34m\u001b[0m\u001b[0m\n\u001b[1;32m     14\u001b[0m         \u001b[0;32mif\u001b[0m \u001b[0mpred\u001b[0m\u001b[0;34m[\u001b[0m\u001b[0mi\u001b[0m\u001b[0;34m]\u001b[0m \u001b[0;34m!=\u001b[0m \u001b[0mlabel\u001b[0m\u001b[0;34m[\u001b[0m\u001b[0mi\u001b[0m\u001b[0;34m]\u001b[0m\u001b[0;34m:\u001b[0m\u001b[0;34m\u001b[0m\u001b[0;34m\u001b[0m\u001b[0m\n",
            "\u001b[0;31mTypeError\u001b[0m: object of type 'numpy.int64' has no len()"
          ]
        }
      ]
    },
    {
      "cell_type": "code",
      "source": [
        "errors_df = pd.DataFrame(incpreds, columns=[\"tweet\", \"label\"])\n",
        "analyze_top_words_by_label(errors_df, text_column='tweet', label_column='label', n_top_words=20, exluded_words=excluded_words)"
      ],
      "metadata": {
        "id": "aySKvxjrw4bY"
      },
      "execution_count": null,
      "outputs": []
    },
    {
      "cell_type": "markdown",
      "source": [
        "Top words for baseline model"
      ],
      "metadata": {
        "id": "ZCTd9uG536ZV"
      }
    },
    {
      "cell_type": "code",
      "source": [
        "analyze_top_words_by_label(baseline_error_df, text_column='tweet', label_column='label', n_top_words=20)"
      ],
      "metadata": {
        "id": "VWUtcGor20pK"
      },
      "execution_count": null,
      "outputs": []
    },
    {
      "cell_type": "markdown",
      "source": [
        "Top words for model 1"
      ],
      "metadata": {
        "id": "MD4LbDPjIDyj"
      }
    },
    {
      "cell_type": "code",
      "source": [
        "analyze_top_words_by_label(model_1_error_df, text_column='tweet', label_column='label', n_top_words=20)"
      ],
      "metadata": {
        "id": "aCn27p7oMeny"
      },
      "execution_count": null,
      "outputs": []
    },
    {
      "cell_type": "code",
      "source": [
        "def highlight_oov_tokens(df, vocabulary, tweet_column=\"tweet\", label_column=\"label\", oov_column=\"oov_token_count\"):\n",
        "    # Extract vocabulary keys\n",
        "    vocab_keys = set(vocabulary.keys())\n",
        "\n",
        "    def highlight_tokens(tweet):\n",
        "        \"\"\"Highlight OOV tokens in red within the tweet.\"\"\"\n",
        "        tokens = tweet.split()  # Assuming tweets are space-separated strings\n",
        "        highlighted = [\n",
        "            f\"\\033[91m{token}\\033[0m\" if token not in vocab_keys else token\n",
        "            for token in tokens\n",
        "        ]\n",
        "        return \" \".join(highlighted)\n",
        "\n",
        "    print(f\"\\n{'Label':<6}{'Tweet (OOV tokens highlighted in red)':<60}\")\n",
        "    print(\"-\" * 70)\n",
        "\n",
        "    for _, row in df.iterrows():\n",
        "        label = row[label_column]\n",
        "        tweet = row[tweet_column]\n",
        "        label_emoji = \"🔴\" if label == 1 else \"🟢\"\n",
        "        highlighted_tweet = highlight_tokens(tweet)\n",
        "        print(f\"{label_emoji:<6}{highlighted_tweet}\")\n",
        "\n",
        "highlight_oov_tokens(baseline_error_df, vocab, tweet_column=\"tweet\", label_column=\"label\", oov_column=\"oov_token_count\")"
      ],
      "metadata": {
        "colab": {
          "base_uri": "https://localhost:8080/"
        },
        "id": "lUyqzFr37USg",
        "outputId": "5ea2f7a7-5807-4f3a-9c1b-3e6c3c15c35c"
      },
      "execution_count": 51,
      "outputs": [
        {
          "output_type": "stream",
          "name": "stdout",
          "text": [
            "\n",
            "Label Tweet (OOV tokens highlighted in red)                       \n",
            "----------------------------------------------------------------------\n",
            "🔴     fuck cunt tried vote multiple time\n",
            "🔴     \u001b[91msuika\u001b[0m get gangbanged death\n",
            "🔴     maybe something involving getting gangbanged\n",
            "🟢     sex gender harassment \u001b[91minferring\u001b[0m\n",
            "🔴     \u001b[91mkabul\u001b[0m islamic \u001b[91memirate\u001b[0m afghanistan announced end \u001b[91mcoeducation\u001b[0m country \u001b[91mciting\u001b[0m gender \u001b[91mharassmentfemale\u001b[0m student attend university \u001b[91mmonday\u001b[0m wednesday saturday tuesday thursday sunday \u001b[91mfixed\u001b[0m male\n",
            "🔴     violent \u001b[91mantifeminism\u001b[0m farright movement see \u001b[91mprincipally\u001b[0m vessel breeding new white generation express \u001b[91mfixation\u001b[0m \u001b[91mareturn\u001b[0m traditional gender \u001b[91mrolesworth\u001b[0m every minute read take 5 min sun\n",
            "🔴     ah look gender role back dont believe lie\n",
            "🟢     \u001b[91misa\u001b[0m hot girl summer pop yall shit\n",
            "🟢     baby called \u001b[91mmommy\u001b[0m sha first time today twice yall dont understand \u001b[91mhype\u001b[0m made baby girl autism getting talk without prompted challenge shes come far\n",
            "🟢     reach point \u001b[91mblonks\u001b[0m \u001b[91maudacity\u001b[0m talk \u001b[91myoongis\u001b[0m rap yall see stan yall ok girl cant write cant deliver cant come close \u001b[91mbtss\u001b[0m \u001b[91mlyricism\u001b[0m tf yall getting brave fashion deal\n",
            "🔴     gold digger nice picture set elite \u001b[91mpinwork\u001b[0m like revealing \u001b[91mmona\u001b[0m \u001b[91mlisa\u001b[0m always work art\n",
            "🟢     try expose gold digger \u001b[91mbackfire\u001b[0m 90 day fiance b via\n",
            "🟢     u r allowing terrorist harass \u001b[91mcountryman\u001b[0m\n",
            "🔴     dear fan harass talented actor color stop racist \u001b[91mdouche\u001b[0m \u001b[91mnozzle\u001b[0m cant nice thing \u001b[91mmoses\u001b[0m \u001b[91mbadass\u001b[0m \u001b[91minquisitor\u001b[0m yall cant handle \u001b[91mbadassary\u001b[0m\n",
            "🟢     cosmic hegemony taking job find \u001b[91msuperweapons\u001b[0m late review \u001b[91mdarn\u001b[0m difficult beautifully themed \u001b[91msolo\u001b[0m game \u001b[91mpulp\u001b[0m \u001b[91minvasion\u001b[0m\n",
            "🔴     best way behind hand hip\n",
            "🟢     yall husband wife best friend guy much fun awesome keep laughing smiling\n",
            "🔴     wait till ur husband mess u gon na love \u001b[91mscouser\u001b[0m death threat\n",
            "🟢     old receipt \u001b[91mprinter\u001b[0m thing idea use would like fuck like\n",
            "🟢     yup hate men rape kill woman\n",
            "🔴     call clean \u001b[91mparliament\u001b[0m laddish culture mp porn shame via\n",
            "🟢     \u001b[91mtheresa\u001b[0m may still pm would \u001b[91mpartying\u001b[0m throughout covid lockdown think know answer johnson \u001b[91mpresided\u001b[0m amp encouraged \u001b[91mlax\u001b[0m laddish culture drinking amp \u001b[91mrulebreaking\u001b[0m\n",
            "🟢     \u001b[91mladiesdont\u001b[0m let anyone body shame wayyou fat \u001b[91mwhatyou\u001b[0m beautiful \u001b[91mdearbe\u001b[0m confident \u001b[91myourselfpeace\u001b[0m\n",
            "🟢     stop dont lie people lady dont let man trick greatest \u001b[91morgan\u001b[0m life cause\n",
            "🟢     lady dont miscarriage \u001b[91mlouisiana\u001b[0m addition probably friend family \u001b[91msued\u001b[0m \u001b[91mopportunistic\u001b[0m \u001b[91myokel\u001b[0m youll charged murder\n",
            "🔴     mansplaining concept pee drawer partner want\n",
            "🔴     \u001b[91mwonwoo\u001b[0m cross leg amp \u001b[91mjun\u001b[0m manspreading\n",
            "🔴     going weak rn playing \u001b[91mguitar\u001b[0m manspreading knee\n",
            "🔴     feel unsafe sharing bathroom \u001b[91mtranswoman\u001b[0m seems like bigotry need \u001b[91munpack\u001b[0m marginalize already marginalized group\n",
            "🟢     stay penis masturbate penis forever\n",
            "🟢     ya \u001b[91mknowits\u001b[0m crazy roe v wade \u001b[91minitially\u001b[0m started lie black men 50 year later still catching stray white men yall black misandry real matter party dems republican\n",
            "🔴     woman dont like \u001b[91mbathing\u001b[0m went girl school\n",
            "🔴     woman nowadays look like makeup hard find good one ton makeup always go date beach lol\n",
            "🔴     dont need man tell stand thank\n",
            "🟢     men look good beard btw pls stop trying grow\n",
            "🟢     hysterical anyone want ban widely owned common \u001b[91mfirearm\u001b[0m stop blaming object stop trying \u001b[91mstomp\u001b[0m god given right law \u001b[91mabiding\u001b[0m citizen\n",
            "🔴     female \u001b[91mchara\u001b[0m \u001b[91mflirtysexy\u001b[0m isnt always bad n know \u001b[91mdigimon\u001b[0m always kinda \u001b[91mobjectificationofwomen\u001b[0m issue medium tbh seems nearly way game interested \u001b[91mpresenting\u001b[0m woman kinda suck esp since yea game good\n",
            "🔴     bother going \u001b[91mmar\u001b[0m life going toxic sexism racism bigotry horrible oppression unfairness inequality make earth living hell many\n",
            "🟢     \u001b[91mdiverse\u001b[0m \u001b[91mpluralistic\u001b[0m country america law based distorted patriarchal interpretation christianity \u001b[91mfurthermore\u001b[0m government role \u001b[91mwhatsoever\u001b[0m woman private healthcare decision\n",
            "🟢     dont understand wed invested calling patrilineal name though thats somehow \u001b[91mreverent\u001b[0m empowering\n",
            "🟢     part experience black man dealing penis envy amp gossip mentality race men \u001b[91mchilling\u001b[0m amp hating reason definitely something stay back mind men general get along well\n",
            "🔴     fuck sake possible furry space thats explicitly \u001b[91mcontentrestricted\u001b[0m doesnt immediately become yet another showcase \u001b[91msizequeen\u001b[0m phallocentrism\n",
            "🔴     cyborg politics struggle language struggle perfect communication one code \u001b[91mtranslates\u001b[0m meaning perfectly central \u001b[91mdogma\u001b[0m phallogocentrism\n",
            "🟢     \u001b[91m031b0038\u001b[0m battle \u001b[91midi\u001b[0m need \u001b[91mbackuplvl\u001b[0m 150 \u001b[91mproto\u001b[0m \u001b[91mbahamut\u001b[0m\n",
            "🔴     eat hole slide dick pound till \u001b[91msquirt\u001b[0m\n",
            "🟢     dream party friend bill gate showed said friend look pregnant as \u001b[91mbelly\u001b[0m\n",
            "🟢     \u001b[91movulation\u001b[0m really making feel pregnant dont appreciate\n",
            "🟢     \u001b[91msharia\u001b[0m law religion islam allows abortion 5th \u001b[91mmontha\u001b[0m rape incest \u001b[91mmentalphysical\u001b[0m health life mother risk 5th month abortion allowed save life mother\n",
            "🟢     calling man bald sexual harassment via\n",
            "🔴     according human right commission 1 3 people experience sexual harassment work created online course providing strategy prevent respond incident \u001b[91moccur\u001b[0m start course\n",
            "🔴     dont care gender race \u001b[91mreligionsexual\u001b[0m orientation person long qualified position said qualified based \u001b[91mexperienceeducation\u001b[0m chosen solely black gay please \u001b[91mprogressiveswoke\u001b[0m saying\n",
            "🟢     check listing added closet \u001b[91myellow\u001b[0m \u001b[91mpolo\u001b[0m shirt \u001b[91mtommy\u001b[0m \u001b[91mhilfiger\u001b[0m womens large\n",
            "🔴     show money rule world im disappointed \u001b[91mripleys\u001b[0m would even allow building let reality skank get incredible insult waiting sub full armed \u001b[91mrobber\u001b[0m \u001b[91movertake\u001b[0m end \u001b[91mkhloe\u001b[0m looked better\n",
            "🔴     kinda get point slag far\n",
            "🔴     yea back didnt even one slap unfortunate\n",
            "🔴     jealous \u001b[91mplss\u001b[0m talk new album u \u001b[91mwrinkly\u001b[0m slutbag\n",
            "🔴     \u001b[91mder\u001b[0m literally took last night slutbag\n",
            "🔴     everyone time desire energy actively physically seek partner men meet rl married relationship ex met slutbag \u001b[91mbarnes\u001b[0m \u001b[91mnoble\u001b[0m \u001b[91mweeknight\u001b[0m\n",
            "🔴     sound like \u001b[91mtypa\u001b[0m nigga let bos sodomize cause job come \u001b[91mperk\u001b[0m stfu keep dick ya mouth nd stay way fuck wherever u nd ignorant as comment thought\n",
            "🟢     always \u001b[91mentertainer\u001b[0m attracts white audience get big start claiming bw dont listen type artist love stereotyping amp \u001b[91mboxing\u001b[0m u like society blk ppl general smh\n",
            "🟢     though \u001b[91mpete\u001b[0m showing anyone youre allowed excited well dinosaur dead thinking emotional suppression good\n",
            "🟢     \u001b[91mjesse\u001b[0m never known father anything half machine raised hearing voice man felt \u001b[91mfamiliar\u001b[0m yet foreign already \u001b[91mstunned\u001b[0m looking \u001b[91mglowing\u001b[0m figure \u001b[91minfront\u001b[0m added tension hand immediately\n",
            "🔴     \u001b[91mbounceeyyyy\u001b[0m \u001b[91mboobieeeessssss\u001b[0m\n",
            "🔴     proceeded \u001b[91maudacity\u001b[0m inform \u001b[91m8am\u001b[0m early trophy \u001b[91mwifegf\u001b[0m talk\n",
            "🔴     dont report problematic bitch tik tok \u001b[91mfys\u001b[0m \u001b[91midc\u001b[0m hate group talk \u001b[91midc\u001b[0m shouldnt exist gone truly dont care go report \u001b[91macc\u001b[0m shouldnt exist like know theyre ugly irl dont want near \u001b[91mtubatu\u001b[0m\n",
            "🟢     oh u cant understand womens word\n",
            "🟢     question wear short skirt literally show as \u001b[91mkneehighs\u001b[0m \u001b[91mopt\u001b[0m short\n",
            "🟢     im annoyed ex mutuals hurt friend amp \u001b[91msuddenly\u001b[0m act like \u001b[91meverythings\u001b[0m good couple month amp \u001b[91msuddenly\u001b[0m try \u001b[91mbefriend\u001b[0m amp dont forgive pull victim card shit friend like dare\n",
            "🟢     \u001b[91misw\u001b[0m published \u001b[91mfakest\u001b[0m crap map front u state \u001b[91mdepartment\u001b[0m fake news \u001b[91mvictoria\u001b[0m \u001b[91mnuland\u001b[0m woman directly involved armed \u001b[91moverthrow\u001b[0m ukraine government 2014\n",
            "🟢     nonbinary also lean femininity time content \u001b[91mafab\u001b[0m amp seen woman amp embrace time simply want \u001b[91mgenderless\u001b[0m thing exists\n",
            "🔴     tf ya call \u001b[91mfemism\u001b[0m shouldnt womanism thats case\n",
            "🟢     feminism v \u001b[91mwomanismhudsonweems\u001b[0m \u001b[91midentifies\u001b[0m difference womanism feminism womanism \u001b[91mfamilyoriented\u001b[0m focus race class gender feminism \u001b[91mfemaleoriented\u001b[0m strictly focus biological sex related issue woman face\n",
            "🔴     dont know \u001b[91minvented\u001b[0m womanism huh okay risk skin cancer guess best luck\n",
            "🟢     collective drive improve \u001b[91murgent\u001b[0m \u001b[91mhumanitarian\u001b[0m situation \u001b[91moptimise\u001b[0m demographic \u001b[91mdividend\u001b[0m continent youth woman \u001b[91messential\u001b[0m \u001b[91mstakeholder\u001b[0m \u001b[91mimproving\u001b[0m \u001b[91mhumanitarian\u001b[0m situation particularly peace security \u001b[91msocioeconomic\u001b[0m\n",
            "🟢     yeah woman getting bad ive noticed anyway im sorry people sending stuff like gross\n",
            "🟢     yo swear \u001b[91msagittarius\u001b[0m men woman funniest\n",
            "🟢     \u001b[91mvasectomy\u001b[0m simple surgery done office hospital clinic 24 hour later recovery pretty much \u001b[91mcompletetubal\u001b[0m \u001b[91mligation\u001b[0m recovery take 13 week longer done following \u001b[91mcsection\u001b[0m \u001b[91mchildbirth\u001b[0m many woman cant afford take 13 week work\n",
            "🔴     \u001b[91mhandmaiden\u001b[0m relative \u001b[91malum\u001b[0m posting \u001b[91mclaptrap\u001b[0m fb young woman dont know drive never worked subservient \u001b[91mheadship\u001b[0m \u001b[91mendanger\u001b[0m child home filled \u001b[91mar15s\u001b[0m jesus yall\n",
            "🔴     woman shouldnt sex reasonable answer save kid life citizen shouldnt deadly weapon save kid life completely insane concept\n",
            "🟢     dragged action showed standing told wearing im going yell \u001b[91mshout\u001b[0m holding sign bring hate upon guy\n",
            "🔴     look like \u001b[91mbitchwell\u001b[0m move \u001b[91mkz\u001b[0m dont like\n",
            "🔴     \u001b[91mgenration\u001b[0m selfish cunt matter genuine right thing still make look like cunt getting worse people ask dont bother anyone\n",
            "🟢     dont know youre point shouldnt \u001b[91mmock\u001b[0m people look \u001b[91mshallow\u001b[0m make look like cunt thanks \u001b[91minput\u001b[0m though\n"
          ]
        }
      ]
    },
    {
      "cell_type": "code",
      "source": [
        "highlight_oov_tokens(model_1_error_df, vocab, tweet_column=\"tweet\", label_column=\"label\", oov_column=\"oov_token_count\")"
      ],
      "metadata": {
        "colab": {
          "base_uri": "https://localhost:8080/"
        },
        "id": "mu-8uTcuMw8G",
        "outputId": "50f61879-3ffb-4d2a-f81d-2f005843ca31"
      },
      "execution_count": 52,
      "outputs": [
        {
          "output_type": "stream",
          "name": "stdout",
          "text": [
            "\n",
            "Label Tweet (OOV tokens highlighted in red)                       \n",
            "----------------------------------------------------------------------\n",
            "🔴     like outfit except dress frigid bitch try look \u001b[91mconstipated\u001b[0m new\n",
            "🔴     fuck cunt tried vote multiple time\n",
            "🔴     u got ta say shit like ill fuck cunt dumb cant remember anything name stupid slut\n",
            "🔴     \u001b[91mmmm\u001b[0m fuck cunt hungry dick isnt shame lie want wanting body never \u001b[91mcanhe\u001b[0m say ear start \u001b[91mkissing\u001b[0m neck making sure leave plenty love mark \u001b[91mpale\u001b[0m skin\n",
            "🔴     \u001b[91msuika\u001b[0m get gangbanged death\n",
            "🔴     maybe something involving getting gangbanged\n",
            "🔴     \u001b[91mkabul\u001b[0m islamic \u001b[91memirate\u001b[0m afghanistan announced end \u001b[91mcoeducation\u001b[0m country \u001b[91mciting\u001b[0m gender \u001b[91mharassmentfemale\u001b[0m student attend university \u001b[91mmonday\u001b[0m wednesday saturday tuesday thursday sunday \u001b[91mfixed\u001b[0m male\n",
            "🔴     violent \u001b[91mantifeminism\u001b[0m farright movement see \u001b[91mprincipally\u001b[0m vessel breeding new white generation express \u001b[91mfixation\u001b[0m \u001b[91mareturn\u001b[0m traditional gender \u001b[91mrolesworth\u001b[0m every minute read take 5 min sun\n",
            "🔴     ah look gender role back dont believe lie\n",
            "🔴     hot girl cant get nowhere without \u001b[91mgps\u001b[0m\n",
            "🔴     gold digger nice picture set elite \u001b[91mpinwork\u001b[0m like revealing \u001b[91mmona\u001b[0m \u001b[91mlisa\u001b[0m always work art\n",
            "🔴     enough made fact shes \u001b[91munabashed\u001b[0m gold digger\n",
            "🔴     dear fan harass talented actor color stop racist \u001b[91mdouche\u001b[0m \u001b[91mnozzle\u001b[0m cant nice thing \u001b[91mmoses\u001b[0m \u001b[91mbadass\u001b[0m \u001b[91minquisitor\u001b[0m yall cant handle \u001b[91mbadassary\u001b[0m\n",
            "🔴     stop saying said cu short hair \u001b[91mgayest\u001b[0m look came \u001b[91m201718\u001b[0m blonde \u001b[91mponytail\u001b[0m era know ur herstory\n",
            "🔴     best way behind hand hip\n",
            "🔴     energy \u001b[91mkiryu\u001b[0m couldnt smash wouldnt hit woman \u001b[91mnoncanon\u001b[0m crossover give fuck\n",
            "🔴     exactly \u001b[91mdrilled\u001b[0m men hit woman isnt \u001b[91mdrilled\u001b[0m woman hit men many time night \u001b[91mwitnessed\u001b[0m woman hitting \u001b[91mpunching\u001b[0m \u001b[91mscratching\u001b[0m men standing taking know damned \u001b[91mreact\u001b[0m\n",
            "🔴     would woman accuse someone hitting lie dont hit woman never accused \u001b[91msucheven\u001b[0m \u001b[91mexnever\u001b[0m said nasty divorce\n",
            "🔴     wait till ur husband mess u gon na love \u001b[91mscouser\u001b[0m death threat\n",
            "🔴     \u001b[91maughhh\u001b[0m still got exam tomorrow hate woman\n",
            "🔴     like queer hate woman misogynist proud\n",
            "🔴     ill share stuff \u001b[91marchive\u001b[0m \u001b[91mantifujo\u001b[0m comment thread \u001b[91m100im\u001b[0m ok make \u001b[91mmlmyesnoyou\u001b[0m long \u001b[91msexmisogyny\u001b[0m \u001b[91mliei\u001b[0m hate woman ruin \u001b[91meverythingim\u001b[0m trans man amp cant believe used think dirty gross \u001b[91mfujo\u001b[0m\n",
            "🔴     want give delicious black kiss as look rich would like fuck cum inside\n",
            "🔴     im pretty sure exist nick \u001b[91mserial\u001b[0m killer men \u001b[91msoley\u001b[0m kill woman\n",
            "🔴     much \u001b[91mharmkill\u001b[0m woman child long shot pun intended\n",
            "🔴     call clean \u001b[91mparliament\u001b[0m laddish culture mp porn shame via\n",
            "🔴     hard woman must think like man act like lady look like young girl work like horse\n",
            "🔴     dude look like lady aerosmith\n",
            "🔴     real woman pissed man dick dressing like woman beating sport lol truly living fucked time men literally dress like woman take away womens accomplishment\n",
            "🔴     \u001b[91mkuda\u001b[0m dangerous sure darling \u001b[91mccc\u001b[0m like woman one \u001b[91mane\u001b[0m \u001b[91mguhwa\u001b[0m\n",
            "🔴     tell u \u001b[91mbrood\u001b[0m \u001b[91mmare\u001b[0m amp must die cell clump live carry rapist baby amp want u protest \u001b[91mcivilly\u001b[0m yes he mansplaining protest \u001b[91mnicely\u001b[0m moving toward enslavement \u001b[91mpolite\u001b[0m little lady\n",
            "🔴     mansplaining concept pee drawer partner want\n",
            "🔴     \u001b[91mwonwoo\u001b[0m cross leg amp \u001b[91mjun\u001b[0m manspreading\n",
            "🔴     going weak rn playing \u001b[91mguitar\u001b[0m manspreading knee\n",
            "🔴     feel unsafe sharing bathroom \u001b[91mtranswoman\u001b[0m seems like bigotry need \u001b[91munpack\u001b[0m marginalize already marginalized group\n",
            "🔴     male sex worker put straight \u001b[91mcap\u001b[0m bio cant help laugh cause really get thinking straight woman gon na masturbate bizarre\n",
            "🔴     confront misogyny misandry hardly problem world comparison exists reaction abuse\n",
            "🔴     woman dont like \u001b[91mbathing\u001b[0m went girl school\n",
            "🔴     probably common say woman either ignore chalk \u001b[91mhormonal\u001b[0m pp thing woman even \u001b[91mconnect\u001b[0m stop \u001b[91mbreastfeeding\u001b[0m\n",
            "🔴     woman nowadays look like makeup hard find good one ton makeup always go date beach lol\n",
            "🔴     dont need man tell stand thank\n",
            "🔴     arent woman financially stable belief doesnt need man\n",
            "🔴     female \u001b[91mchara\u001b[0m \u001b[91mflirtysexy\u001b[0m isnt always bad n know \u001b[91mdigimon\u001b[0m always kinda \u001b[91mobjectificationofwomen\u001b[0m issue medium tbh seems nearly way game interested \u001b[91mpresenting\u001b[0m woman kinda suck esp since yea game good\n",
            "🔴     objectification amp dehumanizing saw someone take time day make strong political point \u001b[91mhorwath\u001b[0m sarcasm tweeted photo looked like lot \u001b[91mphotoshop\u001b[0m pathetic clown\n",
            "🔴     going sleep soon im furious happening womens right \u001b[91mautonomy\u001b[0m state men complain feminism become oppression men dont think realize real fear woman live wondering day\n",
            "🔴     bother going \u001b[91mmar\u001b[0m life going toxic sexism racism bigotry horrible oppression unfairness inequality make earth living hell many\n",
            "🔴     nobody winning patriarchal \u001b[91mdominancenobody\u001b[0m woman men planet time big change\n",
            "🔴     ah working hard promote patriarchy \u001b[91mexploiting\u001b[0m light music club girl like porn victim making drink tea eat cake occasionally play cute song something also \u001b[91mtricking\u001b[0m young woman liking show dare\n",
            "🔴     \u001b[91mgalaxy\u001b[0m brain concept girl \u001b[91mtransition\u001b[0m wear \u001b[91mmenswear\u001b[0m \u001b[91mstylish\u001b[0m \u001b[91mlesbicious\u001b[0m sort way patriarchy doesnt let men\n",
            "🔴     gc ideology \u001b[91mnutshell\u001b[0m patrilineal inheritance \u001b[91mpeerage\u001b[0m \u001b[91mgrossly\u001b[0m misogynist literally system put men woman also transphobic count trans woman \u001b[91mmenbut\u001b[0m gc problem trans woman might get \u001b[91mpeerage\u001b[0m\n",
            "🔴     also tried look info transmascs \u001b[91mpcos\u001b[0m got study said angry lesbian penis envy need \u001b[91mhormonal\u001b[0m \u001b[91mimbalance\u001b[0m corrected\n",
            "🔴     missed something phallocentrism become latest cult\n",
            "🔴     fuck sake possible furry space thats explicitly \u001b[91mcontentrestricted\u001b[0m doesnt immediately become yet another showcase \u001b[91msizequeen\u001b[0m phallocentrism\n",
            "🔴     freud claim girl \u001b[91mdicklet\u001b[0m \u001b[91mclitoris\u001b[0m \u001b[91mphallic\u001b[0m \u001b[91msignificance\u001b[0m phallocentrism \u001b[91mreduces\u001b[0m even female genitalia phallus part vagina clit \u001b[91mconstitute\u001b[0m \u001b[91mplurality\u001b[0m female sexuality clit \u001b[91mcoexists\u001b[0m \u001b[91mnonphallic\u001b[0m body part\n",
            "🔴     cyborg politics struggle language struggle perfect communication one code \u001b[91mtranslates\u001b[0m meaning perfectly central \u001b[91mdogma\u001b[0m phallogocentrism\n",
            "🔴     eat hole slide dick pound till \u001b[91msquirt\u001b[0m\n",
            "🔴     ironic majority people happy comment people cant get pregnant\n",
            "🔴     \u001b[91mmaga\u001b[0m trump wall keep people force pregnant woman stay \u001b[91minregardless\u001b[0m rape incest risk life\n",
            "🔴     human \u001b[91mfallible\u001b[0m assume woman always victim \u001b[91mdemeaning\u001b[0m sexist say men \u001b[91mattacker\u001b[0m \u001b[91mdemeaning\u001b[0m doesnt \u001b[91mlend\u001b[0m justice anyone victim blame johnny mom knew\n",
            "🔴     according human right commission 1 3 people experience sexual harassment work created online course providing strategy prevent respond incident \u001b[91moccur\u001b[0m start course\n",
            "🔴     dont care gender race \u001b[91mreligionsexual\u001b[0m orientation person long qualified position said qualified based \u001b[91mexperienceeducation\u001b[0m chosen solely black gay please \u001b[91mprogressiveswoke\u001b[0m saying\n",
            "🔴     show money rule world im disappointed \u001b[91mripleys\u001b[0m would even allow building let reality skank get incredible insult waiting sub full armed \u001b[91mrobber\u001b[0m \u001b[91movertake\u001b[0m end \u001b[91mkhloe\u001b[0m looked better\n",
            "🔴     got new bitch cause old one couldnt keep wit lifestyle fuck lil skank get rich got fund thing want wit complaint\n",
            "🔴     kinda get point slag far\n",
            "🔴     yea back didnt even one slap unfortunate\n",
            "🔴     making cum like good slut\n",
            "🔴     giving u lost ur bitch u sad move around slut\n",
            "🔴     jealous \u001b[91mplss\u001b[0m talk new album u \u001b[91mwrinkly\u001b[0m slutbag\n",
            "🔴     \u001b[91mder\u001b[0m literally took last night slutbag\n",
            "🔴     everyone time desire energy actively physically seek partner men meet rl married relationship ex met slutbag \u001b[91mbarnes\u001b[0m \u001b[91mnoble\u001b[0m \u001b[91mweeknight\u001b[0m\n",
            "🔴     young girl want buy gun \u001b[91mforcefully\u001b[0m sodomize well pretty positive rape considered \u001b[91mheinous\u001b[0m crime anal rape okay \u001b[91mfirearm\u001b[0m involved\n",
            "🔴     sound like \u001b[91mtypa\u001b[0m nigga let bos sodomize cause job come \u001b[91mperk\u001b[0m stfu keep dick ya mouth nd stay way fuck wherever u nd ignorant as comment thought\n",
            "🔴     enter heart anytime baby want u sodomize emotionally \u001b[91mhuhuhu\u001b[0m\n",
            "🔴     6 hot reason men like spanking woman via\n",
            "🔴     movie tv show 1950s 1960s men would spank woman gone \u001b[91mastray\u001b[0m whatever \u001b[91mreminding\u001b[0m u punishment must include physical \u001b[91melement\u001b[0m well\n",
            "🔴     yesterday learned easter whip pomlzka tradition \u001b[91mpracticed\u001b[0m \u001b[91mslovakia\u001b[0m easter \u001b[91mmonday\u001b[0m men spank woman get paid iti many question\n",
            "🔴     say superwoman syndrome\n",
            "🔴     lesbian ive noticed tht connection started inappropriate emotional dumping past \u001b[91msituationsthis\u001b[0m superwoman syndrome created bc believe place bear burden woman expense\n",
            "🔴     superwoman syndrome real \u001b[91mdebilitating\u001b[0m gal\n",
            "🔴     member boy club speaking assume woman confirmed behaviour lying\n",
            "🔴     child raped father \u001b[91msacrificed\u001b[0m \u001b[91mfetusbut\u001b[0m woman raped man \u001b[91msacrificed\u001b[0m \u001b[91mfetusbut\u001b[0m teen \u001b[91mimpregnated\u001b[0m man used \u001b[91msacrificed\u001b[0m \u001b[91mfetusseems\u001b[0m like men problem\n",
            "🔴     never knew share tit stop \u001b[91mpal\u001b[0m yeah\n",
            "🔴     \u001b[91mbounceeyyyy\u001b[0m \u001b[91mboobieeeessssss\u001b[0m\n",
            "🔴     focus money freedom retirement today woman may still think work read gt\n",
            "🔴     he rich busy man want trophy wife nothing surprising article good read though\n",
            "🔴     okay \u001b[91mconfess\u001b[0m fucker soon said \u001b[91mpictured\u001b[0m \u001b[91mgary\u001b[0m \u001b[91mbusey\u001b[0m \u001b[91mboinking\u001b[0m \u001b[91mgiulianis\u001b[0m cousin trump trophy wife know stick head share\n",
            "🔴     proceeded \u001b[91maudacity\u001b[0m inform \u001b[91m8am\u001b[0m early trophy \u001b[91mwifegf\u001b[0m talk\n",
            "🔴     dont report problematic bitch tik tok \u001b[91mfys\u001b[0m \u001b[91midc\u001b[0m hate group talk \u001b[91midc\u001b[0m shouldnt exist gone truly dont care go report \u001b[91macc\u001b[0m shouldnt exist like know theyre ugly irl dont want near \u001b[91mtubatu\u001b[0m\n",
            "🔴     \u001b[91mpacked\u001b[0m \u001b[91mhubby\u001b[0m case going wedding england told pop underpants get england put \u001b[91mkilt\u001b[0m outfit everyone discovered true \u001b[91mscot\u001b[0m doesnt wear \u001b[91mkilt\u001b[0m dont doesnt get done men\n",
            "🔴     there something girl toxic guy like ant honey trust \u001b[91mheartache\u001b[0m \u001b[91mhomie\u001b[0m \u001b[91mknack\u001b[0m na send hi pretty missing come running back stopped trying understand woman long time ago\n",
            "🔴     thats always tell \u001b[91myouyou\u001b[0m never understand woman\n",
            "🔴     \u001b[91mfainted\u001b[0m wearing short skirt one could legally touch as nurse came\n",
            "🔴     didnt chance take pic short skirt\n",
            "🔴     \u001b[91mmushroom\u001b[0m attention whore stop biting foot\n",
            "🔴     would rather child \u001b[91mvirgin\u001b[0m whore like child sound like bad person\n",
            "🔴     true statement look like whore\n",
            "🔴     \u001b[91munarmed\u001b[0m black woman driving car broken tail light dangerous white supremacist terrorist murdered 10 people\n",
            "🔴     woman soy \u001b[91moil\u001b[0m \u001b[91mcorn\u001b[0m \u001b[91msyrupthose\u001b[0m typical woman average back \u001b[91mthenn\u001b[0m\n",
            "🔴     tf ya call \u001b[91mfemism\u001b[0m shouldnt womanism thats case\n",
            "🔴     dont know \u001b[91minvented\u001b[0m womanism huh okay risk skin cancer guess best luck\n",
            "🔴     male side \u001b[91malag\u001b[0m \u001b[91mhoti\u001b[0m \u001b[91mhumari\u001b[0m woman cant \u001b[91mdistract\u001b[0m\n",
            "🔴     didnt even know possible omg sorry got ta go uterus \u001b[91mcramp\u001b[0m butt \u001b[91mcramp\u001b[0m heart \u001b[91mcramp\u001b[0m woman cant catch break\n",
            "🔴     men less likely find spouse bc woman dont rely men life basic less likely father kid bc woman need \u001b[91msperm\u001b[0m get pregnant amp man provides less likely \u001b[91mparticipate\u001b[0m \u001b[91mworkforce\u001b[0m bc theyre busy \u001b[91mpouting\u001b[0m\n",
            "🔴     woman dont work money anymore men \u001b[91mmomo\u001b[0m lmao \u001b[91mmonya\u001b[0m \u001b[91mnkwasia\u001b[0m \u001b[91msika\u001b[0m \u001b[91mbia\u001b[0m na \u001b[91mmoka\u001b[0m \u001b[91mns3m\u001b[0m \u001b[91mfuu\u001b[0m\n",
            "🔴     god comment post \u001b[91midiotic\u001b[0m hate twitter hate \u001b[91malli\u001b[0m woman dont know \u001b[91mcondom\u001b[0m work neither act like youve never bought wrong \u001b[91msized\u001b[0m \u001b[91mpad\u001b[0m \u001b[91mtampontheyre\u001b[0m telling u \u001b[91mwitg\u001b[0m body doesnt want baby \u001b[91mstd\u001b[0m\n",
            "🔴     father word woman feed man day whole world know man feed woman year amp nobody know many woman dont know stay \u001b[91mhumble\u001b[0m theyre top\n",
            "🔴     \u001b[91mhandmaiden\u001b[0m relative \u001b[91malum\u001b[0m posting \u001b[91mclaptrap\u001b[0m fb young woman dont know drive never worked subservient \u001b[91mheadship\u001b[0m \u001b[91mendanger\u001b[0m child home filled \u001b[91mar15s\u001b[0m jesus yall\n",
            "🔴     poor vulnerable man \u001b[91mjoked\u001b[0m burning partner \u001b[91mrping\u001b[0m body make sure dead pay woman sex call \u001b[91mcmguzzlers\u001b[0m depp \u001b[91mdarvoing\u001b[0m fuck\n",
            "🔴     \u001b[91mpolishing\u001b[0m shoe good regardless work sex sell woman \u001b[91mothersyour\u001b[0m earning may selling woman \u001b[91msexjism\u001b[0m \u001b[91mferosh\u001b[0m \u001b[91mza\u001b[0m \u001b[91mzameer\u001b[0m \u001b[91mgherat\u001b[0m \u001b[91mferoshi\u001b[0m \u001b[91msayafghans\u001b[0m \u001b[91mproudthe\u001b[0m pure \u001b[91mpeopleshame\u001b[0m statement\n",
            "🔴     say man always phone well case still \u001b[91mproposition\u001b[0m woman sex outside\n",
            "🔴     2 \u001b[91mpoker\u001b[0m room \u001b[91mfallacy\u001b[0m think term comparison \u001b[91mromance\u001b[0m novel may correct may difference interest comparison \u001b[91mbarrier\u001b[0m men buy \u001b[91mromance\u001b[0m novel woman \u001b[91mbrace\u001b[0m\n",
            "🔴     leader abuse woman \u001b[91mjalsas\u001b[0m make excuse justify remember woman \u001b[91mrespected\u001b[0m woman party meanwhile abusing feminist online\n",
            "🔴     woman shouldnt sex reasonable answer save kid life citizen shouldnt deadly weapon save kid life completely insane concept\n",
            "🔴     didnt abuse saying \u001b[91mfaceproofs\u001b[0m prove false writing \u001b[91mprophet\u001b[0m \u001b[91mdetest\u001b[0m hurting woman generally extent warned companion woman shouldnt hurt war \u001b[91mtalkless\u001b[0m \u001b[91mkilledthe\u001b[0m \u001b[91mprophet\u001b[0m killing unless\n",
            "🔴     want woman mother bad cant even provide make make sense\n",
            "🔴     wan na know fun way make nut like \u001b[91mangrystep\u001b[0m woman go leave point \u001b[91mairpods\u001b[0m say cant hear bro \u001b[91mheadphone\u001b[0m start yell instead\n",
            "🔴     look like \u001b[91mbitchwell\u001b[0m move \u001b[91mkz\u001b[0m dont like\n",
            "🔴     heel make look like \u001b[91mputa\u001b[0m amp boot make look like bitch look going \u001b[91mbesties\u001b[0m\n",
            "🔴     hate \u001b[91mliar\u001b[0m specifically lie bc think get cool point shit like look like bitch\n",
            "🔴     \u001b[91mgenration\u001b[0m selfish cunt matter genuine right thing still make look like cunt getting worse people ask dont bother anyone\n",
            "🔴     bitch boyfriend \u001b[91manthony\u001b[0m \u001b[91mflimss\u001b[0m \u001b[91mmojassim80\u001b[0m paint oh wait ready plant u baby inside look like prostitute picture guy right bout hoe\n",
            "🔴     dont wear black bra white \u001b[91mvest\u001b[0m look like prostitute\n",
            "🔴     get changed look like prostitute smirked walked room hip \u001b[91mswinging\u001b[0m side side \u001b[91mahri\u001b[0m sat near couch floor\n",
            "🔴     made top mom gave look like whore expression \u001b[91manyways\u001b[0m here shirt \u001b[91mbraided\u001b[0m\n",
            "🔴     havent seen anything make look like whore necessarily female constantly post \u001b[91mselfies\u001b[0m constantly obvious self \u001b[91mabsorbed\u001b[0m obsessed dont really understand anyone think anyone \u001b[91mthirsty\u001b[0m creep want see 1000 \u001b[91mselfies\u001b[0m\n",
            "🔴     look like whore ur new picture love see\n"
          ]
        }
      ]
    },
    {
      "cell_type": "markdown",
      "metadata": {
        "id": "P42XYjb6K3k5"
      },
      "source": [
        "# [Task 8 - 0.5 points] Report\n",
        "\n",
        "Wrap up your experiment in a short report (up to 2 pages)."
      ]
    },
    {
      "cell_type": "markdown",
      "metadata": {
        "id": "N9oXSaW1K5S7"
      },
      "source": [
        "### Instructions\n",
        "\n",
        "* Use the NLP course report template.\n",
        "* Summarize each task in the report following the provided template."
      ]
    },
    {
      "cell_type": "markdown",
      "metadata": {
        "id": "MHw2L6PlLDyE"
      },
      "source": [
        "### Recommendations\n",
        "\n",
        "The report is not a copy-paste of graphs, tables, and command outputs.\n",
        "\n",
        "* Summarize classification performance in Table format.\n",
        "* **Do not** report command outputs or screenshots.\n",
        "* Report learning curves in Figure format.\n",
        "* The error analysis section should summarize your findings.\n"
      ]
    },
    {
      "cell_type": "markdown",
      "metadata": {
        "id": "bMUqh1utLflM"
      },
      "source": [
        "# Submission\n",
        "\n",
        "* **Submit** your report in PDF format.\n",
        "* **Submit** your python notebook.\n",
        "* Make sure your notebook is **well organized**, with no temporary code, commented sections, tests, etc...\n",
        "* You can upload **model weights** in a cloud repository and report the link in the report."
      ]
    },
    {
      "cell_type": "markdown",
      "metadata": {
        "id": "ypagJed7LheY"
      },
      "source": [
        "# FAQ\n",
        "\n",
        "Please check this frequently asked questions before contacting us"
      ]
    },
    {
      "cell_type": "markdown",
      "metadata": {
        "id": "bgtFwKXMLjww"
      },
      "source": [
        "### Execution Order\n",
        "\n",
        "You are **free** to address tasks in any order (if multiple orderings are available)."
      ]
    },
    {
      "cell_type": "markdown",
      "metadata": {
        "id": "_BjMk5e_M4n7"
      },
      "source": [
        "### Trainable Embeddings\n",
        "\n",
        "You are **free** to define a trainable or non-trainable Embedding layer to load the GloVe embeddings."
      ]
    },
    {
      "cell_type": "markdown",
      "metadata": {
        "id": "e8TVgpYlM6s5"
      },
      "source": [
        "### Model architecture\n",
        "\n",
        "You **should not** change the architecture of a model (i.e., its layers).\n",
        "However, you are **free** to play with their hyper-parameters.\n"
      ]
    },
    {
      "cell_type": "markdown",
      "metadata": {
        "id": "Ia6IapI1M_A7"
      },
      "source": [
        "### Neural Libraries\n",
        "\n",
        "You are **free** to use any library of your choice to implement the networks (e.g., Keras, Tensorflow, PyTorch, JAX, etc...)"
      ]
    },
    {
      "cell_type": "markdown",
      "metadata": {
        "id": "bWDaW8DyNBu5"
      },
      "source": [
        "### Keras TimeDistributed Dense layer\n",
        "\n",
        "If you are using Keras, we recommend wrapping the final Dense layer with `TimeDistributed`."
      ]
    },
    {
      "cell_type": "markdown",
      "metadata": {
        "id": "R1WcrpemNEQm"
      },
      "source": [
        "### Robust Evaluation\n",
        "\n",
        "Each model is trained with at least 3 random seeds.\n",
        "\n",
        "Task 4 requires you to compute the average performance over the 3 seeds and its corresponding standard deviation."
      ]
    },
    {
      "cell_type": "markdown",
      "metadata": {
        "id": "_mVe5dqzNI_u"
      },
      "source": [
        "### Model Selection for Analysis\n",
        "\n",
        "To carry out the error analysis you are **free** to either\n",
        "\n",
        "* Pick examples or perform comparisons with an individual seed run model (e.g., Baseline seed 1337)\n",
        "* Perform ensembling via, for instance, majority voting to obtain a single model."
      ]
    },
    {
      "cell_type": "markdown",
      "metadata": {
        "id": "L8a4pDKSNKzI"
      },
      "source": [
        "### Error Analysis\n",
        "\n",
        "Some topics for discussion include:\n",
        "   * Precision/Recall curves.\n",
        "   * Confusion matrices.\n",
        "   * Specific misclassified samples."
      ]
    },
    {
      "cell_type": "markdown",
      "metadata": {
        "collapsed": false,
        "id": "3hvMbxqxlktT"
      },
      "source": [
        "### Bonus Points\n",
        "Bonus points are arbitrarily assigned based on significant contributions such as:\n",
        "- Outstanding error analysis\n",
        "- Masterclass code organization\n",
        "- Suitable extensions\n",
        "Note that bonus points are only assigned if all task points are attributed (i.e., 6/6).\n",
        "\n",
        "**Possible Extensions/Explorations for Bonus Points:**\n",
        "- **Try other preprocessing strategies**: e.g., but not limited to, explore techniques tailored specifically for tweets or  methods that are common in social media text.\n",
        "- **Experiment with other custom architectures or models from HuggingFace**\n",
        "- **Explore Spanish tweets**: e.g., but not limited to, leverage multilingual models to process Spanish tweets and assess their performance compared to monolingual models.\n",
        "\n"
      ]
    },
    {
      "cell_type": "markdown",
      "metadata": {
        "id": "8xmMKE7vLu-y"
      },
      "source": [
        "\n",
        "\n",
        "\n",
        "\n",
        "# The End"
      ]
    }
  ],
  "metadata": {
    "colab": {
      "provenance": [],
      "gpuType": "T4",
      "toc_visible": true
    },
    "kernelspec": {
      "display_name": "Python 3",
      "name": "python3"
    },
    "language_info": {
      "codemirror_mode": {
        "name": "ipython",
        "version": 3
      },
      "file_extension": ".py",
      "mimetype": "text/x-python",
      "name": "python",
      "nbconvert_exporter": "python",
      "pygments_lexer": "ipython3",
      "version": "3.13.0"
    },
    "widgets": {
      "application/vnd.jupyter.widget-state+json": {
        "c6b2b624bb944956952dc91c5dd525c2": {
          "model_module": "@jupyter-widgets/controls",
          "model_name": "HBoxModel",
          "model_module_version": "1.5.0",
          "state": {
            "_dom_classes": [],
            "_model_module": "@jupyter-widgets/controls",
            "_model_module_version": "1.5.0",
            "_model_name": "HBoxModel",
            "_view_count": null,
            "_view_module": "@jupyter-widgets/controls",
            "_view_module_version": "1.5.0",
            "_view_name": "HBoxView",
            "box_style": "",
            "children": [
              "IPY_MODEL_0aa63709e331412eafd3d00a8ba23c1c",
              "IPY_MODEL_ee5e4ace45674748b04d2f1a51753113",
              "IPY_MODEL_111494ae26834a6b91aacd8dd67db0d9"
            ],
            "layout": "IPY_MODEL_6a0d22ab6d334406bbd438e2b3042b51"
          }
        },
        "0aa63709e331412eafd3d00a8ba23c1c": {
          "model_module": "@jupyter-widgets/controls",
          "model_name": "HTMLModel",
          "model_module_version": "1.5.0",
          "state": {
            "_dom_classes": [],
            "_model_module": "@jupyter-widgets/controls",
            "_model_module_version": "1.5.0",
            "_model_name": "HTMLModel",
            "_view_count": null,
            "_view_module": "@jupyter-widgets/controls",
            "_view_module_version": "1.5.0",
            "_view_name": "HTMLView",
            "description": "",
            "description_tooltip": null,
            "layout": "IPY_MODEL_b688cce457924ce597236f1dc7fab0bb",
            "placeholder": "​",
            "style": "IPY_MODEL_db9a70c4ae8e45bca16308c79cecefc9",
            "value": "config.json: 100%"
          }
        },
        "ee5e4ace45674748b04d2f1a51753113": {
          "model_module": "@jupyter-widgets/controls",
          "model_name": "FloatProgressModel",
          "model_module_version": "1.5.0",
          "state": {
            "_dom_classes": [],
            "_model_module": "@jupyter-widgets/controls",
            "_model_module_version": "1.5.0",
            "_model_name": "FloatProgressModel",
            "_view_count": null,
            "_view_module": "@jupyter-widgets/controls",
            "_view_module_version": "1.5.0",
            "_view_name": "ProgressView",
            "bar_style": "success",
            "description": "",
            "description_tooltip": null,
            "layout": "IPY_MODEL_5a81bbc713f84d34b3f9f54affab0d27",
            "max": 700,
            "min": 0,
            "orientation": "horizontal",
            "style": "IPY_MODEL_ee69222927ad41a8acec462805b87e4c",
            "value": 700
          }
        },
        "111494ae26834a6b91aacd8dd67db0d9": {
          "model_module": "@jupyter-widgets/controls",
          "model_name": "HTMLModel",
          "model_module_version": "1.5.0",
          "state": {
            "_dom_classes": [],
            "_model_module": "@jupyter-widgets/controls",
            "_model_module_version": "1.5.0",
            "_model_name": "HTMLModel",
            "_view_count": null,
            "_view_module": "@jupyter-widgets/controls",
            "_view_module_version": "1.5.0",
            "_view_name": "HTMLView",
            "description": "",
            "description_tooltip": null,
            "layout": "IPY_MODEL_c4daf39e156548f5b348825690e8c0c3",
            "placeholder": "​",
            "style": "IPY_MODEL_5de077fdf5c548bd952e3c6b97823ef3",
            "value": " 700/700 [00:00&lt;00:00, 42.5kB/s]"
          }
        },
        "6a0d22ab6d334406bbd438e2b3042b51": {
          "model_module": "@jupyter-widgets/base",
          "model_name": "LayoutModel",
          "model_module_version": "1.2.0",
          "state": {
            "_model_module": "@jupyter-widgets/base",
            "_model_module_version": "1.2.0",
            "_model_name": "LayoutModel",
            "_view_count": null,
            "_view_module": "@jupyter-widgets/base",
            "_view_module_version": "1.2.0",
            "_view_name": "LayoutView",
            "align_content": null,
            "align_items": null,
            "align_self": null,
            "border": null,
            "bottom": null,
            "display": null,
            "flex": null,
            "flex_flow": null,
            "grid_area": null,
            "grid_auto_columns": null,
            "grid_auto_flow": null,
            "grid_auto_rows": null,
            "grid_column": null,
            "grid_gap": null,
            "grid_row": null,
            "grid_template_areas": null,
            "grid_template_columns": null,
            "grid_template_rows": null,
            "height": null,
            "justify_content": null,
            "justify_items": null,
            "left": null,
            "margin": null,
            "max_height": null,
            "max_width": null,
            "min_height": null,
            "min_width": null,
            "object_fit": null,
            "object_position": null,
            "order": null,
            "overflow": null,
            "overflow_x": null,
            "overflow_y": null,
            "padding": null,
            "right": null,
            "top": null,
            "visibility": null,
            "width": null
          }
        },
        "b688cce457924ce597236f1dc7fab0bb": {
          "model_module": "@jupyter-widgets/base",
          "model_name": "LayoutModel",
          "model_module_version": "1.2.0",
          "state": {
            "_model_module": "@jupyter-widgets/base",
            "_model_module_version": "1.2.0",
            "_model_name": "LayoutModel",
            "_view_count": null,
            "_view_module": "@jupyter-widgets/base",
            "_view_module_version": "1.2.0",
            "_view_name": "LayoutView",
            "align_content": null,
            "align_items": null,
            "align_self": null,
            "border": null,
            "bottom": null,
            "display": null,
            "flex": null,
            "flex_flow": null,
            "grid_area": null,
            "grid_auto_columns": null,
            "grid_auto_flow": null,
            "grid_auto_rows": null,
            "grid_column": null,
            "grid_gap": null,
            "grid_row": null,
            "grid_template_areas": null,
            "grid_template_columns": null,
            "grid_template_rows": null,
            "height": null,
            "justify_content": null,
            "justify_items": null,
            "left": null,
            "margin": null,
            "max_height": null,
            "max_width": null,
            "min_height": null,
            "min_width": null,
            "object_fit": null,
            "object_position": null,
            "order": null,
            "overflow": null,
            "overflow_x": null,
            "overflow_y": null,
            "padding": null,
            "right": null,
            "top": null,
            "visibility": null,
            "width": null
          }
        },
        "db9a70c4ae8e45bca16308c79cecefc9": {
          "model_module": "@jupyter-widgets/controls",
          "model_name": "DescriptionStyleModel",
          "model_module_version": "1.5.0",
          "state": {
            "_model_module": "@jupyter-widgets/controls",
            "_model_module_version": "1.5.0",
            "_model_name": "DescriptionStyleModel",
            "_view_count": null,
            "_view_module": "@jupyter-widgets/base",
            "_view_module_version": "1.2.0",
            "_view_name": "StyleView",
            "description_width": ""
          }
        },
        "5a81bbc713f84d34b3f9f54affab0d27": {
          "model_module": "@jupyter-widgets/base",
          "model_name": "LayoutModel",
          "model_module_version": "1.2.0",
          "state": {
            "_model_module": "@jupyter-widgets/base",
            "_model_module_version": "1.2.0",
            "_model_name": "LayoutModel",
            "_view_count": null,
            "_view_module": "@jupyter-widgets/base",
            "_view_module_version": "1.2.0",
            "_view_name": "LayoutView",
            "align_content": null,
            "align_items": null,
            "align_self": null,
            "border": null,
            "bottom": null,
            "display": null,
            "flex": null,
            "flex_flow": null,
            "grid_area": null,
            "grid_auto_columns": null,
            "grid_auto_flow": null,
            "grid_auto_rows": null,
            "grid_column": null,
            "grid_gap": null,
            "grid_row": null,
            "grid_template_areas": null,
            "grid_template_columns": null,
            "grid_template_rows": null,
            "height": null,
            "justify_content": null,
            "justify_items": null,
            "left": null,
            "margin": null,
            "max_height": null,
            "max_width": null,
            "min_height": null,
            "min_width": null,
            "object_fit": null,
            "object_position": null,
            "order": null,
            "overflow": null,
            "overflow_x": null,
            "overflow_y": null,
            "padding": null,
            "right": null,
            "top": null,
            "visibility": null,
            "width": null
          }
        },
        "ee69222927ad41a8acec462805b87e4c": {
          "model_module": "@jupyter-widgets/controls",
          "model_name": "ProgressStyleModel",
          "model_module_version": "1.5.0",
          "state": {
            "_model_module": "@jupyter-widgets/controls",
            "_model_module_version": "1.5.0",
            "_model_name": "ProgressStyleModel",
            "_view_count": null,
            "_view_module": "@jupyter-widgets/base",
            "_view_module_version": "1.2.0",
            "_view_name": "StyleView",
            "bar_color": null,
            "description_width": ""
          }
        },
        "c4daf39e156548f5b348825690e8c0c3": {
          "model_module": "@jupyter-widgets/base",
          "model_name": "LayoutModel",
          "model_module_version": "1.2.0",
          "state": {
            "_model_module": "@jupyter-widgets/base",
            "_model_module_version": "1.2.0",
            "_model_name": "LayoutModel",
            "_view_count": null,
            "_view_module": "@jupyter-widgets/base",
            "_view_module_version": "1.2.0",
            "_view_name": "LayoutView",
            "align_content": null,
            "align_items": null,
            "align_self": null,
            "border": null,
            "bottom": null,
            "display": null,
            "flex": null,
            "flex_flow": null,
            "grid_area": null,
            "grid_auto_columns": null,
            "grid_auto_flow": null,
            "grid_auto_rows": null,
            "grid_column": null,
            "grid_gap": null,
            "grid_row": null,
            "grid_template_areas": null,
            "grid_template_columns": null,
            "grid_template_rows": null,
            "height": null,
            "justify_content": null,
            "justify_items": null,
            "left": null,
            "margin": null,
            "max_height": null,
            "max_width": null,
            "min_height": null,
            "min_width": null,
            "object_fit": null,
            "object_position": null,
            "order": null,
            "overflow": null,
            "overflow_x": null,
            "overflow_y": null,
            "padding": null,
            "right": null,
            "top": null,
            "visibility": null,
            "width": null
          }
        },
        "5de077fdf5c548bd952e3c6b97823ef3": {
          "model_module": "@jupyter-widgets/controls",
          "model_name": "DescriptionStyleModel",
          "model_module_version": "1.5.0",
          "state": {
            "_model_module": "@jupyter-widgets/controls",
            "_model_module_version": "1.5.0",
            "_model_name": "DescriptionStyleModel",
            "_view_count": null,
            "_view_module": "@jupyter-widgets/base",
            "_view_module_version": "1.2.0",
            "_view_name": "StyleView",
            "description_width": ""
          }
        },
        "730682efc83b471c94bd9d93cc0716d1": {
          "model_module": "@jupyter-widgets/controls",
          "model_name": "HBoxModel",
          "model_module_version": "1.5.0",
          "state": {
            "_dom_classes": [],
            "_model_module": "@jupyter-widgets/controls",
            "_model_module_version": "1.5.0",
            "_model_name": "HBoxModel",
            "_view_count": null,
            "_view_module": "@jupyter-widgets/controls",
            "_view_module_version": "1.5.0",
            "_view_name": "HBoxView",
            "box_style": "",
            "children": [
              "IPY_MODEL_c1ad6574e2f34c03a702f45aace4e884",
              "IPY_MODEL_f6183e5ab542417ab5a84957abafc1ba",
              "IPY_MODEL_14f0725c69964460b024efa2308bde0f"
            ],
            "layout": "IPY_MODEL_7a4cbfb685c94a1cbca939d44480fdb8"
          }
        },
        "c1ad6574e2f34c03a702f45aace4e884": {
          "model_module": "@jupyter-widgets/controls",
          "model_name": "HTMLModel",
          "model_module_version": "1.5.0",
          "state": {
            "_dom_classes": [],
            "_model_module": "@jupyter-widgets/controls",
            "_model_module_version": "1.5.0",
            "_model_name": "HTMLModel",
            "_view_count": null,
            "_view_module": "@jupyter-widgets/controls",
            "_view_module_version": "1.5.0",
            "_view_name": "HTMLView",
            "description": "",
            "description_tooltip": null,
            "layout": "IPY_MODEL_d5407d2159d24126a9f5a5f0ecf66fb0",
            "placeholder": "​",
            "style": "IPY_MODEL_02542f1418e148ebb7cb5d18eaf12be8",
            "value": "vocab.json: 100%"
          }
        },
        "f6183e5ab542417ab5a84957abafc1ba": {
          "model_module": "@jupyter-widgets/controls",
          "model_name": "FloatProgressModel",
          "model_module_version": "1.5.0",
          "state": {
            "_dom_classes": [],
            "_model_module": "@jupyter-widgets/controls",
            "_model_module_version": "1.5.0",
            "_model_name": "FloatProgressModel",
            "_view_count": null,
            "_view_module": "@jupyter-widgets/controls",
            "_view_module_version": "1.5.0",
            "_view_name": "ProgressView",
            "bar_style": "success",
            "description": "",
            "description_tooltip": null,
            "layout": "IPY_MODEL_6aa990f75ea246b7a440bc08720f6826",
            "max": 898822,
            "min": 0,
            "orientation": "horizontal",
            "style": "IPY_MODEL_f5e3141f268c48e7b989bc2261424bc5",
            "value": 898822
          }
        },
        "14f0725c69964460b024efa2308bde0f": {
          "model_module": "@jupyter-widgets/controls",
          "model_name": "HTMLModel",
          "model_module_version": "1.5.0",
          "state": {
            "_dom_classes": [],
            "_model_module": "@jupyter-widgets/controls",
            "_model_module_version": "1.5.0",
            "_model_name": "HTMLModel",
            "_view_count": null,
            "_view_module": "@jupyter-widgets/controls",
            "_view_module_version": "1.5.0",
            "_view_name": "HTMLView",
            "description": "",
            "description_tooltip": null,
            "layout": "IPY_MODEL_3fcad427497d4438a9dfcfe3984a0268",
            "placeholder": "​",
            "style": "IPY_MODEL_53848044601e4a85b9b76486d3549202",
            "value": " 899k/899k [00:00&lt;00:00, 12.6MB/s]"
          }
        },
        "7a4cbfb685c94a1cbca939d44480fdb8": {
          "model_module": "@jupyter-widgets/base",
          "model_name": "LayoutModel",
          "model_module_version": "1.2.0",
          "state": {
            "_model_module": "@jupyter-widgets/base",
            "_model_module_version": "1.2.0",
            "_model_name": "LayoutModel",
            "_view_count": null,
            "_view_module": "@jupyter-widgets/base",
            "_view_module_version": "1.2.0",
            "_view_name": "LayoutView",
            "align_content": null,
            "align_items": null,
            "align_self": null,
            "border": null,
            "bottom": null,
            "display": null,
            "flex": null,
            "flex_flow": null,
            "grid_area": null,
            "grid_auto_columns": null,
            "grid_auto_flow": null,
            "grid_auto_rows": null,
            "grid_column": null,
            "grid_gap": null,
            "grid_row": null,
            "grid_template_areas": null,
            "grid_template_columns": null,
            "grid_template_rows": null,
            "height": null,
            "justify_content": null,
            "justify_items": null,
            "left": null,
            "margin": null,
            "max_height": null,
            "max_width": null,
            "min_height": null,
            "min_width": null,
            "object_fit": null,
            "object_position": null,
            "order": null,
            "overflow": null,
            "overflow_x": null,
            "overflow_y": null,
            "padding": null,
            "right": null,
            "top": null,
            "visibility": null,
            "width": null
          }
        },
        "d5407d2159d24126a9f5a5f0ecf66fb0": {
          "model_module": "@jupyter-widgets/base",
          "model_name": "LayoutModel",
          "model_module_version": "1.2.0",
          "state": {
            "_model_module": "@jupyter-widgets/base",
            "_model_module_version": "1.2.0",
            "_model_name": "LayoutModel",
            "_view_count": null,
            "_view_module": "@jupyter-widgets/base",
            "_view_module_version": "1.2.0",
            "_view_name": "LayoutView",
            "align_content": null,
            "align_items": null,
            "align_self": null,
            "border": null,
            "bottom": null,
            "display": null,
            "flex": null,
            "flex_flow": null,
            "grid_area": null,
            "grid_auto_columns": null,
            "grid_auto_flow": null,
            "grid_auto_rows": null,
            "grid_column": null,
            "grid_gap": null,
            "grid_row": null,
            "grid_template_areas": null,
            "grid_template_columns": null,
            "grid_template_rows": null,
            "height": null,
            "justify_content": null,
            "justify_items": null,
            "left": null,
            "margin": null,
            "max_height": null,
            "max_width": null,
            "min_height": null,
            "min_width": null,
            "object_fit": null,
            "object_position": null,
            "order": null,
            "overflow": null,
            "overflow_x": null,
            "overflow_y": null,
            "padding": null,
            "right": null,
            "top": null,
            "visibility": null,
            "width": null
          }
        },
        "02542f1418e148ebb7cb5d18eaf12be8": {
          "model_module": "@jupyter-widgets/controls",
          "model_name": "DescriptionStyleModel",
          "model_module_version": "1.5.0",
          "state": {
            "_model_module": "@jupyter-widgets/controls",
            "_model_module_version": "1.5.0",
            "_model_name": "DescriptionStyleModel",
            "_view_count": null,
            "_view_module": "@jupyter-widgets/base",
            "_view_module_version": "1.2.0",
            "_view_name": "StyleView",
            "description_width": ""
          }
        },
        "6aa990f75ea246b7a440bc08720f6826": {
          "model_module": "@jupyter-widgets/base",
          "model_name": "LayoutModel",
          "model_module_version": "1.2.0",
          "state": {
            "_model_module": "@jupyter-widgets/base",
            "_model_module_version": "1.2.0",
            "_model_name": "LayoutModel",
            "_view_count": null,
            "_view_module": "@jupyter-widgets/base",
            "_view_module_version": "1.2.0",
            "_view_name": "LayoutView",
            "align_content": null,
            "align_items": null,
            "align_self": null,
            "border": null,
            "bottom": null,
            "display": null,
            "flex": null,
            "flex_flow": null,
            "grid_area": null,
            "grid_auto_columns": null,
            "grid_auto_flow": null,
            "grid_auto_rows": null,
            "grid_column": null,
            "grid_gap": null,
            "grid_row": null,
            "grid_template_areas": null,
            "grid_template_columns": null,
            "grid_template_rows": null,
            "height": null,
            "justify_content": null,
            "justify_items": null,
            "left": null,
            "margin": null,
            "max_height": null,
            "max_width": null,
            "min_height": null,
            "min_width": null,
            "object_fit": null,
            "object_position": null,
            "order": null,
            "overflow": null,
            "overflow_x": null,
            "overflow_y": null,
            "padding": null,
            "right": null,
            "top": null,
            "visibility": null,
            "width": null
          }
        },
        "f5e3141f268c48e7b989bc2261424bc5": {
          "model_module": "@jupyter-widgets/controls",
          "model_name": "ProgressStyleModel",
          "model_module_version": "1.5.0",
          "state": {
            "_model_module": "@jupyter-widgets/controls",
            "_model_module_version": "1.5.0",
            "_model_name": "ProgressStyleModel",
            "_view_count": null,
            "_view_module": "@jupyter-widgets/base",
            "_view_module_version": "1.2.0",
            "_view_name": "StyleView",
            "bar_color": null,
            "description_width": ""
          }
        },
        "3fcad427497d4438a9dfcfe3984a0268": {
          "model_module": "@jupyter-widgets/base",
          "model_name": "LayoutModel",
          "model_module_version": "1.2.0",
          "state": {
            "_model_module": "@jupyter-widgets/base",
            "_model_module_version": "1.2.0",
            "_model_name": "LayoutModel",
            "_view_count": null,
            "_view_module": "@jupyter-widgets/base",
            "_view_module_version": "1.2.0",
            "_view_name": "LayoutView",
            "align_content": null,
            "align_items": null,
            "align_self": null,
            "border": null,
            "bottom": null,
            "display": null,
            "flex": null,
            "flex_flow": null,
            "grid_area": null,
            "grid_auto_columns": null,
            "grid_auto_flow": null,
            "grid_auto_rows": null,
            "grid_column": null,
            "grid_gap": null,
            "grid_row": null,
            "grid_template_areas": null,
            "grid_template_columns": null,
            "grid_template_rows": null,
            "height": null,
            "justify_content": null,
            "justify_items": null,
            "left": null,
            "margin": null,
            "max_height": null,
            "max_width": null,
            "min_height": null,
            "min_width": null,
            "object_fit": null,
            "object_position": null,
            "order": null,
            "overflow": null,
            "overflow_x": null,
            "overflow_y": null,
            "padding": null,
            "right": null,
            "top": null,
            "visibility": null,
            "width": null
          }
        },
        "53848044601e4a85b9b76486d3549202": {
          "model_module": "@jupyter-widgets/controls",
          "model_name": "DescriptionStyleModel",
          "model_module_version": "1.5.0",
          "state": {
            "_model_module": "@jupyter-widgets/controls",
            "_model_module_version": "1.5.0",
            "_model_name": "DescriptionStyleModel",
            "_view_count": null,
            "_view_module": "@jupyter-widgets/base",
            "_view_module_version": "1.2.0",
            "_view_name": "StyleView",
            "description_width": ""
          }
        },
        "7553153b112240af99b99c99bb354a2b": {
          "model_module": "@jupyter-widgets/controls",
          "model_name": "HBoxModel",
          "model_module_version": "1.5.0",
          "state": {
            "_dom_classes": [],
            "_model_module": "@jupyter-widgets/controls",
            "_model_module_version": "1.5.0",
            "_model_name": "HBoxModel",
            "_view_count": null,
            "_view_module": "@jupyter-widgets/controls",
            "_view_module_version": "1.5.0",
            "_view_name": "HBoxView",
            "box_style": "",
            "children": [
              "IPY_MODEL_5d64588db28f450598996925065abe90",
              "IPY_MODEL_e79d5b57b49a4936a720e42218a085da",
              "IPY_MODEL_ce076b2d95094ba888a3250cac9d0e00"
            ],
            "layout": "IPY_MODEL_b2671436612e4da69beb6e6c94c936e4"
          }
        },
        "5d64588db28f450598996925065abe90": {
          "model_module": "@jupyter-widgets/controls",
          "model_name": "HTMLModel",
          "model_module_version": "1.5.0",
          "state": {
            "_dom_classes": [],
            "_model_module": "@jupyter-widgets/controls",
            "_model_module_version": "1.5.0",
            "_model_name": "HTMLModel",
            "_view_count": null,
            "_view_module": "@jupyter-widgets/controls",
            "_view_module_version": "1.5.0",
            "_view_name": "HTMLView",
            "description": "",
            "description_tooltip": null,
            "layout": "IPY_MODEL_b934044a62bc49a584dfc32f7c1a1f39",
            "placeholder": "​",
            "style": "IPY_MODEL_02d51895ff894a48907e757e7a9d9813",
            "value": "merges.txt: 100%"
          }
        },
        "e79d5b57b49a4936a720e42218a085da": {
          "model_module": "@jupyter-widgets/controls",
          "model_name": "FloatProgressModel",
          "model_module_version": "1.5.0",
          "state": {
            "_dom_classes": [],
            "_model_module": "@jupyter-widgets/controls",
            "_model_module_version": "1.5.0",
            "_model_name": "FloatProgressModel",
            "_view_count": null,
            "_view_module": "@jupyter-widgets/controls",
            "_view_module_version": "1.5.0",
            "_view_name": "ProgressView",
            "bar_style": "success",
            "description": "",
            "description_tooltip": null,
            "layout": "IPY_MODEL_adf24279b4bc497daa3d3f0ba633e025",
            "max": 456318,
            "min": 0,
            "orientation": "horizontal",
            "style": "IPY_MODEL_3a1f6bfbe7344d299297256ca0188b7b",
            "value": 456318
          }
        },
        "ce076b2d95094ba888a3250cac9d0e00": {
          "model_module": "@jupyter-widgets/controls",
          "model_name": "HTMLModel",
          "model_module_version": "1.5.0",
          "state": {
            "_dom_classes": [],
            "_model_module": "@jupyter-widgets/controls",
            "_model_module_version": "1.5.0",
            "_model_name": "HTMLModel",
            "_view_count": null,
            "_view_module": "@jupyter-widgets/controls",
            "_view_module_version": "1.5.0",
            "_view_name": "HTMLView",
            "description": "",
            "description_tooltip": null,
            "layout": "IPY_MODEL_012b5fcb146c40bcafe0ef535af2c296",
            "placeholder": "​",
            "style": "IPY_MODEL_5f13b37adfae406ea3dcb9e5e27565d8",
            "value": " 456k/456k [00:00&lt;00:00, 21.0MB/s]"
          }
        },
        "b2671436612e4da69beb6e6c94c936e4": {
          "model_module": "@jupyter-widgets/base",
          "model_name": "LayoutModel",
          "model_module_version": "1.2.0",
          "state": {
            "_model_module": "@jupyter-widgets/base",
            "_model_module_version": "1.2.0",
            "_model_name": "LayoutModel",
            "_view_count": null,
            "_view_module": "@jupyter-widgets/base",
            "_view_module_version": "1.2.0",
            "_view_name": "LayoutView",
            "align_content": null,
            "align_items": null,
            "align_self": null,
            "border": null,
            "bottom": null,
            "display": null,
            "flex": null,
            "flex_flow": null,
            "grid_area": null,
            "grid_auto_columns": null,
            "grid_auto_flow": null,
            "grid_auto_rows": null,
            "grid_column": null,
            "grid_gap": null,
            "grid_row": null,
            "grid_template_areas": null,
            "grid_template_columns": null,
            "grid_template_rows": null,
            "height": null,
            "justify_content": null,
            "justify_items": null,
            "left": null,
            "margin": null,
            "max_height": null,
            "max_width": null,
            "min_height": null,
            "min_width": null,
            "object_fit": null,
            "object_position": null,
            "order": null,
            "overflow": null,
            "overflow_x": null,
            "overflow_y": null,
            "padding": null,
            "right": null,
            "top": null,
            "visibility": null,
            "width": null
          }
        },
        "b934044a62bc49a584dfc32f7c1a1f39": {
          "model_module": "@jupyter-widgets/base",
          "model_name": "LayoutModel",
          "model_module_version": "1.2.0",
          "state": {
            "_model_module": "@jupyter-widgets/base",
            "_model_module_version": "1.2.0",
            "_model_name": "LayoutModel",
            "_view_count": null,
            "_view_module": "@jupyter-widgets/base",
            "_view_module_version": "1.2.0",
            "_view_name": "LayoutView",
            "align_content": null,
            "align_items": null,
            "align_self": null,
            "border": null,
            "bottom": null,
            "display": null,
            "flex": null,
            "flex_flow": null,
            "grid_area": null,
            "grid_auto_columns": null,
            "grid_auto_flow": null,
            "grid_auto_rows": null,
            "grid_column": null,
            "grid_gap": null,
            "grid_row": null,
            "grid_template_areas": null,
            "grid_template_columns": null,
            "grid_template_rows": null,
            "height": null,
            "justify_content": null,
            "justify_items": null,
            "left": null,
            "margin": null,
            "max_height": null,
            "max_width": null,
            "min_height": null,
            "min_width": null,
            "object_fit": null,
            "object_position": null,
            "order": null,
            "overflow": null,
            "overflow_x": null,
            "overflow_y": null,
            "padding": null,
            "right": null,
            "top": null,
            "visibility": null,
            "width": null
          }
        },
        "02d51895ff894a48907e757e7a9d9813": {
          "model_module": "@jupyter-widgets/controls",
          "model_name": "DescriptionStyleModel",
          "model_module_version": "1.5.0",
          "state": {
            "_model_module": "@jupyter-widgets/controls",
            "_model_module_version": "1.5.0",
            "_model_name": "DescriptionStyleModel",
            "_view_count": null,
            "_view_module": "@jupyter-widgets/base",
            "_view_module_version": "1.2.0",
            "_view_name": "StyleView",
            "description_width": ""
          }
        },
        "adf24279b4bc497daa3d3f0ba633e025": {
          "model_module": "@jupyter-widgets/base",
          "model_name": "LayoutModel",
          "model_module_version": "1.2.0",
          "state": {
            "_model_module": "@jupyter-widgets/base",
            "_model_module_version": "1.2.0",
            "_model_name": "LayoutModel",
            "_view_count": null,
            "_view_module": "@jupyter-widgets/base",
            "_view_module_version": "1.2.0",
            "_view_name": "LayoutView",
            "align_content": null,
            "align_items": null,
            "align_self": null,
            "border": null,
            "bottom": null,
            "display": null,
            "flex": null,
            "flex_flow": null,
            "grid_area": null,
            "grid_auto_columns": null,
            "grid_auto_flow": null,
            "grid_auto_rows": null,
            "grid_column": null,
            "grid_gap": null,
            "grid_row": null,
            "grid_template_areas": null,
            "grid_template_columns": null,
            "grid_template_rows": null,
            "height": null,
            "justify_content": null,
            "justify_items": null,
            "left": null,
            "margin": null,
            "max_height": null,
            "max_width": null,
            "min_height": null,
            "min_width": null,
            "object_fit": null,
            "object_position": null,
            "order": null,
            "overflow": null,
            "overflow_x": null,
            "overflow_y": null,
            "padding": null,
            "right": null,
            "top": null,
            "visibility": null,
            "width": null
          }
        },
        "3a1f6bfbe7344d299297256ca0188b7b": {
          "model_module": "@jupyter-widgets/controls",
          "model_name": "ProgressStyleModel",
          "model_module_version": "1.5.0",
          "state": {
            "_model_module": "@jupyter-widgets/controls",
            "_model_module_version": "1.5.0",
            "_model_name": "ProgressStyleModel",
            "_view_count": null,
            "_view_module": "@jupyter-widgets/base",
            "_view_module_version": "1.2.0",
            "_view_name": "StyleView",
            "bar_color": null,
            "description_width": ""
          }
        },
        "012b5fcb146c40bcafe0ef535af2c296": {
          "model_module": "@jupyter-widgets/base",
          "model_name": "LayoutModel",
          "model_module_version": "1.2.0",
          "state": {
            "_model_module": "@jupyter-widgets/base",
            "_model_module_version": "1.2.0",
            "_model_name": "LayoutModel",
            "_view_count": null,
            "_view_module": "@jupyter-widgets/base",
            "_view_module_version": "1.2.0",
            "_view_name": "LayoutView",
            "align_content": null,
            "align_items": null,
            "align_self": null,
            "border": null,
            "bottom": null,
            "display": null,
            "flex": null,
            "flex_flow": null,
            "grid_area": null,
            "grid_auto_columns": null,
            "grid_auto_flow": null,
            "grid_auto_rows": null,
            "grid_column": null,
            "grid_gap": null,
            "grid_row": null,
            "grid_template_areas": null,
            "grid_template_columns": null,
            "grid_template_rows": null,
            "height": null,
            "justify_content": null,
            "justify_items": null,
            "left": null,
            "margin": null,
            "max_height": null,
            "max_width": null,
            "min_height": null,
            "min_width": null,
            "object_fit": null,
            "object_position": null,
            "order": null,
            "overflow": null,
            "overflow_x": null,
            "overflow_y": null,
            "padding": null,
            "right": null,
            "top": null,
            "visibility": null,
            "width": null
          }
        },
        "5f13b37adfae406ea3dcb9e5e27565d8": {
          "model_module": "@jupyter-widgets/controls",
          "model_name": "DescriptionStyleModel",
          "model_module_version": "1.5.0",
          "state": {
            "_model_module": "@jupyter-widgets/controls",
            "_model_module_version": "1.5.0",
            "_model_name": "DescriptionStyleModel",
            "_view_count": null,
            "_view_module": "@jupyter-widgets/base",
            "_view_module_version": "1.2.0",
            "_view_name": "StyleView",
            "description_width": ""
          }
        },
        "95dd0778a67a4d61962aea36ff89406b": {
          "model_module": "@jupyter-widgets/controls",
          "model_name": "HBoxModel",
          "model_module_version": "1.5.0",
          "state": {
            "_dom_classes": [],
            "_model_module": "@jupyter-widgets/controls",
            "_model_module_version": "1.5.0",
            "_model_name": "HBoxModel",
            "_view_count": null,
            "_view_module": "@jupyter-widgets/controls",
            "_view_module_version": "1.5.0",
            "_view_name": "HBoxView",
            "box_style": "",
            "children": [
              "IPY_MODEL_a8a7abb10aab44b6a0e3db24e7d25c2b",
              "IPY_MODEL_0292c24ed3664207b1866b2cb3a6aadf",
              "IPY_MODEL_de832fb7a43d4b1bb1c449ec68074b61"
            ],
            "layout": "IPY_MODEL_1f5bbea13bc049679a85235578402a71"
          }
        },
        "a8a7abb10aab44b6a0e3db24e7d25c2b": {
          "model_module": "@jupyter-widgets/controls",
          "model_name": "HTMLModel",
          "model_module_version": "1.5.0",
          "state": {
            "_dom_classes": [],
            "_model_module": "@jupyter-widgets/controls",
            "_model_module_version": "1.5.0",
            "_model_name": "HTMLModel",
            "_view_count": null,
            "_view_module": "@jupyter-widgets/controls",
            "_view_module_version": "1.5.0",
            "_view_name": "HTMLView",
            "description": "",
            "description_tooltip": null,
            "layout": "IPY_MODEL_a3ba5ec726644e24ba2cfaa59e662aff",
            "placeholder": "​",
            "style": "IPY_MODEL_77476cfad79f43bfb5c0e857a05aad6c",
            "value": "special_tokens_map.json: 100%"
          }
        },
        "0292c24ed3664207b1866b2cb3a6aadf": {
          "model_module": "@jupyter-widgets/controls",
          "model_name": "FloatProgressModel",
          "model_module_version": "1.5.0",
          "state": {
            "_dom_classes": [],
            "_model_module": "@jupyter-widgets/controls",
            "_model_module_version": "1.5.0",
            "_model_name": "FloatProgressModel",
            "_view_count": null,
            "_view_module": "@jupyter-widgets/controls",
            "_view_module_version": "1.5.0",
            "_view_name": "ProgressView",
            "bar_style": "success",
            "description": "",
            "description_tooltip": null,
            "layout": "IPY_MODEL_9fbe61ce30e647f48db66f3a0aee2808",
            "max": 150,
            "min": 0,
            "orientation": "horizontal",
            "style": "IPY_MODEL_fbb537ce357d4f95a5b9aada7134a96c",
            "value": 150
          }
        },
        "de832fb7a43d4b1bb1c449ec68074b61": {
          "model_module": "@jupyter-widgets/controls",
          "model_name": "HTMLModel",
          "model_module_version": "1.5.0",
          "state": {
            "_dom_classes": [],
            "_model_module": "@jupyter-widgets/controls",
            "_model_module_version": "1.5.0",
            "_model_name": "HTMLModel",
            "_view_count": null,
            "_view_module": "@jupyter-widgets/controls",
            "_view_module_version": "1.5.0",
            "_view_name": "HTMLView",
            "description": "",
            "description_tooltip": null,
            "layout": "IPY_MODEL_88dc39e4a63a4c45982ef80fec56a8be",
            "placeholder": "​",
            "style": "IPY_MODEL_7c7acad96c0a4e8fa6d4aadd7be60e65",
            "value": " 150/150 [00:00&lt;00:00, 9.01kB/s]"
          }
        },
        "1f5bbea13bc049679a85235578402a71": {
          "model_module": "@jupyter-widgets/base",
          "model_name": "LayoutModel",
          "model_module_version": "1.2.0",
          "state": {
            "_model_module": "@jupyter-widgets/base",
            "_model_module_version": "1.2.0",
            "_model_name": "LayoutModel",
            "_view_count": null,
            "_view_module": "@jupyter-widgets/base",
            "_view_module_version": "1.2.0",
            "_view_name": "LayoutView",
            "align_content": null,
            "align_items": null,
            "align_self": null,
            "border": null,
            "bottom": null,
            "display": null,
            "flex": null,
            "flex_flow": null,
            "grid_area": null,
            "grid_auto_columns": null,
            "grid_auto_flow": null,
            "grid_auto_rows": null,
            "grid_column": null,
            "grid_gap": null,
            "grid_row": null,
            "grid_template_areas": null,
            "grid_template_columns": null,
            "grid_template_rows": null,
            "height": null,
            "justify_content": null,
            "justify_items": null,
            "left": null,
            "margin": null,
            "max_height": null,
            "max_width": null,
            "min_height": null,
            "min_width": null,
            "object_fit": null,
            "object_position": null,
            "order": null,
            "overflow": null,
            "overflow_x": null,
            "overflow_y": null,
            "padding": null,
            "right": null,
            "top": null,
            "visibility": null,
            "width": null
          }
        },
        "a3ba5ec726644e24ba2cfaa59e662aff": {
          "model_module": "@jupyter-widgets/base",
          "model_name": "LayoutModel",
          "model_module_version": "1.2.0",
          "state": {
            "_model_module": "@jupyter-widgets/base",
            "_model_module_version": "1.2.0",
            "_model_name": "LayoutModel",
            "_view_count": null,
            "_view_module": "@jupyter-widgets/base",
            "_view_module_version": "1.2.0",
            "_view_name": "LayoutView",
            "align_content": null,
            "align_items": null,
            "align_self": null,
            "border": null,
            "bottom": null,
            "display": null,
            "flex": null,
            "flex_flow": null,
            "grid_area": null,
            "grid_auto_columns": null,
            "grid_auto_flow": null,
            "grid_auto_rows": null,
            "grid_column": null,
            "grid_gap": null,
            "grid_row": null,
            "grid_template_areas": null,
            "grid_template_columns": null,
            "grid_template_rows": null,
            "height": null,
            "justify_content": null,
            "justify_items": null,
            "left": null,
            "margin": null,
            "max_height": null,
            "max_width": null,
            "min_height": null,
            "min_width": null,
            "object_fit": null,
            "object_position": null,
            "order": null,
            "overflow": null,
            "overflow_x": null,
            "overflow_y": null,
            "padding": null,
            "right": null,
            "top": null,
            "visibility": null,
            "width": null
          }
        },
        "77476cfad79f43bfb5c0e857a05aad6c": {
          "model_module": "@jupyter-widgets/controls",
          "model_name": "DescriptionStyleModel",
          "model_module_version": "1.5.0",
          "state": {
            "_model_module": "@jupyter-widgets/controls",
            "_model_module_version": "1.5.0",
            "_model_name": "DescriptionStyleModel",
            "_view_count": null,
            "_view_module": "@jupyter-widgets/base",
            "_view_module_version": "1.2.0",
            "_view_name": "StyleView",
            "description_width": ""
          }
        },
        "9fbe61ce30e647f48db66f3a0aee2808": {
          "model_module": "@jupyter-widgets/base",
          "model_name": "LayoutModel",
          "model_module_version": "1.2.0",
          "state": {
            "_model_module": "@jupyter-widgets/base",
            "_model_module_version": "1.2.0",
            "_model_name": "LayoutModel",
            "_view_count": null,
            "_view_module": "@jupyter-widgets/base",
            "_view_module_version": "1.2.0",
            "_view_name": "LayoutView",
            "align_content": null,
            "align_items": null,
            "align_self": null,
            "border": null,
            "bottom": null,
            "display": null,
            "flex": null,
            "flex_flow": null,
            "grid_area": null,
            "grid_auto_columns": null,
            "grid_auto_flow": null,
            "grid_auto_rows": null,
            "grid_column": null,
            "grid_gap": null,
            "grid_row": null,
            "grid_template_areas": null,
            "grid_template_columns": null,
            "grid_template_rows": null,
            "height": null,
            "justify_content": null,
            "justify_items": null,
            "left": null,
            "margin": null,
            "max_height": null,
            "max_width": null,
            "min_height": null,
            "min_width": null,
            "object_fit": null,
            "object_position": null,
            "order": null,
            "overflow": null,
            "overflow_x": null,
            "overflow_y": null,
            "padding": null,
            "right": null,
            "top": null,
            "visibility": null,
            "width": null
          }
        },
        "fbb537ce357d4f95a5b9aada7134a96c": {
          "model_module": "@jupyter-widgets/controls",
          "model_name": "ProgressStyleModel",
          "model_module_version": "1.5.0",
          "state": {
            "_model_module": "@jupyter-widgets/controls",
            "_model_module_version": "1.5.0",
            "_model_name": "ProgressStyleModel",
            "_view_count": null,
            "_view_module": "@jupyter-widgets/base",
            "_view_module_version": "1.2.0",
            "_view_name": "StyleView",
            "bar_color": null,
            "description_width": ""
          }
        },
        "88dc39e4a63a4c45982ef80fec56a8be": {
          "model_module": "@jupyter-widgets/base",
          "model_name": "LayoutModel",
          "model_module_version": "1.2.0",
          "state": {
            "_model_module": "@jupyter-widgets/base",
            "_model_module_version": "1.2.0",
            "_model_name": "LayoutModel",
            "_view_count": null,
            "_view_module": "@jupyter-widgets/base",
            "_view_module_version": "1.2.0",
            "_view_name": "LayoutView",
            "align_content": null,
            "align_items": null,
            "align_self": null,
            "border": null,
            "bottom": null,
            "display": null,
            "flex": null,
            "flex_flow": null,
            "grid_area": null,
            "grid_auto_columns": null,
            "grid_auto_flow": null,
            "grid_auto_rows": null,
            "grid_column": null,
            "grid_gap": null,
            "grid_row": null,
            "grid_template_areas": null,
            "grid_template_columns": null,
            "grid_template_rows": null,
            "height": null,
            "justify_content": null,
            "justify_items": null,
            "left": null,
            "margin": null,
            "max_height": null,
            "max_width": null,
            "min_height": null,
            "min_width": null,
            "object_fit": null,
            "object_position": null,
            "order": null,
            "overflow": null,
            "overflow_x": null,
            "overflow_y": null,
            "padding": null,
            "right": null,
            "top": null,
            "visibility": null,
            "width": null
          }
        },
        "7c7acad96c0a4e8fa6d4aadd7be60e65": {
          "model_module": "@jupyter-widgets/controls",
          "model_name": "DescriptionStyleModel",
          "model_module_version": "1.5.0",
          "state": {
            "_model_module": "@jupyter-widgets/controls",
            "_model_module_version": "1.5.0",
            "_model_name": "DescriptionStyleModel",
            "_view_count": null,
            "_view_module": "@jupyter-widgets/base",
            "_view_module_version": "1.2.0",
            "_view_name": "StyleView",
            "description_width": ""
          }
        },
        "1adb28c116d84a9292fcd3fe29bb7107": {
          "model_module": "@jupyter-widgets/controls",
          "model_name": "HBoxModel",
          "model_module_version": "1.5.0",
          "state": {
            "_dom_classes": [],
            "_model_module": "@jupyter-widgets/controls",
            "_model_module_version": "1.5.0",
            "_model_name": "HBoxModel",
            "_view_count": null,
            "_view_module": "@jupyter-widgets/controls",
            "_view_module_version": "1.5.0",
            "_view_name": "HBoxView",
            "box_style": "",
            "children": [
              "IPY_MODEL_3e339be04602459bb1b8fd1bb66ee79d",
              "IPY_MODEL_2b1360aba82c405ca7c52d4735839778",
              "IPY_MODEL_cdb58665698242a4a14f7cd1fa7d23bc"
            ],
            "layout": "IPY_MODEL_81d94fe9ca2b4f7a873d0a2a98567188"
          }
        },
        "3e339be04602459bb1b8fd1bb66ee79d": {
          "model_module": "@jupyter-widgets/controls",
          "model_name": "HTMLModel",
          "model_module_version": "1.5.0",
          "state": {
            "_dom_classes": [],
            "_model_module": "@jupyter-widgets/controls",
            "_model_module_version": "1.5.0",
            "_model_name": "HTMLModel",
            "_view_count": null,
            "_view_module": "@jupyter-widgets/controls",
            "_view_module_version": "1.5.0",
            "_view_name": "HTMLView",
            "description": "",
            "description_tooltip": null,
            "layout": "IPY_MODEL_4608baafacb84cf1aec692a7098f319c",
            "placeholder": "​",
            "style": "IPY_MODEL_a3dfbb3172b7400fb48e66d7457d3c44",
            "value": "pytorch_model.bin: 100%"
          }
        },
        "2b1360aba82c405ca7c52d4735839778": {
          "model_module": "@jupyter-widgets/controls",
          "model_name": "FloatProgressModel",
          "model_module_version": "1.5.0",
          "state": {
            "_dom_classes": [],
            "_model_module": "@jupyter-widgets/controls",
            "_model_module_version": "1.5.0",
            "_model_name": "FloatProgressModel",
            "_view_count": null,
            "_view_module": "@jupyter-widgets/controls",
            "_view_module_version": "1.5.0",
            "_view_name": "ProgressView",
            "bar_style": "success",
            "description": "",
            "description_tooltip": null,
            "layout": "IPY_MODEL_3b36f371b0514b0288069055d591bf53",
            "max": 498676425,
            "min": 0,
            "orientation": "horizontal",
            "style": "IPY_MODEL_83d3484c60784f74a05b22730bbdaf8a",
            "value": 498676425
          }
        },
        "cdb58665698242a4a14f7cd1fa7d23bc": {
          "model_module": "@jupyter-widgets/controls",
          "model_name": "HTMLModel",
          "model_module_version": "1.5.0",
          "state": {
            "_dom_classes": [],
            "_model_module": "@jupyter-widgets/controls",
            "_model_module_version": "1.5.0",
            "_model_name": "HTMLModel",
            "_view_count": null,
            "_view_module": "@jupyter-widgets/controls",
            "_view_module_version": "1.5.0",
            "_view_name": "HTMLView",
            "description": "",
            "description_tooltip": null,
            "layout": "IPY_MODEL_ba82e2bda9244e1f95e967099ca79345",
            "placeholder": "​",
            "style": "IPY_MODEL_68d9da6300e4474884639ece6c06db4b",
            "value": " 499M/499M [00:06&lt;00:00, 81.3MB/s]"
          }
        },
        "81d94fe9ca2b4f7a873d0a2a98567188": {
          "model_module": "@jupyter-widgets/base",
          "model_name": "LayoutModel",
          "model_module_version": "1.2.0",
          "state": {
            "_model_module": "@jupyter-widgets/base",
            "_model_module_version": "1.2.0",
            "_model_name": "LayoutModel",
            "_view_count": null,
            "_view_module": "@jupyter-widgets/base",
            "_view_module_version": "1.2.0",
            "_view_name": "LayoutView",
            "align_content": null,
            "align_items": null,
            "align_self": null,
            "border": null,
            "bottom": null,
            "display": null,
            "flex": null,
            "flex_flow": null,
            "grid_area": null,
            "grid_auto_columns": null,
            "grid_auto_flow": null,
            "grid_auto_rows": null,
            "grid_column": null,
            "grid_gap": null,
            "grid_row": null,
            "grid_template_areas": null,
            "grid_template_columns": null,
            "grid_template_rows": null,
            "height": null,
            "justify_content": null,
            "justify_items": null,
            "left": null,
            "margin": null,
            "max_height": null,
            "max_width": null,
            "min_height": null,
            "min_width": null,
            "object_fit": null,
            "object_position": null,
            "order": null,
            "overflow": null,
            "overflow_x": null,
            "overflow_y": null,
            "padding": null,
            "right": null,
            "top": null,
            "visibility": null,
            "width": null
          }
        },
        "4608baafacb84cf1aec692a7098f319c": {
          "model_module": "@jupyter-widgets/base",
          "model_name": "LayoutModel",
          "model_module_version": "1.2.0",
          "state": {
            "_model_module": "@jupyter-widgets/base",
            "_model_module_version": "1.2.0",
            "_model_name": "LayoutModel",
            "_view_count": null,
            "_view_module": "@jupyter-widgets/base",
            "_view_module_version": "1.2.0",
            "_view_name": "LayoutView",
            "align_content": null,
            "align_items": null,
            "align_self": null,
            "border": null,
            "bottom": null,
            "display": null,
            "flex": null,
            "flex_flow": null,
            "grid_area": null,
            "grid_auto_columns": null,
            "grid_auto_flow": null,
            "grid_auto_rows": null,
            "grid_column": null,
            "grid_gap": null,
            "grid_row": null,
            "grid_template_areas": null,
            "grid_template_columns": null,
            "grid_template_rows": null,
            "height": null,
            "justify_content": null,
            "justify_items": null,
            "left": null,
            "margin": null,
            "max_height": null,
            "max_width": null,
            "min_height": null,
            "min_width": null,
            "object_fit": null,
            "object_position": null,
            "order": null,
            "overflow": null,
            "overflow_x": null,
            "overflow_y": null,
            "padding": null,
            "right": null,
            "top": null,
            "visibility": null,
            "width": null
          }
        },
        "a3dfbb3172b7400fb48e66d7457d3c44": {
          "model_module": "@jupyter-widgets/controls",
          "model_name": "DescriptionStyleModel",
          "model_module_version": "1.5.0",
          "state": {
            "_model_module": "@jupyter-widgets/controls",
            "_model_module_version": "1.5.0",
            "_model_name": "DescriptionStyleModel",
            "_view_count": null,
            "_view_module": "@jupyter-widgets/base",
            "_view_module_version": "1.2.0",
            "_view_name": "StyleView",
            "description_width": ""
          }
        },
        "3b36f371b0514b0288069055d591bf53": {
          "model_module": "@jupyter-widgets/base",
          "model_name": "LayoutModel",
          "model_module_version": "1.2.0",
          "state": {
            "_model_module": "@jupyter-widgets/base",
            "_model_module_version": "1.2.0",
            "_model_name": "LayoutModel",
            "_view_count": null,
            "_view_module": "@jupyter-widgets/base",
            "_view_module_version": "1.2.0",
            "_view_name": "LayoutView",
            "align_content": null,
            "align_items": null,
            "align_self": null,
            "border": null,
            "bottom": null,
            "display": null,
            "flex": null,
            "flex_flow": null,
            "grid_area": null,
            "grid_auto_columns": null,
            "grid_auto_flow": null,
            "grid_auto_rows": null,
            "grid_column": null,
            "grid_gap": null,
            "grid_row": null,
            "grid_template_areas": null,
            "grid_template_columns": null,
            "grid_template_rows": null,
            "height": null,
            "justify_content": null,
            "justify_items": null,
            "left": null,
            "margin": null,
            "max_height": null,
            "max_width": null,
            "min_height": null,
            "min_width": null,
            "object_fit": null,
            "object_position": null,
            "order": null,
            "overflow": null,
            "overflow_x": null,
            "overflow_y": null,
            "padding": null,
            "right": null,
            "top": null,
            "visibility": null,
            "width": null
          }
        },
        "83d3484c60784f74a05b22730bbdaf8a": {
          "model_module": "@jupyter-widgets/controls",
          "model_name": "ProgressStyleModel",
          "model_module_version": "1.5.0",
          "state": {
            "_model_module": "@jupyter-widgets/controls",
            "_model_module_version": "1.5.0",
            "_model_name": "ProgressStyleModel",
            "_view_count": null,
            "_view_module": "@jupyter-widgets/base",
            "_view_module_version": "1.2.0",
            "_view_name": "StyleView",
            "bar_color": null,
            "description_width": ""
          }
        },
        "ba82e2bda9244e1f95e967099ca79345": {
          "model_module": "@jupyter-widgets/base",
          "model_name": "LayoutModel",
          "model_module_version": "1.2.0",
          "state": {
            "_model_module": "@jupyter-widgets/base",
            "_model_module_version": "1.2.0",
            "_model_name": "LayoutModel",
            "_view_count": null,
            "_view_module": "@jupyter-widgets/base",
            "_view_module_version": "1.2.0",
            "_view_name": "LayoutView",
            "align_content": null,
            "align_items": null,
            "align_self": null,
            "border": null,
            "bottom": null,
            "display": null,
            "flex": null,
            "flex_flow": null,
            "grid_area": null,
            "grid_auto_columns": null,
            "grid_auto_flow": null,
            "grid_auto_rows": null,
            "grid_column": null,
            "grid_gap": null,
            "grid_row": null,
            "grid_template_areas": null,
            "grid_template_columns": null,
            "grid_template_rows": null,
            "height": null,
            "justify_content": null,
            "justify_items": null,
            "left": null,
            "margin": null,
            "max_height": null,
            "max_width": null,
            "min_height": null,
            "min_width": null,
            "object_fit": null,
            "object_position": null,
            "order": null,
            "overflow": null,
            "overflow_x": null,
            "overflow_y": null,
            "padding": null,
            "right": null,
            "top": null,
            "visibility": null,
            "width": null
          }
        },
        "68d9da6300e4474884639ece6c06db4b": {
          "model_module": "@jupyter-widgets/controls",
          "model_name": "DescriptionStyleModel",
          "model_module_version": "1.5.0",
          "state": {
            "_model_module": "@jupyter-widgets/controls",
            "_model_module_version": "1.5.0",
            "_model_name": "DescriptionStyleModel",
            "_view_count": null,
            "_view_module": "@jupyter-widgets/base",
            "_view_module_version": "1.2.0",
            "_view_name": "StyleView",
            "description_width": ""
          }
        },
        "14bd9bfc76af4d4fa0108e3014524646": {
          "model_module": "@jupyter-widgets/controls",
          "model_name": "HBoxModel",
          "model_module_version": "1.5.0",
          "state": {
            "_dom_classes": [],
            "_model_module": "@jupyter-widgets/controls",
            "_model_module_version": "1.5.0",
            "_model_name": "HBoxModel",
            "_view_count": null,
            "_view_module": "@jupyter-widgets/controls",
            "_view_module_version": "1.5.0",
            "_view_name": "HBoxView",
            "box_style": "",
            "children": [
              "IPY_MODEL_dbb6cb4269c64109a17b5f39e3e1aa01",
              "IPY_MODEL_3fa5e42d95e64751ad6d4c9bed0bfb65",
              "IPY_MODEL_1594282922804fe6b185825678689ad8"
            ],
            "layout": "IPY_MODEL_96679fef69754dc4a1cf8617077171f3"
          }
        },
        "dbb6cb4269c64109a17b5f39e3e1aa01": {
          "model_module": "@jupyter-widgets/controls",
          "model_name": "HTMLModel",
          "model_module_version": "1.5.0",
          "state": {
            "_dom_classes": [],
            "_model_module": "@jupyter-widgets/controls",
            "_model_module_version": "1.5.0",
            "_model_name": "HTMLModel",
            "_view_count": null,
            "_view_module": "@jupyter-widgets/controls",
            "_view_module_version": "1.5.0",
            "_view_name": "HTMLView",
            "description": "",
            "description_tooltip": null,
            "layout": "IPY_MODEL_d872c28053ae4a3d84e6e32477039c0f",
            "placeholder": "​",
            "style": "IPY_MODEL_212706d2930141b1ab1309efd2da7e44",
            "value": "Map: 100%"
          }
        },
        "3fa5e42d95e64751ad6d4c9bed0bfb65": {
          "model_module": "@jupyter-widgets/controls",
          "model_name": "FloatProgressModel",
          "model_module_version": "1.5.0",
          "state": {
            "_dom_classes": [],
            "_model_module": "@jupyter-widgets/controls",
            "_model_module_version": "1.5.0",
            "_model_name": "FloatProgressModel",
            "_view_count": null,
            "_view_module": "@jupyter-widgets/controls",
            "_view_module_version": "1.5.0",
            "_view_name": "ProgressView",
            "bar_style": "success",
            "description": "",
            "description_tooltip": null,
            "layout": "IPY_MODEL_8c6fd7298b4a4025adbfbb2cfdb13470",
            "max": 2870,
            "min": 0,
            "orientation": "horizontal",
            "style": "IPY_MODEL_aecfc38d2a724e73a922aa292a6c6628",
            "value": 2870
          }
        },
        "1594282922804fe6b185825678689ad8": {
          "model_module": "@jupyter-widgets/controls",
          "model_name": "HTMLModel",
          "model_module_version": "1.5.0",
          "state": {
            "_dom_classes": [],
            "_model_module": "@jupyter-widgets/controls",
            "_model_module_version": "1.5.0",
            "_model_name": "HTMLModel",
            "_view_count": null,
            "_view_module": "@jupyter-widgets/controls",
            "_view_module_version": "1.5.0",
            "_view_name": "HTMLView",
            "description": "",
            "description_tooltip": null,
            "layout": "IPY_MODEL_686f1b99aa6149c8b4d1df74567d7dbe",
            "placeholder": "​",
            "style": "IPY_MODEL_d1ee6a94844b4936a759cca78f8630fc",
            "value": " 2870/2870 [00:00&lt;00:00, 3668.43 examples/s]"
          }
        },
        "96679fef69754dc4a1cf8617077171f3": {
          "model_module": "@jupyter-widgets/base",
          "model_name": "LayoutModel",
          "model_module_version": "1.2.0",
          "state": {
            "_model_module": "@jupyter-widgets/base",
            "_model_module_version": "1.2.0",
            "_model_name": "LayoutModel",
            "_view_count": null,
            "_view_module": "@jupyter-widgets/base",
            "_view_module_version": "1.2.0",
            "_view_name": "LayoutView",
            "align_content": null,
            "align_items": null,
            "align_self": null,
            "border": null,
            "bottom": null,
            "display": null,
            "flex": null,
            "flex_flow": null,
            "grid_area": null,
            "grid_auto_columns": null,
            "grid_auto_flow": null,
            "grid_auto_rows": null,
            "grid_column": null,
            "grid_gap": null,
            "grid_row": null,
            "grid_template_areas": null,
            "grid_template_columns": null,
            "grid_template_rows": null,
            "height": null,
            "justify_content": null,
            "justify_items": null,
            "left": null,
            "margin": null,
            "max_height": null,
            "max_width": null,
            "min_height": null,
            "min_width": null,
            "object_fit": null,
            "object_position": null,
            "order": null,
            "overflow": null,
            "overflow_x": null,
            "overflow_y": null,
            "padding": null,
            "right": null,
            "top": null,
            "visibility": null,
            "width": null
          }
        },
        "d872c28053ae4a3d84e6e32477039c0f": {
          "model_module": "@jupyter-widgets/base",
          "model_name": "LayoutModel",
          "model_module_version": "1.2.0",
          "state": {
            "_model_module": "@jupyter-widgets/base",
            "_model_module_version": "1.2.0",
            "_model_name": "LayoutModel",
            "_view_count": null,
            "_view_module": "@jupyter-widgets/base",
            "_view_module_version": "1.2.0",
            "_view_name": "LayoutView",
            "align_content": null,
            "align_items": null,
            "align_self": null,
            "border": null,
            "bottom": null,
            "display": null,
            "flex": null,
            "flex_flow": null,
            "grid_area": null,
            "grid_auto_columns": null,
            "grid_auto_flow": null,
            "grid_auto_rows": null,
            "grid_column": null,
            "grid_gap": null,
            "grid_row": null,
            "grid_template_areas": null,
            "grid_template_columns": null,
            "grid_template_rows": null,
            "height": null,
            "justify_content": null,
            "justify_items": null,
            "left": null,
            "margin": null,
            "max_height": null,
            "max_width": null,
            "min_height": null,
            "min_width": null,
            "object_fit": null,
            "object_position": null,
            "order": null,
            "overflow": null,
            "overflow_x": null,
            "overflow_y": null,
            "padding": null,
            "right": null,
            "top": null,
            "visibility": null,
            "width": null
          }
        },
        "212706d2930141b1ab1309efd2da7e44": {
          "model_module": "@jupyter-widgets/controls",
          "model_name": "DescriptionStyleModel",
          "model_module_version": "1.5.0",
          "state": {
            "_model_module": "@jupyter-widgets/controls",
            "_model_module_version": "1.5.0",
            "_model_name": "DescriptionStyleModel",
            "_view_count": null,
            "_view_module": "@jupyter-widgets/base",
            "_view_module_version": "1.2.0",
            "_view_name": "StyleView",
            "description_width": ""
          }
        },
        "8c6fd7298b4a4025adbfbb2cfdb13470": {
          "model_module": "@jupyter-widgets/base",
          "model_name": "LayoutModel",
          "model_module_version": "1.2.0",
          "state": {
            "_model_module": "@jupyter-widgets/base",
            "_model_module_version": "1.2.0",
            "_model_name": "LayoutModel",
            "_view_count": null,
            "_view_module": "@jupyter-widgets/base",
            "_view_module_version": "1.2.0",
            "_view_name": "LayoutView",
            "align_content": null,
            "align_items": null,
            "align_self": null,
            "border": null,
            "bottom": null,
            "display": null,
            "flex": null,
            "flex_flow": null,
            "grid_area": null,
            "grid_auto_columns": null,
            "grid_auto_flow": null,
            "grid_auto_rows": null,
            "grid_column": null,
            "grid_gap": null,
            "grid_row": null,
            "grid_template_areas": null,
            "grid_template_columns": null,
            "grid_template_rows": null,
            "height": null,
            "justify_content": null,
            "justify_items": null,
            "left": null,
            "margin": null,
            "max_height": null,
            "max_width": null,
            "min_height": null,
            "min_width": null,
            "object_fit": null,
            "object_position": null,
            "order": null,
            "overflow": null,
            "overflow_x": null,
            "overflow_y": null,
            "padding": null,
            "right": null,
            "top": null,
            "visibility": null,
            "width": null
          }
        },
        "aecfc38d2a724e73a922aa292a6c6628": {
          "model_module": "@jupyter-widgets/controls",
          "model_name": "ProgressStyleModel",
          "model_module_version": "1.5.0",
          "state": {
            "_model_module": "@jupyter-widgets/controls",
            "_model_module_version": "1.5.0",
            "_model_name": "ProgressStyleModel",
            "_view_count": null,
            "_view_module": "@jupyter-widgets/base",
            "_view_module_version": "1.2.0",
            "_view_name": "StyleView",
            "bar_color": null,
            "description_width": ""
          }
        },
        "686f1b99aa6149c8b4d1df74567d7dbe": {
          "model_module": "@jupyter-widgets/base",
          "model_name": "LayoutModel",
          "model_module_version": "1.2.0",
          "state": {
            "_model_module": "@jupyter-widgets/base",
            "_model_module_version": "1.2.0",
            "_model_name": "LayoutModel",
            "_view_count": null,
            "_view_module": "@jupyter-widgets/base",
            "_view_module_version": "1.2.0",
            "_view_name": "LayoutView",
            "align_content": null,
            "align_items": null,
            "align_self": null,
            "border": null,
            "bottom": null,
            "display": null,
            "flex": null,
            "flex_flow": null,
            "grid_area": null,
            "grid_auto_columns": null,
            "grid_auto_flow": null,
            "grid_auto_rows": null,
            "grid_column": null,
            "grid_gap": null,
            "grid_row": null,
            "grid_template_areas": null,
            "grid_template_columns": null,
            "grid_template_rows": null,
            "height": null,
            "justify_content": null,
            "justify_items": null,
            "left": null,
            "margin": null,
            "max_height": null,
            "max_width": null,
            "min_height": null,
            "min_width": null,
            "object_fit": null,
            "object_position": null,
            "order": null,
            "overflow": null,
            "overflow_x": null,
            "overflow_y": null,
            "padding": null,
            "right": null,
            "top": null,
            "visibility": null,
            "width": null
          }
        },
        "d1ee6a94844b4936a759cca78f8630fc": {
          "model_module": "@jupyter-widgets/controls",
          "model_name": "DescriptionStyleModel",
          "model_module_version": "1.5.0",
          "state": {
            "_model_module": "@jupyter-widgets/controls",
            "_model_module_version": "1.5.0",
            "_model_name": "DescriptionStyleModel",
            "_view_count": null,
            "_view_module": "@jupyter-widgets/base",
            "_view_module_version": "1.2.0",
            "_view_name": "StyleView",
            "description_width": ""
          }
        },
        "fd9057b2f89349d089c82c5a4912455f": {
          "model_module": "@jupyter-widgets/controls",
          "model_name": "HBoxModel",
          "model_module_version": "1.5.0",
          "state": {
            "_dom_classes": [],
            "_model_module": "@jupyter-widgets/controls",
            "_model_module_version": "1.5.0",
            "_model_name": "HBoxModel",
            "_view_count": null,
            "_view_module": "@jupyter-widgets/controls",
            "_view_module_version": "1.5.0",
            "_view_name": "HBoxView",
            "box_style": "",
            "children": [
              "IPY_MODEL_3c292a1c04314490b5cd89f411c29ff8",
              "IPY_MODEL_7bd122141d2f44ba91bf100b512b86ad",
              "IPY_MODEL_697275a4ed084d53a1101d484abb813b"
            ],
            "layout": "IPY_MODEL_da7d5ff083fd43a798f1038c0fcd7c71"
          }
        },
        "3c292a1c04314490b5cd89f411c29ff8": {
          "model_module": "@jupyter-widgets/controls",
          "model_name": "HTMLModel",
          "model_module_version": "1.5.0",
          "state": {
            "_dom_classes": [],
            "_model_module": "@jupyter-widgets/controls",
            "_model_module_version": "1.5.0",
            "_model_name": "HTMLModel",
            "_view_count": null,
            "_view_module": "@jupyter-widgets/controls",
            "_view_module_version": "1.5.0",
            "_view_name": "HTMLView",
            "description": "",
            "description_tooltip": null,
            "layout": "IPY_MODEL_df54301518984da2b60104d4ba1387ab",
            "placeholder": "​",
            "style": "IPY_MODEL_5dbfc5e2b065479b986ed2a2e1768043",
            "value": "Map: 100%"
          }
        },
        "7bd122141d2f44ba91bf100b512b86ad": {
          "model_module": "@jupyter-widgets/controls",
          "model_name": "FloatProgressModel",
          "model_module_version": "1.5.0",
          "state": {
            "_dom_classes": [],
            "_model_module": "@jupyter-widgets/controls",
            "_model_module_version": "1.5.0",
            "_model_name": "FloatProgressModel",
            "_view_count": null,
            "_view_module": "@jupyter-widgets/controls",
            "_view_module_version": "1.5.0",
            "_view_name": "ProgressView",
            "bar_style": "success",
            "description": "",
            "description_tooltip": null,
            "layout": "IPY_MODEL_2dffb3c5d2aa49d7bf45863c0c4e61f9",
            "max": 158,
            "min": 0,
            "orientation": "horizontal",
            "style": "IPY_MODEL_858193581e6542189a6083449fe82b1d",
            "value": 158
          }
        },
        "697275a4ed084d53a1101d484abb813b": {
          "model_module": "@jupyter-widgets/controls",
          "model_name": "HTMLModel",
          "model_module_version": "1.5.0",
          "state": {
            "_dom_classes": [],
            "_model_module": "@jupyter-widgets/controls",
            "_model_module_version": "1.5.0",
            "_model_name": "HTMLModel",
            "_view_count": null,
            "_view_module": "@jupyter-widgets/controls",
            "_view_module_version": "1.5.0",
            "_view_name": "HTMLView",
            "description": "",
            "description_tooltip": null,
            "layout": "IPY_MODEL_59fafb16ec3f49a3972b2cf919b8588c",
            "placeholder": "​",
            "style": "IPY_MODEL_c3895293a3b04bb9b12f1f86ee132684",
            "value": " 158/158 [00:00&lt;00:00, 2474.77 examples/s]"
          }
        },
        "da7d5ff083fd43a798f1038c0fcd7c71": {
          "model_module": "@jupyter-widgets/base",
          "model_name": "LayoutModel",
          "model_module_version": "1.2.0",
          "state": {
            "_model_module": "@jupyter-widgets/base",
            "_model_module_version": "1.2.0",
            "_model_name": "LayoutModel",
            "_view_count": null,
            "_view_module": "@jupyter-widgets/base",
            "_view_module_version": "1.2.0",
            "_view_name": "LayoutView",
            "align_content": null,
            "align_items": null,
            "align_self": null,
            "border": null,
            "bottom": null,
            "display": null,
            "flex": null,
            "flex_flow": null,
            "grid_area": null,
            "grid_auto_columns": null,
            "grid_auto_flow": null,
            "grid_auto_rows": null,
            "grid_column": null,
            "grid_gap": null,
            "grid_row": null,
            "grid_template_areas": null,
            "grid_template_columns": null,
            "grid_template_rows": null,
            "height": null,
            "justify_content": null,
            "justify_items": null,
            "left": null,
            "margin": null,
            "max_height": null,
            "max_width": null,
            "min_height": null,
            "min_width": null,
            "object_fit": null,
            "object_position": null,
            "order": null,
            "overflow": null,
            "overflow_x": null,
            "overflow_y": null,
            "padding": null,
            "right": null,
            "top": null,
            "visibility": null,
            "width": null
          }
        },
        "df54301518984da2b60104d4ba1387ab": {
          "model_module": "@jupyter-widgets/base",
          "model_name": "LayoutModel",
          "model_module_version": "1.2.0",
          "state": {
            "_model_module": "@jupyter-widgets/base",
            "_model_module_version": "1.2.0",
            "_model_name": "LayoutModel",
            "_view_count": null,
            "_view_module": "@jupyter-widgets/base",
            "_view_module_version": "1.2.0",
            "_view_name": "LayoutView",
            "align_content": null,
            "align_items": null,
            "align_self": null,
            "border": null,
            "bottom": null,
            "display": null,
            "flex": null,
            "flex_flow": null,
            "grid_area": null,
            "grid_auto_columns": null,
            "grid_auto_flow": null,
            "grid_auto_rows": null,
            "grid_column": null,
            "grid_gap": null,
            "grid_row": null,
            "grid_template_areas": null,
            "grid_template_columns": null,
            "grid_template_rows": null,
            "height": null,
            "justify_content": null,
            "justify_items": null,
            "left": null,
            "margin": null,
            "max_height": null,
            "max_width": null,
            "min_height": null,
            "min_width": null,
            "object_fit": null,
            "object_position": null,
            "order": null,
            "overflow": null,
            "overflow_x": null,
            "overflow_y": null,
            "padding": null,
            "right": null,
            "top": null,
            "visibility": null,
            "width": null
          }
        },
        "5dbfc5e2b065479b986ed2a2e1768043": {
          "model_module": "@jupyter-widgets/controls",
          "model_name": "DescriptionStyleModel",
          "model_module_version": "1.5.0",
          "state": {
            "_model_module": "@jupyter-widgets/controls",
            "_model_module_version": "1.5.0",
            "_model_name": "DescriptionStyleModel",
            "_view_count": null,
            "_view_module": "@jupyter-widgets/base",
            "_view_module_version": "1.2.0",
            "_view_name": "StyleView",
            "description_width": ""
          }
        },
        "2dffb3c5d2aa49d7bf45863c0c4e61f9": {
          "model_module": "@jupyter-widgets/base",
          "model_name": "LayoutModel",
          "model_module_version": "1.2.0",
          "state": {
            "_model_module": "@jupyter-widgets/base",
            "_model_module_version": "1.2.0",
            "_model_name": "LayoutModel",
            "_view_count": null,
            "_view_module": "@jupyter-widgets/base",
            "_view_module_version": "1.2.0",
            "_view_name": "LayoutView",
            "align_content": null,
            "align_items": null,
            "align_self": null,
            "border": null,
            "bottom": null,
            "display": null,
            "flex": null,
            "flex_flow": null,
            "grid_area": null,
            "grid_auto_columns": null,
            "grid_auto_flow": null,
            "grid_auto_rows": null,
            "grid_column": null,
            "grid_gap": null,
            "grid_row": null,
            "grid_template_areas": null,
            "grid_template_columns": null,
            "grid_template_rows": null,
            "height": null,
            "justify_content": null,
            "justify_items": null,
            "left": null,
            "margin": null,
            "max_height": null,
            "max_width": null,
            "min_height": null,
            "min_width": null,
            "object_fit": null,
            "object_position": null,
            "order": null,
            "overflow": null,
            "overflow_x": null,
            "overflow_y": null,
            "padding": null,
            "right": null,
            "top": null,
            "visibility": null,
            "width": null
          }
        },
        "858193581e6542189a6083449fe82b1d": {
          "model_module": "@jupyter-widgets/controls",
          "model_name": "ProgressStyleModel",
          "model_module_version": "1.5.0",
          "state": {
            "_model_module": "@jupyter-widgets/controls",
            "_model_module_version": "1.5.0",
            "_model_name": "ProgressStyleModel",
            "_view_count": null,
            "_view_module": "@jupyter-widgets/base",
            "_view_module_version": "1.2.0",
            "_view_name": "StyleView",
            "bar_color": null,
            "description_width": ""
          }
        },
        "59fafb16ec3f49a3972b2cf919b8588c": {
          "model_module": "@jupyter-widgets/base",
          "model_name": "LayoutModel",
          "model_module_version": "1.2.0",
          "state": {
            "_model_module": "@jupyter-widgets/base",
            "_model_module_version": "1.2.0",
            "_model_name": "LayoutModel",
            "_view_count": null,
            "_view_module": "@jupyter-widgets/base",
            "_view_module_version": "1.2.0",
            "_view_name": "LayoutView",
            "align_content": null,
            "align_items": null,
            "align_self": null,
            "border": null,
            "bottom": null,
            "display": null,
            "flex": null,
            "flex_flow": null,
            "grid_area": null,
            "grid_auto_columns": null,
            "grid_auto_flow": null,
            "grid_auto_rows": null,
            "grid_column": null,
            "grid_gap": null,
            "grid_row": null,
            "grid_template_areas": null,
            "grid_template_columns": null,
            "grid_template_rows": null,
            "height": null,
            "justify_content": null,
            "justify_items": null,
            "left": null,
            "margin": null,
            "max_height": null,
            "max_width": null,
            "min_height": null,
            "min_width": null,
            "object_fit": null,
            "object_position": null,
            "order": null,
            "overflow": null,
            "overflow_x": null,
            "overflow_y": null,
            "padding": null,
            "right": null,
            "top": null,
            "visibility": null,
            "width": null
          }
        },
        "c3895293a3b04bb9b12f1f86ee132684": {
          "model_module": "@jupyter-widgets/controls",
          "model_name": "DescriptionStyleModel",
          "model_module_version": "1.5.0",
          "state": {
            "_model_module": "@jupyter-widgets/controls",
            "_model_module_version": "1.5.0",
            "_model_name": "DescriptionStyleModel",
            "_view_count": null,
            "_view_module": "@jupyter-widgets/base",
            "_view_module_version": "1.2.0",
            "_view_name": "StyleView",
            "description_width": ""
          }
        },
        "658cfd75f92c4b7baad515309f45bfb9": {
          "model_module": "@jupyter-widgets/controls",
          "model_name": "HBoxModel",
          "model_module_version": "1.5.0",
          "state": {
            "_dom_classes": [],
            "_model_module": "@jupyter-widgets/controls",
            "_model_module_version": "1.5.0",
            "_model_name": "HBoxModel",
            "_view_count": null,
            "_view_module": "@jupyter-widgets/controls",
            "_view_module_version": "1.5.0",
            "_view_name": "HBoxView",
            "box_style": "",
            "children": [
              "IPY_MODEL_0c23884ad81b49b7a44c625ba62d912c",
              "IPY_MODEL_1df2560b915e422694f087d0086a253e",
              "IPY_MODEL_370a883e6d97437ebdfa41f870454748"
            ],
            "layout": "IPY_MODEL_2afdd5dbb32f47b7ae02d5166633df76"
          }
        },
        "0c23884ad81b49b7a44c625ba62d912c": {
          "model_module": "@jupyter-widgets/controls",
          "model_name": "HTMLModel",
          "model_module_version": "1.5.0",
          "state": {
            "_dom_classes": [],
            "_model_module": "@jupyter-widgets/controls",
            "_model_module_version": "1.5.0",
            "_model_name": "HTMLModel",
            "_view_count": null,
            "_view_module": "@jupyter-widgets/controls",
            "_view_module_version": "1.5.0",
            "_view_name": "HTMLView",
            "description": "",
            "description_tooltip": null,
            "layout": "IPY_MODEL_d4ea2dcbd8984dcdb75cfcbe2ed7532e",
            "placeholder": "​",
            "style": "IPY_MODEL_9ef464fb059548a48cbddb8a2940ad71",
            "value": "Map: 100%"
          }
        },
        "1df2560b915e422694f087d0086a253e": {
          "model_module": "@jupyter-widgets/controls",
          "model_name": "FloatProgressModel",
          "model_module_version": "1.5.0",
          "state": {
            "_dom_classes": [],
            "_model_module": "@jupyter-widgets/controls",
            "_model_module_version": "1.5.0",
            "_model_name": "FloatProgressModel",
            "_view_count": null,
            "_view_module": "@jupyter-widgets/controls",
            "_view_module_version": "1.5.0",
            "_view_name": "ProgressView",
            "bar_style": "success",
            "description": "",
            "description_tooltip": null,
            "layout": "IPY_MODEL_0a7a2407a5ca4c7c9d4724ebd565ab99",
            "max": 286,
            "min": 0,
            "orientation": "horizontal",
            "style": "IPY_MODEL_5ac1212abeb84da2b64185d955bbf967",
            "value": 286
          }
        },
        "370a883e6d97437ebdfa41f870454748": {
          "model_module": "@jupyter-widgets/controls",
          "model_name": "HTMLModel",
          "model_module_version": "1.5.0",
          "state": {
            "_dom_classes": [],
            "_model_module": "@jupyter-widgets/controls",
            "_model_module_version": "1.5.0",
            "_model_name": "HTMLModel",
            "_view_count": null,
            "_view_module": "@jupyter-widgets/controls",
            "_view_module_version": "1.5.0",
            "_view_name": "HTMLView",
            "description": "",
            "description_tooltip": null,
            "layout": "IPY_MODEL_73caceba16c14d15b93a03cab71c0ea8",
            "placeholder": "​",
            "style": "IPY_MODEL_679bbd91f6804c93b5e934cb77074099",
            "value": " 286/286 [00:00&lt;00:00, 2813.39 examples/s]"
          }
        },
        "2afdd5dbb32f47b7ae02d5166633df76": {
          "model_module": "@jupyter-widgets/base",
          "model_name": "LayoutModel",
          "model_module_version": "1.2.0",
          "state": {
            "_model_module": "@jupyter-widgets/base",
            "_model_module_version": "1.2.0",
            "_model_name": "LayoutModel",
            "_view_count": null,
            "_view_module": "@jupyter-widgets/base",
            "_view_module_version": "1.2.0",
            "_view_name": "LayoutView",
            "align_content": null,
            "align_items": null,
            "align_self": null,
            "border": null,
            "bottom": null,
            "display": null,
            "flex": null,
            "flex_flow": null,
            "grid_area": null,
            "grid_auto_columns": null,
            "grid_auto_flow": null,
            "grid_auto_rows": null,
            "grid_column": null,
            "grid_gap": null,
            "grid_row": null,
            "grid_template_areas": null,
            "grid_template_columns": null,
            "grid_template_rows": null,
            "height": null,
            "justify_content": null,
            "justify_items": null,
            "left": null,
            "margin": null,
            "max_height": null,
            "max_width": null,
            "min_height": null,
            "min_width": null,
            "object_fit": null,
            "object_position": null,
            "order": null,
            "overflow": null,
            "overflow_x": null,
            "overflow_y": null,
            "padding": null,
            "right": null,
            "top": null,
            "visibility": null,
            "width": null
          }
        },
        "d4ea2dcbd8984dcdb75cfcbe2ed7532e": {
          "model_module": "@jupyter-widgets/base",
          "model_name": "LayoutModel",
          "model_module_version": "1.2.0",
          "state": {
            "_model_module": "@jupyter-widgets/base",
            "_model_module_version": "1.2.0",
            "_model_name": "LayoutModel",
            "_view_count": null,
            "_view_module": "@jupyter-widgets/base",
            "_view_module_version": "1.2.0",
            "_view_name": "LayoutView",
            "align_content": null,
            "align_items": null,
            "align_self": null,
            "border": null,
            "bottom": null,
            "display": null,
            "flex": null,
            "flex_flow": null,
            "grid_area": null,
            "grid_auto_columns": null,
            "grid_auto_flow": null,
            "grid_auto_rows": null,
            "grid_column": null,
            "grid_gap": null,
            "grid_row": null,
            "grid_template_areas": null,
            "grid_template_columns": null,
            "grid_template_rows": null,
            "height": null,
            "justify_content": null,
            "justify_items": null,
            "left": null,
            "margin": null,
            "max_height": null,
            "max_width": null,
            "min_height": null,
            "min_width": null,
            "object_fit": null,
            "object_position": null,
            "order": null,
            "overflow": null,
            "overflow_x": null,
            "overflow_y": null,
            "padding": null,
            "right": null,
            "top": null,
            "visibility": null,
            "width": null
          }
        },
        "9ef464fb059548a48cbddb8a2940ad71": {
          "model_module": "@jupyter-widgets/controls",
          "model_name": "DescriptionStyleModel",
          "model_module_version": "1.5.0",
          "state": {
            "_model_module": "@jupyter-widgets/controls",
            "_model_module_version": "1.5.0",
            "_model_name": "DescriptionStyleModel",
            "_view_count": null,
            "_view_module": "@jupyter-widgets/base",
            "_view_module_version": "1.2.0",
            "_view_name": "StyleView",
            "description_width": ""
          }
        },
        "0a7a2407a5ca4c7c9d4724ebd565ab99": {
          "model_module": "@jupyter-widgets/base",
          "model_name": "LayoutModel",
          "model_module_version": "1.2.0",
          "state": {
            "_model_module": "@jupyter-widgets/base",
            "_model_module_version": "1.2.0",
            "_model_name": "LayoutModel",
            "_view_count": null,
            "_view_module": "@jupyter-widgets/base",
            "_view_module_version": "1.2.0",
            "_view_name": "LayoutView",
            "align_content": null,
            "align_items": null,
            "align_self": null,
            "border": null,
            "bottom": null,
            "display": null,
            "flex": null,
            "flex_flow": null,
            "grid_area": null,
            "grid_auto_columns": null,
            "grid_auto_flow": null,
            "grid_auto_rows": null,
            "grid_column": null,
            "grid_gap": null,
            "grid_row": null,
            "grid_template_areas": null,
            "grid_template_columns": null,
            "grid_template_rows": null,
            "height": null,
            "justify_content": null,
            "justify_items": null,
            "left": null,
            "margin": null,
            "max_height": null,
            "max_width": null,
            "min_height": null,
            "min_width": null,
            "object_fit": null,
            "object_position": null,
            "order": null,
            "overflow": null,
            "overflow_x": null,
            "overflow_y": null,
            "padding": null,
            "right": null,
            "top": null,
            "visibility": null,
            "width": null
          }
        },
        "5ac1212abeb84da2b64185d955bbf967": {
          "model_module": "@jupyter-widgets/controls",
          "model_name": "ProgressStyleModel",
          "model_module_version": "1.5.0",
          "state": {
            "_model_module": "@jupyter-widgets/controls",
            "_model_module_version": "1.5.0",
            "_model_name": "ProgressStyleModel",
            "_view_count": null,
            "_view_module": "@jupyter-widgets/base",
            "_view_module_version": "1.2.0",
            "_view_name": "StyleView",
            "bar_color": null,
            "description_width": ""
          }
        },
        "73caceba16c14d15b93a03cab71c0ea8": {
          "model_module": "@jupyter-widgets/base",
          "model_name": "LayoutModel",
          "model_module_version": "1.2.0",
          "state": {
            "_model_module": "@jupyter-widgets/base",
            "_model_module_version": "1.2.0",
            "_model_name": "LayoutModel",
            "_view_count": null,
            "_view_module": "@jupyter-widgets/base",
            "_view_module_version": "1.2.0",
            "_view_name": "LayoutView",
            "align_content": null,
            "align_items": null,
            "align_self": null,
            "border": null,
            "bottom": null,
            "display": null,
            "flex": null,
            "flex_flow": null,
            "grid_area": null,
            "grid_auto_columns": null,
            "grid_auto_flow": null,
            "grid_auto_rows": null,
            "grid_column": null,
            "grid_gap": null,
            "grid_row": null,
            "grid_template_areas": null,
            "grid_template_columns": null,
            "grid_template_rows": null,
            "height": null,
            "justify_content": null,
            "justify_items": null,
            "left": null,
            "margin": null,
            "max_height": null,
            "max_width": null,
            "min_height": null,
            "min_width": null,
            "object_fit": null,
            "object_position": null,
            "order": null,
            "overflow": null,
            "overflow_x": null,
            "overflow_y": null,
            "padding": null,
            "right": null,
            "top": null,
            "visibility": null,
            "width": null
          }
        },
        "679bbd91f6804c93b5e934cb77074099": {
          "model_module": "@jupyter-widgets/controls",
          "model_name": "DescriptionStyleModel",
          "model_module_version": "1.5.0",
          "state": {
            "_model_module": "@jupyter-widgets/controls",
            "_model_module_version": "1.5.0",
            "_model_name": "DescriptionStyleModel",
            "_view_count": null,
            "_view_module": "@jupyter-widgets/base",
            "_view_module_version": "1.2.0",
            "_view_name": "StyleView",
            "description_width": ""
          }
        }
      }
    },
    "accelerator": "GPU"
  },
  "nbformat": 4,
  "nbformat_minor": 0
}