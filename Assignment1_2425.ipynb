{
  "cells": [
    {
      "cell_type": "markdown",
      "metadata": {
        "id": "qE4WC2_4wygJ"
      },
      "source": [
        "# Assignment 1\n",
        "**Credits**: Federico Ruggeri, Eleonora Mancini, Paolo Torroni\n",
        "\n",
        "**Keywords**: Sexism Detection, Multi-class Classification, RNNs, Transformers, Huggingface\n",
        "\n"
      ]
    },
    {
      "cell_type": "markdown",
      "metadata": {
        "id": "fL69zGpmx01k"
      },
      "source": [
        "# Contact\n",
        "For any doubt, question, issue or help, you can always contact us at the following email addresses:\n",
        "\n",
        "Teaching Assistants:\n",
        "\n",
        "- Federico Ruggeri -> federico.ruggeri6@unibo.it\n",
        "- Eleonora Mancini -> e.mancini@unibo.it\n",
        "\n",
        "Professor:\n",
        "- Paolo Torroni -> p.torroni@unibo.it"
      ]
    },
    {
      "cell_type": "markdown",
      "metadata": {
        "id": "55jnW-xKxi-2"
      },
      "source": [
        "# Introduction\n",
        "You are asked to address the [EXIST 2023 Task 1](https://clef2023.clef-initiative.eu/index.php?page=Pages/labs.html#EXIST) on sexism detection."
      ]
    },
    {
      "cell_type": "markdown",
      "metadata": {
        "id": "9HWp5bGwySsb"
      },
      "source": [
        "## Problem Definition\n",
        "The systems have to decide whether or not a given tweet contains or describes sexist expressions or behaviors (i.e., it is sexist itself, describes a sexist situation or criticizes a sexist behavior).\n",
        "\n",
        "### Examples:\n",
        "\n",
        "**Text**: *Can’t go a day without women womening*\n",
        "\n",
        "**Label**: Sexist\n",
        "\n",
        "**Text**: *''Society's set norms! Happy men's day though!#weareequal''*\n",
        "\n",
        "**Label**: Not sexist"
      ]
    },
    {
      "cell_type": "markdown",
      "metadata": {
        "id": "2iu1X4I98M8B"
      },
      "source": [
        "#[Task 1 - 1.0 points] Corpus\n",
        "\n",
        "We have preparared a small version of EXIST dataset in our dedicated [Github repository](https://github.com/lt-nlp-lab-unibo/nlp-course-material/tree/main/2024-2025/Assignment%201/data).\n",
        "\n",
        "Check the `A1/data` folder. It contains 3 `.json` files representing `training`, `validation` and `test` sets.\n",
        "\n",
        "The three sets are slightly unbalanced, with a bias toward the `Non-sexist` class.\n",
        "\n"
      ]
    },
    {
      "cell_type": "markdown",
      "metadata": {
        "id": "AASoMV9XN5l6"
      },
      "source": [
        "### Dataset Description\n",
        "- The dataset contains tweets in both English and Spanish.\n",
        "- There are labels for multiple tasks, but we are focusing on **Task 1**.\n",
        "- For Task 1, soft labels are assigned by six annotators.\n",
        "- The labels for Task 1 represent whether the tweet is sexist (\"YES\") or not (\"NO\").\n",
        "\n",
        "\n",
        "\n",
        "\n"
      ]
    },
    {
      "cell_type": "markdown",
      "metadata": {
        "id": "OFjwB_lCOQKj"
      },
      "source": [
        "\n",
        "### Example\n",
        "\n",
        "\n",
        "    \"203260\": {\n",
        "        \"id_EXIST\": \"203260\",\n",
        "        \"lang\": \"en\",\n",
        "        \"tweet\": \"ik when mandy says “you look like a whore” i look cute as FUCK\",\n",
        "        \"number_annotators\": 6,\n",
        "        \"annotators\": [\"Annotator_473\", \"Annotator_474\", \"Annotator_475\", \"Annotator_476\", \"Annotator_477\", \"Annotator_27\"],\n",
        "        \"gender_annotators\": [\"F\", \"F\", \"M\", \"M\", \"M\", \"F\"],\n",
        "        \"age_annotators\": [\"18-22\", \"23-45\", \"18-22\", \"23-45\", \"46+\", \"46+\"],\n",
        "        \"labels_task1\": [\"YES\", \"YES\", \"YES\", \"NO\", \"YES\", \"YES\"],\n",
        "        \"labels_task2\": [\"DIRECT\", \"DIRECT\", \"REPORTED\", \"-\", \"JUDGEMENTAL\", \"REPORTED\"],\n",
        "        \"labels_task3\": [\n",
        "          [\"STEREOTYPING-DOMINANCE\"],\n",
        "          [\"OBJECTIFICATION\"],\n",
        "          [\"SEXUAL-VIOLENCE\"],\n",
        "          [\"-\"],\n",
        "          [\"STEREOTYPING-DOMINANCE\", \"OBJECTIFICATION\"],\n",
        "          [\"OBJECTIFICATION\"]\n",
        "        ],\n",
        "        \"split\": \"TRAIN_EN\"\n",
        "      }\n",
        "    }"
      ]
    },
    {
      "cell_type": "markdown",
      "metadata": {
        "id": "BJ45bvuOOJ7I"
      },
      "source": [
        "### Instructions\n",
        "1. **Download** the `A1/data` folder.\n",
        "2. **Load** the three JSON files and encode them as pandas dataframes.\n",
        "3. **Generate hard labels** for Task 1 using majority voting and store them in a new dataframe column called `hard_label_task1`. Items without a clear majority will be removed from the dataset.\n",
        "4. **Filter the DataFrame** to keep only rows where the `lang` column is `'en'`.\n",
        "5. **Remove unwanted columns**: Keep only `id_EXIST`, `lang`, `tweet`, and `hard_label_task1`.\n",
        "6. **Encode the `hard_label_task1` column**: Use 1 to represent \"YES\" and 0 to represent \"NO\"."
      ]
    },
    {
      "cell_type": "markdown",
      "source": [
        "### Import useful libraries"
      ],
      "metadata": {
        "id": "lgUwXU4uhyQY"
      }
    },
    {
      "cell_type": "code",
      "execution_count": null,
      "metadata": {
        "id": "fhhV827nxpUo"
      },
      "outputs": [],
      "source": [
        "import os\n",
        "import requests\n",
        "from pathlib import Path\n",
        "import pandas as pd\n",
        "import matplotlib.pyplot as plt\n",
        "import seaborn as sns\n",
        "import json\n",
        "import zipfile\n",
        "import numpy as np\n",
        "from tqdm import tqdm\n",
        "import re\n",
        "import string\n",
        "import nltk\n",
        "from nltk.corpus import stopwords\n",
        "from nltk.tokenize import word_tokenize\n",
        "from nltk.stem import WordNetLemmatizer\n",
        "from sklearn.metrics import precision_score, recall_score, f1_score, confusion_matrix, precision_recall_curve, PrecisionRecallDisplay, classification_report\n",
        "from IPython.display import display, HTML\n",
        "from wordcloud import WordCloud\n",
        "from collections import Counter\n",
        "import warnings\n",
        "\n",
        "warnings.filterwarnings(\"ignore\", category=FutureWarning)"
      ]
    },
    {
      "cell_type": "markdown",
      "source": [
        "### Create train, validation and test DataFrames\n",
        " * Download json files *test.json*, *training.json* and *validation.json* from [here](https://raw.githubusercontent.com/nlp-unibo/nlp-course-material/refs/heads/main/2024-2025/Assignment%201/data/).\n",
        " * Load the json files into pandas DataFrames"
      ],
      "metadata": {
        "id": "IPrSa-NCh2Fm"
      }
    },
    {
      "cell_type": "code",
      "execution_count": null,
      "metadata": {
        "colab": {
          "base_uri": "https://localhost:8080/"
        },
        "id": "2PLUT2sRlktM",
        "outputId": "75ed3ef4-cec7-4f68-83ae-5cd4f3ad3a31"
      },
      "outputs": [
        {
          "output_type": "stream",
          "name": "stdout",
          "text": [
            "Downloaded test.json\n",
            "Downloaded training.json\n",
            "Downloaded validation.json\n"
          ]
        }
      ],
      "source": [
        "base_url = \"https://raw.githubusercontent.com/nlp-unibo/nlp-course-material/refs/heads/main/2024-2025/Assignment%201/data/\"\n",
        "json_files = [\"test.json\", \"training.json\", \"validation.json\"]\n",
        "local_dir = Path(\"Assignment%201/data\")\n",
        "local_dir.mkdir(parents=True, exist_ok=True)\n",
        "\n",
        "# Download each file\n",
        "for file_name in json_files:\n",
        "    url = base_url + file_name\n",
        "    response = requests.get(url)\n",
        "    if response.status_code == 200:\n",
        "        with open(local_dir / file_name, \"wb\") as file:\n",
        "            file.write(response.content)\n",
        "        print(f\"Downloaded {file_name}\")\n",
        "    else:\n",
        "        print(f\"Failed to download {file_name}\")\n",
        "\n",
        "# Load JSON files into pandas DataFrames\n",
        "dataframes = {}\n",
        "for file_name in json_files:\n",
        "    with open(local_dir / file_name, \"r\") as file:\n",
        "        data = json.load(file)\n",
        "        dataframes[file_name] = pd.DataFrame(data)\n",
        "\n",
        "original_train_df = dataframes['training.json']\n",
        "original_validation_df = dataframes['validation.json']\n",
        "original_test_df = dataframes['test.json']"
      ]
    },
    {
      "cell_type": "markdown",
      "source": [
        "### Transform the DataFrames as requested"
      ],
      "metadata": {
        "id": "GX5l8UYxjBhI"
      }
    },
    {
      "cell_type": "code",
      "execution_count": null,
      "metadata": {
        "id": "051WwmQmvFdm"
      },
      "outputs": [],
      "source": [
        "def determine_majority(response_list):\n",
        "    yes_count = response_list.count(\"YES\")\n",
        "    no_count = response_list.count(\"NO\")\n",
        "    if yes_count > no_count:\n",
        "        return 1\n",
        "    elif no_count > yes_count:\n",
        "        return 0\n",
        "    else:\n",
        "        return 2\n",
        "\n",
        "def transform_df(df):\n",
        "    df = df.T\n",
        "    df['hard_label_task1'] = df['labels_task1'].apply(determine_majority)\n",
        "    df = df[df['lang'] == 'en']\n",
        "    df = df[df['hard_label_task1'] != 2]\n",
        "    df = df[['id_EXIST', 'lang', 'tweet', 'hard_label_task1']]\n",
        "\n",
        "    return df"
      ]
    },
    {
      "cell_type": "code",
      "execution_count": null,
      "metadata": {
        "colab": {
          "base_uri": "https://localhost:8080/",
          "height": 424
        },
        "id": "AEAflhr1vtX5",
        "outputId": "3dbde0ed-3d48-4a59-a6f6-a90f9bda8fe2"
      },
      "outputs": [
        {
          "output_type": "execute_result",
          "data": {
            "text/plain": [
              "       id_EXIST lang                                              tweet  \\\n",
              "200002   200002   en  Writing a uni essay in my local pub with a cof...   \n",
              "200003   200003   en  @UniversalORL it is 2021 not 1921. I dont appr...   \n",
              "200006   200006   en  According to a customer I have plenty of time ...   \n",
              "200007   200007   en  So only 'blokes' drink beer? Sorry, but if you...   \n",
              "200008   200008   en  New to the shelves this week - looking forward...   \n",
              "...         ...  ...                                                ...   \n",
              "203256   203256   en  idk why y’all bitches think having half your a...   \n",
              "203257   203257   en  This has been a part of an experiment with @Wo...   \n",
              "203258   203258   en  \"Take me already\" \"Not yet. You gotta be ready...   \n",
              "203259   203259   en  @clintneedcoffee why do you look like a whore?...   \n",
              "203260   203260   en  ik when mandy says “you look like a whore” i l...   \n",
              "\n",
              "        hard_label_task1  \n",
              "200002                 1  \n",
              "200003                 1  \n",
              "200006                 1  \n",
              "200007                 1  \n",
              "200008                 0  \n",
              "...                  ...  \n",
              "203256                 1  \n",
              "203257                 1  \n",
              "203258                 1  \n",
              "203259                 1  \n",
              "203260                 1  \n",
              "\n",
              "[2870 rows x 4 columns]"
            ],
            "text/html": [
              "\n",
              "  <div id=\"df-26acbaca-745c-419b-bea7-cc12c71d2b5d\" class=\"colab-df-container\">\n",
              "    <div>\n",
              "<style scoped>\n",
              "    .dataframe tbody tr th:only-of-type {\n",
              "        vertical-align: middle;\n",
              "    }\n",
              "\n",
              "    .dataframe tbody tr th {\n",
              "        vertical-align: top;\n",
              "    }\n",
              "\n",
              "    .dataframe thead th {\n",
              "        text-align: right;\n",
              "    }\n",
              "</style>\n",
              "<table border=\"1\" class=\"dataframe\">\n",
              "  <thead>\n",
              "    <tr style=\"text-align: right;\">\n",
              "      <th></th>\n",
              "      <th>id_EXIST</th>\n",
              "      <th>lang</th>\n",
              "      <th>tweet</th>\n",
              "      <th>hard_label_task1</th>\n",
              "    </tr>\n",
              "  </thead>\n",
              "  <tbody>\n",
              "    <tr>\n",
              "      <th>200002</th>\n",
              "      <td>200002</td>\n",
              "      <td>en</td>\n",
              "      <td>Writing a uni essay in my local pub with a cof...</td>\n",
              "      <td>1</td>\n",
              "    </tr>\n",
              "    <tr>\n",
              "      <th>200003</th>\n",
              "      <td>200003</td>\n",
              "      <td>en</td>\n",
              "      <td>@UniversalORL it is 2021 not 1921. I dont appr...</td>\n",
              "      <td>1</td>\n",
              "    </tr>\n",
              "    <tr>\n",
              "      <th>200006</th>\n",
              "      <td>200006</td>\n",
              "      <td>en</td>\n",
              "      <td>According to a customer I have plenty of time ...</td>\n",
              "      <td>1</td>\n",
              "    </tr>\n",
              "    <tr>\n",
              "      <th>200007</th>\n",
              "      <td>200007</td>\n",
              "      <td>en</td>\n",
              "      <td>So only 'blokes' drink beer? Sorry, but if you...</td>\n",
              "      <td>1</td>\n",
              "    </tr>\n",
              "    <tr>\n",
              "      <th>200008</th>\n",
              "      <td>200008</td>\n",
              "      <td>en</td>\n",
              "      <td>New to the shelves this week - looking forward...</td>\n",
              "      <td>0</td>\n",
              "    </tr>\n",
              "    <tr>\n",
              "      <th>...</th>\n",
              "      <td>...</td>\n",
              "      <td>...</td>\n",
              "      <td>...</td>\n",
              "      <td>...</td>\n",
              "    </tr>\n",
              "    <tr>\n",
              "      <th>203256</th>\n",
              "      <td>203256</td>\n",
              "      <td>en</td>\n",
              "      <td>idk why y’all bitches think having half your a...</td>\n",
              "      <td>1</td>\n",
              "    </tr>\n",
              "    <tr>\n",
              "      <th>203257</th>\n",
              "      <td>203257</td>\n",
              "      <td>en</td>\n",
              "      <td>This has been a part of an experiment with @Wo...</td>\n",
              "      <td>1</td>\n",
              "    </tr>\n",
              "    <tr>\n",
              "      <th>203258</th>\n",
              "      <td>203258</td>\n",
              "      <td>en</td>\n",
              "      <td>\"Take me already\" \"Not yet. You gotta be ready...</td>\n",
              "      <td>1</td>\n",
              "    </tr>\n",
              "    <tr>\n",
              "      <th>203259</th>\n",
              "      <td>203259</td>\n",
              "      <td>en</td>\n",
              "      <td>@clintneedcoffee why do you look like a whore?...</td>\n",
              "      <td>1</td>\n",
              "    </tr>\n",
              "    <tr>\n",
              "      <th>203260</th>\n",
              "      <td>203260</td>\n",
              "      <td>en</td>\n",
              "      <td>ik when mandy says “you look like a whore” i l...</td>\n",
              "      <td>1</td>\n",
              "    </tr>\n",
              "  </tbody>\n",
              "</table>\n",
              "<p>2870 rows × 4 columns</p>\n",
              "</div>\n",
              "    <div class=\"colab-df-buttons\">\n",
              "\n",
              "  <div class=\"colab-df-container\">\n",
              "    <button class=\"colab-df-convert\" onclick=\"convertToInteractive('df-26acbaca-745c-419b-bea7-cc12c71d2b5d')\"\n",
              "            title=\"Convert this dataframe to an interactive table.\"\n",
              "            style=\"display:none;\">\n",
              "\n",
              "  <svg xmlns=\"http://www.w3.org/2000/svg\" height=\"24px\" viewBox=\"0 -960 960 960\">\n",
              "    <path d=\"M120-120v-720h720v720H120Zm60-500h600v-160H180v160Zm220 220h160v-160H400v160Zm0 220h160v-160H400v160ZM180-400h160v-160H180v160Zm440 0h160v-160H620v160ZM180-180h160v-160H180v160Zm440 0h160v-160H620v160Z\"/>\n",
              "  </svg>\n",
              "    </button>\n",
              "\n",
              "  <style>\n",
              "    .colab-df-container {\n",
              "      display:flex;\n",
              "      gap: 12px;\n",
              "    }\n",
              "\n",
              "    .colab-df-convert {\n",
              "      background-color: #E8F0FE;\n",
              "      border: none;\n",
              "      border-radius: 50%;\n",
              "      cursor: pointer;\n",
              "      display: none;\n",
              "      fill: #1967D2;\n",
              "      height: 32px;\n",
              "      padding: 0 0 0 0;\n",
              "      width: 32px;\n",
              "    }\n",
              "\n",
              "    .colab-df-convert:hover {\n",
              "      background-color: #E2EBFA;\n",
              "      box-shadow: 0px 1px 2px rgba(60, 64, 67, 0.3), 0px 1px 3px 1px rgba(60, 64, 67, 0.15);\n",
              "      fill: #174EA6;\n",
              "    }\n",
              "\n",
              "    .colab-df-buttons div {\n",
              "      margin-bottom: 4px;\n",
              "    }\n",
              "\n",
              "    [theme=dark] .colab-df-convert {\n",
              "      background-color: #3B4455;\n",
              "      fill: #D2E3FC;\n",
              "    }\n",
              "\n",
              "    [theme=dark] .colab-df-convert:hover {\n",
              "      background-color: #434B5C;\n",
              "      box-shadow: 0px 1px 3px 1px rgba(0, 0, 0, 0.15);\n",
              "      filter: drop-shadow(0px 1px 2px rgba(0, 0, 0, 0.3));\n",
              "      fill: #FFFFFF;\n",
              "    }\n",
              "  </style>\n",
              "\n",
              "    <script>\n",
              "      const buttonEl =\n",
              "        document.querySelector('#df-26acbaca-745c-419b-bea7-cc12c71d2b5d button.colab-df-convert');\n",
              "      buttonEl.style.display =\n",
              "        google.colab.kernel.accessAllowed ? 'block' : 'none';\n",
              "\n",
              "      async function convertToInteractive(key) {\n",
              "        const element = document.querySelector('#df-26acbaca-745c-419b-bea7-cc12c71d2b5d');\n",
              "        const dataTable =\n",
              "          await google.colab.kernel.invokeFunction('convertToInteractive',\n",
              "                                                    [key], {});\n",
              "        if (!dataTable) return;\n",
              "\n",
              "        const docLinkHtml = 'Like what you see? Visit the ' +\n",
              "          '<a target=\"_blank\" href=https://colab.research.google.com/notebooks/data_table.ipynb>data table notebook</a>'\n",
              "          + ' to learn more about interactive tables.';\n",
              "        element.innerHTML = '';\n",
              "        dataTable['output_type'] = 'display_data';\n",
              "        await google.colab.output.renderOutput(dataTable, element);\n",
              "        const docLink = document.createElement('div');\n",
              "        docLink.innerHTML = docLinkHtml;\n",
              "        element.appendChild(docLink);\n",
              "      }\n",
              "    </script>\n",
              "  </div>\n",
              "\n",
              "\n",
              "<div id=\"df-d8422f76-c305-4e5c-ac93-2a14a3bbdefe\">\n",
              "  <button class=\"colab-df-quickchart\" onclick=\"quickchart('df-d8422f76-c305-4e5c-ac93-2a14a3bbdefe')\"\n",
              "            title=\"Suggest charts\"\n",
              "            style=\"display:none;\">\n",
              "\n",
              "<svg xmlns=\"http://www.w3.org/2000/svg\" height=\"24px\"viewBox=\"0 0 24 24\"\n",
              "     width=\"24px\">\n",
              "    <g>\n",
              "        <path d=\"M19 3H5c-1.1 0-2 .9-2 2v14c0 1.1.9 2 2 2h14c1.1 0 2-.9 2-2V5c0-1.1-.9-2-2-2zM9 17H7v-7h2v7zm4 0h-2V7h2v10zm4 0h-2v-4h2v4z\"/>\n",
              "    </g>\n",
              "</svg>\n",
              "  </button>\n",
              "\n",
              "<style>\n",
              "  .colab-df-quickchart {\n",
              "      --bg-color: #E8F0FE;\n",
              "      --fill-color: #1967D2;\n",
              "      --hover-bg-color: #E2EBFA;\n",
              "      --hover-fill-color: #174EA6;\n",
              "      --disabled-fill-color: #AAA;\n",
              "      --disabled-bg-color: #DDD;\n",
              "  }\n",
              "\n",
              "  [theme=dark] .colab-df-quickchart {\n",
              "      --bg-color: #3B4455;\n",
              "      --fill-color: #D2E3FC;\n",
              "      --hover-bg-color: #434B5C;\n",
              "      --hover-fill-color: #FFFFFF;\n",
              "      --disabled-bg-color: #3B4455;\n",
              "      --disabled-fill-color: #666;\n",
              "  }\n",
              "\n",
              "  .colab-df-quickchart {\n",
              "    background-color: var(--bg-color);\n",
              "    border: none;\n",
              "    border-radius: 50%;\n",
              "    cursor: pointer;\n",
              "    display: none;\n",
              "    fill: var(--fill-color);\n",
              "    height: 32px;\n",
              "    padding: 0;\n",
              "    width: 32px;\n",
              "  }\n",
              "\n",
              "  .colab-df-quickchart:hover {\n",
              "    background-color: var(--hover-bg-color);\n",
              "    box-shadow: 0 1px 2px rgba(60, 64, 67, 0.3), 0 1px 3px 1px rgba(60, 64, 67, 0.15);\n",
              "    fill: var(--button-hover-fill-color);\n",
              "  }\n",
              "\n",
              "  .colab-df-quickchart-complete:disabled,\n",
              "  .colab-df-quickchart-complete:disabled:hover {\n",
              "    background-color: var(--disabled-bg-color);\n",
              "    fill: var(--disabled-fill-color);\n",
              "    box-shadow: none;\n",
              "  }\n",
              "\n",
              "  .colab-df-spinner {\n",
              "    border: 2px solid var(--fill-color);\n",
              "    border-color: transparent;\n",
              "    border-bottom-color: var(--fill-color);\n",
              "    animation:\n",
              "      spin 1s steps(1) infinite;\n",
              "  }\n",
              "\n",
              "  @keyframes spin {\n",
              "    0% {\n",
              "      border-color: transparent;\n",
              "      border-bottom-color: var(--fill-color);\n",
              "      border-left-color: var(--fill-color);\n",
              "    }\n",
              "    20% {\n",
              "      border-color: transparent;\n",
              "      border-left-color: var(--fill-color);\n",
              "      border-top-color: var(--fill-color);\n",
              "    }\n",
              "    30% {\n",
              "      border-color: transparent;\n",
              "      border-left-color: var(--fill-color);\n",
              "      border-top-color: var(--fill-color);\n",
              "      border-right-color: var(--fill-color);\n",
              "    }\n",
              "    40% {\n",
              "      border-color: transparent;\n",
              "      border-right-color: var(--fill-color);\n",
              "      border-top-color: var(--fill-color);\n",
              "    }\n",
              "    60% {\n",
              "      border-color: transparent;\n",
              "      border-right-color: var(--fill-color);\n",
              "    }\n",
              "    80% {\n",
              "      border-color: transparent;\n",
              "      border-right-color: var(--fill-color);\n",
              "      border-bottom-color: var(--fill-color);\n",
              "    }\n",
              "    90% {\n",
              "      border-color: transparent;\n",
              "      border-bottom-color: var(--fill-color);\n",
              "    }\n",
              "  }\n",
              "</style>\n",
              "\n",
              "  <script>\n",
              "    async function quickchart(key) {\n",
              "      const quickchartButtonEl =\n",
              "        document.querySelector('#' + key + ' button');\n",
              "      quickchartButtonEl.disabled = true;  // To prevent multiple clicks.\n",
              "      quickchartButtonEl.classList.add('colab-df-spinner');\n",
              "      try {\n",
              "        const charts = await google.colab.kernel.invokeFunction(\n",
              "            'suggestCharts', [key], {});\n",
              "      } catch (error) {\n",
              "        console.error('Error during call to suggestCharts:', error);\n",
              "      }\n",
              "      quickchartButtonEl.classList.remove('colab-df-spinner');\n",
              "      quickchartButtonEl.classList.add('colab-df-quickchart-complete');\n",
              "    }\n",
              "    (() => {\n",
              "      let quickchartButtonEl =\n",
              "        document.querySelector('#df-d8422f76-c305-4e5c-ac93-2a14a3bbdefe button');\n",
              "      quickchartButtonEl.style.display =\n",
              "        google.colab.kernel.accessAllowed ? 'block' : 'none';\n",
              "    })();\n",
              "  </script>\n",
              "</div>\n",
              "\n",
              "  <div id=\"id_ed5804b4-1392-4e47-99e6-5d56a0442c00\">\n",
              "    <style>\n",
              "      .colab-df-generate {\n",
              "        background-color: #E8F0FE;\n",
              "        border: none;\n",
              "        border-radius: 50%;\n",
              "        cursor: pointer;\n",
              "        display: none;\n",
              "        fill: #1967D2;\n",
              "        height: 32px;\n",
              "        padding: 0 0 0 0;\n",
              "        width: 32px;\n",
              "      }\n",
              "\n",
              "      .colab-df-generate:hover {\n",
              "        background-color: #E2EBFA;\n",
              "        box-shadow: 0px 1px 2px rgba(60, 64, 67, 0.3), 0px 1px 3px 1px rgba(60, 64, 67, 0.15);\n",
              "        fill: #174EA6;\n",
              "      }\n",
              "\n",
              "      [theme=dark] .colab-df-generate {\n",
              "        background-color: #3B4455;\n",
              "        fill: #D2E3FC;\n",
              "      }\n",
              "\n",
              "      [theme=dark] .colab-df-generate:hover {\n",
              "        background-color: #434B5C;\n",
              "        box-shadow: 0px 1px 3px 1px rgba(0, 0, 0, 0.15);\n",
              "        filter: drop-shadow(0px 1px 2px rgba(0, 0, 0, 0.3));\n",
              "        fill: #FFFFFF;\n",
              "      }\n",
              "    </style>\n",
              "    <button class=\"colab-df-generate\" onclick=\"generateWithVariable('original_train_df')\"\n",
              "            title=\"Generate code using this dataframe.\"\n",
              "            style=\"display:none;\">\n",
              "\n",
              "  <svg xmlns=\"http://www.w3.org/2000/svg\" height=\"24px\"viewBox=\"0 0 24 24\"\n",
              "       width=\"24px\">\n",
              "    <path d=\"M7,19H8.4L18.45,9,17,7.55,7,17.6ZM5,21V16.75L18.45,3.32a2,2,0,0,1,2.83,0l1.4,1.43a1.91,1.91,0,0,1,.58,1.4,1.91,1.91,0,0,1-.58,1.4L9.25,21ZM18.45,9,17,7.55Zm-12,3A5.31,5.31,0,0,0,4.9,8.1,5.31,5.31,0,0,0,1,6.5,5.31,5.31,0,0,0,4.9,4.9,5.31,5.31,0,0,0,6.5,1,5.31,5.31,0,0,0,8.1,4.9,5.31,5.31,0,0,0,12,6.5,5.46,5.46,0,0,0,6.5,12Z\"/>\n",
              "  </svg>\n",
              "    </button>\n",
              "    <script>\n",
              "      (() => {\n",
              "      const buttonEl =\n",
              "        document.querySelector('#id_ed5804b4-1392-4e47-99e6-5d56a0442c00 button.colab-df-generate');\n",
              "      buttonEl.style.display =\n",
              "        google.colab.kernel.accessAllowed ? 'block' : 'none';\n",
              "\n",
              "      buttonEl.onclick = () => {\n",
              "        google.colab.notebook.generateWithVariable('original_train_df');\n",
              "      }\n",
              "      })();\n",
              "    </script>\n",
              "  </div>\n",
              "\n",
              "    </div>\n",
              "  </div>\n"
            ],
            "application/vnd.google.colaboratory.intrinsic+json": {
              "type": "dataframe",
              "variable_name": "original_train_df",
              "summary": "{\n  \"name\": \"original_train_df\",\n  \"rows\": 2870,\n  \"fields\": [\n    {\n      \"column\": \"id_EXIST\",\n      \"properties\": {\n        \"dtype\": \"string\",\n        \"num_unique_values\": 2870,\n        \"samples\": [\n          \"200504\",\n          \"202694\",\n          \"200852\"\n        ],\n        \"semantic_type\": \"\",\n        \"description\": \"\"\n      }\n    },\n    {\n      \"column\": \"lang\",\n      \"properties\": {\n        \"dtype\": \"category\",\n        \"num_unique_values\": 1,\n        \"samples\": [\n          \"en\"\n        ],\n        \"semantic_type\": \"\",\n        \"description\": \"\"\n      }\n    },\n    {\n      \"column\": \"tweet\",\n      \"properties\": {\n        \"dtype\": \"string\",\n        \"num_unique_values\": 2870,\n        \"samples\": [\n          \"Call me sexist but it just feels wrong that women are reffing the NBA like go ref the WNBA\\ud83d\\ude2c\"\n        ],\n        \"semantic_type\": \"\",\n        \"description\": \"\"\n      }\n    },\n    {\n      \"column\": \"hard_label_task1\",\n      \"properties\": {\n        \"dtype\": \"number\",\n        \"std\": 0,\n        \"min\": 0,\n        \"max\": 1,\n        \"num_unique_values\": 2,\n        \"samples\": [\n          0\n        ],\n        \"semantic_type\": \"\",\n        \"description\": \"\"\n      }\n    }\n  ]\n}"
            }
          },
          "metadata": {},
          "execution_count": 4
        }
      ],
      "source": [
        "original_train_df = transform_df(original_train_df)\n",
        "original_validation_df = transform_df(original_validation_df)\n",
        "original_test_df = transform_df(original_test_df)\n",
        "original_train_df"
      ]
    },
    {
      "cell_type": "markdown",
      "metadata": {
        "collapsed": false,
        "id": "wevQMsUKlktO"
      },
      "source": [
        "# [Task2 - 0.5 points] Data Cleaning\n",
        "In the context of tweets, we have noisy and informal data that often includes unnecessary elements like emojis, hashtags, mentions, and URLs. These elements may interfere with the text analysis.\n"
      ]
    },
    {
      "cell_type": "markdown",
      "metadata": {
        "collapsed": false,
        "id": "WSQLx9lKlktO"
      },
      "source": [
        "\n",
        "### Instructions\n",
        "- **Remove emojis** from the tweets.\n",
        "- **Remove hashtags** (e.g., `#example`).\n",
        "- **Remove mentions** such as `@user`.\n",
        "- **Remove URLs** from the tweets.\n",
        "- **Remove special characters and symbols**.\n",
        "- **Remove specific quote characters** (e.g., curly quotes).\n",
        "- **Perform lemmatization** to reduce words to their base form."
      ]
    },
    {
      "cell_type": "code",
      "source": [
        "train_df = original_train_df.copy()\n",
        "validation_df = original_validation_df.copy()\n",
        "test_df = original_test_df.copy()"
      ],
      "metadata": {
        "id": "KVVn2iTSzXtZ"
      },
      "execution_count": null,
      "outputs": []
    },
    {
      "cell_type": "code",
      "source": [
        "nltk.download('punkt')\n",
        "nltk.download('punkt_tab')\n",
        "nltk.download('wordnet')\n",
        "nltk.download('stopwords')"
      ],
      "metadata": {
        "colab": {
          "base_uri": "https://localhost:8080/"
        },
        "id": "p7t9Elrmjl1z",
        "outputId": "71b8b3b9-c3a7-48e0-da34-a40ee528ab1e"
      },
      "execution_count": null,
      "outputs": [
        {
          "output_type": "stream",
          "name": "stderr",
          "text": [
            "[nltk_data] Downloading package punkt to /root/nltk_data...\n",
            "[nltk_data]   Unzipping tokenizers/punkt.zip.\n",
            "[nltk_data] Downloading package punkt_tab to /root/nltk_data...\n",
            "[nltk_data]   Unzipping tokenizers/punkt_tab.zip.\n",
            "[nltk_data] Downloading package wordnet to /root/nltk_data...\n",
            "[nltk_data] Downloading package stopwords to /root/nltk_data...\n",
            "[nltk_data]   Unzipping corpora/stopwords.zip.\n"
          ]
        },
        {
          "output_type": "execute_result",
          "data": {
            "text/plain": [
              "True"
            ]
          },
          "metadata": {},
          "execution_count": 6
        }
      ]
    },
    {
      "cell_type": "markdown",
      "source": [
        "### Perform Data Cleaning\n",
        " * Remove emojis\n",
        " * Remove hashtags\n",
        " * Remove mentions\n",
        " * Remove URLs\n",
        " * Remove special characters and symbols\n",
        " * Remove specific quote characters\n",
        " * Convert to lowercase\n",
        " * Tokenize the tweet\n",
        " * Remove stopwords\n",
        " * Lemmatize the word\n"
      ],
      "metadata": {
        "id": "uRvnjYgRkTEy"
      }
    },
    {
      "cell_type": "code",
      "execution_count": null,
      "metadata": {
        "id": "TMbneneslktO"
      },
      "outputs": [],
      "source": [
        "lemmatizer = WordNetLemmatizer()\n",
        "\n",
        "def clean_tweet(tweet):\n",
        "    tweet = re.sub(r'[^\\x00-\\x7F]+', '', tweet)\n",
        "    tweet = re.sub(r'#\\w+', '', tweet)\n",
        "    tweet = re.sub(r'@\\w+', '', tweet)\n",
        "    tweet = re.sub(r'http\\S+|www\\S+', '', tweet)\n",
        "    tweet = re.sub(r'[^a-zA-Z0-9\\s]', '', tweet)\n",
        "    tweet = tweet.replace('“', '').replace('”', '').replace('‘', '').replace('’', '')\n",
        "    tweet = tweet.lower()\n",
        "    words = word_tokenize(tweet)\n",
        "    stop_words = set(stopwords.words('english'))\n",
        "    words = [lemmatizer.lemmatize(word) for word in words if word not in stop_words]\n",
        "\n",
        "    cleaned_tweet = ' '.join(words)\n",
        "\n",
        "    return cleaned_tweet\n",
        "\n",
        "train_df['tweet'] = train_df['tweet'].apply(clean_tweet)\n",
        "validation_df['tweet'] = validation_df['tweet'].apply(clean_tweet)\n",
        "test_df['tweet'] = test_df['tweet'].apply(clean_tweet)"
      ]
    },
    {
      "cell_type": "code",
      "execution_count": null,
      "metadata": {
        "colab": {
          "base_uri": "https://localhost:8080/",
          "height": 206
        },
        "id": "mqLmJiyylxDu",
        "outputId": "5d016b64-85b4-4a70-86b9-1e0ec1ac821a"
      },
      "outputs": [
        {
          "output_type": "execute_result",
          "data": {
            "text/plain": [
              "       id_EXIST lang                                              tweet  \\\n",
              "200002   200002   en  writing uni essay local pub coffee random old ...   \n",
              "200003   200003   en  2021 1921 dont appreciate two ride team member...   \n",
              "200006   200006   en  according customer plenty time go spent stirli...   \n",
              "200007   200007   en  bloke drink beer sorry arent bloke drink wine ...   \n",
              "200008   200008   en        new shelf week looking forward reading book   \n",
              "\n",
              "        hard_label_task1  \n",
              "200002                 1  \n",
              "200003                 1  \n",
              "200006                 1  \n",
              "200007                 1  \n",
              "200008                 0  "
            ],
            "text/html": [
              "\n",
              "  <div id=\"df-425b9d69-d6b1-4933-94ed-0c15e7681646\" class=\"colab-df-container\">\n",
              "    <div>\n",
              "<style scoped>\n",
              "    .dataframe tbody tr th:only-of-type {\n",
              "        vertical-align: middle;\n",
              "    }\n",
              "\n",
              "    .dataframe tbody tr th {\n",
              "        vertical-align: top;\n",
              "    }\n",
              "\n",
              "    .dataframe thead th {\n",
              "        text-align: right;\n",
              "    }\n",
              "</style>\n",
              "<table border=\"1\" class=\"dataframe\">\n",
              "  <thead>\n",
              "    <tr style=\"text-align: right;\">\n",
              "      <th></th>\n",
              "      <th>id_EXIST</th>\n",
              "      <th>lang</th>\n",
              "      <th>tweet</th>\n",
              "      <th>hard_label_task1</th>\n",
              "    </tr>\n",
              "  </thead>\n",
              "  <tbody>\n",
              "    <tr>\n",
              "      <th>200002</th>\n",
              "      <td>200002</td>\n",
              "      <td>en</td>\n",
              "      <td>writing uni essay local pub coffee random old ...</td>\n",
              "      <td>1</td>\n",
              "    </tr>\n",
              "    <tr>\n",
              "      <th>200003</th>\n",
              "      <td>200003</td>\n",
              "      <td>en</td>\n",
              "      <td>2021 1921 dont appreciate two ride team member...</td>\n",
              "      <td>1</td>\n",
              "    </tr>\n",
              "    <tr>\n",
              "      <th>200006</th>\n",
              "      <td>200006</td>\n",
              "      <td>en</td>\n",
              "      <td>according customer plenty time go spent stirli...</td>\n",
              "      <td>1</td>\n",
              "    </tr>\n",
              "    <tr>\n",
              "      <th>200007</th>\n",
              "      <td>200007</td>\n",
              "      <td>en</td>\n",
              "      <td>bloke drink beer sorry arent bloke drink wine ...</td>\n",
              "      <td>1</td>\n",
              "    </tr>\n",
              "    <tr>\n",
              "      <th>200008</th>\n",
              "      <td>200008</td>\n",
              "      <td>en</td>\n",
              "      <td>new shelf week looking forward reading book</td>\n",
              "      <td>0</td>\n",
              "    </tr>\n",
              "  </tbody>\n",
              "</table>\n",
              "</div>\n",
              "    <div class=\"colab-df-buttons\">\n",
              "\n",
              "  <div class=\"colab-df-container\">\n",
              "    <button class=\"colab-df-convert\" onclick=\"convertToInteractive('df-425b9d69-d6b1-4933-94ed-0c15e7681646')\"\n",
              "            title=\"Convert this dataframe to an interactive table.\"\n",
              "            style=\"display:none;\">\n",
              "\n",
              "  <svg xmlns=\"http://www.w3.org/2000/svg\" height=\"24px\" viewBox=\"0 -960 960 960\">\n",
              "    <path d=\"M120-120v-720h720v720H120Zm60-500h600v-160H180v160Zm220 220h160v-160H400v160Zm0 220h160v-160H400v160ZM180-400h160v-160H180v160Zm440 0h160v-160H620v160ZM180-180h160v-160H180v160Zm440 0h160v-160H620v160Z\"/>\n",
              "  </svg>\n",
              "    </button>\n",
              "\n",
              "  <style>\n",
              "    .colab-df-container {\n",
              "      display:flex;\n",
              "      gap: 12px;\n",
              "    }\n",
              "\n",
              "    .colab-df-convert {\n",
              "      background-color: #E8F0FE;\n",
              "      border: none;\n",
              "      border-radius: 50%;\n",
              "      cursor: pointer;\n",
              "      display: none;\n",
              "      fill: #1967D2;\n",
              "      height: 32px;\n",
              "      padding: 0 0 0 0;\n",
              "      width: 32px;\n",
              "    }\n",
              "\n",
              "    .colab-df-convert:hover {\n",
              "      background-color: #E2EBFA;\n",
              "      box-shadow: 0px 1px 2px rgba(60, 64, 67, 0.3), 0px 1px 3px 1px rgba(60, 64, 67, 0.15);\n",
              "      fill: #174EA6;\n",
              "    }\n",
              "\n",
              "    .colab-df-buttons div {\n",
              "      margin-bottom: 4px;\n",
              "    }\n",
              "\n",
              "    [theme=dark] .colab-df-convert {\n",
              "      background-color: #3B4455;\n",
              "      fill: #D2E3FC;\n",
              "    }\n",
              "\n",
              "    [theme=dark] .colab-df-convert:hover {\n",
              "      background-color: #434B5C;\n",
              "      box-shadow: 0px 1px 3px 1px rgba(0, 0, 0, 0.15);\n",
              "      filter: drop-shadow(0px 1px 2px rgba(0, 0, 0, 0.3));\n",
              "      fill: #FFFFFF;\n",
              "    }\n",
              "  </style>\n",
              "\n",
              "    <script>\n",
              "      const buttonEl =\n",
              "        document.querySelector('#df-425b9d69-d6b1-4933-94ed-0c15e7681646 button.colab-df-convert');\n",
              "      buttonEl.style.display =\n",
              "        google.colab.kernel.accessAllowed ? 'block' : 'none';\n",
              "\n",
              "      async function convertToInteractive(key) {\n",
              "        const element = document.querySelector('#df-425b9d69-d6b1-4933-94ed-0c15e7681646');\n",
              "        const dataTable =\n",
              "          await google.colab.kernel.invokeFunction('convertToInteractive',\n",
              "                                                    [key], {});\n",
              "        if (!dataTable) return;\n",
              "\n",
              "        const docLinkHtml = 'Like what you see? Visit the ' +\n",
              "          '<a target=\"_blank\" href=https://colab.research.google.com/notebooks/data_table.ipynb>data table notebook</a>'\n",
              "          + ' to learn more about interactive tables.';\n",
              "        element.innerHTML = '';\n",
              "        dataTable['output_type'] = 'display_data';\n",
              "        await google.colab.output.renderOutput(dataTable, element);\n",
              "        const docLink = document.createElement('div');\n",
              "        docLink.innerHTML = docLinkHtml;\n",
              "        element.appendChild(docLink);\n",
              "      }\n",
              "    </script>\n",
              "  </div>\n",
              "\n",
              "\n",
              "<div id=\"df-4e405a07-3c99-47f2-8de4-dfbaf535641f\">\n",
              "  <button class=\"colab-df-quickchart\" onclick=\"quickchart('df-4e405a07-3c99-47f2-8de4-dfbaf535641f')\"\n",
              "            title=\"Suggest charts\"\n",
              "            style=\"display:none;\">\n",
              "\n",
              "<svg xmlns=\"http://www.w3.org/2000/svg\" height=\"24px\"viewBox=\"0 0 24 24\"\n",
              "     width=\"24px\">\n",
              "    <g>\n",
              "        <path d=\"M19 3H5c-1.1 0-2 .9-2 2v14c0 1.1.9 2 2 2h14c1.1 0 2-.9 2-2V5c0-1.1-.9-2-2-2zM9 17H7v-7h2v7zm4 0h-2V7h2v10zm4 0h-2v-4h2v4z\"/>\n",
              "    </g>\n",
              "</svg>\n",
              "  </button>\n",
              "\n",
              "<style>\n",
              "  .colab-df-quickchart {\n",
              "      --bg-color: #E8F0FE;\n",
              "      --fill-color: #1967D2;\n",
              "      --hover-bg-color: #E2EBFA;\n",
              "      --hover-fill-color: #174EA6;\n",
              "      --disabled-fill-color: #AAA;\n",
              "      --disabled-bg-color: #DDD;\n",
              "  }\n",
              "\n",
              "  [theme=dark] .colab-df-quickchart {\n",
              "      --bg-color: #3B4455;\n",
              "      --fill-color: #D2E3FC;\n",
              "      --hover-bg-color: #434B5C;\n",
              "      --hover-fill-color: #FFFFFF;\n",
              "      --disabled-bg-color: #3B4455;\n",
              "      --disabled-fill-color: #666;\n",
              "  }\n",
              "\n",
              "  .colab-df-quickchart {\n",
              "    background-color: var(--bg-color);\n",
              "    border: none;\n",
              "    border-radius: 50%;\n",
              "    cursor: pointer;\n",
              "    display: none;\n",
              "    fill: var(--fill-color);\n",
              "    height: 32px;\n",
              "    padding: 0;\n",
              "    width: 32px;\n",
              "  }\n",
              "\n",
              "  .colab-df-quickchart:hover {\n",
              "    background-color: var(--hover-bg-color);\n",
              "    box-shadow: 0 1px 2px rgba(60, 64, 67, 0.3), 0 1px 3px 1px rgba(60, 64, 67, 0.15);\n",
              "    fill: var(--button-hover-fill-color);\n",
              "  }\n",
              "\n",
              "  .colab-df-quickchart-complete:disabled,\n",
              "  .colab-df-quickchart-complete:disabled:hover {\n",
              "    background-color: var(--disabled-bg-color);\n",
              "    fill: var(--disabled-fill-color);\n",
              "    box-shadow: none;\n",
              "  }\n",
              "\n",
              "  .colab-df-spinner {\n",
              "    border: 2px solid var(--fill-color);\n",
              "    border-color: transparent;\n",
              "    border-bottom-color: var(--fill-color);\n",
              "    animation:\n",
              "      spin 1s steps(1) infinite;\n",
              "  }\n",
              "\n",
              "  @keyframes spin {\n",
              "    0% {\n",
              "      border-color: transparent;\n",
              "      border-bottom-color: var(--fill-color);\n",
              "      border-left-color: var(--fill-color);\n",
              "    }\n",
              "    20% {\n",
              "      border-color: transparent;\n",
              "      border-left-color: var(--fill-color);\n",
              "      border-top-color: var(--fill-color);\n",
              "    }\n",
              "    30% {\n",
              "      border-color: transparent;\n",
              "      border-left-color: var(--fill-color);\n",
              "      border-top-color: var(--fill-color);\n",
              "      border-right-color: var(--fill-color);\n",
              "    }\n",
              "    40% {\n",
              "      border-color: transparent;\n",
              "      border-right-color: var(--fill-color);\n",
              "      border-top-color: var(--fill-color);\n",
              "    }\n",
              "    60% {\n",
              "      border-color: transparent;\n",
              "      border-right-color: var(--fill-color);\n",
              "    }\n",
              "    80% {\n",
              "      border-color: transparent;\n",
              "      border-right-color: var(--fill-color);\n",
              "      border-bottom-color: var(--fill-color);\n",
              "    }\n",
              "    90% {\n",
              "      border-color: transparent;\n",
              "      border-bottom-color: var(--fill-color);\n",
              "    }\n",
              "  }\n",
              "</style>\n",
              "\n",
              "  <script>\n",
              "    async function quickchart(key) {\n",
              "      const quickchartButtonEl =\n",
              "        document.querySelector('#' + key + ' button');\n",
              "      quickchartButtonEl.disabled = true;  // To prevent multiple clicks.\n",
              "      quickchartButtonEl.classList.add('colab-df-spinner');\n",
              "      try {\n",
              "        const charts = await google.colab.kernel.invokeFunction(\n",
              "            'suggestCharts', [key], {});\n",
              "      } catch (error) {\n",
              "        console.error('Error during call to suggestCharts:', error);\n",
              "      }\n",
              "      quickchartButtonEl.classList.remove('colab-df-spinner');\n",
              "      quickchartButtonEl.classList.add('colab-df-quickchart-complete');\n",
              "    }\n",
              "    (() => {\n",
              "      let quickchartButtonEl =\n",
              "        document.querySelector('#df-4e405a07-3c99-47f2-8de4-dfbaf535641f button');\n",
              "      quickchartButtonEl.style.display =\n",
              "        google.colab.kernel.accessAllowed ? 'block' : 'none';\n",
              "    })();\n",
              "  </script>\n",
              "</div>\n",
              "\n",
              "    </div>\n",
              "  </div>\n"
            ],
            "application/vnd.google.colaboratory.intrinsic+json": {
              "type": "dataframe",
              "variable_name": "train_df",
              "summary": "{\n  \"name\": \"train_df\",\n  \"rows\": 2870,\n  \"fields\": [\n    {\n      \"column\": \"id_EXIST\",\n      \"properties\": {\n        \"dtype\": \"string\",\n        \"num_unique_values\": 2870,\n        \"samples\": [\n          \"200504\",\n          \"202694\",\n          \"200852\"\n        ],\n        \"semantic_type\": \"\",\n        \"description\": \"\"\n      }\n    },\n    {\n      \"column\": \"lang\",\n      \"properties\": {\n        \"dtype\": \"category\",\n        \"num_unique_values\": 1,\n        \"samples\": [\n          \"en\"\n        ],\n        \"semantic_type\": \"\",\n        \"description\": \"\"\n      }\n    },\n    {\n      \"column\": \"tweet\",\n      \"properties\": {\n        \"dtype\": \"string\",\n        \"num_unique_values\": 2867,\n        \"samples\": [\n          \"call sexist feel wrong woman reffing nba like go ref wnba\"\n        ],\n        \"semantic_type\": \"\",\n        \"description\": \"\"\n      }\n    },\n    {\n      \"column\": \"hard_label_task1\",\n      \"properties\": {\n        \"dtype\": \"number\",\n        \"std\": 0,\n        \"min\": 0,\n        \"max\": 1,\n        \"num_unique_values\": 2,\n        \"samples\": [\n          0\n        ],\n        \"semantic_type\": \"\",\n        \"description\": \"\"\n      }\n    }\n  ]\n}"
            }
          },
          "metadata": {},
          "execution_count": 8
        }
      ],
      "source": [
        "train_df.head()"
      ]
    },
    {
      "cell_type": "markdown",
      "metadata": {
        "id": "s3KylLHNl0bE"
      },
      "source": [
        "# [Task 3 - 0.5 points] Text Encoding\n",
        "To train a neural sexism classifier, you first need to encode text into numerical format.\n",
        "\n",
        "\n"
      ]
    },
    {
      "cell_type": "markdown",
      "metadata": {
        "id": "hr1lTHUVOXff"
      },
      "source": [
        "### Instructions\n",
        "\n",
        "* Embed words using **GloVe embeddings**.\n",
        "* You are **free** to pick any embedding dimension.\n",
        "\n",
        "\n",
        "\n"
      ]
    },
    {
      "cell_type": "markdown",
      "metadata": {
        "id": "r6NNMEjWOZQr"
      },
      "source": [
        "### Note : What about OOV tokens?\n",
        "   * All the tokens in the **training** set that are not in GloVe **must** be added to the vocabulary.\n",
        "   * For the remaining tokens (i.e., OOV in the validation and test sets), you have to assign them a **special token** (e.g., [UNK]) and a **static** embedding.\n",
        "   * You are **free** to define the static embedding using any strategy (e.g., random, neighbourhood, etc...)\n",
        "\n"
      ]
    },
    {
      "cell_type": "markdown",
      "metadata": {
        "id": "90UztlGUObXk"
      },
      "source": [
        "### More about OOV\n",
        "\n",
        "For a given token:\n",
        "\n",
        "* **If in train set**: add to vocabulary and assign an embedding (use GloVe if token in GloVe, custom embedding otherwise).\n",
        "* **If in val/test set**: assign special token if not in vocabulary and assign custom embedding.\n",
        "\n",
        "Your vocabulary **should**:\n",
        "\n",
        "* Contain all tokens in train set; or\n",
        "* Union of tokens in train set and in GloVe $\\rightarrow$ we make use of existing knowledge!"
      ]
    },
    {
      "cell_type": "code",
      "execution_count": null,
      "metadata": {
        "colab": {
          "base_uri": "https://localhost:8080/"
        },
        "id": "1VLqSp6Burjp",
        "outputId": "b705379f-c743-423f-aac2-fc02097de693"
      },
      "outputs": [
        {
          "output_type": "stream",
          "name": "stdout",
          "text": [
            "Downloading GloVe embeddings...\n"
          ]
        },
        {
          "output_type": "stream",
          "name": "stderr",
          "text": [
            "Downloading: 100%|██████████| 822M/822M [02:41<00:00, 5.35MB/s]\n"
          ]
        },
        {
          "output_type": "stream",
          "name": "stdout",
          "text": [
            "Extracting GloVe embeddings...\n",
            "Download and extraction complete.\n",
            "Loaded GloVe embeddings with dimension: 100\n"
          ]
        }
      ],
      "source": [
        "# Function to download GloVe embeddings with a progress bar\n",
        "def download_glove_embeddings(glove_url, save_path='glove.zip', extract_path='glove'):\n",
        "    if not os.path.exists(extract_path):  # Only download if not already downloaded\n",
        "        print(\"Downloading GloVe embeddings...\")\n",
        "\n",
        "        # Stream the download with a progress bar\n",
        "        response = requests.get(glove_url, stream=True)\n",
        "        total_size = int(response.headers.get('content-length', 0))\n",
        "\n",
        "        with open(save_path, 'wb') as f, tqdm(\n",
        "            desc=\"Downloading\",\n",
        "            total=total_size,\n",
        "            unit='B',\n",
        "            unit_scale=True,\n",
        "            unit_divisor=1024,\n",
        "        ) as bar:\n",
        "            for data in response.iter_content(chunk_size=1024):\n",
        "                f.write(data)\n",
        "                bar.update(len(data))\n",
        "\n",
        "        # Extract the zip file\n",
        "        print(\"Extracting GloVe embeddings...\")\n",
        "        with zipfile.ZipFile(save_path, 'r') as zip_ref:\n",
        "            zip_ref.extractall(extract_path)\n",
        "\n",
        "        # Clean up by removing the zip file\n",
        "        os.remove(save_path)\n",
        "        print(\"Download and extraction complete.\")\n",
        "    else:\n",
        "        print(\"GloVe embeddings already downloaded.\")\n",
        "\n",
        "\n",
        "# Load the GloVe embeddings from the extracted file\n",
        "def load_glove_embeddings(filepath, embedding_dim=100):\n",
        "    embeddings = {}\n",
        "    with open(filepath, 'r', encoding=\"utf-8\") as f:\n",
        "        for line in f:\n",
        "            values = line.split()\n",
        "            word = values[0]\n",
        "            vector = np.asarray(values[1:], dtype='float32')\n",
        "            embeddings[word] = vector\n",
        "    return embeddings\n",
        "\n",
        "\n",
        "# Define the GloVe URL and download path\n",
        "glove_url = \"http://nlp.stanford.edu/data/glove.6B.zip\"  # 6B is the 400K word vocab, various embedding dim\n",
        "download_path = 'glove.6B.zip'\n",
        "extract_path = 'glove'\n",
        "\n",
        "# Download and extract GloVe embeddings\n",
        "download_glove_embeddings(glove_url, download_path, extract_path)\n",
        "\n",
        "# Specify the embedding dimension and file, choose dim from 50,100,200,300\n",
        "embedding_dim = 100\n",
        "glove_filepath = os.path.join(extract_path, f'glove.6B.{embedding_dim}d.txt')\n",
        "\n",
        "# Load embeddings\n",
        "glove_embeddings = load_glove_embeddings(glove_filepath, embedding_dim)\n",
        "print(\"Loaded GloVe embeddings with dimension:\", embedding_dim)\n"
      ]
    },
    {
      "cell_type": "code",
      "execution_count": null,
      "metadata": {
        "colab": {
          "base_uri": "https://localhost:8080/"
        },
        "id": "6qsodZNQE1KI",
        "outputId": "6ae7f560-6064-4365-c6e1-e1511946d51e"
      },
      "outputs": [
        {
          "output_type": "stream",
          "name": "stdout",
          "text": [
            "Max lenght found: 36\n",
            "['writing', 'uni', 'essay', 'local', 'pub', 'coffee', 'random', 'old', 'man', 'keep', 'asking', 'drunk', 'question', 'im', 'trying', 'concentrate', 'amp', 'end', 'good', 'luck', 'youll', 'end', 'getting', 'married', 'use', 'anyway', 'alive', 'well', '<PAD>', '<PAD>', '<PAD>', '<PAD>', '<PAD>', '<PAD>', '<PAD>', '<PAD>']\n"
          ]
        }
      ],
      "source": [
        "def find_series_max_len(series_list):\n",
        "    # Concatenate all Series into a single Series\n",
        "    all_text = pd.concat(series_list, ignore_index=True)\n",
        "    word_count = all_text.apply(lambda x: len(str(x).split()))\n",
        "    max_word_count = word_count.max()\n",
        "    return max_word_count\n",
        "\n",
        "\n",
        "def pad_text_column(df, column_name, max_len, pad_token=\"<PAD>\"):\n",
        "    # Apply padding\n",
        "    df['padded_' + column_name] = df[column_name].apply(lambda x: x if isinstance(x, list) else x.split())  # Tokenize if not already\n",
        "    df['padded_' + column_name] = df['padded_' + column_name].apply(\n",
        "        lambda x: x[:max_len] + [pad_token] * (max_len - len(x)) if len(x) < max_len else x[:max_len]\n",
        "    )\n",
        "\n",
        "    return df\n",
        "\n",
        "MAX_LEN = find_series_max_len([train_df['tweet'], validation_df['tweet'], test_df['tweet']])\n",
        "print(f\"Max lenght found: {MAX_LEN}\")\n",
        "\n",
        "train_df = pad_text_column(train_df, 'tweet', MAX_LEN)\n",
        "validation_df = pad_text_column(validation_df, 'tweet', MAX_LEN)\n",
        "test_df = pad_text_column(test_df, 'tweet', MAX_LEN)\n",
        "\n",
        "print(train_df['padded_tweet'].iloc[0])"
      ]
    },
    {
      "cell_type": "code",
      "execution_count": null,
      "metadata": {
        "id": "0BQRxBLMKsIl"
      },
      "outputs": [],
      "source": [
        "# Tokenize tweets and build vocabulary\n",
        "def build_vocab_and_embeddings(data, embeddings_index, embedding_dim):\n",
        "    vocab = {}\n",
        "    word_embeddings = []\n",
        "    for tweet in data['padded_tweet']:\n",
        "        for token in tweet:\n",
        "            if token not in vocab:\n",
        "                if token in embeddings_index:\n",
        "                    # Use GloVe embedding\n",
        "                    vocab[token] = len(vocab)\n",
        "                    word_embeddings.append(embeddings_index[token])\n",
        "                else:\n",
        "                    # Generate a random embedding for OOV tokens in the training set\n",
        "                    vocab[token] = len(vocab)\n",
        "                    word_embeddings.append(np.random.uniform(-0.1, 0.1, embedding_dim))\n",
        "    return vocab, word_embeddings\n",
        "\n",
        "# Build vocabulary and embeddings for the training set\n",
        "vocab, word_embeddings = build_vocab_and_embeddings(train_df, glove_embeddings, embedding_dim)"
      ]
    },
    {
      "cell_type": "code",
      "execution_count": null,
      "metadata": {
        "id": "r1OsvOYxLxoT"
      },
      "outputs": [],
      "source": [
        "unk_token = '[UNK]'\n",
        "vocab[unk_token] = len(vocab)\n",
        "\n",
        "# Custom embedding for '[UNK]', mean of GloVe embeddings\n",
        "unk_embedding = np.mean(word_embeddings, axis=0)\n",
        "word_embeddings = np.vstack([word_embeddings, unk_embedding])"
      ]
    },
    {
      "cell_type": "code",
      "execution_count": null,
      "metadata": {
        "colab": {
          "base_uri": "https://localhost:8080/",
          "height": 206
        },
        "id": "ceDEh72NNfEd",
        "outputId": "6084c066-77ab-40ef-e8fd-4dee7a182092"
      },
      "outputs": [
        {
          "output_type": "execute_result",
          "data": {
            "text/plain": [
              "       id_EXIST lang                                              tweet  \\\n",
              "200002   200002   en  writing uni essay local pub coffee random old ...   \n",
              "200003   200003   en  2021 1921 dont appreciate two ride team member...   \n",
              "200006   200006   en  according customer plenty time go spent stirli...   \n",
              "200007   200007   en  bloke drink beer sorry arent bloke drink wine ...   \n",
              "200008   200008   en        new shelf week looking forward reading book   \n",
              "\n",
              "        hard_label_task1                                       padded_tweet  \n",
              "200002                 1  [[0.17459000647068024, 0.2806999981403351, -0....  \n",
              "200003                 1  [[0.4375700056552887, 0.5958300232887268, 0.52...  \n",
              "200006                 1  [[-0.06825800240039825, -0.04764899984002113, ...  \n",
              "200007                 1  [[0.1125900000333786, 0.4171999990940094, 0.62...  \n",
              "200008                 0  [[-0.04395899921655655, 0.18935999274253845, 0...  "
            ],
            "text/html": [
              "\n",
              "  <div id=\"df-f18b110c-699f-4b8c-a43e-305c40938b8e\" class=\"colab-df-container\">\n",
              "    <div>\n",
              "<style scoped>\n",
              "    .dataframe tbody tr th:only-of-type {\n",
              "        vertical-align: middle;\n",
              "    }\n",
              "\n",
              "    .dataframe tbody tr th {\n",
              "        vertical-align: top;\n",
              "    }\n",
              "\n",
              "    .dataframe thead th {\n",
              "        text-align: right;\n",
              "    }\n",
              "</style>\n",
              "<table border=\"1\" class=\"dataframe\">\n",
              "  <thead>\n",
              "    <tr style=\"text-align: right;\">\n",
              "      <th></th>\n",
              "      <th>id_EXIST</th>\n",
              "      <th>lang</th>\n",
              "      <th>tweet</th>\n",
              "      <th>hard_label_task1</th>\n",
              "      <th>padded_tweet</th>\n",
              "    </tr>\n",
              "  </thead>\n",
              "  <tbody>\n",
              "    <tr>\n",
              "      <th>200002</th>\n",
              "      <td>200002</td>\n",
              "      <td>en</td>\n",
              "      <td>writing uni essay local pub coffee random old ...</td>\n",
              "      <td>1</td>\n",
              "      <td>[[0.17459000647068024, 0.2806999981403351, -0....</td>\n",
              "    </tr>\n",
              "    <tr>\n",
              "      <th>200003</th>\n",
              "      <td>200003</td>\n",
              "      <td>en</td>\n",
              "      <td>2021 1921 dont appreciate two ride team member...</td>\n",
              "      <td>1</td>\n",
              "      <td>[[0.4375700056552887, 0.5958300232887268, 0.52...</td>\n",
              "    </tr>\n",
              "    <tr>\n",
              "      <th>200006</th>\n",
              "      <td>200006</td>\n",
              "      <td>en</td>\n",
              "      <td>according customer plenty time go spent stirli...</td>\n",
              "      <td>1</td>\n",
              "      <td>[[-0.06825800240039825, -0.04764899984002113, ...</td>\n",
              "    </tr>\n",
              "    <tr>\n",
              "      <th>200007</th>\n",
              "      <td>200007</td>\n",
              "      <td>en</td>\n",
              "      <td>bloke drink beer sorry arent bloke drink wine ...</td>\n",
              "      <td>1</td>\n",
              "      <td>[[0.1125900000333786, 0.4171999990940094, 0.62...</td>\n",
              "    </tr>\n",
              "    <tr>\n",
              "      <th>200008</th>\n",
              "      <td>200008</td>\n",
              "      <td>en</td>\n",
              "      <td>new shelf week looking forward reading book</td>\n",
              "      <td>0</td>\n",
              "      <td>[[-0.04395899921655655, 0.18935999274253845, 0...</td>\n",
              "    </tr>\n",
              "  </tbody>\n",
              "</table>\n",
              "</div>\n",
              "    <div class=\"colab-df-buttons\">\n",
              "\n",
              "  <div class=\"colab-df-container\">\n",
              "    <button class=\"colab-df-convert\" onclick=\"convertToInteractive('df-f18b110c-699f-4b8c-a43e-305c40938b8e')\"\n",
              "            title=\"Convert this dataframe to an interactive table.\"\n",
              "            style=\"display:none;\">\n",
              "\n",
              "  <svg xmlns=\"http://www.w3.org/2000/svg\" height=\"24px\" viewBox=\"0 -960 960 960\">\n",
              "    <path d=\"M120-120v-720h720v720H120Zm60-500h600v-160H180v160Zm220 220h160v-160H400v160Zm0 220h160v-160H400v160ZM180-400h160v-160H180v160Zm440 0h160v-160H620v160ZM180-180h160v-160H180v160Zm440 0h160v-160H620v160Z\"/>\n",
              "  </svg>\n",
              "    </button>\n",
              "\n",
              "  <style>\n",
              "    .colab-df-container {\n",
              "      display:flex;\n",
              "      gap: 12px;\n",
              "    }\n",
              "\n",
              "    .colab-df-convert {\n",
              "      background-color: #E8F0FE;\n",
              "      border: none;\n",
              "      border-radius: 50%;\n",
              "      cursor: pointer;\n",
              "      display: none;\n",
              "      fill: #1967D2;\n",
              "      height: 32px;\n",
              "      padding: 0 0 0 0;\n",
              "      width: 32px;\n",
              "    }\n",
              "\n",
              "    .colab-df-convert:hover {\n",
              "      background-color: #E2EBFA;\n",
              "      box-shadow: 0px 1px 2px rgba(60, 64, 67, 0.3), 0px 1px 3px 1px rgba(60, 64, 67, 0.15);\n",
              "      fill: #174EA6;\n",
              "    }\n",
              "\n",
              "    .colab-df-buttons div {\n",
              "      margin-bottom: 4px;\n",
              "    }\n",
              "\n",
              "    [theme=dark] .colab-df-convert {\n",
              "      background-color: #3B4455;\n",
              "      fill: #D2E3FC;\n",
              "    }\n",
              "\n",
              "    [theme=dark] .colab-df-convert:hover {\n",
              "      background-color: #434B5C;\n",
              "      box-shadow: 0px 1px 3px 1px rgba(0, 0, 0, 0.15);\n",
              "      filter: drop-shadow(0px 1px 2px rgba(0, 0, 0, 0.3));\n",
              "      fill: #FFFFFF;\n",
              "    }\n",
              "  </style>\n",
              "\n",
              "    <script>\n",
              "      const buttonEl =\n",
              "        document.querySelector('#df-f18b110c-699f-4b8c-a43e-305c40938b8e button.colab-df-convert');\n",
              "      buttonEl.style.display =\n",
              "        google.colab.kernel.accessAllowed ? 'block' : 'none';\n",
              "\n",
              "      async function convertToInteractive(key) {\n",
              "        const element = document.querySelector('#df-f18b110c-699f-4b8c-a43e-305c40938b8e');\n",
              "        const dataTable =\n",
              "          await google.colab.kernel.invokeFunction('convertToInteractive',\n",
              "                                                    [key], {});\n",
              "        if (!dataTable) return;\n",
              "\n",
              "        const docLinkHtml = 'Like what you see? Visit the ' +\n",
              "          '<a target=\"_blank\" href=https://colab.research.google.com/notebooks/data_table.ipynb>data table notebook</a>'\n",
              "          + ' to learn more about interactive tables.';\n",
              "        element.innerHTML = '';\n",
              "        dataTable['output_type'] = 'display_data';\n",
              "        await google.colab.output.renderOutput(dataTable, element);\n",
              "        const docLink = document.createElement('div');\n",
              "        docLink.innerHTML = docLinkHtml;\n",
              "        element.appendChild(docLink);\n",
              "      }\n",
              "    </script>\n",
              "  </div>\n",
              "\n",
              "\n",
              "<div id=\"df-7cae1465-9fab-4d1e-912e-0cdb3696436e\">\n",
              "  <button class=\"colab-df-quickchart\" onclick=\"quickchart('df-7cae1465-9fab-4d1e-912e-0cdb3696436e')\"\n",
              "            title=\"Suggest charts\"\n",
              "            style=\"display:none;\">\n",
              "\n",
              "<svg xmlns=\"http://www.w3.org/2000/svg\" height=\"24px\"viewBox=\"0 0 24 24\"\n",
              "     width=\"24px\">\n",
              "    <g>\n",
              "        <path d=\"M19 3H5c-1.1 0-2 .9-2 2v14c0 1.1.9 2 2 2h14c1.1 0 2-.9 2-2V5c0-1.1-.9-2-2-2zM9 17H7v-7h2v7zm4 0h-2V7h2v10zm4 0h-2v-4h2v4z\"/>\n",
              "    </g>\n",
              "</svg>\n",
              "  </button>\n",
              "\n",
              "<style>\n",
              "  .colab-df-quickchart {\n",
              "      --bg-color: #E8F0FE;\n",
              "      --fill-color: #1967D2;\n",
              "      --hover-bg-color: #E2EBFA;\n",
              "      --hover-fill-color: #174EA6;\n",
              "      --disabled-fill-color: #AAA;\n",
              "      --disabled-bg-color: #DDD;\n",
              "  }\n",
              "\n",
              "  [theme=dark] .colab-df-quickchart {\n",
              "      --bg-color: #3B4455;\n",
              "      --fill-color: #D2E3FC;\n",
              "      --hover-bg-color: #434B5C;\n",
              "      --hover-fill-color: #FFFFFF;\n",
              "      --disabled-bg-color: #3B4455;\n",
              "      --disabled-fill-color: #666;\n",
              "  }\n",
              "\n",
              "  .colab-df-quickchart {\n",
              "    background-color: var(--bg-color);\n",
              "    border: none;\n",
              "    border-radius: 50%;\n",
              "    cursor: pointer;\n",
              "    display: none;\n",
              "    fill: var(--fill-color);\n",
              "    height: 32px;\n",
              "    padding: 0;\n",
              "    width: 32px;\n",
              "  }\n",
              "\n",
              "  .colab-df-quickchart:hover {\n",
              "    background-color: var(--hover-bg-color);\n",
              "    box-shadow: 0 1px 2px rgba(60, 64, 67, 0.3), 0 1px 3px 1px rgba(60, 64, 67, 0.15);\n",
              "    fill: var(--button-hover-fill-color);\n",
              "  }\n",
              "\n",
              "  .colab-df-quickchart-complete:disabled,\n",
              "  .colab-df-quickchart-complete:disabled:hover {\n",
              "    background-color: var(--disabled-bg-color);\n",
              "    fill: var(--disabled-fill-color);\n",
              "    box-shadow: none;\n",
              "  }\n",
              "\n",
              "  .colab-df-spinner {\n",
              "    border: 2px solid var(--fill-color);\n",
              "    border-color: transparent;\n",
              "    border-bottom-color: var(--fill-color);\n",
              "    animation:\n",
              "      spin 1s steps(1) infinite;\n",
              "  }\n",
              "\n",
              "  @keyframes spin {\n",
              "    0% {\n",
              "      border-color: transparent;\n",
              "      border-bottom-color: var(--fill-color);\n",
              "      border-left-color: var(--fill-color);\n",
              "    }\n",
              "    20% {\n",
              "      border-color: transparent;\n",
              "      border-left-color: var(--fill-color);\n",
              "      border-top-color: var(--fill-color);\n",
              "    }\n",
              "    30% {\n",
              "      border-color: transparent;\n",
              "      border-left-color: var(--fill-color);\n",
              "      border-top-color: var(--fill-color);\n",
              "      border-right-color: var(--fill-color);\n",
              "    }\n",
              "    40% {\n",
              "      border-color: transparent;\n",
              "      border-right-color: var(--fill-color);\n",
              "      border-top-color: var(--fill-color);\n",
              "    }\n",
              "    60% {\n",
              "      border-color: transparent;\n",
              "      border-right-color: var(--fill-color);\n",
              "    }\n",
              "    80% {\n",
              "      border-color: transparent;\n",
              "      border-right-color: var(--fill-color);\n",
              "      border-bottom-color: var(--fill-color);\n",
              "    }\n",
              "    90% {\n",
              "      border-color: transparent;\n",
              "      border-bottom-color: var(--fill-color);\n",
              "    }\n",
              "  }\n",
              "</style>\n",
              "\n",
              "  <script>\n",
              "    async function quickchart(key) {\n",
              "      const quickchartButtonEl =\n",
              "        document.querySelector('#' + key + ' button');\n",
              "      quickchartButtonEl.disabled = true;  // To prevent multiple clicks.\n",
              "      quickchartButtonEl.classList.add('colab-df-spinner');\n",
              "      try {\n",
              "        const charts = await google.colab.kernel.invokeFunction(\n",
              "            'suggestCharts', [key], {});\n",
              "      } catch (error) {\n",
              "        console.error('Error during call to suggestCharts:', error);\n",
              "      }\n",
              "      quickchartButtonEl.classList.remove('colab-df-spinner');\n",
              "      quickchartButtonEl.classList.add('colab-df-quickchart-complete');\n",
              "    }\n",
              "    (() => {\n",
              "      let quickchartButtonEl =\n",
              "        document.querySelector('#df-7cae1465-9fab-4d1e-912e-0cdb3696436e button');\n",
              "      quickchartButtonEl.style.display =\n",
              "        google.colab.kernel.accessAllowed ? 'block' : 'none';\n",
              "    })();\n",
              "  </script>\n",
              "</div>\n",
              "\n",
              "    </div>\n",
              "  </div>\n"
            ],
            "application/vnd.google.colaboratory.intrinsic+json": {
              "type": "dataframe",
              "variable_name": "train_df_embedded",
              "summary": "{\n  \"name\": \"train_df_embedded\",\n  \"rows\": 2870,\n  \"fields\": [\n    {\n      \"column\": \"id_EXIST\",\n      \"properties\": {\n        \"dtype\": \"string\",\n        \"num_unique_values\": 2870,\n        \"samples\": [\n          \"200504\",\n          \"202694\",\n          \"200852\"\n        ],\n        \"semantic_type\": \"\",\n        \"description\": \"\"\n      }\n    },\n    {\n      \"column\": \"lang\",\n      \"properties\": {\n        \"dtype\": \"category\",\n        \"num_unique_values\": 1,\n        \"samples\": [\n          \"en\"\n        ],\n        \"semantic_type\": \"\",\n        \"description\": \"\"\n      }\n    },\n    {\n      \"column\": \"tweet\",\n      \"properties\": {\n        \"dtype\": \"string\",\n        \"num_unique_values\": 2867,\n        \"samples\": [\n          \"call sexist feel wrong woman reffing nba like go ref wnba\"\n        ],\n        \"semantic_type\": \"\",\n        \"description\": \"\"\n      }\n    },\n    {\n      \"column\": \"hard_label_task1\",\n      \"properties\": {\n        \"dtype\": \"number\",\n        \"std\": 0,\n        \"min\": 0,\n        \"max\": 1,\n        \"num_unique_values\": 2,\n        \"samples\": [\n          0\n        ],\n        \"semantic_type\": \"\",\n        \"description\": \"\"\n      }\n    },\n    {\n      \"column\": \"padded_tweet\",\n      \"properties\": {\n        \"dtype\": \"object\",\n        \"semantic_type\": \"\",\n        \"description\": \"\"\n      }\n    }\n  ]\n}"
            }
          },
          "metadata": {},
          "execution_count": 13
        }
      ],
      "source": [
        "# Apply the embeddings to the given df\n",
        "def embed_tweet(df, vocab, word_embeddings):\n",
        "    data = df.copy()\n",
        "    new_tweet = []\n",
        "    for tweet in data['padded_tweet']:\n",
        "        embedded_tweet = []\n",
        "        for token in tweet:\n",
        "            if token not in vocab:\n",
        "                # token is OOV so considered UNK\n",
        "                embedded_tweet.append(word_embeddings[vocab['[UNK]']])\n",
        "            else:\n",
        "                embedded_tweet.append(word_embeddings[vocab[token]])\n",
        "        new_tweet.append(embedded_tweet)\n",
        "    data['padded_tweet'] = new_tweet\n",
        "    return data\n",
        "\n",
        "# Embed all the df with our extended GloVe embeddings\n",
        "train_df_embedded = embed_tweet(train_df, vocab, word_embeddings)\n",
        "validation_df_embedded = embed_tweet(validation_df, vocab, word_embeddings)\n",
        "test_df_embedded = embed_tweet(test_df, vocab, word_embeddings)\n",
        "train_df_embedded.head()"
      ]
    },
    {
      "cell_type": "markdown",
      "metadata": {
        "id": "6JLnuLGHGAUT"
      },
      "source": [
        "# [Task 4 - 1.0 points] Model definition\n",
        "\n",
        "You are now tasked to define your sexism classifier.\n",
        "\n",
        "\n"
      ]
    },
    {
      "cell_type": "markdown",
      "metadata": {
        "id": "iQFI9J-JOfXD"
      },
      "source": [
        "### Instructions\n",
        "\n",
        "* **Baseline**: implement a Bidirectional LSTM with a Dense layer on top.\n",
        "* You are **free** to experiment with hyper-parameters to define the baseline model.\n",
        "\n",
        "* **Model 1**: add an additional LSTM layer to the Baseline model."
      ]
    },
    {
      "cell_type": "markdown",
      "metadata": {
        "id": "4jALc_qYGS2E"
      },
      "source": [
        "### Token to embedding mapping\n",
        "\n",
        "You can follow two approaches for encoding tokens in your classifier.\n",
        "\n",
        "### Work directly with embeddings\n",
        "\n",
        "- Compute the embedding of each input token\n",
        "- Feed the mini-batches of shape (batch_size, # tokens, embedding_dim) to your model\n",
        "\n",
        "### Work with Embedding layer\n",
        "\n",
        "- Encode input tokens to token ids\n",
        "- Define a Embedding layer as the first layer of your model\n",
        "- Compute the embedding matrix of all known tokens (i.e., tokens in your vocabulary)\n",
        "- Initialize the Embedding layer with the computed embedding matrix\n",
        "- You are **free** to set the Embedding layer trainable or not"
      ]
    },
    {
      "cell_type": "code",
      "execution_count": null,
      "metadata": {
        "id": "omGCTGKdT2-J"
      },
      "outputs": [],
      "source": [
        "import torch\n",
        "import torch.nn as nn\n",
        "import torch.optim as optim\n",
        "from torch.utils.data import DataLoader, TensorDataset\n",
        "\n",
        "\n",
        "class BiLSTMModel(nn.Module):\n",
        "    def __init__(self, input_size, hidden_size, num_layers, output_size, bidirectional=True):\n",
        "        super(BiLSTMModel, self).__init__()\n",
        "\n",
        "        self.lstm = nn.LSTM(input_size=input_size,\n",
        "                            hidden_size=hidden_size,\n",
        "                            num_layers=num_layers,\n",
        "                            bidirectional=bidirectional,\n",
        "                            batch_first=True)\n",
        "\n",
        "        self.fc = nn.Linear(hidden_size * 2 if bidirectional else hidden_size, output_size)\n",
        "\n",
        "    def forward(self, x):\n",
        "        lstm_out, (hidden, cell) = self.lstm(x)  # lstm_out has shape [batch, seq_len, hidden_size * 2] if bidirectional\n",
        "\n",
        "        # Take the last hidden state from both directions (forward and backward) for the last timestep\n",
        "        if self.lstm.bidirectional:\n",
        "            hidden = torch.cat((hidden[-2,:,:], hidden[-1,:,:]), dim=1)  # Concatenate the last forward and backward hidden states\n",
        "        else:\n",
        "            hidden = hidden[-1,:,:]  # Take the last hidden state of the forward direction only\n",
        "\n",
        "        out = self.fc(hidden)\n",
        "        return out.view(-1)"
      ]
    },
    {
      "cell_type": "code",
      "execution_count": null,
      "metadata": {
        "id": "dc2WoUzYCdox"
      },
      "outputs": [],
      "source": [
        "input_size = 100\n",
        "hidden_size = 128\n",
        "num_layers = 1\n",
        "output_size = 1\n",
        "\n",
        "baseline_model = BiLSTMModel(input_size, hidden_size, num_layers, output_size)"
      ]
    },
    {
      "cell_type": "code",
      "execution_count": null,
      "metadata": {
        "id": "TQaECfFmCllk"
      },
      "outputs": [],
      "source": [
        "num_layers = 2\n",
        "\n",
        "model_1 = BiLSTMModel(input_size, hidden_size, num_layers, output_size)"
      ]
    },
    {
      "cell_type": "markdown",
      "metadata": {
        "id": "GEQTPu6eGgGv"
      },
      "source": [
        "### Padding\n",
        "\n",
        "Pay attention to padding tokens!\n",
        "\n",
        "Your model **should not** be penalized on those tokens.\n",
        "\n",
        "#### How to?\n",
        "\n",
        "There are two main ways.\n",
        "\n",
        "However, their implementation depends on the neural library you are using.\n",
        "\n",
        "- Embedding layer\n",
        "- Custom loss to compute average cross-entropy on non-padding tokens only\n",
        "\n",
        "**Note**: This is a **recommendation**, but we **do not penalize** for missing workarounds."
      ]
    },
    {
      "cell_type": "markdown",
      "metadata": {
        "id": "EFjBgdiRG3wD"
      },
      "source": [
        "# [Task 5 - 1.0 points] Training and Evaluation\n",
        "\n",
        "You are now tasked to train and evaluate the Baseline and Model 1.\n"
      ]
    },
    {
      "cell_type": "markdown",
      "metadata": {
        "id": "TWPK4umGOjtT"
      },
      "source": [
        "\n",
        "### Instructions\n",
        "\n",
        "* Train **all** models on the train set.\n",
        "* Evaluate **all** models on the validation set.\n",
        "* Compute metrics on the validation set.\n",
        "* Pick **at least** three seeds for robust estimation.\n",
        "* Pick the **best** performing model according to the observed validation set performance.\n",
        "* Evaluate your models using macro F1-score."
      ]
    },
    {
      "cell_type": "code",
      "execution_count": null,
      "metadata": {
        "id": "SfElUVIBAfF7"
      },
      "outputs": [],
      "source": [
        "import random\n",
        "import matplotlib.pyplot as plt\n",
        "from tqdm import tqdm\n",
        "import copy\n",
        "\n",
        "class CustomTrainer:\n",
        "    def __init__(self, model, output_size=5, learning_rate=0.001, num_epochs=20, batch_size=32, seed=42):\n",
        "        self.set_seed(seed)\n",
        "\n",
        "        self.device = torch.device(\"cuda\" if torch.cuda.is_available() else \"cpu\")\n",
        "        print(f\"Using device: {self.device}\", end='\\n\\n')\n",
        "\n",
        "        self.model = model.to(self.device)\n",
        "        self.output_size = output_size\n",
        "        self.learning_rate = learning_rate\n",
        "        self.num_epochs = num_epochs\n",
        "        self.batch_size = batch_size\n",
        "        self.criterion = nn.BCEWithLogitsLoss()\n",
        "        self.optimizer = optim.Adam(model.parameters(), lr=learning_rate)\n",
        "\n",
        "    def set_seed(self, seed):\n",
        "        \"\"\"Set the seed for reproducibility.\"\"\"\n",
        "        random.seed(seed)  # Python random module\n",
        "        np.random.seed(seed)  # NumPy random module\n",
        "        torch.manual_seed(seed)  # PyTorch CPU\n",
        "        torch.cuda.manual_seed(seed)  # PyTorch GPU (if CUDA is available)\n",
        "        torch.cuda.manual_seed_all(seed)  # PyTorch all GPUs (if using multiple GPUs)\n",
        "        torch.backends.cudnn.deterministic = True  # Ensure deterministic behavior\n",
        "        torch.backends.cudnn.benchmark = False  # Disable the auto-tuner to avoid randomness\n",
        "        self.seed = seed\n",
        "\n",
        "\n",
        "    def train(self, train_df):\n",
        "        # Prepare training data\n",
        "        self.x_train = torch.tensor(train_df['padded_tweet'], dtype=torch.float32).to(self.device)\n",
        "        self.y_train = torch.tensor(train_df['hard_label_task1'], dtype=torch.float32).to(self.device)\n",
        "        self.train_dataset = TensorDataset(self.x_train, self.y_train)\n",
        "        self.train_loader = DataLoader(self.train_dataset, batch_size=self.batch_size, shuffle=True)\n",
        "\n",
        "        # Training loop\n",
        "        losses = []\n",
        "        for epoch in tqdm(range(self.num_epochs), desc=f'Training with seed {self.seed}'):\n",
        "            self.model.train()  # Set the model to training mode\n",
        "            running_loss = 0.0  # Track the total loss for the epoch\n",
        "\n",
        "            for batch_idx, (inputs, labels) in enumerate(self.train_loader):\n",
        "                # Zero the parameter gradients\n",
        "                self.optimizer.zero_grad()\n",
        "\n",
        "                # Forward pass\n",
        "                outputs = self.model(inputs)\n",
        "                loss = self.criterion(outputs, labels)\n",
        "\n",
        "                # Backward pass and optimization\n",
        "                loss.backward()\n",
        "                self.optimizer.step()\n",
        "\n",
        "                # Accumulate the loss\n",
        "                running_loss += loss.item()\n",
        "\n",
        "            # Print the average loss for this epoch\n",
        "            avg_loss = running_loss / len(self.train_loader)\n",
        "            losses.append(avg_loss)\n",
        "            #(f\"Epoch [{epoch + 1}/{self.num_epochs}], Loss: {avg_loss:.4f}\")\n",
        "        return losses\n",
        "\n",
        "    def test(self, test_df):\n",
        "        # Prepare test data\n",
        "        x_test = torch.tensor(test_df['padded_tweet'], dtype=torch.float32).to(self.device)\n",
        "        y_test = torch.tensor(test_df['hard_label_task1'], dtype=torch.float32).to(self.device)\n",
        "        test_dataset = TensorDataset(x_test, y_test)\n",
        "        test_loader = DataLoader(test_dataset, batch_size=self.batch_size, shuffle=False)\n",
        "\n",
        "        # Set the model to evaluation mode\n",
        "        self.model.eval()\n",
        "\n",
        "        all_preds = []\n",
        "        all_labels = []\n",
        "\n",
        "        with torch.no_grad():  # No need to compute gradients during evaluation\n",
        "            for inputs, labels in test_loader:\n",
        "                # Forward pass\n",
        "                outputs = self.model(inputs)\n",
        "\n",
        "                # Apply sigmoid activation to outputs, since BCEWithLogitsLoss already includes sigmoid\n",
        "                predicted = torch.round(torch.sigmoid(outputs))  # Convert outputs to binary predictions\n",
        "\n",
        "                all_preds.append(predicted.cpu().numpy())\n",
        "                all_labels.append(labels.cpu().numpy())\n",
        "\n",
        "        # Flatten the lists\n",
        "        all_preds = np.concatenate(all_preds, axis=0)\n",
        "        all_labels = np.concatenate(all_labels, axis=0)\n",
        "\n",
        "        # Calculate precision, recall, and F1 score\n",
        "        precision = precision_score(all_labels, all_preds, average='macro')\n",
        "        recall = recall_score(all_labels, all_preds, average='macro')\n",
        "        f1 = f1_score(all_labels, all_preds, average='macro')\n",
        "\n",
        "        accuracy = (all_preds == all_labels).mean()\n",
        "\n",
        "        return accuracy, f1\n",
        "\n",
        "\n",
        "    def train_and_evaluate_multiple_seeds(self, train_df, test_df, num_seeds=5):\n",
        "        all_losses = []\n",
        "        all_accuracies = []\n",
        "        # Save the untrained model temporay\n",
        "        untrained_model = copy.deepcopy(self.model.state_dict())  # Save a deep copy of the initial weights\n",
        "\n",
        "        print(f\"### Start training and testing with {num_seeds} seeds ###\")\n",
        "        # Loop through multiple seeds\n",
        "        for seed in range(num_seeds):\n",
        "            self.set_seed(seed)  # Set the seed for reproducibility\n",
        "\n",
        "            # Train and evaluate the model\n",
        "            epoch_losses = self.train(train_df)\n",
        "            accuracy, f1 = self.test(test_df)\n",
        "\n",
        "            # Reset the model to untrained version so that with next seed will start train from scratch\n",
        "            self.model.load_state_dict(untrained_model)\n",
        "\n",
        "            print(f\"Accuracy on val: {accuracy:.4f}, f1-score on val: {f1:.4f}\", end=\"\\n\\n\")\n",
        "            all_losses.append(epoch_losses)\n",
        "            all_accuracies.append(accuracy)\n",
        "\n",
        "        # Convert lists to numpy arrays for easier manipulation\n",
        "        all_losses = np.array(all_losses)\n",
        "        all_accuracies = np.array(all_accuracies)\n",
        "\n",
        "        # Plot the learning curves: max, min, avg loss across all seeds\n",
        "        self.plot_learning_curve(all_losses, all_accuracies)\n",
        "\n",
        "\n",
        "    def plot_learning_curve(self, all_losses, all_accuracies):\n",
        "        # Plot loss curves (min, max, avg)\n",
        "        plt.figure(figsize=(12, 6))\n",
        "\n",
        "        # Plot loss\n",
        "        plt.subplot(1, 2, 1)\n",
        "        plt.plot(all_losses.mean(axis=0), label='Avg Loss', color='blue')\n",
        "        plt.fill_between(range(len(all_losses[0])), all_losses.min(axis=0), all_losses.max(axis=0), color='blue', alpha=0.2)\n",
        "        plt.title('Learning Curve (Loss)')\n",
        "        plt.xlabel('Epochs')\n",
        "        plt.ylabel('Loss')\n",
        "        plt.legend()\n",
        "\n",
        "        plt.tight_layout()\n",
        "        plt.show()\n",
        "\n",
        "    def get_errors(self, test_df):\n",
        "\n",
        "        x_test = torch.tensor(test_df['padded_tweet'], dtype=torch.float32).to(self.device)\n",
        "        y_test = torch.tensor(test_df['hard_label_task1'], dtype=torch.float32).to(self.device)\n",
        "        texts = test_df['tweet']\n",
        "\n",
        "        test_dataset = TensorDataset(x_test, y_test)\n",
        "        test_loader = DataLoader(test_dataset, batch_size=self.batch_size, shuffle=False)\n",
        "\n",
        "        # model to evaluation mode\n",
        "        self.model.eval()\n",
        "\n",
        "        all_preds = []\n",
        "        all_labels = []\n",
        "        error_texts = []\n",
        "        error_labels = []\n",
        "\n",
        "        with torch.no_grad():\n",
        "            for idx, (inputs, labels) in enumerate(test_loader):\n",
        "                outputs = self.model(inputs)\n",
        "                predicted = torch.round(torch.sigmoid(outputs))\n",
        "                for i, (pred, label) in enumerate(zip(predicted.cpu().numpy(), labels.cpu().numpy())):\n",
        "                    if not np.array_equal(pred, label):\n",
        "                        error_texts.append(texts.iloc[idx * self.batch_size + i])\n",
        "                        error_labels.append(label)\n",
        "\n",
        "        errors_df = pd.DataFrame({\n",
        "            'tweet': error_texts,\n",
        "            'label': error_labels\n",
        "            })\n",
        "\n",
        "        return errors_df"
      ]
    },
    {
      "cell_type": "code",
      "source": [
        "baseline_trainer = CustomTrainer(model=baseline_model, num_epochs=30, batch_size=32, learning_rate=0.001)\n",
        "\n",
        "baseline_trainer.train_and_evaluate_multiple_seeds(train_df_embedded, validation_df_embedded, num_seeds=3)\n",
        "\n",
        "accuracy, f1 = baseline_trainer.test(test_df_embedded)\n",
        "print(f\"Accuracy on test: {accuracy:.4f}, f1-score on test: {f1:.4f}\", end=\"\\n\\n\")"
      ],
      "metadata": {
        "colab": {
          "base_uri": "https://localhost:8080/",
          "height": 913
        },
        "id": "hOCwOBuMQ5nV",
        "outputId": "6a63f39b-3744-4132-ceda-eece5329dd21"
      },
      "execution_count": null,
      "outputs": [
        {
          "output_type": "stream",
          "name": "stdout",
          "text": [
            "Using device: cuda\n",
            "\n",
            "### Start training and testing with 3 seeds ###\n"
          ]
        },
        {
          "output_type": "stream",
          "name": "stderr",
          "text": [
            "<ipython-input-17-d4d68aaa0b0a>:35: UserWarning: Creating a tensor from a list of numpy.ndarrays is extremely slow. Please consider converting the list to a single numpy.ndarray with numpy.array() before converting to a tensor. (Triggered internally at ../torch/csrc/utils/tensor_new.cpp:278.)\n",
            "  self.x_train = torch.tensor(train_df['padded_tweet'], dtype=torch.float32).to(self.device)\n",
            "Training with seed 0: 100%|██████████| 30/30 [00:10<00:00,  2.74it/s]\n"
          ]
        },
        {
          "output_type": "stream",
          "name": "stdout",
          "text": [
            "Accuracy on val: 0.7848, f1-score on val: 0.7716\n",
            "\n"
          ]
        },
        {
          "output_type": "stream",
          "name": "stderr",
          "text": [
            "Training with seed 1: 100%|██████████| 30/30 [00:10<00:00,  2.94it/s]\n"
          ]
        },
        {
          "output_type": "stream",
          "name": "stdout",
          "text": [
            "Accuracy on val: 0.7975, f1-score on val: 0.7850\n",
            "\n"
          ]
        },
        {
          "output_type": "stream",
          "name": "stderr",
          "text": [
            "Training with seed 2: 100%|██████████| 30/30 [00:17<00:00,  1.75it/s]\n"
          ]
        },
        {
          "output_type": "stream",
          "name": "stdout",
          "text": [
            "Accuracy on val: 0.7785, f1-score on val: 0.7625\n",
            "\n"
          ]
        },
        {
          "output_type": "display_data",
          "data": {
            "text/plain": [
              "<Figure size 1200x600 with 1 Axes>"
            ],
            "image/png": "[encoded data removed]"
          },
          "metadata": {}
        },
        {
          "output_type": "stream",
          "name": "stdout",
          "text": [
            "Accuracy on test: 0.5629, f1-score on test: 0.4328\n",
            "\n"
          ]
        }
      ]
    },
    {
      "cell_type": "code",
      "source": [
        "baseline_error_df = baseline_trainer.get_errors(test_df_embedded)"
      ],
      "metadata": {
        "id": "Htqoge713Ocu"
      },
      "execution_count": null,
      "outputs": []
    },
    {
      "cell_type": "code",
      "source": [
        "model_1_trainer = CustomTrainer(model=model_1, num_epochs=30, batch_size=32, learning_rate=0.001)\n",
        "\n",
        "model_1_trainer.train_and_evaluate_multiple_seeds(train_df_embedded, validation_df_embedded, num_seeds=3)\n",
        "accuracy, f1 = model_1_trainer.test(test_df_embedded)\n",
        "print(f\"Accuracy on test: {accuracy:.4f}, f1-score on test: {f1:.4f}\", end=\"\\n\\n\")"
      ],
      "metadata": {
        "id": "xxMIRVPAT_tB",
        "colab": {
          "base_uri": "https://localhost:8080/",
          "height": 913
        },
        "outputId": "78ba39ee-c875-47a1-e3db-65682d991e4b"
      },
      "execution_count": null,
      "outputs": [
        {
          "output_type": "stream",
          "name": "stdout",
          "text": [
            "Using device: cuda\n",
            "\n",
            "### Start training and testing with 3 seeds ###\n"
          ]
        },
        {
          "output_type": "stream",
          "name": "stderr",
          "text": [
            "Training with seed 0: 100%|██████████| 30/30 [00:15<00:00,  1.89it/s]\n"
          ]
        },
        {
          "output_type": "stream",
          "name": "stdout",
          "text": [
            "Accuracy on val: 0.7722, f1-score on val: 0.7582\n",
            "\n"
          ]
        },
        {
          "output_type": "stream",
          "name": "stderr",
          "text": [
            "Training with seed 1: 100%|██████████| 30/30 [00:13<00:00,  2.19it/s]\n"
          ]
        },
        {
          "output_type": "stream",
          "name": "stdout",
          "text": [
            "Accuracy on val: 0.7595, f1-score on val: 0.7492\n",
            "\n"
          ]
        },
        {
          "output_type": "stream",
          "name": "stderr",
          "text": [
            "Training with seed 2: 100%|██████████| 30/30 [00:22<00:00,  1.32it/s]\n"
          ]
        },
        {
          "output_type": "stream",
          "name": "stdout",
          "text": [
            "Accuracy on val: 0.7722, f1-score on val: 0.7597\n",
            "\n"
          ]
        },
        {
          "output_type": "display_data",
          "data": {
            "text/plain": [
              "<Figure size 1200x600 with 1 Axes>"
            ],
            "image/png": "[encoded data removed]"
          },
          "metadata": {}
        },
        {
          "output_type": "stream",
          "name": "stdout",
          "text": [
            "Accuracy on test: 0.4406, f1-score on test: 0.3058\n",
            "\n"
          ]
        },
        {
          "output_type": "stream",
          "name": "stderr",
          "text": [
            "/usr/local/lib/python3.10/dist-packages/sklearn/metrics/_classification.py:1531: UndefinedMetricWarning: Precision is ill-defined and being set to 0.0 in labels with no predicted samples. Use `zero_division` parameter to control this behavior.\n",
            "  _warn_prf(average, modifier, f\"{metric.capitalize()} is\", len(result))\n"
          ]
        }
      ]
    },
    {
      "cell_type": "code",
      "source": [
        "model_1_error_df = model_1_trainer.get_errors(test_df_embedded)"
      ],
      "metadata": {
        "id": "ah0RnUbOMRFO"
      },
      "execution_count": null,
      "outputs": []
    },
    {
      "cell_type": "markdown",
      "metadata": {
        "id": "CSy9sPwYHUoD"
      },
      "source": [
        "# [Task 6 - 1.0 points] Transformers\n",
        "\n",
        "In this section, you will use a transformer model specifically trained for hate speech detection, namely [Twitter-roBERTa-base for Hate Speech Detection](https://huggingface.co/cardiffnlp/twitter-roberta-base-hate).\n",
        "\n",
        "\n"
      ]
    },
    {
      "cell_type": "markdown",
      "metadata": {
        "collapsed": false,
        "id": "kn1wVAIflktP"
      },
      "source": [
        "### Relevant Material\n",
        "- Tutorial 3"
      ]
    },
    {
      "cell_type": "markdown",
      "metadata": {
        "collapsed": false,
        "id": "fpizAvvMlktP"
      },
      "source": [
        "### Instructions\n",
        "1. **Load the Tokenizer and Model**\n",
        "\n",
        "2. **Preprocess the Dataset**:\n",
        "   You will need to preprocess your dataset to prepare it for input into the model. Tokenize your text data using the appropriate tokenizer and ensure it is formatted correctly.\n",
        "\n",
        "   **Note**: You have to use the plain text of the dataset and not the version that you tokenized before, as you need to tokenize the cleaned text obtained after the initial cleaning process.\n",
        "\n",
        "3. **Train the Model**:\n",
        "   Use the `Trainer` to train the model on your training data.\n",
        "\n",
        "4. **Evaluate the Model on the Test Set** using F1-macro."
      ]
    },
    {
      "cell_type": "code",
      "source": [
        "!pip install datasets"
      ],
      "metadata": {
        "colab": {
          "base_uri": "https://localhost:8080/"
        },
        "id": "DifHst6CniYI",
        "outputId": "80a09852-c8c4-49be-8bc5-601f405f9ede"
      },
      "execution_count": null,
      "outputs": [
        {
          "output_type": "stream",
          "name": "stdout",
          "text": [
            "Collecting datasets\n",
            "  Downloading datasets-3.1.0-py3-none-any.whl.metadata (20 kB)\n",
            "Requirement already satisfied: filelock in /usr/local/lib/python3.10/dist-packages (from datasets) (3.16.1)\n",
            "Requirement already satisfied: numpy>=1.17 in /usr/local/lib/python3.10/dist-packages (from datasets) (1.26.4)\n",
            "Requirement already satisfied: pyarrow>=15.0.0 in /usr/local/lib/python3.10/dist-packages (from datasets) (17.0.0)\n",
            "Collecting dill<0.3.9,>=0.3.0 (from datasets)\n",
            "  Downloading dill-0.3.8-py3-none-any.whl.metadata (10 kB)\n",
            "Requirement already satisfied: pandas in /usr/local/lib/python3.10/dist-packages (from datasets) (2.2.2)\n",
            "Requirement already satisfied: requests>=2.32.2 in /usr/local/lib/python3.10/dist-packages (from datasets) (2.32.3)\n",
            "Requirement already satisfied: tqdm>=4.66.3 in /usr/local/lib/python3.10/dist-packages (from datasets) (4.66.6)\n",
            "Collecting xxhash (from datasets)\n",
            "  Downloading xxhash-3.5.0-cp310-cp310-manylinux_2_17_x86_64.manylinux2014_x86_64.whl.metadata (12 kB)\n",
            "Collecting multiprocess<0.70.17 (from datasets)\n",
            "  Downloading multiprocess-0.70.16-py310-none-any.whl.metadata (7.2 kB)\n",
            "Collecting fsspec<=2024.9.0,>=2023.1.0 (from fsspec[http]<=2024.9.0,>=2023.1.0->datasets)\n",
            "  Downloading fsspec-2024.9.0-py3-none-any.whl.metadata (11 kB)\n",
            "Requirement already satisfied: aiohttp in /usr/local/lib/python3.10/dist-packages (from datasets) (3.11.1)\n",
            "Requirement already satisfied: huggingface-hub>=0.23.0 in /usr/local/lib/python3.10/dist-packages (from datasets) (0.26.2)\n",
            "Requirement already satisfied: packaging in /usr/local/lib/python3.10/dist-packages (from datasets) (24.2)\n",
            "Requirement already satisfied: pyyaml>=5.1 in /usr/local/lib/python3.10/dist-packages (from datasets) (6.0.2)\n",
            "Requirement already satisfied: aiohappyeyeballs>=2.3.0 in /usr/local/lib/python3.10/dist-packages (from aiohttp->datasets) (2.4.3)\n",
            "Requirement already satisfied: aiosignal>=1.1.2 in /usr/local/lib/python3.10/dist-packages (from aiohttp->datasets) (1.3.1)\n",
            "Requirement already satisfied: attrs>=17.3.0 in /usr/local/lib/python3.10/dist-packages (from aiohttp->datasets) (24.2.0)\n",
            "Requirement already satisfied: frozenlist>=1.1.1 in /usr/local/lib/python3.10/dist-packages (from aiohttp->datasets) (1.5.0)\n",
            "Requirement already satisfied: multidict<7.0,>=4.5 in /usr/local/lib/python3.10/dist-packages (from aiohttp->datasets) (6.1.0)\n",
            "Requirement already satisfied: propcache>=0.2.0 in /usr/local/lib/python3.10/dist-packages (from aiohttp->datasets) (0.2.0)\n",
            "Requirement already satisfied: yarl<2.0,>=1.17.0 in /usr/local/lib/python3.10/dist-packages (from aiohttp->datasets) (1.17.1)\n",
            "Requirement already satisfied: async-timeout<6.0,>=4.0 in /usr/local/lib/python3.10/dist-packages (from aiohttp->datasets) (4.0.3)\n",
            "Requirement already satisfied: typing-extensions>=3.7.4.3 in /usr/local/lib/python3.10/dist-packages (from huggingface-hub>=0.23.0->datasets) (4.12.2)\n",
            "Requirement already satisfied: charset-normalizer<4,>=2 in /usr/local/lib/python3.10/dist-packages (from requests>=2.32.2->datasets) (3.4.0)\n",
            "Requirement already satisfied: idna<4,>=2.5 in /usr/local/lib/python3.10/dist-packages (from requests>=2.32.2->datasets) (3.10)\n",
            "Requirement already satisfied: urllib3<3,>=1.21.1 in /usr/local/lib/python3.10/dist-packages (from requests>=2.32.2->datasets) (2.2.3)\n",
            "Requirement already satisfied: certifi>=2017.4.17 in /usr/local/lib/python3.10/dist-packages (from requests>=2.32.2->datasets) (2024.8.30)\n",
            "Requirement already satisfied: python-dateutil>=2.8.2 in /usr/local/lib/python3.10/dist-packages (from pandas->datasets) (2.8.2)\n",
            "Requirement already satisfied: pytz>=2020.1 in /usr/local/lib/python3.10/dist-packages (from pandas->datasets) (2024.2)\n",
            "Requirement already satisfied: tzdata>=2022.7 in /usr/local/lib/python3.10/dist-packages (from pandas->datasets) (2024.2)\n",
            "Requirement already satisfied: six>=1.5 in /usr/local/lib/python3.10/dist-packages (from python-dateutil>=2.8.2->pandas->datasets) (1.16.0)\n",
            "Downloading datasets-3.1.0-py3-none-any.whl (480 kB)\n",
            "\u001b[2K   \u001b[90m━━━━━━━━━━━━━━━━━━━━━━━━━━━━━━━━━━━━━━━━\u001b[0m \u001b[32m480.6/480.6 kB\u001b[0m \u001b[31m19.2 MB/s\u001b[0m eta \u001b[36m0:00:00\u001b[0m\n",
            "\u001b[?25hDownloading dill-0.3.8-py3-none-any.whl (116 kB)\n",
            "\u001b[2K   \u001b[90m━━━━━━━━━━━━━━━━━━━━━━━━━━━━━━━━━━━━━━━━\u001b[0m \u001b[32m116.3/116.3 kB\u001b[0m \u001b[31m7.2 MB/s\u001b[0m eta \u001b[36m0:00:00\u001b[0m\n",
            "\u001b[?25hDownloading fsspec-2024.9.0-py3-none-any.whl (179 kB)\n",
            "\u001b[2K   \u001b[90m━━━━━━━━━━━━━━━━━━━━━━━━━━━━━━━━━━━━━━━━\u001b[0m \u001b[32m179.3/179.3 kB\u001b[0m \u001b[31m12.4 MB/s\u001b[0m eta \u001b[36m0:00:00\u001b[0m\n",
            "\u001b[?25hDownloading multiprocess-0.70.16-py310-none-any.whl (134 kB)\n",
            "\u001b[2K   \u001b[90m━━━━━━━━━━━━━━━━━━━━━━━━━━━━━━━━━━━━━━━━\u001b[0m \u001b[32m134.8/134.8 kB\u001b[0m \u001b[31m10.1 MB/s\u001b[0m eta \u001b[36m0:00:00\u001b[0m\n",
            "\u001b[?25hDownloading xxhash-3.5.0-cp310-cp310-manylinux_2_17_x86_64.manylinux2014_x86_64.whl (194 kB)\n",
            "\u001b[2K   \u001b[90m━━━━━━━━━━━━━━━━━━━━━━━━━━━━━━━━━━━━━━━━\u001b[0m \u001b[32m194.1/194.1 kB\u001b[0m \u001b[31m9.7 MB/s\u001b[0m eta \u001b[36m0:00:00\u001b[0m\n",
            "\u001b[?25hInstalling collected packages: xxhash, fsspec, dill, multiprocess, datasets\n",
            "  Attempting uninstall: fsspec\n",
            "    Found existing installation: fsspec 2024.10.0\n",
            "    Uninstalling fsspec-2024.10.0:\n",
            "      Successfully uninstalled fsspec-2024.10.0\n",
            "\u001b[31mERROR: pip's dependency resolver does not currently take into account all the packages that are installed. This behaviour is the source of the following dependency conflicts.\n",
            "gcsfs 2024.10.0 requires fsspec==2024.10.0, but you have fsspec 2024.9.0 which is incompatible.\u001b[0m\u001b[31m\n",
            "\u001b[0mSuccessfully installed datasets-3.1.0 dill-0.3.8 fsspec-2024.9.0 multiprocess-0.70.16 xxhash-3.5.0\n"
          ]
        }
      ]
    },
    {
      "cell_type": "code",
      "source": [
        "from transformers import AutoModelForSequenceClassification\n",
        "from transformers import TFAutoModelForSequenceClassification\n",
        "from transformers import AutoTokenizer\n",
        "import numpy as np\n",
        "from scipy.special import softmax\n",
        "import csv\n",
        "import urllib.request\n",
        "from datasets import Dataset\n",
        "from transformers import TrainingArguments\n",
        "from transformers import DataCollatorWithPadding\n",
        "from transformers import Trainer\n",
        "from sklearn.metrics import f1_score, accuracy_score"
      ],
      "metadata": {
        "id": "75zw2FfBq_0x"
      },
      "execution_count": null,
      "outputs": []
    },
    {
      "cell_type": "code",
      "source": [
        "train_df = original_train_df.copy()\n",
        "validation_df = original_validation_df.copy()\n",
        "test_df = original_test_df.copy()"
      ],
      "metadata": {
        "id": "exLCL9oSzzbJ"
      },
      "execution_count": null,
      "outputs": []
    },
    {
      "cell_type": "code",
      "source": [
        "# Preprocess text (username and link placeholders)\n",
        "def preprocess(text):\n",
        "    new_text = []\n",
        "    for t in text.split(\" \"):\n",
        "        t = '@user' if t.startswith('@') and len(t) > 1 else t\n",
        "        t = 'http' if t.startswith('http') else t\n",
        "        new_text.append(t)\n",
        "    return \" \".join(new_text)\n",
        "\n",
        "train_df['tweet'] = train_df['tweet'].apply(preprocess)\n",
        "validation_df['tweet'] = validation_df['tweet'].apply(preprocess)\n",
        "test_df['tweet'] = test_df['tweet'].apply(preprocess)\n",
        "train_df.head()"
      ],
      "metadata": {
        "colab": {
          "base_uri": "https://localhost:8080/",
          "height": 206
        },
        "id": "a8S0jzleyHcB",
        "outputId": "63a9b03a-ee3d-49b7-b8e9-03b0d21ae5b3"
      },
      "execution_count": null,
      "outputs": [
        {
          "output_type": "execute_result",
          "data": {
            "text/plain": [
              "       id_EXIST lang                                              tweet  \\\n",
              "200002   200002   en  Writing a uni essay in my local pub with a cof...   \n",
              "200003   200003   en  @user it is 2021 not 1921. I dont appreciate t...   \n",
              "200006   200006   en  According to a customer I have plenty of time ...   \n",
              "200007   200007   en  So only 'blokes' drink beer? Sorry, but if you...   \n",
              "200008   200008   en  New to the shelves this week - looking forward...   \n",
              "\n",
              "        hard_label_task1  \n",
              "200002                 1  \n",
              "200003                 1  \n",
              "200006                 1  \n",
              "200007                 1  \n",
              "200008                 0  "
            ],
            "text/html": [
              "\n",
              "  <div id=\"df-6823c347-73d2-4091-925b-d54570075955\" class=\"colab-df-container\">\n",
              "    <div>\n",
              "<style scoped>\n",
              "    .dataframe tbody tr th:only-of-type {\n",
              "        vertical-align: middle;\n",
              "    }\n",
              "\n",
              "    .dataframe tbody tr th {\n",
              "        vertical-align: top;\n",
              "    }\n",
              "\n",
              "    .dataframe thead th {\n",
              "        text-align: right;\n",
              "    }\n",
              "</style>\n",
              "<table border=\"1\" class=\"dataframe\">\n",
              "  <thead>\n",
              "    <tr style=\"text-align: right;\">\n",
              "      <th></th>\n",
              "      <th>id_EXIST</th>\n",
              "      <th>lang</th>\n",
              "      <th>tweet</th>\n",
              "      <th>hard_label_task1</th>\n",
              "    </tr>\n",
              "  </thead>\n",
              "  <tbody>\n",
              "    <tr>\n",
              "      <th>200002</th>\n",
              "      <td>200002</td>\n",
              "      <td>en</td>\n",
              "      <td>Writing a uni essay in my local pub with a cof...</td>\n",
              "      <td>1</td>\n",
              "    </tr>\n",
              "    <tr>\n",
              "      <th>200003</th>\n",
              "      <td>200003</td>\n",
              "      <td>en</td>\n",
              "      <td>@user it is 2021 not 1921. I dont appreciate t...</td>\n",
              "      <td>1</td>\n",
              "    </tr>\n",
              "    <tr>\n",
              "      <th>200006</th>\n",
              "      <td>200006</td>\n",
              "      <td>en</td>\n",
              "      <td>According to a customer I have plenty of time ...</td>\n",
              "      <td>1</td>\n",
              "    </tr>\n",
              "    <tr>\n",
              "      <th>200007</th>\n",
              "      <td>200007</td>\n",
              "      <td>en</td>\n",
              "      <td>So only 'blokes' drink beer? Sorry, but if you...</td>\n",
              "      <td>1</td>\n",
              "    </tr>\n",
              "    <tr>\n",
              "      <th>200008</th>\n",
              "      <td>200008</td>\n",
              "      <td>en</td>\n",
              "      <td>New to the shelves this week - looking forward...</td>\n",
              "      <td>0</td>\n",
              "    </tr>\n",
              "  </tbody>\n",
              "</table>\n",
              "</div>\n",
              "    <div class=\"colab-df-buttons\">\n",
              "\n",
              "  <div class=\"colab-df-container\">\n",
              "    <button class=\"colab-df-convert\" onclick=\"convertToInteractive('df-6823c347-73d2-4091-925b-d54570075955')\"\n",
              "            title=\"Convert this dataframe to an interactive table.\"\n",
              "            style=\"display:none;\">\n",
              "\n",
              "  <svg xmlns=\"http://www.w3.org/2000/svg\" height=\"24px\" viewBox=\"0 -960 960 960\">\n",
              "    <path d=\"M120-120v-720h720v720H120Zm60-500h600v-160H180v160Zm220 220h160v-160H400v160Zm0 220h160v-160H400v160ZM180-400h160v-160H180v160Zm440 0h160v-160H620v160ZM180-180h160v-160H180v160Zm440 0h160v-160H620v160Z\"/>\n",
              "  </svg>\n",
              "    </button>\n",
              "\n",
              "  <style>\n",
              "    .colab-df-container {\n",
              "      display:flex;\n",
              "      gap: 12px;\n",
              "    }\n",
              "\n",
              "    .colab-df-convert {\n",
              "      background-color: #E8F0FE;\n",
              "      border: none;\n",
              "      border-radius: 50%;\n",
              "      cursor: pointer;\n",
              "      display: none;\n",
              "      fill: #1967D2;\n",
              "      height: 32px;\n",
              "      padding: 0 0 0 0;\n",
              "      width: 32px;\n",
              "    }\n",
              "\n",
              "    .colab-df-convert:hover {\n",
              "      background-color: #E2EBFA;\n",
              "      box-shadow: 0px 1px 2px rgba(60, 64, 67, 0.3), 0px 1px 3px 1px rgba(60, 64, 67, 0.15);\n",
              "      fill: #174EA6;\n",
              "    }\n",
              "\n",
              "    .colab-df-buttons div {\n",
              "      margin-bottom: 4px;\n",
              "    }\n",
              "\n",
              "    [theme=dark] .colab-df-convert {\n",
              "      background-color: #3B4455;\n",
              "      fill: #D2E3FC;\n",
              "    }\n",
              "\n",
              "    [theme=dark] .colab-df-convert:hover {\n",
              "      background-color: #434B5C;\n",
              "      box-shadow: 0px 1px 3px 1px rgba(0, 0, 0, 0.15);\n",
              "      filter: drop-shadow(0px 1px 2px rgba(0, 0, 0, 0.3));\n",
              "      fill: #FFFFFF;\n",
              "    }\n",
              "  </style>\n",
              "\n",
              "    <script>\n",
              "      const buttonEl =\n",
              "        document.querySelector('#df-6823c347-73d2-4091-925b-d54570075955 button.colab-df-convert');\n",
              "      buttonEl.style.display =\n",
              "        google.colab.kernel.accessAllowed ? 'block' : 'none';\n",
              "\n",
              "      async function convertToInteractive(key) {\n",
              "        const element = document.querySelector('#df-6823c347-73d2-4091-925b-d54570075955');\n",
              "        const dataTable =\n",
              "          await google.colab.kernel.invokeFunction('convertToInteractive',\n",
              "                                                    [key], {});\n",
              "        if (!dataTable) return;\n",
              "\n",
              "        const docLinkHtml = 'Like what you see? Visit the ' +\n",
              "          '<a target=\"_blank\" href=https://colab.research.google.com/notebooks/data_table.ipynb>data table notebook</a>'\n",
              "          + ' to learn more about interactive tables.';\n",
              "        element.innerHTML = '';\n",
              "        dataTable['output_type'] = 'display_data';\n",
              "        await google.colab.output.renderOutput(dataTable, element);\n",
              "        const docLink = document.createElement('div');\n",
              "        docLink.innerHTML = docLinkHtml;\n",
              "        element.appendChild(docLink);\n",
              "      }\n",
              "    </script>\n",
              "  </div>\n",
              "\n",
              "\n",
              "<div id=\"df-6c729715-8e25-4281-89f8-cd05a644db9c\">\n",
              "  <button class=\"colab-df-quickchart\" onclick=\"quickchart('df-6c729715-8e25-4281-89f8-cd05a644db9c')\"\n",
              "            title=\"Suggest charts\"\n",
              "            style=\"display:none;\">\n",
              "\n",
              "<svg xmlns=\"http://www.w3.org/2000/svg\" height=\"24px\"viewBox=\"0 0 24 24\"\n",
              "     width=\"24px\">\n",
              "    <g>\n",
              "        <path d=\"M19 3H5c-1.1 0-2 .9-2 2v14c0 1.1.9 2 2 2h14c1.1 0 2-.9 2-2V5c0-1.1-.9-2-2-2zM9 17H7v-7h2v7zm4 0h-2V7h2v10zm4 0h-2v-4h2v4z\"/>\n",
              "    </g>\n",
              "</svg>\n",
              "  </button>\n",
              "\n",
              "<style>\n",
              "  .colab-df-quickchart {\n",
              "      --bg-color: #E8F0FE;\n",
              "      --fill-color: #1967D2;\n",
              "      --hover-bg-color: #E2EBFA;\n",
              "      --hover-fill-color: #174EA6;\n",
              "      --disabled-fill-color: #AAA;\n",
              "      --disabled-bg-color: #DDD;\n",
              "  }\n",
              "\n",
              "  [theme=dark] .colab-df-quickchart {\n",
              "      --bg-color: #3B4455;\n",
              "      --fill-color: #D2E3FC;\n",
              "      --hover-bg-color: #434B5C;\n",
              "      --hover-fill-color: #FFFFFF;\n",
              "      --disabled-bg-color: #3B4455;\n",
              "      --disabled-fill-color: #666;\n",
              "  }\n",
              "\n",
              "  .colab-df-quickchart {\n",
              "    background-color: var(--bg-color);\n",
              "    border: none;\n",
              "    border-radius: 50%;\n",
              "    cursor: pointer;\n",
              "    display: none;\n",
              "    fill: var(--fill-color);\n",
              "    height: 32px;\n",
              "    padding: 0;\n",
              "    width: 32px;\n",
              "  }\n",
              "\n",
              "  .colab-df-quickchart:hover {\n",
              "    background-color: var(--hover-bg-color);\n",
              "    box-shadow: 0 1px 2px rgba(60, 64, 67, 0.3), 0 1px 3px 1px rgba(60, 64, 67, 0.15);\n",
              "    fill: var(--button-hover-fill-color);\n",
              "  }\n",
              "\n",
              "  .colab-df-quickchart-complete:disabled,\n",
              "  .colab-df-quickchart-complete:disabled:hover {\n",
              "    background-color: var(--disabled-bg-color);\n",
              "    fill: var(--disabled-fill-color);\n",
              "    box-shadow: none;\n",
              "  }\n",
              "\n",
              "  .colab-df-spinner {\n",
              "    border: 2px solid var(--fill-color);\n",
              "    border-color: transparent;\n",
              "    border-bottom-color: var(--fill-color);\n",
              "    animation:\n",
              "      spin 1s steps(1) infinite;\n",
              "  }\n",
              "\n",
              "  @keyframes spin {\n",
              "    0% {\n",
              "      border-color: transparent;\n",
              "      border-bottom-color: var(--fill-color);\n",
              "      border-left-color: var(--fill-color);\n",
              "    }\n",
              "    20% {\n",
              "      border-color: transparent;\n",
              "      border-left-color: var(--fill-color);\n",
              "      border-top-color: var(--fill-color);\n",
              "    }\n",
              "    30% {\n",
              "      border-color: transparent;\n",
              "      border-left-color: var(--fill-color);\n",
              "      border-top-color: var(--fill-color);\n",
              "      border-right-color: var(--fill-color);\n",
              "    }\n",
              "    40% {\n",
              "      border-color: transparent;\n",
              "      border-right-color: var(--fill-color);\n",
              "      border-top-color: var(--fill-color);\n",
              "    }\n",
              "    60% {\n",
              "      border-color: transparent;\n",
              "      border-right-color: var(--fill-color);\n",
              "    }\n",
              "    80% {\n",
              "      border-color: transparent;\n",
              "      border-right-color: var(--fill-color);\n",
              "      border-bottom-color: var(--fill-color);\n",
              "    }\n",
              "    90% {\n",
              "      border-color: transparent;\n",
              "      border-bottom-color: var(--fill-color);\n",
              "    }\n",
              "  }\n",
              "</style>\n",
              "\n",
              "  <script>\n",
              "    async function quickchart(key) {\n",
              "      const quickchartButtonEl =\n",
              "        document.querySelector('#' + key + ' button');\n",
              "      quickchartButtonEl.disabled = true;  // To prevent multiple clicks.\n",
              "      quickchartButtonEl.classList.add('colab-df-spinner');\n",
              "      try {\n",
              "        const charts = await google.colab.kernel.invokeFunction(\n",
              "            'suggestCharts', [key], {});\n",
              "      } catch (error) {\n",
              "        console.error('Error during call to suggestCharts:', error);\n",
              "      }\n",
              "      quickchartButtonEl.classList.remove('colab-df-spinner');\n",
              "      quickchartButtonEl.classList.add('colab-df-quickchart-complete');\n",
              "    }\n",
              "    (() => {\n",
              "      let quickchartButtonEl =\n",
              "        document.querySelector('#df-6c729715-8e25-4281-89f8-cd05a644db9c button');\n",
              "      quickchartButtonEl.style.display =\n",
              "        google.colab.kernel.accessAllowed ? 'block' : 'none';\n",
              "    })();\n",
              "  </script>\n",
              "</div>\n",
              "\n",
              "    </div>\n",
              "  </div>\n"
            ],
            "application/vnd.google.colaboratory.intrinsic+json": {
              "type": "dataframe",
              "variable_name": "train_df",
              "summary": "{\n  \"name\": \"train_df\",\n  \"rows\": 2870,\n  \"fields\": [\n    {\n      \"column\": \"id_EXIST\",\n      \"properties\": {\n        \"dtype\": \"string\",\n        \"num_unique_values\": 2870,\n        \"samples\": [\n          \"200504\",\n          \"202694\",\n          \"200852\"\n        ],\n        \"semantic_type\": \"\",\n        \"description\": \"\"\n      }\n    },\n    {\n      \"column\": \"lang\",\n      \"properties\": {\n        \"dtype\": \"category\",\n        \"num_unique_values\": 1,\n        \"samples\": [\n          \"en\"\n        ],\n        \"semantic_type\": \"\",\n        \"description\": \"\"\n      }\n    },\n    {\n      \"column\": \"tweet\",\n      \"properties\": {\n        \"dtype\": \"string\",\n        \"num_unique_values\": 2868,\n        \"samples\": [\n          \"Call me sexist but it just feels wrong that women are reffing the NBA like go ref the WNBA\\ud83d\\ude2c\"\n        ],\n        \"semantic_type\": \"\",\n        \"description\": \"\"\n      }\n    },\n    {\n      \"column\": \"hard_label_task1\",\n      \"properties\": {\n        \"dtype\": \"number\",\n        \"std\": 0,\n        \"min\": 0,\n        \"max\": 1,\n        \"num_unique_values\": 2,\n        \"samples\": [\n          0\n        ],\n        \"semantic_type\": \"\",\n        \"description\": \"\"\n      }\n    }\n  ]\n}"
            }
          },
          "metadata": {},
          "execution_count": 25
        }
      ]
    },
    {
      "cell_type": "code",
      "source": [
        "task='hate'\n",
        "MODEL = f\"cardiffnlp/twitter-roberta-base-{task}\"\n",
        "\n",
        "tokenizer = AutoTokenizer.from_pretrained(MODEL)\n",
        "\n",
        "transformer_model = AutoModelForSequenceClassification.from_pretrained(MODEL)\n",
        "transformer_model.save_pretrained(MODEL)"
      ],
      "metadata": {
        "id": "0hOhmU-B4pLZ"
      },
      "execution_count": null,
      "outputs": []
    },
    {
      "cell_type": "code",
      "source": [
        "def preprocess_text(texts):\n",
        "    return tokenizer(texts['tweet'], truncation=True)\n",
        "\n",
        "train_data = Dataset.from_pandas(train_df)\n",
        "validation_data = Dataset.from_pandas(validation_df)\n",
        "test_data = Dataset.from_pandas(test_df)\n",
        "\n",
        "train_data = train_data.map(preprocess_text, batched=True)\n",
        "validation_data = validation_data.map(preprocess_text, batched=True)\n",
        "test_data = test_data.map(preprocess_text, batched=True)\n",
        "train_data"
      ],
      "metadata": {
        "colab": {
          "base_uri": "https://localhost:8080/",
          "height": 222,
          "referenced_widgets": [
            "7995dbec2a4641689e300dd4f61ebda2",
            "5a50f34421fa4b009aece659abba9a5b",
            "4a05892b1ef34d488a6143fe6ad6b3f0",
            "0d9f3a2885b2403ab1804a76a26dc70c",
            "12ef7fabba5240b295dae6584936adf5",
            "cfdc1669d3ce4b8bba8f09e4cc63529c",
            "ffb9168bc9984bcdb032ca5a8f9be4d2",
            "e946268caaf34136bcc5e6c6effca22b",
            "f80b6ab2627d4e14a108b066d973729d",
            "01d4fce1ad3549c0b3d48abbe1f43abe",
            "bd9710ab968445cfa1d38ac53be79528",
            "ec8fb3c07625493b9353f718c3a36706",
            "005066cec4ea4d7c84c98dc909b1757d",
            "9e67b8b82dd4414880a3908f2666ea96",
            "113d564bb71e492e96775f390c673f74",
            "3a5eb52a8e924a4bb64df2b0b5aeb6dc",
            "8ff08806b6eb4a20b6ce6a253cfb1555",
            "f8d5dcfe0dc14a2f892330ee1bfa43e6",
            "eb7d29fae1eb43c6889e78b9b78e3ab2",
            "8a902ce63b1945abad193ed0a7ea6777",
            "35d0b87a635b43408db4418a93b9b177",
            "661193f262da413d8e98c7bf54b0f538",
            "6e7d66af5ea84058af27c19d246c12cb",
            "96dd82870a3a44318eeba9980d3b1cae",
            "fcd8eb38ec5a45ac91188dd7427b83bd",
            "f090316efb3b49cf941df1d751f241af",
            "cb7b27d5b247440aaf92038fc89a9cc0",
            "3ed3fcf95069444ebfcc9c202663250b",
            "9e292286e9d941db84f058bd2d92ec54",
            "58375e141c6b445889886afd3cf21f18",
            "b092f0742de843e1a084483b53defc31",
            "0ce5135d261c44c1ae68f9aa57e2a66f",
            "4d0178e923c7473d9ad6c03e64ad0255"
          ]
        },
        "id": "oJjElDxO1MPf",
        "outputId": "ccc978a5-40fa-4a49-ab65-cb256b9070b2"
      },
      "execution_count": null,
      "outputs": [
        {
          "output_type": "display_data",
          "data": {
            "text/plain": [
              "Map:   0%|          | 0/2870 [00:00<?, ? examples/s]"
            ],
            "application/vnd.jupyter.widget-view+json": {
              "version_major": 2,
              "version_minor": 0,
              "model_id": "7995dbec2a4641689e300dd4f61ebda2"
            }
          },
          "metadata": {}
        },
        {
          "output_type": "stream",
          "name": "stderr",
          "text": [
            "Asking to truncate to max_length but no maximum length is provided and the model has no predefined maximum length. Default to no truncation.\n"
          ]
        },
        {
          "output_type": "display_data",
          "data": {
            "text/plain": [
              "Map:   0%|          | 0/158 [00:00<?, ? examples/s]"
            ],
            "application/vnd.jupyter.widget-view+json": {
              "version_major": 2,
              "version_minor": 0,
              "model_id": "ec8fb3c07625493b9353f718c3a36706"
            }
          },
          "metadata": {}
        },
        {
          "output_type": "display_data",
          "data": {
            "text/plain": [
              "Map:   0%|          | 0/286 [00:00<?, ? examples/s]"
            ],
            "application/vnd.jupyter.widget-view+json": {
              "version_major": 2,
              "version_minor": 0,
              "model_id": "6e7d66af5ea84058af27c19d246c12cb"
            }
          },
          "metadata": {}
        },
        {
          "output_type": "execute_result",
          "data": {
            "text/plain": [
              "Dataset({\n",
              "    features: ['id_EXIST', 'lang', 'tweet', 'hard_label_task1', '__index_level_0__', 'input_ids', 'attention_mask'],\n",
              "    num_rows: 2870\n",
              "})"
            ]
          },
          "metadata": {},
          "execution_count": 77
        }
      ]
    },
    {
      "cell_type": "code",
      "source": [
        "train_data = train_data.rename_column('hard_label_task1', 'label')\n",
        "validation_data = validation_data.rename_column('hard_label_task1', 'label')\n",
        "test_data = test_data.rename_column('hard_label_task1', 'label')"
      ],
      "metadata": {
        "id": "HL8Yo5GWpDx1"
      },
      "execution_count": null,
      "outputs": []
    },
    {
      "cell_type": "code",
      "source": [
        "data_collator = DataCollatorWithPadding(tokenizer=tokenizer)"
      ],
      "metadata": {
        "id": "8BgIGHgpn8UK"
      },
      "execution_count": null,
      "outputs": []
    },
    {
      "cell_type": "code",
      "source": [
        "transformer_training_args = TrainingArguments(\n",
        "    output_dir=\"test_dir\",                 # where to save model\n",
        "    learning_rate=1e-5,\n",
        "    per_device_train_batch_size=4,         # accelerate defines distributed training\n",
        "    per_device_eval_batch_size=8,\n",
        "    num_train_epochs=10,\n",
        "    weight_decay=0.1,\n",
        "    evaluation_strategy=\"epoch\",           # when to report evaluation metrics/losses\n",
        "    save_strategy=\"epoch\",                 # when to save checkpoint\n",
        "    load_best_model_at_end=True,\n",
        "    report_to='none'                       # disabling wandb (default)\n",
        ")"
      ],
      "metadata": {
        "id": "mMZgRRsxodiB"
      },
      "execution_count": null,
      "outputs": []
    },
    {
      "cell_type": "code",
      "source": [
        "def compute_metrics(output_info):\n",
        "    predictions, labels = output_info\n",
        "    predictions = np.argmax(predictions, axis=-1)\n",
        "\n",
        "    f1 = f1_score(y_pred=predictions, y_true=labels, average='macro')\n",
        "    acc = accuracy_score(y_pred=predictions, y_true=labels)\n",
        "    return {'f1': f1, 'acc': acc}"
      ],
      "metadata": {
        "id": "SyN7m0aCouDW"
      },
      "execution_count": null,
      "outputs": []
    },
    {
      "cell_type": "code",
      "source": [
        "transformer_trainer = Trainer(\n",
        "    model=transformer_model,\n",
        "    args=transformer_training_args,\n",
        "    train_dataset=train_data,\n",
        "    eval_dataset=validation_data,\n",
        "    tokenizer=tokenizer,\n",
        "    data_collator=data_collator,\n",
        "    compute_metrics=compute_metrics,\n",
        ")"
      ],
      "metadata": {
        "id": "1TXImfWfofVM"
      },
      "execution_count": null,
      "outputs": []
    },
    {
      "cell_type": "code",
      "source": [
        "transformer_trainer.train()"
      ],
      "metadata": {
        "id": "BYxC-Oxj6usD",
        "colab": {
          "base_uri": "https://localhost:8080/",
          "height": 387
        },
        "outputId": "06c4c53a-229a-48bd-8b4a-a100ad2533ac"
      },
      "execution_count": null,
      "outputs": [
        {
          "output_type": "display_data",
          "data": {
            "text/plain": [
              "<IPython.core.display.HTML object>"
            ],
            "text/html": [
              "\n",
              "    <div>\n",
              "      \n",
              "      <progress value='34' max='7180' style='width:300px; height:20px; vertical-align: middle;'></progress>\n",
              "      [  34/7180 00:06 < 22:41, 5.25 it/s, Epoch 0.05/10]\n",
              "    </div>\n",
              "    <table border=\"1\" class=\"dataframe\">\n",
              "  <thead>\n",
              " <tr style=\"text-align: left;\">\n",
              "      <th>Epoch</th>\n",
              "      <th>Training Loss</th>\n",
              "      <th>Validation Loss</th>\n",
              "    </tr>\n",
              "  </thead>\n",
              "  <tbody>\n",
              "  </tbody>\n",
              "</table><p>"
            ]
          },
          "metadata": {}
        },
        {
          "output_type": "error",
          "ename": "KeyboardInterrupt",
          "evalue": "",
          "traceback": [
            "\u001b[0;31m---------------------------------------------------------------------------\u001b[0m",
            "\u001b[0;31mKeyboardInterrupt\u001b[0m                         Traceback (most recent call last)",
            "\u001b[0;32m<ipython-input-83-2f8e7a884fb0>\u001b[0m in \u001b[0;36m<cell line: 1>\u001b[0;34m()\u001b[0m\n\u001b[0;32m----> 1\u001b[0;31m \u001b[0mtransformer_trainer\u001b[0m\u001b[0;34m.\u001b[0m\u001b[0mtrain\u001b[0m\u001b[0;34m(\u001b[0m\u001b[0;34m)\u001b[0m\u001b[0;34m\u001b[0m\u001b[0;34m\u001b[0m\u001b[0m\n\u001b[0m",
            "\u001b[0;32m/usr/local/lib/python3.10/dist-packages/transformers/trainer.py\u001b[0m in \u001b[0;36mtrain\u001b[0;34m(self, resume_from_checkpoint, trial, ignore_keys_for_eval, **kwargs)\u001b[0m\n\u001b[1;32m   2121\u001b[0m                 \u001b[0mhf_hub_utils\u001b[0m\u001b[0;34m.\u001b[0m\u001b[0menable_progress_bars\u001b[0m\u001b[0;34m(\u001b[0m\u001b[0;34m)\u001b[0m\u001b[0;34m\u001b[0m\u001b[0;34m\u001b[0m\u001b[0m\n\u001b[1;32m   2122\u001b[0m         \u001b[0;32melse\u001b[0m\u001b[0;34m:\u001b[0m\u001b[0;34m\u001b[0m\u001b[0;34m\u001b[0m\u001b[0m\n\u001b[0;32m-> 2123\u001b[0;31m             return inner_training_loop(\n\u001b[0m\u001b[1;32m   2124\u001b[0m                 \u001b[0margs\u001b[0m\u001b[0;34m=\u001b[0m\u001b[0margs\u001b[0m\u001b[0;34m,\u001b[0m\u001b[0;34m\u001b[0m\u001b[0;34m\u001b[0m\u001b[0m\n\u001b[1;32m   2125\u001b[0m                 \u001b[0mresume_from_checkpoint\u001b[0m\u001b[0;34m=\u001b[0m\u001b[0mresume_from_checkpoint\u001b[0m\u001b[0;34m,\u001b[0m\u001b[0;34m\u001b[0m\u001b[0;34m\u001b[0m\u001b[0m\n",
            "\u001b[0;32m/usr/local/lib/python3.10/dist-packages/transformers/trainer.py\u001b[0m in \u001b[0;36m_inner_training_loop\u001b[0;34m(self, batch_size, args, resume_from_checkpoint, trial, ignore_keys_for_eval)\u001b[0m\n\u001b[1;32m   2532\u001b[0m                         \u001b[0mself\u001b[0m\u001b[0;34m.\u001b[0m\u001b[0mcontrol\u001b[0m \u001b[0;34m=\u001b[0m \u001b[0mself\u001b[0m\u001b[0;34m.\u001b[0m\u001b[0mcallback_handler\u001b[0m\u001b[0;34m.\u001b[0m\u001b[0mon_pre_optimizer_step\u001b[0m\u001b[0;34m(\u001b[0m\u001b[0margs\u001b[0m\u001b[0;34m,\u001b[0m \u001b[0mself\u001b[0m\u001b[0;34m.\u001b[0m\u001b[0mstate\u001b[0m\u001b[0;34m,\u001b[0m \u001b[0mself\u001b[0m\u001b[0;34m.\u001b[0m\u001b[0mcontrol\u001b[0m\u001b[0;34m)\u001b[0m\u001b[0;34m\u001b[0m\u001b[0;34m\u001b[0m\u001b[0m\n\u001b[1;32m   2533\u001b[0m \u001b[0;34m\u001b[0m\u001b[0m\n\u001b[0;32m-> 2534\u001b[0;31m                         \u001b[0mself\u001b[0m\u001b[0;34m.\u001b[0m\u001b[0moptimizer\u001b[0m\u001b[0;34m.\u001b[0m\u001b[0mstep\u001b[0m\u001b[0;34m(\u001b[0m\u001b[0;34m)\u001b[0m\u001b[0;34m\u001b[0m\u001b[0;34m\u001b[0m\u001b[0m\n\u001b[0m\u001b[1;32m   2535\u001b[0m \u001b[0;34m\u001b[0m\u001b[0m\n\u001b[1;32m   2536\u001b[0m                         \u001b[0mself\u001b[0m\u001b[0;34m.\u001b[0m\u001b[0mcontrol\u001b[0m \u001b[0;34m=\u001b[0m \u001b[0mself\u001b[0m\u001b[0;34m.\u001b[0m\u001b[0mcallback_handler\u001b[0m\u001b[0;34m.\u001b[0m\u001b[0mon_optimizer_step\u001b[0m\u001b[0;34m(\u001b[0m\u001b[0margs\u001b[0m\u001b[0;34m,\u001b[0m \u001b[0mself\u001b[0m\u001b[0;34m.\u001b[0m\u001b[0mstate\u001b[0m\u001b[0;34m,\u001b[0m \u001b[0mself\u001b[0m\u001b[0;34m.\u001b[0m\u001b[0mcontrol\u001b[0m\u001b[0;34m)\u001b[0m\u001b[0;34m\u001b[0m\u001b[0;34m\u001b[0m\u001b[0m\n",
            "\u001b[0;32m/usr/local/lib/python3.10/dist-packages/accelerate/optimizer.py\u001b[0m in \u001b[0;36mstep\u001b[0;34m(self, closure)\u001b[0m\n\u001b[1;32m    169\u001b[0m                 \u001b[0mself\u001b[0m\u001b[0;34m.\u001b[0m\u001b[0m_accelerate_step_called\u001b[0m \u001b[0;34m=\u001b[0m \u001b[0;32mFalse\u001b[0m\u001b[0;34m\u001b[0m\u001b[0;34m\u001b[0m\u001b[0m\n\u001b[1;32m    170\u001b[0m             \u001b[0;32melse\u001b[0m\u001b[0;34m:\u001b[0m\u001b[0;34m\u001b[0m\u001b[0;34m\u001b[0m\u001b[0m\n\u001b[0;32m--> 171\u001b[0;31m                 \u001b[0mself\u001b[0m\u001b[0;34m.\u001b[0m\u001b[0moptimizer\u001b[0m\u001b[0;34m.\u001b[0m\u001b[0mstep\u001b[0m\u001b[0;34m(\u001b[0m\u001b[0mclosure\u001b[0m\u001b[0;34m)\u001b[0m\u001b[0;34m\u001b[0m\u001b[0;34m\u001b[0m\u001b[0m\n\u001b[0m\u001b[1;32m    172\u001b[0m         \u001b[0;32mif\u001b[0m \u001b[0mself\u001b[0m\u001b[0;34m.\u001b[0m\u001b[0maccelerator_state\u001b[0m\u001b[0;34m.\u001b[0m\u001b[0mdistributed_type\u001b[0m \u001b[0;34m==\u001b[0m \u001b[0mDistributedType\u001b[0m\u001b[0;34m.\u001b[0m\u001b[0mXLA\u001b[0m\u001b[0;34m:\u001b[0m\u001b[0;34m\u001b[0m\u001b[0;34m\u001b[0m\u001b[0m\n\u001b[1;32m    173\u001b[0m             \u001b[0mself\u001b[0m\u001b[0;34m.\u001b[0m\u001b[0mgradient_state\u001b[0m\u001b[0;34m.\u001b[0m\u001b[0mis_xla_gradients_synced\u001b[0m \u001b[0;34m=\u001b[0m \u001b[0;32mFalse\u001b[0m\u001b[0;34m\u001b[0m\u001b[0;34m\u001b[0m\u001b[0m\n",
            "\u001b[0;32m/usr/local/lib/python3.10/dist-packages/torch/optim/lr_scheduler.py\u001b[0m in \u001b[0;36mwrapper\u001b[0;34m(*args, **kwargs)\u001b[0m\n\u001b[1;32m    135\u001b[0m                     \u001b[0mopt\u001b[0m \u001b[0;34m=\u001b[0m \u001b[0mopt_ref\u001b[0m\u001b[0;34m(\u001b[0m\u001b[0;34m)\u001b[0m\u001b[0;34m\u001b[0m\u001b[0;34m\u001b[0m\u001b[0m\n\u001b[1;32m    136\u001b[0m                     \u001b[0mopt\u001b[0m\u001b[0;34m.\u001b[0m\u001b[0m_opt_called\u001b[0m \u001b[0;34m=\u001b[0m \u001b[0;32mTrue\u001b[0m  \u001b[0;31m# type: ignore[union-attr]\u001b[0m\u001b[0;34m\u001b[0m\u001b[0;34m\u001b[0m\u001b[0m\n\u001b[0;32m--> 137\u001b[0;31m                     \u001b[0;32mreturn\u001b[0m \u001b[0mfunc\u001b[0m\u001b[0;34m.\u001b[0m\u001b[0m__get__\u001b[0m\u001b[0;34m(\u001b[0m\u001b[0mopt\u001b[0m\u001b[0;34m,\u001b[0m \u001b[0mopt\u001b[0m\u001b[0;34m.\u001b[0m\u001b[0m__class__\u001b[0m\u001b[0;34m)\u001b[0m\u001b[0;34m(\u001b[0m\u001b[0;34m*\u001b[0m\u001b[0margs\u001b[0m\u001b[0;34m,\u001b[0m \u001b[0;34m**\u001b[0m\u001b[0mkwargs\u001b[0m\u001b[0;34m)\u001b[0m\u001b[0;34m\u001b[0m\u001b[0;34m\u001b[0m\u001b[0m\n\u001b[0m\u001b[1;32m    138\u001b[0m \u001b[0;34m\u001b[0m\u001b[0m\n\u001b[1;32m    139\u001b[0m                 \u001b[0mwrapper\u001b[0m\u001b[0;34m.\u001b[0m\u001b[0m_wrapped_by_lr_sched\u001b[0m \u001b[0;34m=\u001b[0m \u001b[0;32mTrue\u001b[0m  \u001b[0;31m# type: ignore[attr-defined]\u001b[0m\u001b[0;34m\u001b[0m\u001b[0;34m\u001b[0m\u001b[0m\n",
            "\u001b[0;32m/usr/local/lib/python3.10/dist-packages/torch/optim/optimizer.py\u001b[0m in \u001b[0;36mwrapper\u001b[0;34m(*args, **kwargs)\u001b[0m\n\u001b[1;32m    485\u001b[0m                             )\n\u001b[1;32m    486\u001b[0m \u001b[0;34m\u001b[0m\u001b[0m\n\u001b[0;32m--> 487\u001b[0;31m                 \u001b[0mout\u001b[0m \u001b[0;34m=\u001b[0m \u001b[0mfunc\u001b[0m\u001b[0;34m(\u001b[0m\u001b[0;34m*\u001b[0m\u001b[0margs\u001b[0m\u001b[0;34m,\u001b[0m \u001b[0;34m**\u001b[0m\u001b[0mkwargs\u001b[0m\u001b[0;34m)\u001b[0m\u001b[0;34m\u001b[0m\u001b[0;34m\u001b[0m\u001b[0m\n\u001b[0m\u001b[1;32m    488\u001b[0m                 \u001b[0mself\u001b[0m\u001b[0;34m.\u001b[0m\u001b[0m_optimizer_step_code\u001b[0m\u001b[0;34m(\u001b[0m\u001b[0;34m)\u001b[0m\u001b[0;34m\u001b[0m\u001b[0;34m\u001b[0m\u001b[0m\n\u001b[1;32m    489\u001b[0m \u001b[0;34m\u001b[0m\u001b[0m\n",
            "\u001b[0;32m/usr/local/lib/python3.10/dist-packages/torch/optim/optimizer.py\u001b[0m in \u001b[0;36m_use_grad\u001b[0;34m(self, *args, **kwargs)\u001b[0m\n\u001b[1;32m     89\u001b[0m             \u001b[0mtorch\u001b[0m\u001b[0;34m.\u001b[0m\u001b[0mset_grad_enabled\u001b[0m\u001b[0;34m(\u001b[0m\u001b[0mself\u001b[0m\u001b[0;34m.\u001b[0m\u001b[0mdefaults\u001b[0m\u001b[0;34m[\u001b[0m\u001b[0;34m\"differentiable\"\u001b[0m\u001b[0;34m]\u001b[0m\u001b[0;34m)\u001b[0m\u001b[0;34m\u001b[0m\u001b[0;34m\u001b[0m\u001b[0m\n\u001b[1;32m     90\u001b[0m             \u001b[0mtorch\u001b[0m\u001b[0;34m.\u001b[0m\u001b[0m_dynamo\u001b[0m\u001b[0;34m.\u001b[0m\u001b[0mgraph_break\u001b[0m\u001b[0;34m(\u001b[0m\u001b[0;34m)\u001b[0m\u001b[0;34m\u001b[0m\u001b[0;34m\u001b[0m\u001b[0m\n\u001b[0;32m---> 91\u001b[0;31m             \u001b[0mret\u001b[0m \u001b[0;34m=\u001b[0m \u001b[0mfunc\u001b[0m\u001b[0;34m(\u001b[0m\u001b[0mself\u001b[0m\u001b[0;34m,\u001b[0m \u001b[0;34m*\u001b[0m\u001b[0margs\u001b[0m\u001b[0;34m,\u001b[0m \u001b[0;34m**\u001b[0m\u001b[0mkwargs\u001b[0m\u001b[0;34m)\u001b[0m\u001b[0;34m\u001b[0m\u001b[0;34m\u001b[0m\u001b[0m\n\u001b[0m\u001b[1;32m     92\u001b[0m         \u001b[0;32mfinally\u001b[0m\u001b[0;34m:\u001b[0m\u001b[0;34m\u001b[0m\u001b[0;34m\u001b[0m\u001b[0m\n\u001b[1;32m     93\u001b[0m             \u001b[0mtorch\u001b[0m\u001b[0;34m.\u001b[0m\u001b[0m_dynamo\u001b[0m\u001b[0;34m.\u001b[0m\u001b[0mgraph_break\u001b[0m\u001b[0;34m(\u001b[0m\u001b[0;34m)\u001b[0m\u001b[0;34m\u001b[0m\u001b[0;34m\u001b[0m\u001b[0m\n",
            "\u001b[0;32m/usr/local/lib/python3.10/dist-packages/torch/optim/adamw.py\u001b[0m in \u001b[0;36mstep\u001b[0;34m(self, closure)\u001b[0m\n\u001b[1;32m    218\u001b[0m             )\n\u001b[1;32m    219\u001b[0m \u001b[0;34m\u001b[0m\u001b[0m\n\u001b[0;32m--> 220\u001b[0;31m             adamw(\n\u001b[0m\u001b[1;32m    221\u001b[0m                 \u001b[0mparams_with_grad\u001b[0m\u001b[0;34m,\u001b[0m\u001b[0;34m\u001b[0m\u001b[0;34m\u001b[0m\u001b[0m\n\u001b[1;32m    222\u001b[0m                 \u001b[0mgrads\u001b[0m\u001b[0;34m,\u001b[0m\u001b[0;34m\u001b[0m\u001b[0;34m\u001b[0m\u001b[0m\n",
            "\u001b[0;32m/usr/local/lib/python3.10/dist-packages/torch/optim/optimizer.py\u001b[0m in \u001b[0;36mmaybe_fallback\u001b[0;34m(*args, **kwargs)\u001b[0m\n\u001b[1;32m    152\u001b[0m                 \u001b[0;32mreturn\u001b[0m \u001b[0mdisabled_func\u001b[0m\u001b[0;34m(\u001b[0m\u001b[0;34m*\u001b[0m\u001b[0margs\u001b[0m\u001b[0;34m,\u001b[0m \u001b[0;34m**\u001b[0m\u001b[0mkwargs\u001b[0m\u001b[0;34m)\u001b[0m\u001b[0;34m\u001b[0m\u001b[0;34m\u001b[0m\u001b[0m\n\u001b[1;32m    153\u001b[0m             \u001b[0;32melse\u001b[0m\u001b[0;34m:\u001b[0m\u001b[0;34m\u001b[0m\u001b[0;34m\u001b[0m\u001b[0m\n\u001b[0;32m--> 154\u001b[0;31m                 \u001b[0;32mreturn\u001b[0m \u001b[0mfunc\u001b[0m\u001b[0;34m(\u001b[0m\u001b[0;34m*\u001b[0m\u001b[0margs\u001b[0m\u001b[0;34m,\u001b[0m \u001b[0;34m**\u001b[0m\u001b[0mkwargs\u001b[0m\u001b[0;34m)\u001b[0m\u001b[0;34m\u001b[0m\u001b[0;34m\u001b[0m\u001b[0m\n\u001b[0m\u001b[1;32m    155\u001b[0m \u001b[0;34m\u001b[0m\u001b[0m\n\u001b[1;32m    156\u001b[0m         \u001b[0;32mreturn\u001b[0m \u001b[0mmaybe_fallback\u001b[0m\u001b[0;34m\u001b[0m\u001b[0;34m\u001b[0m\u001b[0m\n",
            "\u001b[0;32m/usr/local/lib/python3.10/dist-packages/torch/optim/adamw.py\u001b[0m in \u001b[0;36madamw\u001b[0;34m(params, grads, exp_avgs, exp_avg_sqs, max_exp_avg_sqs, state_steps, foreach, capturable, differentiable, fused, grad_scale, found_inf, has_complex, amsgrad, beta1, beta2, lr, weight_decay, eps, maximize)\u001b[0m\n\u001b[1;32m    780\u001b[0m         \u001b[0mfunc\u001b[0m \u001b[0;34m=\u001b[0m \u001b[0m_single_tensor_adamw\u001b[0m\u001b[0;34m\u001b[0m\u001b[0;34m\u001b[0m\u001b[0m\n\u001b[1;32m    781\u001b[0m \u001b[0;34m\u001b[0m\u001b[0m\n\u001b[0;32m--> 782\u001b[0;31m     func(\n\u001b[0m\u001b[1;32m    783\u001b[0m         \u001b[0mparams\u001b[0m\u001b[0;34m,\u001b[0m\u001b[0;34m\u001b[0m\u001b[0;34m\u001b[0m\u001b[0m\n\u001b[1;32m    784\u001b[0m         \u001b[0mgrads\u001b[0m\u001b[0;34m,\u001b[0m\u001b[0;34m\u001b[0m\u001b[0;34m\u001b[0m\u001b[0m\n",
            "\u001b[0;32m/usr/local/lib/python3.10/dist-packages/torch/optim/adamw.py\u001b[0m in \u001b[0;36m_multi_tensor_adamw\u001b[0;34m(params, grads, exp_avgs, exp_avg_sqs, max_exp_avg_sqs, state_steps, grad_scale, found_inf, amsgrad, beta1, beta2, lr, weight_decay, eps, maximize, capturable, differentiable, has_complex)\u001b[0m\n\u001b[1;32m    518\u001b[0m         \u001b[0;31m# wrapped it once now. The alpha is required to assure we go to the right overload.\u001b[0m\u001b[0;34m\u001b[0m\u001b[0;34m\u001b[0m\u001b[0m\n\u001b[1;32m    519\u001b[0m         \u001b[0;32mif\u001b[0m \u001b[0;32mnot\u001b[0m \u001b[0mtorch\u001b[0m\u001b[0;34m.\u001b[0m\u001b[0m_utils\u001b[0m\u001b[0;34m.\u001b[0m\u001b[0mis_compiling\u001b[0m\u001b[0;34m(\u001b[0m\u001b[0;34m)\u001b[0m \u001b[0;32mand\u001b[0m \u001b[0mdevice_state_steps\u001b[0m\u001b[0;34m[\u001b[0m\u001b[0;36m0\u001b[0m\u001b[0;34m]\u001b[0m\u001b[0;34m.\u001b[0m\u001b[0mis_cpu\u001b[0m\u001b[0;34m:\u001b[0m\u001b[0;34m\u001b[0m\u001b[0;34m\u001b[0m\u001b[0m\n\u001b[0;32m--> 520\u001b[0;31m             torch._foreach_add_(\n\u001b[0m\u001b[1;32m    521\u001b[0m                 \u001b[0mdevice_state_steps\u001b[0m\u001b[0;34m,\u001b[0m \u001b[0mtorch\u001b[0m\u001b[0;34m.\u001b[0m\u001b[0mtensor\u001b[0m\u001b[0;34m(\u001b[0m\u001b[0;36m1.0\u001b[0m\u001b[0;34m,\u001b[0m \u001b[0mdevice\u001b[0m\u001b[0;34m=\u001b[0m\u001b[0;34m\"cpu\"\u001b[0m\u001b[0;34m)\u001b[0m\u001b[0;34m,\u001b[0m \u001b[0malpha\u001b[0m\u001b[0;34m=\u001b[0m\u001b[0;36m1.0\u001b[0m\u001b[0;34m\u001b[0m\u001b[0;34m\u001b[0m\u001b[0m\n\u001b[1;32m    522\u001b[0m             )\n",
            "\u001b[0;31mKeyboardInterrupt\u001b[0m: "
          ]
        }
      ]
    },
    {
      "cell_type": "code",
      "source": [
        "transformer_test_prediction_info = transformer_trainer.predict(test_data)\n",
        "transformer_test_predictions, transformer_test_labels = transformer_test_prediction_info.predictions, transformer_test_prediction_info.label_ids\n",
        "\n",
        "print(transformer_test_predictions.shape)\n",
        "print(transformer_test_labels.shape)"
      ],
      "metadata": {
        "colab": {
          "base_uri": "https://localhost:8080/",
          "height": 131
        },
        "id": "IttiBDUOqCOf",
        "outputId": "7a468282-5a13-4b81-8124-b1fcf7d94900"
      },
      "execution_count": null,
      "outputs": [
        {
          "output_type": "display_data",
          "data": {
            "text/plain": [
              "<IPython.core.display.HTML object>"
            ],
            "text/html": [
              "\n",
              "    <div>\n",
              "      \n",
              "      <progress value='34' max='7180' style='width:300px; height:20px; vertical-align: middle;'></progress>\n",
              "      [  34/7180 00:06 < 22:41, 5.25 it/s, Epoch 0.05/10]\n",
              "    </div>\n",
              "    <table border=\"1\" class=\"dataframe\">\n",
              "  <thead>\n",
              " <tr style=\"text-align: left;\">\n",
              "      <th>Epoch</th>\n",
              "      <th>Training Loss</th>\n",
              "      <th>Validation Loss</th>\n",
              "    </tr>\n",
              "  </thead>\n",
              "  <tbody>\n",
              "  </tbody>\n",
              "</table><p>\n",
              "    <div>\n",
              "      \n",
              "      <progress value='36' max='36' style='width:300px; height:20px; vertical-align: middle;'></progress>\n",
              "      [36/36 00:01]\n",
              "    </div>\n",
              "    "
            ]
          },
          "metadata": {}
        },
        {
          "output_type": "stream",
          "name": "stdout",
          "text": [
            "(286, 2)\n",
            "(286,)\n"
          ]
        }
      ]
    },
    {
      "cell_type": "code",
      "source": [
        "transformer_test_metrics = compute_metrics([transformer_test_predictions, transformer_test_labels])\n",
        "print(transformer_test_metrics)"
      ],
      "metadata": {
        "colab": {
          "base_uri": "https://localhost:8080/"
        },
        "id": "ZWGVCWBIqGrG",
        "outputId": "82c2eb46-8d4c-407b-875b-7a602d3093fb"
      },
      "execution_count": null,
      "outputs": [
        {
          "output_type": "stream",
          "name": "stdout",
          "text": [
            "{'f1': 0.7872023809523809, 'acc': 0.7902097902097902}\n"
          ]
        }
      ]
    },
    {
      "cell_type": "markdown",
      "source": [
        "# COSE DA FARE"
      ],
      "metadata": {
        "id": "HxgQ8lX2HHsg"
      }
    },
    {
      "cell_type": "markdown",
      "source": [
        " ### ERROR ANALYSIS\n",
        " FAQ: <br>\n",
        " Some topics for discussion include:\n",
        "   * Precision/Recall curves.\n",
        "   * Confusion matrices.\n",
        "   * Specific misclassified samples.\n",
        "\n",
        "NOSTRE: <br>\n",
        " * Nelle frasi sbagliate, printare la frase con i token che non sono nel vocabolario colorati di rosso.\n",
        " * Controllo delle distribuzioni del dataset (bilanciato?)\n",
        " * Discutere gli errori comuni e le performance\n",
        "\n",
        "\n",
        " ### IDEE EXTRA\n",
        "  * Usare embedding trainabili invece di globe\n",
        "  * Mantenere le emojy e hashtag nel testo dei tweet\n",
        "  * Usare tokenizer nel primo task\n"
      ],
      "metadata": {
        "id": "FzZoydiDFX2V"
      }
    },
    {
      "cell_type": "markdown",
      "metadata": {
        "id": "3gtiG2mAL3HM"
      },
      "source": [
        "# [Task 7 - 0.5 points] Error Analysis\n",
        "\n",
        "### Instructions\n",
        "\n",
        "After evaluating the model, perform a brief error analysis:\n",
        "\n",
        " - Review the results and identify common errors.\n",
        "\n",
        " - Summarize your findings regarding the errors and their impact on performance (e.g. but not limited to Out-of-Vocabulary (OOV) words, data imbalance, and performance differences between the custom model and the transformer...)\n",
        " - Suggest possible solutions to address the identified errors.\n",
        "\n"
      ]
    },
    {
      "cell_type": "markdown",
      "source": [
        "#### Start with an analysis of the dataset to see the data"
      ],
      "metadata": {
        "id": "f67A2JytIxfl"
      }
    },
    {
      "cell_type": "code",
      "source": [
        "data_train = train_df\n",
        "data_val = validation_df\n",
        "data_test = test_df\n",
        "data_train = data_train.rename(columns={'hard_label_task1': 'label'})\n",
        "data_val = data_val.rename(columns={'hard_label_task1': 'label'})\n",
        "data_test = data_test.rename(columns={'hard_label_task1': 'label'})"
      ],
      "metadata": {
        "id": "a6yrItmqMXuf"
      },
      "execution_count": null,
      "outputs": []
    },
    {
      "cell_type": "markdown",
      "source": [
        "Plot the distribution of the labels in the train, validation and test sets."
      ],
      "metadata": {
        "id": "JIZXspFBTjYT"
      }
    },
    {
      "cell_type": "code",
      "source": [
        "def plot_label_distribution(data_list, labels):\n",
        "    for i in range(len(data_list)):\n",
        "        data = data_list[i]\n",
        "        print(labels[i])\n",
        "\n",
        "        # Basic Statistics\n",
        "        print(\"Label Distribution\")\n",
        "        print(data['label'].value_counts())\n",
        "\n",
        "        # Label Distribution\n",
        "        plt.figure(figsize=(8, 6))\n",
        "        sns.countplot(data=data, x='label', palette='coolwarm')\n",
        "        plt.title('Distribution of Labels')\n",
        "        plt.xlabel('Label')\n",
        "        plt.ylabel('Count')\n",
        "        plt.show()\n",
        "\n",
        "        print('\\n\\n')\n",
        "\n",
        "plot_label_distribution([data_train, data_val, data_test], labels=['Training Set', 'Validation Set', 'Test Set'])"
      ],
      "metadata": {
        "colab": {
          "base_uri": "https://localhost:8080/",
          "height": 1000
        },
        "id": "2mqLZpR8TfZ-",
        "outputId": "df87f25b-71cf-4311-fc05-9df5793fbae8"
      },
      "execution_count": null,
      "outputs": [
        {
          "output_type": "stream",
          "name": "stdout",
          "text": [
            "Training Set\n",
            "Label Distribution\n",
            "label\n",
            "0    1733\n",
            "1    1137\n",
            "Name: count, dtype: int64\n"
          ]
        },
        {
          "output_type": "display_data",
          "data": {
            "text/plain": [
              "<Figure size 800x600 with 1 Axes>"
            ],
            "image/png": "[encoded data removed]"
          },
          "metadata": {}
        },
        {
          "output_type": "stream",
          "name": "stdout",
          "text": [
            "\n",
            "\n",
            "\n",
            "Validation Set\n",
            "Label Distribution\n",
            "label\n",
            "0    90\n",
            "1    68\n",
            "Name: count, dtype: int64\n"
          ]
        },
        {
          "output_type": "display_data",
          "data": {
            "text/plain": [
              "<Figure size 800x600 with 1 Axes>"
            ],
            "image/png": "[encoded data removed]"
          },
          "metadata": {}
        },
        {
          "output_type": "stream",
          "name": "stdout",
          "text": [
            "\n",
            "\n",
            "\n",
            "Test Set\n",
            "Label Distribution\n",
            "label\n",
            "0    160\n",
            "1    126\n",
            "Name: count, dtype: int64\n"
          ]
        },
        {
          "output_type": "display_data",
          "data": {
            "text/plain": [
              "<Figure size 800x600 with 1 Axes>"
            ],
            "image/png": "[encoded data removed]"
          },
          "metadata": {}
        },
        {
          "output_type": "stream",
          "name": "stdout",
          "text": [
            "\n",
            "\n",
            "\n"
          ]
        }
      ]
    },
    {
      "cell_type": "markdown",
      "source": [
        "Plot the train, validation and test set distribution of the tweet lenght."
      ],
      "metadata": {
        "id": "6t3zIb49TsEg"
      }
    },
    {
      "cell_type": "code",
      "source": [
        "def plot_distr_tweet_len(data_list_or, labels):\n",
        "    data_list = []\n",
        "    for data_or in data_list_or:\n",
        "        data = data_or.copy()\n",
        "        data['tweet_length'] = data['tweet'].apply(len)\n",
        "        data_list.append(data)\n",
        "\n",
        "    # Determine global x and y axis limits\n",
        "    all_lengths = pd.concat([data['tweet_length'] for data in data_list])\n",
        "    x_min, x_max = all_lengths.min(), all_lengths.max()\n",
        "\n",
        "    # Plot each dataset with consistent axes\n",
        "    for i, data in enumerate(data_list):\n",
        "        plt.figure(figsize=(10, 6))\n",
        "        sns.histplot(data, x='tweet_length', hue='label', bins=30, kde=True, palette='coolwarm')\n",
        "        plt.title(f'Distribution of Tweet Lengths - {labels[i]}')\n",
        "        plt.xlabel('Tweet Length')\n",
        "        plt.ylabel('Frequency')\n",
        "        plt.xlim(x_min, x_max)\n",
        "        plt.show()\n",
        "\n",
        "plot_distr_tweet_len([data_train, data_val, data_test], labels=['Training Set', 'Validation Set', 'Test Set'])\n"
      ],
      "metadata": {
        "colab": {
          "base_uri": "https://localhost:8080/",
          "height": 1000
        },
        "id": "hpW5LynsMiBz",
        "outputId": "1a5c9e0a-e7a8-4b70-eb95-37d5235efef5"
      },
      "execution_count": null,
      "outputs": [
        {
          "output_type": "display_data",
          "data": {
            "text/plain": [
              "<Figure size 1000x600 with 1 Axes>"
            ],
            "image/png": "[encoded data removed]"
          },
          "metadata": {}
        },
        {
          "output_type": "display_data",
          "data": {
            "text/plain": [
              "<Figure size 1000x600 with 1 Axes>"
            ],
            "image/png": "[encoded data removed]"
          },
          "metadata": {}
        },
        {
          "output_type": "display_data",
          "data": {
            "text/plain": [
              "<Figure size 1000x600 with 1 Axes>"
            ],
            "image/png": "[encoded data removed]"
          },
          "metadata": {}
        }
      ]
    },
    {
      "cell_type": "markdown",
      "source": [
        "Plot the most frequent words for each label"
      ],
      "metadata": {
        "id": "f9sicR52V1xV"
      }
    },
    {
      "cell_type": "code",
      "source": [
        "def analyze_top_words_by_label(data, text_column='tweet', label_column='label', n_top_words=20, exluded_words={}):\n",
        "    # Ensure the input data has the required columns\n",
        "    if text_column not in data.columns or label_column not in data.columns:\n",
        "        raise ValueError(f\"Dataframe must contain '{text_column}' and '{label_column}' columns.\")\n",
        "\n",
        "    # Define stop words\n",
        "    stop_words = set(stopwords.words('english') + list(string.punctuation) + list(exluded_words))\n",
        "\n",
        "    # Preprocessing function\n",
        "    def preprocess_text(text):\n",
        "        tokens = word_tokenize(text.lower())\n",
        "        filtered_words = [word for word in tokens if word not in stop_words and word.isalnum()]\n",
        "        return ' '.join(filtered_words)\n",
        "\n",
        "    # Apply preprocessing to the text column\n",
        "    data['cleaned_text'] = data[text_column].apply(preprocess_text)\n",
        "\n",
        "    # Function to get top words\n",
        "    def get_top_words(texts, n=20):\n",
        "        all_words = ' '.join(texts).split()\n",
        "        most_common = Counter(all_words).most_common(n)\n",
        "        return pd.DataFrame(most_common, columns=['word', 'count'])\n",
        "\n",
        "    # Find top words for each label and determine max count for consistent plotting\n",
        "    max_count = 0\n",
        "    label_top_words = {}\n",
        "    for label in data[label_column].unique():\n",
        "        subset = data[data[label_column] == label]\n",
        "        top_words = get_top_words(subset['cleaned_text'], n=n_top_words)\n",
        "        top_words = top_words[~top_words['word'].isin(exluded_words)]\n",
        "        label_top_words[label] = top_words\n",
        "        if not top_words.empty:\n",
        "            max_count = max(max_count, top_words['count'].max())\n",
        "\n",
        "    # Plot the results\n",
        "    for label, top_words in label_top_words.items():\n",
        "        if not top_words.empty:\n",
        "            plt.figure(figsize=(12, 6))\n",
        "            sns.barplot(data=top_words, x='count', y='word', palette='coolwarm')\n",
        "            plt.title(f\"Top Words for Label: {label}\")\n",
        "            plt.xlabel('Count')\n",
        "            plt.ylabel('Word')\n",
        "            plt.xlim(0, max_count + 5)  # Adding a small margin for better visuals\n",
        "            plt.show()"
      ],
      "metadata": {
        "id": "lUbn1RgLveCO"
      },
      "execution_count": null,
      "outputs": []
    },
    {
      "cell_type": "code",
      "source": [
        "analyze_top_words_by_label(data_train, text_column='tweet', label_column='label', n_top_words=20)"
      ],
      "metadata": {
        "colab": {
          "base_uri": "https://localhost:8080/",
          "height": 1000
        },
        "id": "Qj0fvpkzvmBv",
        "outputId": "c6a5ef39-3fc7-4c7d-b8cc-b151b2a79d1a"
      },
      "execution_count": null,
      "outputs": [
        {
          "output_type": "display_data",
          "data": {
            "text/plain": [
              "<Figure size 1200x600 with 1 Axes>"
            ],
            "image/png": "[encoded data removed]"
          },
          "metadata": {}
        },
        {
          "output_type": "display_data",
          "data": {
            "text/plain": [
              "<Figure size 1200x600 with 1 Axes>"
            ],
            "image/png": "[encoded data removed]"
          },
          "metadata": {}
        }
      ]
    },
    {
      "cell_type": "markdown",
      "source": [
        "Exclude some of the common words between the two labels to have a better understanding of the situation."
      ],
      "metadata": {
        "id": "jshA7efaWCsd"
      }
    },
    {
      "cell_type": "code",
      "source": [
        "excluded_words = {'user', 'http', 'amp', 'like', 'get', 'know', 'would', 'even'}\n",
        "analyze_top_words_by_label(data_train, text_column='tweet', label_column='label', n_top_words=20, exluded_words=excluded_words)"
      ],
      "metadata": {
        "colab": {
          "base_uri": "https://localhost:8080/",
          "height": 1000
        },
        "id": "lrYPeEUHwV5Y",
        "outputId": "0ebb37a2-0111-425e-808b-e0b08959cc8f"
      },
      "execution_count": null,
      "outputs": [
        {
          "output_type": "display_data",
          "data": {
            "text/plain": [
              "<Figure size 1200x600 with 1 Axes>"
            ],
            "image/png": "[encoded data removed]"
          },
          "metadata": {}
        },
        {
          "output_type": "display_data",
          "data": {
            "text/plain": [
              "<Figure size 1200x600 with 1 Axes>"
            ],
            "image/png": "[encoded data removed]"
          },
          "metadata": {}
        }
      ]
    },
    {
      "cell_type": "markdown",
      "source": [
        "#### Confusion matrix and Precision-Recall curve\n"
      ],
      "metadata": {
        "id": "fceDGW-np8LN"
      }
    },
    {
      "cell_type": "code",
      "source": [
        "def plot_cf_and_PRcurve(y_test, y_prob):\n",
        "    y_pred = np.argmax(y_prob, axis=-1)\n",
        "\n",
        "    conf_matrix = confusion_matrix(y_test, y_pred)\n",
        "\n",
        "    # Confusion Matrix\n",
        "    plt.figure(figsize=(6, 5))\n",
        "    sns.heatmap(conf_matrix, annot=True, fmt=\"d\", cmap=\"Blues\", xticklabels=[\"Negative\", \"Positive\"], yticklabels=[\"Negative\", \"Positive\"])\n",
        "    plt.title(\"Confusion Matrix\")\n",
        "    plt.xlabel(\"Predicted\")\n",
        "    plt.ylabel(\"Actual\")\n",
        "    plt.show()\n",
        "\n",
        "    precision, recall, thresholds = precision_recall_curve(y_test, y_prob[:, 1])\n",
        "\n",
        "    # Precision-Recall curve\n",
        "    plt.figure(figsize=(8, 6))\n",
        "    plt.plot(recall, precision, color=\"b\", label=\"Precision-Recall Curve\")\n",
        "    plt.fill_between(recall, precision, color=\"skyblue\", alpha=0.4)\n",
        "    plt.title(\"Precision-Recall Curve\")\n",
        "    plt.xlabel(\"Recall\")\n",
        "    plt.ylabel(\"Precision\")\n",
        "    plt.legend(loc=\"lower left\")\n",
        "    plt.show()\n",
        "\n",
        "    print(\"\\nClassification Report:\")\n",
        "    print(classification_report(y_test, y_pred))"
      ],
      "metadata": {
        "id": "4n0awo0xjFF1"
      },
      "execution_count": null,
      "outputs": []
    },
    {
      "cell_type": "markdown",
      "source": [
        "AGGIUNGERE CONFUSION MATRIX E PRECISION-RECALL CURVE PER BASELINE_MODEL E MODEL_1"
      ],
      "metadata": {
        "id": "92_vWN5AZBEg"
      }
    },
    {
      "cell_type": "markdown",
      "source": [
        "Transformer model"
      ],
      "metadata": {
        "id": "JCv5QiOfWti6"
      }
    },
    {
      "cell_type": "code",
      "source": [
        "plot_cf_and_PRcurve(transformer_test_labels, transformer_test_predictions)"
      ],
      "metadata": {
        "colab": {
          "base_uri": "https://localhost:8080/",
          "height": 1000
        },
        "id": "OiehN41CWqYt",
        "outputId": "596e8a81-e12d-44ab-d261-1143ec5df78e"
      },
      "execution_count": null,
      "outputs": [
        {
          "output_type": "display_data",
          "data": {
            "text/plain": [
              "<Figure size 600x500 with 2 Axes>"
            ],
            "image/png": "[encoded data removed]"
          },
          "metadata": {}
        },
        {
          "output_type": "display_data",
          "data": {
            "text/plain": [
              "<Figure size 800x600 with 1 Axes>"
            ],
            "image/png": "[encoded data removed]"
          },
          "metadata": {}
        },
        {
          "output_type": "stream",
          "name": "stdout",
          "text": [
            "\n",
            "Classification Report:\n",
            "              precision    recall  f1-score   support\n",
            "\n",
            "           0       0.81      0.81      0.81       160\n",
            "           1       0.76      0.76      0.76       126\n",
            "\n",
            "    accuracy                           0.79       286\n",
            "   macro avg       0.79      0.79      0.79       286\n",
            "weighted avg       0.79      0.79      0.79       286\n",
            "\n"
          ]
        }
      ]
    },
    {
      "cell_type": "markdown",
      "source": [
        "#### Specific misclassified samples"
      ],
      "metadata": {
        "id": "4WLyLDXVsrkG"
      }
    },
    {
      "cell_type": "code",
      "source": [
        "def analyze_errors(text, pred, label, tokenizer):\n",
        "    # Check if pred and label are of the same length\n",
        "    if len(pred) != len(label):\n",
        "        raise ValueError(\"The length of prediction and label lists must be the same.\")\n",
        "\n",
        "    # Initialize a list to store the results of incorrect predictions\n",
        "    incorrect_preds = []\n",
        "    output_list = []\n",
        "\n",
        "    pred = np.argmax(pred, axis=-1)\n",
        "    # Iterate through each token in the prediction and label\n",
        "    for i in range(len(pred)):\n",
        "        # If the prediction is incorrect, we'll process this token\n",
        "        if pred[i] != label[i]:\n",
        "            incorrect_preds.append((text[i], i))\n",
        "            output_list.append((text[i], pred[i]))\n",
        "\n",
        "    print(f\"Number of incorrect prediction: {len(incorrect_preds)}\")\n",
        "    print()\n",
        "    print(\"First dot reprsent label, second represent prediction, red means sexist\")\n",
        "    # If there are incorrect predictions, print them and color OOV tokens\n",
        "    for err, idx in incorrect_preds:\n",
        "        if label[idx] == 1:\n",
        "            print(\"🔴\", end=\" \")\n",
        "        else:\n",
        "            print(\"🟢\", end=\" \")\n",
        "        if pred[idx] == 1:\n",
        "            print(\"🔴\", end=\" \")\n",
        "        else:\n",
        "            print(\"🟢\", end=\" \")\n",
        "        print(err)\n",
        "\n",
        "    return output_list\n",
        "\n",
        "incpreds = analyze_errors(data_test['tweet'], test_predictions, test_labels, tokenizer)"
      ],
      "metadata": {
        "colab": {
          "base_uri": "https://localhost:8080/"
        },
        "id": "JV249l1T3UOz",
        "outputId": "bf2817e3-1274-461d-a0fe-58f65993dc86"
      },
      "execution_count": null,
      "outputs": [
        {
          "output_type": "stream",
          "name": "stdout",
          "text": [
            "Number of incorrect prediction: 48\n",
            "\n",
            "First dot reprsent label, second represent prediction, red means sexist\n",
            "🟢 🔴 “I mean I do, but… wouldn’t it be fun to get gangbanged together~?” http\n",
            "🟢 🔴 @user @user Sex* as in 'gender' harassment is what they are inferring.\n",
            "🟢 🔴 @user How did we reach a point where blonks are having the audacity to talk about yoongis rap do y'all see who you Stan ? Are y'all ok ?? Your girls can't write can't deliver can't come close to bts's lyricism tf are y'all getting brave for ?? Fashion deals ??\n",
            "🟢 🔴 He Tries To Expose This Gold Digger BUT IT BACKFIRES. | 90 Day Fiancée B... http via @user\n",
            "🟢 🔴 @user Well let me ask for the guys… do you ever just grab your testicles because you can?\n",
            "🔴 🟢 Dear @user fans Can we not harass talented actors of color? Stop being racist douche nozzles. This is why we can't have nice things. Moses is a badass inquisitor and y'all can't handle her badassary. http\n",
            "🔴 🟢 stop saying i said this cus she has short hair! some of her gayest looks came from 2017/18 blonde ponytail era!!!!!! know ur herstory http\n",
            "🔴 🟢 @user @user @user Not as much as they harm/kill women and children, by a long shot (pun intended)\n",
            "🟢 🔴 @user @user @user Yup I hate when men rape and kill women. http\n",
            "🔴 🟢 Calls to clean up Parliament's laddish culture after MP's porn shame http via http\n",
            "🟢 🔴 Stop ✋🏾 Don’t lie to these people. Ladies, don’t let this man trick you out of the greatest organs of your life 🙄 cause  what? http\n",
            "🔴 🟢 \"Dude Looks Like A Lady\" 💫🎶Aerosmith🎶🎸⚡️💫https://t.co/41OxpV6YWm\n",
            "🔴 🟢 Mansplaining the concept of a pee drawer to my partner (who want me)\n",
            "🔴 🟢 Going weak rn... PLAYING THE GUITAR?!?!?! MANSPREADING!?!??!?! I AM ON MY KNEES http\n",
            "🟢 🔴 stay on Penis masturbate the Penis forever http\n",
            "🟢 🔴 @user Ya know…it’s crazy Roe v Wade initially started because a lie about black men. Here we are 50 years later we’re still catching strays because of what white men do to y’all. The black misandry is real no matter what party dems or republicans. http\n",
            "🔴 🟢 @user @user @user I don’t need a man to tell me what to stand up for, thank you.\n",
            "🔴 🟢 @user @user @user It's objectification &amp; dehumanizing. I saw someone take time out of their day to make a strong political point about Horwath 🙄(sarcasm) -- he Tweeted about how her photo looked like it had lots of photoshop. Such pathetic clowns.\n",
            "🔴 🟢 @user @user Why bother going to Mars if life there is just going to be more of the same toxic sexism, racism and bigotry - the same horrible oppression, unfairness and inequality - that makes Earth a living hell for so many?\n",
            "🟢 🔴 \"As a diverse and pluralistic country, America’s laws should not be based on a distorted and patriarchal interpretation of Christianity. Furthermore, the government should have no role whatsoever in a woman’s private healthcare decisions.\"\n",
            "🟢 🔴 @user Notice something else tho…Almost every single one, is a man. That’s such a fucking problem that this is how some men believe they should let out their angers and hatred. This society needs to do better, it does not even benefit the men. Patriarchy/misogyny fails everyone\n",
            "🔴 🟢 Galaxy brain concept: girl who transitions so she can wear menswear in a stylish, lesbicious sort of way that patriarchy doesn’t let men do http\n",
            "🟢 🔴 @user @user @user When people were in a mobile hunting and gatheringeconomic system. In such sytems patrilineal kinship reckoning  and patrilocal post-marital residence is extremely rare. \"Male dominance\" of social life is not really a thing. So.. for at least the last 200,000 years.\n",
            "🟢 🔴 @user It’s in the TEAxASS code book of penis envy idiots that it’s guns over everything. Sad thing is it’s spreading and the more we try to stop it, the faster it spreads like the diseased idiots that support it.\n",
            "🔴 🟢 @user Have I missed something, or has phallocentrism become the latest cult?\n",
            "🔴 🟢 Fuck's sake is it possible to have a furry space that's not explicitly content-restricted and doesn't immediately become yet another showcase for size-queen phallocentrism?\n",
            "🔴 🟢 Cyborg politics is the struggle for language and the struggle against perfect communication, against the one code that translates all meaning perfectly, the central dogma of phallogocentrism\n",
            "🔴 🟢 @user it’s ironic that the majority of the people happy about this in the comments are people who can’t get pregnant\n",
            "🟢 🔴 @user @user @user @user Sharia law in the religion of Islam allows abortion before the 5th montha for Rape, Incest, Mental/Physical health, or Life of Mother is at risk. After the 5th Month, abortion allowed only to save the life of the Mother.\n",
            "🟢 🔴 @user New sex role reversed (polyandrous) birds to study?\n",
            "🟢 🔴 \"Calling A Man Bald Is Sexual Harassment\" http via @user\n",
            "🔴 🟢 @user I don’t care what gender, race, religion,sexual orientation a person is as long as they are qualified for that position. That being said, is she qualified based on experience/education or was she chosen solely because she is black and gay to please progressives/woke. Just saying.\n",
            "🔴 🟢 @user I kinda get her point but a slag is too far off for me 😭 http\n",
            "🔴 🟢 @user yea back when i didn’t even have one to slap, unfortunate !\n",
            "🔴 🟢 Say NO to the Superwoman Syndrome 😎 - http http\n",
            "🟢 🔴 @user Today’s women eye makeup. And those nails too.\n",
            "🔴 🟢 #Women should focus on money freedom, and not retirement! Today's women may still think about #retirement as \"not having to work.\"  Read why! &gt; http #financialadvisor #financialfreedom #retirementplanning #empoweringwomen #albuquerque #ABQ http\n",
            "🔴 🟢 @user I packed my hubbies case when we were going to a wedding in england, told him to pop his underpants in.  Gets to England, he puts his kilt outfit on and everyone discovered what a true scot doesn't wear under his kilt.  If I don't do it, it doesn't get done.  Men!\n",
            "🟢 🔴 @user oh so now u can’t understand women’s words??????\n",
            "🟢 🔴 the question is do i wear the very short skirt that literally shows my ass with kneehighs or opt out for a short 🤔\n",
            "🟢 🔴 @user My new favorite meme is the pregnant woman driving in the Oklahoma HOV lane telling the state trooper who pulled her over that she is driving with another person..\n",
            "🔴 🟢 An unarmed Black woman driving a car with a \"broken tail light\" is more dangerous than a white supremacist terrorist who murdered 10 people.\n",
            "🟢 🔴 Feminism VS Womanism\"Hudson-Weems identifies further differences between womanism and feminism being; womanism is \"family-oriented\" and focuses on race, class, and gender, while feminism is \"female-oriented\" and strictly focuses on biological sex related issues women face.\" http\n",
            "🟢 🔴 @user Yeah, women are getting just as bad. I've noticed it anyway, I'm sorry people are sending you stuff like that, it can be so gross!\n",
            "🔴 🟢 @user I didn’t even know that was possible omg sorry you gotta go through that. Uterus cramps, butt cramps, and now heart cramps women can’t catch a break 🥲\n",
            "🟢 🔴 @user @user @user WOW! Trouble Making Witches Unite!\n",
            "🟢 🔴 Uh, they're allowed to? calling this out makes you look like a cunt. Fortunately, I'll block you so fast you wont get your screenshot. http\n",
            "🟢 🔴 @user @user @user I don't know what you're on about? My point was that you shouldn't mock other people's looks, because it's very shallow and makes you look like a cunt. Thanks for your input though 👍\n"
          ]
        }
      ]
    },
    {
      "cell_type": "code",
      "source": [
        "errors_df = pd.DataFrame(incpreds, columns=[\"tweet\", \"label\"])\n",
        "analyze_top_words_by_label(errors_df, text_column='tweet', label_column='label', n_top_words=20, exluded_words=excluded_words)"
      ],
      "metadata": {
        "colab": {
          "base_uri": "https://localhost:8080/",
          "height": 1000
        },
        "id": "aySKvxjrw4bY",
        "outputId": "0fad9c71-e5b1-46af-b27d-1b3fdd87c380"
      },
      "execution_count": null,
      "outputs": [
        {
          "output_type": "display_data",
          "data": {
            "text/plain": [
              "<Figure size 1200x600 with 1 Axes>"
            ],
            "image/png": "[encoded data removed]"
          },
          "metadata": {}
        },
        {
          "output_type": "display_data",
          "data": {
            "text/plain": [
              "<Figure size 1200x600 with 1 Axes>"
            ],
            "image/png": "[encoded data removed]"
          },
          "metadata": {}
        }
      ]
    },
    {
      "cell_type": "markdown",
      "source": [
        "Top words for baseline model"
      ],
      "metadata": {
        "id": "ZCTd9uG536ZV"
      }
    },
    {
      "cell_type": "code",
      "source": [
        "analyze_top_words_by_label(baseline_error_df, text_column='tweet', label_column='label', n_top_words=20)"
      ],
      "metadata": {
        "colab": {
          "base_uri": "https://localhost:8080/",
          "height": 1000
        },
        "id": "VWUtcGor20pK",
        "outputId": "b189e5b3-1e5c-4f23-eee7-25411c1ce2dd"
      },
      "execution_count": null,
      "outputs": [
        {
          "output_type": "display_data",
          "data": {
            "text/plain": [
              "<Figure size 1200x600 with 1 Axes>"
            ],
            "image/png": "[encoded data removed]"
          },
          "metadata": {}
        },
        {
          "output_type": "display_data",
          "data": {
            "text/plain": [
              "<Figure size 1200x600 with 1 Axes>"
            ],
            "image/png": "[encoded data removed]"
          },
          "metadata": {}
        }
      ]
    },
    {
      "cell_type": "code",
      "source": [
        "analyze_top_words_by_label(model_1_error_df, text_column='tweet', label_column='label', n_top_words=20)"
      ],
      "metadata": {
        "colab": {
          "base_uri": "https://localhost:8080/",
          "height": 564
        },
        "id": "aCn27p7oMeny",
        "outputId": "1750f381-969c-4720-f014-c67dddca7fa1"
      },
      "execution_count": null,
      "outputs": [
        {
          "output_type": "display_data",
          "data": {
            "text/plain": [
              "<Figure size 1200x600 with 1 Axes>"
            ],
            "image/png": "[encoded data removed]"
          },
          "metadata": {}
        }
      ]
    },
    {
      "cell_type": "code",
      "source": [
        "def highlight_oov_tokens(df, vocabulary, tweet_column=\"tweet\", label_column=\"label\", oov_column=\"oov_token_count\"):\n",
        "    # Extract vocabulary keys\n",
        "    vocab_keys = set(vocabulary.keys())\n",
        "\n",
        "    def highlight_tokens(tweet):\n",
        "        \"\"\"Highlight OOV tokens in red within the tweet.\"\"\"\n",
        "        tokens = tweet.split()  # Assuming tweets are space-separated strings\n",
        "        highlighted = [\n",
        "            f\"\\033[91m{token}\\033[0m\" if token not in vocab_keys else token\n",
        "            for token in tokens\n",
        "        ]\n",
        "        return \" \".join(highlighted)\n",
        "\n",
        "    print(f\"\\n{'Label':<6}{'Tweet (OOV tokens highlighted in red)':<60}\")\n",
        "    print(\"-\" * 70)\n",
        "\n",
        "    for _, row in df.iterrows():\n",
        "        label = row[label_column]\n",
        "        tweet = row[tweet_column]\n",
        "        label_emoji = \"🔴\" if label == 1 else \"🟢\"\n",
        "        highlighted_tweet = highlight_tokens(tweet)\n",
        "        print(f\"{label_emoji:<6}{highlighted_tweet}\")\n",
        "\n",
        "highlight_oov_tokens(baseline_error_df, vocab, tweet_column=\"tweet\", label_column=\"label\", oov_column=\"oov_token_count\")"
      ],
      "metadata": {
        "colab": {
          "base_uri": "https://localhost:8080/"
        },
        "id": "lUyqzFr37USg",
        "outputId": "564bb260-75c9-4328-92f9-9a2a2a4d93ce"
      },
      "execution_count": null,
      "outputs": [
        {
          "output_type": "stream",
          "name": "stdout",
          "text": [
            "\n",
            "Label Tweet (OOV tokens highlighted in red)                       \n",
            "----------------------------------------------------------------------\n",
            "🔴     like outfit except dress frigid bitch try look \u001b[91mconstipated\u001b[0m new\n",
            "🔴     fuck cunt tried vote multiple time\n",
            "🔴     u got ta say shit like ill fuck cunt dumb cant remember anything name stupid slut\n",
            "🔴     \u001b[91mmmm\u001b[0m fuck cunt hungry dick isnt shame lie want wanting body never \u001b[91mcanhe\u001b[0m say ear start \u001b[91mkissing\u001b[0m neck making sure leave plenty love mark \u001b[91mpale\u001b[0m skin\n",
            "🔴     \u001b[91msuika\u001b[0m get gangbanged death\n",
            "🔴     maybe something involving getting gangbanged\n",
            "🔴     \u001b[91mkabul\u001b[0m islamic \u001b[91memirate\u001b[0m afghanistan announced end \u001b[91mcoeducation\u001b[0m country \u001b[91mciting\u001b[0m gender \u001b[91mharassmentfemale\u001b[0m student attend university \u001b[91mmonday\u001b[0m wednesday saturday tuesday thursday sunday \u001b[91mfixed\u001b[0m male\n",
            "🟢     gender gender identity amp sexual \u001b[91morientationparents\u001b[0m place great deal trust public school system care education \u001b[91mchildrenthat\u001b[0m trust \u001b[91mbetrayed\u001b[0m shameful \u001b[91mdeceitful\u001b[0m way\n",
            "🔴     violent \u001b[91mantifeminism\u001b[0m farright movement see \u001b[91mprincipally\u001b[0m vessel breeding new white generation express \u001b[91mfixation\u001b[0m \u001b[91mareturn\u001b[0m traditional gender \u001b[91mrolesworth\u001b[0m every minute read take 5 min sun\n",
            "🟢     reach point \u001b[91mblonks\u001b[0m \u001b[91maudacity\u001b[0m talk \u001b[91myoongis\u001b[0m rap yall see stan yall ok girl cant write cant deliver cant come close \u001b[91mbtss\u001b[0m \u001b[91mlyricism\u001b[0m tf yall getting brave fashion deal\n",
            "🔴     hot girl cant get nowhere without \u001b[91mgps\u001b[0m\n",
            "🔴     gold digger nice picture set elite \u001b[91mpinwork\u001b[0m like revealing \u001b[91mmona\u001b[0m \u001b[91mlisa\u001b[0m always work art\n",
            "🟢     try expose gold digger \u001b[91mbackfire\u001b[0m 90 day fiance b via\n",
            "🔴     enough made fact shes \u001b[91munabashed\u001b[0m gold digger\n",
            "🟢     tried censor threaten \u001b[91mharassbut\u001b[0m ultimately murdered \u001b[91myeshua\u001b[0m saying allowed say online called child \u001b[91mdevil\u001b[0m \u001b[91msynagogue\u001b[0m \u001b[91msatanand\u001b[0m \u001b[91msheep\u001b[0m\n",
            "🔴     dear fan harass talented actor color stop racist \u001b[91mdouche\u001b[0m \u001b[91mnozzle\u001b[0m cant nice thing \u001b[91mmoses\u001b[0m \u001b[91mbadass\u001b[0m \u001b[91minquisitor\u001b[0m yall cant handle \u001b[91mbadassary\u001b[0m\n",
            "🟢     met talented \u001b[91mcre8tivecon\u001b[0m la today shown \u001b[91mdisciple\u001b[0m grit get im glad heard story today\n",
            "🔴     stop saying said cu short hair \u001b[91mgayest\u001b[0m look came \u001b[91m201718\u001b[0m blonde \u001b[91mponytail\u001b[0m era know ur herstory\n",
            "🔴     best way behind hand hip\n",
            "🔴     energy \u001b[91mkiryu\u001b[0m couldnt smash wouldnt hit woman \u001b[91mnoncanon\u001b[0m crossover give fuck\n",
            "🔴     exactly \u001b[91mdrilled\u001b[0m men hit woman isnt \u001b[91mdrilled\u001b[0m woman hit men many time night \u001b[91mwitnessed\u001b[0m woman hitting \u001b[91mpunching\u001b[0m \u001b[91mscratching\u001b[0m men standing taking know damned \u001b[91mreact\u001b[0m\n",
            "🔴     would woman accuse someone hitting lie dont hit woman never accused \u001b[91msucheven\u001b[0m \u001b[91mexnever\u001b[0m said nasty divorce\n",
            "🟢     whats deal husband take test one bought website\n",
            "🔴     wait till ur husband mess u gon na love \u001b[91mscouser\u001b[0m death threat\n",
            "🔴     \u001b[91maughhh\u001b[0m still got exam tomorrow hate woman\n",
            "🔴     like queer hate woman misogynist proud\n",
            "🔴     ill share stuff \u001b[91marchive\u001b[0m \u001b[91mantifujo\u001b[0m comment thread \u001b[91m100im\u001b[0m ok make \u001b[91mmlmyesnoyou\u001b[0m long \u001b[91msexmisogyny\u001b[0m \u001b[91mliei\u001b[0m hate woman ruin \u001b[91meverythingim\u001b[0m trans man amp cant believe used think dirty gross \u001b[91mfujo\u001b[0m\n",
            "🔴     want give delicious black kiss as look rich would like fuck cum inside\n",
            "🔴     im pretty sure exist nick \u001b[91mserial\u001b[0m killer men \u001b[91msoley\u001b[0m kill woman\n",
            "🔴     much \u001b[91mharmkill\u001b[0m woman child long shot pun intended\n",
            "🔴     call clean \u001b[91mparliament\u001b[0m laddish culture mp porn shame via\n",
            "🔴     hard woman must think like man act like lady look like young girl work like horse\n",
            "🔴     dude look like lady aerosmith\n",
            "🔴     real woman pissed man dick dressing like woman beating sport lol truly living fucked time men literally dress like woman take away womens accomplishment\n",
            "🔴     \u001b[91mkuda\u001b[0m dangerous sure darling \u001b[91mccc\u001b[0m like woman one \u001b[91mane\u001b[0m \u001b[91mguhwa\u001b[0m\n",
            "🔴     tell u \u001b[91mbrood\u001b[0m \u001b[91mmare\u001b[0m amp must die cell clump live carry rapist baby amp want u protest \u001b[91mcivilly\u001b[0m yes he mansplaining protest \u001b[91mnicely\u001b[0m moving toward enslavement \u001b[91mpolite\u001b[0m little lady\n",
            "🔴     mansplaining concept pee drawer partner want\n",
            "🔴     \u001b[91mwonwoo\u001b[0m cross leg amp \u001b[91mjun\u001b[0m manspreading\n",
            "🔴     going weak rn playing \u001b[91mguitar\u001b[0m manspreading knee\n",
            "🔴     feel unsafe sharing bathroom \u001b[91mtranswoman\u001b[0m seems like bigotry need \u001b[91munpack\u001b[0m marginalize already marginalized group\n",
            "🔴     male sex worker put straight \u001b[91mcap\u001b[0m bio cant help laugh cause really get thinking straight woman gon na masturbate bizarre\n",
            "🔴     woman dont like \u001b[91mbathing\u001b[0m went girl school\n",
            "🔴     probably common say woman either ignore chalk \u001b[91mhormonal\u001b[0m pp thing woman even \u001b[91mconnect\u001b[0m stop \u001b[91mbreastfeeding\u001b[0m\n",
            "🔴     woman nowadays look like makeup hard find good one ton makeup always go date beach lol\n",
            "🔴     dont need man tell stand thank\n",
            "🔴     arent woman financially stable belief doesnt need man\n",
            "🔴     female \u001b[91mchara\u001b[0m \u001b[91mflirtysexy\u001b[0m isnt always bad n know \u001b[91mdigimon\u001b[0m always kinda \u001b[91mobjectificationofwomen\u001b[0m issue medium tbh seems nearly way game interested \u001b[91mpresenting\u001b[0m woman kinda suck esp since yea game good\n",
            "🔴     objectification amp dehumanizing saw someone take time day make strong political point \u001b[91mhorwath\u001b[0m sarcasm tweeted photo looked like lot \u001b[91mphotoshop\u001b[0m pathetic clown\n",
            "🔴     going sleep soon im furious happening womens right \u001b[91mautonomy\u001b[0m state men complain feminism become oppression men dont think realize real fear woman live wondering day\n",
            "🔴     bother going \u001b[91mmar\u001b[0m life going toxic sexism racism bigotry horrible oppression unfairness inequality make earth living hell many\n",
            "🔴     nobody winning patriarchal \u001b[91mdominancenobody\u001b[0m woman men planet time big change\n",
            "🔴     \u001b[91mgalaxy\u001b[0m brain concept girl \u001b[91mtransition\u001b[0m wear \u001b[91mmenswear\u001b[0m \u001b[91mstylish\u001b[0m \u001b[91mlesbicious\u001b[0m sort way patriarchy doesnt let men\n",
            "🔴     gc ideology \u001b[91mnutshell\u001b[0m patrilineal inheritance \u001b[91mpeerage\u001b[0m \u001b[91mgrossly\u001b[0m misogynist literally system put men woman also transphobic count trans woman \u001b[91mmenbut\u001b[0m gc problem trans woman might get \u001b[91mpeerage\u001b[0m\n",
            "🔴     fuck sake possible furry space thats explicitly \u001b[91mcontentrestricted\u001b[0m doesnt immediately become yet another showcase \u001b[91msizequeen\u001b[0m phallocentrism\n",
            "🔴     freud claim girl \u001b[91mdicklet\u001b[0m \u001b[91mclitoris\u001b[0m \u001b[91mphallic\u001b[0m \u001b[91msignificance\u001b[0m phallocentrism \u001b[91mreduces\u001b[0m even female genitalia phallus part vagina clit \u001b[91mconstitute\u001b[0m \u001b[91mplurality\u001b[0m female sexuality clit \u001b[91mcoexists\u001b[0m \u001b[91mnonphallic\u001b[0m body part\n",
            "🟢     together member \u001b[91macademia\u001b[0m organised \u001b[91mconsultative\u001b[0m session climate risk assessment management \u001b[91mpunjab\u001b[0m discus \u001b[91mmainstreaming\u001b[0m curriculum university 12\n",
            "🔴     eat hole slide dick pound till \u001b[91msquirt\u001b[0m\n",
            "🔴     ironic majority people happy comment people cant get pregnant\n",
            "🔴     \u001b[91mmaga\u001b[0m trump wall keep people force pregnant woman stay \u001b[91minregardless\u001b[0m rape incest risk life\n",
            "🔴     human \u001b[91mfallible\u001b[0m assume woman always victim \u001b[91mdemeaning\u001b[0m sexist say men \u001b[91mattacker\u001b[0m \u001b[91mdemeaning\u001b[0m doesnt \u001b[91mlend\u001b[0m justice anyone victim blame johnny mom knew\n",
            "🔴     according human right commission 1 3 people experience sexual harassment work created online course providing strategy prevent respond incident \u001b[91moccur\u001b[0m start course\n",
            "🔴     dont care gender race \u001b[91mreligionsexual\u001b[0m orientation person long qualified position said qualified based \u001b[91mexperienceeducation\u001b[0m chosen solely black gay please \u001b[91mprogressiveswoke\u001b[0m saying\n",
            "🔴     show money rule world im disappointed \u001b[91mripleys\u001b[0m would even allow building let reality skank get incredible insult waiting sub full armed \u001b[91mrobber\u001b[0m \u001b[91movertake\u001b[0m end \u001b[91mkhloe\u001b[0m looked better\n",
            "🔴     got new bitch cause old one couldnt keep wit lifestyle fuck lil skank get rich got fund thing want wit complaint\n",
            "🔴     kinda get point slag far\n",
            "🔴     yea back didnt even one slap unfortunate\n",
            "🟢     first day ive ever said anything twitter slapper must looking mirror \u001b[91mdeflection\u001b[0m \u001b[91mhelluva\u001b[0m drug\n",
            "🔴     making cum like good slut\n",
            "🔴     giving u lost ur bitch u sad move around slut\n",
            "🔴     jealous \u001b[91mplss\u001b[0m talk new album u \u001b[91mwrinkly\u001b[0m slutbag\n",
            "🔴     \u001b[91mder\u001b[0m literally took last night slutbag\n",
            "🔴     everyone time desire energy actively physically seek partner men meet rl married relationship ex met slutbag \u001b[91mbarnes\u001b[0m \u001b[91mnoble\u001b[0m \u001b[91mweeknight\u001b[0m\n",
            "🔴     young girl want buy gun \u001b[91mforcefully\u001b[0m sodomize well pretty positive rape considered \u001b[91mheinous\u001b[0m crime anal rape okay \u001b[91mfirearm\u001b[0m involved\n",
            "🔴     sound like \u001b[91mtypa\u001b[0m nigga let bos sodomize cause job come \u001b[91mperk\u001b[0m stfu keep dick ya mouth nd stay way fuck wherever u nd ignorant as comment thought\n",
            "🔴     enter heart anytime baby want u sodomize emotionally \u001b[91mhuhuhu\u001b[0m\n",
            "🔴     6 hot reason men like spanking woman via\n",
            "🔴     movie tv show 1950s 1960s men would spank woman gone \u001b[91mastray\u001b[0m whatever \u001b[91mreminding\u001b[0m u punishment must include physical \u001b[91melement\u001b[0m well\n",
            "🔴     yesterday learned easter whip pomlzka tradition \u001b[91mpracticed\u001b[0m \u001b[91mslovakia\u001b[0m easter \u001b[91mmonday\u001b[0m men spank woman get paid iti many question\n",
            "🔴     say superwoman syndrome\n",
            "🔴     superwoman syndrome real \u001b[91mdebilitating\u001b[0m gal\n",
            "🔴     member boy club speaking assume woman confirmed behaviour lying\n",
            "🔴     child raped father \u001b[91msacrificed\u001b[0m \u001b[91mfetusbut\u001b[0m woman raped man \u001b[91msacrificed\u001b[0m \u001b[91mfetusbut\u001b[0m teen \u001b[91mimpregnated\u001b[0m man used \u001b[91msacrificed\u001b[0m \u001b[91mfetusseems\u001b[0m like men problem\n",
            "🔴     never knew share tit stop \u001b[91mpal\u001b[0m yeah\n",
            "🔴     \u001b[91mbounceeyyyy\u001b[0m \u001b[91mboobieeeessssss\u001b[0m\n",
            "🔴     focus money freedom retirement today woman may still think work read gt\n",
            "🔴     he rich busy man want trophy wife nothing surprising article good read though\n",
            "🔴     okay \u001b[91mconfess\u001b[0m fucker soon said \u001b[91mpictured\u001b[0m \u001b[91mgary\u001b[0m \u001b[91mbusey\u001b[0m \u001b[91mboinking\u001b[0m \u001b[91mgiulianis\u001b[0m cousin trump trophy wife know stick head share\n",
            "🔴     dont report problematic bitch tik tok \u001b[91mfys\u001b[0m \u001b[91midc\u001b[0m hate group talk \u001b[91midc\u001b[0m shouldnt exist gone truly dont care go report \u001b[91macc\u001b[0m shouldnt exist like know theyre ugly irl dont want near \u001b[91mtubatu\u001b[0m\n",
            "🔴     \u001b[91mpacked\u001b[0m \u001b[91mhubby\u001b[0m case going wedding england told pop underpants get england put \u001b[91mkilt\u001b[0m outfit everyone discovered true \u001b[91mscot\u001b[0m doesnt wear \u001b[91mkilt\u001b[0m dont doesnt get done men\n",
            "🔴     there something girl toxic guy like ant honey trust \u001b[91mheartache\u001b[0m \u001b[91mhomie\u001b[0m \u001b[91mknack\u001b[0m na send hi pretty missing come running back stopped trying understand woman long time ago\n",
            "🔴     thats always tell \u001b[91myouyou\u001b[0m never understand woman\n",
            "🔴     \u001b[91mfainted\u001b[0m wearing short skirt one could legally touch as nurse came\n",
            "🔴     \u001b[91mmushroom\u001b[0m attention whore stop biting foot\n",
            "🔴     would rather child \u001b[91mvirgin\u001b[0m whore like child sound like bad person\n",
            "🔴     true statement look like whore\n",
            "🔴     \u001b[91munarmed\u001b[0m black woman driving car broken tail light dangerous white supremacist terrorist murdered 10 people\n",
            "🔴     woman soy \u001b[91moil\u001b[0m \u001b[91mcorn\u001b[0m \u001b[91msyrupthose\u001b[0m typical woman average back \u001b[91mthenn\u001b[0m\n",
            "🔴     tf ya call \u001b[91mfemism\u001b[0m shouldnt womanism thats case\n",
            "🔴     dont know \u001b[91minvented\u001b[0m womanism huh okay risk skin cancer guess best luck\n",
            "🟢     collective drive improve \u001b[91murgent\u001b[0m \u001b[91mhumanitarian\u001b[0m situation \u001b[91moptimise\u001b[0m demographic \u001b[91mdividend\u001b[0m continent youth woman \u001b[91messential\u001b[0m \u001b[91mstakeholder\u001b[0m \u001b[91mimproving\u001b[0m \u001b[91mhumanitarian\u001b[0m situation particularly peace security \u001b[91msocioeconomic\u001b[0m\n",
            "🔴     male side \u001b[91malag\u001b[0m \u001b[91mhoti\u001b[0m \u001b[91mhumari\u001b[0m woman cant \u001b[91mdistract\u001b[0m\n",
            "🔴     men less likely find spouse bc woman dont rely men life basic less likely father kid bc woman need \u001b[91msperm\u001b[0m get pregnant amp man provides less likely \u001b[91mparticipate\u001b[0m \u001b[91mworkforce\u001b[0m bc theyre busy \u001b[91mpouting\u001b[0m\n",
            "🔴     woman dont work money anymore men \u001b[91mmomo\u001b[0m lmao \u001b[91mmonya\u001b[0m \u001b[91mnkwasia\u001b[0m \u001b[91msika\u001b[0m \u001b[91mbia\u001b[0m na \u001b[91mmoka\u001b[0m \u001b[91mns3m\u001b[0m \u001b[91mfuu\u001b[0m\n",
            "🔴     god comment post \u001b[91midiotic\u001b[0m hate twitter hate \u001b[91malli\u001b[0m woman dont know \u001b[91mcondom\u001b[0m work neither act like youve never bought wrong \u001b[91msized\u001b[0m \u001b[91mpad\u001b[0m \u001b[91mtampontheyre\u001b[0m telling u \u001b[91mwitg\u001b[0m body doesnt want baby \u001b[91mstd\u001b[0m\n",
            "🔴     father word woman feed man day whole world know man feed woman year amp nobody know many woman dont know stay \u001b[91mhumble\u001b[0m theyre top\n",
            "🔴     \u001b[91mhandmaiden\u001b[0m relative \u001b[91malum\u001b[0m posting \u001b[91mclaptrap\u001b[0m fb young woman dont know drive never worked subservient \u001b[91mheadship\u001b[0m \u001b[91mendanger\u001b[0m child home filled \u001b[91mar15s\u001b[0m jesus yall\n",
            "🔴     poor vulnerable man \u001b[91mjoked\u001b[0m burning partner \u001b[91mrping\u001b[0m body make sure dead pay woman sex call \u001b[91mcmguzzlers\u001b[0m depp \u001b[91mdarvoing\u001b[0m fuck\n",
            "🔴     \u001b[91mpolishing\u001b[0m shoe good regardless work sex sell woman \u001b[91mothersyour\u001b[0m earning may selling woman \u001b[91msexjism\u001b[0m \u001b[91mferosh\u001b[0m \u001b[91mza\u001b[0m \u001b[91mzameer\u001b[0m \u001b[91mgherat\u001b[0m \u001b[91mferoshi\u001b[0m \u001b[91msayafghans\u001b[0m \u001b[91mproudthe\u001b[0m pure \u001b[91mpeopleshame\u001b[0m statement\n",
            "🔴     say man always phone well case still \u001b[91mproposition\u001b[0m woman sex outside\n",
            "🔴     2 \u001b[91mpoker\u001b[0m room \u001b[91mfallacy\u001b[0m think term comparison \u001b[91mromance\u001b[0m novel may correct may difference interest comparison \u001b[91mbarrier\u001b[0m men buy \u001b[91mromance\u001b[0m novel woman \u001b[91mbrace\u001b[0m\n",
            "🔴     leader abuse woman \u001b[91mjalsas\u001b[0m make excuse justify remember woman \u001b[91mrespected\u001b[0m woman party meanwhile abusing feminist online\n",
            "🔴     woman shouldnt sex reasonable answer save kid life citizen shouldnt deadly weapon save kid life completely insane concept\n",
            "🔴     want woman mother bad cant even provide make make sense\n",
            "🔴     wan na know fun way make nut like \u001b[91mangrystep\u001b[0m woman go leave point \u001b[91mairpods\u001b[0m say cant hear bro \u001b[91mheadphone\u001b[0m start yell instead\n",
            "🟢     dragged action showed standing told wearing im going yell \u001b[91mshout\u001b[0m holding sign bring hate upon guy\n",
            "🔴     look like \u001b[91mbitchwell\u001b[0m move \u001b[91mkz\u001b[0m dont like\n",
            "🔴     heel make look like \u001b[91mputa\u001b[0m amp boot make look like bitch look going \u001b[91mbesties\u001b[0m\n",
            "🔴     hate \u001b[91mliar\u001b[0m specifically lie bc think get cool point shit like look like bitch\n",
            "🟢     uh theyre allowed calling make look like cunt \u001b[91mfortunately\u001b[0m ill block fast wont get screenshot\n",
            "🔴     \u001b[91mgenration\u001b[0m selfish cunt matter genuine right thing still make look like cunt getting worse people ask dont bother anyone\n",
            "🔴     bitch boyfriend \u001b[91manthony\u001b[0m \u001b[91mflimss\u001b[0m \u001b[91mmojassim80\u001b[0m paint oh wait ready plant u baby inside look like prostitute picture guy right bout hoe\n",
            "🔴     dont wear black bra white \u001b[91mvest\u001b[0m look like prostitute\n",
            "🔴     get changed look like prostitute smirked walked room hip \u001b[91mswinging\u001b[0m side side \u001b[91mahri\u001b[0m sat near couch floor\n",
            "🔴     havent seen anything make look like whore necessarily female constantly post \u001b[91mselfies\u001b[0m constantly obvious self \u001b[91mabsorbed\u001b[0m obsessed dont really understand anyone think anyone \u001b[91mthirsty\u001b[0m creep want see 1000 \u001b[91mselfies\u001b[0m\n",
            "🔴     look like whore ur new picture love see\n"
          ]
        }
      ]
    },
    {
      "cell_type": "code",
      "source": [
        "highlight_oov_tokens(model_1_error_df, vocab, tweet_column=\"tweet\", label_column=\"label\", oov_column=\"oov_token_count\")"
      ],
      "metadata": {
        "colab": {
          "base_uri": "https://localhost:8080/"
        },
        "id": "mu-8uTcuMw8G",
        "outputId": "08e5c51c-1335-48b2-fcf4-ec2b2a5d5fcf"
      },
      "execution_count": null,
      "outputs": [
        {
          "output_type": "stream",
          "name": "stdout",
          "text": [
            "\n",
            "Label Tweet (OOV tokens highlighted in red)                       \n",
            "----------------------------------------------------------------------\n",
            "🟢     1st day pool beautiful sunday ny bad \u001b[91mdared\u001b[0m go due frigid water temp \u001b[91mlasted\u001b[0m 45 min figured proved point\n",
            "🟢     though \u001b[91mangst\u001b[0m come go lonely \u001b[91mxie\u001b[0m \u001b[91mlian\u001b[0m always break frigid heart\n",
            "🟢     mean wouldnt fun get gangbanged together\n",
            "🟢     sex gender harassment \u001b[91minferring\u001b[0m\n",
            "🟢     appreciate included along \u001b[91muvalde\u001b[0m gunman history cyber gender harassment \u001b[91mregrettably\u001b[0m \u001b[91munshocking\u001b[0m\n",
            "🟢     please one talking 1st 2nd \u001b[91mgrader\u001b[0m gender identity\n",
            "🟢     took case today government committed honor \u001b[91msentencing\u001b[0m \u001b[91mguarantee\u001b[0m right gender identity\n",
            "🟢     gender gender identity amp sexual \u001b[91morientationparents\u001b[0m place great deal trust public school system care education \u001b[91mchildrenthat\u001b[0m trust \u001b[91mbetrayed\u001b[0m shameful \u001b[91mdeceitful\u001b[0m way\n",
            "🟢     yes \u001b[91mhayley\u001b[0m \u001b[91mhafu\u001b[0m representation give \u001b[91mjapanesehispanic\u001b[0m girl flower\n",
            "🟢     \u001b[91misa\u001b[0m hot girl summer pop yall shit\n",
            "🟢     baby called \u001b[91mmommy\u001b[0m sha first time today twice yall dont understand \u001b[91mhype\u001b[0m made baby girl autism getting talk without prompted challenge shes come far\n",
            "🟢     reach point \u001b[91mblonks\u001b[0m \u001b[91maudacity\u001b[0m talk \u001b[91myoongis\u001b[0m rap yall see stan yall ok girl cant write cant deliver cant come close \u001b[91mbtss\u001b[0m \u001b[91mlyricism\u001b[0m tf yall getting brave fashion deal\n",
            "🟢     absolutely brilliant \u001b[91mwkend\u001b[0m im july girl cant wait\n",
            "🟢     try expose gold digger \u001b[91mbackfire\u001b[0m 90 day fiance b via\n",
            "🟢     well let ask guy ever grab \u001b[91mtesticle\u001b[0m\n",
            "🟢     cant imagine possible \u001b[91mbeef\u001b[0m would realize two live close enough family could grab dinner together\n",
            "🟢     still time grab print use code \u001b[91m10off\u001b[0m check 10 one time use\n",
            "🟢     tried censor threaten \u001b[91mharassbut\u001b[0m ultimately murdered \u001b[91myeshua\u001b[0m saying allowed say online called child \u001b[91mdevil\u001b[0m \u001b[91msynagogue\u001b[0m \u001b[91msatanand\u001b[0m \u001b[91msheep\u001b[0m\n",
            "🟢     u r allowing terrorist harass \u001b[91mcountryman\u001b[0m\n",
            "🟢     cosmic hegemony taking job find \u001b[91msuperweapons\u001b[0m late review \u001b[91mdarn\u001b[0m difficult beautifully themed \u001b[91msolo\u001b[0m game \u001b[91mpulp\u001b[0m \u001b[91minvasion\u001b[0m\n",
            "🟢     key whats view prof \u001b[91mmearsheimers\u001b[0m view agree china would like hegemony asia \u001b[91mpacific\u001b[0m china working hard \u001b[91mdisplace\u001b[0m usa asia \u001b[91mpacific\u001b[0m\n",
            "🟢     yes \u001b[91moperate\u001b[0m \u001b[91mcovertly\u001b[0m fascist silence opposition engage \u001b[91mpsychological\u001b[0m warfare \u001b[91mbroaden\u001b[0m hegemony without \u001b[91mopenly\u001b[0m\n",
            "🟢     deep painfully deep history herstory slave trade colonialism \u001b[91mneocolonialism\u001b[0m\n",
            "🟢     met talented \u001b[91mcre8tivecon\u001b[0m la today shown \u001b[91mdisciple\u001b[0m grit get im glad heard story today\n",
            "🟢     one get white boy hip moving man bounce\n",
            "🟢     whats deal husband take test one bought website\n",
            "🟢     yall husband wife best friend guy much fun awesome keep laughing smiling\n",
            "🟢     old receipt \u001b[91mprinter\u001b[0m thing idea use would like fuck like\n",
            "🟢     word ideology enough know \u001b[91mrepel\u001b[0m\n",
            "🟢     far right \u001b[91moutlet\u001b[0m might work \u001b[91mnormalize\u001b[0m fascism nationalism \u001b[91mnazism\u001b[0m main stream medium western country portray \u001b[91mnazism\u001b[0m unwanted ideology \u001b[91mrightfully\u001b[0m\n",
            "🟢     \u001b[91mcognicism\u001b[0m \u001b[91mmetaideologyit\u001b[0m advocate tool \u001b[91mgradually\u001b[0m \u001b[91mintegrate\u001b[0m many ideology time \u001b[91mpredictive\u001b[0m reflection \u001b[91mgenerative\u001b[0m \u001b[91mmodelingits\u001b[0m process \u001b[91mdisparate\u001b[0m ideology integrated\n",
            "🟢     yup hate men rape kill woman\n",
            "🟢     \u001b[91mbooed\u001b[0m \u001b[91mhuddersfield\u001b[0m coach going past u example wild laddish banter \u001b[91mprintathome\u001b[0m red getting\n",
            "🟢     \u001b[91mtheresa\u001b[0m may still pm would \u001b[91mpartying\u001b[0m throughout covid lockdown think know answer johnson \u001b[91mpresided\u001b[0m amp encouraged \u001b[91mlax\u001b[0m laddish culture drinking amp \u001b[91mrulebreaking\u001b[0m\n",
            "🟢     \u001b[91mladiesdont\u001b[0m let anyone body shame wayyou fat \u001b[91mwhatyou\u001b[0m beautiful \u001b[91mdearbe\u001b[0m confident \u001b[91myourselfpeace\u001b[0m\n",
            "🟢     stop dont lie people lady dont let man trick greatest \u001b[91morgan\u001b[0m life cause\n",
            "🟢     lady dont miscarriage \u001b[91mlouisiana\u001b[0m addition probably friend family \u001b[91msued\u001b[0m \u001b[91mopportunistic\u001b[0m \u001b[91myokel\u001b[0m youll charged murder\n",
            "🟢     youre \u001b[91mhomeless\u001b[0m dont valid \u001b[91midentification\u001b[0m like id birth \u001b[91mcertificate\u001b[0m literally dont exist continues marginalize people keep cycle poverty year tried share hosting duty john love\n",
            "🟢     thats theyre bully plain \u001b[91msimpledont\u001b[0m understand dont want understand dont want think solution actually fix \u001b[91missuesdeflect\u001b[0m lie actually taking action finding person group marginalize\n",
            "🟢     \u001b[91mbored\u001b[0m usual think im gon na masturbate amp play \u001b[91mwarzone\u001b[0m lol join live \u001b[91mheauxs\u001b[0m\n",
            "🟢     stay penis masturbate penis forever\n",
            "🟢     \u001b[91mgospel\u001b[0m organize history metanarrative \u001b[91moverarching\u001b[0m story \u001b[91mclimax\u001b[0m full \u001b[91mglory\u001b[0m jesus christ \u001b[91mdeclares\u001b[0m \u001b[91mall22\u001b[0m gage carpenter\n",
            "🟢     \u001b[91m23chapter\u001b[0m 1 getting inside \u001b[91mheadchapter\u001b[0m 2 \u001b[91mtheorieschapter\u001b[0m 3 metanarrative \u001b[91mchristianitychapter\u001b[0m 4 argument \u001b[91mentitieschapter\u001b[0m 5 argument personal \u001b[91mexperiencechapter\u001b[0m 6 human \u001b[91mfreedomchapter\u001b[0m 7 god \u001b[91mprovidence\u001b[0m\n",
            "🟢     people \u001b[91minterpreted\u001b[0m tlj metanarrative \u001b[91mdeconstruction\u001b[0m \u001b[91mluke\u001b[0m star war whatever meant sense\n",
            "🟢     course know misandry different thing\n",
            "🟢     ya \u001b[91mknowits\u001b[0m crazy roe v wade \u001b[91minitially\u001b[0m started lie black men 50 year later still catching stray white men yall black misandry real matter party dems republican\n",
            "🟢     need man type energy\n",
            "🟢     men u absolutely right steven \u001b[91mgrant\u001b[0m would never treat wrong\n",
            "🟢     yeah solution baby current men course there one solution every baby say there substitute anybody wrong\n",
            "🟢     men look good beard btw pls stop trying grow\n",
            "🟢     audio finger cut even people said say shes totally cocaine cocaine try say nurse basically lying note drug everyone lying\n",
            "🟢     one baby could grown doctor saved \u001b[91mtree\u001b[0m \u001b[91maccident\u001b[0m greg could \u001b[91mparamedic\u001b[0m \u001b[91mtransported\u001b[0m nurse \u001b[91mcared\u001b[0m many possibility gone nothing prevent tragedy\n",
            "🟢     new \u001b[91mvacancy\u001b[0m alert \u001b[91meput\u001b[0m \u001b[91mrecruiting\u001b[0m band 5 substance misuse nurse click link interested applying post\n",
            "🟢     shoe arent flat dress arent nursing friendly \u001b[91mhandbag\u001b[0m dont hold million little outfit want \u001b[91mimpractical\u001b[0m thing occasion wear thing\n",
            "🟢     \u001b[91mregulation\u001b[0m nursing practice staff \u001b[91mdevelopmentmeeting\u001b[0m\n",
            "🟢     \u001b[91mgeez\u001b[0m remember day really good bit since nursing \u001b[91m1988\u001b[0m still remember disappointment felt unable produce enough milk 5 month \u001b[91mcheap\u001b[0m as pump\n",
            "🟢     ive basically got simple \u001b[91mar\u001b[0m model object im \u001b[91mupdating\u001b[0m loop \u001b[91mbenchmark\u001b[0m \u001b[91mcruby\u001b[0m get \u001b[91mprogressively\u001b[0m \u001b[91mslower\u001b[0m longer run shouldnt \u001b[91m40x\u001b[0m \u001b[91m80x\u001b[0m \u001b[91mfaster\u001b[0m\n",
            "🟢     jar crime cool object show guest\n",
            "🟢     hysterical anyone want ban widely owned common \u001b[91mfirearm\u001b[0m stop blaming object stop trying \u001b[91mstomp\u001b[0m god given right law \u001b[91mabiding\u001b[0m citizen\n",
            "🟢     im sure \u001b[91mareseriously\u001b[0m asking using object someone objectification \u001b[91moccurs\u001b[0m majority objectification \u001b[91moccurs\u001b[0m without physical contact person seen \u001b[91mconceptualized\u001b[0m\n",
            "🟢     \u001b[91mtalique\u001b[0m church often proven \u001b[91mundeserving\u001b[0m people lucky \u001b[91mresolve\u001b[0m others like water \u001b[91mcarves\u001b[0m away stone oppression \u001b[91munderlies\u001b[0m much modern especially yt church thank\n",
            "🟢     \u001b[91mdiverse\u001b[0m \u001b[91mpluralistic\u001b[0m country america law based distorted patriarchal interpretation christianity \u001b[91mfurthermore\u001b[0m government role \u001b[91mwhatsoever\u001b[0m woman private healthcare decision\n",
            "🟢     interesting see \u001b[91mswede\u001b[0m lying english reason didnt feed child would take away family time etc \u001b[91msurvivalism\u001b[0m patriarchal food winter mouth others\n",
            "🟢     notice something else \u001b[91mthoalmost\u001b[0m every single one man thats fucking problem men believe let anger hatred society need better even benefit men \u001b[91mpatriarchymisogyny\u001b[0m fails everyone\n",
            "🟢     dont understand wed invested calling patrilineal name though thats somehow \u001b[91mreverent\u001b[0m empowering\n",
            "🟢     \u001b[91munclear\u001b[0m whether article author aware \u001b[91mcircumstantial\u001b[0m line genetic evidence offer \u001b[91mbegs\u001b[0m reader accept possibility one hitler patrilineal great grandfather \u001b[91mnubian\u001b[0m\n",
            "🟢     people mobile hunting \u001b[91mgatheringeconomic\u001b[0m system \u001b[91msytems\u001b[0m patrilineal \u001b[91mkinship\u001b[0m \u001b[91mreckoning\u001b[0m patrilocal \u001b[91mpostmarital\u001b[0m residence extremely rare male dominance social life really thing least last \u001b[91m200000\u001b[0m year\n",
            "🟢     also \u001b[91mtends\u001b[0m couple local residence according \u001b[91munilateral\u001b[0m line eg patrilocal residence \u001b[91mfurthers\u001b[0m social \u001b[91mintegration\u001b[0m clan amp prevents \u001b[91minterbreeding\u001b[0m within clan line\n",
            "🟢     \u001b[91mteaxass\u001b[0m code book penis envy idiot gun everything sad thing spreading try stop \u001b[91mfaster\u001b[0m spread like \u001b[91mdiseased\u001b[0m idiot support\n",
            "🟢     part experience black man dealing penis envy amp gossip mentality race men \u001b[91mchilling\u001b[0m amp hating reason definitely something stay back mind men general get along well\n",
            "🟢     seek knowledge ruled phallogocentrism \u001b[91mdisembodied\u001b[0m vision \u001b[91minscribing\u001b[0m new entry \u001b[91minfidel\u001b[0m \u001b[91mheteroglosia\u001b[0m order subvert \u001b[91mtotalizing\u001b[0m theory \u001b[91mdemonology\u001b[0m technology embrace \u001b[91mskillful\u001b[0m task\n",
            "🟢     good morning \u001b[91meveryoneseeee\u001b[0m happy sunday\n",
            "🟢     \u001b[91m031b0038\u001b[0m battle \u001b[91midi\u001b[0m need \u001b[91mbackuplvl\u001b[0m 150 \u001b[91mproto\u001b[0m \u001b[91mbahamut\u001b[0m\n",
            "🟢     listen \u001b[91msungwoon\u001b[0m\n",
            "🟢     together member \u001b[91macademia\u001b[0m organised \u001b[91mconsultative\u001b[0m session climate risk assessment management \u001b[91mpunjab\u001b[0m discus \u001b[91mmainstreaming\u001b[0m curriculum university 12\n",
            "🟢     worse shit coin pnd least \u001b[91mshitcoins\u001b[0m get 90\n",
            "🟢     \u001b[91mgosh\u001b[0m \u001b[91mimpromptu\u001b[0m consultation twitter \u001b[91mobstetricianpsychologist\u001b[0m who \u001b[91mwaded\u001b[0m \u001b[91msplain\u001b[0m problem love see serious mental health condition \u001b[91mdiagnosed\u001b[0m one \u001b[91marmchair\u001b[0m \u001b[91mpndocd\u001b[0m much \u001b[91mmalignedmocked\u001b[0m amp kill \u001b[91mpeopleoh\u001b[0m btw \u001b[91mff\u001b[0m chill love\n",
            "🟢     stop aint stopping \u001b[91m315\u001b[0m pound \u001b[91mfreight\u001b[0m train\n",
            "🟢     way he \u001b[91m100m\u001b[0m pound player day long there one currently playing football compete he done half season \u001b[91mballers\u001b[0m 5 season must 10 20 x usual\n",
            "🟢     dream party friend bill gate showed said friend look pregnant as \u001b[91mbelly\u001b[0m\n",
            "🟢     \u001b[91movulation\u001b[0m really making feel pregnant dont appreciate\n",
            "🟢     \u001b[91munconscious\u001b[0m fetishization puritan work ethic\n",
            "🟢     respect part new england puritan culture ill let one slide\n",
            "🟢     really tryna around \u001b[91manyones\u001b[0m puritan as parent anyway adult\n",
            "🟢     \u001b[91msharia\u001b[0m law religion islam allows abortion 5th \u001b[91mmontha\u001b[0m rape incest \u001b[91mmentalphysical\u001b[0m health life mother risk 5th month abortion allowed save life mother\n",
            "🟢     holy shit repressed memory\n",
            "🟢     favourite yet poet \u001b[91mprovocateur\u001b[0m \u001b[91mecho\u001b[0m especially character make feel lot thing feel \u001b[91moddly\u001b[0m \u001b[91mcharmed\u001b[0m \u001b[91mimpulsive\u001b[0m \u001b[91mchaotic\u001b[0m \u001b[91mselfdestructive\u001b[0m decision absolutely \u001b[91madore\u001b[0m repressed \u001b[91mjared\u001b[0m never called name\n",
            "🟢     week learn city \u001b[91matlanta\u001b[0m plan \u001b[91mreplace\u001b[0m largest urban \u001b[91mtree\u001b[0m \u001b[91mcanopy\u001b[0m u w largest police training compound massive movement \u001b[91mgrows\u001b[0m plan despite violent police repression\n",
            "🟢     putin saw bad ukraine treated u \u001b[91mmaga\u001b[0m saw popular \u001b[91mmaga\u001b[0m u really \u001b[91mbelieved\u001b[0m many ukraine would like \u001b[91mmaga\u001b[0m reality hit decided liked freedom life \u001b[91mtread\u001b[0m repression force\n",
            "🟢     thats rich coming representative country full history armed repression \u001b[91munarmed\u001b[0m \u001b[91mprotestors\u001b[0m \u001b[91mnutshell\u001b[0m human right \u001b[91mviolation\u001b[0m guy think still east india company ruling india hence trade issue\n",
            "🟢     new sex role reversed \u001b[91mpolyandrous\u001b[0m bird study\n",
            "🟢     exactly feel im gon na alone sure almost \u001b[91msexistracistwhatever\u001b[0m else \u001b[91mist\u001b[0m ask anymore\n",
            "🟢     calling man bald sexual harassment via\n",
            "🟢     ive actually always \u001b[91mlabeling\u001b[0m sexual identity still dont includes straight much label guy really big straight normal complex\n",
            "🟢     dont judge \u001b[91motter\u001b[0m people sexual identity\n",
            "🟢     available online \u001b[91mfirstexploring\u001b[0m potential \u001b[91msmokefree\u001b[0m law reduce \u001b[91msmoking\u001b[0m disparity sexual orientation usa\n",
            "🟢     bill defined \u001b[91mconversion\u001b[0m therapy practice intended change lesbian gay bisexual transgender queer individual sexual orientation gender identity\n",
            "🟢     people born \u001b[91mgayspoken\u001b[0m people never around \u001b[91mbabieschildren\u001b[0m consistent basis \u001b[91meverwho\u001b[0m also ignorant even implying saying someone born sexuality\n",
            "🟢     something ive noticed entire series regard sexuality portray \u001b[91mdreamlike\u001b[0m idea 80 even though there monster \u001b[91mgore\u001b[0m still \u001b[91mromanticised\u001b[0m version 80 attempt make \u001b[91mprettier\u001b[0m\n",
            "🟢     remember \u001b[91mprinting\u001b[0m coyote suicide squad shirt lol\n",
            "🟢     check listing added closet \u001b[91mcoed\u001b[0m naked beach \u001b[91mvolleyball\u001b[0m \u001b[91munisex\u001b[0m adult \u001b[91ms\u001b[0m white tee shirt\n",
            "🟢     check listing added closet \u001b[91myellow\u001b[0m \u001b[91mpolo\u001b[0m shirt \u001b[91mtommy\u001b[0m \u001b[91mhilfiger\u001b[0m womens large\n",
            "🟢     hot \u001b[91mdawn\u001b[0m hit tower block made dance skank \u001b[91monetime\u001b[0m \u001b[91mpirouette\u001b[0m \u001b[91mjitterbug\u001b[0m \u001b[91mwinedown\u001b[0m low stop moment \u001b[91mhammertime\u001b[0m \u001b[91mflairy\u001b[0m \u001b[91m678\u001b[0m hear \u001b[91mshortlisted\u001b[0m fiction opening\n",
            "🟢     yes contribute hell lot major impact team impossible drop even think \u001b[91mrotating\u001b[0m one trying slag \u001b[91mpepe\u001b[0m sake weve wanted well succeed\n",
            "🟢     \u001b[91mbereal\u001b[0m \u001b[91mhurry\u001b[0m fuck oh god swear god dumbass fucking app give 2 minute already actual slag\n",
            "🟢     \u001b[91mspoilerslook\u001b[0m love \u001b[91myamato\u001b[0m need bit slap leave \u001b[91moden\u001b[0m name \u001b[91msail\u001b[0m \u001b[91mshp\u001b[0m im sure \u001b[91mluffy\u001b[0m think \u001b[91myamato\u001b[0m please leave name \u001b[91moden\u001b[0m damn\n",
            "🟢     \u001b[91mwen\u001b[0m im rich hope broke nigga \u001b[91msurvives\u001b[0m cuz aint ever \u001b[91mpaying\u001b[0m 54 buck salad hope trench slap shit outta hand\n",
            "🟢     \u001b[91mtrapper\u001b[0m knee slapper drinking \u001b[91mtrapper\u001b[0m \u001b[91msyc\u001b[0m \u001b[91mbrewing\u001b[0m co \u001b[91mbranden\u001b[0m \u001b[91marthur\u001b[0m memorial garden\n",
            "🟢     whole money dont \u001b[91mjiggle\u001b[0m \u001b[91mjiggle\u001b[0m cool 2nd \u001b[91mverse\u001b[0m song real slapper\n",
            "🟢     first day ive ever said anything twitter slapper must looking mirror \u001b[91mdeflection\u001b[0m \u001b[91mhelluva\u001b[0m drug\n",
            "🟢     certain gut \u001b[91mmicrobe\u001b[0m may affect \u001b[91mstroke\u001b[0m risk \u001b[91mseverity\u001b[0m scientist find\n",
            "🟢     \u001b[91millusion\u001b[0m control personal information via consent outdated irrelevant digital society\n",
            "🟢     big \u001b[91mlieswedens\u001b[0m prime minister said year generous \u001b[91maffluent\u001b[0m sweden \u001b[91munassimilating\u001b[0m \u001b[91mmoslem\u001b[0m word parallel \u001b[91msocietymulticulturalism\u001b[0m cant work\n",
            "🟢     find middle class people certain idea poor people like people benefit kinda like cookie \u001b[91mcutter\u001b[0m poor people \u001b[91msmoking\u001b[0m drink \u001b[91mlager\u001b[0m can dress badly \u001b[91mtarty\u001b[0m \u001b[91mchavvy\u001b[0m tired stereotyping\n",
            "🟢     stereotyping someone based appearance make form enlightened individual opposed \u001b[91mthrowback\u001b[0m racist cretin got judge people race appearance according guy\n",
            "🟢     always \u001b[91mentertainer\u001b[0m attracts white audience get big start claiming bw dont listen type artist love stereotyping amp \u001b[91mboxing\u001b[0m u like society blk ppl general smh\n",
            "🟢     every person right voice opinion every person right call opinion \u001b[91mstupidits\u001b[0m grow\n",
            "🟢     ask stupid question 20 time day\n",
            "🟢     super funny \u001b[91mfixed\u001b[0m solution genius stupid\n",
            "🟢     u \u001b[91mungovernable\u001b[0m unless party hold house amp \u001b[91msenate\u001b[0m super majority dont think d ever achieve \u001b[91mremaining\u001b[0m \u001b[91mlifetime\u001b[0m due structural \u001b[91mdisadvantage\u001b[0m amp voter \u001b[91msuppressionor\u001b[0m else kill \u001b[91mfilibuster\u001b[0m\n",
            "🟢     current sentence due refusing bail condition charge suppression \u001b[91mordercharges\u001b[0m \u001b[91mfacedin\u001b[0m current \u001b[91mtrajectory\u001b[0m face prison way trial appears want\n",
            "🟢     though \u001b[91mpete\u001b[0m showing anyone youre allowed excited well dinosaur dead thinking emotional suppression good\n",
            "🟢     yes make sense \u001b[91msbc\u001b[0m boy club\n",
            "🟢     end boy club vibe politics join u event discus plan\n",
            "🟢     jewel \u001b[91mshiver\u001b[0m feel gaze would rather anywhere else moment\n",
            "🟢     talk gaze \u001b[91mhee\u001b[0m got \u001b[91mduch\u001b[0m \u001b[91mbeatiful\u001b[0m eye\n",
            "🟢     flower gaze god picture pure art\n",
            "🟢     \u001b[91mveecon\u001b[0m \u001b[91mcommencement\u001b[0m speech man\n",
            "🟢     \u001b[91mjesse\u001b[0m never known father anything half machine raised hearing voice man felt \u001b[91mfamiliar\u001b[0m yet foreign already \u001b[91mstunned\u001b[0m looking \u001b[91mglowing\u001b[0m figure \u001b[91minfront\u001b[0m added tension hand immediately\n",
            "🟢     today woman eye makeup nail\n",
            "🟢     today womens sport show 12pm success female team catch author \u001b[91mvitality\u001b[0m rose squad\n",
            "🟢     cant take eye youd like heaven touch wan na hold much\n",
            "🟢     \u001b[91mgerry\u001b[0m \u001b[91mkelly\u001b[0m poster exact spot organisation murdered \u001b[91m14year\u001b[0m old \u001b[91mschoolboy\u001b[0m particularly special touch\n",
            "🟢     yes \u001b[91mdix\u001b[0m really touch medical reality believe need medical doctor health minister cant another \u001b[91mdix\u001b[0m coming next\n",
            "🟢     good bad amp ugly good isnt first time \u001b[91mluna\u001b[0m drop \u001b[91mgt80\u001b[0m check happened next bad hasnt issued update recovery plan \u001b[91must\u001b[0m ugly next potential support sits \u001b[91m772\u001b[0m\n",
            "🟢     went someone house played bunch super bright ugly as skin \u001b[91minstalled\u001b[0m literally hurt eye look skin horrible\n",
            "🟢     6 yo discovered read fast enough tackle chapter week \u001b[91mread13\u001b[0m captain \u001b[91munderpantsgoosebumps\u001b[0m \u001b[91mcatstronautsrevolting\u001b[0m \u001b[91mrhymesgetting\u001b[0m \u001b[91mnostalgia\u001b[0m kid self reading horror cover fav adventure amp horror lower want illustration\n",
            "🟢     fellow \u001b[91mpatroits\u001b[0m \u001b[91mpatroitic\u001b[0m id even use french \u001b[91mfry\u001b[0m \u001b[91mgrease\u001b[0m \u001b[91maccumulating\u001b[0m \u001b[91mtaint\u001b[0m cook food \u001b[91mscent\u001b[0m american flag \u001b[91mthong\u001b[0m \u001b[91munderpantsim\u001b[0m \u001b[91mpatriotic\u001b[0m bet cant \u001b[91mpatroitic\u001b[0m\n",
            "🟢     oh u cant understand womens word\n",
            "🟢     question wear short skirt literally show as \u001b[91mkneehighs\u001b[0m \u001b[91mopt\u001b[0m short\n",
            "🟢     im annoyed ex mutuals hurt friend amp \u001b[91msuddenly\u001b[0m act like \u001b[91meverythings\u001b[0m good couple month amp \u001b[91msuddenly\u001b[0m try \u001b[91mbefriend\u001b[0m amp dont forgive pull victim card shit friend like dare\n",
            "🟢     gift wasted shut fuck \u001b[91muspsnwomskw\u001b[0m thats started bawling thats simply he vulnerable open little freak im fucking mess\n",
            "🟢     worst part also careful someone \u001b[91mseeming\u001b[0m \u001b[91msympathetic\u001b[0m understanding struggle internet come \u001b[91mfetishist\u001b[0m real life come one eager take advantage vulnerable person sick world\n",
            "🟢     new favorite meme pregnant woman driving \u001b[91moklahoma\u001b[0m \u001b[91mhov\u001b[0m lane telling state trooper pulled driving another person\n",
            "🟢     \u001b[91misw\u001b[0m published \u001b[91mfakest\u001b[0m crap map front u state \u001b[91mdepartment\u001b[0m fake news \u001b[91mvictoria\u001b[0m \u001b[91mnuland\u001b[0m woman directly involved armed \u001b[91moverthrow\u001b[0m ukraine government 2014\n",
            "🟢     nonbinary also lean femininity time content \u001b[91mafab\u001b[0m amp seen woman amp embrace time simply want \u001b[91mgenderless\u001b[0m thing exists\n",
            "🟢     feminism v \u001b[91mwomanismhudsonweems\u001b[0m \u001b[91midentifies\u001b[0m difference womanism feminism womanism \u001b[91mfamilyoriented\u001b[0m focus race class gender feminism \u001b[91mfemaleoriented\u001b[0m strictly focus biological sex related issue woman face\n",
            "🟢     collective drive improve \u001b[91murgent\u001b[0m \u001b[91mhumanitarian\u001b[0m situation \u001b[91moptimise\u001b[0m demographic \u001b[91mdividend\u001b[0m continent youth woman \u001b[91messential\u001b[0m \u001b[91mstakeholder\u001b[0m \u001b[91mimproving\u001b[0m \u001b[91mhumanitarian\u001b[0m situation particularly peace security \u001b[91msocioeconomic\u001b[0m\n",
            "🟢     yeah woman getting bad ive noticed anyway im sorry people sending stuff like gross\n",
            "🟢     yo swear \u001b[91msagittarius\u001b[0m men woman funniest\n",
            "🟢     \u001b[91mvasectomy\u001b[0m simple surgery done office hospital clinic 24 hour later recovery pretty much \u001b[91mcompletetubal\u001b[0m \u001b[91mligation\u001b[0m recovery take 13 week longer done following \u001b[91mcsection\u001b[0m \u001b[91mchildbirth\u001b[0m many woman cant afford take 13 week work\n",
            "🟢     woman shouldnt share trauma story feel empathy way theyre feeling today stand deserve choice \u001b[91mjunta\u001b[0m si \u001b[91mpodemos\u001b[0m\n",
            "🟢     little woman \u001b[91matlanta\u001b[0m star \u001b[91mm\u001b[0m juicy reveals health struggle \u001b[91mastroke\u001b[0m\n",
            "🟢     publication alert \u001b[91mwsq\u001b[0m \u001b[91mlovecouple\u001b[0m year back work caught caring young feminist movement threat \u001b[91mbacklash\u001b[0m \u001b[91mburnout\u001b[0m violence speaking 12\n",
            "🟢     wow trouble making witch unite\n",
            "🟢     \u001b[91mallnewtwice\u001b[0m many invest mean twice smart\n",
            "🟢     ask \u001b[91mcenk\u001b[0m \u001b[91mhypothetical\u001b[0m kind thinking used justify \u001b[91matrocity\u001b[0m would yell \u001b[91mcooooourse\u001b[0m 0 self reflection\n",
            "🟢     dragged action showed standing told wearing im going yell \u001b[91mshout\u001b[0m holding sign bring hate upon guy\n",
            "🟢     uh theyre allowed calling make look like cunt \u001b[91mfortunately\u001b[0m ill block fast wont get screenshot\n",
            "🟢     dont know youre point shouldnt \u001b[91mmock\u001b[0m people look \u001b[91mshallow\u001b[0m make look like cunt thanks \u001b[91minput\u001b[0m though\n"
          ]
        }
      ]
    },
    {
      "cell_type": "markdown",
      "metadata": {
        "id": "P42XYjb6K3k5"
      },
      "source": [
        "# [Task 8 - 0.5 points] Report\n",
        "\n",
        "Wrap up your experiment in a short report (up to 2 pages)."
      ]
    },
    {
      "cell_type": "markdown",
      "metadata": {
        "id": "N9oXSaW1K5S7"
      },
      "source": [
        "### Instructions\n",
        "\n",
        "* Use the NLP course report template.\n",
        "* Summarize each task in the report following the provided template."
      ]
    },
    {
      "cell_type": "markdown",
      "metadata": {
        "id": "MHw2L6PlLDyE"
      },
      "source": [
        "### Recommendations\n",
        "\n",
        "The report is not a copy-paste of graphs, tables, and command outputs.\n",
        "\n",
        "* Summarize classification performance in Table format.\n",
        "* **Do not** report command outputs or screenshots.\n",
        "* Report learning curves in Figure format.\n",
        "* The error analysis section should summarize your findings.\n"
      ]
    },
    {
      "cell_type": "markdown",
      "metadata": {
        "id": "bMUqh1utLflM"
      },
      "source": [
        "# Submission\n",
        "\n",
        "* **Submit** your report in PDF format.\n",
        "* **Submit** your python notebook.\n",
        "* Make sure your notebook is **well organized**, with no temporary code, commented sections, tests, etc...\n",
        "* You can upload **model weights** in a cloud repository and report the link in the report."
      ]
    },
    {
      "cell_type": "markdown",
      "metadata": {
        "id": "ypagJed7LheY"
      },
      "source": [
        "# FAQ\n",
        "\n",
        "Please check this frequently asked questions before contacting us"
      ]
    },
    {
      "cell_type": "markdown",
      "metadata": {
        "id": "bgtFwKXMLjww"
      },
      "source": [
        "### Execution Order\n",
        "\n",
        "You are **free** to address tasks in any order (if multiple orderings are available)."
      ]
    },
    {
      "cell_type": "markdown",
      "metadata": {
        "id": "_BjMk5e_M4n7"
      },
      "source": [
        "### Trainable Embeddings\n",
        "\n",
        "You are **free** to define a trainable or non-trainable Embedding layer to load the GloVe embeddings."
      ]
    },
    {
      "cell_type": "markdown",
      "metadata": {
        "id": "e8TVgpYlM6s5"
      },
      "source": [
        "### Model architecture\n",
        "\n",
        "You **should not** change the architecture of a model (i.e., its layers).\n",
        "However, you are **free** to play with their hyper-parameters.\n"
      ]
    },
    {
      "cell_type": "markdown",
      "metadata": {
        "id": "Ia6IapI1M_A7"
      },
      "source": [
        "### Neural Libraries\n",
        "\n",
        "You are **free** to use any library of your choice to implement the networks (e.g., Keras, Tensorflow, PyTorch, JAX, etc...)"
      ]
    },
    {
      "cell_type": "markdown",
      "metadata": {
        "id": "bWDaW8DyNBu5"
      },
      "source": [
        "### Keras TimeDistributed Dense layer\n",
        "\n",
        "If you are using Keras, we recommend wrapping the final Dense layer with `TimeDistributed`."
      ]
    },
    {
      "cell_type": "markdown",
      "metadata": {
        "id": "R1WcrpemNEQm"
      },
      "source": [
        "### Robust Evaluation\n",
        "\n",
        "Each model is trained with at least 3 random seeds.\n",
        "\n",
        "Task 4 requires you to compute the average performance over the 3 seeds and its corresponding standard deviation."
      ]
    },
    {
      "cell_type": "markdown",
      "metadata": {
        "id": "_mVe5dqzNI_u"
      },
      "source": [
        "### Model Selection for Analysis\n",
        "\n",
        "To carry out the error analysis you are **free** to either\n",
        "\n",
        "* Pick examples or perform comparisons with an individual seed run model (e.g., Baseline seed 1337)\n",
        "* Perform ensembling via, for instance, majority voting to obtain a single model."
      ]
    },
    {
      "cell_type": "markdown",
      "metadata": {
        "id": "L8a4pDKSNKzI"
      },
      "source": [
        "### Error Analysis\n",
        "\n",
        "Some topics for discussion include:\n",
        "   * Precision/Recall curves.\n",
        "   * Confusion matrices.\n",
        "   * Specific misclassified samples."
      ]
    },
    {
      "cell_type": "markdown",
      "metadata": {
        "collapsed": false,
        "id": "3hvMbxqxlktT"
      },
      "source": [
        "### Bonus Points\n",
        "Bonus points are arbitrarily assigned based on significant contributions such as:\n",
        "- Outstanding error analysis\n",
        "- Masterclass code organization\n",
        "- Suitable extensions\n",
        "Note that bonus points are only assigned if all task points are attributed (i.e., 6/6).\n",
        "\n",
        "**Possible Extensions/Explorations for Bonus Points:**\n",
        "- **Try other preprocessing strategies**: e.g., but not limited to, explore techniques tailored specifically for tweets or  methods that are common in social media text.\n",
        "- **Experiment with other custom architectures or models from HuggingFace**\n",
        "- **Explore Spanish tweets**: e.g., but not limited to, leverage multilingual models to process Spanish tweets and assess their performance compared to monolingual models.\n",
        "\n"
      ]
    },
    {
      "cell_type": "markdown",
      "metadata": {
        "id": "8xmMKE7vLu-y"
      },
      "source": [
        "\n",
        "\n",
        "\n",
        "\n",
        "# The End"
      ]
    }
  ],
  "metadata": {
    "colab": {
      "provenance": [],
      "gpuType": "T4",
      "toc_visible": true
    },
    "kernelspec": {
      "display_name": "Python 3",
      "name": "python3"
    },
    "language_info": {
      "codemirror_mode": {
        "name": "ipython",
        "version": 3
      },
      "file_extension": ".py",
      "mimetype": "text/x-python",
      "name": "python",
      "nbconvert_exporter": "python",
      "pygments_lexer": "ipython3",
      "version": "3.13.0"
    },
    "widgets": {
      "application/vnd.jupyter.widget-state+json": {
        "7995dbec2a4641689e300dd4f61ebda2": {
          "model_module": "@jupyter-widgets/controls",
          "model_name": "HBoxModel",
          "model_module_version": "1.5.0",
          "state": {
            "_dom_classes": [],
            "_model_module": "@jupyter-widgets/controls",
            "_model_module_version": "1.5.0",
            "_model_name": "HBoxModel",
            "_view_count": null,
            "_view_module": "@jupyter-widgets/controls",
            "_view_module_version": "1.5.0",
            "_view_name": "HBoxView",
            "box_style": "",
            "children": [
              "IPY_MODEL_5a50f34421fa4b009aece659abba9a5b",
              "IPY_MODEL_4a05892b1ef34d488a6143fe6ad6b3f0",
              "IPY_MODEL_0d9f3a2885b2403ab1804a76a26dc70c"
            ],
            "layout": "IPY_MODEL_12ef7fabba5240b295dae6584936adf5"
          }
        },
        "5a50f34421fa4b009aece659abba9a5b": {
          "model_module": "@jupyter-widgets/controls",
          "model_name": "HTMLModel",
          "model_module_version": "1.5.0",
          "state": {
            "_dom_classes": [],
            "_model_module": "@jupyter-widgets/controls",
            "_model_module_version": "1.5.0",
            "_model_name": "HTMLModel",
            "_view_count": null,
            "_view_module": "@jupyter-widgets/controls",
            "_view_module_version": "1.5.0",
            "_view_name": "HTMLView",
            "description": "",
            "description_tooltip": null,
            "layout": "IPY_MODEL_cfdc1669d3ce4b8bba8f09e4cc63529c",
            "placeholder": "​",
            "style": "IPY_MODEL_ffb9168bc9984bcdb032ca5a8f9be4d2",
            "value": "Map: 100%"
          }
        },
        "4a05892b1ef34d488a6143fe6ad6b3f0": {
          "model_module": "@jupyter-widgets/controls",
          "model_name": "FloatProgressModel",
          "model_module_version": "1.5.0",
          "state": {
            "_dom_classes": [],
            "_model_module": "@jupyter-widgets/controls",
            "_model_module_version": "1.5.0",
            "_model_name": "FloatProgressModel",
            "_view_count": null,
            "_view_module": "@jupyter-widgets/controls",
            "_view_module_version": "1.5.0",
            "_view_name": "ProgressView",
            "bar_style": "success",
            "description": "",
            "description_tooltip": null,
            "layout": "IPY_MODEL_e946268caaf34136bcc5e6c6effca22b",
            "max": 2870,
            "min": 0,
            "orientation": "horizontal",
            "style": "IPY_MODEL_f80b6ab2627d4e14a108b066d973729d",
            "value": 2870
          }
        },
        "0d9f3a2885b2403ab1804a76a26dc70c": {
          "model_module": "@jupyter-widgets/controls",
          "model_name": "HTMLModel",
          "model_module_version": "1.5.0",
          "state": {
            "_dom_classes": [],
            "_model_module": "@jupyter-widgets/controls",
            "_model_module_version": "1.5.0",
            "_model_name": "HTMLModel",
            "_view_count": null,
            "_view_module": "@jupyter-widgets/controls",
            "_view_module_version": "1.5.0",
            "_view_name": "HTMLView",
            "description": "",
            "description_tooltip": null,
            "layout": "IPY_MODEL_01d4fce1ad3549c0b3d48abbe1f43abe",
            "placeholder": "​",
            "style": "IPY_MODEL_bd9710ab968445cfa1d38ac53be79528",
            "value": " 2870/2870 [00:00&lt;00:00, 3739.99 examples/s]"
          }
        },
        "12ef7fabba5240b295dae6584936adf5": {
          "model_module": "@jupyter-widgets/base",
          "model_name": "LayoutModel",
          "model_module_version": "1.2.0",
          "state": {
            "_model_module": "@jupyter-widgets/base",
            "_model_module_version": "1.2.0",
            "_model_name": "LayoutModel",
            "_view_count": null,
            "_view_module": "@jupyter-widgets/base",
            "_view_module_version": "1.2.0",
            "_view_name": "LayoutView",
            "align_content": null,
            "align_items": null,
            "align_self": null,
            "border": null,
            "bottom": null,
            "display": null,
            "flex": null,
            "flex_flow": null,
            "grid_area": null,
            "grid_auto_columns": null,
            "grid_auto_flow": null,
            "grid_auto_rows": null,
            "grid_column": null,
            "grid_gap": null,
            "grid_row": null,
            "grid_template_areas": null,
            "grid_template_columns": null,
            "grid_template_rows": null,
            "height": null,
            "justify_content": null,
            "justify_items": null,
            "left": null,
            "margin": null,
            "max_height": null,
            "max_width": null,
            "min_height": null,
            "min_width": null,
            "object_fit": null,
            "object_position": null,
            "order": null,
            "overflow": null,
            "overflow_x": null,
            "overflow_y": null,
            "padding": null,
            "right": null,
            "top": null,
            "visibility": null,
            "width": null
          }
        },
        "cfdc1669d3ce4b8bba8f09e4cc63529c": {
          "model_module": "@jupyter-widgets/base",
          "model_name": "LayoutModel",
          "model_module_version": "1.2.0",
          "state": {
            "_model_module": "@jupyter-widgets/base",
            "_model_module_version": "1.2.0",
            "_model_name": "LayoutModel",
            "_view_count": null,
            "_view_module": "@jupyter-widgets/base",
            "_view_module_version": "1.2.0",
            "_view_name": "LayoutView",
            "align_content": null,
            "align_items": null,
            "align_self": null,
            "border": null,
            "bottom": null,
            "display": null,
            "flex": null,
            "flex_flow": null,
            "grid_area": null,
            "grid_auto_columns": null,
            "grid_auto_flow": null,
            "grid_auto_rows": null,
            "grid_column": null,
            "grid_gap": null,
            "grid_row": null,
            "grid_template_areas": null,
            "grid_template_columns": null,
            "grid_template_rows": null,
            "height": null,
            "justify_content": null,
            "justify_items": null,
            "left": null,
            "margin": null,
            "max_height": null,
            "max_width": null,
            "min_height": null,
            "min_width": null,
            "object_fit": null,
            "object_position": null,
            "order": null,
            "overflow": null,
            "overflow_x": null,
            "overflow_y": null,
            "padding": null,
            "right": null,
            "top": null,
            "visibility": null,
            "width": null
          }
        },
        "ffb9168bc9984bcdb032ca5a8f9be4d2": {
          "model_module": "@jupyter-widgets/controls",
          "model_name": "DescriptionStyleModel",
          "model_module_version": "1.5.0",
          "state": {
            "_model_module": "@jupyter-widgets/controls",
            "_model_module_version": "1.5.0",
            "_model_name": "DescriptionStyleModel",
            "_view_count": null,
            "_view_module": "@jupyter-widgets/base",
            "_view_module_version": "1.2.0",
            "_view_name": "StyleView",
            "description_width": ""
          }
        },
        "e946268caaf34136bcc5e6c6effca22b": {
          "model_module": "@jupyter-widgets/base",
          "model_name": "LayoutModel",
          "model_module_version": "1.2.0",
          "state": {
            "_model_module": "@jupyter-widgets/base",
            "_model_module_version": "1.2.0",
            "_model_name": "LayoutModel",
            "_view_count": null,
            "_view_module": "@jupyter-widgets/base",
            "_view_module_version": "1.2.0",
            "_view_name": "LayoutView",
            "align_content": null,
            "align_items": null,
            "align_self": null,
            "border": null,
            "bottom": null,
            "display": null,
            "flex": null,
            "flex_flow": null,
            "grid_area": null,
            "grid_auto_columns": null,
            "grid_auto_flow": null,
            "grid_auto_rows": null,
            "grid_column": null,
            "grid_gap": null,
            "grid_row": null,
            "grid_template_areas": null,
            "grid_template_columns": null,
            "grid_template_rows": null,
            "height": null,
            "justify_content": null,
            "justify_items": null,
            "left": null,
            "margin": null,
            "max_height": null,
            "max_width": null,
            "min_height": null,
            "min_width": null,
            "object_fit": null,
            "object_position": null,
            "order": null,
            "overflow": null,
            "overflow_x": null,
            "overflow_y": null,
            "padding": null,
            "right": null,
            "top": null,
            "visibility": null,
            "width": null
          }
        },
        "f80b6ab2627d4e14a108b066d973729d": {
          "model_module": "@jupyter-widgets/controls",
          "model_name": "ProgressStyleModel",
          "model_module_version": "1.5.0",
          "state": {
            "_model_module": "@jupyter-widgets/controls",
            "_model_module_version": "1.5.0",
            "_model_name": "ProgressStyleModel",
            "_view_count": null,
            "_view_module": "@jupyter-widgets/base",
            "_view_module_version": "1.2.0",
            "_view_name": "StyleView",
            "bar_color": null,
            "description_width": ""
          }
        },
        "01d4fce1ad3549c0b3d48abbe1f43abe": {
          "model_module": "@jupyter-widgets/base",
          "model_name": "LayoutModel",
          "model_module_version": "1.2.0",
          "state": {
            "_model_module": "@jupyter-widgets/base",
            "_model_module_version": "1.2.0",
            "_model_name": "LayoutModel",
            "_view_count": null,
            "_view_module": "@jupyter-widgets/base",
            "_view_module_version": "1.2.0",
            "_view_name": "LayoutView",
            "align_content": null,
            "align_items": null,
            "align_self": null,
            "border": null,
            "bottom": null,
            "display": null,
            "flex": null,
            "flex_flow": null,
            "grid_area": null,
            "grid_auto_columns": null,
            "grid_auto_flow": null,
            "grid_auto_rows": null,
            "grid_column": null,
            "grid_gap": null,
            "grid_row": null,
            "grid_template_areas": null,
            "grid_template_columns": null,
            "grid_template_rows": null,
            "height": null,
            "justify_content": null,
            "justify_items": null,
            "left": null,
            "margin": null,
            "max_height": null,
            "max_width": null,
            "min_height": null,
            "min_width": null,
            "object_fit": null,
            "object_position": null,
            "order": null,
            "overflow": null,
            "overflow_x": null,
            "overflow_y": null,
            "padding": null,
            "right": null,
            "top": null,
            "visibility": null,
            "width": null
          }
        },
        "bd9710ab968445cfa1d38ac53be79528": {
          "model_module": "@jupyter-widgets/controls",
          "model_name": "DescriptionStyleModel",
          "model_module_version": "1.5.0",
          "state": {
            "_model_module": "@jupyter-widgets/controls",
            "_model_module_version": "1.5.0",
            "_model_name": "DescriptionStyleModel",
            "_view_count": null,
            "_view_module": "@jupyter-widgets/base",
            "_view_module_version": "1.2.0",
            "_view_name": "StyleView",
            "description_width": ""
          }
        },
        "ec8fb3c07625493b9353f718c3a36706": {
          "model_module": "@jupyter-widgets/controls",
          "model_name": "HBoxModel",
          "model_module_version": "1.5.0",
          "state": {
            "_dom_classes": [],
            "_model_module": "@jupyter-widgets/controls",
            "_model_module_version": "1.5.0",
            "_model_name": "HBoxModel",
            "_view_count": null,
            "_view_module": "@jupyter-widgets/controls",
            "_view_module_version": "1.5.0",
            "_view_name": "HBoxView",
            "box_style": "",
            "children": [
              "IPY_MODEL_005066cec4ea4d7c84c98dc909b1757d",
              "IPY_MODEL_9e67b8b82dd4414880a3908f2666ea96",
              "IPY_MODEL_113d564bb71e492e96775f390c673f74"
            ],
            "layout": "IPY_MODEL_3a5eb52a8e924a4bb64df2b0b5aeb6dc"
          }
        },
        "005066cec4ea4d7c84c98dc909b1757d": {
          "model_module": "@jupyter-widgets/controls",
          "model_name": "HTMLModel",
          "model_module_version": "1.5.0",
          "state": {
            "_dom_classes": [],
            "_model_module": "@jupyter-widgets/controls",
            "_model_module_version": "1.5.0",
            "_model_name": "HTMLModel",
            "_view_count": null,
            "_view_module": "@jupyter-widgets/controls",
            "_view_module_version": "1.5.0",
            "_view_name": "HTMLView",
            "description": "",
            "description_tooltip": null,
            "layout": "IPY_MODEL_8ff08806b6eb4a20b6ce6a253cfb1555",
            "placeholder": "​",
            "style": "IPY_MODEL_f8d5dcfe0dc14a2f892330ee1bfa43e6",
            "value": "Map: 100%"
          }
        },
        "9e67b8b82dd4414880a3908f2666ea96": {
          "model_module": "@jupyter-widgets/controls",
          "model_name": "FloatProgressModel",
          "model_module_version": "1.5.0",
          "state": {
            "_dom_classes": [],
            "_model_module": "@jupyter-widgets/controls",
            "_model_module_version": "1.5.0",
            "_model_name": "FloatProgressModel",
            "_view_count": null,
            "_view_module": "@jupyter-widgets/controls",
            "_view_module_version": "1.5.0",
            "_view_name": "ProgressView",
            "bar_style": "success",
            "description": "",
            "description_tooltip": null,
            "layout": "IPY_MODEL_eb7d29fae1eb43c6889e78b9b78e3ab2",
            "max": 158,
            "min": 0,
            "orientation": "horizontal",
            "style": "IPY_MODEL_8a902ce63b1945abad193ed0a7ea6777",
            "value": 158
          }
        },
        "113d564bb71e492e96775f390c673f74": {
          "model_module": "@jupyter-widgets/controls",
          "model_name": "HTMLModel",
          "model_module_version": "1.5.0",
          "state": {
            "_dom_classes": [],
            "_model_module": "@jupyter-widgets/controls",
            "_model_module_version": "1.5.0",
            "_model_name": "HTMLModel",
            "_view_count": null,
            "_view_module": "@jupyter-widgets/controls",
            "_view_module_version": "1.5.0",
            "_view_name": "HTMLView",
            "description": "",
            "description_tooltip": null,
            "layout": "IPY_MODEL_35d0b87a635b43408db4418a93b9b177",
            "placeholder": "​",
            "style": "IPY_MODEL_661193f262da413d8e98c7bf54b0f538",
            "value": " 158/158 [00:00&lt;00:00, 1775.91 examples/s]"
          }
        },
        "3a5eb52a8e924a4bb64df2b0b5aeb6dc": {
          "model_module": "@jupyter-widgets/base",
          "model_name": "LayoutModel",
          "model_module_version": "1.2.0",
          "state": {
            "_model_module": "@jupyter-widgets/base",
            "_model_module_version": "1.2.0",
            "_model_name": "LayoutModel",
            "_view_count": null,
            "_view_module": "@jupyter-widgets/base",
            "_view_module_version": "1.2.0",
            "_view_name": "LayoutView",
            "align_content": null,
            "align_items": null,
            "align_self": null,
            "border": null,
            "bottom": null,
            "display": null,
            "flex": null,
            "flex_flow": null,
            "grid_area": null,
            "grid_auto_columns": null,
            "grid_auto_flow": null,
            "grid_auto_rows": null,
            "grid_column": null,
            "grid_gap": null,
            "grid_row": null,
            "grid_template_areas": null,
            "grid_template_columns": null,
            "grid_template_rows": null,
            "height": null,
            "justify_content": null,
            "justify_items": null,
            "left": null,
            "margin": null,
            "max_height": null,
            "max_width": null,
            "min_height": null,
            "min_width": null,
            "object_fit": null,
            "object_position": null,
            "order": null,
            "overflow": null,
            "overflow_x": null,
            "overflow_y": null,
            "padding": null,
            "right": null,
            "top": null,
            "visibility": null,
            "width": null
          }
        },
        "8ff08806b6eb4a20b6ce6a253cfb1555": {
          "model_module": "@jupyter-widgets/base",
          "model_name": "LayoutModel",
          "model_module_version": "1.2.0",
          "state": {
            "_model_module": "@jupyter-widgets/base",
            "_model_module_version": "1.2.0",
            "_model_name": "LayoutModel",
            "_view_count": null,
            "_view_module": "@jupyter-widgets/base",
            "_view_module_version": "1.2.0",
            "_view_name": "LayoutView",
            "align_content": null,
            "align_items": null,
            "align_self": null,
            "border": null,
            "bottom": null,
            "display": null,
            "flex": null,
            "flex_flow": null,
            "grid_area": null,
            "grid_auto_columns": null,
            "grid_auto_flow": null,
            "grid_auto_rows": null,
            "grid_column": null,
            "grid_gap": null,
            "grid_row": null,
            "grid_template_areas": null,
            "grid_template_columns": null,
            "grid_template_rows": null,
            "height": null,
            "justify_content": null,
            "justify_items": null,
            "left": null,
            "margin": null,
            "max_height": null,
            "max_width": null,
            "min_height": null,
            "min_width": null,
            "object_fit": null,
            "object_position": null,
            "order": null,
            "overflow": null,
            "overflow_x": null,
            "overflow_y": null,
            "padding": null,
            "right": null,
            "top": null,
            "visibility": null,
            "width": null
          }
        },
        "f8d5dcfe0dc14a2f892330ee1bfa43e6": {
          "model_module": "@jupyter-widgets/controls",
          "model_name": "DescriptionStyleModel",
          "model_module_version": "1.5.0",
          "state": {
            "_model_module": "@jupyter-widgets/controls",
            "_model_module_version": "1.5.0",
            "_model_name": "DescriptionStyleModel",
            "_view_count": null,
            "_view_module": "@jupyter-widgets/base",
            "_view_module_version": "1.2.0",
            "_view_name": "StyleView",
            "description_width": ""
          }
        },
        "eb7d29fae1eb43c6889e78b9b78e3ab2": {
          "model_module": "@jupyter-widgets/base",
          "model_name": "LayoutModel",
          "model_module_version": "1.2.0",
          "state": {
            "_model_module": "@jupyter-widgets/base",
            "_model_module_version": "1.2.0",
            "_model_name": "LayoutModel",
            "_view_count": null,
            "_view_module": "@jupyter-widgets/base",
            "_view_module_version": "1.2.0",
            "_view_name": "LayoutView",
            "align_content": null,
            "align_items": null,
            "align_self": null,
            "border": null,
            "bottom": null,
            "display": null,
            "flex": null,
            "flex_flow": null,
            "grid_area": null,
            "grid_auto_columns": null,
            "grid_auto_flow": null,
            "grid_auto_rows": null,
            "grid_column": null,
            "grid_gap": null,
            "grid_row": null,
            "grid_template_areas": null,
            "grid_template_columns": null,
            "grid_template_rows": null,
            "height": null,
            "justify_content": null,
            "justify_items": null,
            "left": null,
            "margin": null,
            "max_height": null,
            "max_width": null,
            "min_height": null,
            "min_width": null,
            "object_fit": null,
            "object_position": null,
            "order": null,
            "overflow": null,
            "overflow_x": null,
            "overflow_y": null,
            "padding": null,
            "right": null,
            "top": null,
            "visibility": null,
            "width": null
          }
        },
        "8a902ce63b1945abad193ed0a7ea6777": {
          "model_module": "@jupyter-widgets/controls",
          "model_name": "ProgressStyleModel",
          "model_module_version": "1.5.0",
          "state": {
            "_model_module": "@jupyter-widgets/controls",
            "_model_module_version": "1.5.0",
            "_model_name": "ProgressStyleModel",
            "_view_count": null,
            "_view_module": "@jupyter-widgets/base",
            "_view_module_version": "1.2.0",
            "_view_name": "StyleView",
            "bar_color": null,
            "description_width": ""
          }
        },
        "35d0b87a635b43408db4418a93b9b177": {
          "model_module": "@jupyter-widgets/base",
          "model_name": "LayoutModel",
          "model_module_version": "1.2.0",
          "state": {
            "_model_module": "@jupyter-widgets/base",
            "_model_module_version": "1.2.0",
            "_model_name": "LayoutModel",
            "_view_count": null,
            "_view_module": "@jupyter-widgets/base",
            "_view_module_version": "1.2.0",
            "_view_name": "LayoutView",
            "align_content": null,
            "align_items": null,
            "align_self": null,
            "border": null,
            "bottom": null,
            "display": null,
            "flex": null,
            "flex_flow": null,
            "grid_area": null,
            "grid_auto_columns": null,
            "grid_auto_flow": null,
            "grid_auto_rows": null,
            "grid_column": null,
            "grid_gap": null,
            "grid_row": null,
            "grid_template_areas": null,
            "grid_template_columns": null,
            "grid_template_rows": null,
            "height": null,
            "justify_content": null,
            "justify_items": null,
            "left": null,
            "margin": null,
            "max_height": null,
            "max_width": null,
            "min_height": null,
            "min_width": null,
            "object_fit": null,
            "object_position": null,
            "order": null,
            "overflow": null,
            "overflow_x": null,
            "overflow_y": null,
            "padding": null,
            "right": null,
            "top": null,
            "visibility": null,
            "width": null
          }
        },
        "661193f262da413d8e98c7bf54b0f538": {
          "model_module": "@jupyter-widgets/controls",
          "model_name": "DescriptionStyleModel",
          "model_module_version": "1.5.0",
          "state": {
            "_model_module": "@jupyter-widgets/controls",
            "_model_module_version": "1.5.0",
            "_model_name": "DescriptionStyleModel",
            "_view_count": null,
            "_view_module": "@jupyter-widgets/base",
            "_view_module_version": "1.2.0",
            "_view_name": "StyleView",
            "description_width": ""
          }
        },
        "6e7d66af5ea84058af27c19d246c12cb": {
          "model_module": "@jupyter-widgets/controls",
          "model_name": "HBoxModel",
          "model_module_version": "1.5.0",
          "state": {
            "_dom_classes": [],
            "_model_module": "@jupyter-widgets/controls",
            "_model_module_version": "1.5.0",
            "_model_name": "HBoxModel",
            "_view_count": null,
            "_view_module": "@jupyter-widgets/controls",
            "_view_module_version": "1.5.0",
            "_view_name": "HBoxView",
            "box_style": "",
            "children": [
              "IPY_MODEL_96dd82870a3a44318eeba9980d3b1cae",
              "IPY_MODEL_fcd8eb38ec5a45ac91188dd7427b83bd",
              "IPY_MODEL_f090316efb3b49cf941df1d751f241af"
            ],
            "layout": "IPY_MODEL_cb7b27d5b247440aaf92038fc89a9cc0"
          }
        },
        "96dd82870a3a44318eeba9980d3b1cae": {
          "model_module": "@jupyter-widgets/controls",
          "model_name": "HTMLModel",
          "model_module_version": "1.5.0",
          "state": {
            "_dom_classes": [],
            "_model_module": "@jupyter-widgets/controls",
            "_model_module_version": "1.5.0",
            "_model_name": "HTMLModel",
            "_view_count": null,
            "_view_module": "@jupyter-widgets/controls",
            "_view_module_version": "1.5.0",
            "_view_name": "HTMLView",
            "description": "",
            "description_tooltip": null,
            "layout": "IPY_MODEL_3ed3fcf95069444ebfcc9c202663250b",
            "placeholder": "​",
            "style": "IPY_MODEL_9e292286e9d941db84f058bd2d92ec54",
            "value": "Map: 100%"
          }
        },
        "fcd8eb38ec5a45ac91188dd7427b83bd": {
          "model_module": "@jupyter-widgets/controls",
          "model_name": "FloatProgressModel",
          "model_module_version": "1.5.0",
          "state": {
            "_dom_classes": [],
            "_model_module": "@jupyter-widgets/controls",
            "_model_module_version": "1.5.0",
            "_model_name": "FloatProgressModel",
            "_view_count": null,
            "_view_module": "@jupyter-widgets/controls",
            "_view_module_version": "1.5.0",
            "_view_name": "ProgressView",
            "bar_style": "success",
            "description": "",
            "description_tooltip": null,
            "layout": "IPY_MODEL_58375e141c6b445889886afd3cf21f18",
            "max": 286,
            "min": 0,
            "orientation": "horizontal",
            "style": "IPY_MODEL_b092f0742de843e1a084483b53defc31",
            "value": 286
          }
        },
        "f090316efb3b49cf941df1d751f241af": {
          "model_module": "@jupyter-widgets/controls",
          "model_name": "HTMLModel",
          "model_module_version": "1.5.0",
          "state": {
            "_dom_classes": [],
            "_model_module": "@jupyter-widgets/controls",
            "_model_module_version": "1.5.0",
            "_model_name": "HTMLModel",
            "_view_count": null,
            "_view_module": "@jupyter-widgets/controls",
            "_view_module_version": "1.5.0",
            "_view_name": "HTMLView",
            "description": "",
            "description_tooltip": null,
            "layout": "IPY_MODEL_0ce5135d261c44c1ae68f9aa57e2a66f",
            "placeholder": "​",
            "style": "IPY_MODEL_4d0178e923c7473d9ad6c03e64ad0255",
            "value": " 286/286 [00:00&lt;00:00, 2512.87 examples/s]"
          }
        },
        "cb7b27d5b247440aaf92038fc89a9cc0": {
          "model_module": "@jupyter-widgets/base",
          "model_name": "LayoutModel",
          "model_module_version": "1.2.0",
          "state": {
            "_model_module": "@jupyter-widgets/base",
            "_model_module_version": "1.2.0",
            "_model_name": "LayoutModel",
            "_view_count": null,
            "_view_module": "@jupyter-widgets/base",
            "_view_module_version": "1.2.0",
            "_view_name": "LayoutView",
            "align_content": null,
            "align_items": null,
            "align_self": null,
            "border": null,
            "bottom": null,
            "display": null,
            "flex": null,
            "flex_flow": null,
            "grid_area": null,
            "grid_auto_columns": null,
            "grid_auto_flow": null,
            "grid_auto_rows": null,
            "grid_column": null,
            "grid_gap": null,
            "grid_row": null,
            "grid_template_areas": null,
            "grid_template_columns": null,
            "grid_template_rows": null,
            "height": null,
            "justify_content": null,
            "justify_items": null,
            "left": null,
            "margin": null,
            "max_height": null,
            "max_width": null,
            "min_height": null,
            "min_width": null,
            "object_fit": null,
            "object_position": null,
            "order": null,
            "overflow": null,
            "overflow_x": null,
            "overflow_y": null,
            "padding": null,
            "right": null,
            "top": null,
            "visibility": null,
            "width": null
          }
        },
        "3ed3fcf95069444ebfcc9c202663250b": {
          "model_module": "@jupyter-widgets/base",
          "model_name": "LayoutModel",
          "model_module_version": "1.2.0",
          "state": {
            "_model_module": "@jupyter-widgets/base",
            "_model_module_version": "1.2.0",
            "_model_name": "LayoutModel",
            "_view_count": null,
            "_view_module": "@jupyter-widgets/base",
            "_view_module_version": "1.2.0",
            "_view_name": "LayoutView",
            "align_content": null,
            "align_items": null,
            "align_self": null,
            "border": null,
            "bottom": null,
            "display": null,
            "flex": null,
            "flex_flow": null,
            "grid_area": null,
            "grid_auto_columns": null,
            "grid_auto_flow": null,
            "grid_auto_rows": null,
            "grid_column": null,
            "grid_gap": null,
            "grid_row": null,
            "grid_template_areas": null,
            "grid_template_columns": null,
            "grid_template_rows": null,
            "height": null,
            "justify_content": null,
            "justify_items": null,
            "left": null,
            "margin": null,
            "max_height": null,
            "max_width": null,
            "min_height": null,
            "min_width": null,
            "object_fit": null,
            "object_position": null,
            "order": null,
            "overflow": null,
            "overflow_x": null,
            "overflow_y": null,
            "padding": null,
            "right": null,
            "top": null,
            "visibility": null,
            "width": null
          }
        },
        "9e292286e9d941db84f058bd2d92ec54": {
          "model_module": "@jupyter-widgets/controls",
          "model_name": "DescriptionStyleModel",
          "model_module_version": "1.5.0",
          "state": {
            "_model_module": "@jupyter-widgets/controls",
            "_model_module_version": "1.5.0",
            "_model_name": "DescriptionStyleModel",
            "_view_count": null,
            "_view_module": "@jupyter-widgets/base",
            "_view_module_version": "1.2.0",
            "_view_name": "StyleView",
            "description_width": ""
          }
        },
        "58375e141c6b445889886afd3cf21f18": {
          "model_module": "@jupyter-widgets/base",
          "model_name": "LayoutModel",
          "model_module_version": "1.2.0",
          "state": {
            "_model_module": "@jupyter-widgets/base",
            "_model_module_version": "1.2.0",
            "_model_name": "LayoutModel",
            "_view_count": null,
            "_view_module": "@jupyter-widgets/base",
            "_view_module_version": "1.2.0",
            "_view_name": "LayoutView",
            "align_content": null,
            "align_items": null,
            "align_self": null,
            "border": null,
            "bottom": null,
            "display": null,
            "flex": null,
            "flex_flow": null,
            "grid_area": null,
            "grid_auto_columns": null,
            "grid_auto_flow": null,
            "grid_auto_rows": null,
            "grid_column": null,
            "grid_gap": null,
            "grid_row": null,
            "grid_template_areas": null,
            "grid_template_columns": null,
            "grid_template_rows": null,
            "height": null,
            "justify_content": null,
            "justify_items": null,
            "left": null,
            "margin": null,
            "max_height": null,
            "max_width": null,
            "min_height": null,
            "min_width": null,
            "object_fit": null,
            "object_position": null,
            "order": null,
            "overflow": null,
            "overflow_x": null,
            "overflow_y": null,
            "padding": null,
            "right": null,
            "top": null,
            "visibility": null,
            "width": null
          }
        },
        "b092f0742de843e1a084483b53defc31": {
          "model_module": "@jupyter-widgets/controls",
          "model_name": "ProgressStyleModel",
          "model_module_version": "1.5.0",
          "state": {
            "_model_module": "@jupyter-widgets/controls",
            "_model_module_version": "1.5.0",
            "_model_name": "ProgressStyleModel",
            "_view_count": null,
            "_view_module": "@jupyter-widgets/base",
            "_view_module_version": "1.2.0",
            "_view_name": "StyleView",
            "bar_color": null,
            "description_width": ""
          }
        },
        "0ce5135d261c44c1ae68f9aa57e2a66f": {
          "model_module": "@jupyter-widgets/base",
          "model_name": "LayoutModel",
          "model_module_version": "1.2.0",
          "state": {
            "_model_module": "@jupyter-widgets/base",
            "_model_module_version": "1.2.0",
            "_model_name": "LayoutModel",
            "_view_count": null,
            "_view_module": "@jupyter-widgets/base",
            "_view_module_version": "1.2.0",
            "_view_name": "LayoutView",
            "align_content": null,
            "align_items": null,
            "align_self": null,
            "border": null,
            "bottom": null,
            "display": null,
            "flex": null,
            "flex_flow": null,
            "grid_area": null,
            "grid_auto_columns": null,
            "grid_auto_flow": null,
            "grid_auto_rows": null,
            "grid_column": null,
            "grid_gap": null,
            "grid_row": null,
            "grid_template_areas": null,
            "grid_template_columns": null,
            "grid_template_rows": null,
            "height": null,
            "justify_content": null,
            "justify_items": null,
            "left": null,
            "margin": null,
            "max_height": null,
            "max_width": null,
            "min_height": null,
            "min_width": null,
            "object_fit": null,
            "object_position": null,
            "order": null,
            "overflow": null,
            "overflow_x": null,
            "overflow_y": null,
            "padding": null,
            "right": null,
            "top": null,
            "visibility": null,
            "width": null
          }
        },
        "4d0178e923c7473d9ad6c03e64ad0255": {
          "model_module": "@jupyter-widgets/controls",
          "model_name": "DescriptionStyleModel",
          "model_module_version": "1.5.0",
          "state": {
            "_model_module": "@jupyter-widgets/controls",
            "_model_module_version": "1.5.0",
            "_model_name": "DescriptionStyleModel",
            "_view_count": null,
            "_view_module": "@jupyter-widgets/base",
            "_view_module_version": "1.2.0",
            "_view_name": "StyleView",
            "description_width": ""
          }
        }
      }
    },
    "accelerator": "GPU"
  },
  "nbformat": 4,
  "nbformat_minor": 0
}