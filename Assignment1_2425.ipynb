{
  "cells": [
    {
      "cell_type": "markdown",
      "metadata": {
        "id": "qE4WC2_4wygJ"
      },
      "source": [
        "# Assignment 1\n",
        "**Credits**: Federico Ruggeri, Eleonora Mancini, Paolo Torroni\n",
        "\n",
        "**Keywords**: Sexism Detection, Multi-class Classification, RNNs, Transformers, Huggingface\n",
        "\n"
      ]
    },
    {
      "cell_type": "markdown",
      "metadata": {
        "id": "fL69zGpmx01k"
      },
      "source": [
        "# Contact\n",
        "For any doubt, question, issue or help, you can always contact us at the following email addresses:\n",
        "\n",
        "Teaching Assistants:\n",
        "\n",
        "- Federico Ruggeri -> federico.ruggeri6@unibo.it\n",
        "- Eleonora Mancini -> e.mancini@unibo.it\n",
        "\n",
        "Professor:\n",
        "- Paolo Torroni -> p.torroni@unibo.it"
      ]
    },
    {
      "cell_type": "markdown",
      "metadata": {
        "id": "55jnW-xKxi-2"
      },
      "source": [
        "# Introduction\n",
        "You are asked to address the [EXIST 2023 Task 1](https://clef2023.clef-initiative.eu/index.php?page=Pages/labs.html#EXIST) on sexism detection."
      ]
    },
    {
      "cell_type": "markdown",
      "metadata": {
        "id": "9HWp5bGwySsb"
      },
      "source": [
        "## Problem Definition\n",
        "The systems have to decide whether or not a given tweet contains or describes sexist expressions or behaviors (i.e., it is sexist itself, describes a sexist situation or criticizes a sexist behavior).\n",
        "\n",
        "### Examples:\n",
        "\n",
        "**Text**: *Can’t go a day without women womening*\n",
        "\n",
        "**Label**: Sexist\n",
        "\n",
        "**Text**: *''Society's set norms! Happy men's day though!#weareequal''*\n",
        "\n",
        "**Label**: Not sexist"
      ]
    },
    {
      "cell_type": "markdown",
      "metadata": {
        "id": "2iu1X4I98M8B"
      },
      "source": [
        "#[Task 1 - 1.0 points] Corpus\n",
        "\n",
        "We have preparared a small version of EXIST dataset in our dedicated [Github repository](https://github.com/lt-nlp-lab-unibo/nlp-course-material/tree/main/2024-2025/Assignment%201/data).\n",
        "\n",
        "Check the `A1/data` folder. It contains 3 `.json` files representing `training`, `validation` and `test` sets.\n",
        "\n",
        "The three sets are slightly unbalanced, with a bias toward the `Non-sexist` class.\n",
        "\n"
      ]
    },
    {
      "cell_type": "markdown",
      "metadata": {
        "id": "AASoMV9XN5l6"
      },
      "source": [
        "### Dataset Description\n",
        "- The dataset contains tweets in both English and Spanish.\n",
        "- There are labels for multiple tasks, but we are focusing on **Task 1**.\n",
        "- For Task 1, soft labels are assigned by six annotators.\n",
        "- The labels for Task 1 represent whether the tweet is sexist (\"YES\") or not (\"NO\").\n",
        "\n",
        "\n",
        "\n",
        "\n"
      ]
    },
    {
      "cell_type": "markdown",
      "metadata": {
        "id": "OFjwB_lCOQKj"
      },
      "source": [
        "\n",
        "### Example\n",
        "\n",
        "\n",
        "    \"203260\": {\n",
        "        \"id_EXIST\": \"203260\",\n",
        "        \"lang\": \"en\",\n",
        "        \"tweet\": \"ik when mandy says “you look like a whore” i look cute as FUCK\",\n",
        "        \"number_annotators\": 6,\n",
        "        \"annotators\": [\"Annotator_473\", \"Annotator_474\", \"Annotator_475\", \"Annotator_476\", \"Annotator_477\", \"Annotator_27\"],\n",
        "        \"gender_annotators\": [\"F\", \"F\", \"M\", \"M\", \"M\", \"F\"],\n",
        "        \"age_annotators\": [\"18-22\", \"23-45\", \"18-22\", \"23-45\", \"46+\", \"46+\"],\n",
        "        \"labels_task1\": [\"YES\", \"YES\", \"YES\", \"NO\", \"YES\", \"YES\"],\n",
        "        \"labels_task2\": [\"DIRECT\", \"DIRECT\", \"REPORTED\", \"-\", \"JUDGEMENTAL\", \"REPORTED\"],\n",
        "        \"labels_task3\": [\n",
        "          [\"STEREOTYPING-DOMINANCE\"],\n",
        "          [\"OBJECTIFICATION\"],\n",
        "          [\"SEXUAL-VIOLENCE\"],\n",
        "          [\"-\"],\n",
        "          [\"STEREOTYPING-DOMINANCE\", \"OBJECTIFICATION\"],\n",
        "          [\"OBJECTIFICATION\"]\n",
        "        ],\n",
        "        \"split\": \"TRAIN_EN\"\n",
        "      }\n",
        "    }"
      ]
    },
    {
      "cell_type": "markdown",
      "metadata": {
        "id": "BJ45bvuOOJ7I"
      },
      "source": [
        "### Instructions\n",
        "1. **Download** the `A1/data` folder.\n",
        "2. **Load** the three JSON files and encode them as pandas dataframes.\n",
        "3. **Generate hard labels** for Task 1 using majority voting and store them in a new dataframe column called `hard_label_task1`. Items without a clear majority will be removed from the dataset.\n",
        "4. **Filter the DataFrame** to keep only rows where the `lang` column is `'en'`.\n",
        "5. **Remove unwanted columns**: Keep only `id_EXIST`, `lang`, `tweet`, and `hard_label_task1`.\n",
        "6. **Encode the `hard_label_task1` column**: Use 1 to represent \"YES\" and 0 to represent \"NO\"."
      ]
    },
    {
      "cell_type": "markdown",
      "source": [
        "### Import useful libraries"
      ],
      "metadata": {
        "id": "lgUwXU4uhyQY"
      }
    },
    {
      "cell_type": "code",
      "execution_count": 1,
      "metadata": {
        "id": "fhhV827nxpUo"
      },
      "outputs": [],
      "source": [
        "import os\n",
        "import requests\n",
        "from pathlib import Path\n",
        "import pandas as pd\n",
        "import json\n",
        "import zipfile\n",
        "import numpy as np\n",
        "from tqdm import tqdm  # for progress bar\n",
        "import re\n",
        "import string\n",
        "import nltk\n",
        "from nltk.corpus import stopwords\n",
        "from nltk.tokenize import word_tokenize\n",
        "from nltk.stem import WordNetLemmatizer\n",
        "from sklearn.metrics import precision_score, recall_score, f1_score\n",
        "import warnings\n",
        "\n",
        "warnings.filterwarnings(\"ignore\", category=FutureWarning)"
      ]
    },
    {
      "cell_type": "markdown",
      "source": [
        "### Create train, validation and test DataFrames\n",
        " * Download json files *test.json*, *training.json* and *validation.json* from [here](https://raw.githubusercontent.com/nlp-unibo/nlp-course-material/refs/heads/main/2024-2025/Assignment%201/data/).\n",
        " * Load the json files into pandas DataFrames"
      ],
      "metadata": {
        "id": "IPrSa-NCh2Fm"
      }
    },
    {
      "cell_type": "code",
      "execution_count": 2,
      "metadata": {
        "colab": {
          "base_uri": "https://localhost:8080/"
        },
        "id": "2PLUT2sRlktM",
        "outputId": "3366be7e-58b1-45eb-850c-9800491143cb"
      },
      "outputs": [
        {
          "output_type": "stream",
          "name": "stdout",
          "text": [
            "Downloaded test.json\n",
            "Downloaded training.json\n",
            "Downloaded validation.json\n"
          ]
        }
      ],
      "source": [
        "# Define the GitHub base URL for raw files (replace <username>, <repository>, <branch>, and <path>)\n",
        "base_url = \"https://raw.githubusercontent.com/nlp-unibo/nlp-course-material/refs/heads/main/2024-2025/Assignment%201/data/\"\n",
        "\n",
        "# List of JSON file names in the A1/data directory\n",
        "json_files = [\"test.json\", \"training.json\", \"validation.json\"]\n",
        "\n",
        "# Local directory to save the files\n",
        "local_dir = Path(\"Assignment%201/data\")\n",
        "local_dir.mkdir(parents=True, exist_ok=True)\n",
        "\n",
        "\n",
        "# Download each file\n",
        "for file_name in json_files:\n",
        "    url = base_url + file_name\n",
        "    response = requests.get(url)\n",
        "\n",
        "    if response.status_code == 200:\n",
        "        with open(local_dir / file_name, \"wb\") as file:\n",
        "            file.write(response.content)\n",
        "        print(f\"Downloaded {file_name}\")\n",
        "    else:\n",
        "        print(f\"Failed to download {file_name}\")\n",
        "\n",
        "\n",
        "# Load JSON files into pandas DataFrames\n",
        "dataframes = {}\n",
        "for file_name in json_files:\n",
        "    with open(local_dir / file_name, \"r\") as file:\n",
        "        data = json.load(file)\n",
        "        dataframes[file_name] = pd.DataFrame(data)\n",
        "\n",
        "\n",
        "original_train_df = dataframes['training.json']\n",
        "original_validation_df = dataframes['validation.json']\n",
        "original_test_df = dataframes['test.json']"
      ]
    },
    {
      "cell_type": "markdown",
      "source": [
        "### Transform the DataFrames as requested"
      ],
      "metadata": {
        "id": "GX5l8UYxjBhI"
      }
    },
    {
      "cell_type": "code",
      "execution_count": 3,
      "metadata": {
        "id": "051WwmQmvFdm"
      },
      "outputs": [],
      "source": [
        "def determine_majority(response_list):\n",
        "\n",
        "    yes_count = response_list.count(\"YES\")\n",
        "    no_count = response_list.count(\"NO\")\n",
        "\n",
        "    if yes_count > no_count:\n",
        "        return 1\n",
        "    elif no_count > yes_count:\n",
        "        return 0\n",
        "    else:\n",
        "        return 2\n",
        "\n",
        "\n",
        "def transform_df(df):\n",
        "\n",
        "    df = df.T\n",
        "    df['hard_label_task1'] = df['labels_task1'].apply(determine_majority)\n",
        "    df = df[df['lang'] == 'en']\n",
        "    df = df[df['hard_label_task1'] != 2]\n",
        "    df = df[['id_EXIST', 'lang', 'tweet', 'hard_label_task1']]\n",
        "\n",
        "    return df\n"
      ]
    },
    {
      "cell_type": "code",
      "execution_count": 4,
      "metadata": {
        "colab": {
          "base_uri": "https://localhost:8080/",
          "height": 424
        },
        "id": "AEAflhr1vtX5",
        "outputId": "ad412378-44cf-428f-aff6-ded110561a89"
      },
      "outputs": [
        {
          "output_type": "execute_result",
          "data": {
            "text/plain": [
              "       id_EXIST lang                                              tweet  \\\n",
              "200002   200002   en  Writing a uni essay in my local pub with a cof...   \n",
              "200003   200003   en  @UniversalORL it is 2021 not 1921. I dont appr...   \n",
              "200006   200006   en  According to a customer I have plenty of time ...   \n",
              "200007   200007   en  So only 'blokes' drink beer? Sorry, but if you...   \n",
              "200008   200008   en  New to the shelves this week - looking forward...   \n",
              "...         ...  ...                                                ...   \n",
              "203256   203256   en  idk why y’all bitches think having half your a...   \n",
              "203257   203257   en  This has been a part of an experiment with @Wo...   \n",
              "203258   203258   en  \"Take me already\" \"Not yet. You gotta be ready...   \n",
              "203259   203259   en  @clintneedcoffee why do you look like a whore?...   \n",
              "203260   203260   en  ik when mandy says “you look like a whore” i l...   \n",
              "\n",
              "        hard_label_task1  \n",
              "200002                 1  \n",
              "200003                 1  \n",
              "200006                 1  \n",
              "200007                 1  \n",
              "200008                 0  \n",
              "...                  ...  \n",
              "203256                 1  \n",
              "203257                 1  \n",
              "203258                 1  \n",
              "203259                 1  \n",
              "203260                 1  \n",
              "\n",
              "[2870 rows x 4 columns]"
            ],
            "text/html": [
              "\n",
              "  <div id=\"df-877df06e-4a8b-443e-8a42-078338ef3920\" class=\"colab-df-container\">\n",
              "    <div>\n",
              "<style scoped>\n",
              "    .dataframe tbody tr th:only-of-type {\n",
              "        vertical-align: middle;\n",
              "    }\n",
              "\n",
              "    .dataframe tbody tr th {\n",
              "        vertical-align: top;\n",
              "    }\n",
              "\n",
              "    .dataframe thead th {\n",
              "        text-align: right;\n",
              "    }\n",
              "</style>\n",
              "<table border=\"1\" class=\"dataframe\">\n",
              "  <thead>\n",
              "    <tr style=\"text-align: right;\">\n",
              "      <th></th>\n",
              "      <th>id_EXIST</th>\n",
              "      <th>lang</th>\n",
              "      <th>tweet</th>\n",
              "      <th>hard_label_task1</th>\n",
              "    </tr>\n",
              "  </thead>\n",
              "  <tbody>\n",
              "    <tr>\n",
              "      <th>200002</th>\n",
              "      <td>200002</td>\n",
              "      <td>en</td>\n",
              "      <td>Writing a uni essay in my local pub with a cof...</td>\n",
              "      <td>1</td>\n",
              "    </tr>\n",
              "    <tr>\n",
              "      <th>200003</th>\n",
              "      <td>200003</td>\n",
              "      <td>en</td>\n",
              "      <td>@UniversalORL it is 2021 not 1921. I dont appr...</td>\n",
              "      <td>1</td>\n",
              "    </tr>\n",
              "    <tr>\n",
              "      <th>200006</th>\n",
              "      <td>200006</td>\n",
              "      <td>en</td>\n",
              "      <td>According to a customer I have plenty of time ...</td>\n",
              "      <td>1</td>\n",
              "    </tr>\n",
              "    <tr>\n",
              "      <th>200007</th>\n",
              "      <td>200007</td>\n",
              "      <td>en</td>\n",
              "      <td>So only 'blokes' drink beer? Sorry, but if you...</td>\n",
              "      <td>1</td>\n",
              "    </tr>\n",
              "    <tr>\n",
              "      <th>200008</th>\n",
              "      <td>200008</td>\n",
              "      <td>en</td>\n",
              "      <td>New to the shelves this week - looking forward...</td>\n",
              "      <td>0</td>\n",
              "    </tr>\n",
              "    <tr>\n",
              "      <th>...</th>\n",
              "      <td>...</td>\n",
              "      <td>...</td>\n",
              "      <td>...</td>\n",
              "      <td>...</td>\n",
              "    </tr>\n",
              "    <tr>\n",
              "      <th>203256</th>\n",
              "      <td>203256</td>\n",
              "      <td>en</td>\n",
              "      <td>idk why y’all bitches think having half your a...</td>\n",
              "      <td>1</td>\n",
              "    </tr>\n",
              "    <tr>\n",
              "      <th>203257</th>\n",
              "      <td>203257</td>\n",
              "      <td>en</td>\n",
              "      <td>This has been a part of an experiment with @Wo...</td>\n",
              "      <td>1</td>\n",
              "    </tr>\n",
              "    <tr>\n",
              "      <th>203258</th>\n",
              "      <td>203258</td>\n",
              "      <td>en</td>\n",
              "      <td>\"Take me already\" \"Not yet. You gotta be ready...</td>\n",
              "      <td>1</td>\n",
              "    </tr>\n",
              "    <tr>\n",
              "      <th>203259</th>\n",
              "      <td>203259</td>\n",
              "      <td>en</td>\n",
              "      <td>@clintneedcoffee why do you look like a whore?...</td>\n",
              "      <td>1</td>\n",
              "    </tr>\n",
              "    <tr>\n",
              "      <th>203260</th>\n",
              "      <td>203260</td>\n",
              "      <td>en</td>\n",
              "      <td>ik when mandy says “you look like a whore” i l...</td>\n",
              "      <td>1</td>\n",
              "    </tr>\n",
              "  </tbody>\n",
              "</table>\n",
              "<p>2870 rows × 4 columns</p>\n",
              "</div>\n",
              "    <div class=\"colab-df-buttons\">\n",
              "\n",
              "  <div class=\"colab-df-container\">\n",
              "    <button class=\"colab-df-convert\" onclick=\"convertToInteractive('df-877df06e-4a8b-443e-8a42-078338ef3920')\"\n",
              "            title=\"Convert this dataframe to an interactive table.\"\n",
              "            style=\"display:none;\">\n",
              "\n",
              "  <svg xmlns=\"http://www.w3.org/2000/svg\" height=\"24px\" viewBox=\"0 -960 960 960\">\n",
              "    <path d=\"M120-120v-720h720v720H120Zm60-500h600v-160H180v160Zm220 220h160v-160H400v160Zm0 220h160v-160H400v160ZM180-400h160v-160H180v160Zm440 0h160v-160H620v160ZM180-180h160v-160H180v160Zm440 0h160v-160H620v160Z\"/>\n",
              "  </svg>\n",
              "    </button>\n",
              "\n",
              "  <style>\n",
              "    .colab-df-container {\n",
              "      display:flex;\n",
              "      gap: 12px;\n",
              "    }\n",
              "\n",
              "    .colab-df-convert {\n",
              "      background-color: #E8F0FE;\n",
              "      border: none;\n",
              "      border-radius: 50%;\n",
              "      cursor: pointer;\n",
              "      display: none;\n",
              "      fill: #1967D2;\n",
              "      height: 32px;\n",
              "      padding: 0 0 0 0;\n",
              "      width: 32px;\n",
              "    }\n",
              "\n",
              "    .colab-df-convert:hover {\n",
              "      background-color: #E2EBFA;\n",
              "      box-shadow: 0px 1px 2px rgba(60, 64, 67, 0.3), 0px 1px 3px 1px rgba(60, 64, 67, 0.15);\n",
              "      fill: #174EA6;\n",
              "    }\n",
              "\n",
              "    .colab-df-buttons div {\n",
              "      margin-bottom: 4px;\n",
              "    }\n",
              "\n",
              "    [theme=dark] .colab-df-convert {\n",
              "      background-color: #3B4455;\n",
              "      fill: #D2E3FC;\n",
              "    }\n",
              "\n",
              "    [theme=dark] .colab-df-convert:hover {\n",
              "      background-color: #434B5C;\n",
              "      box-shadow: 0px 1px 3px 1px rgba(0, 0, 0, 0.15);\n",
              "      filter: drop-shadow(0px 1px 2px rgba(0, 0, 0, 0.3));\n",
              "      fill: #FFFFFF;\n",
              "    }\n",
              "  </style>\n",
              "\n",
              "    <script>\n",
              "      const buttonEl =\n",
              "        document.querySelector('#df-877df06e-4a8b-443e-8a42-078338ef3920 button.colab-df-convert');\n",
              "      buttonEl.style.display =\n",
              "        google.colab.kernel.accessAllowed ? 'block' : 'none';\n",
              "\n",
              "      async function convertToInteractive(key) {\n",
              "        const element = document.querySelector('#df-877df06e-4a8b-443e-8a42-078338ef3920');\n",
              "        const dataTable =\n",
              "          await google.colab.kernel.invokeFunction('convertToInteractive',\n",
              "                                                    [key], {});\n",
              "        if (!dataTable) return;\n",
              "\n",
              "        const docLinkHtml = 'Like what you see? Visit the ' +\n",
              "          '<a target=\"_blank\" href=https://colab.research.google.com/notebooks/data_table.ipynb>data table notebook</a>'\n",
              "          + ' to learn more about interactive tables.';\n",
              "        element.innerHTML = '';\n",
              "        dataTable['output_type'] = 'display_data';\n",
              "        await google.colab.output.renderOutput(dataTable, element);\n",
              "        const docLink = document.createElement('div');\n",
              "        docLink.innerHTML = docLinkHtml;\n",
              "        element.appendChild(docLink);\n",
              "      }\n",
              "    </script>\n",
              "  </div>\n",
              "\n",
              "\n",
              "<div id=\"df-d045f20c-8bcb-4302-b292-7bb24297bdc5\">\n",
              "  <button class=\"colab-df-quickchart\" onclick=\"quickchart('df-d045f20c-8bcb-4302-b292-7bb24297bdc5')\"\n",
              "            title=\"Suggest charts\"\n",
              "            style=\"display:none;\">\n",
              "\n",
              "<svg xmlns=\"http://www.w3.org/2000/svg\" height=\"24px\"viewBox=\"0 0 24 24\"\n",
              "     width=\"24px\">\n",
              "    <g>\n",
              "        <path d=\"M19 3H5c-1.1 0-2 .9-2 2v14c0 1.1.9 2 2 2h14c1.1 0 2-.9 2-2V5c0-1.1-.9-2-2-2zM9 17H7v-7h2v7zm4 0h-2V7h2v10zm4 0h-2v-4h2v4z\"/>\n",
              "    </g>\n",
              "</svg>\n",
              "  </button>\n",
              "\n",
              "<style>\n",
              "  .colab-df-quickchart {\n",
              "      --bg-color: #E8F0FE;\n",
              "      --fill-color: #1967D2;\n",
              "      --hover-bg-color: #E2EBFA;\n",
              "      --hover-fill-color: #174EA6;\n",
              "      --disabled-fill-color: #AAA;\n",
              "      --disabled-bg-color: #DDD;\n",
              "  }\n",
              "\n",
              "  [theme=dark] .colab-df-quickchart {\n",
              "      --bg-color: #3B4455;\n",
              "      --fill-color: #D2E3FC;\n",
              "      --hover-bg-color: #434B5C;\n",
              "      --hover-fill-color: #FFFFFF;\n",
              "      --disabled-bg-color: #3B4455;\n",
              "      --disabled-fill-color: #666;\n",
              "  }\n",
              "\n",
              "  .colab-df-quickchart {\n",
              "    background-color: var(--bg-color);\n",
              "    border: none;\n",
              "    border-radius: 50%;\n",
              "    cursor: pointer;\n",
              "    display: none;\n",
              "    fill: var(--fill-color);\n",
              "    height: 32px;\n",
              "    padding: 0;\n",
              "    width: 32px;\n",
              "  }\n",
              "\n",
              "  .colab-df-quickchart:hover {\n",
              "    background-color: var(--hover-bg-color);\n",
              "    box-shadow: 0 1px 2px rgba(60, 64, 67, 0.3), 0 1px 3px 1px rgba(60, 64, 67, 0.15);\n",
              "    fill: var(--button-hover-fill-color);\n",
              "  }\n",
              "\n",
              "  .colab-df-quickchart-complete:disabled,\n",
              "  .colab-df-quickchart-complete:disabled:hover {\n",
              "    background-color: var(--disabled-bg-color);\n",
              "    fill: var(--disabled-fill-color);\n",
              "    box-shadow: none;\n",
              "  }\n",
              "\n",
              "  .colab-df-spinner {\n",
              "    border: 2px solid var(--fill-color);\n",
              "    border-color: transparent;\n",
              "    border-bottom-color: var(--fill-color);\n",
              "    animation:\n",
              "      spin 1s steps(1) infinite;\n",
              "  }\n",
              "\n",
              "  @keyframes spin {\n",
              "    0% {\n",
              "      border-color: transparent;\n",
              "      border-bottom-color: var(--fill-color);\n",
              "      border-left-color: var(--fill-color);\n",
              "    }\n",
              "    20% {\n",
              "      border-color: transparent;\n",
              "      border-left-color: var(--fill-color);\n",
              "      border-top-color: var(--fill-color);\n",
              "    }\n",
              "    30% {\n",
              "      border-color: transparent;\n",
              "      border-left-color: var(--fill-color);\n",
              "      border-top-color: var(--fill-color);\n",
              "      border-right-color: var(--fill-color);\n",
              "    }\n",
              "    40% {\n",
              "      border-color: transparent;\n",
              "      border-right-color: var(--fill-color);\n",
              "      border-top-color: var(--fill-color);\n",
              "    }\n",
              "    60% {\n",
              "      border-color: transparent;\n",
              "      border-right-color: var(--fill-color);\n",
              "    }\n",
              "    80% {\n",
              "      border-color: transparent;\n",
              "      border-right-color: var(--fill-color);\n",
              "      border-bottom-color: var(--fill-color);\n",
              "    }\n",
              "    90% {\n",
              "      border-color: transparent;\n",
              "      border-bottom-color: var(--fill-color);\n",
              "    }\n",
              "  }\n",
              "</style>\n",
              "\n",
              "  <script>\n",
              "    async function quickchart(key) {\n",
              "      const quickchartButtonEl =\n",
              "        document.querySelector('#' + key + ' button');\n",
              "      quickchartButtonEl.disabled = true;  // To prevent multiple clicks.\n",
              "      quickchartButtonEl.classList.add('colab-df-spinner');\n",
              "      try {\n",
              "        const charts = await google.colab.kernel.invokeFunction(\n",
              "            'suggestCharts', [key], {});\n",
              "      } catch (error) {\n",
              "        console.error('Error during call to suggestCharts:', error);\n",
              "      }\n",
              "      quickchartButtonEl.classList.remove('colab-df-spinner');\n",
              "      quickchartButtonEl.classList.add('colab-df-quickchart-complete');\n",
              "    }\n",
              "    (() => {\n",
              "      let quickchartButtonEl =\n",
              "        document.querySelector('#df-d045f20c-8bcb-4302-b292-7bb24297bdc5 button');\n",
              "      quickchartButtonEl.style.display =\n",
              "        google.colab.kernel.accessAllowed ? 'block' : 'none';\n",
              "    })();\n",
              "  </script>\n",
              "</div>\n",
              "\n",
              "  <div id=\"id_d40aca7d-c595-492a-a663-b439a1ded5dd\">\n",
              "    <style>\n",
              "      .colab-df-generate {\n",
              "        background-color: #E8F0FE;\n",
              "        border: none;\n",
              "        border-radius: 50%;\n",
              "        cursor: pointer;\n",
              "        display: none;\n",
              "        fill: #1967D2;\n",
              "        height: 32px;\n",
              "        padding: 0 0 0 0;\n",
              "        width: 32px;\n",
              "      }\n",
              "\n",
              "      .colab-df-generate:hover {\n",
              "        background-color: #E2EBFA;\n",
              "        box-shadow: 0px 1px 2px rgba(60, 64, 67, 0.3), 0px 1px 3px 1px rgba(60, 64, 67, 0.15);\n",
              "        fill: #174EA6;\n",
              "      }\n",
              "\n",
              "      [theme=dark] .colab-df-generate {\n",
              "        background-color: #3B4455;\n",
              "        fill: #D2E3FC;\n",
              "      }\n",
              "\n",
              "      [theme=dark] .colab-df-generate:hover {\n",
              "        background-color: #434B5C;\n",
              "        box-shadow: 0px 1px 3px 1px rgba(0, 0, 0, 0.15);\n",
              "        filter: drop-shadow(0px 1px 2px rgba(0, 0, 0, 0.3));\n",
              "        fill: #FFFFFF;\n",
              "      }\n",
              "    </style>\n",
              "    <button class=\"colab-df-generate\" onclick=\"generateWithVariable('original_train_df')\"\n",
              "            title=\"Generate code using this dataframe.\"\n",
              "            style=\"display:none;\">\n",
              "\n",
              "  <svg xmlns=\"http://www.w3.org/2000/svg\" height=\"24px\"viewBox=\"0 0 24 24\"\n",
              "       width=\"24px\">\n",
              "    <path d=\"M7,19H8.4L18.45,9,17,7.55,7,17.6ZM5,21V16.75L18.45,3.32a2,2,0,0,1,2.83,0l1.4,1.43a1.91,1.91,0,0,1,.58,1.4,1.91,1.91,0,0,1-.58,1.4L9.25,21ZM18.45,9,17,7.55Zm-12,3A5.31,5.31,0,0,0,4.9,8.1,5.31,5.31,0,0,0,1,6.5,5.31,5.31,0,0,0,4.9,4.9,5.31,5.31,0,0,0,6.5,1,5.31,5.31,0,0,0,8.1,4.9,5.31,5.31,0,0,0,12,6.5,5.46,5.46,0,0,0,6.5,12Z\"/>\n",
              "  </svg>\n",
              "    </button>\n",
              "    <script>\n",
              "      (() => {\n",
              "      const buttonEl =\n",
              "        document.querySelector('#id_d40aca7d-c595-492a-a663-b439a1ded5dd button.colab-df-generate');\n",
              "      buttonEl.style.display =\n",
              "        google.colab.kernel.accessAllowed ? 'block' : 'none';\n",
              "\n",
              "      buttonEl.onclick = () => {\n",
              "        google.colab.notebook.generateWithVariable('original_train_df');\n",
              "      }\n",
              "      })();\n",
              "    </script>\n",
              "  </div>\n",
              "\n",
              "    </div>\n",
              "  </div>\n"
            ],
            "application/vnd.google.colaboratory.intrinsic+json": {
              "type": "dataframe",
              "variable_name": "original_train_df",
              "summary": "{\n  \"name\": \"original_train_df\",\n  \"rows\": 2870,\n  \"fields\": [\n    {\n      \"column\": \"id_EXIST\",\n      \"properties\": {\n        \"dtype\": \"string\",\n        \"num_unique_values\": 2870,\n        \"samples\": [\n          \"200504\",\n          \"202694\",\n          \"200852\"\n        ],\n        \"semantic_type\": \"\",\n        \"description\": \"\"\n      }\n    },\n    {\n      \"column\": \"lang\",\n      \"properties\": {\n        \"dtype\": \"category\",\n        \"num_unique_values\": 1,\n        \"samples\": [\n          \"en\"\n        ],\n        \"semantic_type\": \"\",\n        \"description\": \"\"\n      }\n    },\n    {\n      \"column\": \"tweet\",\n      \"properties\": {\n        \"dtype\": \"string\",\n        \"num_unique_values\": 2870,\n        \"samples\": [\n          \"Call me sexist but it just feels wrong that women are reffing the NBA like go ref the WNBA\\ud83d\\ude2c\"\n        ],\n        \"semantic_type\": \"\",\n        \"description\": \"\"\n      }\n    },\n    {\n      \"column\": \"hard_label_task1\",\n      \"properties\": {\n        \"dtype\": \"number\",\n        \"std\": 0,\n        \"min\": 0,\n        \"max\": 1,\n        \"num_unique_values\": 2,\n        \"samples\": [\n          0\n        ],\n        \"semantic_type\": \"\",\n        \"description\": \"\"\n      }\n    }\n  ]\n}"
            }
          },
          "metadata": {},
          "execution_count": 4
        }
      ],
      "source": [
        "original_train_df = transform_df(original_train_df)\n",
        "original_validation_df = transform_df(original_validation_df)\n",
        "original_test_df = transform_df(original_test_df)\n",
        "original_train_df"
      ]
    },
    {
      "cell_type": "markdown",
      "metadata": {
        "collapsed": false,
        "id": "wevQMsUKlktO"
      },
      "source": [
        "# [Task2 - 0.5 points] Data Cleaning\n",
        "In the context of tweets, we have noisy and informal data that often includes unnecessary elements like emojis, hashtags, mentions, and URLs. These elements may interfere with the text analysis.\n"
      ]
    },
    {
      "cell_type": "markdown",
      "metadata": {
        "collapsed": false,
        "id": "WSQLx9lKlktO"
      },
      "source": [
        "\n",
        "### Instructions\n",
        "- **Remove emojis** from the tweets.\n",
        "- **Remove hashtags** (e.g., `#example`).\n",
        "- **Remove mentions** such as `@user`.\n",
        "- **Remove URLs** from the tweets.\n",
        "- **Remove special characters and symbols**.\n",
        "- **Remove specific quote characters** (e.g., curly quotes).\n",
        "- **Perform lemmatization** to reduce words to their base form."
      ]
    },
    {
      "cell_type": "code",
      "source": [
        "train_df = original_train_df.copy()\n",
        "validation_df = original_validation_df.copy()\n",
        "test_df = original_test_df.copy()"
      ],
      "metadata": {
        "id": "KVVn2iTSzXtZ"
      },
      "execution_count": 5,
      "outputs": []
    },
    {
      "cell_type": "code",
      "source": [
        "nltk.download('punkt')\n",
        "nltk.download('punkt_tab')\n",
        "nltk.download('wordnet')\n",
        "nltk.download('stopwords')"
      ],
      "metadata": {
        "colab": {
          "base_uri": "https://localhost:8080/"
        },
        "id": "p7t9Elrmjl1z",
        "outputId": "5aea950e-ec71-4453-c9f1-cf7223c8718a"
      },
      "execution_count": 6,
      "outputs": [
        {
          "output_type": "stream",
          "name": "stderr",
          "text": [
            "[nltk_data] Downloading package punkt to /root/nltk_data...\n",
            "[nltk_data]   Unzipping tokenizers/punkt.zip.\n",
            "[nltk_data] Downloading package punkt_tab to /root/nltk_data...\n",
            "[nltk_data]   Unzipping tokenizers/punkt_tab.zip.\n",
            "[nltk_data] Downloading package wordnet to /root/nltk_data...\n",
            "[nltk_data] Downloading package stopwords to /root/nltk_data...\n",
            "[nltk_data]   Unzipping corpora/stopwords.zip.\n"
          ]
        },
        {
          "output_type": "execute_result",
          "data": {
            "text/plain": [
              "True"
            ]
          },
          "metadata": {},
          "execution_count": 6
        }
      ]
    },
    {
      "cell_type": "markdown",
      "source": [
        "### Perform Data Cleaning\n",
        " * Remove emojis\n",
        " * Remove hashtags\n",
        " * Remove mentions\n",
        " * Remove URLs\n",
        " * Remove special characters and symbols\n",
        " * Remove specific quote characters\n",
        " * Convert to lowercase\n",
        " * Tokenize the tweet\n",
        " * Remove stopwords\n",
        " * Lemmatize the word\n",
        ""
      ],
      "metadata": {
        "id": "uRvnjYgRkTEy"
      }
    },
    {
      "cell_type": "code",
      "execution_count": 7,
      "metadata": {
        "id": "TMbneneslktO"
      },
      "outputs": [],
      "source": [
        "lemmatizer = WordNetLemmatizer()\n",
        "\n",
        "def clean_tweet(tweet):\n",
        "\n",
        "    tweet = re.sub(r'[^\\x00-\\x7F]+', '', tweet)\n",
        "    tweet = re.sub(r'#\\w+', '', tweet)\n",
        "    tweet = re.sub(r'@\\w+', '', tweet)\n",
        "    tweet = re.sub(r'http\\S+|www\\S+', '', tweet)\n",
        "    tweet = re.sub(r'[^a-zA-Z0-9\\s]', '', tweet)\n",
        "    tweet = tweet.replace('“', '').replace('”', '').replace('‘', '').replace('’', '')\n",
        "    tweet = tweet.lower()\n",
        "    words = word_tokenize(tweet)\n",
        "    stop_words = set(stopwords.words('english'))\n",
        "    words = [lemmatizer.lemmatize(word) for word in words if word not in stop_words]\n",
        "\n",
        "    cleaned_tweet = ' '.join(words)\n",
        "\n",
        "    return cleaned_tweet\n",
        "\n",
        "train_df['tweet'] = train_df['tweet'].apply(clean_tweet)\n",
        "validation_df['tweet'] = validation_df['tweet'].apply(clean_tweet)\n",
        "test_df['tweet'] = test_df['tweet'].apply(clean_tweet)"
      ]
    },
    {
      "cell_type": "code",
      "execution_count": 8,
      "metadata": {
        "colab": {
          "base_uri": "https://localhost:8080/",
          "height": 206
        },
        "id": "mqLmJiyylxDu",
        "outputId": "d5013ecf-43bf-4bb7-e692-709a4f4ef550"
      },
      "outputs": [
        {
          "output_type": "execute_result",
          "data": {
            "text/plain": [
              "       id_EXIST lang                                              tweet  \\\n",
              "200002   200002   en  writing uni essay local pub coffee random old ...   \n",
              "200003   200003   en  2021 1921 dont appreciate two ride team member...   \n",
              "200006   200006   en  according customer plenty time go spent stirli...   \n",
              "200007   200007   en  bloke drink beer sorry arent bloke drink wine ...   \n",
              "200008   200008   en        new shelf week looking forward reading book   \n",
              "\n",
              "        hard_label_task1  \n",
              "200002                 1  \n",
              "200003                 1  \n",
              "200006                 1  \n",
              "200007                 1  \n",
              "200008                 0  "
            ],
            "text/html": [
              "\n",
              "  <div id=\"df-1b6fc782-51e5-477d-81d8-0899b65f79f6\" class=\"colab-df-container\">\n",
              "    <div>\n",
              "<style scoped>\n",
              "    .dataframe tbody tr th:only-of-type {\n",
              "        vertical-align: middle;\n",
              "    }\n",
              "\n",
              "    .dataframe tbody tr th {\n",
              "        vertical-align: top;\n",
              "    }\n",
              "\n",
              "    .dataframe thead th {\n",
              "        text-align: right;\n",
              "    }\n",
              "</style>\n",
              "<table border=\"1\" class=\"dataframe\">\n",
              "  <thead>\n",
              "    <tr style=\"text-align: right;\">\n",
              "      <th></th>\n",
              "      <th>id_EXIST</th>\n",
              "      <th>lang</th>\n",
              "      <th>tweet</th>\n",
              "      <th>hard_label_task1</th>\n",
              "    </tr>\n",
              "  </thead>\n",
              "  <tbody>\n",
              "    <tr>\n",
              "      <th>200002</th>\n",
              "      <td>200002</td>\n",
              "      <td>en</td>\n",
              "      <td>writing uni essay local pub coffee random old ...</td>\n",
              "      <td>1</td>\n",
              "    </tr>\n",
              "    <tr>\n",
              "      <th>200003</th>\n",
              "      <td>200003</td>\n",
              "      <td>en</td>\n",
              "      <td>2021 1921 dont appreciate two ride team member...</td>\n",
              "      <td>1</td>\n",
              "    </tr>\n",
              "    <tr>\n",
              "      <th>200006</th>\n",
              "      <td>200006</td>\n",
              "      <td>en</td>\n",
              "      <td>according customer plenty time go spent stirli...</td>\n",
              "      <td>1</td>\n",
              "    </tr>\n",
              "    <tr>\n",
              "      <th>200007</th>\n",
              "      <td>200007</td>\n",
              "      <td>en</td>\n",
              "      <td>bloke drink beer sorry arent bloke drink wine ...</td>\n",
              "      <td>1</td>\n",
              "    </tr>\n",
              "    <tr>\n",
              "      <th>200008</th>\n",
              "      <td>200008</td>\n",
              "      <td>en</td>\n",
              "      <td>new shelf week looking forward reading book</td>\n",
              "      <td>0</td>\n",
              "    </tr>\n",
              "  </tbody>\n",
              "</table>\n",
              "</div>\n",
              "    <div class=\"colab-df-buttons\">\n",
              "\n",
              "  <div class=\"colab-df-container\">\n",
              "    <button class=\"colab-df-convert\" onclick=\"convertToInteractive('df-1b6fc782-51e5-477d-81d8-0899b65f79f6')\"\n",
              "            title=\"Convert this dataframe to an interactive table.\"\n",
              "            style=\"display:none;\">\n",
              "\n",
              "  <svg xmlns=\"http://www.w3.org/2000/svg\" height=\"24px\" viewBox=\"0 -960 960 960\">\n",
              "    <path d=\"M120-120v-720h720v720H120Zm60-500h600v-160H180v160Zm220 220h160v-160H400v160Zm0 220h160v-160H400v160ZM180-400h160v-160H180v160Zm440 0h160v-160H620v160ZM180-180h160v-160H180v160Zm440 0h160v-160H620v160Z\"/>\n",
              "  </svg>\n",
              "    </button>\n",
              "\n",
              "  <style>\n",
              "    .colab-df-container {\n",
              "      display:flex;\n",
              "      gap: 12px;\n",
              "    }\n",
              "\n",
              "    .colab-df-convert {\n",
              "      background-color: #E8F0FE;\n",
              "      border: none;\n",
              "      border-radius: 50%;\n",
              "      cursor: pointer;\n",
              "      display: none;\n",
              "      fill: #1967D2;\n",
              "      height: 32px;\n",
              "      padding: 0 0 0 0;\n",
              "      width: 32px;\n",
              "    }\n",
              "\n",
              "    .colab-df-convert:hover {\n",
              "      background-color: #E2EBFA;\n",
              "      box-shadow: 0px 1px 2px rgba(60, 64, 67, 0.3), 0px 1px 3px 1px rgba(60, 64, 67, 0.15);\n",
              "      fill: #174EA6;\n",
              "    }\n",
              "\n",
              "    .colab-df-buttons div {\n",
              "      margin-bottom: 4px;\n",
              "    }\n",
              "\n",
              "    [theme=dark] .colab-df-convert {\n",
              "      background-color: #3B4455;\n",
              "      fill: #D2E3FC;\n",
              "    }\n",
              "\n",
              "    [theme=dark] .colab-df-convert:hover {\n",
              "      background-color: #434B5C;\n",
              "      box-shadow: 0px 1px 3px 1px rgba(0, 0, 0, 0.15);\n",
              "      filter: drop-shadow(0px 1px 2px rgba(0, 0, 0, 0.3));\n",
              "      fill: #FFFFFF;\n",
              "    }\n",
              "  </style>\n",
              "\n",
              "    <script>\n",
              "      const buttonEl =\n",
              "        document.querySelector('#df-1b6fc782-51e5-477d-81d8-0899b65f79f6 button.colab-df-convert');\n",
              "      buttonEl.style.display =\n",
              "        google.colab.kernel.accessAllowed ? 'block' : 'none';\n",
              "\n",
              "      async function convertToInteractive(key) {\n",
              "        const element = document.querySelector('#df-1b6fc782-51e5-477d-81d8-0899b65f79f6');\n",
              "        const dataTable =\n",
              "          await google.colab.kernel.invokeFunction('convertToInteractive',\n",
              "                                                    [key], {});\n",
              "        if (!dataTable) return;\n",
              "\n",
              "        const docLinkHtml = 'Like what you see? Visit the ' +\n",
              "          '<a target=\"_blank\" href=https://colab.research.google.com/notebooks/data_table.ipynb>data table notebook</a>'\n",
              "          + ' to learn more about interactive tables.';\n",
              "        element.innerHTML = '';\n",
              "        dataTable['output_type'] = 'display_data';\n",
              "        await google.colab.output.renderOutput(dataTable, element);\n",
              "        const docLink = document.createElement('div');\n",
              "        docLink.innerHTML = docLinkHtml;\n",
              "        element.appendChild(docLink);\n",
              "      }\n",
              "    </script>\n",
              "  </div>\n",
              "\n",
              "\n",
              "<div id=\"df-546abe7a-27d9-4b9d-b12b-e85dbf5730a2\">\n",
              "  <button class=\"colab-df-quickchart\" onclick=\"quickchart('df-546abe7a-27d9-4b9d-b12b-e85dbf5730a2')\"\n",
              "            title=\"Suggest charts\"\n",
              "            style=\"display:none;\">\n",
              "\n",
              "<svg xmlns=\"http://www.w3.org/2000/svg\" height=\"24px\"viewBox=\"0 0 24 24\"\n",
              "     width=\"24px\">\n",
              "    <g>\n",
              "        <path d=\"M19 3H5c-1.1 0-2 .9-2 2v14c0 1.1.9 2 2 2h14c1.1 0 2-.9 2-2V5c0-1.1-.9-2-2-2zM9 17H7v-7h2v7zm4 0h-2V7h2v10zm4 0h-2v-4h2v4z\"/>\n",
              "    </g>\n",
              "</svg>\n",
              "  </button>\n",
              "\n",
              "<style>\n",
              "  .colab-df-quickchart {\n",
              "      --bg-color: #E8F0FE;\n",
              "      --fill-color: #1967D2;\n",
              "      --hover-bg-color: #E2EBFA;\n",
              "      --hover-fill-color: #174EA6;\n",
              "      --disabled-fill-color: #AAA;\n",
              "      --disabled-bg-color: #DDD;\n",
              "  }\n",
              "\n",
              "  [theme=dark] .colab-df-quickchart {\n",
              "      --bg-color: #3B4455;\n",
              "      --fill-color: #D2E3FC;\n",
              "      --hover-bg-color: #434B5C;\n",
              "      --hover-fill-color: #FFFFFF;\n",
              "      --disabled-bg-color: #3B4455;\n",
              "      --disabled-fill-color: #666;\n",
              "  }\n",
              "\n",
              "  .colab-df-quickchart {\n",
              "    background-color: var(--bg-color);\n",
              "    border: none;\n",
              "    border-radius: 50%;\n",
              "    cursor: pointer;\n",
              "    display: none;\n",
              "    fill: var(--fill-color);\n",
              "    height: 32px;\n",
              "    padding: 0;\n",
              "    width: 32px;\n",
              "  }\n",
              "\n",
              "  .colab-df-quickchart:hover {\n",
              "    background-color: var(--hover-bg-color);\n",
              "    box-shadow: 0 1px 2px rgba(60, 64, 67, 0.3), 0 1px 3px 1px rgba(60, 64, 67, 0.15);\n",
              "    fill: var(--button-hover-fill-color);\n",
              "  }\n",
              "\n",
              "  .colab-df-quickchart-complete:disabled,\n",
              "  .colab-df-quickchart-complete:disabled:hover {\n",
              "    background-color: var(--disabled-bg-color);\n",
              "    fill: var(--disabled-fill-color);\n",
              "    box-shadow: none;\n",
              "  }\n",
              "\n",
              "  .colab-df-spinner {\n",
              "    border: 2px solid var(--fill-color);\n",
              "    border-color: transparent;\n",
              "    border-bottom-color: var(--fill-color);\n",
              "    animation:\n",
              "      spin 1s steps(1) infinite;\n",
              "  }\n",
              "\n",
              "  @keyframes spin {\n",
              "    0% {\n",
              "      border-color: transparent;\n",
              "      border-bottom-color: var(--fill-color);\n",
              "      border-left-color: var(--fill-color);\n",
              "    }\n",
              "    20% {\n",
              "      border-color: transparent;\n",
              "      border-left-color: var(--fill-color);\n",
              "      border-top-color: var(--fill-color);\n",
              "    }\n",
              "    30% {\n",
              "      border-color: transparent;\n",
              "      border-left-color: var(--fill-color);\n",
              "      border-top-color: var(--fill-color);\n",
              "      border-right-color: var(--fill-color);\n",
              "    }\n",
              "    40% {\n",
              "      border-color: transparent;\n",
              "      border-right-color: var(--fill-color);\n",
              "      border-top-color: var(--fill-color);\n",
              "    }\n",
              "    60% {\n",
              "      border-color: transparent;\n",
              "      border-right-color: var(--fill-color);\n",
              "    }\n",
              "    80% {\n",
              "      border-color: transparent;\n",
              "      border-right-color: var(--fill-color);\n",
              "      border-bottom-color: var(--fill-color);\n",
              "    }\n",
              "    90% {\n",
              "      border-color: transparent;\n",
              "      border-bottom-color: var(--fill-color);\n",
              "    }\n",
              "  }\n",
              "</style>\n",
              "\n",
              "  <script>\n",
              "    async function quickchart(key) {\n",
              "      const quickchartButtonEl =\n",
              "        document.querySelector('#' + key + ' button');\n",
              "      quickchartButtonEl.disabled = true;  // To prevent multiple clicks.\n",
              "      quickchartButtonEl.classList.add('colab-df-spinner');\n",
              "      try {\n",
              "        const charts = await google.colab.kernel.invokeFunction(\n",
              "            'suggestCharts', [key], {});\n",
              "      } catch (error) {\n",
              "        console.error('Error during call to suggestCharts:', error);\n",
              "      }\n",
              "      quickchartButtonEl.classList.remove('colab-df-spinner');\n",
              "      quickchartButtonEl.classList.add('colab-df-quickchart-complete');\n",
              "    }\n",
              "    (() => {\n",
              "      let quickchartButtonEl =\n",
              "        document.querySelector('#df-546abe7a-27d9-4b9d-b12b-e85dbf5730a2 button');\n",
              "      quickchartButtonEl.style.display =\n",
              "        google.colab.kernel.accessAllowed ? 'block' : 'none';\n",
              "    })();\n",
              "  </script>\n",
              "</div>\n",
              "\n",
              "    </div>\n",
              "  </div>\n"
            ],
            "application/vnd.google.colaboratory.intrinsic+json": {
              "type": "dataframe",
              "variable_name": "train_df",
              "summary": "{\n  \"name\": \"train_df\",\n  \"rows\": 2870,\n  \"fields\": [\n    {\n      \"column\": \"id_EXIST\",\n      \"properties\": {\n        \"dtype\": \"string\",\n        \"num_unique_values\": 2870,\n        \"samples\": [\n          \"200504\",\n          \"202694\",\n          \"200852\"\n        ],\n        \"semantic_type\": \"\",\n        \"description\": \"\"\n      }\n    },\n    {\n      \"column\": \"lang\",\n      \"properties\": {\n        \"dtype\": \"category\",\n        \"num_unique_values\": 1,\n        \"samples\": [\n          \"en\"\n        ],\n        \"semantic_type\": \"\",\n        \"description\": \"\"\n      }\n    },\n    {\n      \"column\": \"tweet\",\n      \"properties\": {\n        \"dtype\": \"string\",\n        \"num_unique_values\": 2867,\n        \"samples\": [\n          \"call sexist feel wrong woman reffing nba like go ref wnba\"\n        ],\n        \"semantic_type\": \"\",\n        \"description\": \"\"\n      }\n    },\n    {\n      \"column\": \"hard_label_task1\",\n      \"properties\": {\n        \"dtype\": \"number\",\n        \"std\": 0,\n        \"min\": 0,\n        \"max\": 1,\n        \"num_unique_values\": 2,\n        \"samples\": [\n          0\n        ],\n        \"semantic_type\": \"\",\n        \"description\": \"\"\n      }\n    }\n  ]\n}"
            }
          },
          "metadata": {},
          "execution_count": 8
        }
      ],
      "source": [
        "train_df.head()"
      ]
    },
    {
      "cell_type": "markdown",
      "metadata": {
        "id": "s3KylLHNl0bE"
      },
      "source": [
        "# [Task 3 - 0.5 points] Text Encoding\n",
        "To train a neural sexism classifier, you first need to encode text into numerical format.\n",
        "\n",
        "\n"
      ]
    },
    {
      "cell_type": "markdown",
      "metadata": {
        "id": "hr1lTHUVOXff"
      },
      "source": [
        "### Instructions\n",
        "\n",
        "* Embed words using **GloVe embeddings**.\n",
        "* You are **free** to pick any embedding dimension.\n",
        "\n",
        "\n",
        "\n"
      ]
    },
    {
      "cell_type": "markdown",
      "metadata": {
        "id": "r6NNMEjWOZQr"
      },
      "source": [
        "### Note : What about OOV tokens?\n",
        "   * All the tokens in the **training** set that are not in GloVe **must** be added to the vocabulary.\n",
        "   * For the remaining tokens (i.e., OOV in the validation and test sets), you have to assign them a **special token** (e.g., [UNK]) and a **static** embedding.\n",
        "   * You are **free** to define the static embedding using any strategy (e.g., random, neighbourhood, etc...)\n",
        "\n"
      ]
    },
    {
      "cell_type": "markdown",
      "metadata": {
        "id": "90UztlGUObXk"
      },
      "source": [
        "### More about OOV\n",
        "\n",
        "For a given token:\n",
        "\n",
        "* **If in train set**: add to vocabulary and assign an embedding (use GloVe if token in GloVe, custom embedding otherwise).\n",
        "* **If in val/test set**: assign special token if not in vocabulary and assign custom embedding.\n",
        "\n",
        "Your vocabulary **should**:\n",
        "\n",
        "* Contain all tokens in train set; or\n",
        "* Union of tokens in train set and in GloVe $\\rightarrow$ we make use of existing knowledge!"
      ]
    },
    {
      "cell_type": "code",
      "execution_count": 9,
      "metadata": {
        "colab": {
          "base_uri": "https://localhost:8080/"
        },
        "id": "1VLqSp6Burjp",
        "outputId": "8c59e31d-5772-4c5a-f8e8-3a5e201a8db1"
      },
      "outputs": [
        {
          "output_type": "stream",
          "name": "stdout",
          "text": [
            "Downloading GloVe embeddings...\n"
          ]
        },
        {
          "output_type": "stream",
          "name": "stderr",
          "text": [
            "Downloading: 100%|██████████| 822M/822M [02:39<00:00, 5.42MB/s]\n"
          ]
        },
        {
          "output_type": "stream",
          "name": "stdout",
          "text": [
            "Extracting GloVe embeddings...\n",
            "Download and extraction complete.\n",
            "Loaded GloVe embeddings with dimension: 100\n"
          ]
        }
      ],
      "source": [
        "# Function to download GloVe embeddings with a progress bar\n",
        "def download_glove_embeddings(glove_url, save_path='glove.zip', extract_path='glove'):\n",
        "    if not os.path.exists(extract_path):  # Only download if not already downloaded\n",
        "        print(\"Downloading GloVe embeddings...\")\n",
        "\n",
        "        # Stream the download with a progress bar\n",
        "        response = requests.get(glove_url, stream=True)\n",
        "        total_size = int(response.headers.get('content-length', 0))\n",
        "\n",
        "        with open(save_path, 'wb') as f, tqdm(\n",
        "            desc=\"Downloading\",\n",
        "            total=total_size,\n",
        "            unit='B',\n",
        "            unit_scale=True,\n",
        "            unit_divisor=1024,\n",
        "        ) as bar:\n",
        "            for data in response.iter_content(chunk_size=1024):\n",
        "                f.write(data)\n",
        "                bar.update(len(data))\n",
        "\n",
        "        # Extract the zip file\n",
        "        print(\"Extracting GloVe embeddings...\")\n",
        "        with zipfile.ZipFile(save_path, 'r') as zip_ref:\n",
        "            zip_ref.extractall(extract_path)\n",
        "\n",
        "        # Clean up by removing the zip file\n",
        "        os.remove(save_path)\n",
        "        print(\"Download and extraction complete.\")\n",
        "    else:\n",
        "        print(\"GloVe embeddings already downloaded.\")\n",
        "\n",
        "\n",
        "# Load the GloVe embeddings from the extracted file\n",
        "def load_glove_embeddings(filepath, embedding_dim=100):\n",
        "    embeddings = {}\n",
        "    with open(filepath, 'r', encoding=\"utf-8\") as f:\n",
        "        for line in f:\n",
        "            values = line.split()\n",
        "            word = values[0]\n",
        "            vector = np.asarray(values[1:], dtype='float32')\n",
        "            embeddings[word] = vector\n",
        "    return embeddings\n",
        "\n",
        "\n",
        "# Define the GloVe URL and download path\n",
        "glove_url = \"http://nlp.stanford.edu/data/glove.6B.zip\"  # 6B is the 400K word vocab, various embedding dim\n",
        "download_path = 'glove.6B.zip'\n",
        "extract_path = 'glove'\n",
        "\n",
        "# Download and extract GloVe embeddings\n",
        "download_glove_embeddings(glove_url, download_path, extract_path)\n",
        "\n",
        "# Specify the embedding dimension and file, choose dim from 50,100,200,300\n",
        "embedding_dim = 100\n",
        "glove_filepath = os.path.join(extract_path, f'glove.6B.{embedding_dim}d.txt')\n",
        "\n",
        "# Load embeddings\n",
        "glove_embeddings = load_glove_embeddings(glove_filepath, embedding_dim)\n",
        "print(\"Loaded GloVe embeddings with dimension:\", embedding_dim)\n"
      ]
    },
    {
      "cell_type": "code",
      "execution_count": 10,
      "metadata": {
        "colab": {
          "base_uri": "https://localhost:8080/"
        },
        "id": "6qsodZNQE1KI",
        "outputId": "9c5ea3b8-090d-42dc-c518-217b7629552d"
      },
      "outputs": [
        {
          "output_type": "stream",
          "name": "stdout",
          "text": [
            "Max lenght found: 36\n",
            "['writing', 'uni', 'essay', 'local', 'pub', 'coffee', 'random', 'old', 'man', 'keep', 'asking', 'drunk', 'question', 'im', 'trying', 'concentrate', 'amp', 'end', 'good', 'luck', 'youll', 'end', 'getting', 'married', 'use', 'anyway', 'alive', 'well', '<PAD>', '<PAD>', '<PAD>', '<PAD>', '<PAD>', '<PAD>', '<PAD>', '<PAD>']\n"
          ]
        }
      ],
      "source": [
        "def find_series_max_len(series_list):\n",
        "    # Concatenate all Series into a single Series\n",
        "    all_text = pd.concat(series_list, ignore_index=True)\n",
        "    word_count = all_text.apply(lambda x: len(str(x).split()))\n",
        "    max_word_count = word_count.max()\n",
        "    return max_word_count\n",
        "\n",
        "\n",
        "def pad_text_column(df, column_name, max_len, pad_token=\"<PAD>\"):\n",
        "    # Apply padding\n",
        "    df['padded_' + column_name] = df[column_name].apply(lambda x: x if isinstance(x, list) else x.split())  # Tokenize if not already\n",
        "    df['padded_' + column_name] = df['padded_' + column_name].apply(\n",
        "        lambda x: x[:max_len] + [pad_token] * (max_len - len(x)) if len(x) < max_len else x[:max_len]\n",
        "    )\n",
        "\n",
        "    return df\n",
        "\n",
        "MAX_LEN = find_series_max_len([train_df['tweet'], validation_df['tweet'], test_df['tweet']])\n",
        "print(f\"Max lenght found: {MAX_LEN}\")\n",
        "\n",
        "train_df = pad_text_column(train_df, 'tweet', MAX_LEN)\n",
        "validation_df = pad_text_column(validation_df, 'tweet', MAX_LEN)\n",
        "test_df = pad_text_column(test_df, 'tweet', MAX_LEN)\n",
        "\n",
        "print(train_df['padded_tweet'].iloc[0])"
      ]
    },
    {
      "cell_type": "code",
      "execution_count": 11,
      "metadata": {
        "id": "0BQRxBLMKsIl"
      },
      "outputs": [],
      "source": [
        "# Tokenize tweets and build vocabulary\n",
        "def build_vocab_and_embeddings(data, embeddings_index, embedding_dim):\n",
        "    vocab = {}\n",
        "    word_embeddings = []\n",
        "    for tweet in data['padded_tweet']:\n",
        "        for token in tweet:\n",
        "            if token not in vocab:\n",
        "                if token in embeddings_index:\n",
        "                    # Use GloVe embedding\n",
        "                    vocab[token] = len(vocab)\n",
        "                    word_embeddings.append(embeddings_index[token])\n",
        "                else:\n",
        "                    # Generate a random embedding for OOV tokens in the training set\n",
        "                    vocab[token] = len(vocab)\n",
        "                    word_embeddings.append(np.random.uniform(-0.1, 0.1, embedding_dim))\n",
        "    return vocab, word_embeddings\n",
        "\n",
        "# Build vocabulary and embeddings for the training set\n",
        "vocab, word_embeddings = build_vocab_and_embeddings(train_df, glove_embeddings, embedding_dim)"
      ]
    },
    {
      "cell_type": "code",
      "execution_count": 12,
      "metadata": {
        "id": "r1OsvOYxLxoT"
      },
      "outputs": [],
      "source": [
        "unk_token = '[UNK]'\n",
        "vocab[unk_token] = len(vocab)\n",
        "\n",
        "# Custom embedding for '[UNK]', mean of GloVe embeddings\n",
        "unk_embedding = np.mean(word_embeddings, axis=0)\n",
        "word_embeddings = np.vstack([word_embeddings, unk_embedding])"
      ]
    },
    {
      "cell_type": "code",
      "execution_count": 13,
      "metadata": {
        "colab": {
          "base_uri": "https://localhost:8080/",
          "height": 206
        },
        "id": "ceDEh72NNfEd",
        "outputId": "ea4cc5d0-5238-406b-c333-1b3343ed0166"
      },
      "outputs": [
        {
          "output_type": "execute_result",
          "data": {
            "text/plain": [
              "       id_EXIST lang                                              tweet  \\\n",
              "200002   200002   en  writing uni essay local pub coffee random old ...   \n",
              "200003   200003   en  2021 1921 dont appreciate two ride team member...   \n",
              "200006   200006   en  according customer plenty time go spent stirli...   \n",
              "200007   200007   en  bloke drink beer sorry arent bloke drink wine ...   \n",
              "200008   200008   en        new shelf week looking forward reading book   \n",
              "\n",
              "        hard_label_task1                                       padded_tweet  \n",
              "200002                 1  [[0.17459000647068024, 0.2806999981403351, -0....  \n",
              "200003                 1  [[0.4375700056552887, 0.5958300232887268, 0.52...  \n",
              "200006                 1  [[-0.06825800240039825, -0.04764899984002113, ...  \n",
              "200007                 1  [[0.1125900000333786, 0.4171999990940094, 0.62...  \n",
              "200008                 0  [[-0.04395899921655655, 0.18935999274253845, 0...  "
            ],
            "text/html": [
              "\n",
              "  <div id=\"df-c5b963f1-c716-432d-80fa-5da290dc6116\" class=\"colab-df-container\">\n",
              "    <div>\n",
              "<style scoped>\n",
              "    .dataframe tbody tr th:only-of-type {\n",
              "        vertical-align: middle;\n",
              "    }\n",
              "\n",
              "    .dataframe tbody tr th {\n",
              "        vertical-align: top;\n",
              "    }\n",
              "\n",
              "    .dataframe thead th {\n",
              "        text-align: right;\n",
              "    }\n",
              "</style>\n",
              "<table border=\"1\" class=\"dataframe\">\n",
              "  <thead>\n",
              "    <tr style=\"text-align: right;\">\n",
              "      <th></th>\n",
              "      <th>id_EXIST</th>\n",
              "      <th>lang</th>\n",
              "      <th>tweet</th>\n",
              "      <th>hard_label_task1</th>\n",
              "      <th>padded_tweet</th>\n",
              "    </tr>\n",
              "  </thead>\n",
              "  <tbody>\n",
              "    <tr>\n",
              "      <th>200002</th>\n",
              "      <td>200002</td>\n",
              "      <td>en</td>\n",
              "      <td>writing uni essay local pub coffee random old ...</td>\n",
              "      <td>1</td>\n",
              "      <td>[[0.17459000647068024, 0.2806999981403351, -0....</td>\n",
              "    </tr>\n",
              "    <tr>\n",
              "      <th>200003</th>\n",
              "      <td>200003</td>\n",
              "      <td>en</td>\n",
              "      <td>2021 1921 dont appreciate two ride team member...</td>\n",
              "      <td>1</td>\n",
              "      <td>[[0.4375700056552887, 0.5958300232887268, 0.52...</td>\n",
              "    </tr>\n",
              "    <tr>\n",
              "      <th>200006</th>\n",
              "      <td>200006</td>\n",
              "      <td>en</td>\n",
              "      <td>according customer plenty time go spent stirli...</td>\n",
              "      <td>1</td>\n",
              "      <td>[[-0.06825800240039825, -0.04764899984002113, ...</td>\n",
              "    </tr>\n",
              "    <tr>\n",
              "      <th>200007</th>\n",
              "      <td>200007</td>\n",
              "      <td>en</td>\n",
              "      <td>bloke drink beer sorry arent bloke drink wine ...</td>\n",
              "      <td>1</td>\n",
              "      <td>[[0.1125900000333786, 0.4171999990940094, 0.62...</td>\n",
              "    </tr>\n",
              "    <tr>\n",
              "      <th>200008</th>\n",
              "      <td>200008</td>\n",
              "      <td>en</td>\n",
              "      <td>new shelf week looking forward reading book</td>\n",
              "      <td>0</td>\n",
              "      <td>[[-0.04395899921655655, 0.18935999274253845, 0...</td>\n",
              "    </tr>\n",
              "  </tbody>\n",
              "</table>\n",
              "</div>\n",
              "    <div class=\"colab-df-buttons\">\n",
              "\n",
              "  <div class=\"colab-df-container\">\n",
              "    <button class=\"colab-df-convert\" onclick=\"convertToInteractive('df-c5b963f1-c716-432d-80fa-5da290dc6116')\"\n",
              "            title=\"Convert this dataframe to an interactive table.\"\n",
              "            style=\"display:none;\">\n",
              "\n",
              "  <svg xmlns=\"http://www.w3.org/2000/svg\" height=\"24px\" viewBox=\"0 -960 960 960\">\n",
              "    <path d=\"M120-120v-720h720v720H120Zm60-500h600v-160H180v160Zm220 220h160v-160H400v160Zm0 220h160v-160H400v160ZM180-400h160v-160H180v160Zm440 0h160v-160H620v160ZM180-180h160v-160H180v160Zm440 0h160v-160H620v160Z\"/>\n",
              "  </svg>\n",
              "    </button>\n",
              "\n",
              "  <style>\n",
              "    .colab-df-container {\n",
              "      display:flex;\n",
              "      gap: 12px;\n",
              "    }\n",
              "\n",
              "    .colab-df-convert {\n",
              "      background-color: #E8F0FE;\n",
              "      border: none;\n",
              "      border-radius: 50%;\n",
              "      cursor: pointer;\n",
              "      display: none;\n",
              "      fill: #1967D2;\n",
              "      height: 32px;\n",
              "      padding: 0 0 0 0;\n",
              "      width: 32px;\n",
              "    }\n",
              "\n",
              "    .colab-df-convert:hover {\n",
              "      background-color: #E2EBFA;\n",
              "      box-shadow: 0px 1px 2px rgba(60, 64, 67, 0.3), 0px 1px 3px 1px rgba(60, 64, 67, 0.15);\n",
              "      fill: #174EA6;\n",
              "    }\n",
              "\n",
              "    .colab-df-buttons div {\n",
              "      margin-bottom: 4px;\n",
              "    }\n",
              "\n",
              "    [theme=dark] .colab-df-convert {\n",
              "      background-color: #3B4455;\n",
              "      fill: #D2E3FC;\n",
              "    }\n",
              "\n",
              "    [theme=dark] .colab-df-convert:hover {\n",
              "      background-color: #434B5C;\n",
              "      box-shadow: 0px 1px 3px 1px rgba(0, 0, 0, 0.15);\n",
              "      filter: drop-shadow(0px 1px 2px rgba(0, 0, 0, 0.3));\n",
              "      fill: #FFFFFF;\n",
              "    }\n",
              "  </style>\n",
              "\n",
              "    <script>\n",
              "      const buttonEl =\n",
              "        document.querySelector('#df-c5b963f1-c716-432d-80fa-5da290dc6116 button.colab-df-convert');\n",
              "      buttonEl.style.display =\n",
              "        google.colab.kernel.accessAllowed ? 'block' : 'none';\n",
              "\n",
              "      async function convertToInteractive(key) {\n",
              "        const element = document.querySelector('#df-c5b963f1-c716-432d-80fa-5da290dc6116');\n",
              "        const dataTable =\n",
              "          await google.colab.kernel.invokeFunction('convertToInteractive',\n",
              "                                                    [key], {});\n",
              "        if (!dataTable) return;\n",
              "\n",
              "        const docLinkHtml = 'Like what you see? Visit the ' +\n",
              "          '<a target=\"_blank\" href=https://colab.research.google.com/notebooks/data_table.ipynb>data table notebook</a>'\n",
              "          + ' to learn more about interactive tables.';\n",
              "        element.innerHTML = '';\n",
              "        dataTable['output_type'] = 'display_data';\n",
              "        await google.colab.output.renderOutput(dataTable, element);\n",
              "        const docLink = document.createElement('div');\n",
              "        docLink.innerHTML = docLinkHtml;\n",
              "        element.appendChild(docLink);\n",
              "      }\n",
              "    </script>\n",
              "  </div>\n",
              "\n",
              "\n",
              "<div id=\"df-384c1967-a317-45a0-8397-1389ab791bb2\">\n",
              "  <button class=\"colab-df-quickchart\" onclick=\"quickchart('df-384c1967-a317-45a0-8397-1389ab791bb2')\"\n",
              "            title=\"Suggest charts\"\n",
              "            style=\"display:none;\">\n",
              "\n",
              "<svg xmlns=\"http://www.w3.org/2000/svg\" height=\"24px\"viewBox=\"0 0 24 24\"\n",
              "     width=\"24px\">\n",
              "    <g>\n",
              "        <path d=\"M19 3H5c-1.1 0-2 .9-2 2v14c0 1.1.9 2 2 2h14c1.1 0 2-.9 2-2V5c0-1.1-.9-2-2-2zM9 17H7v-7h2v7zm4 0h-2V7h2v10zm4 0h-2v-4h2v4z\"/>\n",
              "    </g>\n",
              "</svg>\n",
              "  </button>\n",
              "\n",
              "<style>\n",
              "  .colab-df-quickchart {\n",
              "      --bg-color: #E8F0FE;\n",
              "      --fill-color: #1967D2;\n",
              "      --hover-bg-color: #E2EBFA;\n",
              "      --hover-fill-color: #174EA6;\n",
              "      --disabled-fill-color: #AAA;\n",
              "      --disabled-bg-color: #DDD;\n",
              "  }\n",
              "\n",
              "  [theme=dark] .colab-df-quickchart {\n",
              "      --bg-color: #3B4455;\n",
              "      --fill-color: #D2E3FC;\n",
              "      --hover-bg-color: #434B5C;\n",
              "      --hover-fill-color: #FFFFFF;\n",
              "      --disabled-bg-color: #3B4455;\n",
              "      --disabled-fill-color: #666;\n",
              "  }\n",
              "\n",
              "  .colab-df-quickchart {\n",
              "    background-color: var(--bg-color);\n",
              "    border: none;\n",
              "    border-radius: 50%;\n",
              "    cursor: pointer;\n",
              "    display: none;\n",
              "    fill: var(--fill-color);\n",
              "    height: 32px;\n",
              "    padding: 0;\n",
              "    width: 32px;\n",
              "  }\n",
              "\n",
              "  .colab-df-quickchart:hover {\n",
              "    background-color: var(--hover-bg-color);\n",
              "    box-shadow: 0 1px 2px rgba(60, 64, 67, 0.3), 0 1px 3px 1px rgba(60, 64, 67, 0.15);\n",
              "    fill: var(--button-hover-fill-color);\n",
              "  }\n",
              "\n",
              "  .colab-df-quickchart-complete:disabled,\n",
              "  .colab-df-quickchart-complete:disabled:hover {\n",
              "    background-color: var(--disabled-bg-color);\n",
              "    fill: var(--disabled-fill-color);\n",
              "    box-shadow: none;\n",
              "  }\n",
              "\n",
              "  .colab-df-spinner {\n",
              "    border: 2px solid var(--fill-color);\n",
              "    border-color: transparent;\n",
              "    border-bottom-color: var(--fill-color);\n",
              "    animation:\n",
              "      spin 1s steps(1) infinite;\n",
              "  }\n",
              "\n",
              "  @keyframes spin {\n",
              "    0% {\n",
              "      border-color: transparent;\n",
              "      border-bottom-color: var(--fill-color);\n",
              "      border-left-color: var(--fill-color);\n",
              "    }\n",
              "    20% {\n",
              "      border-color: transparent;\n",
              "      border-left-color: var(--fill-color);\n",
              "      border-top-color: var(--fill-color);\n",
              "    }\n",
              "    30% {\n",
              "      border-color: transparent;\n",
              "      border-left-color: var(--fill-color);\n",
              "      border-top-color: var(--fill-color);\n",
              "      border-right-color: var(--fill-color);\n",
              "    }\n",
              "    40% {\n",
              "      border-color: transparent;\n",
              "      border-right-color: var(--fill-color);\n",
              "      border-top-color: var(--fill-color);\n",
              "    }\n",
              "    60% {\n",
              "      border-color: transparent;\n",
              "      border-right-color: var(--fill-color);\n",
              "    }\n",
              "    80% {\n",
              "      border-color: transparent;\n",
              "      border-right-color: var(--fill-color);\n",
              "      border-bottom-color: var(--fill-color);\n",
              "    }\n",
              "    90% {\n",
              "      border-color: transparent;\n",
              "      border-bottom-color: var(--fill-color);\n",
              "    }\n",
              "  }\n",
              "</style>\n",
              "\n",
              "  <script>\n",
              "    async function quickchart(key) {\n",
              "      const quickchartButtonEl =\n",
              "        document.querySelector('#' + key + ' button');\n",
              "      quickchartButtonEl.disabled = true;  // To prevent multiple clicks.\n",
              "      quickchartButtonEl.classList.add('colab-df-spinner');\n",
              "      try {\n",
              "        const charts = await google.colab.kernel.invokeFunction(\n",
              "            'suggestCharts', [key], {});\n",
              "      } catch (error) {\n",
              "        console.error('Error during call to suggestCharts:', error);\n",
              "      }\n",
              "      quickchartButtonEl.classList.remove('colab-df-spinner');\n",
              "      quickchartButtonEl.classList.add('colab-df-quickchart-complete');\n",
              "    }\n",
              "    (() => {\n",
              "      let quickchartButtonEl =\n",
              "        document.querySelector('#df-384c1967-a317-45a0-8397-1389ab791bb2 button');\n",
              "      quickchartButtonEl.style.display =\n",
              "        google.colab.kernel.accessAllowed ? 'block' : 'none';\n",
              "    })();\n",
              "  </script>\n",
              "</div>\n",
              "\n",
              "    </div>\n",
              "  </div>\n"
            ],
            "application/vnd.google.colaboratory.intrinsic+json": {
              "type": "dataframe",
              "variable_name": "train_df_embedded",
              "summary": "{\n  \"name\": \"train_df_embedded\",\n  \"rows\": 2870,\n  \"fields\": [\n    {\n      \"column\": \"id_EXIST\",\n      \"properties\": {\n        \"dtype\": \"string\",\n        \"num_unique_values\": 2870,\n        \"samples\": [\n          \"200504\",\n          \"202694\",\n          \"200852\"\n        ],\n        \"semantic_type\": \"\",\n        \"description\": \"\"\n      }\n    },\n    {\n      \"column\": \"lang\",\n      \"properties\": {\n        \"dtype\": \"category\",\n        \"num_unique_values\": 1,\n        \"samples\": [\n          \"en\"\n        ],\n        \"semantic_type\": \"\",\n        \"description\": \"\"\n      }\n    },\n    {\n      \"column\": \"tweet\",\n      \"properties\": {\n        \"dtype\": \"string\",\n        \"num_unique_values\": 2867,\n        \"samples\": [\n          \"call sexist feel wrong woman reffing nba like go ref wnba\"\n        ],\n        \"semantic_type\": \"\",\n        \"description\": \"\"\n      }\n    },\n    {\n      \"column\": \"hard_label_task1\",\n      \"properties\": {\n        \"dtype\": \"number\",\n        \"std\": 0,\n        \"min\": 0,\n        \"max\": 1,\n        \"num_unique_values\": 2,\n        \"samples\": [\n          0\n        ],\n        \"semantic_type\": \"\",\n        \"description\": \"\"\n      }\n    },\n    {\n      \"column\": \"padded_tweet\",\n      \"properties\": {\n        \"dtype\": \"object\",\n        \"semantic_type\": \"\",\n        \"description\": \"\"\n      }\n    }\n  ]\n}"
            }
          },
          "metadata": {},
          "execution_count": 13
        }
      ],
      "source": [
        "# Apply the embeddings to the given df\n",
        "def embed_tweet(df, vocab, word_embeddings):\n",
        "    data = df.copy()\n",
        "    new_tweet = []\n",
        "    for tweet in data['padded_tweet']:\n",
        "        embedded_tweet = []\n",
        "        for token in tweet:\n",
        "            if token not in vocab:\n",
        "                # token is OOV so considered UNK\n",
        "                embedded_tweet.append(word_embeddings[vocab['[UNK]']])\n",
        "            else:\n",
        "                embedded_tweet.append(word_embeddings[vocab[token]])\n",
        "        new_tweet.append(embedded_tweet)\n",
        "    data['padded_tweet'] = new_tweet\n",
        "    return data\n",
        "\n",
        "# Embed all the df with our extended GloVe embeddings\n",
        "train_df_embedded = embed_tweet(train_df, vocab, word_embeddings)\n",
        "validation_df_embedded = embed_tweet(validation_df, vocab, word_embeddings)\n",
        "test_df_embedded = embed_tweet(test_df, vocab, word_embeddings)\n",
        "train_df_embedded.head()"
      ]
    },
    {
      "cell_type": "markdown",
      "metadata": {
        "id": "6JLnuLGHGAUT"
      },
      "source": [
        "# [Task 4 - 1.0 points] Model definition\n",
        "\n",
        "You are now tasked to define your sexism classifier.\n",
        "\n",
        "\n"
      ]
    },
    {
      "cell_type": "markdown",
      "metadata": {
        "id": "iQFI9J-JOfXD"
      },
      "source": [
        "### Instructions\n",
        "\n",
        "* **Baseline**: implement a Bidirectional LSTM with a Dense layer on top.\n",
        "* You are **free** to experiment with hyper-parameters to define the baseline model.\n",
        "\n",
        "* **Model 1**: add an additional LSTM layer to the Baseline model."
      ]
    },
    {
      "cell_type": "markdown",
      "metadata": {
        "id": "4jALc_qYGS2E"
      },
      "source": [
        "### Token to embedding mapping\n",
        "\n",
        "You can follow two approaches for encoding tokens in your classifier.\n",
        "\n",
        "### Work directly with embeddings\n",
        "\n",
        "- Compute the embedding of each input token\n",
        "- Feed the mini-batches of shape (batch_size, # tokens, embedding_dim) to your model\n",
        "\n",
        "### Work with Embedding layer\n",
        "\n",
        "- Encode input tokens to token ids\n",
        "- Define a Embedding layer as the first layer of your model\n",
        "- Compute the embedding matrix of all known tokens (i.e., tokens in your vocabulary)\n",
        "- Initialize the Embedding layer with the computed embedding matrix\n",
        "- You are **free** to set the Embedding layer trainable or not"
      ]
    },
    {
      "cell_type": "code",
      "execution_count": 14,
      "metadata": {
        "id": "omGCTGKdT2-J"
      },
      "outputs": [],
      "source": [
        "import torch\n",
        "import torch.nn as nn\n",
        "import torch.optim as optim\n",
        "from torch.utils.data import DataLoader, TensorDataset\n",
        "\n",
        "\n",
        "class BiLSTMModel(nn.Module):\n",
        "    def __init__(self, input_size, hidden_size, num_layers, output_size, bidirectional=True):\n",
        "        super(BiLSTMModel, self).__init__()\n",
        "\n",
        "        self.lstm = nn.LSTM(input_size=input_size,\n",
        "                            hidden_size=hidden_size,\n",
        "                            num_layers=num_layers,\n",
        "                            bidirectional=bidirectional,\n",
        "                            batch_first=True)\n",
        "\n",
        "        self.fc = nn.Linear(hidden_size * 2 if bidirectional else hidden_size, output_size)\n",
        "\n",
        "    def forward(self, x):\n",
        "        lstm_out, (hidden, cell) = self.lstm(x)  # lstm_out has shape [batch, seq_len, hidden_size * 2] if bidirectional\n",
        "\n",
        "        # Take the last hidden state from both directions (forward and backward) for the last timestep\n",
        "        if self.lstm.bidirectional:\n",
        "            hidden = torch.cat((hidden[-2,:,:], hidden[-1,:,:]), dim=1)  # Concatenate the last forward and backward hidden states\n",
        "        else:\n",
        "            hidden = hidden[-1,:,:]  # Take the last hidden state of the forward direction only\n",
        "\n",
        "        out = self.fc(hidden)\n",
        "        return out.view(-1)"
      ]
    },
    {
      "cell_type": "code",
      "execution_count": 15,
      "metadata": {
        "id": "dc2WoUzYCdox"
      },
      "outputs": [],
      "source": [
        "input_size = 100\n",
        "hidden_size = 128\n",
        "num_layers = 1\n",
        "output_size = 1\n",
        "\n",
        "baseline_model = BiLSTMModel(input_size, hidden_size, num_layers, output_size)"
      ]
    },
    {
      "cell_type": "code",
      "execution_count": 16,
      "metadata": {
        "id": "TQaECfFmCllk"
      },
      "outputs": [],
      "source": [
        "num_layers = 2\n",
        "\n",
        "model_1 = BiLSTMModel(input_size, hidden_size, num_layers, output_size)"
      ]
    },
    {
      "cell_type": "markdown",
      "metadata": {
        "id": "GEQTPu6eGgGv"
      },
      "source": [
        "### Padding\n",
        "\n",
        "Pay attention to padding tokens!\n",
        "\n",
        "Your model **should not** be penalized on those tokens.\n",
        "\n",
        "#### How to?\n",
        "\n",
        "There are two main ways.\n",
        "\n",
        "However, their implementation depends on the neural library you are using.\n",
        "\n",
        "- Embedding layer\n",
        "- Custom loss to compute average cross-entropy on non-padding tokens only\n",
        "\n",
        "**Note**: This is a **recommendation**, but we **do not penalize** for missing workarounds."
      ]
    },
    {
      "cell_type": "markdown",
      "metadata": {
        "id": "EFjBgdiRG3wD"
      },
      "source": [
        "# [Task 5 - 1.0 points] Training and Evaluation\n",
        "\n",
        "You are now tasked to train and evaluate the Baseline and Model 1.\n"
      ]
    },
    {
      "cell_type": "markdown",
      "metadata": {
        "id": "TWPK4umGOjtT"
      },
      "source": [
        "\n",
        "### Instructions\n",
        "\n",
        "* Train **all** models on the train set.\n",
        "* Evaluate **all** models on the validation set.\n",
        "* Compute metrics on the validation set.\n",
        "* Pick **at least** three seeds for robust estimation.\n",
        "* Pick the **best** performing model according to the observed validation set performance.\n",
        "* Evaluate your models using macro F1-score."
      ]
    },
    {
      "cell_type": "code",
      "execution_count": 61,
      "metadata": {
        "id": "SfElUVIBAfF7"
      },
      "outputs": [],
      "source": [
        "import random\n",
        "import matplotlib.pyplot as plt\n",
        "from tqdm import tqdm\n",
        "import copy\n",
        "\n",
        "class CustomTrainer:\n",
        "    def __init__(self, model, output_size=5, learning_rate=0.001, num_epochs=20, batch_size=32, seed=42):\n",
        "        self.set_seed(seed)\n",
        "\n",
        "        self.device = torch.device(\"cuda\" if torch.cuda.is_available() else \"cpu\")\n",
        "        print(f\"Using device: {self.device}\", end='\\n\\n')\n",
        "\n",
        "        self.model = model.to(self.device)\n",
        "        self.output_size = output_size\n",
        "        self.learning_rate = learning_rate\n",
        "        self.num_epochs = num_epochs\n",
        "        self.batch_size = batch_size\n",
        "        self.criterion = nn.BCEWithLogitsLoss()\n",
        "        self.optimizer = optim.Adam(model.parameters(), lr=learning_rate)\n",
        "\n",
        "    def set_seed(self, seed):\n",
        "        \"\"\"Set the seed for reproducibility.\"\"\"\n",
        "        random.seed(seed)  # Python random module\n",
        "        np.random.seed(seed)  # NumPy random module\n",
        "        torch.manual_seed(seed)  # PyTorch CPU\n",
        "        torch.cuda.manual_seed(seed)  # PyTorch GPU (if CUDA is available)\n",
        "        torch.cuda.manual_seed_all(seed)  # PyTorch all GPUs (if using multiple GPUs)\n",
        "        torch.backends.cudnn.deterministic = True  # Ensure deterministic behavior\n",
        "        torch.backends.cudnn.benchmark = False  # Disable the auto-tuner to avoid randomness\n",
        "        self.seed = seed\n",
        "\n",
        "\n",
        "    def train(self, train_df):\n",
        "        # Prepare training data\n",
        "        self.x_train = torch.tensor(train_df['padded_tweet'], dtype=torch.float32).to(self.device)\n",
        "        self.y_train = torch.tensor(train_df['hard_label_task1'], dtype=torch.float32).to(self.device)\n",
        "        self.train_dataset = TensorDataset(self.x_train, self.y_train)\n",
        "        self.train_loader = DataLoader(self.train_dataset, batch_size=self.batch_size, shuffle=True)\n",
        "\n",
        "        # Training loop\n",
        "        losses = []\n",
        "        for epoch in tqdm(range(self.num_epochs), desc=f'Training with seed {self.seed}'):\n",
        "            self.model.train()  # Set the model to training mode\n",
        "            running_loss = 0.0  # Track the total loss for the epoch\n",
        "\n",
        "            for batch_idx, (inputs, labels) in enumerate(self.train_loader):\n",
        "                # Zero the parameter gradients\n",
        "                self.optimizer.zero_grad()\n",
        "\n",
        "                # Forward pass\n",
        "                outputs = self.model(inputs)\n",
        "                loss = self.criterion(outputs, labels)\n",
        "\n",
        "                # Backward pass and optimization\n",
        "                loss.backward()\n",
        "                self.optimizer.step()\n",
        "\n",
        "                # Accumulate the loss\n",
        "                running_loss += loss.item()\n",
        "\n",
        "            # Print the average loss for this epoch\n",
        "            avg_loss = running_loss / len(self.train_loader)\n",
        "            losses.append(avg_loss)\n",
        "            #(f\"Epoch [{epoch + 1}/{self.num_epochs}], Loss: {avg_loss:.4f}\")\n",
        "        return losses\n",
        "\n",
        "    def test(self, test_df):\n",
        "        # Prepare test data\n",
        "        x_test = torch.tensor(test_df['padded_tweet'], dtype=torch.float32).to(self.device)\n",
        "        y_test = torch.tensor(test_df['hard_label_task1'], dtype=torch.float32).to(self.device)\n",
        "        test_dataset = TensorDataset(x_test, y_test)\n",
        "        test_loader = DataLoader(test_dataset, batch_size=self.batch_size, shuffle=False)\n",
        "\n",
        "        # Set the model to evaluation mode\n",
        "        self.model.eval()\n",
        "\n",
        "        all_preds = []\n",
        "        all_labels = []\n",
        "\n",
        "        with torch.no_grad():  # No need to compute gradients during evaluation\n",
        "            for inputs, labels in test_loader:\n",
        "                # Forward pass\n",
        "                outputs = self.model(inputs)\n",
        "\n",
        "                # Apply sigmoid activation to outputs, since BCEWithLogitsLoss already includes sigmoid\n",
        "                predicted = torch.round(torch.sigmoid(outputs))  # Convert outputs to binary predictions\n",
        "\n",
        "                all_preds.append(predicted.cpu().numpy())\n",
        "                all_labels.append(labels.cpu().numpy())\n",
        "\n",
        "        # Flatten the lists\n",
        "        all_preds = np.concatenate(all_preds, axis=0)\n",
        "        all_labels = np.concatenate(all_labels, axis=0)\n",
        "\n",
        "        # Calculate precision, recall, and F1 score\n",
        "        precision = precision_score(all_labels, all_preds, average='macro')\n",
        "        recall = recall_score(all_labels, all_preds, average='macro')\n",
        "        f1 = f1_score(all_labels, all_preds, average='macro')\n",
        "\n",
        "        accuracy = (all_preds == all_labels).mean()\n",
        "\n",
        "        return accuracy, f1\n",
        "\n",
        "\n",
        "    def train_and_evaluate_multiple_seeds(self, train_df, test_df, num_seeds=5):\n",
        "        all_losses = []\n",
        "        all_accuracies = []\n",
        "        # Save the untrained model temporay\n",
        "        untrained_model = copy.deepcopy(self.model.state_dict())  # Save a deep copy of the initial weights\n",
        "\n",
        "        print(f\"### Start training and testing with {num_seeds} seeds ###\")\n",
        "        # Loop through multiple seeds\n",
        "        for seed in range(num_seeds):\n",
        "            self.set_seed(seed)  # Set the seed for reproducibility\n",
        "\n",
        "            # Train and evaluate the model\n",
        "            epoch_losses = self.train(train_df)\n",
        "            accuracy, f1 = self.test(test_df)\n",
        "\n",
        "            # Reset the model to untrained version so that with next seed will start train from scratch\n",
        "            self.model.load_state_dict(untrained_model)\n",
        "\n",
        "            print(f\"Accuracy on val: {accuracy:.4f}, f1-score on val: {f1:.4f}\", end=\"\\n\\n\")\n",
        "            all_losses.append(epoch_losses)\n",
        "            all_accuracies.append(accuracy)\n",
        "\n",
        "        # Convert lists to numpy arrays for easier manipulation\n",
        "        all_losses = np.array(all_losses)\n",
        "        all_accuracies = np.array(all_accuracies)\n",
        "\n",
        "        # Plot the learning curves: max, min, avg loss across all seeds\n",
        "        self.plot_learning_curve(all_losses, all_accuracies)\n",
        "\n",
        "\n",
        "    def plot_learning_curve(self, all_losses, all_accuracies):\n",
        "        # Plot loss curves (min, max, avg)\n",
        "        plt.figure(figsize=(12, 6))\n",
        "\n",
        "        # Plot loss\n",
        "        plt.subplot(1, 2, 1)\n",
        "        plt.plot(all_losses.mean(axis=0), label='Avg Loss', color='blue')\n",
        "        plt.fill_between(range(len(all_losses[0])), all_losses.min(axis=0), all_losses.max(axis=0), color='blue', alpha=0.2)\n",
        "        plt.title('Learning Curve (Loss)')\n",
        "        plt.xlabel('Epochs')\n",
        "        plt.ylabel('Loss')\n",
        "        plt.legend()\n",
        "\n",
        "        plt.tight_layout()\n",
        "        plt.show()\n",
        "\n",
        "    def get_errors(self, test_df):\n",
        "        \"\"\"\n",
        "        Identify and return errors from the test set.\n",
        "\n",
        "        Parameters:\n",
        "            test_df (pd.DataFrame): The test DataFrame containing 'padded_tweet' and 'hard_label_task1'.\n",
        "\n",
        "        Returns:\n",
        "            pd.DataFrame: A DataFrame containing the texts and true labels of incorrect predictions.\n",
        "        \"\"\"\n",
        "        # Prepare test data\n",
        "        x_test = torch.tensor(test_df['padded_tweet'], dtype=torch.float32).to(self.device)\n",
        "        y_test = torch.tensor(test_df['hard_label_task1'], dtype=torch.float32).to(self.device)\n",
        "        texts = test_df['tweet']  # Assuming the original text is stored in a 'text' column\n",
        "\n",
        "        test_dataset = TensorDataset(x_test, y_test)\n",
        "        test_loader = DataLoader(test_dataset, batch_size=self.batch_size, shuffle=False)\n",
        "\n",
        "        # Set the model to evaluation mode\n",
        "        self.model.eval()\n",
        "\n",
        "        all_preds = []\n",
        "        all_labels = []\n",
        "        error_texts = []\n",
        "        error_labels = []\n",
        "\n",
        "        with torch.no_grad():  # No need to compute gradients during evaluation\n",
        "            for idx, (inputs, labels) in enumerate(test_loader):\n",
        "                # Forward pass\n",
        "                outputs = self.model(inputs)\n",
        "\n",
        "                # Apply sigmoid activation to outputs, since BCEWithLogitsLoss already includes sigmoid\n",
        "                predicted = torch.round(torch.sigmoid(outputs))  # Convert outputs to binary predictions\n",
        "\n",
        "                # Identify errors\n",
        "                for i, (pred, label) in enumerate(zip(predicted.cpu().numpy(), labels.cpu().numpy())):\n",
        "                    if not np.array_equal(pred, label):  # If prediction does not match the true label\n",
        "                        error_texts.append(texts.iloc[idx * self.batch_size + i])\n",
        "                        error_labels.append(label)\n",
        "\n",
        "        # Create a DataFrame with errors\n",
        "        errors_df = pd.DataFrame({\n",
        "            'tweet': error_texts,\n",
        "            'label': error_labels\n",
        "        })\n",
        "\n",
        "        return errors_df"
      ]
    },
    {
      "cell_type": "code",
      "source": [
        "baseline_trainer = CustomTrainer(model=baseline_model, num_epochs=30, batch_size=32, learning_rate=0.001)\n",
        "\n",
        "baseline_trainer.train_and_evaluate_multiple_seeds(train_df_embedded, validation_df_embedded, num_seeds=3)\n",
        "\n",
        "accuracy, f1 = baseline_trainer.test(test_df_embedded)\n",
        "print(f\"Accuracy on test: {accuracy:.4f}, f1-score on test: {f1:.4f}\", end=\"\\n\\n\")"
      ],
      "metadata": {
        "colab": {
          "base_uri": "https://localhost:8080/",
          "height": 857
        },
        "id": "hOCwOBuMQ5nV",
        "outputId": "6db62a45-94f1-4527-dbd0-4e3b03f55f6d"
      },
      "execution_count": 62,
      "outputs": [
        {
          "output_type": "stream",
          "name": "stdout",
          "text": [
            "Using device: cuda\n",
            "\n",
            "### Start training and testing with 3 seeds ###\n"
          ]
        },
        {
          "output_type": "stream",
          "name": "stderr",
          "text": [
            "Training with seed 0: 100%|██████████| 30/30 [00:09<00:00,  3.28it/s]\n"
          ]
        },
        {
          "output_type": "stream",
          "name": "stdout",
          "text": [
            "Accuracy on val: 0.7532, f1-score on val: 0.7353\n",
            "\n"
          ]
        },
        {
          "output_type": "stream",
          "name": "stderr",
          "text": [
            "Training with seed 1: 100%|██████████| 30/30 [00:11<00:00,  2.50it/s]\n"
          ]
        },
        {
          "output_type": "stream",
          "name": "stdout",
          "text": [
            "Accuracy on val: 0.7848, f1-score on val: 0.7730\n",
            "\n"
          ]
        },
        {
          "output_type": "stream",
          "name": "stderr",
          "text": [
            "Training with seed 2: 100%|██████████| 30/30 [00:13<00:00,  2.29it/s]\n"
          ]
        },
        {
          "output_type": "stream",
          "name": "stdout",
          "text": [
            "Accuracy on val: 0.7658, f1-score on val: 0.7489\n",
            "\n"
          ]
        },
        {
          "output_type": "display_data",
          "data": {
            "text/plain": [
              "<Figure size 1200x600 with 1 Axes>"
            ],
            "image/png": "[encoded data removed]"
          },
          "metadata": {}
        },
        {
          "output_type": "stream",
          "name": "stdout",
          "text": [
            "Accuracy on test: 0.7273, f1-score on test: 0.7200\n",
            "\n"
          ]
        }
      ]
    },
    {
      "cell_type": "code",
      "source": [
        "baseline_error_df = baseline_trainer.get_errors(test_df_embedded)"
      ],
      "metadata": {
        "id": "Htqoge713Ocu"
      },
      "execution_count": 72,
      "outputs": []
    },
    {
      "cell_type": "code",
      "source": [
        "model_1_trainer = CustomTrainer(model=model_1, num_epochs=30, batch_size=32, learning_rate=0.001)\n",
        "\n",
        "model_1_trainer.train_and_evaluate_multiple_seeds(train_df_embedded, validation_df_embedded, num_seeds=3)\n",
        "accuracy, f1 = model_1_trainer.test(test_df_embedded)\n",
        "print(f\"Accuracy on test: {accuracy:.4f}, f1-score on test: {f1:.4f}\", end=\"\\n\\n\")"
      ],
      "metadata": {
        "id": "xxMIRVPAT_tB",
        "colab": {
          "base_uri": "https://localhost:8080/",
          "height": 857
        },
        "outputId": "3c7f98d0-2449-4183-89b0-9b61bb103aa4"
      },
      "execution_count": 19,
      "outputs": [
        {
          "output_type": "stream",
          "name": "stdout",
          "text": [
            "Using device: cuda\n",
            "\n",
            "### Start training and testing with 3 seeds ###\n"
          ]
        },
        {
          "output_type": "stream",
          "name": "stderr",
          "text": [
            "Training with seed 0: 100%|██████████| 30/30 [00:18<00:00,  1.60it/s]\n"
          ]
        },
        {
          "output_type": "stream",
          "name": "stdout",
          "text": [
            "Accuracy on val: 0.7848, f1-score on val: 0.7756\n",
            "\n"
          ]
        },
        {
          "output_type": "stream",
          "name": "stderr",
          "text": [
            "Training with seed 1: 100%|██████████| 30/30 [00:17<00:00,  1.76it/s]\n"
          ]
        },
        {
          "output_type": "stream",
          "name": "stdout",
          "text": [
            "Accuracy on val: 0.8101, f1-score on val: 0.7997\n",
            "\n"
          ]
        },
        {
          "output_type": "stream",
          "name": "stderr",
          "text": [
            "Training with seed 2: 100%|██████████| 30/30 [00:14<00:00,  2.11it/s]\n"
          ]
        },
        {
          "output_type": "stream",
          "name": "stdout",
          "text": [
            "Accuracy on val: 0.7785, f1-score on val: 0.7656\n",
            "\n"
          ]
        },
        {
          "output_type": "display_data",
          "data": {
            "text/plain": [
              "<Figure size 1200x600 with 1 Axes>"
            ],
            "image/png": "[encoded data removed]"
          },
          "metadata": {}
        },
        {
          "output_type": "stream",
          "name": "stdout",
          "text": [
            "Accuracy on test: 0.4510, f1-score on test: 0.3452\n",
            "\n"
          ]
        }
      ]
    },
    {
      "cell_type": "code",
      "execution_count": 20,
      "metadata": {
        "colab": {
          "base_uri": "https://localhost:8080/"
        },
        "id": "-0GWUttaaEqM",
        "outputId": "b8bca06a-e394-4f01-af60-e397a3a0d560"
      },
      "outputs": [
        {
          "output_type": "stream",
          "name": "stdout",
          "text": [
            "writing uni essay local pub coffee random old man keep asking drunk question im trying concentrate amp end good luck youll end getting married use anyway alive well\n",
            "2021 1921 dont appreciate two ride team member looked behind asked man behind many party impressed\n",
            "new shelf week looking forward reading book\n",
            "tensor([0.5030, 0.5062, 0.5085, 0.5149, 0.4863], device='cuda:0',\n",
            "       grad_fn=<SigmoidBackward0>)\n",
            "tensor([0.5006, 0.5045, 0.5026, 0.5043, 0.5024], device='cuda:0',\n",
            "       grad_fn=<SigmoidBackward0>)\n"
          ]
        }
      ],
      "source": [
        "print(train_df_embedded['tweet'].iloc[0])\n",
        "print(train_df_embedded['tweet'].iloc[1])\n",
        "print(train_df_embedded['tweet'].iloc[4])\n",
        "print(nn.Sigmoid()(baseline_model(torch.tensor(train_df_embedded['padded_tweet'].iloc[:5], dtype=torch.float32).to(\"cuda\"))))\n",
        "print(nn.Sigmoid()(model_1(torch.tensor(train_df_embedded['padded_tweet'].iloc[:5], dtype=torch.float32).to(\"cuda\"))))"
      ]
    },
    {
      "cell_type": "markdown",
      "metadata": {
        "id": "CSy9sPwYHUoD"
      },
      "source": [
        "# [Task 6 - 1.0 points] Transformers\n",
        "\n",
        "In this section, you will use a transformer model specifically trained for hate speech detection, namely [Twitter-roBERTa-base for Hate Speech Detection](https://huggingface.co/cardiffnlp/twitter-roberta-base-hate).\n",
        "\n",
        "\n"
      ]
    },
    {
      "cell_type": "markdown",
      "metadata": {
        "collapsed": false,
        "id": "kn1wVAIflktP"
      },
      "source": [
        "### Relevant Material\n",
        "- Tutorial 3"
      ]
    },
    {
      "cell_type": "markdown",
      "metadata": {
        "collapsed": false,
        "id": "fpizAvvMlktP"
      },
      "source": [
        "### Instructions\n",
        "1. **Load the Tokenizer and Model**\n",
        "\n",
        "2. **Preprocess the Dataset**:\n",
        "   You will need to preprocess your dataset to prepare it for input into the model. Tokenize your text data using the appropriate tokenizer and ensure it is formatted correctly.\n",
        "\n",
        "   **Note**: You have to use the plain text of the dataset and not the version that you tokenized before, as you need to tokenize the cleaned text obtained after the initial cleaning process.\n",
        "\n",
        "3. **Train the Model**:\n",
        "   Use the `Trainer` to train the model on your training data.\n",
        "\n",
        "4. **Evaluate the Model on the Test Set** using F1-macro."
      ]
    },
    {
      "cell_type": "code",
      "source": [
        "!pip install datasets"
      ],
      "metadata": {
        "colab": {
          "base_uri": "https://localhost:8080/"
        },
        "id": "DifHst6CniYI",
        "outputId": "2b97b7f7-cfb7-4931-b7c9-79feee011365"
      },
      "execution_count": 21,
      "outputs": [
        {
          "output_type": "stream",
          "name": "stdout",
          "text": [
            "Collecting datasets\n",
            "  Downloading datasets-3.1.0-py3-none-any.whl.metadata (20 kB)\n",
            "Requirement already satisfied: filelock in /usr/local/lib/python3.10/dist-packages (from datasets) (3.16.1)\n",
            "Requirement already satisfied: numpy>=1.17 in /usr/local/lib/python3.10/dist-packages (from datasets) (1.26.4)\n",
            "Requirement already satisfied: pyarrow>=15.0.0 in /usr/local/lib/python3.10/dist-packages (from datasets) (17.0.0)\n",
            "Collecting dill<0.3.9,>=0.3.0 (from datasets)\n",
            "  Downloading dill-0.3.8-py3-none-any.whl.metadata (10 kB)\n",
            "Requirement already satisfied: pandas in /usr/local/lib/python3.10/dist-packages (from datasets) (2.2.2)\n",
            "Requirement already satisfied: requests>=2.32.2 in /usr/local/lib/python3.10/dist-packages (from datasets) (2.32.3)\n",
            "Requirement already satisfied: tqdm>=4.66.3 in /usr/local/lib/python3.10/dist-packages (from datasets) (4.66.6)\n",
            "Collecting xxhash (from datasets)\n",
            "  Downloading xxhash-3.5.0-cp310-cp310-manylinux_2_17_x86_64.manylinux2014_x86_64.whl.metadata (12 kB)\n",
            "Collecting multiprocess<0.70.17 (from datasets)\n",
            "  Downloading multiprocess-0.70.16-py310-none-any.whl.metadata (7.2 kB)\n",
            "Collecting fsspec<=2024.9.0,>=2023.1.0 (from fsspec[http]<=2024.9.0,>=2023.1.0->datasets)\n",
            "  Downloading fsspec-2024.9.0-py3-none-any.whl.metadata (11 kB)\n",
            "Requirement already satisfied: aiohttp in /usr/local/lib/python3.10/dist-packages (from datasets) (3.11.1)\n",
            "Requirement already satisfied: huggingface-hub>=0.23.0 in /usr/local/lib/python3.10/dist-packages (from datasets) (0.26.2)\n",
            "Requirement already satisfied: packaging in /usr/local/lib/python3.10/dist-packages (from datasets) (24.2)\n",
            "Requirement already satisfied: pyyaml>=5.1 in /usr/local/lib/python3.10/dist-packages (from datasets) (6.0.2)\n",
            "Requirement already satisfied: aiohappyeyeballs>=2.3.0 in /usr/local/lib/python3.10/dist-packages (from aiohttp->datasets) (2.4.3)\n",
            "Requirement already satisfied: aiosignal>=1.1.2 in /usr/local/lib/python3.10/dist-packages (from aiohttp->datasets) (1.3.1)\n",
            "Requirement already satisfied: attrs>=17.3.0 in /usr/local/lib/python3.10/dist-packages (from aiohttp->datasets) (24.2.0)\n",
            "Requirement already satisfied: frozenlist>=1.1.1 in /usr/local/lib/python3.10/dist-packages (from aiohttp->datasets) (1.5.0)\n",
            "Requirement already satisfied: multidict<7.0,>=4.5 in /usr/local/lib/python3.10/dist-packages (from aiohttp->datasets) (6.1.0)\n",
            "Requirement already satisfied: propcache>=0.2.0 in /usr/local/lib/python3.10/dist-packages (from aiohttp->datasets) (0.2.0)\n",
            "Requirement already satisfied: yarl<2.0,>=1.17.0 in /usr/local/lib/python3.10/dist-packages (from aiohttp->datasets) (1.17.1)\n",
            "Requirement already satisfied: async-timeout<6.0,>=4.0 in /usr/local/lib/python3.10/dist-packages (from aiohttp->datasets) (4.0.3)\n",
            "Requirement already satisfied: typing-extensions>=3.7.4.3 in /usr/local/lib/python3.10/dist-packages (from huggingface-hub>=0.23.0->datasets) (4.12.2)\n",
            "Requirement already satisfied: charset-normalizer<4,>=2 in /usr/local/lib/python3.10/dist-packages (from requests>=2.32.2->datasets) (3.4.0)\n",
            "Requirement already satisfied: idna<4,>=2.5 in /usr/local/lib/python3.10/dist-packages (from requests>=2.32.2->datasets) (3.10)\n",
            "Requirement already satisfied: urllib3<3,>=1.21.1 in /usr/local/lib/python3.10/dist-packages (from requests>=2.32.2->datasets) (2.2.3)\n",
            "Requirement already satisfied: certifi>=2017.4.17 in /usr/local/lib/python3.10/dist-packages (from requests>=2.32.2->datasets) (2024.8.30)\n",
            "Requirement already satisfied: python-dateutil>=2.8.2 in /usr/local/lib/python3.10/dist-packages (from pandas->datasets) (2.8.2)\n",
            "Requirement already satisfied: pytz>=2020.1 in /usr/local/lib/python3.10/dist-packages (from pandas->datasets) (2024.2)\n",
            "Requirement already satisfied: tzdata>=2022.7 in /usr/local/lib/python3.10/dist-packages (from pandas->datasets) (2024.2)\n",
            "Requirement already satisfied: six>=1.5 in /usr/local/lib/python3.10/dist-packages (from python-dateutil>=2.8.2->pandas->datasets) (1.16.0)\n",
            "Downloading datasets-3.1.0-py3-none-any.whl (480 kB)\n",
            "\u001b[2K   \u001b[90m━━━━━━━━━━━━━━━━━━━━━━━━━━━━━━━━━━━━━━━━\u001b[0m \u001b[32m480.6/480.6 kB\u001b[0m \u001b[31m10.1 MB/s\u001b[0m eta \u001b[36m0:00:00\u001b[0m\n",
            "\u001b[?25hDownloading dill-0.3.8-py3-none-any.whl (116 kB)\n",
            "\u001b[2K   \u001b[90m━━━━━━━━━━━━━━━━━━━━━━━━━━━━━━━━━━━━━━━━\u001b[0m \u001b[32m116.3/116.3 kB\u001b[0m \u001b[31m11.8 MB/s\u001b[0m eta \u001b[36m0:00:00\u001b[0m\n",
            "\u001b[?25hDownloading fsspec-2024.9.0-py3-none-any.whl (179 kB)\n",
            "\u001b[2K   \u001b[90m━━━━━━━━━━━━━━━━━━━━━━━━━━━━━━━━━━━━━━━━\u001b[0m \u001b[32m179.3/179.3 kB\u001b[0m \u001b[31m17.8 MB/s\u001b[0m eta \u001b[36m0:00:00\u001b[0m\n",
            "\u001b[?25hDownloading multiprocess-0.70.16-py310-none-any.whl (134 kB)\n",
            "\u001b[2K   \u001b[90m━━━━━━━━━━━━━━━━━━━━━━━━━━━━━━━━━━━━━━━━\u001b[0m \u001b[32m134.8/134.8 kB\u001b[0m \u001b[31m11.8 MB/s\u001b[0m eta \u001b[36m0:00:00\u001b[0m\n",
            "\u001b[?25hDownloading xxhash-3.5.0-cp310-cp310-manylinux_2_17_x86_64.manylinux2014_x86_64.whl (194 kB)\n",
            "\u001b[2K   \u001b[90m━━━━━━━━━━━━━━━━━━━━━━━━━━━━━━━━━━━━━━━━\u001b[0m \u001b[32m194.1/194.1 kB\u001b[0m \u001b[31m18.7 MB/s\u001b[0m eta \u001b[36m0:00:00\u001b[0m\n",
            "\u001b[?25hInstalling collected packages: xxhash, fsspec, dill, multiprocess, datasets\n",
            "  Attempting uninstall: fsspec\n",
            "    Found existing installation: fsspec 2024.10.0\n",
            "    Uninstalling fsspec-2024.10.0:\n",
            "      Successfully uninstalled fsspec-2024.10.0\n",
            "\u001b[31mERROR: pip's dependency resolver does not currently take into account all the packages that are installed. This behaviour is the source of the following dependency conflicts.\n",
            "gcsfs 2024.10.0 requires fsspec==2024.10.0, but you have fsspec 2024.9.0 which is incompatible.\u001b[0m\u001b[31m\n",
            "\u001b[0mSuccessfully installed datasets-3.1.0 dill-0.3.8 fsspec-2024.9.0 multiprocess-0.70.16 xxhash-3.5.0\n"
          ]
        }
      ]
    },
    {
      "cell_type": "code",
      "source": [
        "from transformers import AutoModelForSequenceClassification\n",
        "from transformers import TFAutoModelForSequenceClassification\n",
        "from transformers import AutoTokenizer\n",
        "import numpy as np\n",
        "from scipy.special import softmax\n",
        "import csv\n",
        "import urllib.request\n",
        "from datasets import Dataset\n",
        "from transformers import TrainingArguments\n",
        "from transformers import DataCollatorWithPadding\n",
        "from transformers import Trainer\n",
        "from sklearn.metrics import f1_score, accuracy_score"
      ],
      "metadata": {
        "id": "75zw2FfBq_0x"
      },
      "execution_count": 22,
      "outputs": []
    },
    {
      "cell_type": "code",
      "source": [
        "train_df = original_train_df.copy()\n",
        "validation_df = original_validation_df.copy()\n",
        "test_df = original_test_df.copy()"
      ],
      "metadata": {
        "id": "exLCL9oSzzbJ"
      },
      "execution_count": 26,
      "outputs": []
    },
    {
      "cell_type": "code",
      "source": [
        "# Preprocess text (username and link placeholders)\n",
        "def preprocess(text):\n",
        "    new_text = []\n",
        "    for t in text.split(\" \"):\n",
        "        t = '@user' if t.startswith('@') and len(t) > 1 else t\n",
        "        t = 'http' if t.startswith('http') else t\n",
        "        new_text.append(t)\n",
        "    return \" \".join(new_text)\n",
        "\n",
        "train_df['tweet'] = train_df['tweet'].apply(preprocess)\n",
        "validation_df['tweet'] = validation_df['tweet'].apply(preprocess)\n",
        "test_df['tweet'] = test_df['tweet'].apply(preprocess)\n",
        "train_df.head()"
      ],
      "metadata": {
        "colab": {
          "base_uri": "https://localhost:8080/",
          "height": 206
        },
        "id": "a8S0jzleyHcB",
        "outputId": "0b30fa5a-b482-4476-ea70-3adc36d2f993"
      },
      "execution_count": 27,
      "outputs": [
        {
          "output_type": "execute_result",
          "data": {
            "text/plain": [
              "       id_EXIST lang                                              tweet  \\\n",
              "200002   200002   en  Writing a uni essay in my local pub with a cof...   \n",
              "200003   200003   en  @user it is 2021 not 1921. I dont appreciate t...   \n",
              "200006   200006   en  According to a customer I have plenty of time ...   \n",
              "200007   200007   en  So only 'blokes' drink beer? Sorry, but if you...   \n",
              "200008   200008   en  New to the shelves this week - looking forward...   \n",
              "\n",
              "        hard_label_task1  \n",
              "200002                 1  \n",
              "200003                 1  \n",
              "200006                 1  \n",
              "200007                 1  \n",
              "200008                 0  "
            ],
            "text/html": [
              "\n",
              "  <div id=\"df-5bea7f81-ab1d-49d2-8c77-2df5a2776070\" class=\"colab-df-container\">\n",
              "    <div>\n",
              "<style scoped>\n",
              "    .dataframe tbody tr th:only-of-type {\n",
              "        vertical-align: middle;\n",
              "    }\n",
              "\n",
              "    .dataframe tbody tr th {\n",
              "        vertical-align: top;\n",
              "    }\n",
              "\n",
              "    .dataframe thead th {\n",
              "        text-align: right;\n",
              "    }\n",
              "</style>\n",
              "<table border=\"1\" class=\"dataframe\">\n",
              "  <thead>\n",
              "    <tr style=\"text-align: right;\">\n",
              "      <th></th>\n",
              "      <th>id_EXIST</th>\n",
              "      <th>lang</th>\n",
              "      <th>tweet</th>\n",
              "      <th>hard_label_task1</th>\n",
              "    </tr>\n",
              "  </thead>\n",
              "  <tbody>\n",
              "    <tr>\n",
              "      <th>200002</th>\n",
              "      <td>200002</td>\n",
              "      <td>en</td>\n",
              "      <td>Writing a uni essay in my local pub with a cof...</td>\n",
              "      <td>1</td>\n",
              "    </tr>\n",
              "    <tr>\n",
              "      <th>200003</th>\n",
              "      <td>200003</td>\n",
              "      <td>en</td>\n",
              "      <td>@user it is 2021 not 1921. I dont appreciate t...</td>\n",
              "      <td>1</td>\n",
              "    </tr>\n",
              "    <tr>\n",
              "      <th>200006</th>\n",
              "      <td>200006</td>\n",
              "      <td>en</td>\n",
              "      <td>According to a customer I have plenty of time ...</td>\n",
              "      <td>1</td>\n",
              "    </tr>\n",
              "    <tr>\n",
              "      <th>200007</th>\n",
              "      <td>200007</td>\n",
              "      <td>en</td>\n",
              "      <td>So only 'blokes' drink beer? Sorry, but if you...</td>\n",
              "      <td>1</td>\n",
              "    </tr>\n",
              "    <tr>\n",
              "      <th>200008</th>\n",
              "      <td>200008</td>\n",
              "      <td>en</td>\n",
              "      <td>New to the shelves this week - looking forward...</td>\n",
              "      <td>0</td>\n",
              "    </tr>\n",
              "  </tbody>\n",
              "</table>\n",
              "</div>\n",
              "    <div class=\"colab-df-buttons\">\n",
              "\n",
              "  <div class=\"colab-df-container\">\n",
              "    <button class=\"colab-df-convert\" onclick=\"convertToInteractive('df-5bea7f81-ab1d-49d2-8c77-2df5a2776070')\"\n",
              "            title=\"Convert this dataframe to an interactive table.\"\n",
              "            style=\"display:none;\">\n",
              "\n",
              "  <svg xmlns=\"http://www.w3.org/2000/svg\" height=\"24px\" viewBox=\"0 -960 960 960\">\n",
              "    <path d=\"M120-120v-720h720v720H120Zm60-500h600v-160H180v160Zm220 220h160v-160H400v160Zm0 220h160v-160H400v160ZM180-400h160v-160H180v160Zm440 0h160v-160H620v160ZM180-180h160v-160H180v160Zm440 0h160v-160H620v160Z\"/>\n",
              "  </svg>\n",
              "    </button>\n",
              "\n",
              "  <style>\n",
              "    .colab-df-container {\n",
              "      display:flex;\n",
              "      gap: 12px;\n",
              "    }\n",
              "\n",
              "    .colab-df-convert {\n",
              "      background-color: #E8F0FE;\n",
              "      border: none;\n",
              "      border-radius: 50%;\n",
              "      cursor: pointer;\n",
              "      display: none;\n",
              "      fill: #1967D2;\n",
              "      height: 32px;\n",
              "      padding: 0 0 0 0;\n",
              "      width: 32px;\n",
              "    }\n",
              "\n",
              "    .colab-df-convert:hover {\n",
              "      background-color: #E2EBFA;\n",
              "      box-shadow: 0px 1px 2px rgba(60, 64, 67, 0.3), 0px 1px 3px 1px rgba(60, 64, 67, 0.15);\n",
              "      fill: #174EA6;\n",
              "    }\n",
              "\n",
              "    .colab-df-buttons div {\n",
              "      margin-bottom: 4px;\n",
              "    }\n",
              "\n",
              "    [theme=dark] .colab-df-convert {\n",
              "      background-color: #3B4455;\n",
              "      fill: #D2E3FC;\n",
              "    }\n",
              "\n",
              "    [theme=dark] .colab-df-convert:hover {\n",
              "      background-color: #434B5C;\n",
              "      box-shadow: 0px 1px 3px 1px rgba(0, 0, 0, 0.15);\n",
              "      filter: drop-shadow(0px 1px 2px rgba(0, 0, 0, 0.3));\n",
              "      fill: #FFFFFF;\n",
              "    }\n",
              "  </style>\n",
              "\n",
              "    <script>\n",
              "      const buttonEl =\n",
              "        document.querySelector('#df-5bea7f81-ab1d-49d2-8c77-2df5a2776070 button.colab-df-convert');\n",
              "      buttonEl.style.display =\n",
              "        google.colab.kernel.accessAllowed ? 'block' : 'none';\n",
              "\n",
              "      async function convertToInteractive(key) {\n",
              "        const element = document.querySelector('#df-5bea7f81-ab1d-49d2-8c77-2df5a2776070');\n",
              "        const dataTable =\n",
              "          await google.colab.kernel.invokeFunction('convertToInteractive',\n",
              "                                                    [key], {});\n",
              "        if (!dataTable) return;\n",
              "\n",
              "        const docLinkHtml = 'Like what you see? Visit the ' +\n",
              "          '<a target=\"_blank\" href=https://colab.research.google.com/notebooks/data_table.ipynb>data table notebook</a>'\n",
              "          + ' to learn more about interactive tables.';\n",
              "        element.innerHTML = '';\n",
              "        dataTable['output_type'] = 'display_data';\n",
              "        await google.colab.output.renderOutput(dataTable, element);\n",
              "        const docLink = document.createElement('div');\n",
              "        docLink.innerHTML = docLinkHtml;\n",
              "        element.appendChild(docLink);\n",
              "      }\n",
              "    </script>\n",
              "  </div>\n",
              "\n",
              "\n",
              "<div id=\"df-91e115db-c25b-4286-a195-58df716c4791\">\n",
              "  <button class=\"colab-df-quickchart\" onclick=\"quickchart('df-91e115db-c25b-4286-a195-58df716c4791')\"\n",
              "            title=\"Suggest charts\"\n",
              "            style=\"display:none;\">\n",
              "\n",
              "<svg xmlns=\"http://www.w3.org/2000/svg\" height=\"24px\"viewBox=\"0 0 24 24\"\n",
              "     width=\"24px\">\n",
              "    <g>\n",
              "        <path d=\"M19 3H5c-1.1 0-2 .9-2 2v14c0 1.1.9 2 2 2h14c1.1 0 2-.9 2-2V5c0-1.1-.9-2-2-2zM9 17H7v-7h2v7zm4 0h-2V7h2v10zm4 0h-2v-4h2v4z\"/>\n",
              "    </g>\n",
              "</svg>\n",
              "  </button>\n",
              "\n",
              "<style>\n",
              "  .colab-df-quickchart {\n",
              "      --bg-color: #E8F0FE;\n",
              "      --fill-color: #1967D2;\n",
              "      --hover-bg-color: #E2EBFA;\n",
              "      --hover-fill-color: #174EA6;\n",
              "      --disabled-fill-color: #AAA;\n",
              "      --disabled-bg-color: #DDD;\n",
              "  }\n",
              "\n",
              "  [theme=dark] .colab-df-quickchart {\n",
              "      --bg-color: #3B4455;\n",
              "      --fill-color: #D2E3FC;\n",
              "      --hover-bg-color: #434B5C;\n",
              "      --hover-fill-color: #FFFFFF;\n",
              "      --disabled-bg-color: #3B4455;\n",
              "      --disabled-fill-color: #666;\n",
              "  }\n",
              "\n",
              "  .colab-df-quickchart {\n",
              "    background-color: var(--bg-color);\n",
              "    border: none;\n",
              "    border-radius: 50%;\n",
              "    cursor: pointer;\n",
              "    display: none;\n",
              "    fill: var(--fill-color);\n",
              "    height: 32px;\n",
              "    padding: 0;\n",
              "    width: 32px;\n",
              "  }\n",
              "\n",
              "  .colab-df-quickchart:hover {\n",
              "    background-color: var(--hover-bg-color);\n",
              "    box-shadow: 0 1px 2px rgba(60, 64, 67, 0.3), 0 1px 3px 1px rgba(60, 64, 67, 0.15);\n",
              "    fill: var(--button-hover-fill-color);\n",
              "  }\n",
              "\n",
              "  .colab-df-quickchart-complete:disabled,\n",
              "  .colab-df-quickchart-complete:disabled:hover {\n",
              "    background-color: var(--disabled-bg-color);\n",
              "    fill: var(--disabled-fill-color);\n",
              "    box-shadow: none;\n",
              "  }\n",
              "\n",
              "  .colab-df-spinner {\n",
              "    border: 2px solid var(--fill-color);\n",
              "    border-color: transparent;\n",
              "    border-bottom-color: var(--fill-color);\n",
              "    animation:\n",
              "      spin 1s steps(1) infinite;\n",
              "  }\n",
              "\n",
              "  @keyframes spin {\n",
              "    0% {\n",
              "      border-color: transparent;\n",
              "      border-bottom-color: var(--fill-color);\n",
              "      border-left-color: var(--fill-color);\n",
              "    }\n",
              "    20% {\n",
              "      border-color: transparent;\n",
              "      border-left-color: var(--fill-color);\n",
              "      border-top-color: var(--fill-color);\n",
              "    }\n",
              "    30% {\n",
              "      border-color: transparent;\n",
              "      border-left-color: var(--fill-color);\n",
              "      border-top-color: var(--fill-color);\n",
              "      border-right-color: var(--fill-color);\n",
              "    }\n",
              "    40% {\n",
              "      border-color: transparent;\n",
              "      border-right-color: var(--fill-color);\n",
              "      border-top-color: var(--fill-color);\n",
              "    }\n",
              "    60% {\n",
              "      border-color: transparent;\n",
              "      border-right-color: var(--fill-color);\n",
              "    }\n",
              "    80% {\n",
              "      border-color: transparent;\n",
              "      border-right-color: var(--fill-color);\n",
              "      border-bottom-color: var(--fill-color);\n",
              "    }\n",
              "    90% {\n",
              "      border-color: transparent;\n",
              "      border-bottom-color: var(--fill-color);\n",
              "    }\n",
              "  }\n",
              "</style>\n",
              "\n",
              "  <script>\n",
              "    async function quickchart(key) {\n",
              "      const quickchartButtonEl =\n",
              "        document.querySelector('#' + key + ' button');\n",
              "      quickchartButtonEl.disabled = true;  // To prevent multiple clicks.\n",
              "      quickchartButtonEl.classList.add('colab-df-spinner');\n",
              "      try {\n",
              "        const charts = await google.colab.kernel.invokeFunction(\n",
              "            'suggestCharts', [key], {});\n",
              "      } catch (error) {\n",
              "        console.error('Error during call to suggestCharts:', error);\n",
              "      }\n",
              "      quickchartButtonEl.classList.remove('colab-df-spinner');\n",
              "      quickchartButtonEl.classList.add('colab-df-quickchart-complete');\n",
              "    }\n",
              "    (() => {\n",
              "      let quickchartButtonEl =\n",
              "        document.querySelector('#df-91e115db-c25b-4286-a195-58df716c4791 button');\n",
              "      quickchartButtonEl.style.display =\n",
              "        google.colab.kernel.accessAllowed ? 'block' : 'none';\n",
              "    })();\n",
              "  </script>\n",
              "</div>\n",
              "\n",
              "    </div>\n",
              "  </div>\n"
            ],
            "application/vnd.google.colaboratory.intrinsic+json": {
              "type": "dataframe",
              "variable_name": "train_df",
              "summary": "{\n  \"name\": \"train_df\",\n  \"rows\": 2870,\n  \"fields\": [\n    {\n      \"column\": \"id_EXIST\",\n      \"properties\": {\n        \"dtype\": \"string\",\n        \"num_unique_values\": 2870,\n        \"samples\": [\n          \"200504\",\n          \"202694\",\n          \"200852\"\n        ],\n        \"semantic_type\": \"\",\n        \"description\": \"\"\n      }\n    },\n    {\n      \"column\": \"lang\",\n      \"properties\": {\n        \"dtype\": \"category\",\n        \"num_unique_values\": 1,\n        \"samples\": [\n          \"en\"\n        ],\n        \"semantic_type\": \"\",\n        \"description\": \"\"\n      }\n    },\n    {\n      \"column\": \"tweet\",\n      \"properties\": {\n        \"dtype\": \"string\",\n        \"num_unique_values\": 2868,\n        \"samples\": [\n          \"Call me sexist but it just feels wrong that women are reffing the NBA like go ref the WNBA\\ud83d\\ude2c\"\n        ],\n        \"semantic_type\": \"\",\n        \"description\": \"\"\n      }\n    },\n    {\n      \"column\": \"hard_label_task1\",\n      \"properties\": {\n        \"dtype\": \"number\",\n        \"std\": 0,\n        \"min\": 0,\n        \"max\": 1,\n        \"num_unique_values\": 2,\n        \"samples\": [\n          0\n        ],\n        \"semantic_type\": \"\",\n        \"description\": \"\"\n      }\n    }\n  ]\n}"
            }
          },
          "metadata": {},
          "execution_count": 27
        }
      ]
    },
    {
      "cell_type": "code",
      "source": [
        "task='hate'\n",
        "MODEL = f\"cardiffnlp/twitter-roberta-base-{task}\"\n",
        "\n",
        "tokenizer = AutoTokenizer.from_pretrained(MODEL)\n",
        "\n",
        "model = AutoModelForSequenceClassification.from_pretrained(MODEL)\n",
        "model.save_pretrained(MODEL)"
      ],
      "metadata": {
        "id": "0hOhmU-B4pLZ"
      },
      "execution_count": 30,
      "outputs": []
    },
    {
      "cell_type": "code",
      "source": [
        "def preprocess_text(texts):\n",
        "    return tokenizer(texts['tweet'], truncation=True)\n",
        "\n",
        "train_data = Dataset.from_pandas(train_df)\n",
        "validation_data = Dataset.from_pandas(validation_df)\n",
        "test_data = Dataset.from_pandas(test_df)\n",
        "\n",
        "train_data = train_data.map(preprocess_text, batched=True)\n",
        "validation_data = validation_data.map(preprocess_text, batched=True)\n",
        "test_data = test_data.map(preprocess_text, batched=True)\n",
        "train_data"
      ],
      "metadata": {
        "colab": {
          "base_uri": "https://localhost:8080/",
          "height": 202,
          "referenced_widgets": [
            "15c1d63f4c77433ba9c755c3d7669a09",
            "dab4140576af47dead0be906b94ed5d3",
            "93e1ecbd95eb47e5a017a3358f948933",
            "ee99c5b7c35146d0952d44eb56adfe45",
            "0715036116eb41ba97100ec9af0edcf5",
            "2e8007d6ecaa46f5a48d524ea37745eb",
            "69f9355959b04282a29370615320b4f7",
            "1de674254b1f4e61a5797a2a5374d3ff",
            "65cbb2c235c94ffda01b711331becd93",
            "03aea5a0032a4b3ebd6f816c54119822",
            "7c244ca4c8164c63a1a4a5835cc0d75c",
            "ba012e68b81144b5ba0c2b78386e7463",
            "1df74724b2604a5395333cc72e1e4381",
            "4dc1c99399f6407d8e0baf9f512f0bbd",
            "d6bba01c60484640997615474132b26e",
            "b80ce40da9ec4ec58e635b4b4fc3ba9e",
            "7596b6b95ece411aa744a5440375d320",
            "4d94d8ab3aa04d078a16a88dc7dca26c",
            "a9f6e1544c5b43159d9b6419cbe4687a",
            "49131f1022964e18833ce9ded9b003c0",
            "a4ef76a8d43240aa84faddfac9ec95ab",
            "c89bbc66578c4d09b664868a0f77bd1a",
            "fbd56bcb73f84cd7bb67fff10b030b48",
            "f79961e12d434d45a141bba083ed2c03",
            "6d79f41922c444c2a31073d5ad6d9c3c",
            "9b3a16d9e3c54ab5bef49a036e37015d",
            "ac6f9d12f4144e27a2f76118dfe8a704",
            "57477fa58b714bb5852e5d390df837b5",
            "861dd082d7e84a74a97db572072f3b15",
            "46cd5e39e82e44089a1cc83bee05d4ab",
            "52aaffb5414745f6aec701941ba2b048",
            "63151bf931ad4c2686a2985bdcddd168",
            "34da3db34d164978a130fea8e708b44c"
          ]
        },
        "id": "oJjElDxO1MPf",
        "outputId": "4864f615-6569-40c3-b824-e8f6801ddf1f"
      },
      "execution_count": 31,
      "outputs": [
        {
          "output_type": "display_data",
          "data": {
            "text/plain": [
              "Map:   0%|          | 0/2870 [00:00<?, ? examples/s]"
            ],
            "application/vnd.jupyter.widget-view+json": {
              "version_major": 2,
              "version_minor": 0,
              "model_id": "15c1d63f4c77433ba9c755c3d7669a09"
            }
          },
          "metadata": {}
        },
        {
          "output_type": "stream",
          "name": "stderr",
          "text": [
            "Asking to truncate to max_length but no maximum length is provided and the model has no predefined maximum length. Default to no truncation.\n"
          ]
        },
        {
          "output_type": "display_data",
          "data": {
            "text/plain": [
              "Map:   0%|          | 0/158 [00:00<?, ? examples/s]"
            ],
            "application/vnd.jupyter.widget-view+json": {
              "version_major": 2,
              "version_minor": 0,
              "model_id": "ba012e68b81144b5ba0c2b78386e7463"
            }
          },
          "metadata": {}
        },
        {
          "output_type": "display_data",
          "data": {
            "text/plain": [
              "Map:   0%|          | 0/286 [00:00<?, ? examples/s]"
            ],
            "application/vnd.jupyter.widget-view+json": {
              "version_major": 2,
              "version_minor": 0,
              "model_id": "fbd56bcb73f84cd7bb67fff10b030b48"
            }
          },
          "metadata": {}
        },
        {
          "output_type": "execute_result",
          "data": {
            "text/plain": [
              "Dataset({\n",
              "    features: ['id_EXIST', 'lang', 'tweet', 'hard_label_task1', '__index_level_0__', 'input_ids', 'attention_mask'],\n",
              "    num_rows: 2870\n",
              "})"
            ]
          },
          "metadata": {},
          "execution_count": 31
        }
      ]
    },
    {
      "cell_type": "code",
      "source": [
        "train_data = train_data.rename_column('hard_label_task1', 'label')\n",
        "validation_data = validation_data.rename_column('hard_label_task1', 'label')\n",
        "test_data = test_data.rename_column('hard_label_task1', 'label')"
      ],
      "metadata": {
        "id": "HL8Yo5GWpDx1"
      },
      "execution_count": 32,
      "outputs": []
    },
    {
      "cell_type": "code",
      "source": [
        "data_collator = DataCollatorWithPadding(tokenizer=tokenizer)"
      ],
      "metadata": {
        "id": "8BgIGHgpn8UK"
      },
      "execution_count": 33,
      "outputs": []
    },
    {
      "cell_type": "code",
      "source": [
        "training_args = TrainingArguments(\n",
        "    output_dir=\"test_dir\",                 # where to save model\n",
        "    learning_rate=2e-5,\n",
        "    per_device_train_batch_size=4,         # accelerate defines distributed training\n",
        "    per_device_eval_batch_size=8,\n",
        "    num_train_epochs=10,\n",
        "    weight_decay=0.02,\n",
        "    evaluation_strategy=\"epoch\",           # when to report evaluation metrics/losses\n",
        "    save_strategy=\"epoch\",                 # when to save checkpoint\n",
        "    load_best_model_at_end=True,\n",
        "    report_to='none'                       # disabling wandb (default)\n",
        ")"
      ],
      "metadata": {
        "id": "mMZgRRsxodiB"
      },
      "execution_count": 34,
      "outputs": []
    },
    {
      "cell_type": "code",
      "source": [
        "def compute_metrics(output_info):\n",
        "    predictions, labels = output_info\n",
        "    predictions = np.argmax(predictions, axis=-1)\n",
        "\n",
        "    f1 = f1_score(y_pred=predictions, y_true=labels, average='macro')\n",
        "    acc = accuracy_score(y_pred=predictions, y_true=labels)\n",
        "    return {'f1': f1, 'acc': acc}"
      ],
      "metadata": {
        "id": "SyN7m0aCouDW"
      },
      "execution_count": 35,
      "outputs": []
    },
    {
      "cell_type": "code",
      "source": [
        "trainer = Trainer(\n",
        "    model=model,\n",
        "    args=training_args,\n",
        "    train_dataset=train_data,\n",
        "    eval_dataset=validation_data,\n",
        "    tokenizer=tokenizer,\n",
        "    data_collator=data_collator,\n",
        "    compute_metrics=compute_metrics,\n",
        ")"
      ],
      "metadata": {
        "id": "1TXImfWfofVM"
      },
      "execution_count": 36,
      "outputs": []
    },
    {
      "cell_type": "code",
      "source": [
        "trainer.train()"
      ],
      "metadata": {
        "id": "BYxC-Oxj6usD",
        "colab": {
          "base_uri": "https://localhost:8080/",
          "height": 425
        },
        "outputId": "0caf298d-b559-4628-9716-85c768ff8e81"
      },
      "execution_count": 37,
      "outputs": [
        {
          "output_type": "display_data",
          "data": {
            "text/plain": [
              "<IPython.core.display.HTML object>"
            ],
            "text/html": [
              "\n",
              "    <div>\n",
              "      \n",
              "      <progress value='7180' max='7180' style='width:300px; height:20px; vertical-align: middle;'></progress>\n",
              "      [7180/7180 16:31, Epoch 10/10]\n",
              "    </div>\n",
              "    <table border=\"1\" class=\"dataframe\">\n",
              "  <thead>\n",
              " <tr style=\"text-align: left;\">\n",
              "      <th>Epoch</th>\n",
              "      <th>Training Loss</th>\n",
              "      <th>Validation Loss</th>\n",
              "      <th>F1</th>\n",
              "      <th>Acc</th>\n",
              "    </tr>\n",
              "  </thead>\n",
              "  <tbody>\n",
              "    <tr>\n",
              "      <td>1</td>\n",
              "      <td>0.552000</td>\n",
              "      <td>0.375171</td>\n",
              "      <td>0.871753</td>\n",
              "      <td>0.873418</td>\n",
              "    </tr>\n",
              "    <tr>\n",
              "      <td>2</td>\n",
              "      <td>0.440500</td>\n",
              "      <td>0.799069</td>\n",
              "      <td>0.830348</td>\n",
              "      <td>0.841772</td>\n",
              "    </tr>\n",
              "    <tr>\n",
              "      <td>3</td>\n",
              "      <td>0.227300</td>\n",
              "      <td>0.546418</td>\n",
              "      <td>0.877143</td>\n",
              "      <td>0.879747</td>\n",
              "    </tr>\n",
              "    <tr>\n",
              "      <td>4</td>\n",
              "      <td>0.134400</td>\n",
              "      <td>0.946963</td>\n",
              "      <td>0.853135</td>\n",
              "      <td>0.860759</td>\n",
              "    </tr>\n",
              "    <tr>\n",
              "      <td>5</td>\n",
              "      <td>0.057200</td>\n",
              "      <td>0.964502</td>\n",
              "      <td>0.869895</td>\n",
              "      <td>0.873418</td>\n",
              "    </tr>\n",
              "    <tr>\n",
              "      <td>6</td>\n",
              "      <td>0.040000</td>\n",
              "      <td>0.918422</td>\n",
              "      <td>0.889642</td>\n",
              "      <td>0.892405</td>\n",
              "    </tr>\n",
              "    <tr>\n",
              "      <td>7</td>\n",
              "      <td>0.016400</td>\n",
              "      <td>0.897164</td>\n",
              "      <td>0.895916</td>\n",
              "      <td>0.898734</td>\n",
              "    </tr>\n",
              "    <tr>\n",
              "      <td>8</td>\n",
              "      <td>0.003800</td>\n",
              "      <td>1.237431</td>\n",
              "      <td>0.865646</td>\n",
              "      <td>0.873418</td>\n",
              "    </tr>\n",
              "    <tr>\n",
              "      <td>9</td>\n",
              "      <td>0.011600</td>\n",
              "      <td>1.074705</td>\n",
              "      <td>0.888654</td>\n",
              "      <td>0.892405</td>\n",
              "    </tr>\n",
              "    <tr>\n",
              "      <td>10</td>\n",
              "      <td>0.001300</td>\n",
              "      <td>1.072583</td>\n",
              "      <td>0.888654</td>\n",
              "      <td>0.892405</td>\n",
              "    </tr>\n",
              "  </tbody>\n",
              "</table><p>"
            ]
          },
          "metadata": {}
        },
        {
          "output_type": "execute_result",
          "data": {
            "text/plain": [
              "TrainOutput(global_step=7180, training_loss=0.13789719546662546, metrics={'train_runtime': 994.3996, 'train_samples_per_second': 28.862, 'train_steps_per_second': 7.22, 'total_flos': 956250408489360.0, 'train_loss': 0.13789719546662546, 'epoch': 10.0})"
            ]
          },
          "metadata": {},
          "execution_count": 37
        }
      ]
    },
    {
      "cell_type": "code",
      "source": [
        "test_prediction_info = trainer.predict(test_data)\n",
        "test_predictions, test_labels = test_prediction_info.predictions, test_prediction_info.label_ids\n",
        "\n",
        "print(test_predictions.shape)\n",
        "print(test_labels.shape)"
      ],
      "metadata": {
        "colab": {
          "base_uri": "https://localhost:8080/",
          "height": 53
        },
        "id": "IttiBDUOqCOf",
        "outputId": "b0ec32e0-f3b0-4c7e-a737-40ca9ef84120"
      },
      "execution_count": 38,
      "outputs": [
        {
          "output_type": "display_data",
          "data": {
            "text/plain": [
              "<IPython.core.display.HTML object>"
            ],
            "text/html": []
          },
          "metadata": {}
        },
        {
          "output_type": "stream",
          "name": "stdout",
          "text": [
            "(286, 2)\n",
            "(286,)\n"
          ]
        }
      ]
    },
    {
      "cell_type": "code",
      "source": [
        "test_metrics = compute_metrics([test_predictions, test_labels])\n",
        "print(test_metrics)"
      ],
      "metadata": {
        "colab": {
          "base_uri": "https://localhost:8080/"
        },
        "id": "ZWGVCWBIqGrG",
        "outputId": "743f82bf-aa20-4737-91ed-522a53705779"
      },
      "execution_count": 39,
      "outputs": [
        {
          "output_type": "stream",
          "name": "stdout",
          "text": [
            "{'f1': 0.8216586988152151, 'acc': 0.8216783216783217}\n"
          ]
        }
      ]
    },
    {
      "cell_type": "markdown",
      "source": [
        "# COSE DA FARE"
      ],
      "metadata": {
        "id": "HxgQ8lX2HHsg"
      }
    },
    {
      "cell_type": "markdown",
      "source": [
        " ### ERROR ANALYSIS\n",
        " FAQ: <br>\n",
        " Some topics for discussion include:\n",
        "   * Precision/Recall curves.\n",
        "   * Confusion matrices.\n",
        "   * Specific misclassified samples.\n",
        "\n",
        "NOSTRE: <br>\n",
        " * Nelle frasi sbagliate, printare la frase con i token che non sono nel vocabolario colorati di rosso.\n",
        " * Controllo delle distribuzioni del dataset (bilanciato?)\n",
        " * Discutere gli errori comuni e le performance\n",
        "\n",
        "\n",
        " ### IDEE EXTRA\n",
        "  * Usare embedding trainabili invece di globe\n",
        "  * Mantenere le emojy e hashtag nel testo dei tweet\n",
        "  * Usare tokenizer nel primo task\n"
      ],
      "metadata": {
        "id": "FzZoydiDFX2V"
      }
    },
    {
      "cell_type": "markdown",
      "metadata": {
        "id": "3gtiG2mAL3HM"
      },
      "source": [
        "# [Task 7 - 0.5 points] Error Analysis\n",
        "\n",
        "### Instructions\n",
        "\n",
        "After evaluating the model, perform a brief error analysis:\n",
        "\n",
        " - Review the results and identify common errors.\n",
        "\n",
        " - Summarize your findings regarding the errors and their impact on performance (e.g. but not limited to Out-of-Vocabulary (OOV) words, data imbalance, and performance differences between the custom model and the transformer...)\n",
        " - Suggest possible solutions to address the identified errors.\n",
        "\n"
      ]
    },
    {
      "cell_type": "markdown",
      "source": [
        "#### Start with an analysis of the dataset to see the data"
      ],
      "metadata": {
        "id": "f67A2JytIxfl"
      }
    },
    {
      "cell_type": "code",
      "source": [
        "# Importing necessary libraries\n",
        "import pandas as pd\n",
        "import matplotlib.pyplot as plt\n",
        "import seaborn as sns\n",
        "from wordcloud import WordCloud\n",
        "import nltk\n",
        "from nltk.corpus import stopwords\n",
        "from nltk.tokenize import word_tokenize\n",
        "import string\n",
        "\n",
        "# Download NLTK stopwords\n",
        "nltk.download('stopwords')\n",
        "nltk.download('punkt')"
      ],
      "metadata": {
        "id": "nRydeMq6MWFi",
        "colab": {
          "base_uri": "https://localhost:8080/"
        },
        "outputId": "6331fb04-60d1-4d2b-b021-af3cbcfa4697"
      },
      "execution_count": 40,
      "outputs": [
        {
          "output_type": "stream",
          "name": "stderr",
          "text": [
            "[nltk_data] Downloading package stopwords to /root/nltk_data...\n",
            "[nltk_data]   Package stopwords is already up-to-date!\n",
            "[nltk_data] Downloading package punkt to /root/nltk_data...\n",
            "[nltk_data]   Package punkt is already up-to-date!\n"
          ]
        },
        {
          "output_type": "execute_result",
          "data": {
            "text/plain": [
              "True"
            ]
          },
          "metadata": {},
          "execution_count": 40
        }
      ]
    },
    {
      "cell_type": "markdown",
      "source": [
        "FARE LA CELLA SUCCESSSIVA PER TUTTI E 3 I DATASET"
      ],
      "metadata": {
        "id": "qdDpVQcsQ-r0"
      }
    },
    {
      "cell_type": "code",
      "source": [
        "data = train_df\n",
        "data_val = validation_df\n",
        "data_test = test_df\n",
        "# Load the dataset (replace 'your_dataset.csv' with the actual file name)\n",
        "# The dataset should have at least two columns: 'tweet' and 'label'\n",
        "data = data.rename(columns={'hard_label_task1': 'label'})\n",
        "data_val = data_val.rename(columns={'hard_label_task1': 'label'})\n",
        "data_test = data_test.rename(columns={'hard_label_task1': 'label'})\n",
        "\n",
        "\n",
        "# Ensure the dataset has the required columns\n",
        "assert 'tweet' in data.columns and 'label' in data.columns, \"Dataset must have 'tweet' and 'label' columns\"\n",
        "\n",
        "# Basic Statistics\n",
        "print(\"\\nLabel Distribution\")\n",
        "print(data['label'].value_counts())\n",
        "\n",
        "# 1. Label Distribution\n",
        "plt.figure(figsize=(8, 6))\n",
        "sns.countplot(data=data, x='label', palette='coolwarm')\n",
        "plt.title('Distribution of Labels')\n",
        "plt.xlabel('Label')\n",
        "plt.ylabel('Count')\n",
        "plt.show()"
      ],
      "metadata": {
        "colab": {
          "base_uri": "https://localhost:8080/",
          "height": 671
        },
        "id": "a6yrItmqMXuf",
        "outputId": "3f4a29bd-5ee9-4390-f15e-d39db452da09"
      },
      "execution_count": 41,
      "outputs": [
        {
          "output_type": "stream",
          "name": "stdout",
          "text": [
            "\n",
            "Label Distribution\n",
            "label\n",
            "0    1733\n",
            "1    1137\n",
            "Name: count, dtype: int64\n"
          ]
        },
        {
          "output_type": "display_data",
          "data": {
            "text/plain": [
              "<Figure size 800x600 with 1 Axes>"
            ],
            "image/png": "[encoded data removed]"
          },
          "metadata": {}
        }
      ]
    },
    {
      "cell_type": "code",
      "source": [
        "# 2. Text Length Analysis\n",
        "def plot_distr_tweet_len(data_list, labels):\n",
        "    \"\"\"\n",
        "    Plots the distribution of tweet lengths for multiple datasets with consistent x and y axis ranges.\n",
        "\n",
        "    Parameters:\n",
        "        data_list (list of pd.DataFrame): List of datasets to plot.\n",
        "        labels (list of str): List of labels for the datasets (used for plot titles).\n",
        "    \"\"\"\n",
        "    # Calculate tweet lengths for all datasets\n",
        "    for data in data_list:\n",
        "        data['tweet_length'] = data['tweet'].apply(len)\n",
        "\n",
        "    # Determine global x and y axis limits\n",
        "    all_lengths = pd.concat([data['tweet_length'] for data in data_list])\n",
        "    x_min, x_max = all_lengths.min(), all_lengths.max()\n",
        "\n",
        "    max_y = 0\n",
        "    for data in data_list:\n",
        "        _, bins = np.histogram(data['tweet_length'], bins=30, range=(x_min, x_max))\n",
        "        max_y = max(max_y, np.histogram(data['tweet_length'], bins=bins)[0].max())\n",
        "\n",
        "    # Plot each dataset with consistent axes\n",
        "    for i, data in enumerate(data_list):\n",
        "        plt.figure(figsize=(10, 6))\n",
        "        sns.histplot(data, x='tweet_length', hue='label', bins=30, kde=True, palette='coolwarm')\n",
        "        plt.title(f'Distribution of Tweet Lengths - {labels[i]}')\n",
        "        plt.xlabel('Tweet Length')\n",
        "        plt.ylabel('Frequency')\n",
        "        plt.xlim(x_min, x_max)\n",
        "        plt.ylim(0, max_y + 5)  # Add a small margin for clarity\n",
        "        plt.show()\n",
        "\n",
        "# Example Usage\n",
        "plot_distr_tweet_len([data, data_val, data_test], labels=['Training Set', 'Validation Set', 'Test Set'])\n"
      ],
      "metadata": {
        "colab": {
          "base_uri": "https://localhost:8080/",
          "height": 1000
        },
        "id": "hpW5LynsMiBz",
        "outputId": "8a3692cf-2c4e-4711-8cac-8cd972c6520a"
      },
      "execution_count": 42,
      "outputs": [
        {
          "output_type": "display_data",
          "data": {
            "text/plain": [
              "<Figure size 1000x600 with 1 Axes>"
            ],
            "image/png": "[encoded data removed]"
          },
          "metadata": {}
        },
        {
          "output_type": "display_data",
          "data": {
            "text/plain": [
              "<Figure size 1000x600 with 1 Axes>"
            ],
            "image/png": "[encoded data removed]"
          },
          "metadata": {}
        },
        {
          "output_type": "display_data",
          "data": {
            "text/plain": [
              "<Figure size 1000x600 with 1 Axes>"
            ],
            "image/png": "[encoded data removed]"
          },
          "metadata": {}
        }
      ]
    },
    {
      "cell_type": "code",
      "source": [
        "def analyze_top_words_by_label(data, text_column='tweet', label_column='label', n_top_words=20, exluded_words={}):\n",
        "    \"\"\"\n",
        "    Analyze and visualize the top words for each label in a dataset.\n",
        "\n",
        "    Parameters:\n",
        "        data (pd.DataFrame): The input DataFrame containing text and labels.\n",
        "        text_column (str): The name of the column containing the text data.\n",
        "        label_column (str): The name of the column containing the label data.\n",
        "        n_top_words (int): The number of top words to display per label.\n",
        "    \"\"\"\n",
        "    # Ensure the input data has the required columns\n",
        "    if text_column not in data.columns or label_column not in data.columns:\n",
        "        raise ValueError(f\"Dataframe must contain '{text_column}' and '{label_column}' columns.\")\n",
        "\n",
        "    # Define stop words\n",
        "    stop_words = set(stopwords.words('english') + list(string.punctuation) + list(exclude_words))\n",
        "\n",
        "    # Preprocessing function\n",
        "    def preprocess_text(text):\n",
        "        tokens = word_tokenize(text.lower())\n",
        "        filtered_words = [word for word in tokens if word not in stop_words and word.isalnum()]\n",
        "        return ' '.join(filtered_words)\n",
        "\n",
        "    # Apply preprocessing to the text column\n",
        "    data['cleaned_text'] = data[text_column].apply(preprocess_text)\n",
        "\n",
        "    # Function to get top words\n",
        "    def get_top_words(texts, n=20):\n",
        "        all_words = ' '.join(texts).split()\n",
        "        most_common = Counter(all_words).most_common(n)\n",
        "        return pd.DataFrame(most_common, columns=['word', 'count'])\n",
        "\n",
        "    # Find top words for each label and determine max count for consistent plotting\n",
        "    max_count = 0\n",
        "    label_top_words = {}\n",
        "    for label in data[label_column].unique():\n",
        "        subset = data[data[label_column] == label]\n",
        "        top_words = get_top_words(subset['cleaned_text'], n=n_top_words)\n",
        "        top_words = top_words[~top_words['word'].isin(exclude_words)]\n",
        "        label_top_words[label] = top_words\n",
        "        if not top_words.empty:\n",
        "            max_count = max(max_count, top_words['count'].max())\n",
        "\n",
        "    # Plot the results\n",
        "    for label, top_words in label_top_words.items():\n",
        "        if not top_words.empty:\n",
        "            plt.figure(figsize=(12, 6))\n",
        "            sns.barplot(data=top_words, x='count', y='word', palette='coolwarm')\n",
        "            plt.title(f\"Top Words for Label: {label}\")\n",
        "            plt.xlabel('Count')\n",
        "            plt.ylabel('Word')\n",
        "            plt.xlim(0, max_count + 5)  # Adding a small margin for better visuals\n",
        "            plt.show()"
      ],
      "metadata": {
        "id": "lUbn1RgLveCO"
      },
      "execution_count": 51,
      "outputs": []
    },
    {
      "cell_type": "code",
      "source": [
        "analyze_top_words_by_label(data, text_column='tweet', label_column='label', n_top_words=20)"
      ],
      "metadata": {
        "colab": {
          "base_uri": "https://localhost:8080/",
          "height": 1000
        },
        "id": "Qj0fvpkzvmBv",
        "outputId": "d00775c5-ecd4-4908-81ea-9ee6b0f9cfce"
      },
      "execution_count": 50,
      "outputs": [
        {
          "output_type": "display_data",
          "data": {
            "text/plain": [
              "<Figure size 1200x600 with 1 Axes>"
            ],
            "image/png": "[encoded data removed]"
          },
          "metadata": {}
        },
        {
          "output_type": "display_data",
          "data": {
            "text/plain": [
              "<Figure size 1200x600 with 1 Axes>"
            ],
            "image/png": "[encoded data removed]"
          },
          "metadata": {}
        }
      ]
    },
    {
      "cell_type": "code",
      "source": [
        "exclude_words = {'user', 'http', 'amp', 'like', 'get', 'know', 'would', 'even'}\n",
        "analyze_top_words_by_label(data, text_column='tweet', label_column='label', n_top_words=20, exluded_words=exclude_words)"
      ],
      "metadata": {
        "colab": {
          "base_uri": "https://localhost:8080/",
          "height": 1000
        },
        "id": "lrYPeEUHwV5Y",
        "outputId": "2175788f-127b-4fa1-881a-69b9f1802363"
      },
      "execution_count": 52,
      "outputs": [
        {
          "output_type": "display_data",
          "data": {
            "text/plain": [
              "<Figure size 1200x600 with 1 Axes>"
            ],
            "image/png": "[encoded data removed]"
          },
          "metadata": {}
        },
        {
          "output_type": "display_data",
          "data": {
            "text/plain": [
              "<Figure size 1200x600 with 1 Axes>"
            ],
            "image/png": "[encoded data removed]"
          },
          "metadata": {}
        }
      ]
    },
    {
      "cell_type": "markdown",
      "source": [
        "#### Confusion matrix and Precision-Recall curve\n"
      ],
      "metadata": {
        "id": "fceDGW-np8LN"
      }
    },
    {
      "cell_type": "code",
      "source": [
        "from sklearn.metrics import confusion_matrix, precision_recall_curve, PrecisionRecallDisplay\n",
        "from sklearn.model_selection import train_test_split\n",
        "from sklearn.datasets import make_classification\n",
        "from sklearn.linear_model import LogisticRegression\n",
        "from sklearn.metrics import classification_report\n",
        "import seaborn as sns\n",
        "\n",
        "\n",
        "def show_conf_matrix(y_test, y_prob):\n",
        "    y_pred = np.argmax(y_prob, axis=-1)\n",
        "\n",
        "    conf_matrix = confusion_matrix(y_test, y_pred)\n",
        "\n",
        "    # Plot Confusion Matrix\n",
        "    plt.figure(figsize=(6, 5))\n",
        "    sns.heatmap(conf_matrix, annot=True, fmt=\"d\", cmap=\"Blues\", xticklabels=[\"Negative\", \"Positive\"], yticklabels=[\"Negative\", \"Positive\"])\n",
        "    plt.title(\"Confusion Matrix\")\n",
        "    plt.xlabel(\"Predicted\")\n",
        "    plt.ylabel(\"Actual\")\n",
        "    plt.show()\n",
        "\n",
        "    precision, recall, thresholds = precision_recall_curve(y_test, y_prob[:, 1])\n",
        "\n",
        "    # Plot Precision-Recall curve\n",
        "    plt.figure(figsize=(8, 6))\n",
        "    plt.plot(recall, precision, color=\"b\", label=\"Precision-Recall Curve\")\n",
        "    plt.fill_between(recall, precision, color=\"skyblue\", alpha=0.4)\n",
        "    plt.title(\"Precision-Recall Curve\")\n",
        "    plt.xlabel(\"Recall\")\n",
        "    plt.ylabel(\"Precision\")\n",
        "    plt.legend(loc=\"lower left\")\n",
        "    plt.show()\n",
        "\n",
        "    print(\"Classification Report:\")\n",
        "    print(classification_report(y_test, y_pred))\n",
        "\n",
        "show_conf_matrix(test_labels, test_predictions)"
      ],
      "metadata": {
        "colab": {
          "base_uri": "https://localhost:8080/",
          "height": 1000
        },
        "id": "4n0awo0xjFF1",
        "outputId": "45149b2b-0465-47fe-e1a0-a8f650454163"
      },
      "execution_count": 45,
      "outputs": [
        {
          "output_type": "display_data",
          "data": {
            "text/plain": [
              "<Figure size 600x500 with 2 Axes>"
            ],
            "image/png": "[encoded data removed]"
          },
          "metadata": {}
        },
        {
          "output_type": "display_data",
          "data": {
            "text/plain": [
              "<Figure size 800x600 with 1 Axes>"
            ],
            "image/png": "[encoded data removed]"
          },
          "metadata": {}
        },
        {
          "output_type": "stream",
          "name": "stdout",
          "text": [
            "Classification Report:\n",
            "              precision    recall  f1-score   support\n",
            "\n",
            "           0       0.92      0.74      0.82       160\n",
            "           1       0.74      0.92      0.82       126\n",
            "\n",
            "    accuracy                           0.82       286\n",
            "   macro avg       0.83      0.83      0.82       286\n",
            "weighted avg       0.84      0.82      0.82       286\n",
            "\n"
          ]
        }
      ]
    },
    {
      "cell_type": "markdown",
      "source": [
        "#### Specific misclassified samples"
      ],
      "metadata": {
        "id": "4WLyLDXVsrkG"
      }
    },
    {
      "cell_type": "code",
      "source": [
        "def analyze_errors(text, pred, label, tokenizer):\n",
        "    # Check if pred and label are of the same length\n",
        "    if len(pred) != len(label):\n",
        "        raise ValueError(\"The length of prediction and label lists must be the same.\")\n",
        "\n",
        "    # Initialize a list to store the results of incorrect predictions\n",
        "    incorrect_preds = []\n",
        "    output_list = []\n",
        "\n",
        "    pred = np.argmax(pred, axis=-1)\n",
        "    # Iterate through each token in the prediction and label\n",
        "    for i in range(len(pred)):\n",
        "        # If the prediction is incorrect, we'll process this token\n",
        "        if pred[i] != label[i]:\n",
        "            incorrect_preds.append((text[i], i))\n",
        "            output_list.append((text[i], pred[i]))\n",
        "\n",
        "    print(f\"Number of incorrect prediction: {len(incorrect_preds)}\")\n",
        "    print()\n",
        "    print(\"First dot reprsent label, second represent prediction, red means sexist\")\n",
        "    # If there are incorrect predictions, print them and color OOV tokens\n",
        "    for err, idx in incorrect_preds:\n",
        "        if label[idx] == 1:\n",
        "            print(\"🔴\", end=\" \")\n",
        "        else:\n",
        "            print(\"🟢\", end=\" \")\n",
        "        if pred[idx] == 1:\n",
        "            print(\"🔴\", end=\" \")\n",
        "        else:\n",
        "            print(\"🟢\", end=\" \")\n",
        "        print(err)\n",
        "\n",
        "    return output_list\n",
        "\n",
        "incpreds = analyze_errors(data_test['tweet'], test_predictions, test_labels, tokenizer)"
      ],
      "metadata": {
        "colab": {
          "base_uri": "https://localhost:8080/"
        },
        "id": "JV249l1T3UOz",
        "outputId": "cd318e64-34c1-48b5-b781-f9ff53ef6236"
      },
      "execution_count": 56,
      "outputs": [
        {
          "output_type": "stream",
          "name": "stdout",
          "text": [
            "Number of incorrect prediction: 51\n",
            "\n",
            "First dot reprsent label, second represent prediction, red means sexist\n",
            "🟢 🔴 “I mean I do, but… wouldn’t it be fun to get gangbanged together~?” http\n",
            "🟢 🔴 @user @user Sex* as in 'gender' harassment is what they are inferring.\n",
            "🟢 🔴 @user yes hayley hafu representation give our japanese-hispanic girl her flowers\n",
            "🟢 🔴 @user How did we reach a point where blonks are having the audacity to talk about yoongis rap do y'all see who you Stan ? Are y'all ok ?? Your girls can't write can't deliver can't come close to bts's lyricism tf are y'all getting brave for ?? Fashion deals ??\n",
            "🔴 🟢 @user @user @user That gold digger is nice but the picture and set up for them are elite. Pinwork is like the revealing of the Mona Lisa. Always a work of art.\n",
            "🟢 🔴 He Tries To Expose This Gold Digger BUT IT BACKFIRES. | 90 Day Fiancée B... http via @user\n",
            "🟢 🔴 @user Well let me ask for the guys… do you ever just grab your testicles because you can?\n",
            "🟢 🔴 @user I can’t imagine what the possible beef would have been but you do realize that you two live close enough to each other that your families could grab dinner together.\n",
            "🟢 🔴 @user Y’all are husband and wife and best friends! You guys have so much fun, it’s awesome! You keep each other laughing and smiling😂\n",
            "🟢 🔴 @user @user @user Yup I hate when men rape and kill women. http\n",
            "🔴 🟢 Calls to clean up Parliament's laddish culture after MP's porn shame http via http\n",
            "🟢 🔴 Ladies,don't let anyone body shame you in any way...you are fat so what..you are beautiful my dear...be confident in yourself...peace\n",
            "🟢 🔴 Stop ✋🏾 Don’t lie to these people. Ladies, don’t let this man trick you out of the greatest organs of your life 🙄 cause  what? http\n",
            "🟢 🔴 Ladies, don't have a miscarriage in Louisiana! If you do, in addition to probably having your friends and family sued by some opportunistic yokel, you'll be charged with murder.  http\n",
            "🔴 🟢 \"Dude Looks Like A Lady\" 💫🎶Aerosmith🎶🎸⚡️💫https://t.co/41OxpV6YWm\n",
            "🔴 🟢 wonwoo cross legs &amp; jun manspreading 🦋🦋🦋🦋 @user http\n",
            "🔴 🟢 Going weak rn... PLAYING THE GUITAR?!?!?! MANSPREADING!?!??!?! I AM ON MY KNEES http\n",
            "🟢 🔴 stay on Penis masturbate the Penis forever http\n",
            "🟢 🔴 @user Ya know…it’s crazy Roe v Wade initially started because a lie about black men. Here we are 50 years later we’re still catching strays because of what white men do to y’all. The black misandry is real no matter what party dems or republicans. http\n",
            "🟢 🔴 @user @user On the audio from when his finger was cut off ! Even the  people that were there said she did it. She says she’s totally against cocaine but does cocaine. Tries to say the nurse is basically lying in her notes about her doing drugs. Everyone is lying but her!\n",
            "🟢 🔴 @user One of these babies could have grown up to be the doctor that saved you after your tree accident greg. They could have been the paramedic that transported you, The nurse that cared for you... So many possibilities GONE... all because you do NOTHING to prevent these tragedies. http\n",
            "🔴 🟢 @user @user Why bother going to Mars if life there is just going to be more of the same toxic sexism, racism and bigotry - the same horrible oppression, unfairness and inequality - that makes Earth a living hell for so many?\n",
            "🟢 🔴 \"As a diverse and pluralistic country, America’s laws should not be based on a distorted and patriarchal interpretation of Christianity. Furthermore, the government should have no role whatsoever in a woman’s private healthcare decisions.\"\n",
            "🟢 🔴 It was interesting to see other Swedes lying in english that the reason they didn’t feed children was because it would take away from their family time, etc. No, it’s survivalism, a patriarchal ‘this is the food we have for the winter, for our mouths, not others.’\n",
            "🟢 🔴 @user Notice something else tho…Almost every single one, is a man. That’s such a fucking problem that this is how some men believe they should let out their angers and hatred. This society needs to do better, it does not even benefit the men. Patriarchy/misogyny fails everyone\n",
            "🟢 🔴 @user @user @user @user i dont understand why we'd be so invested in calling her some patrilineal name as though thats somehow more reverent, or empowering.\n",
            "🟢 🔴 @user @user @user When people were in a mobile hunting and gatheringeconomic system. In such sytems patrilineal kinship reckoning  and patrilocal post-marital residence is extremely rare. \"Male dominance\" of social life is not really a thing. So.. for at least the last 200,000 years.\n",
            "🟢 🔴 @user It’s in the TEAxASS code book of penis envy idiots that it’s guns over everything. Sad thing is it’s spreading and the more we try to stop it, the faster it spreads like the diseased idiots that support it.\n",
            "🟢 🔴 Part of the experience of being a black man is dealing with the penis envy &amp; gossip mentality of other races of men. We just be chilling &amp; they be hating for no reason. It's definitely something that stays in the back of some of their minds. But men in general get along very well\n",
            "🔴 🟢 @user Have I missed something, or has phallocentrism become the latest cult?\n",
            "🔴 🟢 Fuck's sake is it possible to have a furry space that's not explicitly content-restricted and doesn't immediately become yet another showcase for size-queen phallocentrism?\n",
            "🔴 🟢 Cyborg politics is the struggle for language and the struggle against perfect communication, against the one code that translates all meaning perfectly, the central dogma of phallogocentrism\n",
            "🟢 🔴 Had a dream that I was at a party with my friend and Bill Gates showed up and I said to my friend look at his pregnant ass belly\n",
            "🟢 🔴 @user @user @user @user Sharia law in the religion of Islam allows abortion before the 5th montha for Rape, Incest, Mental/Physical health, or Life of Mother is at risk. After the 5th Month, abortion allowed only to save the life of the Mother.\n",
            "🟢 🔴 \"Calling A Man Bald Is Sexual Harassment\" http via @user\n",
            "🔴 🟢 According to the Human Rights Commission, 1 in 3 people experience sexual harassment at work. We have created an online course  providing strategies to prevent and respond should incidents occur. Start your course at: http #guardianpst http\n",
            "🟢 🔴 @user @user I find most middle class people have a certain idea of what poor people are like and people on benefits and it's kinda like cookie cutter poor people, they will be smoking, they will drink lager out of cans, they will dress badly or tarty or chavvy... It's just tired stereotyping\n",
            "🟢 🔴 @user Today’s women eye makeup. And those nails too.\n",
            "🟢 🔴 @user oh so now u can’t understand women’s words??????\n",
            "🟢 🔴 the question is do i wear the very short skirt that literally shows my ass with kneehighs or opt out for a short 🤔\n",
            "🟢 🔴 im so annoyed by ex mutuals who hurt my friends &amp; suddenly act like everything's good when its been a couple months &amp; they can suddenly try to befriend me again &amp; when i dont forgive them they pull this victim card shit on my own friends like how dare you???\n",
            "🟢 🔴 BUT YOUR GIFT IS WASTED ON ME???????? SHUT THE FUCK USPSNWOMSKW THATS WHEN I JUST STARTED BAWLING THATS WHAT SIMPLY DID IT FOR ME HE’S SO VULNERABLE AND OPEN IN LITTLE FREAK IM A FUCKING MESS\n",
            "🟢 🔴 @user My new favorite meme is the pregnant woman driving in the Oklahoma HOV lane telling the state trooper who pulled her over that she is driving with another person..\n",
            "🟢 🔴 @user @user ISW published the fakest crap of any of the maps. They are just a front for the US State Department. They are fake news. Victoria Nuland is the woman directly involved in the armed overthrow of the Ukraine government in 2014. http\n",
            "🟢 🔴 @user I am non-binary and also lean into my femininity, most of the time I am content with being afab &amp; being seen as a woman &amp; embrace it. Other times I simply want to be a genderless thing that exists.\n",
            "🟢 🔴 Feminism VS Womanism\"Hudson-Weems identifies further differences between womanism and feminism being; womanism is \"family-oriented\" and focuses on race, class, and gender, while feminism is \"female-oriented\" and strictly focuses on biological sex related issues women face.\" http\n",
            "🟢 🔴 @user Yeah, women are getting just as bad. I've noticed it anyway, I'm sorry people are sending you stuff like that, it can be so gross!\n",
            "🟢 🔴 @user @user @user @user A vasectomy is a simple surgery done in an office, hospital, or clinic. 24 hours later recovery is pretty much complete!Tubal ligation recovery takes 1-3 weeks, longer if it's done following a C-section or childbirth. Many women can't afford to take 1-3 weeks off work!\n",
            "🟢 🔴 women shouldn’t have to share their trauma stories for you to feel empathy for the way they’re feeling today. stand with them, we deserve a choice. juntas si podemos ❤️\n",
            "🟢 🔴 Uh, they're allowed to? calling this out makes you look like a cunt. Fortunately, I'll block you so fast you wont get your screenshot. http\n",
            "🟢 🔴 @user @user @user I don't know what you're on about? My point was that you shouldn't mock other people's looks, because it's very shallow and makes you look like a cunt. Thanks for your input though 👍\n"
          ]
        }
      ]
    },
    {
      "cell_type": "code",
      "source": [
        "errors_df = pd.DataFrame(incpreds, columns=[\"tweet\", \"label\"])\n",
        "analyze_top_words_by_label(errors_df, text_column='tweet', label_column='label', n_top_words=20, exluded_words=exclude_words)"
      ],
      "metadata": {
        "colab": {
          "base_uri": "https://localhost:8080/",
          "height": 1000
        },
        "id": "aySKvxjrw4bY",
        "outputId": "f257b88c-22e4-4860-8f44-9e0b1f9703cf"
      },
      "execution_count": 58,
      "outputs": [
        {
          "output_type": "display_data",
          "data": {
            "text/plain": [
              "<Figure size 1200x600 with 1 Axes>"
            ],
            "image/png": "[encoded data removed]"
          },
          "metadata": {}
        },
        {
          "output_type": "display_data",
          "data": {
            "text/plain": [
              "<Figure size 1200x600 with 1 Axes>"
            ],
            "image/png": "[encoded data removed]"
          },
          "metadata": {}
        }
      ]
    },
    {
      "cell_type": "markdown",
      "source": [
        "Top words for baseline model"
      ],
      "metadata": {
        "id": "ZCTd9uG536ZV"
      }
    },
    {
      "cell_type": "code",
      "source": [
        "analyze_top_words_by_label(baseline_error_df, text_column='tweet', label_column='label', n_top_words=20)"
      ],
      "metadata": {
        "colab": {
          "base_uri": "https://localhost:8080/",
          "height": 1000
        },
        "id": "VWUtcGor20pK",
        "outputId": "b1d41944-09d2-47a0-faee-9eb6bf69ec77"
      },
      "execution_count": 69,
      "outputs": [
        {
          "output_type": "display_data",
          "data": {
            "text/plain": [
              "<Figure size 1200x600 with 1 Axes>"
            ],
            "image/png": "[encoded data removed]"
          },
          "metadata": {}
        },
        {
          "output_type": "display_data",
          "data": {
            "text/plain": [
              "<Figure size 1200x600 with 1 Axes>"
            ],
            "image/png": "[encoded data removed]"
          },
          "metadata": {}
        }
      ]
    },
    {
      "cell_type": "code",
      "source": [
        "vocab_keys = set(vocab.keys())\n",
        "\n",
        "def count_oov_tokens(tweet):\n",
        "        \"\"\"Count tokens in the tokenized tweet not present in the vocabulary keys.\"\"\"\n",
        "        tokens = word_tokenize(tweet)\n",
        "        oov_count = sum(1 for token in tokens if token not in vocab_keys)\n",
        "        return oov_count\n",
        "\n",
        "\n",
        "baseline_error_df['oov_token_count'] = baseline_error_df['tweet'].apply(count_oov_tokens)"
      ],
      "metadata": {
        "id": "bfHTuWnV3-Xk"
      },
      "execution_count": 76,
      "outputs": []
    },
    {
      "cell_type": "code",
      "source": [
        "baseline_error_df.head()"
      ],
      "metadata": {
        "colab": {
          "base_uri": "https://localhost:8080/",
          "height": 206
        },
        "id": "SGJz2FUz5v9p",
        "outputId": "d1e78979-fe20-4ff2-f40a-fb73450f1168"
      },
      "execution_count": 77,
      "outputs": [
        {
          "output_type": "execute_result",
          "data": {
            "text/plain": [
              "                                               tweet  label  oov_token_count\n",
              "0                 fuck cunt tried vote multiple time    1.0                0\n",
              "1                         suika get gangbanged death    1.0                1\n",
              "2       maybe something involving getting gangbanged    1.0                0\n",
              "3                    sex gender harassment inferring    0.0                1\n",
              "4  kabul islamic emirate afghanistan announced en...    1.0                7"
            ],
            "text/html": [
              "\n",
              "  <div id=\"df-6dc8f006-22da-4eba-9b04-53186ab4d66f\" class=\"colab-df-container\">\n",
              "    <div>\n",
              "<style scoped>\n",
              "    .dataframe tbody tr th:only-of-type {\n",
              "        vertical-align: middle;\n",
              "    }\n",
              "\n",
              "    .dataframe tbody tr th {\n",
              "        vertical-align: top;\n",
              "    }\n",
              "\n",
              "    .dataframe thead th {\n",
              "        text-align: right;\n",
              "    }\n",
              "</style>\n",
              "<table border=\"1\" class=\"dataframe\">\n",
              "  <thead>\n",
              "    <tr style=\"text-align: right;\">\n",
              "      <th></th>\n",
              "      <th>tweet</th>\n",
              "      <th>label</th>\n",
              "      <th>oov_token_count</th>\n",
              "    </tr>\n",
              "  </thead>\n",
              "  <tbody>\n",
              "    <tr>\n",
              "      <th>0</th>\n",
              "      <td>fuck cunt tried vote multiple time</td>\n",
              "      <td>1.0</td>\n",
              "      <td>0</td>\n",
              "    </tr>\n",
              "    <tr>\n",
              "      <th>1</th>\n",
              "      <td>suika get gangbanged death</td>\n",
              "      <td>1.0</td>\n",
              "      <td>1</td>\n",
              "    </tr>\n",
              "    <tr>\n",
              "      <th>2</th>\n",
              "      <td>maybe something involving getting gangbanged</td>\n",
              "      <td>1.0</td>\n",
              "      <td>0</td>\n",
              "    </tr>\n",
              "    <tr>\n",
              "      <th>3</th>\n",
              "      <td>sex gender harassment inferring</td>\n",
              "      <td>0.0</td>\n",
              "      <td>1</td>\n",
              "    </tr>\n",
              "    <tr>\n",
              "      <th>4</th>\n",
              "      <td>kabul islamic emirate afghanistan announced en...</td>\n",
              "      <td>1.0</td>\n",
              "      <td>7</td>\n",
              "    </tr>\n",
              "  </tbody>\n",
              "</table>\n",
              "</div>\n",
              "    <div class=\"colab-df-buttons\">\n",
              "\n",
              "  <div class=\"colab-df-container\">\n",
              "    <button class=\"colab-df-convert\" onclick=\"convertToInteractive('df-6dc8f006-22da-4eba-9b04-53186ab4d66f')\"\n",
              "            title=\"Convert this dataframe to an interactive table.\"\n",
              "            style=\"display:none;\">\n",
              "\n",
              "  <svg xmlns=\"http://www.w3.org/2000/svg\" height=\"24px\" viewBox=\"0 -960 960 960\">\n",
              "    <path d=\"M120-120v-720h720v720H120Zm60-500h600v-160H180v160Zm220 220h160v-160H400v160Zm0 220h160v-160H400v160ZM180-400h160v-160H180v160Zm440 0h160v-160H620v160ZM180-180h160v-160H180v160Zm440 0h160v-160H620v160Z\"/>\n",
              "  </svg>\n",
              "    </button>\n",
              "\n",
              "  <style>\n",
              "    .colab-df-container {\n",
              "      display:flex;\n",
              "      gap: 12px;\n",
              "    }\n",
              "\n",
              "    .colab-df-convert {\n",
              "      background-color: #E8F0FE;\n",
              "      border: none;\n",
              "      border-radius: 50%;\n",
              "      cursor: pointer;\n",
              "      display: none;\n",
              "      fill: #1967D2;\n",
              "      height: 32px;\n",
              "      padding: 0 0 0 0;\n",
              "      width: 32px;\n",
              "    }\n",
              "\n",
              "    .colab-df-convert:hover {\n",
              "      background-color: #E2EBFA;\n",
              "      box-shadow: 0px 1px 2px rgba(60, 64, 67, 0.3), 0px 1px 3px 1px rgba(60, 64, 67, 0.15);\n",
              "      fill: #174EA6;\n",
              "    }\n",
              "\n",
              "    .colab-df-buttons div {\n",
              "      margin-bottom: 4px;\n",
              "    }\n",
              "\n",
              "    [theme=dark] .colab-df-convert {\n",
              "      background-color: #3B4455;\n",
              "      fill: #D2E3FC;\n",
              "    }\n",
              "\n",
              "    [theme=dark] .colab-df-convert:hover {\n",
              "      background-color: #434B5C;\n",
              "      box-shadow: 0px 1px 3px 1px rgba(0, 0, 0, 0.15);\n",
              "      filter: drop-shadow(0px 1px 2px rgba(0, 0, 0, 0.3));\n",
              "      fill: #FFFFFF;\n",
              "    }\n",
              "  </style>\n",
              "\n",
              "    <script>\n",
              "      const buttonEl =\n",
              "        document.querySelector('#df-6dc8f006-22da-4eba-9b04-53186ab4d66f button.colab-df-convert');\n",
              "      buttonEl.style.display =\n",
              "        google.colab.kernel.accessAllowed ? 'block' : 'none';\n",
              "\n",
              "      async function convertToInteractive(key) {\n",
              "        const element = document.querySelector('#df-6dc8f006-22da-4eba-9b04-53186ab4d66f');\n",
              "        const dataTable =\n",
              "          await google.colab.kernel.invokeFunction('convertToInteractive',\n",
              "                                                    [key], {});\n",
              "        if (!dataTable) return;\n",
              "\n",
              "        const docLinkHtml = 'Like what you see? Visit the ' +\n",
              "          '<a target=\"_blank\" href=https://colab.research.google.com/notebooks/data_table.ipynb>data table notebook</a>'\n",
              "          + ' to learn more about interactive tables.';\n",
              "        element.innerHTML = '';\n",
              "        dataTable['output_type'] = 'display_data';\n",
              "        await google.colab.output.renderOutput(dataTable, element);\n",
              "        const docLink = document.createElement('div');\n",
              "        docLink.innerHTML = docLinkHtml;\n",
              "        element.appendChild(docLink);\n",
              "      }\n",
              "    </script>\n",
              "  </div>\n",
              "\n",
              "\n",
              "<div id=\"df-571376e7-c7bc-470b-aaf2-2da7ed90d1e3\">\n",
              "  <button class=\"colab-df-quickchart\" onclick=\"quickchart('df-571376e7-c7bc-470b-aaf2-2da7ed90d1e3')\"\n",
              "            title=\"Suggest charts\"\n",
              "            style=\"display:none;\">\n",
              "\n",
              "<svg xmlns=\"http://www.w3.org/2000/svg\" height=\"24px\"viewBox=\"0 0 24 24\"\n",
              "     width=\"24px\">\n",
              "    <g>\n",
              "        <path d=\"M19 3H5c-1.1 0-2 .9-2 2v14c0 1.1.9 2 2 2h14c1.1 0 2-.9 2-2V5c0-1.1-.9-2-2-2zM9 17H7v-7h2v7zm4 0h-2V7h2v10zm4 0h-2v-4h2v4z\"/>\n",
              "    </g>\n",
              "</svg>\n",
              "  </button>\n",
              "\n",
              "<style>\n",
              "  .colab-df-quickchart {\n",
              "      --bg-color: #E8F0FE;\n",
              "      --fill-color: #1967D2;\n",
              "      --hover-bg-color: #E2EBFA;\n",
              "      --hover-fill-color: #174EA6;\n",
              "      --disabled-fill-color: #AAA;\n",
              "      --disabled-bg-color: #DDD;\n",
              "  }\n",
              "\n",
              "  [theme=dark] .colab-df-quickchart {\n",
              "      --bg-color: #3B4455;\n",
              "      --fill-color: #D2E3FC;\n",
              "      --hover-bg-color: #434B5C;\n",
              "      --hover-fill-color: #FFFFFF;\n",
              "      --disabled-bg-color: #3B4455;\n",
              "      --disabled-fill-color: #666;\n",
              "  }\n",
              "\n",
              "  .colab-df-quickchart {\n",
              "    background-color: var(--bg-color);\n",
              "    border: none;\n",
              "    border-radius: 50%;\n",
              "    cursor: pointer;\n",
              "    display: none;\n",
              "    fill: var(--fill-color);\n",
              "    height: 32px;\n",
              "    padding: 0;\n",
              "    width: 32px;\n",
              "  }\n",
              "\n",
              "  .colab-df-quickchart:hover {\n",
              "    background-color: var(--hover-bg-color);\n",
              "    box-shadow: 0 1px 2px rgba(60, 64, 67, 0.3), 0 1px 3px 1px rgba(60, 64, 67, 0.15);\n",
              "    fill: var(--button-hover-fill-color);\n",
              "  }\n",
              "\n",
              "  .colab-df-quickchart-complete:disabled,\n",
              "  .colab-df-quickchart-complete:disabled:hover {\n",
              "    background-color: var(--disabled-bg-color);\n",
              "    fill: var(--disabled-fill-color);\n",
              "    box-shadow: none;\n",
              "  }\n",
              "\n",
              "  .colab-df-spinner {\n",
              "    border: 2px solid var(--fill-color);\n",
              "    border-color: transparent;\n",
              "    border-bottom-color: var(--fill-color);\n",
              "    animation:\n",
              "      spin 1s steps(1) infinite;\n",
              "  }\n",
              "\n",
              "  @keyframes spin {\n",
              "    0% {\n",
              "      border-color: transparent;\n",
              "      border-bottom-color: var(--fill-color);\n",
              "      border-left-color: var(--fill-color);\n",
              "    }\n",
              "    20% {\n",
              "      border-color: transparent;\n",
              "      border-left-color: var(--fill-color);\n",
              "      border-top-color: var(--fill-color);\n",
              "    }\n",
              "    30% {\n",
              "      border-color: transparent;\n",
              "      border-left-color: var(--fill-color);\n",
              "      border-top-color: var(--fill-color);\n",
              "      border-right-color: var(--fill-color);\n",
              "    }\n",
              "    40% {\n",
              "      border-color: transparent;\n",
              "      border-right-color: var(--fill-color);\n",
              "      border-top-color: var(--fill-color);\n",
              "    }\n",
              "    60% {\n",
              "      border-color: transparent;\n",
              "      border-right-color: var(--fill-color);\n",
              "    }\n",
              "    80% {\n",
              "      border-color: transparent;\n",
              "      border-right-color: var(--fill-color);\n",
              "      border-bottom-color: var(--fill-color);\n",
              "    }\n",
              "    90% {\n",
              "      border-color: transparent;\n",
              "      border-bottom-color: var(--fill-color);\n",
              "    }\n",
              "  }\n",
              "</style>\n",
              "\n",
              "  <script>\n",
              "    async function quickchart(key) {\n",
              "      const quickchartButtonEl =\n",
              "        document.querySelector('#' + key + ' button');\n",
              "      quickchartButtonEl.disabled = true;  // To prevent multiple clicks.\n",
              "      quickchartButtonEl.classList.add('colab-df-spinner');\n",
              "      try {\n",
              "        const charts = await google.colab.kernel.invokeFunction(\n",
              "            'suggestCharts', [key], {});\n",
              "      } catch (error) {\n",
              "        console.error('Error during call to suggestCharts:', error);\n",
              "      }\n",
              "      quickchartButtonEl.classList.remove('colab-df-spinner');\n",
              "      quickchartButtonEl.classList.add('colab-df-quickchart-complete');\n",
              "    }\n",
              "    (() => {\n",
              "      let quickchartButtonEl =\n",
              "        document.querySelector('#df-571376e7-c7bc-470b-aaf2-2da7ed90d1e3 button');\n",
              "      quickchartButtonEl.style.display =\n",
              "        google.colab.kernel.accessAllowed ? 'block' : 'none';\n",
              "    })();\n",
              "  </script>\n",
              "</div>\n",
              "\n",
              "    </div>\n",
              "  </div>\n"
            ],
            "application/vnd.google.colaboratory.intrinsic+json": {
              "type": "dataframe",
              "variable_name": "baseline_error_df",
              "summary": "{\n  \"name\": \"baseline_error_df\",\n  \"rows\": 78,\n  \"fields\": [\n    {\n      \"column\": \"tweet\",\n      \"properties\": {\n        \"dtype\": \"string\",\n        \"num_unique_values\": 78,\n        \"samples\": [\n          \"objectification amp dehumanizing saw someone take time day make strong political point horwath sarcasm tweeted photo looked like lot photoshop pathetic clown\",\n          \"fuck cunt tried vote multiple time\",\n          \"bother going mar life going toxic sexism racism bigotry horrible oppression unfairness inequality make earth living hell many\"\n        ],\n        \"semantic_type\": \"\",\n        \"description\": \"\"\n      }\n    },\n    {\n      \"column\": \"label\",\n      \"properties\": {\n        \"dtype\": \"float32\",\n        \"num_unique_values\": 2,\n        \"samples\": [\n          0.0,\n          1.0\n        ],\n        \"semantic_type\": \"\",\n        \"description\": \"\"\n      }\n    },\n    {\n      \"column\": \"oov_token_count\",\n      \"properties\": {\n        \"dtype\": \"number\",\n        \"std\": 1,\n        \"min\": 0,\n        \"max\": 8,\n        \"num_unique_values\": 9,\n        \"samples\": [\n          6,\n          1\n        ],\n        \"semantic_type\": \"\",\n        \"description\": \"\"\n      }\n    }\n  ]\n}"
            }
          },
          "metadata": {},
          "execution_count": 77
        }
      ]
    },
    {
      "cell_type": "code",
      "source": [
        "baseline_error_df.shape"
      ],
      "metadata": {
        "colab": {
          "base_uri": "https://localhost:8080/"
        },
        "id": "IIja6TJg6-CY",
        "outputId": "e54a1b26-7c38-4a80-f67d-ebb1150adbaa"
      },
      "execution_count": 79,
      "outputs": [
        {
          "output_type": "execute_result",
          "data": {
            "text/plain": [
              "(78, 3)"
            ]
          },
          "metadata": {},
          "execution_count": 79
        }
      ]
    },
    {
      "cell_type": "code",
      "source": [
        "from IPython.display import display, HTML\n",
        "\n",
        "def highlight_oov_tokens(df, vocabulary, tweet_column=\"tweet\", label_column=\"label\", oov_column=\"oov_token_count\"):\n",
        "    \"\"\"\n",
        "    Prints tweets with OOV tokens highlighted in red.\n",
        "\n",
        "    Parameters:\n",
        "        df (pd.DataFrame): The input DataFrame with tweet text, labels, and OOV token counts.\n",
        "        vocabulary (dict): A dictionary where keys are words and values are embeddings.\n",
        "        tweet_column (str): The name of the column containing tweets.\n",
        "        label_column (str): The name of the column containing labels.\n",
        "        oov_column (str): The name of the column containing OOV token counts.\n",
        "\n",
        "    Returns:\n",
        "        None\n",
        "    \"\"\"\n",
        "    # Extract vocabulary keys\n",
        "    vocab_keys = set(vocabulary.keys())\n",
        "\n",
        "    def highlight_tokens(tweet):\n",
        "        \"\"\"Highlight OOV tokens in red within the tweet.\"\"\"\n",
        "        tokens = tweet.split()  # Assuming tweets are space-separated strings\n",
        "        highlighted = [\n",
        "            f\"\\033[91m{token}\\033[0m\" if token not in vocab_keys else token\n",
        "            for token in tokens\n",
        "        ]\n",
        "        return \" \".join(highlighted)\n",
        "\n",
        "    print(f\"\\n{'Label':<10}{'Tweet (OOV tokens highlighted in red)':<60}\")\n",
        "    print(\"-\" * 70)\n",
        "\n",
        "    for _, row in df.iterrows():\n",
        "        label = row[label_column]\n",
        "        tweet = row[tweet_column]\n",
        "        highlighted_tweet = highlight_tokens(tweet)\n",
        "        print(f\"{label:<10}{highlighted_tweet}\")\n",
        "\n",
        "highlight_oov_tokens(baseline_error_df, vocab, tweet_column=\"tweet\", label_column=\"label\", oov_column=\"oov_token_count\")"
      ],
      "metadata": {
        "colab": {
          "base_uri": "https://localhost:8080/"
        },
        "id": "lUyqzFr37USg",
        "outputId": "7fd778a6-6787-49d5-8fd9-bff8539156c0"
      },
      "execution_count": 80,
      "outputs": [
        {
          "output_type": "stream",
          "name": "stdout",
          "text": [
            "\n",
            "Label     Tweet (OOV tokens highlighted in red)                       \n",
            "----------------------------------------------------------------------\n",
            "1.0       fuck cunt tried vote multiple time\n",
            "1.0       \u001b[91msuika\u001b[0m get gangbanged death\n",
            "1.0       maybe something involving getting gangbanged\n",
            "0.0       sex gender harassment \u001b[91minferring\u001b[0m\n",
            "1.0       \u001b[91mkabul\u001b[0m islamic \u001b[91memirate\u001b[0m afghanistan announced end \u001b[91mcoeducation\u001b[0m country \u001b[91mciting\u001b[0m gender \u001b[91mharassmentfemale\u001b[0m student attend university \u001b[91mmonday\u001b[0m wednesday saturday tuesday thursday sunday \u001b[91mfixed\u001b[0m male\n",
            "0.0       gender gender identity amp sexual \u001b[91morientationparents\u001b[0m place great deal trust public school system care education \u001b[91mchildrenthat\u001b[0m trust \u001b[91mbetrayed\u001b[0m shameful \u001b[91mdeceitful\u001b[0m way\n",
            "1.0       violent \u001b[91mantifeminism\u001b[0m farright movement see \u001b[91mprincipally\u001b[0m vessel breeding new white generation express \u001b[91mfixation\u001b[0m \u001b[91mareturn\u001b[0m traditional gender \u001b[91mrolesworth\u001b[0m every minute read take 5 min sun\n",
            "1.0       ah look gender role back dont believe lie\n",
            "0.0       baby called \u001b[91mmommy\u001b[0m sha first time today twice yall dont understand \u001b[91mhype\u001b[0m made baby girl autism getting talk without prompted challenge shes come far\n",
            "0.0       reach point \u001b[91mblonks\u001b[0m \u001b[91maudacity\u001b[0m talk \u001b[91myoongis\u001b[0m rap yall see stan yall ok girl cant write cant deliver cant come close \u001b[91mbtss\u001b[0m \u001b[91mlyricism\u001b[0m tf yall getting brave fashion deal\n",
            "1.0       gold digger nice picture set elite \u001b[91mpinwork\u001b[0m like revealing \u001b[91mmona\u001b[0m \u001b[91mlisa\u001b[0m always work art\n",
            "0.0       try expose gold digger \u001b[91mbackfire\u001b[0m 90 day fiance b via\n",
            "1.0       dear fan harass talented actor color stop racist \u001b[91mdouche\u001b[0m \u001b[91mnozzle\u001b[0m cant nice thing \u001b[91mmoses\u001b[0m \u001b[91mbadass\u001b[0m \u001b[91minquisitor\u001b[0m yall cant handle \u001b[91mbadassary\u001b[0m\n",
            "1.0       best way behind hand hip\n",
            "0.0       yall husband wife best friend guy much fun awesome keep laughing smiling\n",
            "0.0       yup hate men rape kill woman\n",
            "1.0       call clean \u001b[91mparliament\u001b[0m laddish culture mp porn shame via\n",
            "0.0       stop dont lie people lady dont let man trick greatest \u001b[91morgan\u001b[0m life cause\n",
            "0.0       lady dont miscarriage \u001b[91mlouisiana\u001b[0m addition probably friend family \u001b[91msued\u001b[0m \u001b[91mopportunistic\u001b[0m \u001b[91myokel\u001b[0m youll charged murder\n",
            "1.0       mansplaining concept pee drawer partner want\n",
            "1.0       \u001b[91mwonwoo\u001b[0m cross leg amp \u001b[91mjun\u001b[0m manspreading\n",
            "1.0       going weak rn playing \u001b[91mguitar\u001b[0m manspreading knee\n",
            "1.0       feel unsafe sharing bathroom \u001b[91mtranswoman\u001b[0m seems like bigotry need \u001b[91munpack\u001b[0m marginalize already marginalized group\n",
            "0.0       stay penis masturbate penis forever\n",
            "1.0       confront misogyny misandry hardly problem world comparison exists reaction abuse\n",
            "0.0       ya \u001b[91mknowits\u001b[0m crazy roe v wade \u001b[91minitially\u001b[0m started lie black men 50 year later still catching stray white men yall black misandry real matter party dems republican\n",
            "1.0       woman dont like \u001b[91mbathing\u001b[0m went girl school\n",
            "1.0       woman nowadays look like makeup hard find good one ton makeup always go date beach lol\n",
            "1.0       dont need man tell stand thank\n",
            "1.0       arent woman financially stable belief doesnt need man\n",
            "0.0       yeah solution baby current men course there one solution every baby say there substitute anybody wrong\n",
            "0.0       men look good beard btw pls stop trying grow\n",
            "1.0       female \u001b[91mchara\u001b[0m \u001b[91mflirtysexy\u001b[0m isnt always bad n know \u001b[91mdigimon\u001b[0m always kinda \u001b[91mobjectificationofwomen\u001b[0m issue medium tbh seems nearly way game interested \u001b[91mpresenting\u001b[0m woman kinda suck esp since yea game good\n",
            "1.0       objectification amp dehumanizing saw someone take time day make strong political point \u001b[91mhorwath\u001b[0m sarcasm tweeted photo looked like lot \u001b[91mphotoshop\u001b[0m pathetic clown\n",
            "1.0       bother going \u001b[91mmar\u001b[0m life going toxic sexism racism bigotry horrible oppression unfairness inequality make earth living hell many\n",
            "0.0       \u001b[91mdiverse\u001b[0m \u001b[91mpluralistic\u001b[0m country america law based distorted patriarchal interpretation christianity \u001b[91mfurthermore\u001b[0m government role \u001b[91mwhatsoever\u001b[0m woman private healthcare decision\n",
            "0.0       part experience black man dealing penis envy amp gossip mentality race men \u001b[91mchilling\u001b[0m amp hating reason definitely something stay back mind men general get along well\n",
            "1.0       missed something phallocentrism become latest cult\n",
            "1.0       fuck sake possible furry space thats explicitly \u001b[91mcontentrestricted\u001b[0m doesnt immediately become yet another showcase \u001b[91msizequeen\u001b[0m phallocentrism\n",
            "1.0       cyborg politics struggle language struggle perfect communication one code \u001b[91mtranslates\u001b[0m meaning perfectly central \u001b[91mdogma\u001b[0m phallogocentrism\n",
            "1.0       eat hole slide dick pound till \u001b[91msquirt\u001b[0m\n",
            "1.0       ironic majority people happy comment people cant get pregnant\n",
            "0.0       dream party friend bill gate showed said friend look pregnant as \u001b[91mbelly\u001b[0m\n",
            "0.0       \u001b[91movulation\u001b[0m really making feel pregnant dont appreciate\n",
            "0.0       calling man bald sexual harassment via\n",
            "1.0       according human right commission 1 3 people experience sexual harassment work created online course providing strategy prevent respond incident \u001b[91moccur\u001b[0m start course\n",
            "1.0       dont care gender race \u001b[91mreligionsexual\u001b[0m orientation person long qualified position said qualified based \u001b[91mexperienceeducation\u001b[0m chosen solely black gay please \u001b[91mprogressiveswoke\u001b[0m saying\n",
            "0.0       check listing added closet \u001b[91mcoed\u001b[0m naked beach \u001b[91mvolleyball\u001b[0m \u001b[91munisex\u001b[0m adult \u001b[91ms\u001b[0m white tee shirt\n",
            "1.0       show money rule world im disappointed \u001b[91mripleys\u001b[0m would even allow building let reality skank get incredible insult waiting sub full armed \u001b[91mrobber\u001b[0m \u001b[91movertake\u001b[0m end \u001b[91mkhloe\u001b[0m looked better\n",
            "1.0       kinda get point slag far\n",
            "1.0       yea back didnt even one slap unfortunate\n",
            "1.0       jealous \u001b[91mplss\u001b[0m talk new album u \u001b[91mwrinkly\u001b[0m slutbag\n",
            "1.0       \u001b[91mder\u001b[0m literally took last night slutbag\n",
            "0.0       always \u001b[91mentertainer\u001b[0m attracts white audience get big start claiming bw dont listen type artist love stereotyping amp \u001b[91mboxing\u001b[0m u like society blk ppl general smh\n",
            "0.0       \u001b[91mjesse\u001b[0m never known father anything half machine raised hearing voice man felt \u001b[91mfamiliar\u001b[0m yet foreign already \u001b[91mstunned\u001b[0m looking \u001b[91mglowing\u001b[0m figure \u001b[91minfront\u001b[0m added tension hand immediately\n",
            "1.0       \u001b[91mbounceeyyyy\u001b[0m \u001b[91mboobieeeessssss\u001b[0m\n",
            "1.0       proceeded \u001b[91maudacity\u001b[0m inform \u001b[91m8am\u001b[0m early trophy \u001b[91mwifegf\u001b[0m talk\n",
            "1.0       dont report problematic bitch tik tok \u001b[91mfys\u001b[0m \u001b[91midc\u001b[0m hate group talk \u001b[91midc\u001b[0m shouldnt exist gone truly dont care go report \u001b[91macc\u001b[0m shouldnt exist like know theyre ugly irl dont want near \u001b[91mtubatu\u001b[0m\n",
            "0.0       oh u cant understand womens word\n",
            "1.0       \u001b[91mfainted\u001b[0m wearing short skirt one could legally touch as nurse came\n",
            "0.0       question wear short skirt literally show as \u001b[91mkneehighs\u001b[0m \u001b[91mopt\u001b[0m short\n",
            "0.0       im annoyed ex mutuals hurt friend amp \u001b[91msuddenly\u001b[0m act like \u001b[91meverythings\u001b[0m good couple month amp \u001b[91msuddenly\u001b[0m try \u001b[91mbefriend\u001b[0m amp dont forgive pull victim card shit friend like dare\n",
            "0.0       new favorite meme pregnant woman driving \u001b[91moklahoma\u001b[0m \u001b[91mhov\u001b[0m lane telling state trooper pulled driving another person\n",
            "0.0       \u001b[91misw\u001b[0m published \u001b[91mfakest\u001b[0m crap map front u state \u001b[91mdepartment\u001b[0m fake news \u001b[91mvictoria\u001b[0m \u001b[91mnuland\u001b[0m woman directly involved armed \u001b[91moverthrow\u001b[0m ukraine government 2014\n",
            "0.0       nonbinary also lean femininity time content \u001b[91mafab\u001b[0m amp seen woman amp embrace time simply want \u001b[91mgenderless\u001b[0m thing exists\n",
            "1.0       tf ya call \u001b[91mfemism\u001b[0m shouldnt womanism thats case\n",
            "0.0       feminism v \u001b[91mwomanismhudsonweems\u001b[0m \u001b[91midentifies\u001b[0m difference womanism feminism womanism \u001b[91mfamilyoriented\u001b[0m focus race class gender feminism \u001b[91mfemaleoriented\u001b[0m strictly focus biological sex related issue woman face\n",
            "1.0       dont know \u001b[91minvented\u001b[0m womanism huh okay risk skin cancer guess best luck\n",
            "0.0       yeah woman getting bad ive noticed anyway im sorry people sending stuff like gross\n",
            "0.0       yo swear \u001b[91msagittarius\u001b[0m men woman funniest\n",
            "1.0       woman dont work money anymore men \u001b[91mmomo\u001b[0m lmao \u001b[91mmonya\u001b[0m \u001b[91mnkwasia\u001b[0m \u001b[91msika\u001b[0m \u001b[91mbia\u001b[0m na \u001b[91mmoka\u001b[0m \u001b[91mns3m\u001b[0m \u001b[91mfuu\u001b[0m\n",
            "1.0       2 \u001b[91mpoker\u001b[0m room \u001b[91mfallacy\u001b[0m think term comparison \u001b[91mromance\u001b[0m novel may correct may difference interest comparison \u001b[91mbarrier\u001b[0m men buy \u001b[91mromance\u001b[0m novel woman \u001b[91mbrace\u001b[0m\n",
            "1.0       woman shouldnt sex reasonable answer save kid life citizen shouldnt deadly weapon save kid life completely insane concept\n",
            "0.0       woman shouldnt share trauma story feel empathy way theyre feeling today stand deserve choice \u001b[91mjunta\u001b[0m si \u001b[91mpodemos\u001b[0m\n",
            "0.0       little woman \u001b[91matlanta\u001b[0m star \u001b[91mm\u001b[0m juicy reveals health struggle \u001b[91mastroke\u001b[0m\n",
            "1.0       look like \u001b[91mbitchwell\u001b[0m move \u001b[91mkz\u001b[0m dont like\n",
            "1.0       \u001b[91mgenration\u001b[0m selfish cunt matter genuine right thing still make look like cunt getting worse people ask dont bother anyone\n",
            "0.0       dont know youre point shouldnt \u001b[91mmock\u001b[0m people look \u001b[91mshallow\u001b[0m make look like cunt thanks \u001b[91minput\u001b[0m though\n"
          ]
        }
      ]
    },
    {
      "cell_type": "markdown",
      "metadata": {
        "id": "P42XYjb6K3k5"
      },
      "source": [
        "# [Task 8 - 0.5 points] Report\n",
        "\n",
        "Wrap up your experiment in a short report (up to 2 pages)."
      ]
    },
    {
      "cell_type": "markdown",
      "metadata": {
        "id": "N9oXSaW1K5S7"
      },
      "source": [
        "### Instructions\n",
        "\n",
        "* Use the NLP course report template.\n",
        "* Summarize each task in the report following the provided template."
      ]
    },
    {
      "cell_type": "markdown",
      "metadata": {
        "id": "MHw2L6PlLDyE"
      },
      "source": [
        "### Recommendations\n",
        "\n",
        "The report is not a copy-paste of graphs, tables, and command outputs.\n",
        "\n",
        "* Summarize classification performance in Table format.\n",
        "* **Do not** report command outputs or screenshots.\n",
        "* Report learning curves in Figure format.\n",
        "* The error analysis section should summarize your findings.\n"
      ]
    },
    {
      "cell_type": "markdown",
      "metadata": {
        "id": "bMUqh1utLflM"
      },
      "source": [
        "# Submission\n",
        "\n",
        "* **Submit** your report in PDF format.\n",
        "* **Submit** your python notebook.\n",
        "* Make sure your notebook is **well organized**, with no temporary code, commented sections, tests, etc...\n",
        "* You can upload **model weights** in a cloud repository and report the link in the report."
      ]
    },
    {
      "cell_type": "markdown",
      "metadata": {
        "id": "ypagJed7LheY"
      },
      "source": [
        "# FAQ\n",
        "\n",
        "Please check this frequently asked questions before contacting us"
      ]
    },
    {
      "cell_type": "markdown",
      "metadata": {
        "id": "bgtFwKXMLjww"
      },
      "source": [
        "### Execution Order\n",
        "\n",
        "You are **free** to address tasks in any order (if multiple orderings are available)."
      ]
    },
    {
      "cell_type": "markdown",
      "metadata": {
        "id": "_BjMk5e_M4n7"
      },
      "source": [
        "### Trainable Embeddings\n",
        "\n",
        "You are **free** to define a trainable or non-trainable Embedding layer to load the GloVe embeddings."
      ]
    },
    {
      "cell_type": "markdown",
      "metadata": {
        "id": "e8TVgpYlM6s5"
      },
      "source": [
        "### Model architecture\n",
        "\n",
        "You **should not** change the architecture of a model (i.e., its layers).\n",
        "However, you are **free** to play with their hyper-parameters.\n"
      ]
    },
    {
      "cell_type": "markdown",
      "metadata": {
        "id": "Ia6IapI1M_A7"
      },
      "source": [
        "### Neural Libraries\n",
        "\n",
        "You are **free** to use any library of your choice to implement the networks (e.g., Keras, Tensorflow, PyTorch, JAX, etc...)"
      ]
    },
    {
      "cell_type": "markdown",
      "metadata": {
        "id": "bWDaW8DyNBu5"
      },
      "source": [
        "### Keras TimeDistributed Dense layer\n",
        "\n",
        "If you are using Keras, we recommend wrapping the final Dense layer with `TimeDistributed`."
      ]
    },
    {
      "cell_type": "markdown",
      "metadata": {
        "id": "R1WcrpemNEQm"
      },
      "source": [
        "### Robust Evaluation\n",
        "\n",
        "Each model is trained with at least 3 random seeds.\n",
        "\n",
        "Task 4 requires you to compute the average performance over the 3 seeds and its corresponding standard deviation."
      ]
    },
    {
      "cell_type": "markdown",
      "metadata": {
        "id": "_mVe5dqzNI_u"
      },
      "source": [
        "### Model Selection for Analysis\n",
        "\n",
        "To carry out the error analysis you are **free** to either\n",
        "\n",
        "* Pick examples or perform comparisons with an individual seed run model (e.g., Baseline seed 1337)\n",
        "* Perform ensembling via, for instance, majority voting to obtain a single model."
      ]
    },
    {
      "cell_type": "markdown",
      "metadata": {
        "id": "L8a4pDKSNKzI"
      },
      "source": [
        "### Error Analysis\n",
        "\n",
        "Some topics for discussion include:\n",
        "   * Precision/Recall curves.\n",
        "   * Confusion matrices.\n",
        "   * Specific misclassified samples."
      ]
    },
    {
      "cell_type": "markdown",
      "metadata": {
        "collapsed": false,
        "id": "3hvMbxqxlktT"
      },
      "source": [
        "### Bonus Points\n",
        "Bonus points are arbitrarily assigned based on significant contributions such as:\n",
        "- Outstanding error analysis\n",
        "- Masterclass code organization\n",
        "- Suitable extensions\n",
        "Note that bonus points are only assigned if all task points are attributed (i.e., 6/6).\n",
        "\n",
        "**Possible Extensions/Explorations for Bonus Points:**\n",
        "- **Try other preprocessing strategies**: e.g., but not limited to, explore techniques tailored specifically for tweets or  methods that are common in social media text.\n",
        "- **Experiment with other custom architectures or models from HuggingFace**\n",
        "- **Explore Spanish tweets**: e.g., but not limited to, leverage multilingual models to process Spanish tweets and assess their performance compared to monolingual models.\n",
        "\n"
      ]
    },
    {
      "cell_type": "markdown",
      "metadata": {
        "id": "8xmMKE7vLu-y"
      },
      "source": [
        "\n",
        "\n",
        "\n",
        "\n",
        "# The End"
      ]
    }
  ],
  "metadata": {
    "colab": {
      "provenance": [],
      "gpuType": "T4",
      "collapsed_sections": [
        "fceDGW-np8LN"
      ]
    },
    "kernelspec": {
      "display_name": "Python 3",
      "name": "python3"
    },
    "language_info": {
      "codemirror_mode": {
        "name": "ipython",
        "version": 3
      },
      "file_extension": ".py",
      "mimetype": "text/x-python",
      "name": "python",
      "nbconvert_exporter": "python",
      "pygments_lexer": "ipython3",
      "version": "3.13.0"
    },
    "widgets": {
      "application/vnd.jupyter.widget-state+json": {
        "15c1d63f4c77433ba9c755c3d7669a09": {
          "model_module": "@jupyter-widgets/controls",
          "model_name": "HBoxModel",
          "model_module_version": "1.5.0",
          "state": {
            "_dom_classes": [],
            "_model_module": "@jupyter-widgets/controls",
            "_model_module_version": "1.5.0",
            "_model_name": "HBoxModel",
            "_view_count": null,
            "_view_module": "@jupyter-widgets/controls",
            "_view_module_version": "1.5.0",
            "_view_name": "HBoxView",
            "box_style": "",
            "children": [
              "IPY_MODEL_dab4140576af47dead0be906b94ed5d3",
              "IPY_MODEL_93e1ecbd95eb47e5a017a3358f948933",
              "IPY_MODEL_ee99c5b7c35146d0952d44eb56adfe45"
            ],
            "layout": "IPY_MODEL_0715036116eb41ba97100ec9af0edcf5"
          }
        },
        "dab4140576af47dead0be906b94ed5d3": {
          "model_module": "@jupyter-widgets/controls",
          "model_name": "HTMLModel",
          "model_module_version": "1.5.0",
          "state": {
            "_dom_classes": [],
            "_model_module": "@jupyter-widgets/controls",
            "_model_module_version": "1.5.0",
            "_model_name": "HTMLModel",
            "_view_count": null,
            "_view_module": "@jupyter-widgets/controls",
            "_view_module_version": "1.5.0",
            "_view_name": "HTMLView",
            "description": "",
            "description_tooltip": null,
            "layout": "IPY_MODEL_2e8007d6ecaa46f5a48d524ea37745eb",
            "placeholder": "​",
            "style": "IPY_MODEL_69f9355959b04282a29370615320b4f7",
            "value": "Map: 100%"
          }
        },
        "93e1ecbd95eb47e5a017a3358f948933": {
          "model_module": "@jupyter-widgets/controls",
          "model_name": "FloatProgressModel",
          "model_module_version": "1.5.0",
          "state": {
            "_dom_classes": [],
            "_model_module": "@jupyter-widgets/controls",
            "_model_module_version": "1.5.0",
            "_model_name": "FloatProgressModel",
            "_view_count": null,
            "_view_module": "@jupyter-widgets/controls",
            "_view_module_version": "1.5.0",
            "_view_name": "ProgressView",
            "bar_style": "success",
            "description": "",
            "description_tooltip": null,
            "layout": "IPY_MODEL_1de674254b1f4e61a5797a2a5374d3ff",
            "max": 2870,
            "min": 0,
            "orientation": "horizontal",
            "style": "IPY_MODEL_65cbb2c235c94ffda01b711331becd93",
            "value": 2870
          }
        },
        "ee99c5b7c35146d0952d44eb56adfe45": {
          "model_module": "@jupyter-widgets/controls",
          "model_name": "HTMLModel",
          "model_module_version": "1.5.0",
          "state": {
            "_dom_classes": [],
            "_model_module": "@jupyter-widgets/controls",
            "_model_module_version": "1.5.0",
            "_model_name": "HTMLModel",
            "_view_count": null,
            "_view_module": "@jupyter-widgets/controls",
            "_view_module_version": "1.5.0",
            "_view_name": "HTMLView",
            "description": "",
            "description_tooltip": null,
            "layout": "IPY_MODEL_03aea5a0032a4b3ebd6f816c54119822",
            "placeholder": "​",
            "style": "IPY_MODEL_7c244ca4c8164c63a1a4a5835cc0d75c",
            "value": " 2870/2870 [00:01&lt;00:00, 2591.62 examples/s]"
          }
        },
        "0715036116eb41ba97100ec9af0edcf5": {
          "model_module": "@jupyter-widgets/base",
          "model_name": "LayoutModel",
          "model_module_version": "1.2.0",
          "state": {
            "_model_module": "@jupyter-widgets/base",
            "_model_module_version": "1.2.0",
            "_model_name": "LayoutModel",
            "_view_count": null,
            "_view_module": "@jupyter-widgets/base",
            "_view_module_version": "1.2.0",
            "_view_name": "LayoutView",
            "align_content": null,
            "align_items": null,
            "align_self": null,
            "border": null,
            "bottom": null,
            "display": null,
            "flex": null,
            "flex_flow": null,
            "grid_area": null,
            "grid_auto_columns": null,
            "grid_auto_flow": null,
            "grid_auto_rows": null,
            "grid_column": null,
            "grid_gap": null,
            "grid_row": null,
            "grid_template_areas": null,
            "grid_template_columns": null,
            "grid_template_rows": null,
            "height": null,
            "justify_content": null,
            "justify_items": null,
            "left": null,
            "margin": null,
            "max_height": null,
            "max_width": null,
            "min_height": null,
            "min_width": null,
            "object_fit": null,
            "object_position": null,
            "order": null,
            "overflow": null,
            "overflow_x": null,
            "overflow_y": null,
            "padding": null,
            "right": null,
            "top": null,
            "visibility": null,
            "width": null
          }
        },
        "2e8007d6ecaa46f5a48d524ea37745eb": {
          "model_module": "@jupyter-widgets/base",
          "model_name": "LayoutModel",
          "model_module_version": "1.2.0",
          "state": {
            "_model_module": "@jupyter-widgets/base",
            "_model_module_version": "1.2.0",
            "_model_name": "LayoutModel",
            "_view_count": null,
            "_view_module": "@jupyter-widgets/base",
            "_view_module_version": "1.2.0",
            "_view_name": "LayoutView",
            "align_content": null,
            "align_items": null,
            "align_self": null,
            "border": null,
            "bottom": null,
            "display": null,
            "flex": null,
            "flex_flow": null,
            "grid_area": null,
            "grid_auto_columns": null,
            "grid_auto_flow": null,
            "grid_auto_rows": null,
            "grid_column": null,
            "grid_gap": null,
            "grid_row": null,
            "grid_template_areas": null,
            "grid_template_columns": null,
            "grid_template_rows": null,
            "height": null,
            "justify_content": null,
            "justify_items": null,
            "left": null,
            "margin": null,
            "max_height": null,
            "max_width": null,
            "min_height": null,
            "min_width": null,
            "object_fit": null,
            "object_position": null,
            "order": null,
            "overflow": null,
            "overflow_x": null,
            "overflow_y": null,
            "padding": null,
            "right": null,
            "top": null,
            "visibility": null,
            "width": null
          }
        },
        "69f9355959b04282a29370615320b4f7": {
          "model_module": "@jupyter-widgets/controls",
          "model_name": "DescriptionStyleModel",
          "model_module_version": "1.5.0",
          "state": {
            "_model_module": "@jupyter-widgets/controls",
            "_model_module_version": "1.5.0",
            "_model_name": "DescriptionStyleModel",
            "_view_count": null,
            "_view_module": "@jupyter-widgets/base",
            "_view_module_version": "1.2.0",
            "_view_name": "StyleView",
            "description_width": ""
          }
        },
        "1de674254b1f4e61a5797a2a5374d3ff": {
          "model_module": "@jupyter-widgets/base",
          "model_name": "LayoutModel",
          "model_module_version": "1.2.0",
          "state": {
            "_model_module": "@jupyter-widgets/base",
            "_model_module_version": "1.2.0",
            "_model_name": "LayoutModel",
            "_view_count": null,
            "_view_module": "@jupyter-widgets/base",
            "_view_module_version": "1.2.0",
            "_view_name": "LayoutView",
            "align_content": null,
            "align_items": null,
            "align_self": null,
            "border": null,
            "bottom": null,
            "display": null,
            "flex": null,
            "flex_flow": null,
            "grid_area": null,
            "grid_auto_columns": null,
            "grid_auto_flow": null,
            "grid_auto_rows": null,
            "grid_column": null,
            "grid_gap": null,
            "grid_row": null,
            "grid_template_areas": null,
            "grid_template_columns": null,
            "grid_template_rows": null,
            "height": null,
            "justify_content": null,
            "justify_items": null,
            "left": null,
            "margin": null,
            "max_height": null,
            "max_width": null,
            "min_height": null,
            "min_width": null,
            "object_fit": null,
            "object_position": null,
            "order": null,
            "overflow": null,
            "overflow_x": null,
            "overflow_y": null,
            "padding": null,
            "right": null,
            "top": null,
            "visibility": null,
            "width": null
          }
        },
        "65cbb2c235c94ffda01b711331becd93": {
          "model_module": "@jupyter-widgets/controls",
          "model_name": "ProgressStyleModel",
          "model_module_version": "1.5.0",
          "state": {
            "_model_module": "@jupyter-widgets/controls",
            "_model_module_version": "1.5.0",
            "_model_name": "ProgressStyleModel",
            "_view_count": null,
            "_view_module": "@jupyter-widgets/base",
            "_view_module_version": "1.2.0",
            "_view_name": "StyleView",
            "bar_color": null,
            "description_width": ""
          }
        },
        "03aea5a0032a4b3ebd6f816c54119822": {
          "model_module": "@jupyter-widgets/base",
          "model_name": "LayoutModel",
          "model_module_version": "1.2.0",
          "state": {
            "_model_module": "@jupyter-widgets/base",
            "_model_module_version": "1.2.0",
            "_model_name": "LayoutModel",
            "_view_count": null,
            "_view_module": "@jupyter-widgets/base",
            "_view_module_version": "1.2.0",
            "_view_name": "LayoutView",
            "align_content": null,
            "align_items": null,
            "align_self": null,
            "border": null,
            "bottom": null,
            "display": null,
            "flex": null,
            "flex_flow": null,
            "grid_area": null,
            "grid_auto_columns": null,
            "grid_auto_flow": null,
            "grid_auto_rows": null,
            "grid_column": null,
            "grid_gap": null,
            "grid_row": null,
            "grid_template_areas": null,
            "grid_template_columns": null,
            "grid_template_rows": null,
            "height": null,
            "justify_content": null,
            "justify_items": null,
            "left": null,
            "margin": null,
            "max_height": null,
            "max_width": null,
            "min_height": null,
            "min_width": null,
            "object_fit": null,
            "object_position": null,
            "order": null,
            "overflow": null,
            "overflow_x": null,
            "overflow_y": null,
            "padding": null,
            "right": null,
            "top": null,
            "visibility": null,
            "width": null
          }
        },
        "7c244ca4c8164c63a1a4a5835cc0d75c": {
          "model_module": "@jupyter-widgets/controls",
          "model_name": "DescriptionStyleModel",
          "model_module_version": "1.5.0",
          "state": {
            "_model_module": "@jupyter-widgets/controls",
            "_model_module_version": "1.5.0",
            "_model_name": "DescriptionStyleModel",
            "_view_count": null,
            "_view_module": "@jupyter-widgets/base",
            "_view_module_version": "1.2.0",
            "_view_name": "StyleView",
            "description_width": ""
          }
        },
        "ba012e68b81144b5ba0c2b78386e7463": {
          "model_module": "@jupyter-widgets/controls",
          "model_name": "HBoxModel",
          "model_module_version": "1.5.0",
          "state": {
            "_dom_classes": [],
            "_model_module": "@jupyter-widgets/controls",
            "_model_module_version": "1.5.0",
            "_model_name": "HBoxModel",
            "_view_count": null,
            "_view_module": "@jupyter-widgets/controls",
            "_view_module_version": "1.5.0",
            "_view_name": "HBoxView",
            "box_style": "",
            "children": [
              "IPY_MODEL_1df74724b2604a5395333cc72e1e4381",
              "IPY_MODEL_4dc1c99399f6407d8e0baf9f512f0bbd",
              "IPY_MODEL_d6bba01c60484640997615474132b26e"
            ],
            "layout": "IPY_MODEL_b80ce40da9ec4ec58e635b4b4fc3ba9e"
          }
        },
        "1df74724b2604a5395333cc72e1e4381": {
          "model_module": "@jupyter-widgets/controls",
          "model_name": "HTMLModel",
          "model_module_version": "1.5.0",
          "state": {
            "_dom_classes": [],
            "_model_module": "@jupyter-widgets/controls",
            "_model_module_version": "1.5.0",
            "_model_name": "HTMLModel",
            "_view_count": null,
            "_view_module": "@jupyter-widgets/controls",
            "_view_module_version": "1.5.0",
            "_view_name": "HTMLView",
            "description": "",
            "description_tooltip": null,
            "layout": "IPY_MODEL_7596b6b95ece411aa744a5440375d320",
            "placeholder": "​",
            "style": "IPY_MODEL_4d94d8ab3aa04d078a16a88dc7dca26c",
            "value": "Map: 100%"
          }
        },
        "4dc1c99399f6407d8e0baf9f512f0bbd": {
          "model_module": "@jupyter-widgets/controls",
          "model_name": "FloatProgressModel",
          "model_module_version": "1.5.0",
          "state": {
            "_dom_classes": [],
            "_model_module": "@jupyter-widgets/controls",
            "_model_module_version": "1.5.0",
            "_model_name": "FloatProgressModel",
            "_view_count": null,
            "_view_module": "@jupyter-widgets/controls",
            "_view_module_version": "1.5.0",
            "_view_name": "ProgressView",
            "bar_style": "success",
            "description": "",
            "description_tooltip": null,
            "layout": "IPY_MODEL_a9f6e1544c5b43159d9b6419cbe4687a",
            "max": 158,
            "min": 0,
            "orientation": "horizontal",
            "style": "IPY_MODEL_49131f1022964e18833ce9ded9b003c0",
            "value": 158
          }
        },
        "d6bba01c60484640997615474132b26e": {
          "model_module": "@jupyter-widgets/controls",
          "model_name": "HTMLModel",
          "model_module_version": "1.5.0",
          "state": {
            "_dom_classes": [],
            "_model_module": "@jupyter-widgets/controls",
            "_model_module_version": "1.5.0",
            "_model_name": "HTMLModel",
            "_view_count": null,
            "_view_module": "@jupyter-widgets/controls",
            "_view_module_version": "1.5.0",
            "_view_name": "HTMLView",
            "description": "",
            "description_tooltip": null,
            "layout": "IPY_MODEL_a4ef76a8d43240aa84faddfac9ec95ab",
            "placeholder": "​",
            "style": "IPY_MODEL_c89bbc66578c4d09b664868a0f77bd1a",
            "value": " 158/158 [00:00&lt;00:00, 1484.29 examples/s]"
          }
        },
        "b80ce40da9ec4ec58e635b4b4fc3ba9e": {
          "model_module": "@jupyter-widgets/base",
          "model_name": "LayoutModel",
          "model_module_version": "1.2.0",
          "state": {
            "_model_module": "@jupyter-widgets/base",
            "_model_module_version": "1.2.0",
            "_model_name": "LayoutModel",
            "_view_count": null,
            "_view_module": "@jupyter-widgets/base",
            "_view_module_version": "1.2.0",
            "_view_name": "LayoutView",
            "align_content": null,
            "align_items": null,
            "align_self": null,
            "border": null,
            "bottom": null,
            "display": null,
            "flex": null,
            "flex_flow": null,
            "grid_area": null,
            "grid_auto_columns": null,
            "grid_auto_flow": null,
            "grid_auto_rows": null,
            "grid_column": null,
            "grid_gap": null,
            "grid_row": null,
            "grid_template_areas": null,
            "grid_template_columns": null,
            "grid_template_rows": null,
            "height": null,
            "justify_content": null,
            "justify_items": null,
            "left": null,
            "margin": null,
            "max_height": null,
            "max_width": null,
            "min_height": null,
            "min_width": null,
            "object_fit": null,
            "object_position": null,
            "order": null,
            "overflow": null,
            "overflow_x": null,
            "overflow_y": null,
            "padding": null,
            "right": null,
            "top": null,
            "visibility": null,
            "width": null
          }
        },
        "7596b6b95ece411aa744a5440375d320": {
          "model_module": "@jupyter-widgets/base",
          "model_name": "LayoutModel",
          "model_module_version": "1.2.0",
          "state": {
            "_model_module": "@jupyter-widgets/base",
            "_model_module_version": "1.2.0",
            "_model_name": "LayoutModel",
            "_view_count": null,
            "_view_module": "@jupyter-widgets/base",
            "_view_module_version": "1.2.0",
            "_view_name": "LayoutView",
            "align_content": null,
            "align_items": null,
            "align_self": null,
            "border": null,
            "bottom": null,
            "display": null,
            "flex": null,
            "flex_flow": null,
            "grid_area": null,
            "grid_auto_columns": null,
            "grid_auto_flow": null,
            "grid_auto_rows": null,
            "grid_column": null,
            "grid_gap": null,
            "grid_row": null,
            "grid_template_areas": null,
            "grid_template_columns": null,
            "grid_template_rows": null,
            "height": null,
            "justify_content": null,
            "justify_items": null,
            "left": null,
            "margin": null,
            "max_height": null,
            "max_width": null,
            "min_height": null,
            "min_width": null,
            "object_fit": null,
            "object_position": null,
            "order": null,
            "overflow": null,
            "overflow_x": null,
            "overflow_y": null,
            "padding": null,
            "right": null,
            "top": null,
            "visibility": null,
            "width": null
          }
        },
        "4d94d8ab3aa04d078a16a88dc7dca26c": {
          "model_module": "@jupyter-widgets/controls",
          "model_name": "DescriptionStyleModel",
          "model_module_version": "1.5.0",
          "state": {
            "_model_module": "@jupyter-widgets/controls",
            "_model_module_version": "1.5.0",
            "_model_name": "DescriptionStyleModel",
            "_view_count": null,
            "_view_module": "@jupyter-widgets/base",
            "_view_module_version": "1.2.0",
            "_view_name": "StyleView",
            "description_width": ""
          }
        },
        "a9f6e1544c5b43159d9b6419cbe4687a": {
          "model_module": "@jupyter-widgets/base",
          "model_name": "LayoutModel",
          "model_module_version": "1.2.0",
          "state": {
            "_model_module": "@jupyter-widgets/base",
            "_model_module_version": "1.2.0",
            "_model_name": "LayoutModel",
            "_view_count": null,
            "_view_module": "@jupyter-widgets/base",
            "_view_module_version": "1.2.0",
            "_view_name": "LayoutView",
            "align_content": null,
            "align_items": null,
            "align_self": null,
            "border": null,
            "bottom": null,
            "display": null,
            "flex": null,
            "flex_flow": null,
            "grid_area": null,
            "grid_auto_columns": null,
            "grid_auto_flow": null,
            "grid_auto_rows": null,
            "grid_column": null,
            "grid_gap": null,
            "grid_row": null,
            "grid_template_areas": null,
            "grid_template_columns": null,
            "grid_template_rows": null,
            "height": null,
            "justify_content": null,
            "justify_items": null,
            "left": null,
            "margin": null,
            "max_height": null,
            "max_width": null,
            "min_height": null,
            "min_width": null,
            "object_fit": null,
            "object_position": null,
            "order": null,
            "overflow": null,
            "overflow_x": null,
            "overflow_y": null,
            "padding": null,
            "right": null,
            "top": null,
            "visibility": null,
            "width": null
          }
        },
        "49131f1022964e18833ce9ded9b003c0": {
          "model_module": "@jupyter-widgets/controls",
          "model_name": "ProgressStyleModel",
          "model_module_version": "1.5.0",
          "state": {
            "_model_module": "@jupyter-widgets/controls",
            "_model_module_version": "1.5.0",
            "_model_name": "ProgressStyleModel",
            "_view_count": null,
            "_view_module": "@jupyter-widgets/base",
            "_view_module_version": "1.2.0",
            "_view_name": "StyleView",
            "bar_color": null,
            "description_width": ""
          }
        },
        "a4ef76a8d43240aa84faddfac9ec95ab": {
          "model_module": "@jupyter-widgets/base",
          "model_name": "LayoutModel",
          "model_module_version": "1.2.0",
          "state": {
            "_model_module": "@jupyter-widgets/base",
            "_model_module_version": "1.2.0",
            "_model_name": "LayoutModel",
            "_view_count": null,
            "_view_module": "@jupyter-widgets/base",
            "_view_module_version": "1.2.0",
            "_view_name": "LayoutView",
            "align_content": null,
            "align_items": null,
            "align_self": null,
            "border": null,
            "bottom": null,
            "display": null,
            "flex": null,
            "flex_flow": null,
            "grid_area": null,
            "grid_auto_columns": null,
            "grid_auto_flow": null,
            "grid_auto_rows": null,
            "grid_column": null,
            "grid_gap": null,
            "grid_row": null,
            "grid_template_areas": null,
            "grid_template_columns": null,
            "grid_template_rows": null,
            "height": null,
            "justify_content": null,
            "justify_items": null,
            "left": null,
            "margin": null,
            "max_height": null,
            "max_width": null,
            "min_height": null,
            "min_width": null,
            "object_fit": null,
            "object_position": null,
            "order": null,
            "overflow": null,
            "overflow_x": null,
            "overflow_y": null,
            "padding": null,
            "right": null,
            "top": null,
            "visibility": null,
            "width": null
          }
        },
        "c89bbc66578c4d09b664868a0f77bd1a": {
          "model_module": "@jupyter-widgets/controls",
          "model_name": "DescriptionStyleModel",
          "model_module_version": "1.5.0",
          "state": {
            "_model_module": "@jupyter-widgets/controls",
            "_model_module_version": "1.5.0",
            "_model_name": "DescriptionStyleModel",
            "_view_count": null,
            "_view_module": "@jupyter-widgets/base",
            "_view_module_version": "1.2.0",
            "_view_name": "StyleView",
            "description_width": ""
          }
        },
        "fbd56bcb73f84cd7bb67fff10b030b48": {
          "model_module": "@jupyter-widgets/controls",
          "model_name": "HBoxModel",
          "model_module_version": "1.5.0",
          "state": {
            "_dom_classes": [],
            "_model_module": "@jupyter-widgets/controls",
            "_model_module_version": "1.5.0",
            "_model_name": "HBoxModel",
            "_view_count": null,
            "_view_module": "@jupyter-widgets/controls",
            "_view_module_version": "1.5.0",
            "_view_name": "HBoxView",
            "box_style": "",
            "children": [
              "IPY_MODEL_f79961e12d434d45a141bba083ed2c03",
              "IPY_MODEL_6d79f41922c444c2a31073d5ad6d9c3c",
              "IPY_MODEL_9b3a16d9e3c54ab5bef49a036e37015d"
            ],
            "layout": "IPY_MODEL_ac6f9d12f4144e27a2f76118dfe8a704"
          }
        },
        "f79961e12d434d45a141bba083ed2c03": {
          "model_module": "@jupyter-widgets/controls",
          "model_name": "HTMLModel",
          "model_module_version": "1.5.0",
          "state": {
            "_dom_classes": [],
            "_model_module": "@jupyter-widgets/controls",
            "_model_module_version": "1.5.0",
            "_model_name": "HTMLModel",
            "_view_count": null,
            "_view_module": "@jupyter-widgets/controls",
            "_view_module_version": "1.5.0",
            "_view_name": "HTMLView",
            "description": "",
            "description_tooltip": null,
            "layout": "IPY_MODEL_57477fa58b714bb5852e5d390df837b5",
            "placeholder": "​",
            "style": "IPY_MODEL_861dd082d7e84a74a97db572072f3b15",
            "value": "Map: 100%"
          }
        },
        "6d79f41922c444c2a31073d5ad6d9c3c": {
          "model_module": "@jupyter-widgets/controls",
          "model_name": "FloatProgressModel",
          "model_module_version": "1.5.0",
          "state": {
            "_dom_classes": [],
            "_model_module": "@jupyter-widgets/controls",
            "_model_module_version": "1.5.0",
            "_model_name": "FloatProgressModel",
            "_view_count": null,
            "_view_module": "@jupyter-widgets/controls",
            "_view_module_version": "1.5.0",
            "_view_name": "ProgressView",
            "bar_style": "success",
            "description": "",
            "description_tooltip": null,
            "layout": "IPY_MODEL_46cd5e39e82e44089a1cc83bee05d4ab",
            "max": 286,
            "min": 0,
            "orientation": "horizontal",
            "style": "IPY_MODEL_52aaffb5414745f6aec701941ba2b048",
            "value": 286
          }
        },
        "9b3a16d9e3c54ab5bef49a036e37015d": {
          "model_module": "@jupyter-widgets/controls",
          "model_name": "HTMLModel",
          "model_module_version": "1.5.0",
          "state": {
            "_dom_classes": [],
            "_model_module": "@jupyter-widgets/controls",
            "_model_module_version": "1.5.0",
            "_model_name": "HTMLModel",
            "_view_count": null,
            "_view_module": "@jupyter-widgets/controls",
            "_view_module_version": "1.5.0",
            "_view_name": "HTMLView",
            "description": "",
            "description_tooltip": null,
            "layout": "IPY_MODEL_63151bf931ad4c2686a2985bdcddd168",
            "placeholder": "​",
            "style": "IPY_MODEL_34da3db34d164978a130fea8e708b44c",
            "value": " 286/286 [00:00&lt;00:00, 1232.16 examples/s]"
          }
        },
        "ac6f9d12f4144e27a2f76118dfe8a704": {
          "model_module": "@jupyter-widgets/base",
          "model_name": "LayoutModel",
          "model_module_version": "1.2.0",
          "state": {
            "_model_module": "@jupyter-widgets/base",
            "_model_module_version": "1.2.0",
            "_model_name": "LayoutModel",
            "_view_count": null,
            "_view_module": "@jupyter-widgets/base",
            "_view_module_version": "1.2.0",
            "_view_name": "LayoutView",
            "align_content": null,
            "align_items": null,
            "align_self": null,
            "border": null,
            "bottom": null,
            "display": null,
            "flex": null,
            "flex_flow": null,
            "grid_area": null,
            "grid_auto_columns": null,
            "grid_auto_flow": null,
            "grid_auto_rows": null,
            "grid_column": null,
            "grid_gap": null,
            "grid_row": null,
            "grid_template_areas": null,
            "grid_template_columns": null,
            "grid_template_rows": null,
            "height": null,
            "justify_content": null,
            "justify_items": null,
            "left": null,
            "margin": null,
            "max_height": null,
            "max_width": null,
            "min_height": null,
            "min_width": null,
            "object_fit": null,
            "object_position": null,
            "order": null,
            "overflow": null,
            "overflow_x": null,
            "overflow_y": null,
            "padding": null,
            "right": null,
            "top": null,
            "visibility": null,
            "width": null
          }
        },
        "57477fa58b714bb5852e5d390df837b5": {
          "model_module": "@jupyter-widgets/base",
          "model_name": "LayoutModel",
          "model_module_version": "1.2.0",
          "state": {
            "_model_module": "@jupyter-widgets/base",
            "_model_module_version": "1.2.0",
            "_model_name": "LayoutModel",
            "_view_count": null,
            "_view_module": "@jupyter-widgets/base",
            "_view_module_version": "1.2.0",
            "_view_name": "LayoutView",
            "align_content": null,
            "align_items": null,
            "align_self": null,
            "border": null,
            "bottom": null,
            "display": null,
            "flex": null,
            "flex_flow": null,
            "grid_area": null,
            "grid_auto_columns": null,
            "grid_auto_flow": null,
            "grid_auto_rows": null,
            "grid_column": null,
            "grid_gap": null,
            "grid_row": null,
            "grid_template_areas": null,
            "grid_template_columns": null,
            "grid_template_rows": null,
            "height": null,
            "justify_content": null,
            "justify_items": null,
            "left": null,
            "margin": null,
            "max_height": null,
            "max_width": null,
            "min_height": null,
            "min_width": null,
            "object_fit": null,
            "object_position": null,
            "order": null,
            "overflow": null,
            "overflow_x": null,
            "overflow_y": null,
            "padding": null,
            "right": null,
            "top": null,
            "visibility": null,
            "width": null
          }
        },
        "861dd082d7e84a74a97db572072f3b15": {
          "model_module": "@jupyter-widgets/controls",
          "model_name": "DescriptionStyleModel",
          "model_module_version": "1.5.0",
          "state": {
            "_model_module": "@jupyter-widgets/controls",
            "_model_module_version": "1.5.0",
            "_model_name": "DescriptionStyleModel",
            "_view_count": null,
            "_view_module": "@jupyter-widgets/base",
            "_view_module_version": "1.2.0",
            "_view_name": "StyleView",
            "description_width": ""
          }
        },
        "46cd5e39e82e44089a1cc83bee05d4ab": {
          "model_module": "@jupyter-widgets/base",
          "model_name": "LayoutModel",
          "model_module_version": "1.2.0",
          "state": {
            "_model_module": "@jupyter-widgets/base",
            "_model_module_version": "1.2.0",
            "_model_name": "LayoutModel",
            "_view_count": null,
            "_view_module": "@jupyter-widgets/base",
            "_view_module_version": "1.2.0",
            "_view_name": "LayoutView",
            "align_content": null,
            "align_items": null,
            "align_self": null,
            "border": null,
            "bottom": null,
            "display": null,
            "flex": null,
            "flex_flow": null,
            "grid_area": null,
            "grid_auto_columns": null,
            "grid_auto_flow": null,
            "grid_auto_rows": null,
            "grid_column": null,
            "grid_gap": null,
            "grid_row": null,
            "grid_template_areas": null,
            "grid_template_columns": null,
            "grid_template_rows": null,
            "height": null,
            "justify_content": null,
            "justify_items": null,
            "left": null,
            "margin": null,
            "max_height": null,
            "max_width": null,
            "min_height": null,
            "min_width": null,
            "object_fit": null,
            "object_position": null,
            "order": null,
            "overflow": null,
            "overflow_x": null,
            "overflow_y": null,
            "padding": null,
            "right": null,
            "top": null,
            "visibility": null,
            "width": null
          }
        },
        "52aaffb5414745f6aec701941ba2b048": {
          "model_module": "@jupyter-widgets/controls",
          "model_name": "ProgressStyleModel",
          "model_module_version": "1.5.0",
          "state": {
            "_model_module": "@jupyter-widgets/controls",
            "_model_module_version": "1.5.0",
            "_model_name": "ProgressStyleModel",
            "_view_count": null,
            "_view_module": "@jupyter-widgets/base",
            "_view_module_version": "1.2.0",
            "_view_name": "StyleView",
            "bar_color": null,
            "description_width": ""
          }
        },
        "63151bf931ad4c2686a2985bdcddd168": {
          "model_module": "@jupyter-widgets/base",
          "model_name": "LayoutModel",
          "model_module_version": "1.2.0",
          "state": {
            "_model_module": "@jupyter-widgets/base",
            "_model_module_version": "1.2.0",
            "_model_name": "LayoutModel",
            "_view_count": null,
            "_view_module": "@jupyter-widgets/base",
            "_view_module_version": "1.2.0",
            "_view_name": "LayoutView",
            "align_content": null,
            "align_items": null,
            "align_self": null,
            "border": null,
            "bottom": null,
            "display": null,
            "flex": null,
            "flex_flow": null,
            "grid_area": null,
            "grid_auto_columns": null,
            "grid_auto_flow": null,
            "grid_auto_rows": null,
            "grid_column": null,
            "grid_gap": null,
            "grid_row": null,
            "grid_template_areas": null,
            "grid_template_columns": null,
            "grid_template_rows": null,
            "height": null,
            "justify_content": null,
            "justify_items": null,
            "left": null,
            "margin": null,
            "max_height": null,
            "max_width": null,
            "min_height": null,
            "min_width": null,
            "object_fit": null,
            "object_position": null,
            "order": null,
            "overflow": null,
            "overflow_x": null,
            "overflow_y": null,
            "padding": null,
            "right": null,
            "top": null,
            "visibility": null,
            "width": null
          }
        },
        "34da3db34d164978a130fea8e708b44c": {
          "model_module": "@jupyter-widgets/controls",
          "model_name": "DescriptionStyleModel",
          "model_module_version": "1.5.0",
          "state": {
            "_model_module": "@jupyter-widgets/controls",
            "_model_module_version": "1.5.0",
            "_model_name": "DescriptionStyleModel",
            "_view_count": null,
            "_view_module": "@jupyter-widgets/base",
            "_view_module_version": "1.2.0",
            "_view_name": "StyleView",
            "description_width": ""
          }
        }
      }
    },
    "accelerator": "GPU"
  },
  "nbformat": 4,
  "nbformat_minor": 0
}